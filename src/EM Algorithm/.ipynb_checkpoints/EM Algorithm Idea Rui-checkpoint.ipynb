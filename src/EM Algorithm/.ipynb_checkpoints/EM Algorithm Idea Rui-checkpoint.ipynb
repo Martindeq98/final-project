{
 "cells": [
  {
   "cell_type": "code",
   "execution_count": 556,
   "id": "7d1a6ebf",
   "metadata": {},
   "outputs": [],
   "source": [
    "import numpy as np\n",
    "import matplotlib.pyplot as plt\n",
    "from scipy import optimize"
   ]
  },
  {
   "cell_type": "markdown",
   "id": "94b268a2",
   "metadata": {},
   "source": [
    "## Idea:\n",
    "Our model is represented as\n",
    "$$X_t= P^{-1}APX_{t-1}+W_t,$$\n",
    "Where $W_t$ are i.i.d. normal (to keep things simply let’s say $\\mathcal{N}(0,I)$), and $A$ is lower triangular. "
   ]
  },
  {
   "cell_type": "code",
   "execution_count": 564,
   "id": "061b79ef",
   "metadata": {},
   "outputs": [],
   "source": [
    "def generate_data_nD(length, n, A, P):\n",
    "    \n",
    "    # initialize series\n",
    "    series = np.array(np.zeros((length, n)))\n",
    "    \n",
    "    # get inverse\n",
    "    inv_P = np.linalg.inv(P)\n",
    "    \n",
    "    # generate series\n",
    "    for t in range(1, length):\n",
    "        # generate VAR model\n",
    "        series[t] = np.matmul(inv_P, np.matmul(A, np.matmul(P, series[t - 1])) + np.random.multivariate_normal(np.zeros(n), np.identity(n)))\n",
    "    \n",
    "    return series"
   ]
  },
  {
   "cell_type": "markdown",
   "id": "916f8738",
   "metadata": {},
   "source": [
    "Furthermore, let’s assume $P$ is sampled from a uniform distribution over the set of possible permutations $\\mathcal{P}$. Note that the size of this set is $n!$Given this model, the likelihood of the observations is\n",
    "\n",
    "$$L(A)=\\sum_{p\\in\\mathcal{P}} \\frac{1}{|\\mathcal{P}|} L(A,P) = \\exp(l(A,P)),$$\n",
    "where $l(A, P)$ is the complete log-likelihood. Our goal is to find the lower-triangular matrix $A$ that maximizes $L(A)$ (note this is not the original problem we set to solve). At this point we are “primed” to use the EM algorithm. Let $i$ be the iterations. Let’s start with the $E$-step. Compute the “weight” associated with each permutation matrix:\n",
    "$$W_i^P=\\exp(-1/2\\sum_t \\|X_t-P^{-1}A_i P X_{t-1}\\|^2).$$"
   ]
  },
  {
   "cell_type": "code",
   "execution_count": 565,
   "id": "fab986e7",
   "metadata": {},
   "outputs": [
    {
     "name": "stdout",
     "output_type": "stream",
     "text": [
      "[1.66280932e-10 2.57595312e-07 3.70362577e-15 3.76419481e-11\n",
      " 1.00000000e+00 3.69514779e-06]\n"
     ]
    }
   ],
   "source": [
    "def W(A, P):\n",
    "    \n",
    "    P_inv = np.linalg.inv(P)\n",
    "    \n",
    "    weight = 0\n",
    "\n",
    "    for t in range(1, length):\n",
    "        weight += np.linalg.norm(series[t] - np.matmul(P_inv, np.matmul(A, np.matmul(P, series[t - 1])))) ** 2\n",
    "    \n",
    "    return np.exp(-weight / 2)\n",
    "\n",
    "weights = np.array([])\n",
    "for perm in permutations(np.identity(n)):\n",
    "    #print(perm)\n",
    "    weights = np.append(weights, W(A, perm))\n",
    "    \n",
    "print(weights / np.linalg.norm(weights))"
   ]
  },
  {
   "cell_type": "markdown",
   "id": "101ca40b",
   "metadata": {},
   "source": [
    "This $M$-step finds $A_{i+1}$ by maximizing $h(A)$. Note this is a quadratic function of the elements of $A$.\n",
    "$$h(A)=-\\sum_{p\\in\\mathcal{P}} W_i^{P}\\sum_t \\|X_t-P^{-1}AP X_{t-1}\\|^2$$"
   ]
  },
  {
   "cell_type": "code",
   "execution_count": 566,
   "id": "55dc440f",
   "metadata": {},
   "outputs": [],
   "source": [
    "def h(A_inp):\n",
    "    h_value = 0\n",
    "    \n",
    "    weights = get_W(A)\n",
    "\n",
    "    i = 0\n",
    "    \n",
    "    for perm in permutations(np.identity(n)):\n",
    "        \n",
    "        w = weights[i]\n",
    "        i += 1\n",
    "        \n",
    "        perm_inv = np.linalg.inv(perm)\n",
    "        \n",
    "        for t in range(1, length):\n",
    "            h_value -= w * np.linalg.norm(series[t] - np.matmul(perm_inv, np.matmul(A_inp, np.matmul(perm, series[t - 1])))) ** 2\n",
    "            \n",
    "    return h_value"
   ]
  },
  {
   "cell_type": "code",
   "execution_count": 567,
   "id": "19bc8b34",
   "metadata": {},
   "outputs": [
    {
     "name": "stdout",
     "output_type": "stream",
     "text": [
      "4\n"
     ]
    }
   ],
   "source": [
    "print(r_ind)"
   ]
  },
  {
   "cell_type": "code",
   "execution_count": 880,
   "id": "5d6e4324",
   "metadata": {},
   "outputs": [
    {
     "name": "stdout",
     "output_type": "stream",
     "text": [
      "[[0.93973284 0.         0.        ]\n",
      " [0.17681273 0.27791011 0.        ]\n",
      " [0.13216125 0.65588207 0.2113495 ]] (array([1., 0., 0.]), array([0., 0., 1.]), array([0., 1., 0.]))\n"
     ]
    },
    {
     "data": {
      "image/png": "[encoded data removed]",
      "text/plain": [
       "<Figure size 1152x144 with 1 Axes>"
      ]
     },
     "metadata": {
      "needs_background": "light"
     },
     "output_type": "display_data"
    }
   ],
   "source": [
    "#np.random.seed(seed = 123)\n",
    "\n",
    "length, n = 8, 3\n",
    "\n",
    "# A matrix, lower triangular\n",
    "# A = np.array([[0.8, 0, 0], [0.4, 0.4, 0], [0.3, 0.3, 0.3]])\n",
    "A = np.tril(np.random.rand(n, n))\n",
    "\n",
    "# Permutation matrix\n",
    "P = np.array([[0.0, 1.0, 0.0], [1.0, 0.0, 0.0], [0.0, 0.0, 1.0]])\n",
    "# P = np.identity(n)\n",
    "r_ind = np.random.choice(np.math.factorial(n))\n",
    "P = list(permutations(np.identity(n)))[r_ind]\n",
    "\n",
    "# Generate nD data\n",
    "series = generate_data_nD(length, n, A, P)\n",
    "\n",
    "print(A, P)\n",
    "# Plot\n",
    "plt.figure(figsize=(16,2))\n",
    "plots = plt.plot(series)\n",
    "plt.legend(plots, [\"X\", \"Y\", \"Z\"], loc=1)\n",
    "plt.show()"
   ]
  },
  {
   "cell_type": "code",
   "execution_count": 881,
   "id": "30dbb1d3",
   "metadata": {},
   "outputs": [],
   "source": [
    "A_plot = np.tril(np.random.rand(n, n))"
   ]
  },
  {
   "cell_type": "code",
   "execution_count": 887,
   "id": "4a1e6917",
   "metadata": {},
   "outputs": [
    {
     "name": "stdout",
     "output_type": "stream",
     "text": [
      "0 0\n",
      "127 0.914572864321608\n",
      "1 0\n",
      "96 0.44723618090452266\n",
      "1 1\n",
      "30 -0.5477386934673367\n",
      "2 0\n",
      "87 0.31155778894472363\n",
      "2 1\n",
      "114 0.7185929648241205\n",
      "2 2\n",
      "34 -0.48743718592964824\n",
      "3.3723630395200032e-06\n",
      "0.0010435871867399873\n",
      "7.348726552275925e-17\n",
      "2.3365331057335057e-15\n",
      "2.170409420529175e-13\n",
      "5.890472672878528e-11\n"
     ]
    }
   ],
   "source": [
    "#A[i][j] = 0.25\n",
    "# for i in range(n - 1, -1, -1):\n",
    "#     for j in range(0, i + 1, 1):\n",
    "for i in range(n):\n",
    "    for j in range(i + 1):\n",
    "        a_list = np.linspace(-1, 2, 200)\n",
    "        results = []\n",
    "\n",
    "        print(i, j)\n",
    "        \n",
    "        for a in a_list:\n",
    "            A_plot[i][j] = a\n",
    "            results.append(h(A_plot))\n",
    "        A_plot[i][j] = a_list[np.argmax(results)]\n",
    "        print(np.argmax(results), a_list[np.argmax(results)])\n",
    "\n",
    "#plt.plot(a_list, results)\n",
    "\n",
    "for p in permutations(np.identity(n)):\n",
    "    print(W(A_plot, p))"
   ]
  },
  {
   "cell_type": "code",
   "execution_count": 888,
   "id": "80ab6636",
   "metadata": {},
   "outputs": [
    {
     "name": "stdout",
     "output_type": "stream",
     "text": [
      "[[0.93973284 0.         0.        ]\n",
      " [0.17681273 0.27791011 0.        ]\n",
      " [0.13216125 0.65588207 0.2113495 ]] [[ 0.91457286  0.          0.        ]\n",
      " [ 0.44723618 -0.54773869  0.        ]\n",
      " [ 0.31155779  0.71859296 -0.48743719]]\n",
      "[3.22110138e-03 9.96778842e-01 7.01911181e-14 2.23173185e-12\n",
      " 2.07305936e-10 5.62626545e-08]\n",
      "(array([1., 0., 0.]), array([0., 0., 1.]), array([0., 1., 0.]))\n",
      "(array([1., 0., 0.]), array([0., 0., 1.]), array([0., 1., 0.]))\n"
     ]
    }
   ],
   "source": [
    "def get_W(A):\n",
    "    weights = []\n",
    "    for perm in permutations(np.identity(n)):\n",
    "        weights.append(W(A, perm))\n",
    "    return weights / np.sum(weights)\n",
    "\n",
    "print(A, A_plot)\n",
    "print(get_W(A_plot))\n",
    "print(P)\n",
    "print(list(permutations(np.identity(n)))[np.argmax(get_W(A_plot))])"
   ]
  },
  {
   "cell_type": "code",
   "execution_count": 889,
   "id": "6a5742d4",
   "metadata": {},
   "outputs": [
    {
     "name": "stdout",
     "output_type": "stream",
     "text": [
      "0\n",
      "3.599970531615516\n",
      "1\n",
      "1.9614546522053793\n",
      "2\n",
      "10.61411986882249\n",
      "3\n",
      "9.625745183688712\n",
      "4\n",
      "8.33105439603195\n",
      "5\n",
      "6.730028508121888\n"
     ]
    }
   ],
   "source": [
    "from itertools import permutations\n",
    "\n",
    "perms = permutations(np.identity(n))\n",
    "\n",
    "i = 0\n",
    "\n",
    "for perm in perms:\n",
    "    print(i)\n",
    "    i += 1\n",
    "    perm_inv = np.linalg.inv(perm)\n",
    "    cost = 0\n",
    "    for t in range(1, length):\n",
    "        cost += np.linalg.norm(series[t] - np.matmul(perm_inv, np.matmul(A_plot, np.matmul(perm, series[t - 1])))) ** 2\n",
    "    print(cost / (length - 1))"
   ]
  },
  {
   "cell_type": "code",
   "execution_count": 394,
   "id": "5f70f549",
   "metadata": {},
   "outputs": [
    {
     "name": "stdout",
     "output_type": "stream",
     "text": [
      "2.1033027681109898e-67\n"
     ]
    }
   ],
   "source": [
    "print(W(A_plot, P))"
   ]
  }
 ],
 "metadata": {
  "kernelspec": {
   "display_name": "Python 3.6.8 64-bit",
   "language": "python",
   "name": "python36864bit874e3a48d9b148faaa09714964fd179b"
  },
  "language_info": {
   "codemirror_mode": {
    "name": "ipython",
    "version": 3
   },
   "file_extension": ".py",
   "mimetype": "text/x-python",
   "name": "python",
   "nbconvert_exporter": "python",
   "pygments_lexer": "ipython3",
   "version": "3.6.8"
  }
 },
 "nbformat": 4,
 "nbformat_minor": 5
}
