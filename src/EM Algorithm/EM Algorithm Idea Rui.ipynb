{
 "cells": [
  {
   "cell_type": "code",
   "execution_count": 890,
   "id": "bff1bf09",
   "metadata": {},
   "outputs": [],
   "source": [
    "import numpy as np\n",
    "import matplotlib.pyplot as plt\n",
    "from scipy import optimize"
   ]
  },
  {
   "cell_type": "markdown",
   "id": "94b268a2",
   "metadata": {},
   "source": [
    "## Idea:\n",
    "Our model is represented as\n",
    "$$X_t= P^{-1}APX_{t-1}+W_t,$$\n",
    "Where $W_t$ are i.i.d. normal (to keep things simply let’s say $\\mathcal{N}(0,I)$), and $A$ is lower triangular. "
   ]
  },
  {
   "cell_type": "code",
   "execution_count": 891,
   "id": "fd0be998",
   "metadata": {},
   "outputs": [],
   "source": [
    "def generate_data_nD(length, n, A, P):\n",
    "    \n",
    "    # initialize series\n",
    "    series = np.array(np.zeros((length, n)))\n",
    "    \n",
    "    # get inverse\n",
    "    inv_P = np.linalg.inv(P)\n",
    "    \n",
    "    # generate series\n",
    "    for t in range(1, length):\n",
    "        # generate VAR model\n",
    "        series[t] = np.matmul(inv_P, np.matmul(A, np.matmul(P, series[t - 1])) + np.random.multivariate_normal(np.zeros(n), np.identity(n)))\n",
    "    \n",
    "    return series"
   ]
  },
  {
   "cell_type": "markdown",
   "id": "45e813bd",
   "metadata": {},
   "source": [
    "Furthermore, let’s assume $P$ is sampled from a uniform distribution over the set of possible permutations $\\mathcal{P}$. Note that the size of this set is $n!$Given this model, the likelihood of the observations is\n",
    "\n",
    "$$L(A)=\\sum_{p\\in\\mathcal{P}} \\frac{1}{|\\mathcal{P}|} L(A,P) = \\exp(l(A,P)),$$\n",
    "where $l(A, P)$ is the complete log-likelihood. Our goal is to find the lower-triangular matrix $A$ that maximizes $L(A)$ (note this is not the original problem we set to solve). At this point we are “primed” to use the EM algorithm. Let $i$ be the iterations. Let’s start with the $E$-step. Compute the “weight” associated with each permutation matrix:\n",
    "$$W_i^P=\\exp(-1/2\\sum_t \\|X_t-P^{-1}A_i P X_{t-1}\\|^2).$$"
   ]
  },
  {
   "cell_type": "code",
   "execution_count": 895,
   "id": "b392bbcd",
   "metadata": {},
   "outputs": [],
   "source": [
    "def W(A, P):\n",
    "    \n",
    "    P_inv = np.linalg.inv(P)\n",
    "    \n",
    "    weight = 0\n",
    "\n",
    "    for t in range(1, length):\n",
    "        weight += np.linalg.norm(series[t] - np.matmul(P_inv, np.matmul(A, np.matmul(P, series[t - 1])))) ** 2\n",
    "    \n",
    "    return np.exp(-weight / 2)\n",
    "\n",
    "def get_W(A):\n",
    "    weights = []\n",
    "    for perm in permutations(np.identity(n)):\n",
    "        weights.append(W(A, perm))\n",
    "    return weights / np.sum(weights)"
   ]
  },
  {
   "cell_type": "markdown",
   "id": "701527d5",
   "metadata": {},
   "source": [
    "This $M$-step finds $A_{i+1}$ by maximizing $h(A)$. Note this is a quadratic function of the elements of $A$.\n",
    "$$h(A)=-\\sum_{p\\in\\mathcal{P}} W_i^{P}\\sum_t \\|X_t-P^{-1}AP X_{t-1}\\|^2$$"
   ]
  },
  {
   "cell_type": "code",
   "execution_count": 896,
   "id": "33874436",
   "metadata": {},
   "outputs": [],
   "source": [
    "def h(A_inp):\n",
    "    h_value = 0\n",
    "    \n",
    "    weights = get_W(A)\n",
    "\n",
    "    i = 0\n",
    "    \n",
    "    for perm in permutations(np.identity(n)):\n",
    "        \n",
    "        w = weights[i]\n",
    "        i += 1\n",
    "        \n",
    "        perm_inv = np.linalg.inv(perm)\n",
    "        \n",
    "        for t in range(1, length):\n",
    "            h_value -= w * np.linalg.norm(series[t] - np.matmul(perm_inv, np.matmul(A_inp, np.matmul(perm, series[t - 1])))) ** 2\n",
    "            \n",
    "    return h_value"
   ]
  },
  {
   "cell_type": "code",
   "execution_count": 928,
   "id": "ee8b2744",
   "metadata": {},
   "outputs": [
    {
     "name": "stdout",
     "output_type": "stream",
     "text": [
      "[[0.36813037 0.         0.        ]\n",
      " [0.06178308 0.35945047 0.        ]\n",
      " [0.56040181 0.08253628 0.9290188 ]] (array([0., 1., 0.]), array([0., 0., 1.]), array([1., 0., 0.]))\n"
     ]
    },
    {
     "data": {
      "image/png": "[encoded data removed]",
      "text/plain": [
       "<Figure size 1152x144 with 1 Axes>"
      ]
     },
     "metadata": {
      "needs_background": "light"
     },
     "output_type": "display_data"
    }
   ],
   "source": [
    "#np.random.seed(seed = 123)\n",
    "\n",
    "length, n = 12, 3\n",
    "\n",
    "# A matrix, lower triangular\n",
    "# A = np.array([[0.8, 0, 0], [0.4, 0.4, 0], [0.3, 0.3, 0.3]])\n",
    "A = np.tril(np.random.rand(n, n))\n",
    "\n",
    "# Permutation matrix\n",
    "P = np.array([[0.0, 1.0, 0.0], [1.0, 0.0, 0.0], [0.0, 0.0, 1.0]])\n",
    "# P = np.identity(n)\n",
    "r_ind = np.random.choice(np.math.factorial(n))\n",
    "P = list(permutations(np.identity(n)))[r_ind]\n",
    "\n",
    "# Generate nD data\n",
    "series = generate_data_nD(length, n, A, P)\n",
    "\n",
    "print(A, P)\n",
    "# Plot\n",
    "plt.figure(figsize=(16,2))\n",
    "plots = plt.plot(series)\n",
    "plt.legend(plots, [\"X\", \"Y\", \"Z\"], loc=1)\n",
    "plt.show()"
   ]
  },
  {
   "cell_type": "code",
   "execution_count": 930,
   "id": "5958a9da",
   "metadata": {},
   "outputs": [],
   "source": [
    "A_plot = np.tril(np.random.rand(n, n))"
   ]
  },
  {
   "cell_type": "code",
   "execution_count": 934,
   "id": "21c54121",
   "metadata": {},
   "outputs": [
    {
     "name": "stdout",
     "output_type": "stream",
     "text": [
      "103 0.5527638190954773\n",
      "66 -0.005025125628140725\n",
      "101 0.5226130653266332\n",
      "78 0.1758793969849246\n",
      "62 -0.0653266331658292\n",
      "102 0.5376884422110553\n"
     ]
    }
   ],
   "source": [
    "# for i in range(n - 1, -1, -1):\n",
    "#     for j in range(0, i + 1, 1):\n",
    "for i in range(n):\n",
    "    for j in range(i + 1):\n",
    "        a_list = np.linspace(-1, 2, 200)\n",
    "        results = []\n",
    "\n",
    "        for a in a_list:\n",
    "            A_plot[i][j] = a\n",
    "            results.append(h(A_plot))\n",
    "        A_plot[i][j] = a_list[np.argmax(results)]\n",
    "        print(np.argmax(results), a_list[np.argmax(results)])"
   ]
  },
  {
   "cell_type": "code",
   "execution_count": 935,
   "id": "e8611498",
   "metadata": {},
   "outputs": [
    {
     "name": "stdout",
     "output_type": "stream",
     "text": [
      "A:\n",
      "[[0.37 0.   0.  ]\n",
      " [0.06 0.36 0.  ]\n",
      " [0.56 0.08 0.93]]\n",
      "\n",
      "A_hat:\n",
      "[[ 0.55  0.    0.  ]\n",
      " [-0.01  0.52  0.  ]\n",
      " [ 0.18 -0.07  0.54]]\n",
      "\n",
      "Weights: [0.27 0.12 0.04 0.14 0.26 0.16]\n",
      "P:\t(array([0., 1., 0.]), array([0., 0., 1.]), array([1., 0., 0.]))\n",
      "P_hat:\t(array([1., 0., 0.]), array([0., 1., 0.]), array([0., 0., 1.]))\n"
     ]
    }
   ],
   "source": [
    "print(f\"A:\\n{np.round(A, 2)}\\n\\nA_hat:\\n{np.round(A_plot, 2)}\\n\")\n",
    "print(f\"Weights: {np.round(get_W(A_plot), 2)}\")\n",
    "print(f\"P:\\t{P}\")\n",
    "print(f\"P_hat:\\t{list(permutations(np.identity(n)))[np.argmax(get_W(A_plot))]}\")"
   ]
  },
  {
   "cell_type": "code",
   "execution_count": 936,
   "id": "a53e2fa3",
   "metadata": {},
   "outputs": [
    {
     "name": "stdout",
     "output_type": "stream",
     "text": [
      "1.8282164663602485\n",
      "1.9847158300466108\n",
      "2.159634161547809\n",
      "1.9464323100993584\n",
      "1.8350732273669588\n",
      "1.9228056897435908\n"
     ]
    }
   ],
   "source": [
    "from itertools import permutations\n",
    "\n",
    "perms = permutations(np.identity(n))\n",
    "\n",
    "i = 0\n",
    "\n",
    "for perm in perms:\n",
    "    i += 1\n",
    "    perm_inv = np.linalg.inv(perm)\n",
    "    cost = 0\n",
    "    for t in range(1, length):\n",
    "        cost += np.linalg.norm(series[t] - np.matmul(perm_inv, np.matmul(A_plot, np.matmul(perm, series[t - 1])))) ** 2\n",
    "    print(cost / (length - 1))"
   ]
  },
  {
   "cell_type": "code",
   "execution_count": 394,
   "id": "e7ca58e5",
   "metadata": {},
   "outputs": [
    {
     "name": "stdout",
     "output_type": "stream",
     "text": [
      "2.1033027681109898e-67\n"
     ]
    }
   ],
   "source": [
    "print(W(A_plot, P))"
   ]
  }
 ],
 "metadata": {
  "kernelspec": {
   "display_name": "Python 3.6.8 64-bit",
   "language": "python",
   "name": "python36864bit874e3a48d9b148faaa09714964fd179b"
  },
  "language_info": {
   "codemirror_mode": {
    "name": "ipython",
    "version": 3
   },
   "file_extension": ".py",
   "mimetype": "text/x-python",
   "name": "python",
   "nbconvert_exporter": "python",
   "pygments_lexer": "ipython3",
   "version": "3.6.8"
  }
 },
 "nbformat": 4,
 "nbformat_minor": 5
}
