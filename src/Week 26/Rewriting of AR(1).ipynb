{
 "cells": [
  {
   "cell_type": "markdown",
   "id": "3bb5c782",
   "metadata": {},
   "source": [
    "$$X_t = bX_{t-1} + \\varepsilon_t$$\n",
    "\n",
    "$$X_t = \\sum_{i = 0}^{t - 1}b^i \\varepsilon_{t - i}$$"
   ]
  },
  {
   "cell_type": "code",
   "execution_count": 230,
   "id": "d0882fc6",
   "metadata": {},
   "outputs": [],
   "source": [
    "import numpy as np\n",
    "import matplotlib.pyplot as plt"
   ]
  },
  {
   "cell_type": "code",
   "execution_count": 391,
   "id": "380a3ef9",
   "metadata": {},
   "outputs": [
    {
     "data": {
      "text/plain": [
       "[<matplotlib.lines.Line2D at 0x1eb7c5875f8>]"
      ]
     },
     "execution_count": 391,
     "metadata": {},
     "output_type": "execute_result"
    },
    {
     "data": {
      "image/png": "[encoded data removed]",
      "text/plain": [
       "<Figure size 432x288 with 1 Axes>"
      ]
     },
     "metadata": {
      "needs_background": "light"
     },
     "output_type": "display_data"
    }
   ],
   "source": [
    "a = 0.99\n",
    "b = 0.99\n",
    "T = 101\n",
    "\n",
    "def gen_ar1(a, T, s = 1):\n",
    "    \n",
    "    X = np.zeros(T)\n",
    "    noises = np.random.normal(0, s, T)\n",
    "    \n",
    "    X[0] = noises[0]\n",
    "    \n",
    "    for t in range(1, T):\n",
    "        X[t] = a * X[t - 1] + noises[t]\n",
    "        \n",
    "    return X, noises\n",
    "    \n",
    "X_1, e_1 = gen_ar1(a, T)\n",
    "X_2, e_2 = gen_ar1(b, T)\n",
    "\n",
    "plt.plot(X_1)\n",
    "plt.plot(X_2)"
   ]
  },
  {
   "cell_type": "code",
   "execution_count": 392,
   "id": "09878823",
   "metadata": {},
   "outputs": [
    {
     "data": {
      "text/plain": [
       "4.011542004098094"
      ]
     },
     "execution_count": 392,
     "metadata": {},
     "output_type": "execute_result"
    }
   ],
   "source": [
    "def ar_t(a, X, noises, t):\n",
    "    total = 0\n",
    "    \n",
    "    for i in range(t + 1):\n",
    "        total += a ** i * noises[t - i]\n",
    "        \n",
    "    return total\n",
    "\n",
    "ar_t(b, X_2, e_2, 3)"
   ]
  },
  {
   "cell_type": "code",
   "execution_count": 393,
   "id": "74b2431c",
   "metadata": {},
   "outputs": [
    {
     "name": "stdout",
     "output_type": "stream",
     "text": [
      "-561.8778786515983\n",
      "-561.8778786515985\n"
     ]
    }
   ],
   "source": [
    "lst = sum([ar_t(a, X_1, e_1, i) for i in range(T)])\n",
    "print(sum(X_1))\n",
    "print(lst)"
   ]
  },
  {
   "cell_type": "code",
   "execution_count": 394,
   "id": "2c9a1704",
   "metadata": {},
   "outputs": [
    {
     "name": "stdout",
     "output_type": "stream",
     "text": [
      "460.3248504735934\n",
      "460.32485047359444\n",
      "460.32485047359364\n"
     ]
    }
   ],
   "source": [
    "def sum_ar_t(a, X, noises):\n",
    "    print(sum(X))\n",
    "    \n",
    "    total = 0\n",
    "    for t in range(T):\n",
    "        for i in range(T - t):\n",
    "            total += a ** i * noises[t]\n",
    "    \n",
    "    print(total)\n",
    "    \n",
    "    total = 0\n",
    "    for t in range(T):\n",
    "        total += noises[t] * (1 - a ** (T - t)) / (1 - a)\n",
    "            \n",
    "    print(total)\n",
    "    \n",
    "sum_ar_t(b, X_2, e_2)"
   ]
  },
  {
   "cell_type": "markdown",
   "id": "e44e027a",
   "metadata": {},
   "source": [
    "\\begin{align*}\n",
    "    \\sum_{t = 1}^T X_t^2 &= \\sum_{t = 1}^T \\left(\\sum_{i = 0}^{t - 1} a^i \\varepsilon_{t - i}\\right)^2\\\\\n",
    "    &= \\sum_{t = 1}^T \\left(\\sum_{i = 0}^{t - 1} \\sum_{j = 0}^{t - 1} a^{i + j} \\varepsilon_{t - i} \\varepsilon_{t - j}\\right)\n",
    "\\end{align*}"
   ]
  },
  {
   "cell_type": "code",
   "execution_count": 395,
   "id": "9d9cbb57",
   "metadata": {},
   "outputs": [
    {
     "name": "stdout",
     "output_type": "stream",
     "text": [
      "2241.192865712628\n",
      "2241.1928657126273\n",
      "2241.1928657126005\n",
      "-224.98390119862128\n"
     ]
    }
   ],
   "source": [
    "def sum_ar_sq(a, X, noises):\n",
    "    print(sum(X ** 2))\n",
    "    \n",
    "    total = 0\n",
    "    for t in range(T):\n",
    "        total += sum([a ** i * noises[t - i] for i in range(t + 1)]) ** 2\n",
    "    \n",
    "    print(total)\n",
    "    \n",
    "    total = 0\n",
    "    for t in range(T):\n",
    "        for i in range(t + 1):\n",
    "            for j in range(t + 1):\n",
    "                total += a ** (i + j) * noises[t - i] * noises[t - j]\n",
    "            \n",
    "    print(total)\n",
    "    \n",
    "    total = 0\n",
    "    for i in range(T):\n",
    "        for j in range(T):\n",
    "            coef = 0\n",
    "            for t in range(T - i - j):\n",
    "                coef += a ** (2 * t)\n",
    "            total += coef * noises[i] * noises[j]\n",
    "            \n",
    "    print(total)\n",
    "    \n",
    "\n",
    "X_2, e_2 = gen_ar1(b, T)\n",
    "sum_ar_sq(b, X_2, e_2)"
   ]
  },
  {
   "cell_type": "code",
   "execution_count": 418,
   "id": "42d1e7c9",
   "metadata": {},
   "outputs": [
    {
     "data": {
      "image/png": "[encoded data removed]",
      "text/plain": [
       "<Figure size 432x288 with 1 Axes>"
      ]
     },
     "metadata": {
      "needs_background": "light"
     },
     "output_type": "display_data"
    }
   ],
   "source": [
    "sums = []\n",
    "sums_sq = []\n",
    "coefs = []\n",
    "\n",
    "a = 0.99\n",
    "T = 25\n",
    "for i in range(10000):\n",
    "    X_1, e_1 = gen_ar1(a, T)\n",
    "    noises = np.random.normal(0, 1, T)\n",
    "    sums.append(sum(X_1))\n",
    "    sums_sq.append(sum(X_1 ** 2))\n",
    "    coefs.append(sum(X_1 * noises) / sum(X_1 ** 2) * np.cov(X_1))\n",
    "    \n",
    "# the histogram of the data\n",
    "lst = (np.array(sums))\n",
    "f = plt.figure()\n",
    "ax = f.add_subplot(111)\n",
    "\n",
    "n, bins, patches = ax.hist(lst, 100, density=True, facecolor='g', alpha=0.75, label = f\"Fraction of Green: {sum(lst < 0) / len(lst)}\")\n",
    "\n",
    "for b, p in zip(bins, patches):\n",
    "    if b > 0:\n",
    "        p.set_facecolor(\"red\")\n",
    "    \n",
    "plt.xlabel('Bias')\n",
    "plt.ylabel('Density')\n",
    "plt.title(f'Histogram of Bias, T = {T}')\n",
    "t = plt.text(0.03, 0.85, f'Mean: {round(lst.mean(), 3)}. Var: {round(lst.var(), 3)}', ha='left', va='center', transform=ax.transAxes)\n",
    "t.set_bbox(dict(facecolor='white', alpha=1.0, edgecolor = 'grey'))\n",
    "plt.grid(True)\n",
    "plt.legend()\n",
    "plt.show()"
   ]
  },
  {
   "cell_type": "code",
   "execution_count": 422,
   "id": "19a27cbf",
   "metadata": {},
   "outputs": [
    {
     "data": {
      "image/png": "[encoded data removed]",
      "text/plain": [
       "<Figure size 432x288 with 1 Axes>"
      ]
     },
     "metadata": {
      "needs_background": "light"
     },
     "output_type": "display_data"
    },
    {
     "data": {
      "image/png": "[encoded data removed]",
      "text/plain": [
       "<Figure size 432x288 with 1 Axes>"
      ]
     },
     "metadata": {
      "needs_background": "light"
     },
     "output_type": "display_data"
    },
    {
     "data": {
      "image/png": "[encoded data removed]",
      "text/plain": [
       "<Figure size 432x288 with 1 Axes>"
      ]
     },
     "metadata": {
      "needs_background": "light"
     },
     "output_type": "display_data"
    }
   ],
   "source": [
    "# the histogram of the data\n",
    "lst = (np.array(sums))\n",
    "f = plt.figure()\n",
    "ax = f.add_subplot(111)\n",
    "\n",
    "n, bins, patches = ax.hist(lst, 100, density=True, facecolor='g', alpha=0.75, label = f\"Fraction of Green: {sum(lst < 0) / len(lst)}\")\n",
    "\n",
    "for b, p in zip(bins, patches):\n",
    "    if b > 0:\n",
    "        p.set_facecolor(\"red\")\n",
    "    \n",
    "plt.xlabel('Sum')\n",
    "plt.ylabel('Density')\n",
    "plt.title(f'Histogram of $\\sum X_t$, T = {T}')\n",
    "t = plt.text(0.03, 0.85, f'Mean: {round(lst.mean(), 3)}. Var: {round(lst.var(), 3)}', ha='left', va='center', transform=ax.transAxes)\n",
    "t.set_bbox(dict(facecolor='white', alpha=1.0, edgecolor = 'grey'))\n",
    "plt.grid(True)\n",
    "plt.legend()\n",
    "plt.show()\n",
    "\n",
    "# the histogram of the data\n",
    "lst = (np.array(sums_sq))\n",
    "f = plt.figure()\n",
    "ax = f.add_subplot(111)\n",
    "\n",
    "n, bins, patches = ax.hist(lst, 100, density=True, facecolor='g', alpha=0.75, label = f\"Fraction of Green: {sum(lst < 0) / len(lst)}\")\n",
    "\n",
    "for b, p in zip(bins, patches):\n",
    "    if b > 0:\n",
    "        p.set_facecolor(\"red\")\n",
    "    \n",
    "plt.xlabel('Bias')\n",
    "plt.ylabel('Density')\n",
    "plt.title(f'Histogram of $\\sum X_t^2$, T = {T}')\n",
    "t = plt.text(0.03, 0.85, f'Mean: {round(lst.mean(), 3)}. Var: {round(lst.var(), 3)}', ha='left', va='center', transform=ax.transAxes)\n",
    "t.set_bbox(dict(facecolor='white', alpha=1.0, edgecolor = 'grey'))\n",
    "plt.grid(True)\n",
    "plt.legend()\n",
    "plt.show()\n",
    "\n",
    "# the histogram of the data\n",
    "lst = (np.array(sums) / np.array(sums_sq))\n",
    "f = plt.figure()\n",
    "ax = f.add_subplot(111)\n",
    "\n",
    "n, bins, patches = ax.hist(lst, 100, density=True, facecolor='g', alpha=0.75, label = f\"Fraction of Green: {sum(lst < 0) / len(lst)}\")\n",
    "\n",
    "for b, p in zip(bins, patches):\n",
    "    if b > 0:\n",
    "        p.set_facecolor(\"red\")\n",
    "    \n",
    "plt.xlabel('Bias')\n",
    "plt.ylabel('Density')\n",
    "plt.title(f'Histogram of $\\sum X_t\\ /\\ \\sum X_t^2$, T = {T}')\n",
    "t = plt.text(0.03, 0.85, f'Mean: {round(lst.mean(), 3)}. Var: {round(lst.var(), 3)}', ha='left', va='center', transform=ax.transAxes)\n",
    "t.set_bbox(dict(facecolor='white', alpha=1.0, edgecolor = 'grey'))\n",
    "plt.grid(True)\n",
    "plt.legend()\n",
    "plt.show()"
   ]
  },
  {
   "cell_type": "code",
   "execution_count": 417,
   "id": "fae60022",
   "metadata": {},
   "outputs": [
    {
     "name": "stdout",
     "output_type": "stream",
     "text": [
      "93.33333357175191\n",
      "93.33333357175191\n",
      "93.33333357175191\n"
     ]
    }
   ],
   "source": [
    "t = 1\n",
    "print(sum([((1 - a ** (T - t)) / (1 - a)) ** 2 for t in range(T)]))\n",
    "\n",
    "print(1 / (1 - a) ** 2 * (T - 2 * sum([a ** (T - t) for t in range(T)]) + sum([a ** (2 * (T - t)) for t in range(T)])))\n",
    "print(1 / (1 - a) ** 2 * (T - 2* a * (1 - a ** (T)) / (1 - a) + a ** 2 * (1 - a ** (2 * T)) / (1 - a ** 2)))"
   ]
  },
  {
   "cell_type": "code",
   "execution_count": 414,
   "id": "51932534",
   "metadata": {},
   "outputs": [
    {
     "name": "stdout",
     "output_type": "stream",
     "text": [
      "0.9999999701976776\n",
      "0.9999999701976776\n",
      "0.9999999701976776\n"
     ]
    }
   ],
   "source": [
    "print(sum([a ** (T - t) for t in range(T)]))\n",
    "print(sum([a ** (t) for t in range(1, T + 1)]))\n",
    "print((a - a ** (T + 1)) / (1 - a))"
   ]
  },
  {
   "cell_type": "markdown",
   "id": "590e02f8",
   "metadata": {},
   "source": [
    "### Distribution of $$\\sum_{t = 1}^T X_t.$$\n",
    "\n",
    "We have \n",
    "\\begin{align*}\n",
    "    \\sum_{t = 1}^T X_t &= \\sum_{t = 1}^T \\sum_{i = 0}^{t - 1} a^i \\varepsilon_{t - i}\\\\\n",
    "    &= \\sum_{t = 1}^T \\sum_{i = 0}^{T - t} a^{i} \\varepsilon_{t}. \\\\\n",
    "    &= \\sum_{t = 1}^T \\frac{1 - a^{T - t}}{1 - a} \\varepsilon_{t}.\n",
    "\\end{align*}\n",
    "\n",
    "#### Distribution of the Mean\n",
    "Now, $$\\mathbb{E}\\left[\\varepsilon_t \\right] = 0\\ \\forall\\ t.$$\n",
    "\n",
    "So, \\begin{align*}\n",
    "    \\mathbb{E}\\left[\\sum_{t = 1}^T X_t\\right] &= \\mathbb{E}\\left[\\sum_{t = 1}^T \\frac{1 - a^{T - t}}{1 - a} \\varepsilon_{t}\\right] \\\\ &= \\sum_{t = 1}^T \\frac{1 - a^{T - t}}{1 - a}\\mathbb{E}\\left[\\varepsilon_{t}\\right]\\\\\n",
    "    &= \\sum_{t = 1}^T \\frac{1 - a^{T - t}}{1 - a} \\cdot 0 \\\\ &= 0\n",
    "\\end{align*}\n",
    "\n",
    "#### Distribution of the Covariance\n",
    "Now, $$\\mathbb{V}\\left[\\varepsilon_t \\right] =\\sigma^2\\ \\forall\\ t.$$\n",
    "\n",
    "So, So, \\begin{align*}\n",
    "    \\mathbb{V}\\left[\\sum_{t = 1}^T X_t\\right] &= \\mathbb{V}\\left[\\sum_{t = 1}^T \\frac{1 - a^{T - t}}{1 - a} \\varepsilon_{t}\\right] \\\\ &= \\sum_{t = 1}^T \\left(\\frac{1 - a^{T - t}}{1 - a}\\right)^2 \\mathbb{V}\\left[\\varepsilon_{t}\\right]\\\\\n",
    "    &= \\sum_{t = 1}^T \\left(\\frac{1 - a^{T - t}}{1 - a}\\right)^2 \\cdot \\sigma^2 \\\\ \n",
    "    &= \\frac{\\sigma^2}{(1 - a)^2} \\sum_{t = 1}^T 1 - 2 a^{T - t} + a^{2(T - t)} \\\\\n",
    "    &= \\frac{\\sigma^2}{(1 - a)^2} \\left(T - 2a \\frac{1 - a^{T}}{1 - a} + a^2\\frac{1 - a^{2T}}{1 - a^2}\\right) \\\\\n",
    "\\end{align*}"
   ]
  },
  {
   "cell_type": "markdown",
   "id": "d10a9f36",
   "metadata": {},
   "source": [
    "### Distribution of $$\\sum_{t = 1}^T X_t ^2.$$\n",
    "\n",
    "We have \n",
    "\\begin{align*}\n",
    "    \\sum_{t = 1}^T X_t^2 &= \\sum_{t = 1}^T \\left(\\sum_{i = 0}^{t - 1} a^i \\varepsilon_{t - i}\\right)^2\\\\\n",
    "    &= \\sum_{t = 1}^T \\left(\\sum_{i = 0}^{t - 1} \\sum_{j = 0}^{t - 1} a^{i + j} \\varepsilon_{t - i} \\varepsilon_{t - j}\\right).\n",
    "\\end{align*}\n",
    "\n",
    "#### Distribution of the Mean\n",
    "Now, $$\\mathbb{E}\\left[\\varepsilon_i \\varepsilon_j \\right] = \\begin{cases} \\sigma^2 & if i = j \\\\ 0 & otherwise \\end{cases}.$$\n",
    "\n",
    "So, \\begin{align*}\n",
    "    \\mathbb{E}\\left[\\sum_{t = 1}^T X_t^2\\right] &= \\sum_{t = 1}^T \\mathbb{E}\\left[\\left(\\sum_{i = 0}^{t - 1} a^i \\varepsilon_{t - i}\\right)^2\\right]\\\\\n",
    "    &= \\sum_{t = 1}^T \\left(\\sum_{i = 0}^{t - 1} \\sum_{j = 0}^{t - 1} a^{i + j} \\mathbb{E}\\left[\\varepsilon_{t - i} \\varepsilon_{t - j}\\right]\\right). \\\\ &=  \\sum_{t = 1}^T \\left(\\sum_{i = 0}^{t - 1} a^{2i} \\sigma^2\\right). \\\\ &= \\sigma^2 \\left(\\sum_{t = 1}^T \\left(\\frac{1 - a^{2t}}{1 - a^2}\\right)\\right) \\\\ &= \\sigma^2 \\left(\\left(\\frac{T - \\sum_{t = 1}^Ta^{2t}}{1 - a^2}\\right)\\right) \\\\ &= \\sigma^2 \\left(\\left(\\frac{T - \\frac{a^2 - a^{2(T + 1)}}{1 - a^2}}{1 - a^2}\\right)\\right)\n",
    "\\end{align*}\n",
    "\n",
    "#### Distribution of the Covariance\n",
    "Now, $$\\mathbb{V}\\left[\\varepsilon_i \\varepsilon_j \\right] = \\begin{cases} \\sigma^4 & if i \\neq j \\\\ 2\\sigma^4 & otherwise \\end{cases}.$$\n",
    "\n",
    "So, \\begin{align*}\n",
    "    \\mathbb{V}\\left[\\sum_{t = 1}^T X_t^2\\right] &= \\sum_{t = 1}^T \\mathbb{V}\\left[\\left(\\sum_{i = 0}^{t - 1} a^i \\varepsilon_{t - i}\\right)^2\\right]\\\\\n",
    "    &= \\sum_{t = 1}^T \\left(\\sum_{i = 0}^{t - 1} \\sum_{j = 0}^{t - 1} a^{i + j} \\mathbb{V}\\left[\\varepsilon_{t - i} \\varepsilon_{t - j}\\right]\\right). \\\\ &=  \\sum_{t = 1}^T \\left(\\sum_{i = 0}^{t - 1} a^{2i} \\sigma^2\\right). \\\\ &= \\sigma^2 \\left(\\sum_{t = 1}^T \\left(\\frac{1 - a^{2t}}{1 - a^2}\\right)\\right) \\\\ &= \\sigma^2 \\left(\\left(\\frac{T - \\sum_{t = 1}^Ta^{2t}}{1 - a^2}\\right)\\right) \\\\ &= \\sigma^2 \\left(\\left(\\frac{T - \\frac{a^2 - a^{2(T + 1)}}{1 - a^2}}{1 - a^2}\\right)\\right)\n",
    "\\end{align*}"
   ]
  },
  {
   "cell_type": "code",
   "execution_count": 380,
   "id": "3bf96c99",
   "metadata": {},
   "outputs": [
    {
     "name": "stdout",
     "output_type": "stream",
     "text": [
      "32.888888888888886\n",
      "32.888888888888886\n",
      "32.88888888888889\n",
      "32.88888888888889\n"
     ]
    }
   ],
   "source": [
    "total = 0\n",
    "for t in range(T):\n",
    "    for i in range(t + 1):\n",
    "        total += a ** (2 * i) \n",
    "        \n",
    "print(total)\n",
    "\n",
    "total = 0\n",
    "for t in range(T):\n",
    "    total += (1 - a ** (2 * (t + 1))) / (1 - a ** 2)\n",
    "        \n",
    "print(total)\n",
    "\n",
    "print((T - (a ** 2 * (1 - a ** (2 * T)) / (1 - a ** 2))) / (1 - a ** 2))\n",
    "\n",
    "print(T / (1 - a ** 2) - a ** 2 * (1 - a ** (2 * T)) / (1 - a ** 2) ** 2)"
   ]
  },
  {
   "cell_type": "code",
   "execution_count": 423,
   "id": "f058420a",
   "metadata": {},
   "outputs": [
    {
     "name": "stdout",
     "output_type": "stream",
     "text": [
      "4148.848797963845\n",
      "278.6961096979864\n",
      "258.84716834811445\n",
      "258.84716834811434\n"
     ]
    }
   ],
   "source": [
    "total = 0\n",
    "for t in range(T):\n",
    "    for i in range(t + 1):\n",
    "        for j in range(t + 1):\n",
    "            if i != j:\n",
    "                total += (a ** (i + j)) ** 2\n",
    "            \n",
    "    for i in range(t + 1):\n",
    "        total += 2 * (a ** (2 * i)) ** 2\n",
    "        \n",
    "print(total)\n",
    "\n",
    "total = 0\n",
    "for t in range(T):\n",
    "    total += (1 - a ** (2 * (t + 1))) / (1 - a ** 2)\n",
    "        \n",
    "print(total)\n",
    "\n",
    "print((T - ((1 - a ** (2 * T)) / (1 - a ** 2))) / (1 - a ** 2))\n",
    "\n",
    "print(T / (1 - a ** 2) - (1 - a ** (2 * T)) / (1 - a ** 2) ** 2)"
   ]
  },
  {
   "cell_type": "code",
   "execution_count": 425,
   "id": "bfdea3de",
   "metadata": {},
   "outputs": [
    {
     "name": "stdout",
     "output_type": "stream",
     "text": [
      "56.37754403027047\n"
     ]
    }
   ],
   "source": [
    "total = T * 1 / (1 - b ** 2)\n",
    "print(total)"
   ]
  }
 ],
 "metadata": {
  "kernelspec": {
   "display_name": "Python 3.6.8 64-bit",
   "language": "python",
   "name": "python36864bit874e3a48d9b148faaa09714964fd179b"
  },
  "language_info": {
   "codemirror_mode": {
    "name": "ipython",
    "version": 3
   },
   "file_extension": ".py",
   "mimetype": "text/x-python",
   "name": "python",
   "nbconvert_exporter": "python",
   "pygments_lexer": "ipython3",
   "version": "3.6.8"
  }
 },
 "nbformat": 4,
 "nbformat_minor": 5
}
