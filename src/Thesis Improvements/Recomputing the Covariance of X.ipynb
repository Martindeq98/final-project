{
 "cells": [
  {
   "cell_type": "code",
   "execution_count": 3,
   "id": "377e1585",
   "metadata": {},
   "outputs": [],
   "source": [
    "import numpy as np \n",
    "import matplotlib.pyplot as plt\n",
    "import sys\n",
    "sys.path.append(\"..\")\n",
    "import helper.helper as h"
   ]
  },
  {
   "cell_type": "code",
   "execution_count": 23,
   "id": "2e35cc8f",
   "metadata": {},
   "outputs": [
    {
     "name": "stdout",
     "output_type": "stream",
     "text": [
      "[[1.36810112 0.28143726]\n",
      " [0.28143726 1.5033196 ]]\n"
     ]
    }
   ],
   "source": [
    "W = np.array([[0.5, 0.3], [0.0, 0.4]])\n",
    "Sigma = np.identity(2)\n",
    "\n",
    "X = h.generate_var_2(1000, 2, W, np.identity(2))\n",
    "print(np.cov(X.T))"
   ]
  },
  {
   "cell_type": "code",
   "execution_count": 22,
   "id": "aaa6c2d0",
   "metadata": {},
   "outputs": [
    {
     "data": {
      "text/plain": [
       "array([[1.33333333, 0.        , 0.        , 0.        ],\n",
       "       [0.25      , 1.25      , 0.        , 0.        ],\n",
       "       [0.25      , 0.        , 1.25      , 0.        ],\n",
       "       [0.21428571, 0.17857143, 0.17857143, 1.19047619]])"
      ]
     },
     "execution_count": 22,
     "metadata": {},
     "output_type": "execute_result"
    }
   ],
   "source": [
    "(np.linalg.inv(np.identity(4) - np.kron(W.T, W.T))) # @ np.array([1, 0, 0, 1])).reshape(2, 2)"
   ]
  },
  {
   "cell_type": "code",
   "execution_count": 42,
   "id": "6a11ec56",
   "metadata": {},
   "outputs": [
    {
     "name": "stdout",
     "output_type": "stream",
     "text": [
      "[[1.46931795 0.55440929]\n",
      " [0.55440929 0.58861023]]\n",
      "[[1.46931795 0.55440929]\n",
      " [0.55440929 0.58861023]]\n"
     ]
    }
   ],
   "source": [
    "U = np.random.rand(2, 2)\n",
    "\n",
    "series = np.zeros((1000, 2))\n",
    "\n",
    "for i, x in enumerate(X):\n",
    "    series[i] = X[i] @ U\n",
    "    \n",
    "print(np.cov(series.T))\n",
    "print(U.T @ np.cov(X.T) @ U)"
   ]
  }
 ],
 "metadata": {
  "kernelspec": {
   "display_name": "Python 3.6.8 64-bit",
   "language": "python",
   "name": "python36864bit874e3a48d9b148faaa09714964fd179b"
  },
  "language_info": {
   "codemirror_mode": {
    "name": "ipython",
    "version": 3
   },
   "file_extension": ".py",
   "mimetype": "text/x-python",
   "name": "python",
   "nbconvert_exporter": "python",
   "pygments_lexer": "ipython3",
   "version": "3.6.8"
  }
 },
 "nbformat": 4,
 "nbformat_minor": 5
}
