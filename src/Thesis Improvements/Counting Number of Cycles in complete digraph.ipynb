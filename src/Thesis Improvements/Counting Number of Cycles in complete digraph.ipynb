{
 "cells": [
  {
   "cell_type": "code",
   "execution_count": 4,
   "id": "5b8be220",
   "metadata": {},
   "outputs": [],
   "source": [
    "import networkx as nx\n",
    "import numpy as np"
   ]
  },
  {
   "cell_type": "code",
   "execution_count": 41,
   "id": "46c4e3fb",
   "metadata": {},
   "outputs": [],
   "source": [
    "def num_cycles(p):\n",
    "    B = np.ones((p, p))\n",
    "    G = nx.DiGraph(B)\n",
    "    \n",
    "    # cycles of length 2 should be doubled, there are nCr(p, 2) of those\n",
    "    total = int(p * (p + 1) / 4) * (p >= 2)\n",
    "    \n",
    "    return len(list(nx.simple_cycles(G))) + total"
   ]
  },
  {
   "cell_type": "code",
   "execution_count": 46,
   "id": "b3a5aa2c",
   "metadata": {},
   "outputs": [
    {
     "name": "stdout",
     "output_type": "stream",
     "text": [
      "1 \t 1\n",
      "2 \t 4\n",
      "3 \t 11\n",
      "4 \t 29\n",
      "5 \t 96\n",
      "6 \t 425\n",
      "7 \t 2386\n",
      "8 \t 16090\n",
      "9 \t 125695\n",
      "10 \t 1112110\n"
     ]
    }
   ],
   "source": [
    "for i in range(1, 11):\n",
    "    print(i, '\\t', num_cycles(i)) #, (num_cycles(i)) * 2 + i)"
   ]
  },
  {
   "cell_type": "code",
   "execution_count": null,
   "id": "9e5fb825",
   "metadata": {},
   "outputs": [],
   "source": []
  }
 ],
 "metadata": {
  "kernelspec": {
   "display_name": "Python 3.6.8 64-bit",
   "language": "python",
   "name": "python36864bit874e3a48d9b148faaa09714964fd179b"
  },
  "language_info": {
   "codemirror_mode": {
    "name": "ipython",
    "version": 3
   },
   "file_extension": ".py",
   "mimetype": "text/x-python",
   "name": "python",
   "nbconvert_exporter": "python",
   "pygments_lexer": "ipython3",
   "version": "3.6.8"
  }
 },
 "nbformat": 4,
 "nbformat_minor": 5
}
