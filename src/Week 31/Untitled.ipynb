{
 "cells": [
  {
   "cell_type": "code",
   "execution_count": 1,
   "id": "c21de69d",
   "metadata": {},
   "outputs": [],
   "source": [
    "import numpy as np\n",
    "from scipy.stats import chi2\n",
    "import matplotlib.pyplot as plt"
   ]
  },
  {
   "cell_type": "code",
   "execution_count": 3,
   "id": "2315e9a8",
   "metadata": {},
   "outputs": [],
   "source": [
    "r = chi2.rvs(df = 2, size=10000000)"
   ]
  },
  {
   "cell_type": "code",
   "execution_count": 4,
   "id": "de04ff05",
   "metadata": {},
   "outputs": [
    {
     "name": "stdout",
     "output_type": "stream",
     "text": [
      "P(r < 3: 0.777).\n"
     ]
    }
   ],
   "source": [
    "print(f\"P(r < 3: {round(len(r[r < 3]) / len(r), 3)}).\")"
   ]
  }
 ],
 "metadata": {
  "kernelspec": {
   "display_name": "Python 3.6.8 64-bit",
   "language": "python",
   "name": "python36864bit874e3a48d9b148faaa09714964fd179b"
  },
  "language_info": {
   "codemirror_mode": {
    "name": "ipython",
    "version": 3
   },
   "file_extension": ".py",
   "mimetype": "text/x-python",
   "name": "python",
   "nbconvert_exporter": "python",
   "pygments_lexer": "ipython3",
   "version": "3.6.8"
  }
 },
 "nbformat": 4,
 "nbformat_minor": 5
}
