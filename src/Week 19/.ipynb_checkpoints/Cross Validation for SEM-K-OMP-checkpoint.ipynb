{
 "cells": [
  {
   "cell_type": "markdown",
   "id": "d8465209",
   "metadata": {},
   "source": [
    "### Cross Validation for SEM-K-OMP"
   ]
  },
  {
   "cell_type": "code",
   "execution_count": 1,
   "id": "91e04f0d",
   "metadata": {},
   "outputs": [
    {
     "data": {
      "text/plain": [
       "<module 'helper.helper' from '..\\\\helper\\\\helper.py'>"
      ]
     },
     "execution_count": 1,
     "metadata": {},
     "output_type": "execute_result"
    }
   ],
   "source": [
    "import matplotlib.pyplot as plt\n",
    "import numpy as np\n",
    "\n",
    "\n",
    "import sys\n",
    "sys.path.append(\"..\")\n",
    "from notears.notears.notears import linear\n",
    "from notears.notears.notears import utils\n",
    "import helper.helper as h\n",
    "import helper.methods as m\n",
    "\n",
    "from importlib import reload  # Python 3.4+\n",
    "\n",
    "reload(h)"
   ]
  },
  {
   "cell_type": "code",
   "execution_count": 216,
   "id": "951c985f",
   "metadata": {},
   "outputs": [
    {
     "name": "stdout",
     "output_type": "stream",
     "text": [
      "h: 6.31355856484106e-10.\n",
      "rho: 100000000000.0.\n",
      "loss: (0.9647527904779178, array([ 0.01684139, -0.00051158,  0.01612322,  0.02077794, -0.01684139,\n",
      "        0.00051158, -0.01612322, -0.02077794])).\n",
      "[[0.         0.92536624]\n",
      " [0.         0.        ]]\n"
     ]
    }
   ],
   "source": [
    "# help(linear)\n",
    "W_a, h_val = linear.notears_linear(X, lambda1 = 0, loss_type = 'l2')\n",
    "\n",
    "print(W_a)"
   ]
  },
  {
   "cell_type": "code",
   "execution_count": 56,
   "id": "00957ac5",
   "metadata": {},
   "outputs": [
    {
     "name": "stdout",
     "output_type": "stream",
     "text": [
      "True W:\n",
      "[[ 0.    0.    0.    0.    0.    0.    0.    0.    0.    0.  ]\n",
      " [ 0.    0.    0.    0.    0.    0.    0.    0.    0.    0.  ]\n",
      " [ 0.    0.    0.    0.88  0.    0.    0.    0.    0.    0.  ]\n",
      " [ 0.    0.    0.    0.    0.    0.    0.    0.    0.    0.  ]\n",
      " [ 0.    0.    0.    0.    0.    0.    0.    0.    0.    0.  ]\n",
      " [ 0.    0.    0.    0.   -0.8   0.    0.    0.    0.    0.  ]\n",
      " [ 0.    0.    0.    0.    0.    0.    0.    0.    0.    0.  ]\n",
      " [ 0.    0.    0.    0.    0.    0.    0.    0.    0.    0.  ]\n",
      " [ 0.    0.    0.    0.79  0.    0.    0.    0.82  0.    0.91]\n",
      " [ 0.    0.    0.    0.    0.    0.    0.    0.    0.    0.  ]].\n",
      "\n",
      "[[ 0.  -0.1 -0.   0.1  0.   0.   0.  -0.   0.   0.1]\n",
      " [ 0.   0.   0.   0.   0.   0.   0.   0.   0.   0. ]\n",
      " [ 0.   0.   0.   0.8 -0.   0.   0.   0.   0.   0.1]\n",
      " [ 0.   0.   0.   0.   0.   0.   0.   0.   0.  -0. ]\n",
      " [ 0.   0.1  0.   0.   0.   0.   0.   0.   0.   0. ]\n",
      " [ 0.  -0.   0.   0.  -0.8  0.   0.   0.   0.  -0. ]\n",
      " [ 0.  -0.1 -0.   0.  -0.  -0.   0.  -0.1  0.  -0.1]\n",
      " [ 0.  -0.1  0.1  0.  -0.1 -0.1  0.   0.   0.   0. ]\n",
      " [-0.  -0.  -0.1  0.8 -0.   0.1  0.   0.8  0.   0.9]\n",
      " [ 0.   0.   0.   0.   0.   0.   0.   0.   0.   0. ]]\n",
      "9.942727272691407\n",
      "[[ 0.  -0.1 -0.   0.1  0.   0.   0.  -0.   0.   0.1]\n",
      " [ 0.   0.   0.   0.   0.   0.   0.   0.   0.   0. ]\n",
      " [ 0.   0.   0.   0.8 -0.   0.   0.   0.   0.   0.1]\n",
      " [ 0.   0.   0.   0.   0.   0.   0.   0.   0.  -0. ]\n",
      " [ 0.   0.1  0.   0.   0.   0.   0.   0.   0.   0. ]\n",
      " [ 0.  -0.   0.   0.  -0.8  0.   0.   0.   0.  -0. ]\n",
      " [ 0.  -0.1 -0.   0.  -0.  -0.   0.  -0.1  0.  -0.1]\n",
      " [ 0.  -0.1  0.1  0.  -0.1 -0.1  0.   0.   0.   0. ]\n",
      " [-0.  -0.  -0.1  0.8 -0.   0.1  0.   0.8  0.   0.9]\n",
      " [ 0.   0.   0.   0.   0.   0.   0.   0.   0.   0. ]]\n",
      "9.942727272691407\n",
      "[[ 0.  -0.1 -0.   0.1  0.   0.   0.  -0.   0.   0.1]\n",
      " [ 0.   0.   0.   0.   0.   0.   0.   0.   0.   0. ]\n",
      " [ 0.   0.   0.   0.8 -0.   0.   0.   0.   0.   0.1]\n",
      " [ 0.   0.   0.   0.   0.   0.   0.   0.   0.  -0. ]\n",
      " [ 0.   0.1  0.   0.   0.   0.   0.   0.   0.   0. ]\n",
      " [ 0.  -0.   0.   0.  -0.8  0.   0.   0.   0.  -0. ]\n",
      " [ 0.  -0.1 -0.   0.  -0.  -0.   0.  -0.1  0.  -0.1]\n",
      " [ 0.  -0.1  0.1  0.  -0.1 -0.1  0.   0.   0.   0. ]\n",
      " [-0.  -0.  -0.1  0.8 -0.   0.1  0.   0.8  0.   0.9]\n",
      " [ 0.   0.   0.   0.   0.   0.   0.   0.   0.   0. ]]\n",
      "9.942727272691407\n",
      "[[ 0.   0.   0.   0.   0.   0.   0.   0.   0.   0. ]\n",
      " [ 0.   0.   0.   0.   0.   0.   0.   0.   0.   0. ]\n",
      " [ 0.   0.   0.   0.8  0.   0.   0.   0.   0.   0. ]\n",
      " [ 0.   0.   0.   0.   0.   0.   0.   0.   0.   0. ]\n",
      " [ 0.   0.   0.   0.   0.   0.   0.   0.   0.   0. ]\n",
      " [ 0.   0.   0.   0.  -0.8  0.   0.   0.   0.   0. ]\n",
      " [ 0.   0.   0.   0.   0.   0.   0.   0.   0.   0. ]\n",
      " [ 0.   0.   0.   0.   0.   0.   0.   0.   0.   0. ]\n",
      " [ 0.   0.   0.   0.8  0.   0.   0.   0.8  0.   0.9]\n",
      " [ 0.   0.   0.   0.   0.   0.   0.   0.   0.   0. ]]\n",
      "10.038439272526656\n"
     ]
    }
   ],
   "source": [
    "# set random seed\n",
    "# utils.set_random_seed(1)\n",
    "reload(m)\n",
    "\n",
    "# print W\n",
    "T, n, s0, graph_type, sem_type = 500, 10, 5, 'ER', 'gauss'\n",
    "W_true = utils.simulate_parameter(utils.simulate_dag(n, s0, graph_type), w_ranges = ((-1.0, -0.75), (0.75, 1.0)))\n",
    "print(f\"True W:\\n{np.round(W_true, 2)}.\\n\")\n",
    "\n",
    "# plot X\n",
    "X = utils.simulate_linear_sem(W_true, T, sem_type)\n",
    "# X -= np.mean(X, axis = 0)\n",
    "W_K, r = m._K_OMP(X, X, tol = 1e-6, F = [i * (n + 1) for i in range(n)], normalize = True)\n",
    "W_S = m._OMP_SEM(X)\n",
    "W_K2, r = K_OMP(X, X, tol = 1e-6, F = [i * (n + 1) for i in range(n)])\n",
    "W_N, h_val = linear.notears_linear(X, lambda1 = 0.0, loss_type = 'l2', verbose = False)\n",
    "\n",
    "print(np.round(W_K, 1))\n",
    "print(h.MSE(W_K, X, is_sem = True))\n",
    "\n",
    "print(np.round(W_K2, 1))\n",
    "print(h.MSE(W_K2, X, is_sem = True))\n",
    "\n",
    "print(np.round(W_S, 1))\n",
    "print(h.MSE(W_S, X, is_sem = True))\n",
    "\n",
    "print(np.round(W_N, 1))\n",
    "print(h.MSE(W_N, X, is_sem = True))"
   ]
  },
  {
   "cell_type": "code",
   "execution_count": 302,
   "id": "555120dc",
   "metadata": {},
   "outputs": [
    {
     "data": {
      "text/plain": [
       "<module 'helper.methods' from '..\\\\helper\\\\methods.py'>"
      ]
     },
     "execution_count": 302,
     "metadata": {},
     "output_type": "execute_result"
    }
   ],
   "source": [
    "reload(m)"
   ]
  },
  {
   "cell_type": "code",
   "execution_count": 173,
   "id": "7e37aa10",
   "metadata": {},
   "outputs": [
    {
     "name": "stdout",
     "output_type": "stream",
     "text": [
      "[[ 39.95672185 -27.73904087]\n",
      " [-27.73904087  59.86152954]]\n"
     ]
    }
   ],
   "source": [
    "print(X.T.dot(X))\n",
    "\n"
   ]
  },
  {
   "cell_type": "code",
   "execution_count": 343,
   "id": "e76ab8c4",
   "metadata": {},
   "outputs": [
    {
     "name": "stdout",
     "output_type": "stream",
     "text": [
      "[[ 0.          0.          0.          0.79759344  0.        ]\n",
      " [ 0.78795849  0.          0.         -0.88311891 -0.84564878]\n",
      " [ 0.          0.          0.          0.          0.        ]\n",
      " [ 0.          0.          0.          0.          0.        ]\n",
      " [ 0.91445982  0.          0.          0.          0.        ]]\n"
     ]
    }
   ],
   "source": [
    "print(W_true)"
   ]
  },
  {
   "cell_type": "code",
   "execution_count": 108,
   "id": "ec72b9c8",
   "metadata": {},
   "outputs": [
    {
     "name": "stdout",
     "output_type": "stream",
     "text": [
      "0, 1, 2, 3, 4, 5, 6, 7, 8, 9, 10, 11, 12, 13, 14, 15, 16, 17, 18, 19, 20, 21, 22, 23, 24, 25, 26, 27, 28, 29, 30, 31, 32, 33, 34, 35, 36, 37, 38, 39, 40, 41, 42, 43, 44, 45, 46, 47, 48, 49, 50, 51, 52, 53, 54, 55, 56, 57, 58, 59, 60, 61, 62, 63, 64, 65, 66, 67, 68, 69, 70, 71, 72, 73, 74, 75, 76, 77, 78, 79, 80, 81, 82, 83, 84, 85, 86, 87, 88, 89, 90, 91, 92, 93, 94, 95, 96, 97, 98, 99, [3.24585937 3.16352902 3.09636145 3.0369666  3.00473444 3.00216496\n",
      " 3.03185372 3.04542377 3.05351836 3.05117735 3.06437057 3.07131271\n",
      " 3.07051087 3.06727002 3.07294183 3.07217756 3.0715212  3.06802198\n",
      " 3.07113817 3.07412055 3.08007552 3.08151304 3.08290909 3.08406056\n",
      " 3.08392714 3.08421306 3.08322043 3.08345742 3.08689965 3.08783106\n",
      " 3.08754153 3.08887437 3.09113983 3.09114219 3.09118488 3.09127931\n",
      " 3.09096939 3.09041419 3.0905861  3.09079161 3.09052788 3.0900476\n",
      " 3.09025532 3.09017885 3.09022456]\n"
     ]
    },
    {
     "data": {
      "image/png": "[encoded data removed]",
      "text/plain": [
       "<Figure size 432x288 with 1 Axes>"
      ]
     },
     "metadata": {
      "needs_background": "light"
     },
     "output_type": "display_data"
    }
   ],
   "source": [
    "def LOOCV(X):\n",
    "   \n",
    "    mses_avg = []\n",
    "    \n",
    "    for i in range(T):\n",
    "        \n",
    "        print(i, end = \", \")\n",
    "        # run OMP on all excluding one X_i\n",
    "        # we do this by simply attaching X_i+1: to X_:i-1\n",
    "        # however, the gap is too large, so we need to remove the \"effect\" of X_i\n",
    "        # we do this by subtracting the difference between X_i and X_i-1 from X_i+1:\n",
    "        X_train = np.delete(X, i, axis = 0)\n",
    "\n",
    "        # run OMP\n",
    "        W, Ws = K_OMP(X_train, X_train, tol = 1e-6, F = [i * (n + 1) for i in range(n)], normalize = True)\n",
    "        \n",
    "        mses = []\n",
    "        \n",
    "        for W in Ws:\n",
    "            mses.append(np.linalg.norm(X[i] - X[i] @ W) ** 2)\n",
    "        \n",
    "        mses_avg.append(mses)\n",
    "        \n",
    "    mses_avg = np.array(mses_avg) \n",
    "    \n",
    "    avg = np.sum(mses_avg, axis = 0) / np.shape(mses_avg)[0]\n",
    "              \n",
    "    plt.xlabel(\"Edges Remaining (ordered by importance).\")\n",
    "    plt.ylabel(\"Mean Squared Error (MSE).\")\n",
    "    plt.vlines(np.argmin(avg) + 1, min(avg) - 0.25, max(avg), linestyle = '--')\n",
    "    plt.plot(range(1, len(avg) + 1), avg)\n",
    "    \n",
    "    return avg\n",
    "\n",
    "T = 100\n",
    "X = utils.simulate_linear_sem(W_true, T, sem_type)\n",
    "mses_avg = LOOCV(X)\n",
    "\n",
    "print(mses_avg)"
   ]
  },
  {
   "cell_type": "code",
   "execution_count": 67,
   "id": "923bdcaa",
   "metadata": {},
   "outputs": [
    {
     "name": "stdout",
     "output_type": "stream",
     "text": [
      "(250, 10)\n",
      "500\n"
     ]
    }
   ],
   "source": [
    "print(np.shape(X[:T//2]))\n",
    "print(T)"
   ]
  },
  {
   "cell_type": "code",
   "execution_count": 115,
   "id": "b28e0bad",
   "metadata": {},
   "outputs": [
    {
     "data": {
      "image/png": "[encoded data removed]",
      "text/plain": [
       "<Figure size 432x288 with 1 Axes>"
      ]
     },
     "metadata": {
      "needs_background": "light"
     },
     "output_type": "display_data"
    }
   ],
   "source": [
    "def SPLIT(X):\n",
    "   \n",
    "    mses_avg = []\n",
    "    \n",
    "    for i in range(1):\n",
    "        # run OMP on all excluding one X_i\n",
    "        # we do this by simply attaching X_i+1: to X_:i-1\n",
    "        # however, the gap is too large, so we need to remove the \"effect\" of X_i\n",
    "        # we do this by subtracting the difference between X_i and X_i-1 from X_i+1:\n",
    "\n",
    "        # run OMP\n",
    "        W, Ws = K_OMP(X[:T//2], X[:T//2], tol = 1e-6, F = [i * (n + 1) for i in range(n)], normalize = True, output = True)\n",
    "        \n",
    "        mses = []\n",
    "        \n",
    "        for W in Ws:\n",
    "            mses.append(np.linalg.norm(X[T//2:] - X[T//2:] @ W) ** 2 / (T // 2))\n",
    "\n",
    "        mses_avg.append(mses)\n",
    "        \n",
    "        W, Ws = K_OMP(X[T//2:], X[T//2:], F = [i * (n + 1) for i in range(n)], output = True, normalize = True)\n",
    "        \n",
    "        mses = []\n",
    "        \n",
    "        for W in Ws:\n",
    "            mses.append(np.linalg.norm(X[:T//2] - X[:T//2] @ W) ** 2 / (T // 2))\n",
    "        \n",
    "        mses_avg.append(mses)\n",
    "        \n",
    "    mses_avg = np.array(mses_avg) \n",
    "    avg = np.sum(mses_avg, axis = 0) / np.shape(mses_avg)[0]\n",
    "              \n",
    "    plt.xlabel(\"Edges Remaining (ordered by importance).\")\n",
    "    plt.ylabel(\"Mean Squared Error (MSE).\")\n",
    "    plt.vlines(np.argmin(avg) + 1, min(avg) - 0.25, max(avg), linestyle = '--')\n",
    "    plt.plot(range(1, len(avg) + 1), avg)\n",
    "    \n",
    "    return avg\n",
    "\n",
    "# X = utils.simulate_linear_sem(W_true, T, sem_type)\n",
    "mses_avg = SPLIT(X)"
   ]
  },
  {
   "cell_type": "code",
   "execution_count": 39,
   "id": "3ac357bc",
   "metadata": {},
   "outputs": [
    {
     "data": {
      "text/plain": [
       "(array([[ 0.        ,  0.92566662, -0.01334066,  0.78018366, -0.08398154],\n",
       "        [ 0.        ,  0.        ,  0.11237819,  0.65250108,  0.        ],\n",
       "        [ 0.        ,  0.        ,  0.        ,  0.17201879,  0.        ],\n",
       "        [ 0.        ,  0.        ,  0.        ,  0.        ,  0.        ],\n",
       "        [ 0.        ,  0.78533977,  0.92987278,  0.05382256,  0.        ]]),\n",
       " [array([[0.       , 0.       , 0.       , 0.       , 0.       ],\n",
       "         [0.       , 0.       , 0.       , 1.0350751, 0.       ],\n",
       "         [0.       , 0.       , 0.       , 0.       , 0.       ],\n",
       "         [0.       , 0.       , 0.       , 0.       , 0.       ],\n",
       "         [0.       , 0.       , 0.       , 0.       , 0.       ]]),\n",
       "  array([[0.        , 0.        , 0.        , 0.        , 0.        ],\n",
       "         [0.        , 0.        , 0.        , 1.0350751 , 0.        ],\n",
       "         [0.        , 0.        , 0.        , 0.        , 0.        ],\n",
       "         [0.        , 0.        , 0.        , 0.        , 0.        ],\n",
       "         [0.        , 0.        , 1.01084227, 0.        , 0.        ]]),\n",
       "  array([[0.        , 0.85971258, 0.        , 0.        , 0.        ],\n",
       "         [0.        , 0.        , 0.        , 1.0350751 , 0.        ],\n",
       "         [0.        , 0.        , 0.        , 0.        , 0.        ],\n",
       "         [0.        , 0.        , 0.        , 0.        , 0.        ],\n",
       "         [0.        , 0.        , 1.01084227, 0.        , 0.        ]]),\n",
       "  array([[0.        , 0.92566662, 0.        , 0.        , 0.        ],\n",
       "         [0.        , 0.        , 0.        , 1.0350751 , 0.        ],\n",
       "         [0.        , 0.        , 0.        , 0.        , 0.        ],\n",
       "         [0.        , 0.        , 0.        , 0.        , 0.        ],\n",
       "         [0.        , 0.78533977, 1.01084227, 0.        , 0.        ]]),\n",
       "  array([[0.        , 0.92566662, 0.        , 0.66258392, 0.        ],\n",
       "         [0.        , 0.        , 0.        , 0.78506948, 0.        ],\n",
       "         [0.        , 0.        , 0.        , 0.        , 0.        ],\n",
       "         [0.        , 0.        , 0.        , 0.        , 0.        ],\n",
       "         [0.        , 0.78533977, 1.01084227, 0.        , 0.        ]]),\n",
       "  array([[0.        , 0.92566662, 0.        , 0.7620539 , 0.        ],\n",
       "         [0.        , 0.        , 0.        , 0.66820399, 0.        ],\n",
       "         [0.        , 0.        , 0.        , 0.19318932, 0.        ],\n",
       "         [0.        , 0.        , 0.        , 0.        , 0.        ],\n",
       "         [0.        , 0.78533977, 1.01084227, 0.        , 0.        ]]),\n",
       "  array([[0.        , 0.92566662, 0.        , 0.7620539 , 0.        ],\n",
       "         [0.        , 0.        , 0.10536956, 0.66820399, 0.        ],\n",
       "         [0.        , 0.        , 0.        , 0.19318932, 0.        ],\n",
       "         [0.        , 0.        , 0.        , 0.        , 0.        ],\n",
       "         [0.        , 0.78533977, 0.9359275 , 0.        , 0.        ]]),\n",
       "  array([[ 0.        ,  0.92566662,  0.        ,  0.7620539 , -0.08398154],\n",
       "         [ 0.        ,  0.        ,  0.10536956,  0.66820399,  0.        ],\n",
       "         [ 0.        ,  0.        ,  0.        ,  0.19318932,  0.        ],\n",
       "         [ 0.        ,  0.        ,  0.        ,  0.        ,  0.        ],\n",
       "         [ 0.        ,  0.78533977,  0.9359275 ,  0.        ,  0.        ]]),\n",
       "  array([[ 0.        ,  0.92566662,  0.        ,  0.78018366, -0.08398154],\n",
       "         [ 0.        ,  0.        ,  0.10536956,  0.65250108,  0.        ],\n",
       "         [ 0.        ,  0.        ,  0.        ,  0.17201879,  0.        ],\n",
       "         [ 0.        ,  0.        ,  0.        ,  0.        ,  0.        ],\n",
       "         [ 0.        ,  0.78533977,  0.9359275 ,  0.05382256,  0.        ]]),\n",
       "  array([[ 0.        ,  0.92566662, -0.01334066,  0.78018366, -0.08398154],\n",
       "         [ 0.        ,  0.        ,  0.11237819,  0.65250108,  0.        ],\n",
       "         [ 0.        ,  0.        ,  0.        ,  0.17201879,  0.        ],\n",
       "         [ 0.        ,  0.        ,  0.        ,  0.        ,  0.        ],\n",
       "         [ 0.        ,  0.78533977,  0.92987278,  0.05382256,  0.        ]])])"
      ]
     },
     "execution_count": 39,
     "metadata": {},
     "output_type": "execute_result"
    }
   ],
   "source": [
    "def K_OMP(X, Y, max_coefs = 1e10, tol = 1e-12, verbose = False, output = False, F = [], normalize = True):\n",
    "    \"\"\"Do Kernel OMP on X, Y.\"\"\"\n",
    "\n",
    "    def Lambda_to_adj(Lambda):\n",
    "        \"\"\"Convert Lambda list to adjacency matrix\"\"\"\n",
    "        n = len(Lambda)\n",
    "    \n",
    "        adj_mat = np.zeros((n, n))\n",
    "    \n",
    "        for i, col in enumerate(Lambda):\n",
    "            adj_mat[i, col] = 1 \n",
    "    \n",
    "        return adj_mat\n",
    "    \n",
    "    # get dimensions\n",
    "    T, n = np.shape(X)\n",
    "    \n",
    "    # compute kernel spaces\n",
    "    Psi = X.T.dot(X)                    # p times p\n",
    "    K = X.T.dot(Y)                      # p  times p\n",
    "    Theta = [y.T.dot(y) for y in Y.T]   # 1 times 1\n",
    "    \n",
    "    # initialize Lambda, idx, betas\n",
    "    Lambda, idx, betas = [[] for _ in range(n)], [], np.zeros((n, n))\n",
    "    \n",
    "    norms = [1] * n\n",
    "    if normalize: norms = [np.linalg.norm(x, 2) for x in X.T]\n",
    "    Ws = []\n",
    "    \n",
    "    # for each possible coefficient\n",
    "    for i in range(n ** 2):    \n",
    "    \n",
    "        # compute gains\n",
    "        gains = np.abs([(k - betas.T @ Psi[i, :]) / norms[i] for i, k in enumerate(K)])\n",
    "        \n",
    "        # set forbidden set to -1, impossible to pick then\n",
    "        gains = gains.flatten()\n",
    "        gains[F] = - np.ones(len(F))\n",
    "        gains = gains.reshape(n, n)\n",
    "\n",
    "        # print(np.round(gains, 2))\n",
    "        if np.max(gains) <= tol: break\n",
    "\n",
    "        # append best atom to Lambda\n",
    "        to_pick = np.argmax(gains)\n",
    "\n",
    "        # if tie, pick the one that minimizes residual        \n",
    "        if len(np.flatnonzero(gains == gains.max())) > 1:   \n",
    "            \n",
    "            mse_best_tie = np.inf\n",
    "            \n",
    "            # check which yields the smallest MSE\n",
    "            for tie in np.flatnonzero(gains == gains.max()):\n",
    "                \n",
    "                # get row and column of tie\n",
    "                row, col = tie // n, tie % n\n",
    "                \n",
    "                # add to list of suitable atoms\n",
    "                idx_temp, betas_temp = Lambda[col].copy(), betas.copy()\n",
    "                idx_temp.append(row)\n",
    "\n",
    "                # update betas        \n",
    "                betas_temp[np.array(idx_temp)[:, None], col] = np.linalg.inv(Psi[np.array(idx_temp)[:, None], np.array(idx_temp)[None, :]]) @ K[np.array(idx_temp)[:, None], col]\n",
    "                \n",
    "                # check MSE\n",
    "                mse_tie = h.MSE(betas_temp, X, is_sem = True)\n",
    "\n",
    "                if mse_tie < mse_best_tie:\n",
    "                    mse_best_tie = mse_tie\n",
    "                    to_pick = tie\n",
    "            \n",
    "            print(\"Broke Tie\")\n",
    "\n",
    "        row, col = to_pick // n, to_pick % n\n",
    "        Lambda[col].append(row)\n",
    "    \n",
    "        # check if we have a DAG, not super efficient\n",
    "        if h.is_dag(Lambda_to_adj(Lambda)): \n",
    "            # update only column col, use indices of \n",
    "            idx = Lambda[col]\n",
    "            Psi_F = Psi[np.array(idx)[:, None], np.array(idx)[None, :]]\n",
    "        \n",
    "            # update betas        \n",
    "            betas[np.array(idx)[:, None], col] = np.linalg.inv(Psi_F) @ K[np.array(idx)[:, None], col]\n",
    "            \n",
    "            Ws.append(betas.copy())\n",
    "            \n",
    "        else:\n",
    "            # append forbidden entry to forbidden list\n",
    "            F.append(int(np.argmax(gains)))\n",
    "            # remove coefficient from Lambda\n",
    "            Lambda[col].remove(row)\n",
    "    \n",
    "        # print info if verbose\n",
    "        if verbose:\n",
    "            print(f\"Iteration {i + 1}.\\n\")\n",
    "            print(f\"Gains:\\n{np.round(gains, 3)}.\\n\")\n",
    "            print(f\"Beta_{i + 1}:\\n{np.round(betas, 3)}.\\n\")\n",
    "            print(f\"Residual Squared: {np.round([Theta[i] - K[:, i] @ betas[:, i] for i in range(n)], 32)}.\\n\\n\")\n",
    "\n",
    "    return betas, Ws #, [Theta[i] - K[:, i] @ betas[:, i] for i in range(n)]\n",
    "\n",
    "K_OMP(X, X, F = [i * (n + 1) for i in range(n)], normalize = True)"
   ]
  },
  {
   "cell_type": "code",
   "execution_count": null,
   "id": "a3d0fbad",
   "metadata": {},
   "outputs": [],
   "source": []
  }
 ],
 "metadata": {
  "kernelspec": {
   "display_name": "Python 3.6.8 64-bit",
   "language": "python",
   "name": "python36864bit874e3a48d9b148faaa09714964fd179b"
  },
  "language_info": {
   "codemirror_mode": {
    "name": "ipython",
    "version": 3
   },
   "file_extension": ".py",
   "mimetype": "text/x-python",
   "name": "python",
   "nbconvert_exporter": "python",
   "pygments_lexer": "ipython3",
   "version": "3.6.8"
  }
 },
 "nbformat": 4,
 "nbformat_minor": 5
}
