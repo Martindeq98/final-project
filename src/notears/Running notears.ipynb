{
 "cells": [
  {
   "cell_type": "markdown",
   "id": "c9395382",
   "metadata": {},
   "source": [
    "### Running notears\n",
    "Very simple! Clone the repo, interestingly enough, copy \"linear.py\" up one directory, and run the command below"
   ]
  },
  {
   "cell_type": "code",
   "execution_count": 6,
   "id": "9fe52cc7",
   "metadata": {},
   "outputs": [
    {
     "name": "stdout",
     "output_type": "stream",
     "text": [
      "SEM based on a graph on 8 nodes and 5 edges, 50 samples.\n",
      "Original Adjacency Matrix: \n",
      "[[0. 0. 0. 0. 0. 0. 0. 0.]\n",
      " [0. 0. 0. 0. 1. 0. 0. 0.]\n",
      " [0. 0. 0. 0. 0. 0. 0. 0.]\n",
      " [0. 0. 0. 0. 0. 0. 0. 0.]\n",
      " [0. 0. 0. 1. 0. 0. 0. 0.]\n",
      " [0. 0. 0. 0. 1. 0. 1. 0.]\n",
      " [0. 0. 0. 0. 0. 0. 0. 0.]\n",
      " [0. 0. 0. 0. 1. 0. 0. 0.]].\n",
      "Original WAM: \n",
      "[[ 0.    0.    0.    0.    0.    0.    0.    0.  ]\n",
      " [ 0.    0.    0.    0.    1.63  0.    0.    0.  ]\n",
      " [ 0.    0.    0.    0.    0.    0.    0.    0.  ]\n",
      " [ 0.    0.    0.    0.    0.    0.    0.    0.  ]\n",
      " [ 0.    0.    0.    1.62  0.    0.    0.    0.  ]\n",
      " [ 0.    0.    0.    0.   -1.6   0.    0.61  0.  ]\n",
      " [ 0.    0.    0.    0.    0.    0.    0.    0.  ]\n",
      " [ 0.    0.    0.    0.    0.74  0.    0.    0.  ]].\n",
      "Estimated WAM: \n",
      "[[ 0.    0.    0.    0.    0.    0.    0.    0.  ]\n",
      " [ 0.    0.    0.    0.    1.48  0.    0.    0.  ]\n",
      " [ 0.    0.    0.    0.    0.    0.    0.    0.  ]\n",
      " [ 0.    0.    0.    0.    0.    0.    0.    0.  ]\n",
      " [ 0.    0.    0.    1.59  0.    0.    0.    0.  ]\n",
      " [ 0.    0.    0.    0.   -1.76  0.    0.    0.  ]\n",
      " [ 0.    0.    0.    0.    0.    0.    0.    0.  ]\n",
      " [ 0.    0.    0.    0.    0.38  0.    0.    0.  ]].\n",
      "{'fdr': 0.0, 'tpr': 0.8, 'fpr': 0.0, 'shd': 1, 'nnz': 4}\n"
     ]
    }
   ],
   "source": [
    "!python notears/linear.py"
   ]
  },
  {
   "cell_type": "markdown",
   "id": "be05dcf8",
   "metadata": {},
   "source": [
    "### Visualisations of the results\n",
    "How does the generated signal look like?\n",
    "\n",
    "By default, running linear.py does:\n",
    "- Generate a DAG ER-graph with Gaussian noise, $d$ nodes and $s_0$ edges. \n",
    "- Generated WAM of an AM, where all non-zero entries are uniform (-2.0, -0.5) cup (0.5, 2.0)\n",
    "- Generate $n$ samples according to this SEM.\n",
    "- Apply notears"
   ]
  },
  {
   "cell_type": "markdown",
   "id": "4c5ef93b",
   "metadata": {},
   "source": [
    "We already know that the graph is a DAG, then the population problem is easy for VARS."
   ]
  }
 ],
 "metadata": {
  "kernelspec": {
   "display_name": "Python 3 (ipykernel)",
   "language": "python",
   "name": "python3"
  },
  "language_info": {
   "codemirror_mode": {
    "name": "ipython",
    "version": 3
   },
   "file_extension": ".py",
   "mimetype": "text/x-python",
   "name": "python",
   "nbconvert_exporter": "python",
   "pygments_lexer": "ipython3",
   "version": "3.9.5"
  }
 },
 "nbformat": 4,
 "nbformat_minor": 5
}
