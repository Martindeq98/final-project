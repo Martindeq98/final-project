{
 "cells": [
  {
   "cell_type": "markdown",
   "id": "c9395382",
   "metadata": {},
   "source": [
    "### Running notears\n",
    "Very simple! Clone the repo, interestingly enough, copy \"linear.py\" up one directory, and run the command below"
   ]
  },
  {
   "cell_type": "code",
   "execution_count": 14,
   "id": "9fe52cc7",
   "metadata": {},
   "outputs": [
    {
     "name": "stdout",
     "output_type": "stream",
     "text": [
      "SEM based on a graph on 100 nodes and 200 edges, 50 samples.\n",
      "Original Adjacency Matrix: \n",
      "[[0. 0. 0. ... 0. 0. 0.]\n",
      " [0. 0. 0. ... 0. 0. 0.]\n",
      " [0. 0. 0. ... 0. 0. 0.]\n",
      " ...\n",
      " [0. 0. 0. ... 0. 0. 0.]\n",
      " [0. 0. 0. ... 0. 0. 0.]\n",
      " [0. 0. 0. ... 0. 0. 0.]].\n",
      "Original WAM: \n",
      "[[0. 0. 0. ... 0. 0. 0.]\n",
      " [0. 0. 0. ... 0. 0. 0.]\n",
      " [0. 0. 0. ... 0. 0. 0.]\n",
      " ...\n",
      " [0. 0. 0. ... 0. 0. 0.]\n",
      " [0. 0. 0. ... 0. 0. 0.]\n",
      " [0. 0. 0. ... 0. 0. 0.]].\n",
      "Estimated WAM: \n",
      "[[0. 0. 0. ... 0. 0. 0.]\n",
      " [0. 0. 0. ... 0. 0. 0.]\n",
      " [0. 0. 0. ... 0. 0. 0.]\n",
      " ...\n",
      " [0. 0. 0. ... 0. 0. 0.]\n",
      " [0. 0. 0. ... 0. 0. 0.]\n",
      " [0. 0. 0. ... 0. 0. 0.]].\n",
      "{'fdr': 0.28440366972477066, 'tpr': 0.78, 'fpr': 0.013052631578947368, 'shd': 103, 'nnz': 218}\n"
     ]
    }
   ],
   "source": [
    "!python notears/linear.py"
   ]
  },
  {
   "cell_type": "markdown",
   "id": "be05dcf8",
   "metadata": {},
   "source": [
    "### Visualisations of the results\n",
    "How does the generated signal look like?\n",
    "\n",
    "By default, running linear.py does:\n",
    "- Generate a DAG ER-graph with Gaussian noise, $d$ nodes and $s_0$ edges. \n",
    "- Generated WAM of an AM, where all non-zero entries are uniform (-2.0, -0.5) cup (0.5, 2.0)\n",
    "- Generate $n$ samples according to this SEM.\n",
    "- Apply notears"
   ]
  },
  {
   "cell_type": "markdown",
   "id": "4c5ef93b",
   "metadata": {},
   "source": [
    "We already know that the graph is a DAG, then the population problem is incredibly easy!"
   ]
  }
 ],
 "metadata": {
  "kernelspec": {
   "display_name": "Python 3",
   "language": "python",
   "name": "python3"
  },
  "language_info": {
   "codemirror_mode": {
    "name": "ipython",
    "version": 3
   },
   "file_extension": ".py",
   "mimetype": "text/x-python",
   "name": "python",
   "nbconvert_exporter": "python",
   "pygments_lexer": "ipython3",
   "version": "3.8.10"
  }
 },
 "nbformat": 4,
 "nbformat_minor": 5
}
