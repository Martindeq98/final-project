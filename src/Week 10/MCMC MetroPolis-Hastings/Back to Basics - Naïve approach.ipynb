{
 "cells": [
  {
   "cell_type": "markdown",
   "id": "0e98eef6",
   "metadata": {},
   "source": [
    "### Back to Basics\n",
    "Simply try all permutations. For each permutation, compute the optimal A by minimizing the log-likelihood using gradient descent. "
   ]
  },
  {
   "cell_type": "code",
   "execution_count": 59,
   "id": "282eaa33",
   "metadata": {},
   "outputs": [],
   "source": [
    "import sys\n",
    "import itertools\n",
    "import numpy as np\n",
    "from tqdm import tqdm\n",
    "import matplotlib.pyplot as plt\n",
    "\n",
    "sys.path.append(\"..\")\n",
    "import helper.helper as h"
   ]
  },
  {
   "cell_type": "markdown",
   "id": "199e4830",
   "metadata": {},
   "source": [
    "Generate a random $A$, with $\\texttt{num_edges}$, where the edge weights are between $0.5$ and $1.0$. The matrix $A$ is lower triangular, but allows for entries to be non-zero on the diagonal."
   ]
  },
  {
   "cell_type": "code",
   "execution_count": 60,
   "id": "9bbc5138",
   "metadata": {},
   "outputs": [],
   "source": [
    "def generate_A(n, num_edges):\n",
    "    edges = np.array([0.0] * (int(n * (n + 1) / 2) - num_edges) + [1.0] * num_edges)\n",
    "    \n",
    "    edges[edges > 0] = (2 * np.random.randint(0, 2, size=(num_edges)) - 1) * np.random.uniform(0.5, 0.75, num_edges)\n",
    "    np.random.shuffle(edges)\n",
    "    \n",
    "    A = np.zeros((n, n))\n",
    "    A[np.tril_indices(n)] = edges\n",
    "    \n",
    "    return A"
   ]
  },
  {
   "cell_type": "markdown",
   "id": "cac4c6c6",
   "metadata": {},
   "source": [
    "Generate data according to a VAR(1) model with $P^TAP$ as matrix. $\\texttt{n}$-dimensional, $\\texttt{s}$ non-zero entries, $\\texttt{T}$ samples."
   ]
  },
  {
   "cell_type": "code",
   "execution_count": 101,
   "id": "32bab880",
   "metadata": {},
   "outputs": [
    {
     "data": {
      "image/png": "[encoded data removed]",
      "text/plain": [
       "<Figure size 432x288 with 1 Axes>"
      ]
     },
     "metadata": {
      "needs_background": "light"
     },
     "output_type": "display_data"
    }
   ],
   "source": [
    "## Number of dimensions, number of edges, number of samples\n",
    "T, n, s = 1000, 15, 120\n",
    "\n",
    "## Coefficient matrix\n",
    "A_true = generate_A(n, s)\n",
    "\n",
    "## True permutation\n",
    "P_true = np.random.permutation(np.identity(n))\n",
    "\n",
    "## Generate series\n",
    "X = h.generate_var_2(T, n, A_true, P_true)\n",
    "plt.plot(X);\n",
    "\n",
    "## Only print matrices when n <= 10\n",
    "if n <= 10:\n",
    "    print(f\"A:\\n{np.round(A_true, 2)}\\n\\nP:\\n{P_true}.\")"
   ]
  },
  {
   "cell_type": "markdown",
   "id": "05f0a0ba",
   "metadata": {},
   "source": [
    "Loss function. Stack all data into $\\mathbf{X}$.\n",
    "\n",
    "The loss function is\n",
    "$$l(A, P; \\mathbf{X}) = \\frac{1}{T-1}\\left\\lVert\\mathbf{X}_{[1:T]} - \\mathbf{X}_{[0:T-1]} P^T A P\\right\\rVert_F^2$$\n",
    "Its gradient is\n",
    "$$\\nabla l(A, P; \\mathbf{X}) = -\\frac{2}{T-1}\\left(\\mathbf{X}_{[0:T-1]} P^T\\right)^T \\left\\lVert\\mathbf{X}_{[1:T]} - \\mathbf{X}_{[0:T-1]} P^T A P\\right\\rVert_F P^T$$"
   ]
  },
  {
   "cell_type": "code",
   "execution_count": 63,
   "id": "c91194d4",
   "metadata": {},
   "outputs": [],
   "source": [
    "def loss(A, P = np.identity(n)):\n",
    "    W = P.T @ A @ P\n",
    "    M = X @ W\n",
    "    \n",
    "    # Remove X[0] and XW[last]\n",
    "    R = X[1:] - M[:-1]\n",
    "    \n",
    "    # Frobenius norm squared loss\n",
    "    loss = 1 / X[1:].shape[0] * (R ** 2).sum()\n",
    "    \n",
    "    # Gradient using chain rule\n",
    "    G_loss = - 2.0 / X[1:].shape[0] * (X[:-1] @ P.T).T @ R @ P.T\n",
    "    \n",
    "    return loss, G_loss"
   ]
  },
  {
   "cell_type": "markdown",
   "id": "84e47bec",
   "metadata": {},
   "source": [
    "Optimizing $A$ given $P$. We use gradient descent, where we are only allowed to modify the lower triangular part of $A$ to adhere to acyclicity. \n",
    "\n",
    "We have\n",
    "$$A \\leftarrow A - \\eta \\cdot \\nabla l(A, P; \\mathbf{X})$$"
   ]
  },
  {
   "cell_type": "code",
   "execution_count": 64,
   "id": "58835234",
   "metadata": {},
   "outputs": [],
   "source": [
    "import statsmodels.api as sm\n",
    "\n",
    "def ols_W(X, P, LT = False):\n",
    "    # translate X\n",
    "    x = X @ P.T\n",
    "    \n",
    "    # get regressor and varibles\n",
    "    y = x[1:]\n",
    "    x = x[:-1]\n",
    "\n",
    "    W_hat = np.array(np.zeros(n)).T\n",
    "\n",
    "    # get parameters\n",
    "    for i in range(n):\n",
    "        est = sm.OLS(y[:, i], x[:, i:]).fit()   \n",
    "        W_hat = np.vstack((W_hat, np.append(np.zeros(i), est.params).T))\n",
    "    \n",
    "    if LT:\n",
    "        return W_hat[1:].T\n",
    "    \n",
    "    return P.T @ W_hat[1:].T @ P"
   ]
  },
  {
   "cell_type": "code",
   "execution_count": 91,
   "id": "29f88a3c",
   "metadata": {},
   "outputs": [],
   "source": [
    "def opt_A(P):\n",
    "    # initialization\n",
    "    A = np.zeros((n, n))\n",
    "    \n",
    "    # first loss evaluation\n",
    "    l, g_A = loss(A, P)\n",
    "    \n",
    "    old_l = np.inf\n",
    "    \n",
    "    step_size = 5e-1\n",
    "    \n",
    "    # stopping criteration\n",
    "    while np.sum(np.tril(np.abs(g_A))) > 1e-1:\n",
    "        # gradient descent step\n",
    "        A -= step_size * np.tril(g_A)\n",
    "\n",
    "        # re-evaluate loss\n",
    "        l, g_A = loss(A, P)\n",
    "        \n",
    "        # if we descended too far\n",
    "        if l > old_l:\n",
    "            step_size /= 1.5\n",
    "        \n",
    "        old_l = l\n",
    "        \n",
    "        step_size *= 1.1\n",
    "    \n",
    "    # return stationary point A\n",
    "    return A"
   ]
  },
  {
   "cell_type": "markdown",
   "id": "2d97bc94",
   "metadata": {},
   "source": [
    "Likelihood of a permutation matrix $P$. In other words, the \"score\" we assign to a permutation matrix $P$. We define\n",
    "$$l(P; \\mathbf{X}) = \\arg_{A \\in LT} \\min l(A, P; \\mathbf{X})$$"
   ]
  },
  {
   "cell_type": "code",
   "execution_count": 66,
   "id": "453ed492",
   "metadata": {},
   "outputs": [],
   "source": [
    "def get_likelihood(P):    \n",
    "    # Get using least squares\n",
    "    A_opt = P @ ols_W(X, P) @ P.T\n",
    "    \n",
    "    # get loss    \n",
    "    return loss(A_opt, P)[0]"
   ]
  },
  {
   "cell_type": "markdown",
   "id": "8706f316",
   "metadata": {},
   "source": [
    "Naive algorithm. For each possible permutation matrix, compute all permutation matrices. In other words,\n",
    "$$P = \\arg_{P \\in \\mathcal{P}} \\min l(P;\\mathbf{X})$$"
   ]
  },
  {
   "cell_type": "code",
   "execution_count": 76,
   "id": "baeeb79c",
   "metadata": {},
   "outputs": [
    {
     "name": "stderr",
     "output_type": "stream",
     "text": [
      "  0%|                                                             | 981/1307674368000 [00:08<3148613:08:19, 115.37it/s]\n"
     ]
    },
    {
     "ename": "KeyboardInterrupt",
     "evalue": "",
     "output_type": "error",
     "traceback": [
      "\u001b[1;31m---------------------------------------------------------------------------\u001b[0m",
      "\u001b[1;31mKeyboardInterrupt\u001b[0m                         Traceback (most recent call last)",
      "\u001b[1;32m<ipython-input-76-930fccdbe1e8>\u001b[0m in \u001b[0;36m<module>\u001b[1;34m\u001b[0m\n\u001b[0;32m      6\u001b[0m \u001b[1;32mfor\u001b[0m \u001b[0mperm\u001b[0m \u001b[1;32min\u001b[0m \u001b[0mtqdm\u001b[0m\u001b[1;33m(\u001b[0m\u001b[0mperms\u001b[0m\u001b[1;33m,\u001b[0m \u001b[0mtotal\u001b[0m\u001b[1;33m=\u001b[0m\u001b[0mtotal\u001b[0m\u001b[1;33m)\u001b[0m\u001b[1;33m:\u001b[0m\u001b[1;33m\u001b[0m\u001b[1;33m\u001b[0m\u001b[0m\n\u001b[0;32m      7\u001b[0m     \u001b[0mperm\u001b[0m \u001b[1;33m=\u001b[0m \u001b[0mnp\u001b[0m\u001b[1;33m.\u001b[0m\u001b[0marray\u001b[0m\u001b[1;33m(\u001b[0m\u001b[0mperm\u001b[0m\u001b[1;33m)\u001b[0m\u001b[1;33m\u001b[0m\u001b[1;33m\u001b[0m\u001b[0m\n\u001b[1;32m----> 8\u001b[1;33m     \u001b[0mL\u001b[0m \u001b[1;33m=\u001b[0m \u001b[0mget_likelihood\u001b[0m\u001b[1;33m(\u001b[0m\u001b[0mperm\u001b[0m\u001b[1;33m)\u001b[0m\u001b[1;33m\u001b[0m\u001b[1;33m\u001b[0m\u001b[0m\n\u001b[0m\u001b[0;32m      9\u001b[0m     \u001b[1;32mif\u001b[0m \u001b[0mL\u001b[0m \u001b[1;33m<\u001b[0m \u001b[0mL_best\u001b[0m\u001b[1;33m:\u001b[0m\u001b[1;33m\u001b[0m\u001b[1;33m\u001b[0m\u001b[0m\n\u001b[0;32m     10\u001b[0m         \u001b[0mP_best\u001b[0m\u001b[1;33m,\u001b[0m \u001b[0mL_best\u001b[0m \u001b[1;33m=\u001b[0m \u001b[0mperm\u001b[0m\u001b[1;33m,\u001b[0m \u001b[0mL\u001b[0m\u001b[1;33m\u001b[0m\u001b[1;33m\u001b[0m\u001b[0m\n",
      "\u001b[1;32m<ipython-input-66-408fa0331ed9>\u001b[0m in \u001b[0;36mget_likelihood\u001b[1;34m(P)\u001b[0m\n\u001b[0;32m      1\u001b[0m \u001b[1;32mdef\u001b[0m \u001b[0mget_likelihood\u001b[0m\u001b[1;33m(\u001b[0m\u001b[0mP\u001b[0m\u001b[1;33m)\u001b[0m\u001b[1;33m:\u001b[0m\u001b[1;33m\u001b[0m\u001b[1;33m\u001b[0m\u001b[0m\n\u001b[0;32m      2\u001b[0m     \u001b[1;31m# Get using least squares\u001b[0m\u001b[1;33m\u001b[0m\u001b[1;33m\u001b[0m\u001b[1;33m\u001b[0m\u001b[0m\n\u001b[1;32m----> 3\u001b[1;33m     \u001b[0mA_opt\u001b[0m \u001b[1;33m=\u001b[0m \u001b[0mP\u001b[0m \u001b[1;33m@\u001b[0m \u001b[0mols_W\u001b[0m\u001b[1;33m(\u001b[0m\u001b[0mX\u001b[0m\u001b[1;33m,\u001b[0m \u001b[0mP\u001b[0m\u001b[1;33m)\u001b[0m \u001b[1;33m@\u001b[0m \u001b[0mP\u001b[0m\u001b[1;33m.\u001b[0m\u001b[0mT\u001b[0m\u001b[1;33m\u001b[0m\u001b[1;33m\u001b[0m\u001b[0m\n\u001b[0m\u001b[0;32m      4\u001b[0m \u001b[1;33m\u001b[0m\u001b[0m\n\u001b[0;32m      5\u001b[0m     \u001b[1;31m# get loss\u001b[0m\u001b[1;33m\u001b[0m\u001b[1;33m\u001b[0m\u001b[1;33m\u001b[0m\u001b[0m\n",
      "\u001b[1;32m<ipython-input-64-a4fefe3e156d>\u001b[0m in \u001b[0;36mols_W\u001b[1;34m(X, P, LT)\u001b[0m\n\u001b[0;32m     13\u001b[0m     \u001b[1;31m# get parameters\u001b[0m\u001b[1;33m\u001b[0m\u001b[1;33m\u001b[0m\u001b[1;33m\u001b[0m\u001b[0m\n\u001b[0;32m     14\u001b[0m     \u001b[1;32mfor\u001b[0m \u001b[0mi\u001b[0m \u001b[1;32min\u001b[0m \u001b[0mrange\u001b[0m\u001b[1;33m(\u001b[0m\u001b[0mn\u001b[0m\u001b[1;33m)\u001b[0m\u001b[1;33m:\u001b[0m\u001b[1;33m\u001b[0m\u001b[1;33m\u001b[0m\u001b[0m\n\u001b[1;32m---> 15\u001b[1;33m         \u001b[0mest\u001b[0m \u001b[1;33m=\u001b[0m \u001b[0msm\u001b[0m\u001b[1;33m.\u001b[0m\u001b[0mOLS\u001b[0m\u001b[1;33m(\u001b[0m\u001b[0my\u001b[0m\u001b[1;33m[\u001b[0m\u001b[1;33m:\u001b[0m\u001b[1;33m,\u001b[0m \u001b[0mi\u001b[0m\u001b[1;33m]\u001b[0m\u001b[1;33m,\u001b[0m \u001b[0mx\u001b[0m\u001b[1;33m[\u001b[0m\u001b[1;33m:\u001b[0m\u001b[1;33m,\u001b[0m \u001b[0mi\u001b[0m\u001b[1;33m:\u001b[0m\u001b[1;33m]\u001b[0m\u001b[1;33m)\u001b[0m\u001b[1;33m.\u001b[0m\u001b[0mfit\u001b[0m\u001b[1;33m(\u001b[0m\u001b[1;33m)\u001b[0m\u001b[1;33m\u001b[0m\u001b[1;33m\u001b[0m\u001b[0m\n\u001b[0m\u001b[0;32m     16\u001b[0m         \u001b[0mW_hat\u001b[0m \u001b[1;33m=\u001b[0m \u001b[0mnp\u001b[0m\u001b[1;33m.\u001b[0m\u001b[0mvstack\u001b[0m\u001b[1;33m(\u001b[0m\u001b[1;33m(\u001b[0m\u001b[0mW_hat\u001b[0m\u001b[1;33m,\u001b[0m \u001b[0mnp\u001b[0m\u001b[1;33m.\u001b[0m\u001b[0mappend\u001b[0m\u001b[1;33m(\u001b[0m\u001b[0mnp\u001b[0m\u001b[1;33m.\u001b[0m\u001b[0mzeros\u001b[0m\u001b[1;33m(\u001b[0m\u001b[0mi\u001b[0m\u001b[1;33m)\u001b[0m\u001b[1;33m,\u001b[0m \u001b[0mest\u001b[0m\u001b[1;33m.\u001b[0m\u001b[0mparams\u001b[0m\u001b[1;33m)\u001b[0m\u001b[1;33m.\u001b[0m\u001b[0mT\u001b[0m\u001b[1;33m)\u001b[0m\u001b[1;33m)\u001b[0m\u001b[1;33m\u001b[0m\u001b[1;33m\u001b[0m\u001b[0m\n\u001b[0;32m     17\u001b[0m \u001b[1;33m\u001b[0m\u001b[0m\n",
      "\u001b[1;32m~\\AppData\\Local\\Programs\\Python\\Python36\\lib\\site-packages\\statsmodels\\regression\\linear_model.py\u001b[0m in \u001b[0;36mfit\u001b[1;34m(self, method, cov_type, cov_kwds, use_t, **kwargs)\u001b[0m\n\u001b[0;32m    303\u001b[0m                     hasattr(self, 'rank')):\n\u001b[0;32m    304\u001b[0m \u001b[1;33m\u001b[0m\u001b[0m\n\u001b[1;32m--> 305\u001b[1;33m                 \u001b[0mself\u001b[0m\u001b[1;33m.\u001b[0m\u001b[0mpinv_wexog\u001b[0m\u001b[1;33m,\u001b[0m \u001b[0msingular_values\u001b[0m \u001b[1;33m=\u001b[0m \u001b[0mpinv_extended\u001b[0m\u001b[1;33m(\u001b[0m\u001b[0mself\u001b[0m\u001b[1;33m.\u001b[0m\u001b[0mwexog\u001b[0m\u001b[1;33m)\u001b[0m\u001b[1;33m\u001b[0m\u001b[1;33m\u001b[0m\u001b[0m\n\u001b[0m\u001b[0;32m    306\u001b[0m                 self.normalized_cov_params = np.dot(\n\u001b[0;32m    307\u001b[0m                     self.pinv_wexog, np.transpose(self.pinv_wexog))\n",
      "\u001b[1;32m~\\AppData\\Local\\Programs\\Python\\Python36\\lib\\site-packages\\statsmodels\\tools\\tools.py\u001b[0m in \u001b[0;36mpinv_extended\u001b[1;34m(x, rcond)\u001b[0m\n\u001b[0;32m    405\u001b[0m     \u001b[0mx\u001b[0m \u001b[1;33m=\u001b[0m \u001b[0mnp\u001b[0m\u001b[1;33m.\u001b[0m\u001b[0masarray\u001b[0m\u001b[1;33m(\u001b[0m\u001b[0mx\u001b[0m\u001b[1;33m)\u001b[0m\u001b[1;33m\u001b[0m\u001b[1;33m\u001b[0m\u001b[0m\n\u001b[0;32m    406\u001b[0m     \u001b[0mx\u001b[0m \u001b[1;33m=\u001b[0m \u001b[0mx\u001b[0m\u001b[1;33m.\u001b[0m\u001b[0mconjugate\u001b[0m\u001b[1;33m(\u001b[0m\u001b[1;33m)\u001b[0m\u001b[1;33m\u001b[0m\u001b[1;33m\u001b[0m\u001b[0m\n\u001b[1;32m--> 407\u001b[1;33m     \u001b[0mu\u001b[0m\u001b[1;33m,\u001b[0m \u001b[0ms\u001b[0m\u001b[1;33m,\u001b[0m \u001b[0mvt\u001b[0m \u001b[1;33m=\u001b[0m \u001b[0mnp\u001b[0m\u001b[1;33m.\u001b[0m\u001b[0mlinalg\u001b[0m\u001b[1;33m.\u001b[0m\u001b[0msvd\u001b[0m\u001b[1;33m(\u001b[0m\u001b[0mx\u001b[0m\u001b[1;33m,\u001b[0m \u001b[1;32mFalse\u001b[0m\u001b[1;33m)\u001b[0m\u001b[1;33m\u001b[0m\u001b[1;33m\u001b[0m\u001b[0m\n\u001b[0m\u001b[0;32m    408\u001b[0m     \u001b[0ms_orig\u001b[0m \u001b[1;33m=\u001b[0m \u001b[0mnp\u001b[0m\u001b[1;33m.\u001b[0m\u001b[0mcopy\u001b[0m\u001b[1;33m(\u001b[0m\u001b[0ms\u001b[0m\u001b[1;33m)\u001b[0m\u001b[1;33m\u001b[0m\u001b[1;33m\u001b[0m\u001b[0m\n\u001b[0;32m    409\u001b[0m     \u001b[0mm\u001b[0m \u001b[1;33m=\u001b[0m \u001b[0mu\u001b[0m\u001b[1;33m.\u001b[0m\u001b[0mshape\u001b[0m\u001b[1;33m[\u001b[0m\u001b[1;36m0\u001b[0m\u001b[1;33m]\u001b[0m\u001b[1;33m\u001b[0m\u001b[1;33m\u001b[0m\u001b[0m\n",
      "\u001b[1;32m<__array_function__ internals>\u001b[0m in \u001b[0;36msvd\u001b[1;34m(*args, **kwargs)\u001b[0m\n",
      "\u001b[1;32m~\\AppData\\Local\\Programs\\Python\\Python36\\lib\\site-packages\\numpy\\linalg\\linalg.py\u001b[0m in \u001b[0;36msvd\u001b[1;34m(a, full_matrices, compute_uv, hermitian)\u001b[0m\n\u001b[0;32m   1624\u001b[0m \u001b[1;33m\u001b[0m\u001b[0m\n\u001b[0;32m   1625\u001b[0m         \u001b[0msignature\u001b[0m \u001b[1;33m=\u001b[0m \u001b[1;34m'D->DdD'\u001b[0m \u001b[1;32mif\u001b[0m \u001b[0misComplexType\u001b[0m\u001b[1;33m(\u001b[0m\u001b[0mt\u001b[0m\u001b[1;33m)\u001b[0m \u001b[1;32melse\u001b[0m \u001b[1;34m'd->ddd'\u001b[0m\u001b[1;33m\u001b[0m\u001b[1;33m\u001b[0m\u001b[0m\n\u001b[1;32m-> 1626\u001b[1;33m         \u001b[0mu\u001b[0m\u001b[1;33m,\u001b[0m \u001b[0ms\u001b[0m\u001b[1;33m,\u001b[0m \u001b[0mvh\u001b[0m \u001b[1;33m=\u001b[0m \u001b[0mgufunc\u001b[0m\u001b[1;33m(\u001b[0m\u001b[0ma\u001b[0m\u001b[1;33m,\u001b[0m \u001b[0msignature\u001b[0m\u001b[1;33m=\u001b[0m\u001b[0msignature\u001b[0m\u001b[1;33m,\u001b[0m \u001b[0mextobj\u001b[0m\u001b[1;33m=\u001b[0m\u001b[0mextobj\u001b[0m\u001b[1;33m)\u001b[0m\u001b[1;33m\u001b[0m\u001b[1;33m\u001b[0m\u001b[0m\n\u001b[0m\u001b[0;32m   1627\u001b[0m         \u001b[0mu\u001b[0m \u001b[1;33m=\u001b[0m \u001b[0mu\u001b[0m\u001b[1;33m.\u001b[0m\u001b[0mastype\u001b[0m\u001b[1;33m(\u001b[0m\u001b[0mresult_t\u001b[0m\u001b[1;33m,\u001b[0m \u001b[0mcopy\u001b[0m\u001b[1;33m=\u001b[0m\u001b[1;32mFalse\u001b[0m\u001b[1;33m)\u001b[0m\u001b[1;33m\u001b[0m\u001b[1;33m\u001b[0m\u001b[0m\n\u001b[0;32m   1628\u001b[0m         \u001b[0ms\u001b[0m \u001b[1;33m=\u001b[0m \u001b[0ms\u001b[0m\u001b[1;33m.\u001b[0m\u001b[0mastype\u001b[0m\u001b[1;33m(\u001b[0m\u001b[0m_realType\u001b[0m\u001b[1;33m(\u001b[0m\u001b[0mresult_t\u001b[0m\u001b[1;33m)\u001b[0m\u001b[1;33m,\u001b[0m \u001b[0mcopy\u001b[0m\u001b[1;33m=\u001b[0m\u001b[1;32mFalse\u001b[0m\u001b[1;33m)\u001b[0m\u001b[1;33m\u001b[0m\u001b[1;33m\u001b[0m\u001b[0m\n",
      "\u001b[1;31mKeyboardInterrupt\u001b[0m: "
     ]
    }
   ],
   "source": [
    "perms = itertools.permutations(np.identity(n))\n",
    "total = np.math.factorial(n)\n",
    "\n",
    "P_best, L_best = np.identity(n), get_likelihood(np.identity(n))\n",
    "\n",
    "for perm in tqdm(perms, total=total):\n",
    "    perm = np.array(perm)\n",
    "    L = get_likelihood(perm)\n",
    "    if L < L_best:\n",
    "        P_best, L_best = perm, L\n",
    "\n",
    "print(f\"Exhaustively best P:\\n{P_best},\\n\\nLikelihood: {round(L_best, 2)}.\")"
   ]
  },
  {
   "cell_type": "markdown",
   "id": "e98958ea",
   "metadata": {},
   "source": [
    "### Verifications.\n",
    "The permutation matrix $P$ should be compatible with $P_{true}$. In other words, there are no edges in $P_{true}$ that would \"not be allowed\" in $P$, because the we would have an arc pointing \"back\"."
   ]
  },
  {
   "cell_type": "code",
   "execution_count": 79,
   "id": "7eecd68f",
   "metadata": {},
   "outputs": [
    {
     "name": "stdout",
     "output_type": "stream",
     "text": [
      "False\n"
     ]
    }
   ],
   "source": [
    "# verify whether the permutation is campatible\n",
    "check = P_best @ P_true.T @ A_true @ P_true @ P_best.T\n",
    "check_tril = np.tril(check)\n",
    "print(len(check_tril[check_tril != 0]) == s)"
   ]
  },
  {
   "cell_type": "markdown",
   "id": "4c158a5e",
   "metadata": {},
   "source": [
    "Is the matrix $P^T A P$ equal or comparable to $P_{true}^T A_{true} P_{true}$? We check this. We also apply thresholding, note that cherrypicking this threshold should be avoided as it can give false hope, we do not know $W_{true}$."
   ]
  },
  {
   "cell_type": "code",
   "execution_count": 81,
   "id": "cb30d1b3",
   "metadata": {},
   "outputs": [
    {
     "name": "stdout",
     "output_type": "stream",
     "text": [
      "."
     ]
    }
   ],
   "source": [
    "thresh = 0.25\n",
    "check_thresh = P_best.T @ opt_A(P_best) @ P_best\n",
    "check_thresh[np.abs(check_thresh) < thresh] = 0\n",
    "\n",
    "if n <= 10:\n",
    "    print(f\"Thresholded W:\\n{np.round(check_thresh, 2)}\")"
   ]
  },
  {
   "cell_type": "code",
   "execution_count": 82,
   "id": "9181bbba",
   "metadata": {},
   "outputs": [],
   "source": [
    "truth = P_true.T @ A_true @ P_true\n",
    "\n",
    "if n <= 10:\n",
    "    print(f\"True W:\\n{np.round(truth, 2)}.\")"
   ]
  },
  {
   "cell_type": "markdown",
   "id": "5da9e439",
   "metadata": {},
   "source": [
    "Statistics\n",
    "- True Positive Rate (TPR): Percentage of edges in W_true that were in W\n",
    "- True Negative Rate (TNR): Percentage of edges that were *not* in W_true that were also n*not* in W\n",
    "- Accuracy: Percentage of correctly estimated entries of W\n",
    "- False Detection Rate (FDR): Percentage of edges in W_est that were *not* in W_true"
   ]
  },
  {
   "cell_type": "code",
   "execution_count": 83,
   "id": "cdddbafb",
   "metadata": {},
   "outputs": [
    {
     "name": "stdout",
     "output_type": "stream",
     "text": [
      "True Positive Rate: 0.9.\n",
      "True Negative Rate: 0.99.\n",
      "False Prediction Rate: 0.069\n",
      "Accuracy: 0.978.\n"
     ]
    }
   ],
   "source": [
    "truth_bin = truth.copy()\n",
    "truth_bin[truth_bin != 0] = 1\n",
    "\n",
    "check_thresh_bin = check_thresh.copy()\n",
    "check_thresh_bin[check_thresh_bin != 0] = 1\n",
    "\n",
    "true_edges = np.flatnonzero(truth)\n",
    "pred_edges = np.flatnonzero(check_thresh)\n",
    "tpr = len(np.intersect1d(pred_edges, true_edges, assume_unique=True)) / len(true_edges)\n",
    "\n",
    "true_non_edges = np.flatnonzero(truth_bin - 1)\n",
    "pred_non_edges = np.flatnonzero(check_thresh_bin - 1)\n",
    "tnr = len(np.intersect1d(pred_non_edges, true_non_edges, assume_unique=True)) / len(true_non_edges)\n",
    "\n",
    "pred_false_edges = np.setdiff1d(pred_edges, true_edges)\n",
    "fpr = len(pred_false_edges) / len(pred_edges)\n",
    "\n",
    "accuracy = len(truth_bin[truth_bin == check_thresh_bin]) / len(truth_bin.flatten())\n",
    "print(f\"True Positive Rate: {round(tpr, 3)}.\\nTrue Negative Rate: {round(tnr, 3)}.\\nFalse Prediction Rate: {round(fpr, 3)}\\nAccuracy: {round(accuracy, 3)}.\")"
   ]
  },
  {
   "cell_type": "code",
   "execution_count": 84,
   "id": "6eabdbfc",
   "metadata": {},
   "outputs": [
    {
     "name": "stdout",
     "output_type": "stream",
     "text": [
      "220.0.\n"
     ]
    }
   ],
   "source": [
    "check_thresh[check_thresh != 0] = 1\n",
    "truth[truth != 0] = 1\n",
    "truth[truth != check_thresh] = \"-1\"\n",
    "truth[truth == check_thresh] = \"1\"\n",
    "\n",
    "if n <= 10:\n",
    "    print(f\"Entry is 1 if correct, -1 if false:\\n{truth}.\")\n",
    "print(f\"{np.sum(truth[truth == 1])}.\")"
   ]
  },
  {
   "cell_type": "markdown",
   "id": "4f380b87",
   "metadata": {},
   "source": [
    "## Conclusions\n",
    "- By definition exactly optimal. We solve the problem exactly, and (apart from not solving the gradient to a stationary point), we get exactly the optimal solution.\n",
    "- Takes too long! Even for ten nodes, we take too much time (also because finding A has not been optimized (by a long shot!), but the point still stands.\n",
    "    - Perhaps we can not try ``all\", but a random set of e.g. $n^2$ permutations."
   ]
  },
  {
   "cell_type": "code",
   "execution_count": 77,
   "id": "00e3976b",
   "metadata": {},
   "outputs": [
    {
     "name": "stderr",
     "output_type": "stream",
     "text": [
      "100%|█████████████████████████████████████████████████████████████████████████████| 1000/1000 [00:09<00:00, 109.24it/s]"
     ]
    },
    {
     "name": "stdout",
     "output_type": "stream",
     "text": [
      "Likelihood: 15.23.\n"
     ]
    },
    {
     "name": "stderr",
     "output_type": "stream",
     "text": [
      "\n"
     ]
    },
    {
     "data": {
      "text/plain": [
       "[<matplotlib.lines.Line2D at 0x2046adb3eb8>]"
      ]
     },
     "execution_count": 77,
     "metadata": {},
     "output_type": "execute_result"
    },
    {
     "data": {
      "image/png": "[encoded data removed]",
      "text/plain": [
       "<Figure size 432x288 with 1 Axes>"
      ]
     },
     "metadata": {
      "needs_background": "light"
     },
     "output_type": "display_data"
    }
   ],
   "source": [
    "I = np.identity(n)\n",
    "max_it = 1000\n",
    "P_best, L_best = I, get_likelihood(I)\n",
    "\n",
    "# results\n",
    "results_likelihood = [L_best]\n",
    "results_iteration = [0]\n",
    "    \n",
    "for i in tqdm(range(max_it)):\n",
    "    perm = np.random.permutation(I)\n",
    "    L = get_likelihood(perm)\n",
    "    if L < L_best:\n",
    "        P_best, L_best = perm, L\n",
    "        \n",
    "    results_likelihood.append(L_best)\n",
    "    results_iteration.append(i + 1)\n",
    "\n",
    "if n <= 10:\n",
    "    print(f\"Best P from {max_it} different Ps:\\n{P_best},\\n.\")\n",
    "    \n",
    "print(f\"Likelihood: {round(L_best, 2)}.\")\n",
    "\n",
    "plt.plot(results_iteration, results_likelihood)"
   ]
  },
  {
   "cell_type": "code",
   "execution_count": 78,
   "id": "eba4214f",
   "metadata": {},
   "outputs": [
    {
     "name": "stdout",
     "output_type": "stream",
     "text": [
      "13.623669091844855\n"
     ]
    }
   ],
   "source": [
    "print(get_likelihood(P_true))"
   ]
  },
  {
   "cell_type": "code",
   "execution_count": 102,
   "id": "f569ed2a",
   "metadata": {},
   "outputs": [
    {
     "name": "stderr",
     "output_type": "stream",
     "text": [
      "  0%|                                                                                           | 0/50 [00:02<?, ?it/s]\n"
     ]
    },
    {
     "ename": "KeyboardInterrupt",
     "evalue": "",
     "output_type": "error",
     "traceback": [
      "\u001b[1;31m---------------------------------------------------------------------------\u001b[0m",
      "\u001b[1;31mKeyboardInterrupt\u001b[0m                         Traceback (most recent call last)",
      "\u001b[1;32m<ipython-input-102-ca6e56b6557e>\u001b[0m in \u001b[0;36m<module>\u001b[1;34m\u001b[0m\n\u001b[0;32m      1\u001b[0m \u001b[1;32mfor\u001b[0m \u001b[0mi\u001b[0m \u001b[1;32min\u001b[0m \u001b[0mtqdm\u001b[0m\u001b[1;33m(\u001b[0m\u001b[0mrange\u001b[0m\u001b[1;33m(\u001b[0m\u001b[1;36m50\u001b[0m\u001b[1;33m)\u001b[0m\u001b[1;33m)\u001b[0m\u001b[1;33m:\u001b[0m\u001b[1;33m\u001b[0m\u001b[1;33m\u001b[0m\u001b[0m\n\u001b[1;32m----> 2\u001b[1;33m     \u001b[0mopt_A\u001b[0m\u001b[1;33m(\u001b[0m\u001b[0mP_true\u001b[0m\u001b[1;33m)\u001b[0m\u001b[1;33m\u001b[0m\u001b[1;33m\u001b[0m\u001b[0m\n\u001b[0m",
      "\u001b[1;32m<ipython-input-91-bf12b86e2148>\u001b[0m in \u001b[0;36mopt_A\u001b[1;34m(P)\u001b[0m\n\u001b[0;32m     16\u001b[0m \u001b[1;33m\u001b[0m\u001b[0m\n\u001b[0;32m     17\u001b[0m         \u001b[1;31m# re-evaluate loss\u001b[0m\u001b[1;33m\u001b[0m\u001b[1;33m\u001b[0m\u001b[1;33m\u001b[0m\u001b[0m\n\u001b[1;32m---> 18\u001b[1;33m         \u001b[0ml\u001b[0m\u001b[1;33m,\u001b[0m \u001b[0mg_A\u001b[0m \u001b[1;33m=\u001b[0m \u001b[0mloss\u001b[0m\u001b[1;33m(\u001b[0m\u001b[0mA\u001b[0m\u001b[1;33m,\u001b[0m \u001b[0mP\u001b[0m\u001b[1;33m)\u001b[0m\u001b[1;33m\u001b[0m\u001b[1;33m\u001b[0m\u001b[0m\n\u001b[0m\u001b[0;32m     19\u001b[0m \u001b[1;33m\u001b[0m\u001b[0m\n\u001b[0;32m     20\u001b[0m         \u001b[1;31m# if we descended too far\u001b[0m\u001b[1;33m\u001b[0m\u001b[1;33m\u001b[0m\u001b[1;33m\u001b[0m\u001b[0m\n",
      "\u001b[1;32m<ipython-input-63-819c9adde6c0>\u001b[0m in \u001b[0;36mloss\u001b[1;34m(A, P)\u001b[0m\n\u001b[0;32m     10\u001b[0m \u001b[1;33m\u001b[0m\u001b[0m\n\u001b[0;32m     11\u001b[0m     \u001b[1;31m# Gradient using chain rule\u001b[0m\u001b[1;33m\u001b[0m\u001b[1;33m\u001b[0m\u001b[1;33m\u001b[0m\u001b[0m\n\u001b[1;32m---> 12\u001b[1;33m     \u001b[0mG_loss\u001b[0m \u001b[1;33m=\u001b[0m \u001b[1;33m-\u001b[0m \u001b[1;36m2.0\u001b[0m \u001b[1;33m/\u001b[0m \u001b[0mX\u001b[0m\u001b[1;33m[\u001b[0m\u001b[1;36m1\u001b[0m\u001b[1;33m:\u001b[0m\u001b[1;33m]\u001b[0m\u001b[1;33m.\u001b[0m\u001b[0mshape\u001b[0m\u001b[1;33m[\u001b[0m\u001b[1;36m0\u001b[0m\u001b[1;33m]\u001b[0m \u001b[1;33m*\u001b[0m \u001b[1;33m(\u001b[0m\u001b[0mX\u001b[0m\u001b[1;33m[\u001b[0m\u001b[1;33m:\u001b[0m\u001b[1;33m-\u001b[0m\u001b[1;36m1\u001b[0m\u001b[1;33m]\u001b[0m \u001b[1;33m@\u001b[0m \u001b[0mP\u001b[0m\u001b[1;33m.\u001b[0m\u001b[0mT\u001b[0m\u001b[1;33m)\u001b[0m\u001b[1;33m.\u001b[0m\u001b[0mT\u001b[0m \u001b[1;33m@\u001b[0m \u001b[0mR\u001b[0m \u001b[1;33m@\u001b[0m \u001b[0mP\u001b[0m\u001b[1;33m.\u001b[0m\u001b[0mT\u001b[0m\u001b[1;33m\u001b[0m\u001b[1;33m\u001b[0m\u001b[0m\n\u001b[0m\u001b[0;32m     13\u001b[0m \u001b[1;33m\u001b[0m\u001b[0m\n\u001b[0;32m     14\u001b[0m     \u001b[1;32mreturn\u001b[0m \u001b[0mloss\u001b[0m\u001b[1;33m,\u001b[0m \u001b[0mG_loss\u001b[0m\u001b[1;33m\u001b[0m\u001b[1;33m\u001b[0m\u001b[0m\n",
      "\u001b[1;31mKeyboardInterrupt\u001b[0m: "
     ]
    }
   ],
   "source": [
    "for i in tqdm(range(50)):\n",
    "    opt_A(P_true)"
   ]
  },
  {
   "cell_type": "code",
   "execution_count": 103,
   "id": "e95a56ff",
   "metadata": {},
   "outputs": [
    {
     "name": "stderr",
     "output_type": "stream",
     "text": [
      "100%|██████████████████████████████████████████████████████████████████████████████████| 50/50 [00:01<00:00, 38.49it/s]\n"
     ]
    }
   ],
   "source": [
    "for i in tqdm(range(50)):\n",
    "    ols_W(X, P_true)"
   ]
  }
 ],
 "metadata": {
  "kernelspec": {
   "display_name": "Python 3.6.8 64-bit",
   "language": "python",
   "name": "python36864bit874e3a48d9b148faaa09714964fd179b"
  },
  "language_info": {
   "codemirror_mode": {
    "name": "ipython",
    "version": 3
   },
   "file_extension": ".py",
   "mimetype": "text/x-python",
   "name": "python",
   "nbconvert_exporter": "python",
   "pygments_lexer": "ipython3",
   "version": "3.6.8"
  }
 },
 "nbformat": 4,
 "nbformat_minor": 5
}
