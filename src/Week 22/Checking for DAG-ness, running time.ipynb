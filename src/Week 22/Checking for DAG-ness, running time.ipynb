{
 "cells": [
  {
   "cell_type": "markdown",
   "id": "8cc777f3",
   "metadata": {},
   "source": [
    "### Checking for DAG-ness, running time"
   ]
  },
  {
   "cell_type": "code",
   "execution_count": 56,
   "id": "a6382120",
   "metadata": {},
   "outputs": [],
   "source": [
    "import numpy as np\n",
    "import scipy.linalg as slin\n",
    "import timeit"
   ]
  },
  {
   "cell_type": "markdown",
   "id": "658f07fd",
   "metadata": {},
   "source": [
    "#### Generating a Matrix W"
   ]
  },
  {
   "cell_type": "code",
   "execution_count": 186,
   "id": "34cb9e09",
   "metadata": {},
   "outputs": [
    {
     "name": "stdout",
     "output_type": "stream",
     "text": [
      "[[1. 0. 0. ... 0. 0. 0.]\n",
      " [1. 1. 0. ... 0. 0. 0.]\n",
      " [1. 1. 1. ... 0. 0. 0.]\n",
      " ...\n",
      " [1. 1. 1. ... 1. 0. 0.]\n",
      " [1. 1. 1. ... 1. 1. 0.]\n",
      " [1. 1. 1. ... 1. 1. 1.]]\n"
     ]
    }
   ],
   "source": [
    "p, s = 100, 100\n",
    "\n",
    "## Random matrix W with 50% edges\n",
    "# W = np.random.randint(2, size = p ** 2).reshape(p, p)\n",
    "\n",
    "## Random matrix W with s edges\n",
    "# W = np.zeros(p ** 2)\n",
    "\n",
    "# for i in range(s):\n",
    "#     W[np.random.randint(p ** 2)] = 1\n",
    "  \n",
    "# W = W.reshape(p, p)\n",
    "\n",
    "## Dense DAG\n",
    "# W = np.zeros((p, p))\n",
    "# W[np.tril_indices(p)] = 1\n",
    "\n",
    "print(W)"
   ]
  },
  {
   "cell_type": "markdown",
   "id": "6048bf04",
   "metadata": {},
   "source": [
    "#### Method 1.\n",
    "Find row with all zeros, remove this row and column, repeat. This method is a bit slow as it also gives the corresponding ordering."
   ]
  },
  {
   "cell_type": "code",
   "execution_count": 203,
   "id": "cb1f2395",
   "metadata": {},
   "outputs": [
    {
     "data": {
      "text/plain": [
       "True"
      ]
     },
     "execution_count": 203,
     "metadata": {},
     "output_type": "execute_result"
    }
   ],
   "source": [
    "def is_dag(W_input):\n",
    "    n = np.shape(W_input)[0]\n",
    "    \n",
    "    W = W_input.copy()\n",
    "    # remove diagonal entries\n",
    "    np.fill_diagonal(W, 0)\n",
    "    \n",
    "    order, old_order = [], list(range(n))\n",
    "    \n",
    "    # for the number of elements\n",
    "    for i in range(n):\n",
    "        \n",
    "        # find a row that contains only zeros\n",
    "        for j in range(n - i):\n",
    "            # if we find a zero row (excl. diags)\n",
    "            if not W[j].any() != 0:\n",
    "                \n",
    "                # remove this row and column\n",
    "                W = np.delete(W, j, 0)\n",
    "                W = np.delete(W, j, 1)\n",
    "            \n",
    "                order.append(old_order[j])\n",
    "                old_order.remove(old_order[j])\n",
    "                \n",
    "                # go to next variable\n",
    "                break\n",
    "        \n",
    "            # if no zero row exist stop\n",
    "            elif i == n - 1:\n",
    "                return False\n",
    "            \n",
    "    return True, order\n",
    "\n",
    "is_dag(W)[0]"
   ]
  },
  {
   "cell_type": "markdown",
   "id": "eff8de11",
   "metadata": {},
   "source": [
    "#### Method 2.\n",
    "Find row with all zeros, remove this row and column, repeat. Same as method 2, but is a bit faster as it does not give the corresponding ordering."
   ]
  },
  {
   "cell_type": "code",
   "execution_count": 204,
   "id": "1f8fcdce",
   "metadata": {},
   "outputs": [
    {
     "data": {
      "text/plain": [
       "True"
      ]
     },
     "execution_count": 204,
     "metadata": {},
     "output_type": "execute_result"
    }
   ],
   "source": [
    "def is_dag_2(W_input):\n",
    "    \n",
    "    p = np.shape(W_input)[0]\n",
    "    \n",
    "    W = W_input.copy()\n",
    "    \n",
    "    # remove diagonal entries\n",
    "    np.fill_diagonal(W, 0)\n",
    "    \n",
    "    # for the number of elements\n",
    "    for i in range(p):\n",
    "        # find a row that contains only zeros\n",
    "        for j in range(p - i):\n",
    "            \n",
    "            # if we find a zero row (excl. diags)\n",
    "            if not W[j].any() != 0:\n",
    "                \n",
    "                # remove this row and column\n",
    "                W = np.delete(W, j, 0)\n",
    "                W = np.delete(W, j, 1)\n",
    "                \n",
    "                # go to next variable\n",
    "                break\n",
    "        \n",
    "            # if no zero row exist stop\n",
    "            elif i == p - 1:\n",
    "                return False\n",
    "            \n",
    "    return True\n",
    "\n",
    "is_dag_2(W)"
   ]
  },
  {
   "cell_type": "markdown",
   "id": "98ae506b",
   "metadata": {},
   "source": [
    "#### Method 3.\n",
    "Similar idea as method 2, but some faster computations with booleans and sums."
   ]
  },
  {
   "cell_type": "code",
   "execution_count": 231,
   "id": "a650a0fe",
   "metadata": {},
   "outputs": [
    {
     "data": {
      "text/plain": [
       "False"
      ]
     },
     "execution_count": 231,
     "metadata": {},
     "output_type": "execute_result"
    }
   ],
   "source": [
    "def is_dag_3(W_input):\n",
    "    \n",
    "    # create boolean copy, faster computations\n",
    "    W = W_input.copy().astype(bool)\n",
    "    \n",
    "    # set diagonal to zero, as we do not care about self loops\n",
    "    np.fill_diagonal(W, 0)\n",
    "    \n",
    "    # iteratively, for each variable\n",
    "    for i in range(p):\n",
    "        \n",
    "        # compute the sum of rows and columns\n",
    "        row_sums = W.sum(axis = 1)\n",
    "    \n",
    "        # check if there is a row with all zeros, aka no outgoing edges\n",
    "        if np.min(row_sums) == 0:\n",
    "            \n",
    "            # get this row\n",
    "            row = np.argmin(row_sums)\n",
    "        \n",
    "            # remove row and remove column\n",
    "            W = np.delete(W, row, 0)\n",
    "            W = np.delete(W, row, 1)\n",
    "        \n",
    "        # if we have not found such a row, we have no dag\n",
    "        else: \n",
    "            return False\n",
    "        \n",
    "    # if we can remove all rows in such a way, we have a dag\n",
    "    return True\n",
    "    \n",
    "\n",
    "is_dag_3(W)"
   ]
  },
  {
   "cell_type": "markdown",
   "id": "cd743ba1",
   "metadata": {},
   "source": [
    "#### Method 4.\n",
    "NOTEARS criterion must be zero to be a DAG."
   ]
  },
  {
   "cell_type": "code",
   "execution_count": 233,
   "id": "15285362",
   "metadata": {},
   "outputs": [
    {
     "data": {
      "text/plain": [
       "False"
      ]
     },
     "execution_count": 233,
     "metadata": {},
     "output_type": "execute_result"
    }
   ],
   "source": [
    "def h_notears(W):\n",
    "    p = np.shape(np.array(W))[0]\n",
    "    \n",
    "    W2 = W.copy()\n",
    "\n",
    "    np.fill_diagonal(W2, np.zeros(p))\n",
    "\n",
    "    E = slin.expm(W2 * W2)  # (Zheng et al. 2018)\n",
    "    h = np.trace(E) - p\n",
    "    \n",
    "    return h\n",
    "\n",
    "def dag_notears(W):\n",
    "    return h_notears(W) <= 0\n",
    "\n",
    "dag_notears(W)"
   ]
  },
  {
   "cell_type": "code",
   "execution_count": 223,
   "id": "3731e992",
   "metadata": {},
   "outputs": [
    {
     "name": "stdout",
     "output_type": "stream",
     "text": [
      "Method 1 (SLOW w/ ORDER):\t20.971 milliseconds.\n",
      "Method 2 (SLOW w/o ORDER):\t20.912 milliseconds.\n",
      "Method 3 (FAST w/o ORDER):\t7.793 milliseconds.\n",
      "Method 4 (NOTEARS):\t\t6.953 milliseconds.\n"
     ]
    }
   ],
   "source": [
    "p, s, number = 100, 200, 100\n",
    "\n",
    "W = np.zeros(p ** 2)\n",
    "\n",
    "for i in range(s):\n",
    "    W[np.random.randint(p ** 2)] = 1\n",
    "  \n",
    "W = W.reshape(p, p)\n",
    "\n",
    "W[np.tril_indices(p, - 1)] = 0\n",
    "\n",
    "print(f\"Method 1 (SLOW w/ ORDER):\\t{np.round(timeit.timeit('is_dag(W)', globals=globals(), number = number) / number * 1000, 3)} milliseconds.\")\n",
    "print(f\"Method 2 (SLOW w/o ORDER):\\t{np.round(timeit.timeit('is_dag_2(W)', globals=globals(), number = number) / number * 1000, 3)} milliseconds.\")\n",
    "print(f\"Method 3 (FAST w/o ORDER):\\t{np.round(timeit.timeit('is_dag_3(W)', globals=globals(), number = number) / number * 1000, 3)} milliseconds.\")\n",
    "print(f\"Method 4 (NOTEARS):\\t\\t{np.round(timeit.timeit('dag_notears(W)', globals=globals(), number = number) / number * 1000, 3)} milliseconds.\")"
   ]
  },
  {
   "cell_type": "markdown",
   "id": "464085b6",
   "metadata": {},
   "source": [
    "#### Verify Running time of Adjacency List to Adjacency Matrix"
   ]
  },
  {
   "cell_type": "code",
   "execution_count": null,
   "id": "96916e10",
   "metadata": {},
   "outputs": [],
   "source": [
    "def Lambda_to_adj(Lambda):\n",
    "    \"\"\"Convert Lambda list to adjacency matrix\"\"\"\n",
    "    \n",
    "    p = len(Lambda)\n",
    "    \n",
    "    adj_mat = np.zeros((p, p))\n",
    "    \n",
    "    for i, col in enumerate(Lambda):\n",
    "        adj_mat[i, col] = 1 \n",
    "    \n",
    "    return adj_mat"
   ]
  },
  {
   "cell_type": "code",
   "execution_count": 92,
   "id": "a25420cd",
   "metadata": {},
   "outputs": [
    {
     "name": "stdout",
     "output_type": "stream",
     "text": [
      "5.030325999999832e-05\n"
     ]
    }
   ],
   "source": [
    "# adj_list = [list(np.random.randint(p, size = 2)) for i in range(p)]\n",
    "print(timeit.timeit('Lambda_to_adj(adj_list)', globals=globals(), number = 10000) / 10000) "
   ]
  }
 ],
 "metadata": {
  "kernelspec": {
   "display_name": "Python 3.6.8 64-bit",
   "language": "python",
   "name": "python36864bit874e3a48d9b148faaa09714964fd179b"
  },
  "language_info": {
   "codemirror_mode": {
    "name": "ipython",
    "version": 3
   },
   "file_extension": ".py",
   "mimetype": "text/x-python",
   "name": "python",
   "nbconvert_exporter": "python",
   "pygments_lexer": "ipython3",
   "version": "3.6.8"
  }
 },
 "nbformat": 4,
 "nbformat_minor": 5
}
