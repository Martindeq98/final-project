{
 "cells": [
  {
   "cell_type": "markdown",
   "id": "4687b805",
   "metadata": {},
   "source": [
    "### Checking for DAG-ness, running time"
   ]
  },
  {
   "cell_type": "code",
   "execution_count": 56,
   "id": "63f925af",
   "metadata": {},
   "outputs": [],
   "source": [
    "import numpy as np\n",
    "import scipy.linalg as slin\n",
    "import timeit"
   ]
  },
  {
   "cell_type": "code",
   "execution_count": 186,
   "id": "e2cde686",
   "metadata": {},
   "outputs": [
    {
     "name": "stdout",
     "output_type": "stream",
     "text": [
      "[[1. 0. 0. ... 0. 0. 0.]\n",
      " [1. 1. 0. ... 0. 0. 0.]\n",
      " [1. 1. 1. ... 0. 0. 0.]\n",
      " ...\n",
      " [1. 1. 1. ... 1. 0. 0.]\n",
      " [1. 1. 1. ... 1. 1. 0.]\n",
      " [1. 1. 1. ... 1. 1. 1.]]\n"
     ]
    }
   ],
   "source": [
    "p, s = 100, 100\n",
    "\n",
    "## Random matrix W with 50% edges\n",
    "# W = np.random.randint(2, size = p ** 2).reshape(p, p)\n",
    "\n",
    "## Random matrix W with s edges\n",
    "# W = np.zeros(p ** 2)\n",
    "\n",
    "# for i in range(s):\n",
    "#     W[np.random.randint(p ** 2)] = 1\n",
    "  \n",
    "# W = W.reshape(p, p)\n",
    "\n",
    "## Dense DAG\n",
    "W = np.zeros((p, p))\n",
    "W[np.tril_indices(p)] = 1\n",
    "\n",
    "print(W)"
   ]
  },
  {
   "cell_type": "code",
   "execution_count": 182,
   "id": "e0a545c3",
   "metadata": {},
   "outputs": [
    {
     "data": {
      "text/plain": [
       "(True,\n",
       " [0,\n",
       "  1,\n",
       "  2,\n",
       "  3,\n",
       "  4,\n",
       "  5,\n",
       "  6,\n",
       "  7,\n",
       "  8,\n",
       "  9,\n",
       "  10,\n",
       "  11,\n",
       "  12,\n",
       "  13,\n",
       "  14,\n",
       "  15,\n",
       "  16,\n",
       "  17,\n",
       "  18,\n",
       "  19,\n",
       "  20,\n",
       "  21,\n",
       "  22,\n",
       "  23,\n",
       "  24,\n",
       "  25,\n",
       "  26,\n",
       "  27,\n",
       "  28,\n",
       "  29,\n",
       "  30,\n",
       "  31,\n",
       "  32,\n",
       "  33,\n",
       "  34,\n",
       "  35,\n",
       "  36,\n",
       "  37,\n",
       "  38,\n",
       "  39,\n",
       "  40,\n",
       "  41,\n",
       "  42,\n",
       "  43,\n",
       "  44,\n",
       "  45,\n",
       "  46,\n",
       "  47,\n",
       "  48,\n",
       "  49])"
      ]
     },
     "execution_count": 182,
     "metadata": {},
     "output_type": "execute_result"
    }
   ],
   "source": [
    "def Lambda_to_adj(Lambda):\n",
    "    \"\"\"Convert Lambda list to adjacency matrix\"\"\"\n",
    "    \n",
    "    p = len(Lambda)\n",
    "    \n",
    "    adj_mat = np.zeros((p, p))\n",
    "    \n",
    "    for i, col in enumerate(Lambda):\n",
    "        adj_mat[i, col] = 1 \n",
    "    \n",
    "    return adj_mat\n",
    "\n",
    "def is_dag(W_input):\n",
    "    n = np.shape(W_input)[0]\n",
    "    \n",
    "    W = W_input.copy()\n",
    "    # remove diagonal entries\n",
    "    np.fill_diagonal(W, 0)\n",
    "    \n",
    "    order, old_order = [], list(range(n))\n",
    "    \n",
    "    # for the number of elements\n",
    "    for i in range(n):\n",
    "        \n",
    "        # find a row that contains only zeros\n",
    "        for j in range(n - i):\n",
    "            # if we find a zero row (excl. diags)\n",
    "            if not W[j].any() != 0:\n",
    "                \n",
    "                # remove this row and column\n",
    "                W = np.delete(W, j, 0)\n",
    "                W = np.delete(W, j, 1)\n",
    "            \n",
    "                order.append(old_order[j])\n",
    "                old_order.remove(old_order[j])\n",
    "                \n",
    "                # go to next variable\n",
    "                break\n",
    "        \n",
    "            # if no zero row exist stop\n",
    "            elif i == n - 1:\n",
    "                return False\n",
    "            \n",
    "    return True, order\n",
    "\n",
    "is_dag(W)"
   ]
  },
  {
   "cell_type": "code",
   "execution_count": 188,
   "id": "1edd99f8",
   "metadata": {},
   "outputs": [
    {
     "data": {
      "text/plain": [
       "True"
      ]
     },
     "execution_count": 188,
     "metadata": {},
     "output_type": "execute_result"
    }
   ],
   "source": [
    "def is_dag_2(W_input):\n",
    "    \n",
    "    p = np.shape(W_input)[0]\n",
    "    \n",
    "    W = W_input.copy()\n",
    "    \n",
    "    # remove diagonal entries\n",
    "    np.fill_diagonal(W, 0)\n",
    "    \n",
    "    # for the number of elements\n",
    "    for i in range(p):\n",
    "        # find a row that contains only zeros\n",
    "        for j in range(p - i):\n",
    "            \n",
    "            # if we find a zero row (excl. diags)\n",
    "            if not W[j].any() != 0:\n",
    "                \n",
    "                # remove this row and column\n",
    "                W = np.delete(W, j, 0)\n",
    "                W = np.delete(W, j, 1)\n",
    "                \n",
    "                # go to next variable\n",
    "                break\n",
    "        \n",
    "            # if no zero row exist stop\n",
    "            elif i == p - 1:\n",
    "                return False\n",
    "            \n",
    "    return True\n",
    "\n",
    "is_dag_2(W)"
   ]
  },
  {
   "cell_type": "code",
   "execution_count": 184,
   "id": "b3e7b9d3",
   "metadata": {},
   "outputs": [
    {
     "data": {
      "text/plain": [
       "True"
      ]
     },
     "execution_count": 184,
     "metadata": {},
     "output_type": "execute_result"
    }
   ],
   "source": [
    "def is_dag_3(W_input):\n",
    "    \n",
    "    # create boolean copy, faster computations\n",
    "    W = W_input.copy().astype(bool)\n",
    "    \n",
    "    # set diagonal to zero, as we do not care about self loops\n",
    "    np.fill_diagonal(W, 0)\n",
    "    \n",
    "    # iteratively, for each variable\n",
    "    for i in range(p):\n",
    "        \n",
    "        # compute the sum of rows and columns\n",
    "        row_sums = W.sum(axis = 1)\n",
    "    \n",
    "        # check if there is a row with all zeros, aka no outgoing edges\n",
    "        if np.min(row_sums) == 0:\n",
    "            \n",
    "            # get this row\n",
    "            row = np.argmin(row_sums)\n",
    "        \n",
    "            # remove row and remove column\n",
    "            W = np.delete(W, row, 0)\n",
    "            W = np.delete(W, row, 1)\n",
    "        \n",
    "        # if we have not found such a row, we have no dag\n",
    "        else: \n",
    "            return False\n",
    "        \n",
    "    # if we can remove all rows in such a way, we have a dag\n",
    "    return True\n",
    "    \n",
    "\n",
    "is_dag_3(W)"
   ]
  },
  {
   "cell_type": "code",
   "execution_count": 185,
   "id": "6a4518a8",
   "metadata": {},
   "outputs": [
    {
     "data": {
      "text/plain": [
       "True"
      ]
     },
     "execution_count": 185,
     "metadata": {},
     "output_type": "execute_result"
    }
   ],
   "source": [
    "def h_notears(W):\n",
    "    p = np.shape(np.array(W))[0]\n",
    "    \n",
    "    W2 = W.copy()\n",
    "\n",
    "    np.fill_diagonal(W2, np.zeros(p))\n",
    "\n",
    "    E = slin.expm(W2 * W2)  # (Zheng et al. 2018)\n",
    "    h = np.trace(E) - p\n",
    "    \n",
    "    return h\n",
    "\n",
    "def dag_notears(W):\n",
    "    return h_notears(W) <= 0\n",
    "\n",
    "# W = np.zeros((p, p))\n",
    "# W[0][1] = 1\n",
    "# W[1][0] = 0\n",
    "\n",
    "dag_notears(W)"
   ]
  },
  {
   "cell_type": "code",
   "execution_count": 92,
   "id": "3af7021d",
   "metadata": {},
   "outputs": [
    {
     "name": "stdout",
     "output_type": "stream",
     "text": [
      "5.030325999999832e-05\n"
     ]
    }
   ],
   "source": [
    "# adj_list = [list(np.random.randint(p, size = 2)) for i in range(p)]\n",
    "print(timeit.timeit('Lambda_to_adj(adj_list)', globals=globals(), number = 10000) / 10000) "
   ]
  },
  {
   "cell_type": "code",
   "execution_count": 187,
   "id": "bba76281",
   "metadata": {},
   "outputs": [
    {
     "name": "stdout",
     "output_type": "stream",
     "text": [
      "0.02282893600000534\n",
      "0.006946671000005154\n",
      "0.006212364000002708\n",
      "0.012238894000001893\n"
     ]
    }
   ],
   "source": [
    "print(timeit.timeit('dag_notears(W)', globals=globals(), number = 100) / 100)\n",
    "print(timeit.timeit('is_dag(W)', globals=globals(), number = 100) / 100)\n",
    "print(timeit.timeit('is_dag_2(W)', globals=globals(), number = 100) / 100)\n",
    "print(timeit.timeit('is_dag_3(W)', globals=globals(), number = 100) / 100)"
   ]
  }
 ],
 "metadata": {
  "kernelspec": {
   "display_name": "Python 3.6.8 64-bit",
   "language": "python",
   "name": "python36864bit874e3a48d9b148faaa09714964fd179b"
  },
  "language_info": {
   "codemirror_mode": {
    "name": "ipython",
    "version": 3
   },
   "file_extension": ".py",
   "mimetype": "text/x-python",
   "name": "python",
   "nbconvert_exporter": "python",
   "pygments_lexer": "ipython3",
   "version": "3.6.8"
  }
 },
 "nbformat": 4,
 "nbformat_minor": 5
}
