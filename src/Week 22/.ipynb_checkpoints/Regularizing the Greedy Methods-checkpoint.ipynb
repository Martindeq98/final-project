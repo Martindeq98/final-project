{
 "cells": [
  {
   "cell_type": "markdown",
   "id": "de929c51",
   "metadata": {},
   "source": [
    "### Regularizing the Greedy Methods\n",
    "So far, we have been investigating methods that aim to minimize the mean squared error on the training data. However, this implies that we heavily overfit on the training data, and hence, we get that the matrix performs well on this data, but poorly on some other data that has been generated in the exact same way.\n",
    "\n",
    "Therefore, we should verify MSE on another independent training set.\n",
    "\n",
    "How to regularize:\n",
    "- During the computations.\n",
    "    - Break when all coefficients are below a certain *tolerance*. Again, we can have multiple kinds of tolerances.\n",
    "        - Largest correlation with residual. Easy to compute.\n",
    "        - Two-norm of the current residual. Difficult, do not know the minimum before hand.\n",
    "        - Visual inspection. \n",
    "        - Coefficient size. Again, coefficient is not very good.\n",
    "- After the computations.\n",
    "    - Thresholding coefficient values. We can threshold based on several metrics.\n",
    "        - Correlation with residual when we exclude the edge.\n",
    "        - Two norm after excluding the edge.\n",
    "        - Simply set all edges with an absolute value smaller than $\\texttt{tol}$ to be equal to zero.\n",
    "    - Bootstrapping.\n",
    "        - Resample, based on difference in two norm. \n",
    "        \n",
    "More formal. A greedy method generally yields a matrix $W$. However, the nine greedy methods yield a *set* of matrices $\\mathcal{W}= \\{W_0, W_1, \\ldots, W_K\\}$. The index indicates the number of edges, and also the importance of the edges. At each iteration $k$, we add an edge to the matrix $W_{k-1}$, which yields the matrix $W_k$. The edge that is added corresponds to the edge that is the most important out of all possible edges. Naturally, on the training data, we have the ordering \n",
    "\n",
    "$$\\texttt{MSE}(W_{k - 1}) \\leq \\texttt{MSE}(W_k)\\ \\forall k = 1, \\ldots, K.$$\n",
    "\n",
    "How unimportant an edge is, it will never decrease the mean squared error on the training data, and almost always increase it. However, we also want our greedy method to *generalize*, in other words, achieve a low MSE on similarly generated data. This means that we must not *overfit* on the data.\n",
    "\n",
    "So, we are looking for a regularizing method such that we can pick a suitable $W_k$ from $\\mathcal{W}$."
   ]
  },
  {
   "cell_type": "code",
   "execution_count": 279,
   "id": "ebb79136",
   "metadata": {},
   "outputs": [],
   "source": [
    "import numpy as np\n",
    "import matplotlib.pyplot as plt\n",
    "\n",
    "import sys\n",
    "sys.path.append(\"..\")\n",
    "\n",
    "import helper.helper as h\n",
    "import helper.methods as m\n",
    "\n",
    "from notears.notears.notears import utils \n",
    "\n",
    "from importlib import reload  # Python 3.4+"
   ]
  },
  {
   "cell_type": "code",
   "execution_count": 128,
   "id": "9f65a15b",
   "metadata": {},
   "outputs": [
    {
     "data": {
      "text/plain": [
       "<module 'helper.methods' from '..\\\\helper\\\\methods.py'>"
      ]
     },
     "execution_count": 128,
     "metadata": {},
     "output_type": "execute_result"
    }
   ],
   "source": [
    "reload(m)"
   ]
  },
  {
   "cell_type": "code",
   "execution_count": 242,
   "id": "c18bc7c4",
   "metadata": {},
   "outputs": [],
   "source": [
    "p, s, T = 5, 10, 1000\n",
    "A_true = h.generate_A(p, s, low = 0.5, high = 0.75)\n",
    "X = h.generate_var_2(T, p, A_true, np.identity(p))"
   ]
  },
  {
   "cell_type": "code",
   "execution_count": 245,
   "id": "2c48dda7",
   "metadata": {},
   "outputs": [
    {
     "name": "stdout",
     "output_type": "stream",
     "text": [
      "True W:\n",
      "[[ 0.    0.    0.    0.    0.  ]\n",
      " [-0.64  0.68  0.    0.    0.  ]\n",
      " [ 0.74  0.    0.64  0.    0.  ]\n",
      " [ 0.6  -0.68  0.   -0.63  0.  ]\n",
      " [ 0.    0.71  0.68 -0.59  0.  ]].\n",
      "Estimated W:\n",
      "[[-0.03  0.    0.    0.    0.  ]\n",
      " [-0.66  0.67  0.    0.    0.  ]\n",
      " [ 0.78  0.03  0.63  0.    0.  ]\n",
      " [ 0.57 -0.7  -0.04 -0.64  0.  ]\n",
      " [-0.02  0.77  0.67 -0.56  0.03]].\n",
      "5.015893689294374\n",
      "5.002063842631173\n"
     ]
    },
    {
     "data": {
      "image/png": "[encoded data removed]",
      "text/plain": [
       "<Figure size 432x288 with 1 Axes>"
      ]
     },
     "metadata": {
      "needs_background": "light"
     },
     "output_type": "display_data"
    }
   ],
   "source": [
    "W_KOMP, _ = m._K_OMP(X[:-1], X[1:], normalize = True, F = [])\n",
    "W_OMP, Ws, MSEs, max_gains = m._OMP_2(X[:-1], X[1:], output = True)\n",
    "print(f\"True W:\\n{np.round(A_true, 2)}.\")\n",
    "print(f\"Estimated W:\\n{np.round(W_KOMP, 2)}.\")\n",
    "\n",
    "plt.plot(MSEs)\n",
    "\n",
    "X_2 = h.generate_var_2(T, p, A_true, np.identity(p))\n",
    "print(h.MSE(W_KOMP, X_2))\n",
    "print(h.MSE(A_true, X_2))"
   ]
  },
  {
   "cell_type": "markdown",
   "id": "5028d484",
   "metadata": {},
   "source": [
    "## Post Process Methods\n",
    "### Criterion per edge\n",
    "#### Regularize Based on Threshold"
   ]
  },
  {
   "cell_type": "code",
   "execution_count": 234,
   "id": "7f1856e9",
   "metadata": {},
   "outputs": [
    {
     "name": "stdout",
     "output_type": "stream",
     "text": [
      "[[ 0.99  0.    0.    0.    0.  ]\n",
      " [ 0.74 -0.56  0.   -0.41  0.  ]\n",
      " [ 1.09  0.    0.36  0.    0.  ]\n",
      " [ 0.    0.    0.    0.    0.  ]\n",
      " [ 0.   -0.51  0.    0.   -0.68]]\n"
     ]
    }
   ],
   "source": [
    "def reg_coef(W, threshold):\n",
    "    # create copy\n",
    "    W_return = W.copy()\n",
    "    \n",
    "    # threshold values\n",
    "    W_return[np.abs(W_return) <= threshold] = 0\n",
    "    \n",
    "    # return matrix\n",
    "    return W_return\n",
    "\n",
    "print(np.round(reg_coef(W_OMP, 0.3), 2))"
   ]
  },
  {
   "cell_type": "markdown",
   "id": "76da4d7a",
   "metadata": {},
   "source": [
    "#### Threshold with respect to increase in MSE"
   ]
  },
  {
   "cell_type": "code",
   "execution_count": 235,
   "id": "01968bf6",
   "metadata": {},
   "outputs": [
    {
     "name": "stdout",
     "output_type": "stream",
     "text": [
      "[[ 1.   0.   0.  -0.2  0. ]\n",
      " [ 0.7 -0.6  0.  -0.5  0. ]\n",
      " [ 1.1  0.   0.4  0.   0. ]\n",
      " [ 0.   0.   0.   0.   0. ]\n",
      " [-0.3 -0.5  0.   0.  -0.7]]\n"
     ]
    }
   ],
   "source": [
    "def reg_MSE(W, X, threshold, verbose = False):\n",
    "    \n",
    "    W_temp = W.copy()\n",
    "    stop = False\n",
    "    \n",
    "    # iteratively remove edges until all edges yield MSE increase greater than threshold\n",
    "    while len(W_temp[W_temp != 0]) > 0:\n",
    "        \n",
    "        MSE_current = h.MSE(W_temp, X)\n",
    "        MSE_remove = np.inf\n",
    "        edge_remove = None\n",
    "        \n",
    "        for row, col in np.argwhere(W_temp != 0):\n",
    "            \n",
    "            # temporarily remove edge\n",
    "            tmp = W_temp[row][col]\n",
    "            W_temp[row][col] = 0\n",
    "\n",
    "            # compute MSE\n",
    "            MSE_temp = h.MSE(W_temp, X)\n",
    "\n",
    "            # check if it is the least important edge\n",
    "            if MSE_temp < MSE_remove:\n",
    "                MSE_remove = MSE_temp\n",
    "                edge_to_remove = [row, col]\n",
    "                \n",
    "            # checking is done, try new matrix\n",
    "            W_temp[row][col] = tmp\n",
    "        \n",
    "        if verbose: print(f\"Removing edge {edge_to_remove} yields the smallest increase in MSE of {np.round(MSE_remove - MSE_current, 1)}.\")\n",
    "        \n",
    "        # remove least important edge\n",
    "        if MSE_remove - MSE_current >= threshold:\n",
    "            if verbose: print(f\"Loss in MSE is larger than threshold. We terminate.\")\n",
    "            return W_temp\n",
    "        \n",
    "        else:\n",
    "            \n",
    "            # remove entry\n",
    "            row, col = edge_to_remove\n",
    "            W_temp[row][col] = 0\n",
    "            \n",
    "            # update column\n",
    "            idx = np.nonzero(W_temp[:, col])[0]\n",
    "            W_temp[idx, col] = (np.linalg.inv(X[:-1, idx].T @ X[:-1, idx]) @ X[:-1, idx].T @ X[1:, col])\n",
    "    \n",
    "    print(\"Empty Graph! All edges were not important enough.\")\n",
    "    return W_temp\n",
    "    \n",
    "print(np.round(reg_MSE(W_KOMP, X, 0.1), 1))"
   ]
  },
  {
   "cell_type": "markdown",
   "id": "5dbe9650",
   "metadata": {},
   "source": [
    "#### Threshold with respect to correlation with residual"
   ]
  },
  {
   "cell_type": "code",
   "execution_count": 125,
   "id": "8719a630",
   "metadata": {},
   "outputs": [],
   "source": [
    "def normalize(x): return x / np.linalg.norm(x)"
   ]
  },
  {
   "cell_type": "code",
   "execution_count": 126,
   "id": "b53bd110",
   "metadata": {},
   "outputs": [],
   "source": [
    "def gain(W, X, i, j):\n",
    "    \n",
    "    return np.abs(normalize(X[:-1, i]) @ (X[1:, j] - (X[:-1] @ W)[:, j]))"
   ]
  },
  {
   "cell_type": "code",
   "execution_count": 236,
   "id": "78dad4c7",
   "metadata": {},
   "outputs": [
    {
     "name": "stdout",
     "output_type": "stream",
     "text": [
      "[[ 0.99  0.    0.   -0.18  0.  ]\n",
      " [ 0.74 -0.56  0.11 -0.41  0.  ]\n",
      " [ 1.09  0.    0.36 -0.01  0.  ]\n",
      " [ 0.    0.    0.   -0.2   0.  ]\n",
      " [-0.29 -0.51 -0.26 -0.   -0.68]]\n"
     ]
    }
   ],
   "source": [
    "def reg_OMP(W, X, threshold, verbose = False):\n",
    "    \n",
    "    W_temp = W.copy()\n",
    "    stop = False\n",
    "    \n",
    "    # iteratively remove edges until all edges yield MSE increase greater than threshold\n",
    "    while len(W_temp[W_temp != 0]) > 0:\n",
    "        \n",
    "        resid_remove = np.inf\n",
    "        edge_remove = None\n",
    "        \n",
    "        for row, col in np.argwhere(W_temp != 0):\n",
    "            \n",
    "            # temporarily remove edge\n",
    "            tmp = W_temp[row][col]\n",
    "            W_temp[row][col] = 0\n",
    "\n",
    "            # compute MSE\n",
    "            resid_temp = gain(W_temp, X, row, col)\n",
    "\n",
    "            # check if it is the least important edge\n",
    "            if resid_temp < resid_remove:\n",
    "                resid_remove = resid_temp\n",
    "                edge_to_remove = [row, col]\n",
    "                \n",
    "            # checking is done, try new matrix\n",
    "            W_temp[row][col] = tmp\n",
    "        \n",
    "        if verbose: print(f\"Removing edge {edge_to_remove} yields the smallest residual correlation of {np.round(resid_remove, 1)}.\")\n",
    "        \n",
    "        # remove least important edge\n",
    "        if resid_remove >= threshold:\n",
    "            if verbose: print(f\"Loss in residual correlation is larger than threshold. We terminate.\")\n",
    "            return W_temp\n",
    "        else:\n",
    "            # remove entry\n",
    "            row, col = edge_to_remove\n",
    "            W_temp[row][col] = 0\n",
    "            \n",
    "            # update column\n",
    "            idx = np.nonzero(W_temp[:, col])[0]\n",
    "            W_temp[idx, col] = (np.linalg.inv(X[:-1, idx].T @ X[:-1, idx]) @ X[:-1, idx].T @ X[1:, col])\n",
    "\n",
    "    print(\"Empty Graph! All edges were not important enough.\")\n",
    "    return W_temp\n",
    "    \n",
    "print(np.round(reg_OMP(W_KOMP, X, 0), 2))"
   ]
  },
  {
   "cell_type": "markdown",
   "id": "65950c65",
   "metadata": {},
   "source": [
    "### Criterion on total matrix $W$"
   ]
  },
  {
   "cell_type": "markdown",
   "id": "6ade76df",
   "metadata": {},
   "source": [
    "#### Maximum number of edges"
   ]
  },
  {
   "cell_type": "markdown",
   "id": "e39dc143",
   "metadata": {},
   "source": [
    "#### Minimum MSE on Training Data"
   ]
  },
  {
   "cell_type": "markdown",
   "id": "99598487",
   "metadata": {},
   "source": [
    "## Bootstrapping"
   ]
  },
  {
   "cell_type": "markdown",
   "id": "6fa840dd",
   "metadata": {},
   "source": [
    "# Compare all methods"
   ]
  },
  {
   "cell_type": "code",
   "execution_count": 269,
   "id": "4587c7e9",
   "metadata": {},
   "outputs": [
    {
     "name": "stdout",
     "output_type": "stream",
     "text": [
      "W_true:\n",
      "MSE on training set:\t 5.0\n",
      "MSE on test set:\t 6.0\n",
      "\n",
      "W_OMP:\n",
      "MSE on training set:\t 4.8\n",
      "MSE on test set:\t 8.0\n",
      "[[-0.50024019  0.          0.          0.          0.        ]\n",
      " [ 0.54462458  0.53666841  0.          0.          0.        ]\n",
      " [ 0.          0.67068864  0.64004093  0.          0.        ]\n",
      " [ 0.          0.          0.50366469  0.54563132  0.        ]\n",
      " [-0.54787867  0.          0.          0.51094812  0.52066274]]\n",
      "[[[ 0.    0.    0.    0.    0.  ]\n",
      "  [ 0.    1.    0.    0.    0.  ]\n",
      "  [ 0.    0.    0.    0.    0.  ]\n",
      "  [ 0.    0.    0.    0.    0.  ]\n",
      "  [ 0.    0.    0.    0.    0.  ]]\n",
      "\n",
      " [[ 0.    0.    0.    0.    0.  ]\n",
      "  [ 0.    1.    0.    0.    0.  ]\n",
      "  [ 0.    0.    0.95  0.    0.  ]\n",
      "  [ 0.    0.    0.    0.    0.  ]\n",
      "  [ 0.    0.    0.    0.    0.  ]]\n",
      "\n",
      " [[ 0.    0.    0.    0.    0.  ]\n",
      "  [ 0.    1.    0.    0.    0.  ]\n",
      "  [ 0.    0.    0.95  0.    0.  ]\n",
      "  [ 0.    0.    0.    0.    0.  ]\n",
      "  [ 0.    0.    0.    0.    0.7 ]]\n",
      "\n",
      " [[ 0.    0.    0.    0.    0.  ]\n",
      "  [ 0.34  1.    0.    0.    0.  ]\n",
      "  [ 0.    0.    0.95  0.    0.  ]\n",
      "  [ 0.    0.    0.    0.    0.  ]\n",
      "  [ 0.    0.    0.    0.    0.7 ]]\n",
      "\n",
      " [[ 0.    0.    0.    0.    0.  ]\n",
      "  [ 0.34  1.    0.    0.    0.  ]\n",
      "  [ 0.    0.    0.95  0.    0.  ]\n",
      "  [ 0.    0.    0.    0.64  0.  ]\n",
      "  [ 0.    0.    0.    0.    0.7 ]]\n",
      "\n",
      " [[ 0.    0.    0.    0.    0.  ]\n",
      "  [ 0.42  1.    0.    0.    0.  ]\n",
      "  [ 0.    0.    0.95  0.    0.  ]\n",
      "  [ 0.    0.    0.    0.64  0.  ]\n",
      "  [-0.55  0.    0.    0.    0.7 ]]\n",
      "\n",
      " [[-0.48  0.    0.    0.    0.  ]\n",
      "  [ 0.54  1.    0.    0.    0.  ]\n",
      "  [ 0.    0.    0.95  0.    0.  ]\n",
      "  [ 0.    0.    0.    0.64  0.  ]\n",
      "  [-0.64  0.    0.    0.    0.7 ]]\n",
      "\n",
      " [[-0.48  0.    0.    0.    0.  ]\n",
      "  [ 0.54  1.    0.    0.    0.  ]\n",
      "  [ 0.    0.    0.79  0.    0.  ]\n",
      "  [ 0.    0.    0.54  0.64  0.  ]\n",
      "  [-0.64  0.    0.    0.    0.7 ]]\n",
      "\n",
      " [[-0.48  0.    0.    0.    0.  ]\n",
      "  [ 0.54  0.94  0.    0.    0.  ]\n",
      "  [ 0.    0.    0.79  0.    0.  ]\n",
      "  [ 0.    0.    0.54  0.64  0.  ]\n",
      "  [-0.64  0.4   0.    0.    0.7 ]]\n",
      "\n",
      " [[-0.48  0.    0.22  0.    0.  ]\n",
      "  [ 0.54  0.94  0.    0.    0.  ]\n",
      "  [ 0.    0.    0.75  0.    0.  ]\n",
      "  [ 0.    0.    0.57  0.64  0.  ]\n",
      "  [-0.64  0.4   0.    0.    0.7 ]]\n",
      "\n",
      " [[-0.48  0.    0.22  0.    0.  ]\n",
      "  [ 0.54  0.94  0.    0.    0.  ]\n",
      "  [ 0.    0.    0.75  0.    0.  ]\n",
      "  [ 0.    0.    0.57  0.5   0.  ]\n",
      "  [-0.64  0.4   0.    0.28  0.7 ]]\n",
      "\n",
      " [[-0.48  0.    0.22  0.    0.  ]\n",
      "  [ 0.54  0.94  0.    0.09  0.  ]\n",
      "  [ 0.    0.    0.75  0.    0.  ]\n",
      "  [ 0.    0.    0.57  0.47  0.  ]\n",
      "  [-0.64  0.4   0.    0.25  0.7 ]]\n",
      "\n",
      " [[-0.47  0.    0.22  0.    0.  ]\n",
      "  [ 0.53  0.94  0.    0.09  0.  ]\n",
      "  [ 0.    0.    0.75  0.    0.  ]\n",
      "  [ 0.14  0.    0.57  0.47  0.  ]\n",
      "  [-0.7   0.4   0.    0.25  0.7 ]]\n",
      "\n",
      " [[-0.47  0.    0.15  0.    0.  ]\n",
      "  [ 0.53  0.94  0.16  0.09  0.  ]\n",
      "  [ 0.    0.    0.59  0.    0.  ]\n",
      "  [ 0.14  0.    0.61  0.47  0.  ]\n",
      "  [-0.7   0.4   0.    0.25  0.7 ]]\n",
      "\n",
      " [[-0.47  0.    0.16  0.    0.  ]\n",
      "  [ 0.53  0.94  0.18  0.09  0.  ]\n",
      "  [ 0.    0.    0.52  0.    0.  ]\n",
      "  [ 0.14  0.    0.57  0.47  0.  ]\n",
      "  [-0.7   0.4   0.17  0.25  0.7 ]]]\n"
     ]
    },
    {
     "data": {
      "image/png": "[encoded data removed]",
      "text/plain": [
       "<Figure size 432x288 with 1 Axes>"
      ]
     },
     "metadata": {
      "needs_background": "light"
     },
     "output_type": "display_data"
    }
   ],
   "source": [
    "## Generate data\n",
    "p, s, T = 5, 10, 25\n",
    "W_true = h.generate_A(p, s, low = 0.5, high = 0.75)\n",
    "X = h.generate_var_2(T, p, W_true, np.identity(p))\n",
    "\n",
    "# Infer matrix using OMP\n",
    "W_OMP, Ws, MSEs, max_gains = m._OMP_2(X[:-1], X[1:], output = True)\n",
    "\n",
    "# Generate similar data\n",
    "X_2 = h.generate_var_2(T, p, W_true, np.identity(p))\n",
    "\n",
    "## We already see: performs well on training, bad on test\n",
    "print(\"W_true:\\nMSE on training set:\\t\", np.round(h.MSE(W_true, X), 1))\n",
    "print(\"MSE on test set:\\t\", np.round(h.MSE(W_true, X_2), 1))\n",
    "\n",
    "print(\"\\nW_OMP:\\nMSE on training set:\\t\", np.round(h.MSE(W_OMP, X), 1))\n",
    "print(\"MSE on test set:\\t\", np.round(h.MSE(W_OMP, X_2), 1))\n",
    "\n",
    "plt.plot(MSEs)\n",
    "\n",
    "print(W_true)\n",
    "print(np.round(Ws, 2))"
   ]
  },
  {
   "cell_type": "code",
   "execution_count": 263,
   "id": "3f9b981e",
   "metadata": {},
   "outputs": [
    {
     "name": "stdout",
     "output_type": "stream",
     "text": [
      "Regularize using coefficient size with threshold 0.3:\n",
      "MSE on training set:\t3.1.\n",
      "MSE on test set:\t6.5.\n",
      "\n",
      "Regularize using MSE with threshold 0.5:\n",
      "MSE on training set:\t5.0.\n",
      "MSE on test set:\t8.4.\n",
      "\n",
      "Regularize using residual correlation, with threshold 5:\n",
      "MSE on training set:\t5.6.\n",
      "MSE on test set:\t11.1.\n"
     ]
    }
   ],
   "source": [
    "coef_size = 0.3\n",
    "print(f\"Regularize using coefficient size with threshold {coef_size}:\\nMSE on training set:\\t{np.round(h.MSE(reg_coef(W_OMP, coef_size), X), 1)}.\\nMSE on test set:\\t{np.round(h.MSE(reg_coef(W_OMP, coef_size), X_2), 1)}.\\n\")\n",
    "\n",
    "threshold = 0.5\n",
    "print(f\"Regularize using MSE with threshold {threshold}:\\nMSE on training set:\\t{np.round(h.MSE(reg_MSE(W_OMP, X, threshold), X), 1)}.\\nMSE on test set:\\t{np.round(h.MSE(reg_MSE(W_OMP, X, threshold), X_2), 1)}.\\n\")\n",
    "\n",
    "threshold = 5\n",
    "print(f\"Regularize using residual correlation, with threshold {threshold}:\\nMSE on training set:\\t{np.round(h.MSE(reg_OMP(W_OMP, X, threshold), X), 1)}.\\nMSE on test set:\\t{np.round(h.MSE(reg_OMP(W_OMP, X, threshold), X_2), 1)}.\")"
   ]
  },
  {
   "cell_type": "markdown",
   "id": "f7868a5d",
   "metadata": {},
   "source": [
    "### Metric: AUC\n",
    "We have a threshold that we can vary from zero until infinity. At zero, we simply do not regularization and at infinity, we regularize out all edges. We can calculate the true positive rate (tpr) as a function of this threshold, i.e., how many edges that we detect were actually true after regularizing? Furthermore, we can also compute the false positive rate as a function of this threshold, i.e., how many edges that we detect were actually false after regularizing? This AUC says something important. Clearly, when our threshold is infinity, we detect no edges whatsoever, so our true positive rate is 1, and our false positive rate is 1 by definition."
   ]
  },
  {
   "cell_type": "code",
   "execution_count": 270,
   "id": "ade19c48",
   "metadata": {},
   "outputs": [
    {
     "data": {
      "text/plain": [
       "[<matplotlib.lines.Line2D at 0x16f9ad8d0f0>]"
      ]
     },
     "execution_count": 270,
     "metadata": {},
     "output_type": "execute_result"
    },
    {
     "data": {
      "image/png": "[encoded data removed]",
      "text/plain": [
       "<Figure size 432x288 with 1 Axes>"
      ]
     },
     "metadata": {
      "needs_background": "light"
     },
     "output_type": "display_data"
    }
   ],
   "source": [
    "coefs = np.linspace(0, 1, 100)\n",
    "tprs, fprs = [1], [1]\n",
    "\n",
    "for coef in coefs:\n",
    "    B_OMP = (reg_coef(W_OMP, coef) != 0).flatten()\n",
    "    \n",
    "    tprs.append(((B_OMP == B_true) & (B_OMP == 1)).sum() / (B_true == 1).sum())\n",
    "    fprs.append(((B_OMP != B_true) & (B_OMP == 1)).sum() / (B_true == 0).sum())\n",
    "\n",
    "plt.xlabel(\"False Positive Rate.\")\n",
    "plt.ylabel(\"True Positive Rate.\")\n",
    "plt.plot(fprs, tprs, marker = 'o')"
   ]
  },
  {
   "cell_type": "code",
   "execution_count": null,
   "id": "cb21e9cd",
   "metadata": {},
   "outputs": [],
   "source": []
  },
  {
   "cell_type": "code",
   "execution_count": 339,
   "id": "99842ec7",
   "metadata": {
    "scrolled": false
   },
   "outputs": [
    {
     "name": "stdout",
     "output_type": "stream",
     "text": [
      "Empty Graph! All edges were not important enough.\n",
      "Empty Graph! All edges were not important enough.\n",
      "Empty Graph! All edges were not important enough.\n",
      "Empty Graph! All edges were not important enough.\n",
      "Empty Graph! All edges were not important enough.\n",
      "Empty Graph! All edges were not important enough.\n",
      "Empty Graph! All edges were not important enough.\n",
      "Empty Graph! All edges were not important enough.\n",
      "Empty Graph! All edges were not important enough.\n",
      "Empty Graph! All edges were not important enough.\n",
      "Empty Graph! All edges were not important enough.\n",
      "Empty Graph! All edges were not important enough.\n",
      "Empty Graph! All edges were not important enough.\n",
      "Empty Graph! All edges were not important enough.\n",
      "Empty Graph! All edges were not important enough.\n",
      "Empty Graph! All edges were not important enough.\n",
      "Empty Graph! All edges were not important enough.\n",
      "Empty Graph! All edges were not important enough.\n",
      "Empty Graph! All edges were not important enough.\n"
     ]
    },
    {
     "data": {
      "text/plain": [
       "[<matplotlib.lines.Line2D at 0x16f9e435be0>]"
      ]
     },
     "execution_count": 339,
     "metadata": {},
     "output_type": "execute_result"
    },
    {
     "data": {
      "image/png": "[encoded data removed]",
      "text/plain": [
       "<Figure size 432x288 with 1 Axes>"
      ]
     },
     "metadata": {
      "needs_background": "light"
     },
     "output_type": "display_data"
    }
   ],
   "source": [
    "tols = np.linspace(0, 10, 100)\n",
    "tprs, fprs = [1], [1]\n",
    "\n",
    "B_true = (W_true != 0).flatten()\n",
    "\n",
    "for tol in tols:       \n",
    "    B_OMP = (reg_MSE(W_OMP, X, tol) != 0).flatten()\n",
    "\n",
    "    tprs.append(((B_OMP == B_true) & (B_OMP == 1)).sum() / (B_true == 1).sum())\n",
    "    fprs.append(((B_OMP != B_true) & (B_OMP == 1)).sum() / (B_true == 0).sum())\n",
    "    \n",
    "tprs.append(0)\n",
    "fprs.append(0)\n",
    "\n",
    "plt.xlabel(\"False Positive Rate.\")\n",
    "plt.ylabel(\"True Positive Rate.\")\n",
    "plt.plot(fprs, tprs, marker = 'o')"
   ]
  },
  {
   "cell_type": "code",
   "execution_count": 272,
   "id": "942921bd",
   "metadata": {},
   "outputs": [
    {
     "data": {
      "text/plain": [
       "[<matplotlib.lines.Line2D at 0x16f9ae4d898>]"
      ]
     },
     "execution_count": 272,
     "metadata": {},
     "output_type": "execute_result"
    },
    {
     "data": {
      "image/png": "[encoded data removed]",
      "text/plain": [
       "<Figure size 432x288 with 1 Axes>"
      ]
     },
     "metadata": {
      "needs_background": "light"
     },
     "output_type": "display_data"
    }
   ],
   "source": [
    "tols = np.linspace(0, 12, 100)\n",
    "tprs, fprs = [1], [1]\n",
    "\n",
    "for tol in tols:\n",
    "    tpr, _, fpr, _, _, _, _ = h.score(X_2, reg_OMP(W_OMP, X, tol), W_true, printing = False)\n",
    "    tprs.append(tpr)\n",
    "    fprs.append(fpr)\n",
    "\n",
    "tprs.append(0)\n",
    "fprs.append(0)\n",
    "\n",
    "plt.xlabel(\"False Positive Rate.\")\n",
    "plt.ylabel(\"True Positive Rate.\")\n",
    "plt.plot(fprs, tprs, marker = 'o')"
   ]
  }
 ],
 "metadata": {
  "kernelspec": {
   "display_name": "Python 3.6.8 64-bit",
   "language": "python",
   "name": "python36864bit874e3a48d9b148faaa09714964fd179b"
  },
  "language_info": {
   "codemirror_mode": {
    "name": "ipython",
    "version": 3
   },
   "file_extension": ".py",
   "mimetype": "text/x-python",
   "name": "python",
   "nbconvert_exporter": "python",
   "pygments_lexer": "ipython3",
   "version": "3.6.8"
  }
 },
 "nbformat": 4,
 "nbformat_minor": 5
}
