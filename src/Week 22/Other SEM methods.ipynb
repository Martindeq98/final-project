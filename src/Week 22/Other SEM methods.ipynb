{
 "cells": [
  {
   "cell_type": "markdown",
   "id": "82d25bbd",
   "metadata": {},
   "source": [
    "### Other SEM methods\n",
    "NOTEARS is quite good, perhaps we can make a comparison with a worse method?"
   ]
  }
 ],
 "metadata": {
  "kernelspec": {
   "display_name": "Python 3.6.8 64-bit",
   "language": "python",
   "name": "python36864bit874e3a48d9b148faaa09714964fd179b"
  },
  "language_info": {
   "codemirror_mode": {
    "name": "ipython",
    "version": 3
   },
   "file_extension": ".py",
   "mimetype": "text/x-python",
   "name": "python",
   "nbconvert_exporter": "python",
   "pygments_lexer": "ipython3",
   "version": "3.6.8"
  }
 },
 "nbformat": 4,
 "nbformat_minor": 5
}
