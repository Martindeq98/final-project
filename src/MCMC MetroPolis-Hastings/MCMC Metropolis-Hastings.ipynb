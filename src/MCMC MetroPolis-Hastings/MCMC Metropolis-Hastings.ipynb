{
 "cells": [
  {
   "cell_type": "markdown",
   "id": "6e796ffe",
   "metadata": {},
   "source": [
    "### MCMC Metropolis-Hastings"
   ]
  },
  {
   "cell_type": "code",
   "execution_count": 1,
   "id": "b0c11699",
   "metadata": {},
   "outputs": [],
   "source": [
    "import sys\n",
    "from tqdm import tqdm\n",
    "import itertools\n",
    "import numpy as np\n",
    "import matplotlib.pyplot as plt\n",
    "\n",
    "sys.path.append(\"..\")\n",
    "import helper.helper as h"
   ]
  },
  {
   "cell_type": "markdown",
   "id": "2cd80fef",
   "metadata": {},
   "source": [
    "Generate a random $A$, with $\\texttt{num_edges}$, where the edge weights are between $0.5$ and $1.0$. The matrix $A$ is lower triangular, but allows for entries to be non-zero on the diagonal."
   ]
  },
  {
   "cell_type": "code",
   "execution_count": 2,
   "id": "8c4703da",
   "metadata": {},
   "outputs": [],
   "source": [
    "def generate_A(n, num_edges):\n",
    "    edges = np.array([0.0] * (int(n * (n + 1) / 2) - num_edges) + [1.0] * num_edges)\n",
    "    \n",
    "    edges[edges > 0] = (2 * np.random.randint(0, 2, size=(num_edges)) - 1) * np.random.uniform(0.5, 0.75, num_edges)\n",
    "    np.random.shuffle(edges)\n",
    "    \n",
    "    A = np.zeros((n, n))\n",
    "    A[np.tril_indices(n)] = edges\n",
    "    \n",
    "    return A"
   ]
  },
  {
   "cell_type": "markdown",
   "id": "ca5ebb96",
   "metadata": {},
   "source": [
    "Generate data according to a VAR(1) model with $P^TAP$ as matrix. $\\texttt{n}$-dimensional, $\\texttt{s}$ non-zero entries, $\\texttt{T}$ samples."
   ]
  },
  {
   "cell_type": "code",
   "execution_count": 92,
   "id": "cdc455ad",
   "metadata": {},
   "outputs": [
    {
     "name": "stdout",
     "output_type": "stream",
     "text": [
      "A:\n",
      "[[ 0.    0.    0.    0.    0.    0.    0.    0.    0.    0.    0.    0.\n",
      "   0.    0.    0.    0.    0.    0.    0.    0.    0.    0.    0.    0.\n",
      "   0.  ]\n",
      " [ 0.    0.    0.    0.    0.    0.    0.    0.    0.    0.    0.    0.\n",
      "   0.    0.    0.    0.    0.    0.    0.    0.    0.    0.    0.    0.\n",
      "   0.  ]\n",
      " [ 0.    0.    0.    0.    0.    0.    0.    0.    0.    0.    0.    0.\n",
      "   0.    0.    0.    0.    0.    0.    0.    0.    0.    0.    0.    0.\n",
      "   0.  ]\n",
      " [ 0.    0.    0.    0.    0.    0.    0.    0.    0.    0.    0.    0.\n",
      "   0.    0.    0.    0.    0.    0.    0.    0.    0.    0.    0.    0.\n",
      "   0.  ]\n",
      " [ 0.    0.    0.    0.    0.    0.    0.    0.    0.    0.    0.    0.\n",
      "   0.    0.    0.    0.    0.    0.    0.    0.    0.    0.    0.    0.\n",
      "   0.  ]\n",
      " [ 0.54  0.    0.    0.    0.    0.59  0.    0.    0.    0.    0.    0.\n",
      "   0.    0.    0.    0.    0.    0.    0.    0.    0.    0.    0.    0.\n",
      "   0.  ]\n",
      " [ 0.    0.    0.    0.    0.    0.    0.    0.    0.    0.    0.    0.\n",
      "   0.    0.    0.    0.    0.    0.    0.    0.    0.    0.    0.    0.\n",
      "   0.  ]\n",
      " [ 0.    0.    0.    0.    0.    0.    0.    0.    0.    0.    0.    0.\n",
      "   0.    0.    0.    0.    0.    0.    0.    0.    0.    0.    0.    0.\n",
      "   0.  ]\n",
      " [ 0.    0.    0.    0.    0.    0.    0.    0.    0.    0.    0.    0.\n",
      "   0.    0.    0.    0.    0.    0.    0.    0.    0.    0.    0.    0.\n",
      "   0.  ]\n",
      " [ 0.    0.    0.    0.    0.    0.    0.    0.72  0.    0.    0.    0.\n",
      "   0.    0.    0.    0.    0.    0.    0.    0.    0.    0.    0.    0.\n",
      "   0.  ]\n",
      " [ 0.    0.    0.    0.    0.    0.    0.    0.    0.    0.    0.62  0.\n",
      "   0.    0.    0.    0.    0.    0.    0.    0.    0.    0.    0.    0.\n",
      "   0.  ]\n",
      " [ 0.    0.    0.    0.    0.    0.    0.    0.73  0.    0.    0.    0.5\n",
      "   0.    0.    0.    0.    0.    0.    0.    0.    0.    0.    0.    0.\n",
      "   0.  ]\n",
      " [ 0.    0.    0.    0.    0.    0.   -0.55  0.    0.    0.    0.    0.\n",
      "   0.    0.    0.    0.    0.    0.    0.    0.    0.    0.    0.    0.\n",
      "   0.  ]\n",
      " [ 0.    0.    0.    0.    0.    0.    0.    0.    0.    0.    0.    0.\n",
      "   0.    0.    0.    0.    0.    0.    0.    0.    0.    0.    0.    0.\n",
      "   0.  ]\n",
      " [ 0.    0.    0.    0.    0.    0.    0.    0.    0.    0.    0.    0.\n",
      "   0.    0.    0.    0.    0.    0.    0.    0.    0.    0.    0.    0.\n",
      "   0.  ]\n",
      " [ 0.    0.    0.    0.   -0.62  0.    0.    0.    0.    0.    0.    0.\n",
      "   0.    0.    0.    0.    0.    0.    0.    0.    0.    0.    0.    0.\n",
      "   0.  ]\n",
      " [ 0.    0.    0.    0.    0.    0.    0.    0.    0.    0.    0.    0.\n",
      "   0.    0.    0.    0.    0.    0.    0.    0.    0.    0.    0.    0.\n",
      "   0.  ]\n",
      " [ 0.61  0.    0.    0.    0.    0.    0.    0.    0.    0.    0.    0.\n",
      "   0.    0.    0.   -0.56  0.    0.    0.    0.    0.    0.    0.    0.\n",
      "   0.  ]\n",
      " [ 0.    0.    0.    0.    0.    0.    0.    0.   -0.64  0.    0.    0.\n",
      "   0.    0.    0.    0.    0.    0.    0.    0.    0.    0.    0.    0.\n",
      "   0.  ]\n",
      " [ 0.    0.    0.    0.    0.    0.    0.    0.    0.    0.    0.    0.\n",
      "   0.    0.    0.    0.55  0.    0.    0.    0.    0.    0.    0.    0.\n",
      "   0.  ]\n",
      " [ 0.    0.    0.    0.6   0.    0.    0.    0.    0.    0.    0.    0.\n",
      "   0.    0.    0.    0.    0.    0.    0.67  0.    0.    0.    0.    0.\n",
      "   0.  ]\n",
      " [ 0.74  0.    0.    0.    0.    0.    0.    0.    0.    0.    0.    0.\n",
      "  -0.66  0.    0.    0.    0.    0.    0.    0.    0.    0.    0.    0.\n",
      "   0.  ]\n",
      " [-0.61 -0.61  0.    0.    0.    0.69  0.51  0.    0.    0.    0.    0.\n",
      "   0.   -0.66  0.    0.    0.    0.    0.    0.    0.    0.    0.    0.\n",
      "   0.  ]\n",
      " [ 0.    0.    0.    0.    0.62  0.    0.    0.    0.    0.    0.    0.\n",
      "   0.    0.   -0.71  0.    0.    0.    0.    0.    0.    0.66  0.    0.\n",
      "   0.  ]\n",
      " [ 0.65  0.    0.    0.    0.    0.    0.    0.    0.    0.    0.    0.\n",
      "   0.    0.    0.    0.    0.    0.    0.    0.    0.    0.    0.    0.\n",
      "   0.  ]]\n",
      "\n",
      "P:\n",
      "[[0. 0. 0. 0. 0. 0. 0. 0. 0. 0. 0. 0. 0. 0. 0. 0. 0. 1. 0. 0. 0. 0. 0. 0.\n",
      "  0.]\n",
      " [0. 0. 0. 0. 0. 0. 0. 0. 0. 0. 0. 0. 0. 0. 0. 0. 1. 0. 0. 0. 0. 0. 0. 0.\n",
      "  0.]\n",
      " [0. 0. 0. 0. 0. 0. 0. 0. 0. 0. 0. 0. 1. 0. 0. 0. 0. 0. 0. 0. 0. 0. 0. 0.\n",
      "  0.]\n",
      " [0. 0. 1. 0. 0. 0. 0. 0. 0. 0. 0. 0. 0. 0. 0. 0. 0. 0. 0. 0. 0. 0. 0. 0.\n",
      "  0.]\n",
      " [0. 0. 0. 0. 0. 0. 0. 0. 0. 0. 0. 0. 0. 0. 0. 0. 0. 0. 0. 0. 0. 0. 0. 0.\n",
      "  1.]\n",
      " [0. 0. 0. 0. 0. 0. 0. 0. 1. 0. 0. 0. 0. 0. 0. 0. 0. 0. 0. 0. 0. 0. 0. 0.\n",
      "  0.]\n",
      " [1. 0. 0. 0. 0. 0. 0. 0. 0. 0. 0. 0. 0. 0. 0. 0. 0. 0. 0. 0. 0. 0. 0. 0.\n",
      "  0.]\n",
      " [0. 0. 0. 0. 0. 0. 1. 0. 0. 0. 0. 0. 0. 0. 0. 0. 0. 0. 0. 0. 0. 0. 0. 0.\n",
      "  0.]\n",
      " [0. 0. 0. 0. 0. 0. 0. 0. 0. 0. 0. 0. 0. 0. 0. 0. 0. 0. 0. 1. 0. 0. 0. 0.\n",
      "  0.]\n",
      " [0. 0. 0. 1. 0. 0. 0. 0. 0. 0. 0. 0. 0. 0. 0. 0. 0. 0. 0. 0. 0. 0. 0. 0.\n",
      "  0.]\n",
      " [0. 0. 0. 0. 0. 0. 0. 0. 0. 0. 0. 1. 0. 0. 0. 0. 0. 0. 0. 0. 0. 0. 0. 0.\n",
      "  0.]\n",
      " [0. 0. 0. 0. 0. 0. 0. 0. 0. 0. 0. 0. 0. 0. 0. 0. 0. 0. 0. 0. 0. 0. 1. 0.\n",
      "  0.]\n",
      " [0. 0. 0. 0. 0. 0. 0. 0. 0. 0. 1. 0. 0. 0. 0. 0. 0. 0. 0. 0. 0. 0. 0. 0.\n",
      "  0.]\n",
      " [0. 0. 0. 0. 0. 1. 0. 0. 0. 0. 0. 0. 0. 0. 0. 0. 0. 0. 0. 0. 0. 0. 0. 0.\n",
      "  0.]\n",
      " [0. 0. 0. 0. 0. 0. 0. 0. 0. 0. 0. 0. 0. 0. 0. 0. 0. 0. 0. 0. 0. 0. 0. 1.\n",
      "  0.]\n",
      " [0. 0. 0. 0. 0. 0. 0. 0. 0. 0. 0. 0. 0. 1. 0. 0. 0. 0. 0. 0. 0. 0. 0. 0.\n",
      "  0.]\n",
      " [0. 0. 0. 0. 1. 0. 0. 0. 0. 0. 0. 0. 0. 0. 0. 0. 0. 0. 0. 0. 0. 0. 0. 0.\n",
      "  0.]\n",
      " [0. 0. 0. 0. 0. 0. 0. 0. 0. 0. 0. 0. 0. 0. 0. 0. 0. 0. 0. 0. 1. 0. 0. 0.\n",
      "  0.]\n",
      " [0. 0. 0. 0. 0. 0. 0. 1. 0. 0. 0. 0. 0. 0. 0. 0. 0. 0. 0. 0. 0. 0. 0. 0.\n",
      "  0.]\n",
      " [0. 0. 0. 0. 0. 0. 0. 0. 0. 0. 0. 0. 0. 0. 1. 0. 0. 0. 0. 0. 0. 0. 0. 0.\n",
      "  0.]\n",
      " [0. 0. 0. 0. 0. 0. 0. 0. 0. 0. 0. 0. 0. 0. 0. 1. 0. 0. 0. 0. 0. 0. 0. 0.\n",
      "  0.]\n",
      " [0. 0. 0. 0. 0. 0. 0. 0. 0. 0. 0. 0. 0. 0. 0. 0. 0. 0. 0. 0. 0. 1. 0. 0.\n",
      "  0.]\n",
      " [0. 1. 0. 0. 0. 0. 0. 0. 0. 0. 0. 0. 0. 0. 0. 0. 0. 0. 0. 0. 0. 0. 0. 0.\n",
      "  0.]\n",
      " [0. 0. 0. 0. 0. 0. 0. 0. 0. 0. 0. 0. 0. 0. 0. 0. 0. 0. 1. 0. 0. 0. 0. 0.\n",
      "  0.]\n",
      " [0. 0. 0. 0. 0. 0. 0. 0. 0. 1. 0. 0. 0. 0. 0. 0. 0. 0. 0. 0. 0. 0. 0. 0.\n",
      "  0.]].\n"
     ]
    },
    {
     "data": {
      "image/png": "[encoded data removed]",
      "text/plain": [
       "<Figure size 432x288 with 1 Axes>"
      ]
     },
     "metadata": {
      "needs_background": "light"
     },
     "output_type": "display_data"
    }
   ],
   "source": [
    "## Number of dimensions, number of edges, number of samples\n",
    "T, n, s = 50, 25, 25\n",
    "\n",
    "## Coefficient matrix\n",
    "A_true = generate_A(n, s)\n",
    "\n",
    "## True permutation\n",
    "P_true = np.random.permutation(np.identity(n))\n",
    "\n",
    "## Generate series\n",
    "X = h.generate_var_2(T, n, A_true, P_true)\n",
    "plt.plot(X);\n",
    "\n",
    "print(f\"A:\\n{np.round(A_true, 2)}\\n\\nP:\\n{P_true}.\")"
   ]
  },
  {
   "cell_type": "markdown",
   "id": "37369275",
   "metadata": {},
   "source": [
    "As we have seen in Section, relaxing the search space from the set of permutation matrices to the set of doubly stochastic matrices created numerous issues. Although the search space is now continuous rather than combinatorial, the presence of singular or close to singular doubly stochastic matrices makes it difficult to retrieve a local optimum ($A, P$) such that $P$ is ``close\" to a permutation matrix. This section takes one step back and tries a novel approach to find a suitable permutation matrix $P$. \n",
    "\n",
    "The approach that we will investigate in this section is a so-called $\\textit{Markov Chain Monte Carlo}$ (MCMC) method.\n",
    "\n",
    "\\begin{equation}\n",
    "q_{P, P^{\\prime}}=\\operatorname{Pr}\\left(s_{i+1}=P^{\\prime} \\mid s_{i}=P\\right)= \\begin{cases}0 & \\text { if } P^{\\prime} \\text { is not within one move from } P \\\\ \\frac{1}{n_{P}} & \\text { otherwise }\\end{cases}\n",
    "\\end{equation}\n",
    "\n",
    "Here, we define ``one move\" as the interchanging of two variables $X_i$ and $X_j$. This is done by interchanging the $i$th row and the $j$th row or equivalently, interchanging the $i$th row and the $j$th column. \n",
    "\n",
    "Given a permutation matrix on $n$ variables, there are a total of $n \\choose{2}$ possible moves. Hence, the possible number of valid moves does not depend on the permutation matrix $P$. "
   ]
  },
  {
   "cell_type": "code",
   "execution_count": 94,
   "id": "188b4a0d",
   "metadata": {},
   "outputs": [],
   "source": [
    "def sample_next_P(P):  \n",
    "    # get copy\n",
    "    P_return = P.copy()\n",
    "    \n",
    "    # get the two rows to swap\n",
    "    i, j = np.random.choice(n, 2, replace = False)\n",
    "    \n",
    "    # swap row i and row j\n",
    "    P_return[[i, j]] = P_return[[j, i]]\n",
    "    \n",
    "    # return new sample\n",
    "    return P_return"
   ]
  },
  {
   "cell_type": "markdown",
   "id": "4223a4e7",
   "metadata": {},
   "source": [
    "Let us now define the probability of acceptace $\\alpha_{P, P^\\prime}$ as\n",
    "\n",
    "\\begin{equation}\n",
    "\\alpha_{P, P^{\\prime}}= \\begin{cases}\\min \\left\\{\\frac{\\mathcal{L}\\left(\\mathbf{X} \\mid P^{\\prime}\\right) } {\\mathcal{L}(\\mathbf{X} \\mid P)}, 1\\right\\} & \\text { if } \\mathcal{L}(\\mathbf{x} \\mid P)  >0 \\\\ 1 & \\text { otherwise }\\end{cases}\n",
    "\\end{equation}"
   ]
  },
  {
   "cell_type": "markdown",
   "id": "4d094802",
   "metadata": {},
   "source": [
    "Loss function. Stack all data into $\\mathbf{X}$.\n",
    "\n",
    "The loss function is\n",
    "$$l(A, P; \\mathbf{X}) = \\frac{1}{T-1}\\left\\lVert\\mathbf{X}_{[1:T]} - \\mathbf{X}_{[0:T-1]} P^T A P\\right\\rVert_F^2$$\n",
    "Its gradient is\n",
    "$$\\nabla l(A, P; \\mathbf{X}) = -\\frac{2}{T-1}\\left(\\mathbf{X}_{[0:T-1]} P^T\\right)^T \\left\\lVert\\mathbf{X}_{[1:T]} - \\mathbf{X}_{[0:T-1]} P^T A P\\right\\rVert_F P^T$$"
   ]
  },
  {
   "cell_type": "code",
   "execution_count": 95,
   "id": "6ad05a12",
   "metadata": {},
   "outputs": [],
   "source": [
    "def loss(A, P = np.identity(n)):\n",
    "    W = P.T @ A @ P\n",
    "    M = X @ W\n",
    "    \n",
    "    # Remove X[0] and XW[last]\n",
    "    R = X[1:] - M[:-1]\n",
    "    \n",
    "    # Frobenius norm squared loss\n",
    "    loss = 1 / X[1:].shape[0] * (R ** 2).sum()\n",
    "    \n",
    "    # Gradient using chain rule\n",
    "    G_loss = - 2.0 / X[1:].shape[0] * (X[:-1] @ P.T).T @ R @ P.T\n",
    "    \n",
    "    return loss, G_loss"
   ]
  },
  {
   "cell_type": "markdown",
   "id": "58e77d68",
   "metadata": {},
   "source": [
    "Optimizing $A$ given $P$. We use gradient descent, where we are only allowed to modify the lower triangular part of $A$ to adhere to acyclicity. \n",
    "\n",
    "We have\n",
    "$$A \\leftarrow A - \\eta \\cdot \\nabla l(A, P; \\mathbf{X})$$"
   ]
  },
  {
   "cell_type": "code",
   "execution_count": 100,
   "id": "9a404129",
   "metadata": {},
   "outputs": [],
   "source": [
    "def opt_A(P):\n",
    "    # initialization\n",
    "    A = np.zeros((n, n))\n",
    "    \n",
    "    # first loss evaluation\n",
    "    l, g_A = loss(A, P)\n",
    "    \n",
    "    old_l = np.inf\n",
    "    \n",
    "    step_size = 5e-1\n",
    "    \n",
    "    # stopping criteration\n",
    "    while np.sum(np.tril(np.abs(g_A))) > 1e-1:\n",
    "        # gradient descent step\n",
    "        A -= step_size * np.tril(g_A)\n",
    "\n",
    "        # re-evaluate loss\n",
    "        l, g_A = loss(A, P)\n",
    "        \n",
    "        # if we descended too far\n",
    "        if l > old_l:\n",
    "            step_size /= 1.5\n",
    "        \n",
    "        old_l = l\n",
    "        \n",
    "        step_size *= 1.1\n",
    "    \n",
    "    # return stationary point A\n",
    "    return A"
   ]
  },
  {
   "cell_type": "markdown",
   "id": "3c79345f",
   "metadata": {},
   "source": [
    "Likelihood of a permutation matrix $P$. In other words, the \"score\" we assign to a permutation matrix $P$. We define\n",
    "$$\\mathcal{L}(P; \\mathbf{X}) = \\arg_{A \\in LT} \\min l(A, P; \\mathbf{X})$$"
   ]
  },
  {
   "cell_type": "code",
   "execution_count": 97,
   "id": "dc94232f",
   "metadata": {},
   "outputs": [],
   "source": [
    "def get_likelihood(P):\n",
    "    # get optimal A for this permutation\n",
    "    A_opt = opt_A(P)\n",
    "    \n",
    "    # get loss    \n",
    "    return loss(A_opt, P)[0]"
   ]
  },
  {
   "cell_type": "code",
   "execution_count": 135,
   "id": "8a9d284d",
   "metadata": {},
   "outputs": [],
   "source": [
    "def mcmc(max_it, verbose, P = np.identity(n), factor = 1.0):\n",
    "    # initial value\n",
    "    likelihood_P = get_likelihood(P)\n",
    "\n",
    "    # current bests\n",
    "    P_best, L_best = P.copy(), likelihood_P.copy()\n",
    "    \n",
    "    # results\n",
    "    results_likelihood = [L_best]\n",
    "    results_iteration = [0]\n",
    "\n",
    "    # transitions\n",
    "    transitions = 0\n",
    "    \n",
    "    for i in tqdm(range(max_it)):   \n",
    "        # sample next P\n",
    "        P_prime = sample_next_P(P)\n",
    "    \n",
    "        # compute acceptance probability\n",
    "        likelihood_P_prime = get_likelihood(P_prime)\n",
    "        alpha = min(likelihood_P / likelihood_P_prime, 1)\n",
    "    \n",
    "        # print results\n",
    "        if verbose:\n",
    "            print(f\"Iteration {i+1}.\\n\")\n",
    "            print(f\"Old P:\\n{P}\\nLikelihood: {round(likelihood_P, 2)}\\n\\nNew P:\\n{P_prime}\\nLikelihood: {round(likelihood_P_prime, 2)}.\")\n",
    "            print(f\"\\nAcceptance probability: {round(alpha, 3)}.\")\n",
    "    \n",
    "        # prepare for next iteration\n",
    "        if np.random.rand() <= alpha * factor:\n",
    "            transitions += 1\n",
    "            P, likelihood_P = P_prime, likelihood_P_prime\n",
    "        \n",
    "            # save best\n",
    "            if likelihood_P < L_best:\n",
    "                L_best = likelihood_P\n",
    "                P_best = P\n",
    "                \n",
    "            results_likelihood.append(L_best)\n",
    "            results_iteration.append(i + 1)\n",
    "    \n",
    "    print(transitions)\n",
    "    print(f\"Best permutation:\\n{P_best}\\n\\nLikelihood: {round(L_best, 2)}.\")\n",
    "    return P_best, results_iteration, results_likelihood"
   ]
  },
  {
   "cell_type": "code",
   "execution_count": 136,
   "id": "a9f5d8f1",
   "metadata": {},
   "outputs": [
    {
     "name": "stderr",
     "output_type": "stream",
     "text": [
      "100%|████████████████████████████████████████████████████████████████████████████████| 100/100 [00:01<00:00, 97.75it/s]"
     ]
    },
    {
     "name": "stdout",
     "output_type": "stream",
     "text": [
      "99\n",
      "Best permutation:\n",
      "[[0. 0. 0. 0. 0. 0. 0. 0. 0. 0. 0. 0. 0. 0. 0. 0. 0. 0. 0. 0. 0. 0. 0. 0.\n",
      "  1.]\n",
      " [0. 0. 0. 0. 0. 0. 0. 0. 0. 0. 0. 0. 0. 0. 0. 0. 0. 1. 0. 0. 0. 0. 0. 0.\n",
      "  0.]\n",
      " [0. 0. 0. 0. 1. 0. 0. 0. 0. 0. 0. 0. 0. 0. 0. 0. 0. 0. 0. 0. 0. 0. 0. 0.\n",
      "  0.]\n",
      " [0. 0. 0. 0. 0. 0. 0. 0. 0. 1. 0. 0. 0. 0. 0. 0. 0. 0. 0. 0. 0. 0. 0. 0.\n",
      "  0.]\n",
      " [0. 0. 1. 0. 0. 0. 0. 0. 0. 0. 0. 0. 0. 0. 0. 0. 0. 0. 0. 0. 0. 0. 0. 0.\n",
      "  0.]\n",
      " [0. 0. 0. 0. 0. 0. 0. 1. 0. 0. 0. 0. 0. 0. 0. 0. 0. 0. 0. 0. 0. 0. 0. 0.\n",
      "  0.]\n",
      " [0. 0. 0. 0. 0. 0. 0. 0. 0. 0. 0. 0. 0. 1. 0. 0. 0. 0. 0. 0. 0. 0. 0. 0.\n",
      "  0.]\n",
      " [0. 0. 0. 0. 0. 0. 1. 0. 0. 0. 0. 0. 0. 0. 0. 0. 0. 0. 0. 0. 0. 0. 0. 0.\n",
      "  0.]\n",
      " [0. 0. 0. 0. 0. 0. 0. 0. 0. 0. 0. 0. 0. 0. 0. 0. 0. 0. 0. 0. 0. 1. 0. 0.\n",
      "  0.]\n",
      " [1. 0. 0. 0. 0. 0. 0. 0. 0. 0. 0. 0. 0. 0. 0. 0. 0. 0. 0. 0. 0. 0. 0. 0.\n",
      "  0.]\n",
      " [0. 0. 0. 0. 0. 0. 0. 0. 0. 0. 1. 0. 0. 0. 0. 0. 0. 0. 0. 0. 0. 0. 0. 0.\n",
      "  0.]\n",
      " [0. 0. 0. 0. 0. 0. 0. 0. 0. 0. 0. 0. 0. 0. 0. 1. 0. 0. 0. 0. 0. 0. 0. 0.\n",
      "  0.]\n",
      " [0. 0. 0. 0. 0. 0. 0. 0. 0. 0. 0. 0. 1. 0. 0. 0. 0. 0. 0. 0. 0. 0. 0. 0.\n",
      "  0.]\n",
      " [0. 0. 0. 0. 0. 0. 0. 0. 0. 0. 0. 0. 0. 0. 0. 0. 0. 0. 0. 0. 0. 0. 1. 0.\n",
      "  0.]\n",
      " [0. 0. 0. 0. 0. 0. 0. 0. 0. 0. 0. 0. 0. 0. 1. 0. 0. 0. 0. 0. 0. 0. 0. 0.\n",
      "  0.]\n",
      " [0. 0. 0. 0. 0. 0. 0. 0. 0. 0. 0. 0. 0. 0. 0. 0. 0. 0. 0. 0. 1. 0. 0. 0.\n",
      "  0.]\n",
      " [0. 0. 0. 0. 0. 0. 0. 0. 0. 0. 0. 0. 0. 0. 0. 0. 1. 0. 0. 0. 0. 0. 0. 0.\n",
      "  0.]\n",
      " [0. 0. 0. 0. 0. 0. 0. 0. 1. 0. 0. 0. 0. 0. 0. 0. 0. 0. 0. 0. 0. 0. 0. 0.\n",
      "  0.]\n",
      " [0. 0. 0. 0. 0. 0. 0. 0. 0. 0. 0. 0. 0. 0. 0. 0. 0. 0. 1. 0. 0. 0. 0. 0.\n",
      "  0.]\n",
      " [0. 0. 0. 0. 0. 0. 0. 0. 0. 0. 0. 0. 0. 0. 0. 0. 0. 0. 0. 0. 0. 0. 0. 1.\n",
      "  0.]\n",
      " [0. 0. 0. 0. 0. 0. 0. 0. 0. 0. 0. 1. 0. 0. 0. 0. 0. 0. 0. 0. 0. 0. 0. 0.\n",
      "  0.]\n",
      " [0. 0. 0. 1. 0. 0. 0. 0. 0. 0. 0. 0. 0. 0. 0. 0. 0. 0. 0. 0. 0. 0. 0. 0.\n",
      "  0.]\n",
      " [0. 0. 0. 0. 0. 1. 0. 0. 0. 0. 0. 0. 0. 0. 0. 0. 0. 0. 0. 0. 0. 0. 0. 0.\n",
      "  0.]\n",
      " [0. 0. 0. 0. 0. 0. 0. 0. 0. 0. 0. 0. 0. 0. 0. 0. 0. 0. 0. 1. 0. 0. 0. 0.\n",
      "  0.]\n",
      " [0. 1. 0. 0. 0. 0. 0. 0. 0. 0. 0. 0. 0. 0. 0. 0. 0. 0. 0. 0. 0. 0. 0. 0.\n",
      "  0.]]\n",
      "\n",
      "Likelihood: 18.14.\n"
     ]
    },
    {
     "name": "stderr",
     "output_type": "stream",
     "text": [
      "\n"
     ]
    }
   ],
   "source": [
    "P_best, _, _ = mcmc(100, False)"
   ]
  },
  {
   "cell_type": "markdown",
   "id": "8e7d1691",
   "metadata": {},
   "source": [
    "### Verifications.\n",
    "The permutation matrix $P$ should be compatible with $P_{true}$. In other words, there are no edges in $P_{true}$ that would \"not be allowed\" in $P$, because the we would have an arc pointing \"back\"."
   ]
  },
  {
   "cell_type": "code",
   "execution_count": 104,
   "id": "1a5f79f4",
   "metadata": {},
   "outputs": [
    {
     "name": "stdout",
     "output_type": "stream",
     "text": [
      "False\n"
     ]
    }
   ],
   "source": [
    "# verify whether the permutation is campatible\n",
    "check = P_best @ P_true.T @ A_true @ P_true @ P_best.T\n",
    "check_tril = np.tril(check)\n",
    "print(len(check_tril[check_tril != 0]) == s)"
   ]
  },
  {
   "cell_type": "markdown",
   "id": "96e6c606",
   "metadata": {},
   "source": [
    "Is the matrix $P^T A P$ equal or comparable to $P_{true}^T A_{true} P_{true}$? We check this. We also apply thresholding, note that cherrypicking this threshold should be avoided as it can give false hope, we do not know $W_{true}$."
   ]
  },
  {
   "cell_type": "code",
   "execution_count": 111,
   "id": "7b9bb665",
   "metadata": {},
   "outputs": [
    {
     "name": "stdout",
     "output_type": "stream",
     "text": [
      "Thresholded W:\n",
      "[[ 0.    0.    0.    0.    0.    0.    0.    0.    0.    0.    0.    0.\n",
      "   0.    0.    0.    0.    0.    0.    0.    0.    0.    0.    0.    0.\n",
      "   0.  ]\n",
      " [ 0.81  0.    0.    0.    0.    0.    0.    0.    0.79  0.    0.    0.\n",
      "   0.    0.    0.    0.    0.   -0.53  0.    0.    0.    0.    0.    0.\n",
      "   0.  ]\n",
      " [ 0.    0.    0.    0.    0.    0.    0.    0.    0.    0.    0.    0.\n",
      "   0.    0.    0.    0.    0.    0.    0.    0.    0.    0.    0.    0.\n",
      "   0.  ]\n",
      " [ 0.    0.    0.    0.    0.    0.    0.7   0.    0.    0.    0.    0.\n",
      "   0.    0.    0.    0.    0.    0.    0.    0.    0.    0.    0.    0.\n",
      "   0.  ]\n",
      " [ 0.    0.    0.    0.    0.    0.    0.    0.    0.    0.    0.    0.\n",
      "   0.    0.    0.    0.    0.    0.    0.    0.    0.    0.    0.    0.\n",
      "   0.  ]\n",
      " [ 0.    0.    0.    0.    0.    0.    0.    0.    0.    0.    0.    0.\n",
      "   0.    0.    0.    0.    0.    0.    0.    0.    0.    0.    0.    0.\n",
      "   0.  ]\n",
      " [ 0.    0.    0.    0.    0.    0.    0.    0.    0.    0.    0.    0.\n",
      "   0.    0.    0.    0.    0.    0.    0.    0.    0.    0.    0.    0.\n",
      "   0.  ]\n",
      " [ 0.    0.    0.    0.    0.    0.    0.    0.    0.    0.    0.    0.\n",
      "   0.    0.    0.    0.    0.    0.    0.   -0.7   0.    0.    0.    0.\n",
      "   0.  ]\n",
      " [ 0.    0.    0.    0.    0.    0.    0.    0.    0.45  0.    0.    0.\n",
      "   0.    0.    0.    0.    0.    0.58  0.    0.    0.    0.    0.    0.\n",
      "   0.  ]\n",
      " [ 0.    0.    0.    0.    0.    0.    0.    0.    0.    0.    0.    0.\n",
      "   0.    0.    0.    0.    0.    0.    0.    0.    0.    0.    0.    0.\n",
      "   0.  ]\n",
      " [-0.7   0.    0.    0.    0.    0.    0.    0.    0.    0.    0.    0.\n",
      "   0.   -0.52  0.    0.    0.    0.    0.    0.    0.    0.    0.    0.\n",
      "   0.  ]\n",
      " [ 0.    0.    0.    0.    0.    0.    0.    0.    0.    0.    0.    0.7\n",
      "   0.    0.    0.    0.    0.    0.    0.    0.    0.    0.    0.    0.\n",
      "   0.  ]\n",
      " [ 0.    0.    0.    0.    0.    0.    0.    0.    0.    0.    0.    0.\n",
      "   0.    0.    0.    0.    0.    0.    0.    0.    0.    0.    0.    0.\n",
      "   0.  ]\n",
      " [ 0.    0.    0.    0.    0.    0.    0.    0.    0.    0.    0.    0.\n",
      "   0.    0.    0.    0.    0.    0.    0.    0.    0.    0.    0.    0.\n",
      "  -0.54]\n",
      " [ 0.    0.    0.    0.    0.    0.    0.    0.    0.    0.    0.    0.\n",
      "   0.    0.99  0.    0.    0.    0.    0.    0.    0.    0.55  0.    0.\n",
      "   0.  ]\n",
      " [ 0.    0.    0.    0.    0.    0.    0.    1.05  0.    0.    0.    0.\n",
      "   0.    0.    0.    0.    0.    0.    0.    0.    0.    0.    0.    0.\n",
      "   0.  ]\n",
      " [ 0.    0.    0.    0.    0.    0.    0.    0.    0.    0.    0.    0.\n",
      "   0.    0.    0.    0.    0.    0.    0.    0.    0.    0.    0.    0.\n",
      "   0.  ]\n",
      " [ 0.    0.    0.    0.    0.    0.    0.    0.    0.    0.    0.    0.\n",
      "   0.    0.    0.    0.    0.    0.    0.    0.    0.    0.    0.    0.\n",
      "   0.  ]\n",
      " [ 0.    0.    0.    0.    0.    0.    0.    0.    0.    0.    0.    0.\n",
      "   0.    0.    0.    0.    0.    0.    0.    0.    0.    0.    0.    0.\n",
      "   0.58]\n",
      " [ 0.    0.    0.    0.    0.    0.    0.    0.    0.    0.    0.    0.\n",
      "   0.    0.    0.    0.    0.    0.    0.    0.    0.    0.    0.    0.\n",
      "   0.  ]\n",
      " [ 0.    0.    0.    0.    0.    0.    0.    0.    0.    0.    0.    0.\n",
      "   0.   -0.5   0.    0.    0.    0.66  0.    0.    0.    0.    0.    0.\n",
      "   0.  ]\n",
      " [ 0.    0.    0.    0.    0.    0.    0.    0.    0.    0.   -0.57  0.\n",
      "   0.    0.    0.    0.    0.    0.93  0.    0.    0.    0.    0.    0.\n",
      "   0.  ]\n",
      " [ 0.    0.    0.    0.    0.    0.    0.61  0.    0.    0.    0.    0.\n",
      "   0.    0.    0.    0.    0.    0.    0.    0.    0.    0.    0.52  0.\n",
      "   0.  ]\n",
      " [ 0.    0.    0.    0.    0.    0.    0.    0.    0.    0.    0.    0.\n",
      "   0.    0.    0.    0.    0.    0.    0.    0.    0.    0.    0.    0.\n",
      "   0.  ]\n",
      " [ 0.    0.    0.    0.    0.   -0.61  0.    0.    0.    0.    0.    0.\n",
      "   0.    0.    0.    0.    0.    0.    0.    0.    0.    0.    0.    0.\n",
      "   0.  ]]\n",
      "[ 0.81  0.79 -0.53  0.7  -0.7   0.45  0.58 -0.7  -0.52  0.7  -0.54  0.99\n",
      "  0.55  1.05  0.58 -0.5   0.66 -0.57  0.93  0.61  0.52 -0.61]\n"
     ]
    }
   ],
   "source": [
    "thresh = 0.45\n",
    "check_thresh = P_best.T @ opt_A(P_best) @ P_best\n",
    "check_thresh[np.abs(check_thresh) < thresh] = 0\n",
    "print(f\"Thresholded W:\\n{np.round(check_thresh, 2)}\")\n",
    "print(np.round(check_thresh[check_thresh.nonzero()], 2))"
   ]
  },
  {
   "cell_type": "code",
   "execution_count": 109,
   "id": "e3313d58",
   "metadata": {},
   "outputs": [
    {
     "name": "stdout",
     "output_type": "stream",
     "text": [
      "True W:\n",
      "[[ 0.    0.    0.    0.    0.    0.    0.    0.    0.    0.    0.    0.\n",
      "   0.    0.    0.    0.    0.    0.    0.    0.    0.    0.    0.    0.\n",
      "   0.  ]\n",
      " [ 0.51  0.    0.    0.    0.   -0.66  0.    0.    0.69  0.    0.    0.\n",
      "   0.    0.    0.    0.   -0.61 -0.61  0.    0.    0.    0.    0.    0.\n",
      "   0.  ]\n",
      " [ 0.    0.    0.    0.    0.    0.    0.    0.    0.    0.    0.    0.\n",
      "   0.    0.    0.    0.    0.    0.    0.    0.    0.    0.    0.    0.\n",
      "   0.  ]\n",
      " [ 0.    0.    0.    0.    0.    0.    0.72  0.    0.    0.    0.    0.\n",
      "   0.    0.    0.    0.    0.    0.    0.    0.    0.    0.    0.    0.\n",
      "   0.  ]\n",
      " [ 0.    0.    0.    0.    0.    0.    0.    0.    0.    0.    0.    0.\n",
      "   0.    0.    0.    0.    0.    0.    0.    0.    0.    0.    0.    0.\n",
      "   0.  ]\n",
      " [ 0.    0.    0.    0.    0.    0.    0.    0.    0.    0.    0.    0.\n",
      "   0.    0.    0.    0.    0.    0.    0.    0.    0.    0.    0.    0.\n",
      "   0.  ]\n",
      " [ 0.    0.    0.    0.    0.    0.    0.    0.    0.    0.    0.    0.\n",
      "   0.    0.    0.    0.    0.    0.    0.    0.    0.    0.    0.    0.\n",
      "   0.  ]\n",
      " [ 0.    0.    0.    0.    0.    0.    0.    0.    0.    0.    0.    0.\n",
      "   0.    0.    0.    0.    0.    0.    0.   -0.64  0.    0.    0.    0.\n",
      "   0.  ]\n",
      " [ 0.    0.    0.    0.    0.    0.    0.    0.    0.59  0.    0.    0.\n",
      "   0.    0.    0.    0.    0.    0.54  0.    0.    0.    0.    0.    0.\n",
      "   0.  ]\n",
      " [ 0.    0.    0.    0.    0.    0.    0.    0.    0.    0.    0.    0.\n",
      "   0.    0.    0.    0.    0.    0.65  0.    0.    0.    0.    0.    0.\n",
      "   0.  ]\n",
      " [-0.55  0.    0.    0.    0.    0.    0.    0.    0.    0.    0.    0.\n",
      "   0.    0.    0.    0.    0.    0.    0.    0.    0.    0.    0.    0.\n",
      "   0.  ]\n",
      " [ 0.    0.    0.    0.    0.    0.    0.    0.    0.    0.    0.    0.62\n",
      "   0.    0.    0.    0.    0.    0.    0.    0.    0.    0.    0.    0.\n",
      "   0.  ]\n",
      " [ 0.    0.    0.    0.    0.    0.    0.    0.    0.    0.    0.    0.\n",
      "   0.    0.    0.    0.    0.    0.    0.    0.    0.    0.    0.    0.\n",
      "   0.  ]\n",
      " [ 0.    0.    0.    0.    0.    0.    0.    0.    0.    0.    0.    0.\n",
      "   0.    0.    0.    0.    0.    0.    0.    0.    0.    0.    0.    0.\n",
      "  -0.62]\n",
      " [ 0.    0.    0.    0.    0.    0.    0.    0.    0.    0.    0.    0.\n",
      "   0.    0.55  0.    0.    0.    0.    0.    0.    0.    0.    0.    0.\n",
      "   0.  ]\n",
      " [ 0.    0.    0.6   0.    0.    0.    0.    0.67  0.    0.    0.    0.\n",
      "   0.    0.    0.    0.    0.    0.    0.    0.    0.    0.    0.    0.\n",
      "   0.  ]\n",
      " [ 0.    0.    0.    0.    0.    0.    0.    0.    0.    0.    0.    0.\n",
      "   0.    0.    0.    0.    0.    0.    0.    0.    0.    0.    0.    0.\n",
      "   0.  ]\n",
      " [ 0.    0.    0.    0.    0.    0.    0.    0.    0.    0.    0.    0.\n",
      "   0.    0.    0.    0.    0.    0.    0.    0.    0.    0.    0.    0.\n",
      "   0.  ]\n",
      " [ 0.    0.    0.    0.    0.    0.    0.    0.    0.    0.    0.    0.\n",
      "   0.    0.    0.    0.    0.    0.    0.    0.    0.    0.66  0.   -0.71\n",
      "   0.62]\n",
      " [ 0.    0.    0.    0.    0.    0.    0.    0.    0.    0.    0.    0.\n",
      "   0.    0.    0.    0.    0.    0.    0.    0.    0.    0.    0.    0.\n",
      "   0.  ]\n",
      " [ 0.    0.    0.    0.    0.    0.    0.    0.    0.    0.    0.    0.\n",
      "   0.   -0.56  0.    0.    0.    0.61  0.    0.    0.    0.    0.    0.\n",
      "   0.  ]\n",
      " [ 0.    0.    0.    0.    0.    0.    0.    0.    0.    0.   -0.66  0.\n",
      "   0.    0.    0.    0.    0.    0.74  0.    0.    0.    0.    0.    0.\n",
      "   0.  ]\n",
      " [ 0.    0.    0.    0.    0.    0.    0.73  0.    0.    0.    0.    0.\n",
      "   0.    0.    0.    0.    0.    0.    0.    0.    0.    0.    0.5   0.\n",
      "   0.  ]\n",
      " [ 0.    0.    0.    0.    0.    0.    0.    0.    0.    0.    0.    0.\n",
      "   0.    0.    0.    0.    0.    0.    0.    0.    0.    0.    0.    0.\n",
      "   0.  ]\n",
      " [ 0.    0.    0.    0.    0.    0.    0.    0.    0.    0.    0.    0.\n",
      "   0.    0.    0.    0.    0.    0.    0.    0.    0.    0.    0.    0.\n",
      "   0.  ]].\n",
      "[ 0.51 -0.66  0.69 -0.61 -0.61  0.72 -0.64  0.59  0.54  0.65 -0.55  0.62\n",
      " -0.62  0.55  0.6   0.67  0.66 -0.71  0.62 -0.56  0.61 -0.66  0.74  0.73\n",
      "  0.5 ]\n"
     ]
    }
   ],
   "source": [
    "truth = P_true.T @ A_true @ P_true\n",
    "print(f\"True W:\\n{np.round(truth, 2)}.\")\n",
    "print(np.round(truth[truth.nonzero()], 2))"
   ]
  },
  {
   "cell_type": "markdown",
   "id": "b0444a2d",
   "metadata": {},
   "source": [
    "Statistics\n",
    "- True Positive Rate (TPR): Percentage of edges in W_true that were in W\n",
    "- True Negative Rate (TNR): Percentage of edges that were *not* in W_true that were also n*not* in W\n",
    "- Accuracy: Percentage of correctly estimated entries of W\n",
    "- False Detection Rate (FDR): Percentage of edges in W_est that were *not* in W_true"
   ]
  },
  {
   "cell_type": "code",
   "execution_count": 112,
   "id": "237efc66",
   "metadata": {},
   "outputs": [
    {
     "name": "stdout",
     "output_type": "stream",
     "text": [
      "True Positive Rate: 0.76.\n",
      "True Negative Rate: 0.995.\n",
      "False Prediction Rate: 0.136\n",
      "Accuracy: 0.986.\n"
     ]
    }
   ],
   "source": [
    "truth_bin = truth.copy()\n",
    "truth_bin[truth_bin != 0] = 1\n",
    "\n",
    "check_thresh_bin = check_thresh.copy()\n",
    "check_thresh_bin[check_thresh_bin != 0] = 1\n",
    "\n",
    "true_edges = np.flatnonzero(truth)\n",
    "pred_edges = np.flatnonzero(check_thresh)\n",
    "tpr = len(np.intersect1d(pred_edges, true_edges, assume_unique=True)) / len(true_edges)\n",
    "\n",
    "true_non_edges = np.flatnonzero(truth_bin - 1)\n",
    "pred_non_edges = np.flatnonzero(check_thresh_bin - 1)\n",
    "tnr = len(np.intersect1d(pred_non_edges, true_non_edges, assume_unique=True)) / len(true_non_edges)\n",
    "\n",
    "pred_false_edges = np.setdiff1d(pred_edges, true_edges)\n",
    "fpr = len(pred_false_edges) / len(pred_edges)\n",
    "\n",
    "accuracy = len(truth_bin[truth_bin == check_thresh_bin]) / len(truth_bin.flatten())\n",
    "print(f\"True Positive Rate: {round(tpr, 3)}.\\nTrue Negative Rate: {round(tnr, 3)}.\\nFalse Prediction Rate: {round(fpr, 3)}\\nAccuracy: {round(accuracy, 3)}.\")"
   ]
  },
  {
   "cell_type": "markdown",
   "id": "ce26a84a",
   "metadata": {},
   "source": [
    "# Initialization for $P_0$\n",
    "What value shoudl $P_0$ be? Could be the identity, but that could be very far off from the actual permutation. A better strategy is to e.g. perform ordinary least squares on the VAR(1) model to estimate $\\hat{W}$. Note that $\\hat{W}$ is not necessarily the WAM of a DAG. To massage $\\hat{W}$ into the WAM of a DAG, we iteratively set the smallest element (in absolute value) $w_{ij}$ to zero, until we have a WAM compatible with a DAG.\n",
    "\n",
    "We first do OLS to get $A$"
   ]
  },
  {
   "cell_type": "code",
   "execution_count": 19,
   "id": "58decbd0",
   "metadata": {},
   "outputs": [],
   "source": [
    "import statsmodels.api as sm\n",
    "\n",
    "def ols_W(X):\n",
    "    # get regressor and varibles\n",
    "    y = X[1:]\n",
    "    x = X[:-1]\n",
    "\n",
    "    W_hat = np.array([])\n",
    "\n",
    "    # get parameters\n",
    "    for i in range(n):\n",
    "        est = sm.OLS(y[:, i], x).fit()\n",
    "        W_hat = np.append(W_hat, est.params)\n",
    "\n",
    "    W_hat = W_hat.reshape((n, n)).T\n",
    "    \n",
    "    return W_hat"
   ]
  },
  {
   "cell_type": "code",
   "execution_count": 20,
   "id": "246cc95e",
   "metadata": {},
   "outputs": [],
   "source": [
    "def is_dag(W):\n",
    "    # remove diagonal entries\n",
    "    np.fill_diagonal(W, 0)\n",
    "    \n",
    "    order, old_order = [], list(range(n))\n",
    "    \n",
    "    # for the number of elements\n",
    "    for i in range(n):\n",
    "        \n",
    "        # find a row that contains only zeros\n",
    "        for j in range(n - i):\n",
    "            # if we find a zero row (excl. diags)\n",
    "            if not W[j].any() != 0:\n",
    "                \n",
    "                # remove this row and column\n",
    "                W = np.delete(W, j, 0)\n",
    "                W = np.delete(W, j, 1)\n",
    "            \n",
    "                order.append(old_order[j])\n",
    "                old_order.remove(old_order[j])\n",
    "                \n",
    "                # go to next variable\n",
    "                break\n",
    "        \n",
    "            # if no zero row exist stop\n",
    "            elif i == n - 1:\n",
    "                return False\n",
    "            \n",
    "    return True, order"
   ]
  },
  {
   "cell_type": "code",
   "execution_count": 21,
   "id": "64c45a39",
   "metadata": {},
   "outputs": [],
   "source": [
    "def permute(order):\n",
    "    P = np.zeros((n, n))\n",
    "    for idx, elem in enumerate(order):\n",
    "        P[idx][elem] = 1\n",
    "    return P"
   ]
  },
  {
   "cell_type": "code",
   "execution_count": 143,
   "id": "123abb2a",
   "metadata": {},
   "outputs": [
    {
     "name": "stderr",
     "output_type": "stream",
     "text": [
      "100%|█████████████████████████████████████████████████████████████████████████████| 1000/1000 [00:09<00:00, 109.34it/s]"
     ]
    },
    {
     "name": "stdout",
     "output_type": "stream",
     "text": [
      "993\n",
      "Best permutation:\n",
      "[[0. 0. 0. 0. 0. 0. 0. 0. 0. 0. 0. 0. 0. 0. 0. 0. 0. 0. 0. 0. 0. 0. 0. 0.\n",
      "  1.]\n",
      " [0. 0. 0. 0. 0. 0. 0. 0. 0. 1. 0. 0. 0. 0. 0. 0. 0. 0. 0. 0. 0. 0. 0. 0.\n",
      "  0.]\n",
      " [0. 0. 0. 0. 0. 0. 0. 0. 0. 0. 0. 0. 0. 0. 0. 0. 0. 0. 0. 1. 0. 0. 0. 0.\n",
      "  0.]\n",
      " [1. 0. 0. 0. 0. 0. 0. 0. 0. 0. 0. 0. 0. 0. 0. 0. 0. 0. 0. 0. 0. 0. 0. 0.\n",
      "  0.]\n",
      " [0. 0. 0. 0. 1. 0. 0. 0. 0. 0. 0. 0. 0. 0. 0. 0. 0. 0. 0. 0. 0. 0. 0. 0.\n",
      "  0.]\n",
      " [0. 0. 0. 0. 0. 0. 0. 0. 1. 0. 0. 0. 0. 0. 0. 0. 0. 0. 0. 0. 0. 0. 0. 0.\n",
      "  0.]\n",
      " [0. 0. 0. 0. 0. 0. 0. 0. 0. 0. 0. 0. 0. 0. 0. 0. 1. 0. 0. 0. 0. 0. 0. 0.\n",
      "  0.]\n",
      " [0. 0. 0. 0. 0. 0. 0. 1. 0. 0. 0. 0. 0. 0. 0. 0. 0. 0. 0. 0. 0. 0. 0. 0.\n",
      "  0.]\n",
      " [0. 0. 0. 0. 0. 0. 0. 0. 0. 0. 0. 0. 1. 0. 0. 0. 0. 0. 0. 0. 0. 0. 0. 0.\n",
      "  0.]\n",
      " [0. 0. 0. 0. 0. 0. 0. 0. 0. 0. 0. 0. 0. 0. 0. 0. 0. 1. 0. 0. 0. 0. 0. 0.\n",
      "  0.]\n",
      " [0. 1. 0. 0. 0. 0. 0. 0. 0. 0. 0. 0. 0. 0. 0. 0. 0. 0. 0. 0. 0. 0. 0. 0.\n",
      "  0.]\n",
      " [0. 0. 0. 0. 0. 0. 0. 0. 0. 0. 0. 0. 0. 0. 0. 1. 0. 0. 0. 0. 0. 0. 0. 0.\n",
      "  0.]\n",
      " [0. 0. 0. 0. 0. 0. 0. 0. 0. 0. 0. 0. 0. 1. 0. 0. 0. 0. 0. 0. 0. 0. 0. 0.\n",
      "  0.]\n",
      " [0. 0. 0. 0. 0. 0. 1. 0. 0. 0. 0. 0. 0. 0. 0. 0. 0. 0. 0. 0. 0. 0. 0. 0.\n",
      "  0.]\n",
      " [0. 0. 0. 1. 0. 0. 0. 0. 0. 0. 0. 0. 0. 0. 0. 0. 0. 0. 0. 0. 0. 0. 0. 0.\n",
      "  0.]\n",
      " [0. 0. 0. 0. 0. 0. 0. 0. 0. 0. 0. 0. 0. 0. 0. 0. 0. 0. 0. 0. 1. 0. 0. 0.\n",
      "  0.]\n",
      " [0. 0. 1. 0. 0. 0. 0. 0. 0. 0. 0. 0. 0. 0. 0. 0. 0. 0. 0. 0. 0. 0. 0. 0.\n",
      "  0.]\n",
      " [0. 0. 0. 0. 0. 0. 0. 0. 0. 0. 0. 0. 0. 0. 0. 0. 0. 0. 0. 0. 0. 0. 0. 1.\n",
      "  0.]\n",
      " [0. 0. 0. 0. 0. 0. 0. 0. 0. 0. 0. 0. 0. 0. 1. 0. 0. 0. 0. 0. 0. 0. 0. 0.\n",
      "  0.]\n",
      " [0. 0. 0. 0. 0. 0. 0. 0. 0. 0. 0. 0. 0. 0. 0. 0. 0. 0. 0. 0. 0. 0. 1. 0.\n",
      "  0.]\n",
      " [0. 0. 0. 0. 0. 1. 0. 0. 0. 0. 0. 0. 0. 0. 0. 0. 0. 0. 0. 0. 0. 0. 0. 0.\n",
      "  0.]\n",
      " [0. 0. 0. 0. 0. 0. 0. 0. 0. 0. 0. 1. 0. 0. 0. 0. 0. 0. 0. 0. 0. 0. 0. 0.\n",
      "  0.]\n",
      " [0. 0. 0. 0. 0. 0. 0. 0. 0. 0. 1. 0. 0. 0. 0. 0. 0. 0. 0. 0. 0. 0. 0. 0.\n",
      "  0.]\n",
      " [0. 0. 0. 0. 0. 0. 0. 0. 0. 0. 0. 0. 0. 0. 0. 0. 0. 0. 0. 0. 0. 1. 0. 0.\n",
      "  0.]\n",
      " [0. 0. 0. 0. 0. 0. 0. 0. 0. 0. 0. 0. 0. 0. 0. 0. 0. 0. 1. 0. 0. 0. 0. 0.\n",
      "  0.]]\n",
      "\n",
      "Likelihood: 17.37.\n"
     ]
    },
    {
     "name": "stderr",
     "output_type": "stream",
     "text": [
      "\n"
     ]
    }
   ],
   "source": [
    "def get_P_0(X):\n",
    "    W_hat = ols_W(X)\n",
    "    \n",
    "    while not is_dag(W_hat):\n",
    "        # Get the indices of minimum element in numpy array\n",
    "        # little trickery to skip zero values\n",
    "        W_hat[W_hat == 0] = np.inf\n",
    "        min_loc = np.where(np.abs(W_hat) == np.amin(np.abs(W_hat)))\n",
    "        W_hat[W_hat == np.inf] = 0\n",
    "\n",
    "        # set minimum value to zero\n",
    "        W_hat[min_loc] = 0\n",
    "        \n",
    "    return permute(is_dag(W_hat)[1])\n",
    "\n",
    "P_0 = get_P_0(X)\n",
    "P_best, iter_list, likelihood_list = mcmc(1000, False, np.identity(n), 1.0)"
   ]
  },
  {
   "cell_type": "code",
   "execution_count": 144,
   "id": "77b86ded",
   "metadata": {},
   "outputs": [
    {
     "data": {
      "text/plain": [
       "[<matplotlib.lines.Line2D at 0x18cb247c358>]"
      ]
     },
     "execution_count": 144,
     "metadata": {},
     "output_type": "execute_result"
    },
    {
     "data": {
      "image/png": "[encoded data removed]",
      "text/plain": [
       "<Figure size 432x288 with 1 Axes>"
      ]
     },
     "metadata": {
      "needs_background": "light"
     },
     "output_type": "display_data"
    }
   ],
   "source": [
    "plt.plot(iter_list, likelihood_list)"
   ]
  }
 ],
 "metadata": {
  "kernelspec": {
   "display_name": "Python 3.6.8 64-bit",
   "language": "python",
   "name": "python36864bit874e3a48d9b148faaa09714964fd179b"
  },
  "language_info": {
   "codemirror_mode": {
    "name": "ipython",
    "version": 3
   },
   "file_extension": ".py",
   "mimetype": "text/x-python",
   "name": "python",
   "nbconvert_exporter": "python",
   "pygments_lexer": "ipython3",
   "version": "3.6.8"
  }
 },
 "nbformat": 4,
 "nbformat_minor": 5
}
