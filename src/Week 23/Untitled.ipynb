{
 "cells": [
  {
   "cell_type": "code",
   "execution_count": 11,
   "id": "c2b9bab5",
   "metadata": {},
   "outputs": [
    {
     "data": {
      "text/plain": [
       "<module 'helper.methods' from '..\\\\helper\\\\methods.py'>"
      ]
     },
     "execution_count": 11,
     "metadata": {},
     "output_type": "execute_result"
    }
   ],
   "source": [
    "import numpy as np\n",
    "import matplotlib.pyplot as plt\n",
    "from sklearn.metrics import auc\n",
    "from timeit import default_timer as timer\n",
    "\n",
    "import sys\n",
    "sys.path.append(\"..\")\n",
    "\n",
    "import helper.helper as h\n",
    "import helper.methods as m\n",
    "\n",
    "from notears.notears.notears import utils \n",
    "from notears.notears.notears import linear \n",
    "\n",
    "from importlib import reload  # Python 3.4+\n",
    "reload(m)"
   ]
  },
  {
   "cell_type": "code",
   "execution_count": 23,
   "id": "f07b703d",
   "metadata": {},
   "outputs": [
    {
     "name": "stdout",
     "output_type": "stream",
     "text": [
      "SEM based on a graph on 5 nodes and 5 edges, 1000 samples.\n",
      "Original Adjacency Matrix:\n",
      "[[0. 0. 0. 0. 0.]\n",
      " [0. 0. 0. 1. 1.]\n",
      " [1. 0. 0. 0. 0.]\n",
      " [0. 0. 0. 0. 1.]\n",
      " [0. 0. 1. 0. 0.]].\n",
      "\n",
      "Original WAM:\n",
      "[[ 0.   0.   0.   0.   0. ]\n",
      " [ 0.   0.   0.   0.5 -1.9]\n",
      " [-1.9  0.   0.   0.   0. ]\n",
      " [ 0.   0.   0.   0.   1.1]\n",
      " [ 0.   0.  -0.9  0.   0. ]].\n",
      "\n",
      "NOTEARS estimated WAM:\n",
      "[[ 0.   0.   0.   0.   0. ]\n",
      " [ 0.   0.   0.   0.5 -1.7]\n",
      " [-1.9  0.   0.   0.   0. ]\n",
      " [ 0.   0.   0.   0.   0.9]\n",
      " [ 0.   0.  -0.8  0.   0. ]].\n",
      "\n",
      "OMP estimated WAM:\n",
      "[[ 0.   0.   0.   0.   0. ]\n",
      " [ 0.   0.   0.   0.6 -1.9]\n",
      " [-1.9  0.   0.   0.   0. ]\n",
      " [ 0.   0.   0.   0.   1.1]\n",
      " [ 0.   0.  -0.9  0.   0. ]].\n",
      "\n",
      "{'fdr': 0.0, 'tpr': 1.0, 'fpr': 0.0, 'shd': 0, 'nnz': 5}\n"
     ]
    }
   ],
   "source": [
    "utils.set_random_seed(1)\n",
    "\n",
    "T, p, s0, graph_type, sem_type = 1000, 5, 5, 'ER', 'exp'\n",
    "print(f\"SEM based on a graph on {p} nodes and {s0} edges, {T} samples.\")\n",
    "\n",
    "B_true = utils.simulate_dag(p, s0, graph_type)\n",
    "print(f\"Original Adjacency Matrix:\\n{B_true}.\\n\")\n",
    "\n",
    "W_true = utils.simulate_parameter(B_true)\n",
    "print(f\"Original WAM:\\n{np.round(W_true, 1)}.\\n\")\n",
    "\n",
    "X = utils.simulate_linear_sem(W_true, T, sem_type)\n",
    "\n",
    "X_norm = X - np.mean(X, axis=0, keepdims=True)\n",
    "\n",
    "W_OMP, _ = m._K_OMP(X_norm, X_norm, normalize = True, F = [i * (p + 1) for i in range(p)])\n",
    "W_OMP[np.abs(W_OMP) <= 0.30] = 0\n",
    "W_est, h_val = linear.notears_linear(X, lambda1=0.1, loss_type='l2', verbose = False)\n",
    "print(f\"NOTEARS estimated WAM:\\n{np.round(W_est, 1)}.\\n\")\n",
    "print(f\"OMP estimated WAM:\\n{np.round(W_OMP, 1)}.\\n\")\n",
    "\n",
    "acc = utils.count_accuracy(B_true, W_est != 0)\n",
    "print(acc)"
   ]
  }
 ],
 "metadata": {
  "kernelspec": {
   "display_name": "Python 3.6.8 64-bit",
   "language": "python",
   "name": "python36864bit874e3a48d9b148faaa09714964fd179b"
  },
  "language_info": {
   "codemirror_mode": {
    "name": "ipython",
    "version": 3
   },
   "file_extension": ".py",
   "mimetype": "text/x-python",
   "name": "python",
   "nbconvert_exporter": "python",
   "pygments_lexer": "ipython3",
   "version": "3.6.8"
  }
 },
 "nbformat": 4,
 "nbformat_minor": 5
}
