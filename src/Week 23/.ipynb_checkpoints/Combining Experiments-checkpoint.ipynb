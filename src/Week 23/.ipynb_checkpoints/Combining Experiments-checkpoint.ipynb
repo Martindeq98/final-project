{
 "cells": [
  {
   "cell_type": "markdown",
   "id": "a99107f7",
   "metadata": {},
   "source": [
    "### Combining Experiment Samples"
   ]
  },
  {
   "cell_type": "code",
   "execution_count": 22,
   "id": "26b5fc8b",
   "metadata": {},
   "outputs": [],
   "source": [
    "import numpy as np\n",
    "import matplotlib.pyplot as plt\n",
    "import scipy.stats as scistats\n",
    "\n",
    "import sys\n",
    "sys.path.append(\"..\")"
   ]
  },
  {
   "cell_type": "code",
   "execution_count": 41,
   "id": "6c9a025e",
   "metadata": {},
   "outputs": [],
   "source": [
    "# two folders to combine\n",
    "folder_1 = \"benchmarks 2p\"\n",
    "folder_2 = \"benchmarks/2p edges and GAUSS noise\"\n",
    "save_folder = \"benchmarks/2p edges GAUSS noise large\""
   ]
  },
  {
   "cell_type": "code",
   "execution_count": 43,
   "id": "c9d130f6",
   "metadata": {},
   "outputs": [
    {
     "name": "stdout",
     "output_type": "stream",
     "text": [
      "26\n",
      "(26, 5)\n",
      "(26, 5)\n"
     ]
    }
   ],
   "source": [
    "Ps = range(1, 31)\n",
    "Ps_OMP, Ps_NT = [], []\n",
    "\n",
    "OMP_means, OMP_ses = [], []\n",
    "NT_means, NT_ses = [], []\n",
    "\n",
    "\n",
    "# load data\n",
    "for p in Ps:\n",
    "    try:\n",
    "        Ps_OMP.append(p)\n",
    "        \n",
    "        OMP_data_1 = np.loadtxt(f\"{folder_1}/r_OMP_{p}.txt\")[:5]\n",
    "        OMP_data_2 = np.loadtxt(f\"{folder_2}/r_OMP_{p}.txt\")[:5]\n",
    "        \n",
    "        OMP_data = np.hstack((OMP_data_1, OMP_data_2))\n",
    "        \n",
    "        np.savetxt(f\"{save_folder}/r_OMP_{p}.txt\", OMP_data)\n",
    "        \n",
    "        OMP_means.append(np.mean(OMP_data, axis = 1))\n",
    "        OMP_ses.append(scistats.sem(OMP_data, axis = 1))\n",
    "    except OSError:\n",
    "        continue\n",
    "    \n",
    "    try:\n",
    "        Ps_NT.append(p)\n",
    "        \n",
    "        NT_data_1 = np.loadtxt(f\"{folder_1}/r_NT_{p}.txt\")[:5]\n",
    "        NT_data_2 = np.loadtxt(f\"{folder_2}/r_NT_{p}.txt\")[:5]\n",
    "        \n",
    "        NT_data = np.hstack((NT_data_1, NT_data_2))\n",
    "        \n",
    "        np.savetxt(f\"{save_folder}/r_NT_{p}.txt\", NT_data)\n",
    "        \n",
    "        NT_means.append(np.mean(NT_data, axis = 1))\n",
    "        NT_ses.append(scistats.sem(NT_data, axis = 1))\n",
    "    except:\n",
    "        continue\n",
    "\n",
    "OMP_means = np.array(OMP_means)\n",
    "OMP_ses = np.array(OMP_ses)\n",
    "NT_means = np.array(NT_means)\n",
    "NT_ses = np.array(NT_ses)\n",
    "\n",
    "print(np.shape(OMP_means))\n",
    "print(np.shape(NT_means))"
   ]
  }
 ],
 "metadata": {
  "kernelspec": {
   "display_name": "Python 3.6.8 64-bit",
   "language": "python",
   "name": "python36864bit874e3a48d9b148faaa09714964fd179b"
  },
  "language_info": {
   "codemirror_mode": {
    "name": "ipython",
    "version": 3
   },
   "file_extension": ".py",
   "mimetype": "text/x-python",
   "name": "python",
   "nbconvert_exporter": "python",
   "pygments_lexer": "ipython3",
   "version": "3.6.8"
  }
 },
 "nbformat": 4,
 "nbformat_minor": 5
}
