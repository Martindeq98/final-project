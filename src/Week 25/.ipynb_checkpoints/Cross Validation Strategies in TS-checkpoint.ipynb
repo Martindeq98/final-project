{
 "cells": [
  {
   "cell_type": "markdown",
   "id": "a6f885e6",
   "metadata": {},
   "source": [
    "### Goal: Try different Cross-Validation methods and see which is best.\n",
    "\n",
    "How do we define best? We want the cross-validated error to mimic the expected risk as well as possible."
   ]
  },
  {
   "cell_type": "code",
   "execution_count": 1,
   "id": "d8d4f2cf",
   "metadata": {},
   "outputs": [],
   "source": [
    "import numpy as np\n",
    "import matplotlib.pyplot as plt"
   ]
  },
  {
   "cell_type": "code",
   "execution_count": 76,
   "id": "3b3b1a24",
   "metadata": {},
   "outputs": [
    {
     "data": {
      "text/plain": [
       "[<matplotlib.lines.Line2D at 0x1be141e20f0>]"
      ]
     },
     "execution_count": 76,
     "metadata": {},
     "output_type": "execute_result"
    },
    {
     "data": {
      "image/png": "[encoded data removed]",
      "text/plain": [
       "<Figure size 432x288 with 1 Axes>"
      ]
     },
     "metadata": {
      "needs_background": "light"
     },
     "output_type": "display_data"
    }
   ],
   "source": [
    "a = 0.0\n",
    "b = 0.0\n",
    "T = 100\n",
    "\n",
    "def gen_ar1(a, T, s = 1):\n",
    "    X = np.zeros(T)\n",
    "    X[0] = np.random.normal(0, 1 / (1 - a ** 2 + 0.01))\n",
    "\n",
    "    for t in range(1, T):\n",
    "        X[t] = a * X[t - 1] + np.random.normal(0, s)\n",
    "        \n",
    "    return X\n",
    "\n",
    "def gen_ar2(a, b, T):\n",
    "    X = np.zeros(T)\n",
    "    X[0] = np.random.normal(0, 1 / (1 - a ** 2 + 0.01))\n",
    "    X[1] = X[0] * a + np.random.normal(0, 2)\n",
    "\n",
    "    for t in range(2, T):\n",
    "        X[t] = a * X[t - 1] + b * X[t - 2] + np.random.normal(0, 3)\n",
    "        \n",
    "    return X\n",
    "\n",
    "def exp_cost_ar(a_true, a_est, s = 1):\n",
    "    return s + (a_true - a_est) ** 2 * 1 / (1 - a_true ** 2)\n",
    "    \n",
    "X = gen_ar2(a, b, T)\n",
    "\n",
    "plt.plot(X)"
   ]
  },
  {
   "cell_type": "code",
   "execution_count": 71,
   "id": "4503992a",
   "metadata": {},
   "outputs": [],
   "source": [
    "def cv_1d(features, labels):\n",
    "    \"\"\"Leave One Out Cross-Validation for one dimensional features on labels\"\"\"\n",
    "    \n",
    "    T = np.shape(labels)[0]\n",
    "    cv_scores = []\n",
    "    \n",
    "    # for each sample\n",
    "    for i in range(T):\n",
    "        # split data\n",
    "        features_del, labels_del = np.delete(features, i), np.delete(labels, i)\n",
    "        features_test, labels_test = features[i], labels[i]\n",
    "\n",
    "        # train on del set\n",
    "        coefs = 1 / (features_del @ features_del.T) * features_del @ labels_del\n",
    "\n",
    "        # train on test set\n",
    "        cv_scores.append((labels_test - features_test * coefs) ** 2)\n",
    "    \n",
    "    #print(cv_scores)\n",
    "    return np.mean(np.array(cv_scores)), np.cov(np.array(cv_scores))\n",
    "\n",
    "def bcv_1d(features, labels, h):\n",
    "    \"\"\"Leave One Out Cross-Validation for one dimensional features on labels\"\"\"\n",
    "    \n",
    "    T = np.shape(labels)[0]\n",
    "    cv_scores = []\n",
    "    \n",
    "    # for each sample\n",
    "    for i in range(T):\n",
    "        # split data\n",
    "        features_del, labels_del = np.delete(features, i), np.delete(labels, i)\n",
    "        features_test, labels_test = features[i], labels[i]\n",
    "\n",
    "        # train on del set\n",
    "        coefs = 1 / (features_del @ features_del.T) * features_del @ labels_del\n",
    "\n",
    "        # train on test set\n",
    "        cv_scores.append((labels_test - features_test * coefs) ** 2)\n",
    "    \n",
    "    #print(cv_scores)\n",
    "    return np.mean(np.array(cv_scores)), np.cov(np.array(cv_scores))\n",
    "\n",
    "def cv_nd(features, labels):\n",
    "    \"\"\"Leave One Out Cross-Validation for n > 1 - dimensional features on labels\"\"\"\n",
    "    \n",
    "    T = np.shape(labels)[0]\n",
    "    cv_scores = []\n",
    "    \n",
    "    # for each sample\n",
    "    for i in range(T):\n",
    "        # split data\n",
    "        features_del, labels_del = np.delete(features, i, axis = 1), np.delete(labels, i)\n",
    "        features_test, labels_test = features[:, i], labels[i]\n",
    "\n",
    "        # train on del set\n",
    "        coefs = np.linalg.inv(features_del @ features_del.T) @ features_del @ labels_del\n",
    "\n",
    "        # test on test set\n",
    "        cv_scores.append(((labels_test - features_test @ coefs) ** 2))\n",
    "    \n",
    "    print(cv_scores)\n",
    "    return np.mean(np.array(cv_scores)), np.cov(np.array(cv_scores))"
   ]
  },
  {
   "cell_type": "code",
   "execution_count": 77,
   "id": "f70b01b7",
   "metadata": {},
   "outputs": [
    {
     "name": "stdout",
     "output_type": "stream",
     "text": [
      "Cross-Validation: Hopefully pick AR(2 - 1).\n",
      "CV AR(1):\t10.23 +/- 163.68.\n"
     ]
    }
   ],
   "source": [
    "print(\"Cross-Validation: Hopefully pick AR(2 - 1).\")\n",
    "m, c = cv_1d(X[:-1], X[1:])\n",
    "print(f\"CV AR(1):\\t{np.round(m, 2)} +/- {np.round(c, 2)}.\")"
   ]
  },
  {
   "cell_type": "code",
   "execution_count": 104,
   "id": "363bf1f4",
   "metadata": {},
   "outputs": [
    {
     "name": "stdout",
     "output_type": "stream",
     "text": [
      "1.009957528540919\n"
     ]
    }
   ],
   "source": [
    "print(exp_cost_ar(a, 1 / (X[:-1] @ X[:-1].T) * X[:-1] @ X[1:], 1))"
   ]
  },
  {
   "cell_type": "code",
   "execution_count": 129,
   "id": "388c7f9b",
   "metadata": {},
   "outputs": [
    {
     "name": "stdout",
     "output_type": "stream",
     "text": [
      "Expected Risk:\t1.044 +/- 0.003.\n",
      "Cross-Val Risk:\t1.055 +/- 0.151.\n",
      "Empirical Risk:\t0.955 +/- 0.121.\n",
      "Cross-Val Risk Variance: 2.232.\n"
     ]
    }
   ],
   "source": [
    "iterations = 100\n",
    "T = 20\n",
    "\n",
    "cv_means = []\n",
    "cv_covs = []\n",
    "exp_cost = []\n",
    "ols_means = []\n",
    "\n",
    "for i in range(iterations):\n",
    "    X = gen_ar1(a, T)\n",
    "    m, c = cv_1d(X[:-1], X[1:])\n",
    "    \n",
    "    a_ols = 1 / (X[:-1] @ X[:-1].T) * X[:-1] @ X[1:]\n",
    "    \n",
    "    exp_cost.append(exp_cost_ar(a, 1 / (X[:-1] @ X[:-1].T) * X[:-1] @ X[1:], 1))\n",
    "    ols_means.append(1 / (T - 1) * np.linalg.norm(X[1:] - a_ols * X[:-1], 2) ** 2)\n",
    "    cv_means.append(m)\n",
    "    cv_covs.append(c)\n",
    "\n",
    "rnd = 3\n",
    "print(f\"Expected Risk:\\t{round(np.mean(np.array(exp_cost)), rnd)} +/- {np.round(np.cov(np.array(exp_cost)), rnd)}.\")\n",
    "print(f\"Cross-Val Risk:\\t{round(np.mean(np.array(cv_means)), rnd)} +/- {np.round(np.cov(np.array(cv_means)), rnd)}.\")\n",
    "print(f\"Empirical Risk:\\t{round(np.mean(np.array(ols_means)), rnd)} +/- {np.round(np.cov(np.array(ols_means)), rnd)}.\")\n",
    "print(f\"Cross-Val Risk Variance: {round(np.mean(np.array(cv_covs)), rnd)}.\")"
   ]
  }
 ],
 "metadata": {
  "kernelspec": {
   "display_name": "Python 3.6.8 64-bit",
   "language": "python",
   "name": "python36864bit874e3a48d9b148faaa09714964fd179b"
  },
  "language_info": {
   "codemirror_mode": {
    "name": "ipython",
    "version": 3
   },
   "file_extension": ".py",
   "mimetype": "text/x-python",
   "name": "python",
   "nbconvert_exporter": "python",
   "pygments_lexer": "ipython3",
   "version": "3.6.8"
  }
 },
 "nbformat": 4,
 "nbformat_minor": 5
}
