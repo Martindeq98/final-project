{
 "cells": [
  {
   "cell_type": "markdown",
   "id": "bb21aec6",
   "metadata": {},
   "source": [
    "[Derivation of OLS](https://stats.stackexchange.com/questions/407594/calculating-bias-of-ml-estimate-of-ar1-coefficient)"
   ]
  },
  {
   "cell_type": "code",
   "execution_count": 24,
   "id": "6a69a712",
   "metadata": {},
   "outputs": [],
   "source": [
    "import numpy as np\n",
    "import scipy.linalg as scialg"
   ]
  },
  {
   "cell_type": "code",
   "execution_count": 161,
   "id": "a26fc5fe",
   "metadata": {},
   "outputs": [
    {
     "name": "stdout",
     "output_type": "stream",
     "text": [
      "0.39999999999999997 0.01\t0.4302631578947368 0.019999999999999997\t0.4605263157894737 0.0\t0.4907894736842105 0.03\t0.5210526315789473 0.020000000000000004\t0.5513157894736842 0.05\t0.581578947368421 0.06\t0.6118421052631579 0.14\t0.6421052631578947 0.03999999999999998\t0.6723684210526315 0.07\t0.7026315789473683 0.09000000000000002\t0.7328947368421053 0.20999999999999996\t0.763157894736842 0.050000000000000044\t0.7934210526315788 0.12\t0.8236842105263158 0.029999999999999916\t0.8539473684210526 0.020000000000000018\t0.8842105263157893 0.040000000000000036\t0.9144736842105263 0.0\t0.9447368421052631 0.0\t0.975 0.0\t0.05\n"
     ]
    }
   ],
   "source": [
    "# add diagonal\n",
    "def get_M_r(T, r):\n",
    "    M_r = np.zeros((T, T))\n",
    "    M_r += np.diag(np.ones(T) * r)\n",
    "    M_r[0][0] = 0\n",
    "    M_r -= np.diag(np.ones(T - 1), -1)\n",
    "    return M_r\n",
    "\n",
    "def get_sigma_phi(T, phi):\n",
    "    sigma = np.zeros((T, T))\n",
    "    sigma += np.diag(np.ones(T))\n",
    "    \n",
    "    for k in range(1, T):\n",
    "        sigma += np.diag(np.ones(T - k) * phi ** k, k)\n",
    "        sigma += np.diag(np.ones(T - k) * phi ** k, -k)\n",
    "        \n",
    "    return sigma / (1 - phi ** 2)\n",
    "\n",
    "def get_delta_phi(T, phi):\n",
    "    return scialg.sqrtm(get_sigma_phi(T, phi))\n",
    "\n",
    "def get_H_phi_r(T, phi, r):\n",
    "    delta_phi = scialg.sqrtm(get_sigma_phi(T, phi))\n",
    "    M_r = get_M_r(T, r)\n",
    "    \n",
    "    return delta_phi @ M_r @ delta_phi\n",
    "\n",
    "def get_P(T, phi, r, iters = 100):\n",
    "    count = 0\n",
    "    for _ in range(iters):\n",
    "        z = np.random.multivariate_normal(np.zeros(T), np.identity(T))\n",
    "        count += z.T @ get_H_phi_r(T, phi, r) @ z >= 0\n",
    "    return count / iters\n",
    "        \n",
    "    \n",
    "# monte carlo mean estimate\n",
    "phi = 0.7\n",
    "T = 50\n",
    "rs = np.linspace(phi - 0.3, phi + 0.275, 20)\n",
    "\n",
    "means = []\n",
    "old_p = 0\n",
    "for r in rs:\n",
    "    new_p = get_P(T, phi, r)\n",
    "    p = new_p - old_p\n",
    "    old_p = new_p\n",
    "    print(r, p, end = \"\\t\")\n",
    "    means.append(p)\n",
    "    \n",
    "print(sum(means) / len(means))"
   ]
  },
  {
   "cell_type": "code",
   "execution_count": 162,
   "id": "37769a7c",
   "metadata": {},
   "outputs": [
    {
     "name": "stdout",
     "output_type": "stream",
     "text": [
      "0.6862894736842104\n"
     ]
    },
    {
     "data": {
      "image/png": "[encoded data removed]",
      "text/plain": [
       "<Figure size 432x288 with 1 Axes>"
      ]
     },
     "metadata": {
      "needs_background": "light"
     },
     "output_type": "display_data"
    }
   ],
   "source": [
    "import matplotlib.pyplot as plt\n",
    "plt.plot(means)\n",
    "print((np.array(means) * rs).sum())"
   ]
  },
  {
   "cell_type": "code",
   "execution_count": 163,
   "id": "4a3dd93a",
   "metadata": {},
   "outputs": [
    {
     "name": "stdout",
     "output_type": "stream",
     "text": [
      "\n",
      "Value for a:\t\t0.672 +/- 0.012.\n"
     ]
    }
   ],
   "source": [
    "def gen_ar1(a, T, s = 1):\n",
    "    X = np.zeros(T)\n",
    "    X[0] = np.random.normal(0, 1 / (1 - a ** 2 + 0.01))\n",
    "\n",
    "    for t in range(1, T):\n",
    "        X[t] = a * X[t - 1] + np.random.normal(0, s)\n",
    "        \n",
    "    return X\n",
    "\n",
    "iterations = 5000\n",
    "a, T = 0.7, 50\n",
    "\n",
    "a_list = []\n",
    "\n",
    "for i in range(iterations):\n",
    "    X = gen_ar1(a, T, 2)\n",
    "    a_est = 1 / (X[:-1] @ X[:-1].T) * X[:-1] @ X[1:]\n",
    "    a_list.append(a_est)\n",
    "\n",
    "rnd = 3\n",
    "print(f\"\\nValue for a:\\t\\t{round(np.mean(np.array(a_list)), rnd)} +/- {np.round(np.cov(np.array(a_list)), rnd)}.\")"
   ]
  },
  {
   "cell_type": "code",
   "execution_count": 168,
   "id": "14eabc9d",
   "metadata": {},
   "outputs": [
    {
     "name": "stdout",
     "output_type": "stream",
     "text": [
      "0.47011536259482084\n",
      "0.4701153625948209\n"
     ]
    }
   ],
   "source": [
    "X = gen_ar1(a, T, 2)\n",
    "residuals = X[1:] - a * X[:-1]\n",
    "print(1 / (X[:-1] @ X[:-1].T) * X[:-1] @ X[1:])\n",
    "print(a + (residuals * X[:-1]).sum() / (X[:-1] ** 2).sum())"
   ]
  }
 ],
 "metadata": {
  "kernelspec": {
   "display_name": "Python 3.6.8 64-bit",
   "language": "python",
   "name": "python36864bit874e3a48d9b148faaa09714964fd179b"
  },
  "language_info": {
   "codemirror_mode": {
    "name": "ipython",
    "version": 3
   },
   "file_extension": ".py",
   "mimetype": "text/x-python",
   "name": "python",
   "nbconvert_exporter": "python",
   "pygments_lexer": "ipython3",
   "version": "3.6.8"
  }
 },
 "nbformat": 4,
 "nbformat_minor": 5
}
