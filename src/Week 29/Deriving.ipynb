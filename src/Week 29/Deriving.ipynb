{
 "cells": [
  {
   "cell_type": "markdown",
   "id": "3ffbcc2d",
   "metadata": {},
   "source": [
    "$$H_0: a = 0 => CV(a = 0) \\sim \\chi^2_{T - 1}$$\n",
    "\n",
    "$$H_1: a = \\hat{a}$$"
   ]
  },
  {
   "cell_type": "markdown",
   "id": "349a55ca",
   "metadata": {},
   "source": [
    "\\begin{align*}\n",
    "    LL_0 - LL_{LOOCV} \n",
    "    &= LL_0 - \\sum_{t=2}^T\\left(X_t - \\hat{a}^{(-t)}X_{t-1}\\right)^2 \\\\ \n",
    "    &= LL_0 - \\sum_{t=2}^T\\left(X_t - \\left(\\hat{a} - \\hat{a} - \\hat{a}^{(-t)}\\right)X_{t-1}\\right)^2 \\\\ \n",
    "    &= LL_0 - \\sum_{t=2}^T\\left(X_t - \\hat{a}X_{t-1} - \\left(\\hat{a}^{(-t)} - \\hat{a}\\right)X_{t-1}\\right)^2 \\\\ \n",
    "    &= LL_0 - \\sum_{t=2}^T\\Big(\\left(X_t - \\hat{a}X_{t-1}\\right)^2 \\\\  &\\qquad\\qquad\\ \\ -2\\left(X_t - \\hat{a}X_{t-1}\\right)\\left(\\left(\\hat{a}^{(-t)} - \\hat{a}\\right)X_{t-1}\\right) \\\\\n",
    "    &\\qquad\\qquad\\ \\ + \\left(\\left(\\hat{a}^{(-t)} - \\hat{a}\\right)X_{t-1}\\right)^2\\Big)\\\\ &= LL_0 - LL_1 + C_t,\n",
    "\\end{align*}\n",
    "\n",
    "We see that $$-2\\sum_{t=2}^T\\left(X_t - \\hat{a}X_{t-1}\\right)\\left(\\left(\\hat{a}^{(-t)} - \\hat{a}\\right)X_{t-1}\\right) + \\sum_{t=2}^T\\left(\\left(\\hat{a}^{(-t)} - \\hat{a}\\right)X_{t-1}\\right)^2$$ is the quantity of interest. Interestingly, the second part, $$\\sum_{t=2}^T\\left(\\left(\\hat{a}^{(-t)} - \\hat{a}\\right)X_{t-1}\\right)^2,$$ is almost neglible, so we conjecture that this converges to zero much faster. So let us consider $$-2 \\sum_{t=2}^T\\left(X_t - \\hat{a}X_{t-1}\\right)\\left(\\left(\\hat{a}^{(-t)} - \\hat{a}\\right)X_{t-1}\\right) = -2 \\sum_{t=2}^T\\left(a - \\hat{a}\\right)\\left(\\hat{a}^{(-t)} - \\hat{a}\\right)X_{t-1}^2 - 2\\varepsilon_t \\left(\\hat{a}^{(-t)} - \\hat{a}\\right)X_{t-1}.$$\n",
    "Here, the first part $$-2 \\sum_{t=2}^T\\left(a - \\hat{a}\\right)\\left(\\hat{a}^{(-t)} - \\hat{a}\\right)X_{t-1}^2$$ is almost neglible, so we only need to focus on the second part, $$-2 \\sum_{t=2}^T\\varepsilon_t \\left(\\hat{a}^{(-t)} - \\hat{a}\\right)X_{t-1}.$$\n",
    "We can sort of say that the within one sum, the independence is almost neglible. The LOOCV estimate does not depend on $X_{t-1}$. The MLE estimator, in the limit for $T$ large, barely depends on $X_{t-1}$.\n",
    "\n",
    "Strangely enough, the sum seems to converge to a normal distribution with mean $-2$ and covariance $25 / T$. Therefore, as $T$ gets large, this will converge to $2$.\n",
    "\n",
    "Let us investigate the relation between $\\varepsilon_t$, $X_{t-1}$, and $\\left(\\hat{a} - \\hat{a}^{(-t)}\\right)$. If $\\varepsilon_t < 0$, then not using this pair $(X_t, X_{t+1})$ will increase the value of $\\hat{a}$, so $$X_{t-1} > 0 \\text{ and } \\varepsilon_t > 0 \\iff \\hat{a} < \\hat{a}^{(-t)}.$$\n",
    "So, we see that almost surely, each part of the sum is negative.\n",
    "\n",
    "We see that $$\\left(\\hat{a}^{(-t)} - \\hat{a}\\right)$$ has mean of zero and variance of approximately $1 / T$. Then, summing over $T$ would yield $1$!"
   ]
  },
  {
   "cell_type": "code",
   "execution_count": 1,
   "id": "e0848288",
   "metadata": {},
   "outputs": [],
   "source": [
    "import matplotlib.pyplot as plt\n",
    "from scipy.stats import norm\n",
    "from scipy.stats import chi2\n",
    "from scipy.special import kv"
   ]
  },
  {
   "cell_type": "code",
   "execution_count": 2,
   "id": "f2c2f18a",
   "metadata": {},
   "outputs": [],
   "source": [
    "import numpy as np\n",
    "from tqdm import tqdm"
   ]
  },
  {
   "cell_type": "code",
   "execution_count": 3,
   "id": "26b54f5c",
   "metadata": {},
   "outputs": [],
   "source": [
    "a, b, T = 0, 0, 100"
   ]
  },
  {
   "cell_type": "code",
   "execution_count": 3,
   "id": "7a2281f1",
   "metadata": {},
   "outputs": [],
   "source": [
    "def gen_ar(a, T, s = 1):\n",
    "    X = np.zeros(T)\n",
    "    \n",
    "    noises = np.append(np.random.normal(a, np.sqrt(s / (1 - a ** 2))), np.random.normal(0, np.sqrt(s), T - 1))\n",
    "    \n",
    "    # generate AR(1)\n",
    "    X[0] = noises[0]\n",
    "    \n",
    "    for t in range(1, T):\n",
    "        X[t] = a * X[t - 1] + noises[t]\n",
    "        \n",
    "    return X, noises"
   ]
  },
  {
   "cell_type": "code",
   "execution_count": 211,
   "id": "d687bc83",
   "metadata": {},
   "outputs": [
    {
     "name": "stderr",
     "output_type": "stream",
     "text": [
      "100%|██████████████████████████████████████████████████████████████████████████| 100000/100000 [17:41<00:00, 94.24it/s]\n"
     ]
    }
   ],
   "source": [
    "cv_0 = []\n",
    "cv_MLE = []\n",
    "cv_LOOCV_one = []\n",
    "cv_LOOCV_two = []\n",
    "cv_MLE_LOOCV_diff = []\n",
    "\n",
    "cv_MLE_LOOCV_diff_1 = []\n",
    "cv_MLE_LOOCV_diff_2 = []\n",
    "\n",
    "cv_diff_1 = []\n",
    "cv_diff_2 = []\n",
    "\n",
    "cv_diff_11 = []\n",
    "cv_diff_12 = []\n",
    "\n",
    "cv_diff_121 = []\n",
    "cv_diff_122 = []\n",
    "cv_diff_123 = []\n",
    "\n",
    "a_MLE_list = np.array([])\n",
    "a_LOOCV_one_list = np.array([])\n",
    "a_LOOCV_two_list = np.array([])\n",
    "\n",
    "sum_lst = []\n",
    "iters = 100000\n",
    "a, T = 0.5, 10000\n",
    "for _ in tqdm(range(iters)):\n",
    "    \n",
    "    ## Generate Data\n",
    "    X, noises = gen_ar(a, T)\n",
    "    a_est = np.zeros(T)\n",
    "    \n",
    "    ## CV-0: Use the true value for a\n",
    "    # cv_0.append(1 / (T - 2) * np.linalg.norm(X[2:] - a * X[1:-1], 2) ** 2)\n",
    "    \n",
    "    ## CV-01: Use the MLE value for a\n",
    "    a_MLE = (np.dot(X[:-1], X[1:])) / (np.dot(X[:-1], X[:-1]))\n",
    "    # cv_MLE.append(1 / (T - 2) * np.linalg.norm(X[2:] - a_MLE * X[1:-1], 2) ** 2)\n",
    "#     a_MLE_list = np.append(a_MLE_list, a_MLE)\n",
    "    \n",
    "    ## CV-1: Use the LOOCV-one for a\n",
    "    a_LOOCV_one = (np.dot(X[:-1], X[1:]) - X[1:-1] * X[2:]) / (np.dot(X[:-1], X[:-1]) - X[1:-1] * X[1:-1])\n",
    "#     a_LOOCV_one_list = np.append(a_LOOCV_one_list, np.mean(a_LOOCV_one))\n",
    "    # cv_LOOCV_one.append(1 / (T - 2) * np.linalg.norm(X[2:] - a_LOOCV_one * X[1:-1], 2) ** 2)\n",
    "    \n",
    "    ## CV-2: Use the LOOCV-two for a\n",
    "    # a_LOOCV_two = (np.dot(X[:-1], X[1:]) - X[:-2] * X[1:-1] - X[1:-1] * X[2:]) / (np.dot(X[:-1], X[:-1]) - X[:-2] * X[:-2] - X[1:-1] * X[1:-1])\n",
    "#     a_LOOCV_two_list = np.append(a_LOOCV_two_list, np.mean(a_LOOCV_two))\n",
    "#     cv_LOOCV_two.append(1 / (T - 2) * np.linalg.norm(X[2:] - a_LOOCV_two * X[1:-1], 2) ** 2)\n",
    "    \n",
    "    # print(((-2 * (X[2:] - a_MLE * X[1:-1]) * (a_LOOCV_one - a_MLE) * X[1:-1]) + (((a_LOOCV_one - a_MLE) * X[1:-1]) ** 2)).sum())\n",
    "    # print((-2 * (X[2:] - a_MLE * X[1:-1]) * (a_LOOCV_one - a_MLE) * X[1:-1]).sum(), (((a_LOOCV_one - a_MLE) * X[1:-1]) ** 2).sum())\n",
    "    \n",
    "#     cv_diff_1.append((-2 * (X[2:] - a_MLE * X[1:-1]) * (a_LOOCV_one - a_MLE) * X[1:-1]).sum())\n",
    "#     cv_diff_2.append((((a_LOOCV_one - a_MLE) * X[1:-1]) ** 2).sum())\n",
    "    \n",
    "#     cv_diff_11.append(-2 * ((a - a_MLE) * (a_LOOCV_one - a_MLE) * X[1:-1] ** 2).sum())\n",
    "    cv_diff_12.append(-2 * (noises[2:] * (a_LOOCV_one - a_MLE) * X[1:-1]).sum())\n",
    "    \n",
    "#     cv_diff121.append(noises[2:])\n",
    "#     cv_MLE_LOOCV_diff.append(np.linalg.norm(X[2:] - a_MLE * X[1:-1], 2) ** 2 - np.linalg.norm(X[2:] - a_LOOCV_one * X[1:-1], 2) ** 2)\n",
    "    # print(cv_MLE_LOOCV_diff[-1])\n",
    "    # cv_MLE_LOOCV_diff.append(1 / (T - 2) * (-2 * a_MLE * X[1:-1] * X[2:] + 2 * a_LOOCV_one * X[1:-1] * X[2:]).sum())\n",
    "    # cv_MLE_LOOCV_diff.append((-2 * (a_MLE - a_LOOCV_one) * X[1:-1] * noises[2:]).sum())\n",
    "#     cv_MLE_LOOCV_diff_1.append((-2 * (a_MLE - a_LOOCV_one) * (a * noises[:-2] + noises[1:-1]) * noises[2:]).sum())\n",
    "#     # cv_MLE_LOOCV_diff_1.append((a_MLE * X[1:-1] * noises[2:]).sum())\n",
    "#     # cv_MLE_LOOCV_diff_2.append((a_LOOCV_one * X[1:-1] * noises[2:]).sum())\n",
    "    \n",
    "    # sum_lst.append(-2 * (a_MLE - a_LOOCV_one) * (a * noises[:-2] + noises[1:-1]) * noises[2:])"
   ]
  },
  {
   "cell_type": "code",
   "execution_count": 107,
   "id": "d8da5f3b",
   "metadata": {},
   "outputs": [
    {
     "name": "stdout",
     "output_type": "stream",
     "text": [
      "1.9820947961672317\n",
      "0.9873687104932224\n",
      "0.000434140169408962\n"
     ]
    }
   ],
   "source": [
    "print(sum(cv_diff_12[1]))\n",
    "print(sum(cv_diff_12[0][cv_diff_12[0] < 0.001]))\n",
    "print(sum(cv_diff_12[0][cv_diff_12[0] < 0.000001]))\n",
    "\n",
    "# from scipy.stats import chi2\n",
    "\n",
    "# x = np.arange(min(cv_diff_12[0]), max(cv_diff_12[0]), (max(cv_diff_12[0]) - min(cv_diff_12[0])) / 1000)\n",
    "\n",
    "# plt.plot(x, chi2.pdf(x, df = 1) * 25)\n",
    "# plt.hist(cv_diff_12[0], bins = 1000, density = True);"
   ]
  },
  {
   "cell_type": "code",
   "execution_count": 57,
   "id": "6dcf8ed2",
   "metadata": {},
   "outputs": [
    {
     "name": "stdout",
     "output_type": "stream",
     "text": [
      "[]\n",
      "99998\n",
      "99943\n"
     ]
    }
   ],
   "source": [
    "print(cv_diff_11)\n",
    "print(len(cv_diff_12[0]))\n",
    "print(len(np.array(cv_diff_12[0])[np.array(cv_diff_12[0]) > 0]))\n",
    "\n",
    "# print(np.array(cv_diff_11) + np.array(cv_diff_12))\n",
    "# print(cv_diff_1)"
   ]
  },
  {
   "cell_type": "code",
   "execution_count": 54,
   "id": "e69d25e6",
   "metadata": {},
   "outputs": [
    {
     "name": "stdout",
     "output_type": "stream",
     "text": [
      "[1.9488457780433093]\n",
      "[0.0002783295412986823]\n",
      "[1.94912411]\n",
      "[]\n"
     ]
    }
   ],
   "source": [
    "print(cv_diff_1)\n",
    "print(cv_diff_2)\n",
    "\n",
    "print(np.array(cv_diff_1) + np.array(cv_diff_2))\n",
    "print(cv_MLE_LOOCV_diff)"
   ]
  },
  {
   "cell_type": "code",
   "execution_count": 234,
   "id": "a129fb14",
   "metadata": {},
   "outputs": [
    {
     "data": {
      "text/plain": [
       "array([-1.40951292, -1.33456974, -1.38189928, ..., -1.45606098,\n",
       "       -1.39783005, -1.34818694])"
      ]
     },
     "execution_count": 234,
     "metadata": {},
     "output_type": "execute_result"
    }
   ],
   "source": [
    "def g(a):\n",
    "    return np.log(a ** 2)\n",
    "    return np.linalg.norm(X[1:] - a * X[:-1], 2) ** 2\n",
    "\n",
    "def der_g(a):\n",
    "    return 2 / a\n",
    "    return -np.dot(X[1:] - a * X[:-1], X[:-1])\n",
    "\n",
    "np.array([g(a) for a in a_list])"
   ]
  },
  {
   "cell_type": "code",
   "execution_count": 213,
   "id": "f9add968",
   "metadata": {},
   "outputs": [
    {
     "name": "stdout",
     "output_type": "stream",
     "text": [
      "0.0005995749036247377\n",
      "0.024486096215519972\n",
      "0.02449489742783178\n",
      "0.0006\n"
     ]
    }
   ],
   "source": [
    "print(np.cov(to_hist / 2))\n",
    "print(np.std(to_hist / 2))\n",
    "print(np.sqrt(6) / np.sqrt(T))\n",
    "print(6 / T)"
   ]
  },
  {
   "cell_type": "code",
   "execution_count": 45,
   "id": "065d00be",
   "metadata": {},
   "outputs": [
    {
     "name": "stdout",
     "output_type": "stream",
     "text": [
      "9.58933076069249\n"
     ]
    }
   ],
   "source": [
    "print(np.std(cv_diff) * 2 * np.sqrt(T))"
   ]
  },
  {
   "cell_type": "code",
   "execution_count": 87,
   "id": "f8a54921",
   "metadata": {},
   "outputs": [
    {
     "name": "stdout",
     "output_type": "stream",
     "text": [
      "6.283934545215489e-11\n",
      "1.5850291901699828e-07\n",
      "0.001599360255897641\n"
     ]
    }
   ],
   "source": [
    "print(np.cov(np.sqrt(T) * a_diff))\n",
    "print(np.std(a_diff))\n",
    "print(4 / ((T)))"
   ]
  },
  {
   "cell_type": "code",
   "execution_count": 23,
   "id": "422f5cbf",
   "metadata": {},
   "outputs": [
    {
     "name": "stdout",
     "output_type": "stream",
     "text": [
      "[-0.018966987683951744, -0.020271792099465218, -0.02747857200369867, -0.012520185472913165, -0.01779382504731234, -0.01836637486508531, -0.01572576265919747, -0.017032648611657295, -0.02835335343671159, -0.020725189776351436]\n",
      "[-0.01905291 -0.02108088 -0.02910635 -0.01309799 -0.01885006 -0.01871313\n",
      " -0.01569276 -0.01757424 -0.02989732 -0.02094603]\n",
      "(1000,)\n"
     ]
    }
   ],
   "source": [
    "print(cv_MLE_LOOCV_diff[:10])\n",
    "print((np.array(cv_MLE) - np.array(cv_LOOCV_one))[:10])\n",
    "\n",
    "print(np.shape(cv_MLE_LOOCV_diff))"
   ]
  },
  {
   "cell_type": "code",
   "execution_count": 399,
   "id": "25a9bcc3",
   "metadata": {},
   "outputs": [
    {
     "name": "stdout",
     "output_type": "stream",
     "text": [
      "(4999,)\n"
     ]
    }
   ],
   "source": [
    "print(np.shape(np.array(sum_lst[0])))"
   ]
  },
  {
   "cell_type": "code",
   "execution_count": 463,
   "id": "ceeaf381",
   "metadata": {},
   "outputs": [
    {
     "name": "stdout",
     "output_type": "stream",
     "text": [
      "-1.8051875608237848\n"
     ]
    }
   ],
   "source": [
    "print(sum(sum_lst[0][T // 10:]))"
   ]
  },
  {
   "cell_type": "code",
   "execution_count": 212,
   "id": "a3d43487",
   "metadata": {},
   "outputs": [
    {
     "name": "stdout",
     "output_type": "stream",
     "text": [
      "1.9994353255611503\n"
     ]
    },
    {
     "data": {
      "text/plain": [
       "<matplotlib.legend.Legend at 0x26caa8b1c18>"
      ]
     },
     "execution_count": 212,
     "metadata": {},
     "output_type": "execute_result"
    },
    {
     "data": {
      "image/png": "[encoded data removed]",
      "text/plain": [
       "<Figure size 432x288 with 1 Axes>"
      ]
     },
     "metadata": {
      "needs_background": "light"
     },
     "output_type": "display_data"
    }
   ],
   "source": [
    "# cv_diff = (T - 2) * (np.array(cv_0) - np.array(cv_LOOCV_one))\n",
    "# cv_diff = np.array(cv_MLE_LOOCV_diff) # - np.array(cv_MLE_LOOCV_diff_2)\n",
    "# cv_diff = np.array(cv_MLE) - np.array(cv_LOOCV_one)\n",
    "# cv_diff = np.array(cv_MLE_LOOCV_diff)\n",
    "\n",
    "# a_diff = (np.array(a_MLE_list) - np.array(a_LOOCV_one_list))\n",
    "# print(len(cv_diff[cv_diff < 0]) / len(cv_diff))\n",
    "\n",
    "to_hist = np.array((cv_diff_12))\n",
    "# to_hist = np.sqrt((T - 1)) * (g(a) - np.array([g(a) for a in a_list]))\n",
    "# to_hist = np.array(cv_diff)\n",
    "\n",
    "f = plt.figure()\n",
    "ax = f.add_subplot(111)\n",
    "\n",
    "plt.title(f\"(T - 1) * (CV_0 - CV_1) for a = {a} and T = {T}, {iters} samples.\")\n",
    "plt.xlabel(r\"Value of cv_diff\")\n",
    "\n",
    "# print(np.mean(to_hist))\n",
    "# print(np.cov(to_hist))\n",
    "# print(len(to_hist[to_hist > 0]) / len(to_hist))\n",
    "# plt.hist(n_list, bins = 100, density = True);\n",
    "\n",
    "#x-axis ranges from 0 to 20 with .001 steps\n",
    "x = np.arange(min(to_hist), max(to_hist), (max(to_hist) - min(to_hist)) / 1000)\n",
    "\n",
    "print(np.mean(np.abs(to_hist)))\n",
    "\n",
    "# the histogram of the data\n",
    "\n",
    "\n",
    "n, bins, patches = ax.hist(to_hist, 100, density=True, alpha=1.00, facecolor = 'g', label = f\"Fraction of Green: {sum(to_hist <= 0) / len(to_hist)}\")\n",
    "\n",
    "for b, p in zip(bins, patches):\n",
    "    if b > 0:\n",
    "        p.set_facecolor(\"red\")\n",
    "\n",
    "max_height = max([r.get_height() for r in patches])\n",
    "\n",
    "plt.ylim(0, max_height + 0.001)\n",
    "a_T = ((T - (a ** 2 * (1 - a ** (2 * T)) / (1 - a ** 2))) / (1 - a ** 2)) / (T)\n",
    "plt.ylabel('Density')\n",
    "t = plt.text(0.65, 0.65, f'Mean: {round(to_hist.mean(), 3)}. Var: {round(to_hist.var(), 3)}', ha='left', va='center', transform=ax.transAxes)\n",
    "t.set_bbox(dict(facecolor='white', alpha=1.0, edgecolor = 'grey'))\n",
    "plt.grid(True)\n",
    "plt.vlines(np.mean(to_hist), 0, max_height, linestyle = '--', color = 'black', label = \"Mean\")\n",
    "# plt.plot(x, norm.pdf(x, loc = 1, scale = np.sqrt(2 / (T - 1))), label = r\"$\\mathcal{N}(0, 2 / (T - 1))$\")\n",
    "# plt.plot(x, norm.pdf(x, loc = 2, scale = np.sqrt(1 / (2 * np.sqrt(T)))))\n",
    "# plt.plot(x, norm.pdf(x, loc = 0, scale = np.sqrt(4 / (T))))\n",
    "plt.plot(x, norm.pdf(x, loc = to_hist.mean(), scale = np.std(to_hist)))\n",
    "\n",
    "# plt.plot(x, chi2.pdf((x + 2), df = 1), label = r\"$\\chi_1^2 - 2$\")\n",
    "# plt.plot(x, chi2.pdf(x, df = 1), label = r\"$\\chi_1^2 - 2$\")\n",
    "# plt.plot(x, chi2.pdf(x , df = 1), label = r\"$\\chi_1^2 - 2$\")\n",
    "# print(kv(0, x[x > 0] / max(x[x > 0])))\n",
    "# print(x[x > 0] / max(x[x > 0]))\n",
    "# plt.plot(x[x > 0],  kv(0, (x[x > 0] / (max(0.4 * x[x > 0])))) * 500, color = 'black')\n",
    "# plt.plot(-x,  kv(0, x) / 3.14)\n",
    "\n",
    "plt.legend()\n",
    "\n",
    "\n",
    "# plt.plot(x, norm.pdf(x, loc = 1, scale = np.sqrt(2 / (T - 1))))"
   ]
  },
  {
   "cell_type": "code",
   "execution_count": 251,
   "id": "a254861e",
   "metadata": {},
   "outputs": [
    {
     "data": {
      "text/plain": [
       "[<matplotlib.lines.Line2D at 0x290096aa588>]"
      ]
     },
     "execution_count": 251,
     "metadata": {},
     "output_type": "execute_result"
    },
    {
     "data": {
      "image/png": "[encoded data removed]",
      "text/plain": [
       "<Figure size 432x288 with 1 Axes>"
      ]
     },
     "metadata": {
      "needs_background": "light"
     },
     "output_type": "display_data"
    }
   ],
   "source": [
    "x = np.linspace(0, 5, 100)\n",
    "# plt.plot(x, norm.pdf(x, loc = 0, scale = 1), label = r\"$\\chi_1^2 - 2$\")\n",
    "plt.plot(x,  kv(0, x) / 3.14)\n",
    "plt.plot(-x,  kv(0, x) / 3.14)"
   ]
  },
  {
   "cell_type": "code",
   "execution_count": 70,
   "id": "ce837e4f",
   "metadata": {},
   "outputs": [
    {
     "name": "stdout",
     "output_type": "stream",
     "text": [
      "5.041002715356926\n",
      "5.263157894736843\n"
     ]
    }
   ],
   "source": [
    "a_T = ((T - (a ** 2 * (1 - a ** (2 * T)) / (1 - a ** 2))) / (1 - a ** 2)) / (T)\n",
    "print(a_T)\n",
    "print(1 / (1 - a ** 2))"
   ]
  },
  {
   "cell_type": "code",
   "execution_count": 44,
   "id": "907fffef",
   "metadata": {},
   "outputs": [
    {
     "name": "stdout",
     "output_type": "stream",
     "text": [
      "10580.288943268897\n",
      "2881.7794483176885\n",
      "5025.125628140696\n"
     ]
    }
   ],
   "source": [
    "a, T = 0.99, 101\n",
    "X, noises = gen_ar(a, T)\n",
    "\n",
    "print(sum(X[:-1] ** 2))\n",
    "print((T - 1 - (a ** 2 * (1 - a ** (2 * (T - 1))) / (1 - a ** 2))) / (1 - a ** 2))\n",
    "print((T - 1) / (1 - a ** 2))"
   ]
  },
  {
   "cell_type": "code",
   "execution_count": 719,
   "id": "c57fc3d1",
   "metadata": {},
   "outputs": [],
   "source": [
    "cv_0 = list(cv_0)\n",
    "cv_1 = list(cv_1)"
   ]
  },
  {
   "cell_type": "code",
   "execution_count": 667,
   "id": "bc3440e0",
   "metadata": {},
   "outputs": [
    {
     "name": "stdout",
     "output_type": "stream",
     "text": [
      "0.8373\n",
      "0.00039659406661403493\n",
      "[[1.         0.99989332]\n",
      " [0.99989332 1.        ]]\n"
     ]
    }
   ],
   "source": [
    "cv_diff = np.array(cv_0) - np.array(cv_1)\n",
    "print(len(cv_diff[cv_diff < 0]) / len(cv_diff))\n",
    "\n",
    "print(np.cov(np.array(cv_0)))\n",
    "print(np.corrcoef(cv_0, cv_1))"
   ]
  },
  {
   "cell_type": "code",
   "execution_count": 687,
   "id": "09969199",
   "metadata": {},
   "outputs": [
    {
     "name": "stdout",
     "output_type": "stream",
     "text": [
      "0.02\n"
     ]
    }
   ],
   "source": [
    "print(1 / (T - 1))"
   ]
  },
  {
   "cell_type": "code",
   "execution_count": 38,
   "id": "b5d52c93",
   "metadata": {},
   "outputs": [
    {
     "data": {
      "text/plain": [
       "[<matplotlib.lines.Line2D at 0x1ae5a90e2e8>]"
      ]
     },
     "execution_count": 38,
     "metadata": {},
     "output_type": "execute_result"
    },
    {
     "data": {
      "image/png": "[encoded data removed]",
      "text/plain": [
       "<Figure size 432x288 with 1 Axes>"
      ]
     },
     "metadata": {
      "needs_background": "light"
     },
     "output_type": "display_data"
    }
   ],
   "source": [
    "from scipy.stats import chi2\n",
    "\n",
    "#x-axis ranges from 0 to 20 with .001 steps\n",
    "x = np.arange(0, max(results), 0.001)\n",
    "\n",
    "#plot Chi-square distribution with 4 degrees of freedom\n",
    "plt.plot(x, chi2.pdf(x, df=T - 1))"
   ]
  },
  {
   "attachments": {
    "image.png": {
     "image/png": "[encoded data removed]"
    }
   },
   "cell_type": "markdown",
   "id": "49a67dd5",
   "metadata": {},
   "source": [
    "\\begin{align*}\n",
    " CV(a = \\hat{a}) \n",
    " &= \\sum_{k = 1}^{T - 1} \\left(X_{k+1} - \\hat{a}^{-k}X_k\\right)^2 \\\\\n",
    " &= \\sum_{k = 1}^{T - 1}\\left(X_{k+1} - \\frac{\\sum_{t = 1}^{T - 1} X_t X_{t + 1} - X_k X_{k + 1}}{\\sum_{t = 1}^{T - 1} X_t^2 - X_k^2} X_k\\right)^2 \\\\\n",
    " &= \\sum_{k = 1}^{T - 1}\\left(X_{k+1} - \\left(a + \\frac{\\sum_{t = 1}^{T - 1} X_t \\varepsilon_{t + 1} - X_k \\varepsilon_{k + 1}}{\\sum_{t = 1}^{T - 1} X_t^2 - X_k^2}\\right) X_k\\right)^2 \\\\\n",
    " &= \\sum_{k = 1}^{T - 1}\\left(\\varepsilon_{k+1} - \\frac{\\sum_{t = 1}^{T - 1} X_t \\varepsilon_{t + 1} - X_k \\varepsilon_{k + 1}}{\\sum_{t = 1}^{T - 1} X_t^2 - X_k^2} X_k\\right)^2\n",
    "\\end{align*}\n",
    "\n",
    "For $a = 0$, the bottom of fraction is chi squared distributed with $T - 2$ degrees of freedom.\n",
    "\n",
    "Unfortunately, the top of the fraction is a product of two iid standard normal random variables, which is equal to $\\pi$ times a Modified Bessel Function of the Second Kind distribution.\n",
    "\n",
    "![image.png](attachment:image.png)\n",
    "\n",
    "However, this is not correct as the sum of the squared standard normals are dependent."
   ]
  },
  {
   "cell_type": "code",
   "execution_count": 757,
   "id": "02294ec1",
   "metadata": {},
   "outputs": [
    {
     "name": "stdout",
     "output_type": "stream",
     "text": [
      "136.4286074299501\n",
      "136.42860742995006\n",
      "136.42860742995006\n",
      "136.42860742995006\n"
     ]
    }
   ],
   "source": [
    "a, T = 0.9, 100\n",
    "X, noises = gen_ar(a, T)\n",
    "a_est = (np.dot(X[:-1], X[1:]) - X[1:] * X[:-1]) / (np.dot(X[:-1], X[:-1]) - X[:-1] * X[:-1])\n",
    "a_est_2 = a + (np.dot(X[:-1], noises[1:]) - noises[1:] * X[:-1]) / (np.dot(X[:-1], X[:-1]) - X[:-1] * X[:-1])\n",
    "\n",
    "print(np.linalg.norm(X[1:] - a_est * X[:-1]) ** 2)\n",
    "print(np.linalg.norm(X[1:] - a_est_2 * X[:-1]) ** 2)\n",
    "print(np.linalg.norm(noises[1:] - (a_est - a) * X[:-1]) ** 2)\n",
    "print(np.linalg.norm(noises[1:] - (np.dot(X[:-1], noises[1:]) - noises[1:] * X[:-1]) / (np.dot(X[:-1], X[:-1]) - X[:-1] * X[:-1]) * X[:-1]) ** 2)"
   ]
  },
  {
   "cell_type": "markdown",
   "id": "1982b9d5",
   "metadata": {},
   "source": [
    "$$\\begin{align*} P(CV(a = 0) < CV(a = \\hat{a}) \n",
    "&= P\\left(\\sum_{t = 1}^{T - 1}\\varepsilon_{t + 1}^2 < \\sum_{t = 1}^{T - 1} \\left(\\varepsilon_{t + 1} - \\hat{a}^{-t} \\varepsilon_t\\right)^2\\right) \\\\\n",
    "&= P\\left(\\sum_{t = 1}^{T - 1}\\varepsilon_{t + 1}^2 < \\sum_{t = 1}^{T - 1} \\left(\\varepsilon_{t + 1}^2 - 2\\hat{a}^{-t} \\varepsilon_t \\varepsilon_{t + 1} + \\hat{a}^2 \\varepsilon_t^2\\right)\\right) \\\\\n",
    "&= P\\left(0 < \\sum_{t = 1}^{T - 1} \\left( - 2\\hat{a}^{-t} \\varepsilon_t \\varepsilon_{t + 1} + \\hat{a}^2 \\varepsilon_t^2\\right)\\right) \\\\\n",
    "&= P\\left(\\sum_{t = 1}^{T - 1}2\\hat{a}^{-t} \\varepsilon_t \\varepsilon_{t + 1} < \\sum_{t = 1}^{T - 1} \\hat{a}^2 \\varepsilon_t^2\\right) \\\\\n",
    "&= P\\left(\\sum_{t = 1}^{T - 1}2\\hat{a}^{-t} \\varepsilon_t \\varepsilon_{t + 1} - \\hat{a}^2 \\varepsilon_t^2< 0\\right) \\\\\n",
    "&= P\\left(\\sum_{t = 1}^{T - 1}\\hat{a}^{-t} \\varepsilon_t \\left(2\\varepsilon_{t + 1} - \\hat{a} \\varepsilon_t\\right)< 0\\right) \\\\\n",
    "\\end{align*}$$\n"
   ]
  },
  {
   "cell_type": "markdown",
   "id": "6e278eae",
   "metadata": {},
   "source": [
    "## What we Know\n",
    "\n",
    "$$\\sqrt{T - 1}\\left(\\hat{a}_{T-1} - a_0\\right) \\overset{D}{\\rightarrow} \\mathcal{N}\\left(0, \\frac{1}{I^*(a)}\\right),\\qquad \\text{where}\\ I^*(a) \\approx \\frac{1}{1 - a^2}$$\n",
    "\n",
    "\\begin{align*}CV(0) &\\sim \\chi^2_{T-1} \\overset{T \\rightarrow \\infty}{\\rightarrow} \\mathcal{N}\\left(T - 1, 2 \\left(T - 1\\right)\\right) \\\\\n",
    "CV(1) &\\overset{T \\rightarrow \\infty}{\\rightarrow} \\mathcal{N}\\left(T - 1, 2 \\left(T - 1\\right)\\right)\\end{align*}\n",
    "\n",
    "Now, the question is, what is their joint distribution?\n",
    "\n",
    "It seems that $$\\mathbf{E}\\left[CV(0) - CV(1)\\right] \\approx \\frac{1}{T - 1}.$$\n",
    "\n",
    "$$\\mathbf{V}\\left[(T - 1) (CV(0) - CV(1))\\right] \\approx 2.$$\n",
    "\n",
    "We have that\n",
    "\\begin{align*}\n",
    "-I^*(a) \n",
    "&= \\mathbb{E}_a\\left[\\frac{\\partial^2}{\\partial a^2} \\log f_a(X)\\right] \\\\\n",
    "&= \\mathbb{E}_a\\left[\\frac{\\partial^2}{\\partial a^2} \\sum_{t = 2}^T-\\frac{1}{2}\\left(X_t - aX_{t-1}\\right)^2\\right]\\\\\n",
    "&= \\mathbb{E}_a\\left[\\frac{\\partial}{\\partial a} \\sum_{t = 2}^T\\left(X_t - aX_{t-1}\\right)\\cdot X_{t-1}\\right] \\\\\n",
    "&= -\\mathbb{E}_a\\left[\\sum_{t = 2}^TX_{t-1}^2\\right] \\\\\n",
    "&= -\\mathbb{E}_a\\left[\\sum_{t = 1}^{T - 1}X_{t}^2\\right]\n",
    "\\end{align*}\n",
    "\n",
    "Therefore, \n",
    "$$I^*(a) = \\mathbb{E}_a\\left[\\sum_{t = 1}^{T - 1}X_{t}^2\\right]$$"
   ]
  },
  {
   "cell_type": "code",
   "execution_count": 745,
   "id": "64baa4bf",
   "metadata": {},
   "outputs": [
    {
     "name": "stdout",
     "output_type": "stream",
     "text": [
      "[1.0000031  1.00002294] [[3.99817995e-05 3.99807733e-05]\n",
      " [3.99807733e-05 3.99805517e-05]]\n",
      "0.7575\n"
     ]
    },
    {
     "data": {
      "text/plain": [
       "(array([2.000e+00, 0.000e+00, 0.000e+00, 0.000e+00, 0.000e+00, 2.000e+00,\n",
       "        3.000e+00, 5.000e+00, 6.000e+00, 5.000e+00, 1.000e+00, 1.200e+01,\n",
       "        9.000e+00, 1.100e+01, 3.100e+01, 2.500e+01, 3.900e+01, 3.400e+01,\n",
       "        6.700e+01, 5.900e+01, 8.800e+01, 8.700e+01, 1.120e+02, 1.480e+02,\n",
       "        1.580e+02, 2.050e+02, 2.490e+02, 2.840e+02, 3.090e+02, 3.580e+02,\n",
       "        4.100e+02, 4.610e+02, 5.710e+02, 6.210e+02, 6.980e+02, 7.860e+02,\n",
       "        8.630e+02, 9.430e+02, 9.910e+02, 1.070e+03, 1.146e+03, 1.259e+03,\n",
       "        1.297e+03, 1.366e+03, 1.420e+03, 1.494e+03, 1.519e+03, 1.599e+03,\n",
       "        1.563e+03, 1.624e+03, 1.629e+03, 1.668e+03, 1.589e+03, 1.615e+03,\n",
       "        1.490e+03, 1.451e+03, 1.465e+03, 1.439e+03, 1.306e+03, 1.188e+03,\n",
       "        1.156e+03, 1.064e+03, 1.036e+03, 9.580e+02, 8.940e+02, 8.330e+02,\n",
       "        6.820e+02, 6.380e+02, 5.770e+02, 4.850e+02, 4.170e+02, 4.140e+02,\n",
       "        3.250e+02, 2.840e+02, 2.510e+02, 1.930e+02, 1.840e+02, 1.470e+02,\n",
       "        1.180e+02, 8.800e+01, 9.700e+01, 5.900e+01, 5.900e+01, 3.300e+01,\n",
       "        3.600e+01, 2.000e+01, 2.600e+01, 2.400e+01, 5.000e+00, 1.300e+01,\n",
       "        7.000e+00, 6.000e+00, 6.000e+00, 8.000e+00, 3.000e+00, 1.000e+00,\n",
       "        1.000e+00, 0.000e+00, 0.000e+00, 2.000e+00]),\n",
       " array([-1.37370679e-04, -1.35048996e-04, -1.32727313e-04, -1.30405630e-04,\n",
       "        -1.28083947e-04, -1.25762264e-04, -1.23440581e-04, -1.21118898e-04,\n",
       "        -1.18797215e-04, -1.16475532e-04, -1.14153849e-04, -1.11832166e-04,\n",
       "        -1.09510483e-04, -1.07188800e-04, -1.04867117e-04, -1.02545434e-04,\n",
       "        -1.00223751e-04, -9.79020682e-05, -9.55803852e-05, -9.32587021e-05,\n",
       "        -9.09370191e-05, -8.86153361e-05, -8.62936531e-05, -8.39719701e-05,\n",
       "        -8.16502871e-05, -7.93286040e-05, -7.70069210e-05, -7.46852380e-05,\n",
       "        -7.23635550e-05, -7.00418720e-05, -6.77201890e-05, -6.53985059e-05,\n",
       "        -6.30768229e-05, -6.07551399e-05, -5.84334569e-05, -5.61117739e-05,\n",
       "        -5.37900909e-05, -5.14684078e-05, -4.91467248e-05, -4.68250418e-05,\n",
       "        -4.45033588e-05, -4.21816758e-05, -3.98599928e-05, -3.75383097e-05,\n",
       "        -3.52166267e-05, -3.28949437e-05, -3.05732607e-05, -2.82515777e-05,\n",
       "        -2.59298947e-05, -2.36082116e-05, -2.12865286e-05, -1.89648456e-05,\n",
       "        -1.66431626e-05, -1.43214796e-05, -1.19997966e-05, -9.67811354e-06,\n",
       "        -7.35643052e-06, -5.03474751e-06, -2.71306449e-06, -3.91381472e-07,\n",
       "         1.93030154e-06,  4.25198456e-06,  6.57366758e-06,  8.89535059e-06,\n",
       "         1.12170336e-05,  1.35387166e-05,  1.58603996e-05,  1.81820827e-05,\n",
       "         2.05037657e-05,  2.28254487e-05,  2.51471317e-05,  2.74688147e-05,\n",
       "         2.97904977e-05,  3.21121808e-05,  3.44338638e-05,  3.67555468e-05,\n",
       "         3.90772298e-05,  4.13989128e-05,  4.37205958e-05,  4.60422789e-05,\n",
       "         4.83639619e-05,  5.06856449e-05,  5.30073279e-05,  5.53290109e-05,\n",
       "         5.76506939e-05,  5.99723770e-05,  6.22940600e-05,  6.46157430e-05,\n",
       "         6.69374260e-05,  6.92591090e-05,  7.15807920e-05,  7.39024751e-05,\n",
       "         7.62241581e-05,  7.85458411e-05,  8.08675241e-05,  8.31892071e-05,\n",
       "         8.55108901e-05,  8.78325732e-05,  9.01542562e-05,  9.24759392e-05,\n",
       "         9.47976222e-05]),\n",
       " <BarContainer object of 100 artists>)"
      ]
     },
     "execution_count": 745,
     "metadata": {},
     "output_type": "execute_result"
    },
    {
     "data": {
      "image/png": "[encoded data removed]",
      "text/plain": [
       "<Figure size 432x288 with 1 Axes>"
      ]
     },
     "metadata": {
      "needs_background": "light"
     },
     "output_type": "display_data"
    }
   ],
   "source": [
    "cv_0, cv_1 = np.array(cv_0), np.array(cv_1)\n",
    "cor = np.corrcoef(cv_0, cv_1)[0][1]\n",
    "\n",
    "means = np.array([cv_0.mean(), cv_1.mean()])\n",
    "covs = np.cov(cv_0, cv_1)\n",
    "print(means, covs)\n",
    "\n",
    "cv_s = np.random.multivariate_normal(means, covs, 50000)\n",
    "cv_d = cv_s[:, 0] - cv_s[:, 1]\n",
    "print(sum(cv_d < 0) / len(cv_d))\n",
    "plt.hist(cv_s[:, 0] - cv_s[:, 1], bins = 100)"
   ]
  },
  {
   "cell_type": "code",
   "execution_count": 735,
   "id": "877d3768",
   "metadata": {},
   "outputs": [
    {
     "name": "stdout",
     "output_type": "stream",
     "text": [
      "-0.9999798716455567\n"
     ]
    }
   ],
   "source": [
    "print(np.linalg.det(covs))"
   ]
  }
 ],
 "metadata": {
  "kernelspec": {
   "display_name": "Python 3.6.8 64-bit",
   "language": "python",
   "name": "python36864bit874e3a48d9b148faaa09714964fd179b"
  },
  "language_info": {
   "codemirror_mode": {
    "name": "ipython",
    "version": 3
   },
   "file_extension": ".py",
   "mimetype": "text/x-python",
   "name": "python",
   "nbconvert_exporter": "python",
   "pygments_lexer": "ipython3",
   "version": "3.6.8"
  }
 },
 "nbformat": 4,
 "nbformat_minor": 5
}
