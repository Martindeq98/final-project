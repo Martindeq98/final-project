{
 "cells": [
  {
   "cell_type": "markdown",
   "id": "59ca0c17",
   "metadata": {},
   "source": [
    "$$H_0: a = 0 => CV(a = 0) \\sim \\chi^2_{T - 1}$$\n",
    "\n",
    "$$H_1: a = \\hat{a}$$"
   ]
  },
  {
   "cell_type": "code",
   "execution_count": 2,
   "id": "e2ecc9cc",
   "metadata": {},
   "outputs": [],
   "source": [
    "import numpy as np"
   ]
  },
  {
   "cell_type": "code",
   "execution_count": 3,
   "id": "969b42d4",
   "metadata": {},
   "outputs": [],
   "source": [
    "a, b, T = 0, 0, 100"
   ]
  },
  {
   "cell_type": "code",
   "execution_count": 68,
   "id": "9715d05c",
   "metadata": {},
   "outputs": [],
   "source": [
    "def gen_ar(a, T):\n",
    "    X = np.zeros(T)\n",
    "    \n",
    "    noises = np.append(np.random.normal(a, np.sqrt(1 / (1 - a ** 2))), np.random.normal(0, 1, T - 1))\n",
    "    \n",
    "    # generate AR(1)\n",
    "    X[0] = noises[0]\n",
    "    \n",
    "    for t in range(1, T):\n",
    "        X[t] = a * X[t - 1] + noises[t]\n",
    "        \n",
    "    return X, noises"
   ]
  },
  {
   "cell_type": "code",
   "execution_count": 10,
   "id": "9f8fb94b",
   "metadata": {},
   "outputs": [
    {
     "name": "stdout",
     "output_type": "stream",
     "text": [
      "CV_0: 93.64646220523927.\n"
     ]
    }
   ],
   "source": [
    "## CV_0:\n",
    "print(f\"CV_0: {np.linalg.norm(X[1:], 2) ** 2}.\")"
   ]
  },
  {
   "cell_type": "code",
   "execution_count": 258,
   "id": "8f42904d",
   "metadata": {},
   "outputs": [
    {
     "name": "stdout",
     "output_type": "stream",
     "text": [
      "[ 0.45905499  0.91967064  3.75285084  0.26377554  0.34754312  0.27193879\n",
      "  0.33397309 -0.71795183  1.61475135 -1.43179032]\n"
     ]
    }
   ],
   "source": [
    "cv_0 = []\n",
    "cv_1 = []\n",
    "cv_2 = []\n",
    "cv_3 = []\n",
    "cv_4 = []\n",
    "cv_5 = []\n",
    "cv_6 = []\n",
    "\n",
    "a_list = np.array([])\n",
    "n_list = np.array([])\n",
    "\n",
    "a, T = 0, 4\n",
    "for _ in range(10):\n",
    "    X, noises = gen_ar(a, T)\n",
    "    \n",
    "    n_list = np.append(n_list, noises[:2] @ noises[-2:])\n",
    "    cv_0.append(np.linalg.norm(X[1:], 2) ** 2)\n",
    "    \n",
    "    a_est = (np.dot(X[:-1], X[1:]) - X[1:] * X[:-1]) / (np.dot(X[:-1], X[:-1]) - X[:-1] * X[:-1])\n",
    "    a_list = np.append(a_list, a_est)\n",
    "    cv_1.append(np.linalg.norm(X[1:] - a_est * X[:-1], 2) ** 2)\n",
    "    cv_2.append(np.linalg.norm(X[1:] - np.dot(X[:-1], X[1:]) / np.dot(X[:-1], X[:-1]) * X[:-1], 2) ** 2)\n",
    "    \n",
    "    cv_3.append(2 * sum(noises[1:] * noises[:-1] * a_est))\n",
    "    cv_4.append(sum(a_est ** 2 * noises[:-1] ** 2))\n",
    "    \n",
    "    cv_5.append(sum(a_est * noises[:-1] * (2 * noises[1:] - a_est * noises[:-1])))\n",
    "\n",
    "\n",
    "cv_diff = np.array(cv_0) - np.array(cv_1)\n",
    "cv_diff_2 = np.array(cv_3) - np.array(cv_4)\n",
    "print(n_list)"
   ]
  },
  {
   "cell_type": "code",
   "execution_count": 259,
   "id": "31d0b644",
   "metadata": {},
   "outputs": [
    {
     "name": "stdout",
     "output_type": "stream",
     "text": [
      "[False False False  True  True False  True  True False  True]\n",
      "[False False False  True  True False  True  True False  True]\n",
      "[False False False  True  True False  True  True False  True]\n"
     ]
    }
   ],
   "source": [
    "print(cv_diff < 0)\n",
    "print(cv_diff_2 < 0)\n",
    "print(np.array(cv_5) < 0)"
   ]
  },
  {
   "cell_type": "code",
   "execution_count": 201,
   "id": "95c18ab9",
   "metadata": {},
   "outputs": [],
   "source": [
    "import matplotlib.pyplot as plt"
   ]
  },
  {
   "cell_type": "code",
   "execution_count": 240,
   "id": "d7fde3e8",
   "metadata": {},
   "outputs": [
    {
     "name": "stdout",
     "output_type": "stream",
     "text": [
      "-19.05232484155014\n",
      "0.8112\n"
     ]
    },
    {
     "data": {
      "image/png": "[encoded data removed]",
      "text/plain": [
       "<Figure size 432x288 with 1 Axes>"
      ]
     },
     "metadata": {
      "needs_background": "light"
     },
     "output_type": "display_data"
    }
   ],
   "source": [
    "plt.hist(n_list, bins = 100, density = True);\n",
    "print(np.mean(cv_diff))\n",
    "print(len(cv_diff[cv_diff < 0]) / len(cv_diff))\n",
    "# plt.hist(n_list, bins = 100, density = True);\n",
    "\n",
    "#x-axis ranges from 0 to 20 with .001 steps\n",
    "# x = np.arange(0, max(results), 0.001)\n",
    "\n",
    "# #plot Chi-square distribution with 4 degrees of freedom\n",
    "# plt.plot(x, chi2.pdf(x, df=T - 1))"
   ]
  },
  {
   "cell_type": "code",
   "execution_count": 38,
   "id": "97e2b412",
   "metadata": {},
   "outputs": [
    {
     "data": {
      "text/plain": [
       "[<matplotlib.lines.Line2D at 0x1ae5a90e2e8>]"
      ]
     },
     "execution_count": 38,
     "metadata": {},
     "output_type": "execute_result"
    },
    {
     "data": {
      "image/png": "[encoded data removed]",
      "text/plain": [
       "<Figure size 432x288 with 1 Axes>"
      ]
     },
     "metadata": {
      "needs_background": "light"
     },
     "output_type": "display_data"
    }
   ],
   "source": [
    "from scipy.stats import chi2\n",
    "\n",
    "#x-axis ranges from 0 to 20 with .001 steps\n",
    "x = np.arange(0, max(results), 0.001)\n",
    "\n",
    "#plot Chi-square distribution with 4 degrees of freedom\n",
    "plt.plot(x, chi2.pdf(x, df=T - 1))"
   ]
  },
  {
   "attachments": {
    "image.png": {
     "image/png": "[encoded data removed]"
    }
   },
   "cell_type": "markdown",
   "id": "35e8dd6b",
   "metadata": {},
   "source": [
    "\\begin{align*}\n",
    " CV(a = \\hat{a}) \n",
    " &= \\sum_{k = 1}^{T - 1} \\left(X_{k+1} - \\hat{a}^{-k}X_k\\right)^2 \\\\\n",
    " &= \\sum_{k = 1}^{T - 1}\\left(X_{k+1} - \\frac{\\sum_{t = 1}^{T - 1} X_t X_{t + 1} - X_k X_{k + 1}}{\\sum_{t = 1}^{T - 1} X_t^2 - X_k^2} X_k\\right)^2 \\\\\n",
    " &= \\sum_{k = 1}^{T - 1}\\left(X_{k+1} - \\left(a + \\frac{\\sum_{t = 1}^{T - 1} X_t \\varepsilon_{t + 1} - X_k \\varepsilon_{k + 1}}{\\sum_{t = 1}^{T - 1} X_t^2 - X_k^2}\\right) X_k\\right)^2 \\\\\n",
    " &= \\sum_{k = 1}^{T - 1}\\left(\\varepsilon_{k+1} - \\frac{\\sum_{t = 1}^{T - 1} X_t \\varepsilon_{t + 1} - X_k \\varepsilon_{k + 1}}{\\sum_{t = 1}^{T - 1} X_t^2 - X_k^2} X_k\\right)^2\n",
    "\\end{align*}\n",
    "\n",
    "For $a = 0$, the bottom of fraction is chi squared distributed with $T - 2$ degrees of freedom.\n",
    "\n",
    "Unfortunately, the top of the fraction is a product of two iid standard normal random variables, which is equal to $\\pi$ times a Modified Bessel Function of the Second Kind distribution.\n",
    "\n",
    "![image.png](attachment:image.png)\n",
    "\n",
    "However, this is not correct as the sum of the squared standard normals are dependent."
   ]
  },
  {
   "cell_type": "code",
   "execution_count": 229,
   "id": "fca91772",
   "metadata": {},
   "outputs": [
    {
     "name": "stdout",
     "output_type": "stream",
     "text": [
      "106.78069966165847\n",
      "106.78069966165847\n",
      "106.78069966165847\n",
      "106.78069966165847\n"
     ]
    }
   ],
   "source": [
    "a, T = 0.9, 100\n",
    "X, noises = gen_ar(a, T)\n",
    "a_est = (np.dot(X[:-1], X[1:]) - X[1:] * X[:-1]) / (np.dot(X[:-1], X[:-1]) - X[:-1] * X[:-1])\n",
    "a_est_2 = a + (np.dot(X[:-1], noises[1:]) - noises[1:] * X[:-1]) / (np.dot(X[:-1], X[:-1]) - X[:-1] * X[:-1])\n",
    "\n",
    "print(np.linalg.norm(X[1:] - a_est * X[:-1]) ** 2)\n",
    "print(np.linalg.norm(X[1:] - a_est_2 * X[:-1]) ** 2)\n",
    "print(np.linalg.norm(noises[1:] - (a_est - a) * X[:-1]) ** 2)\n",
    "print(np.linalg.norm(noises[1:] - (np.dot(X[:-1], noises[1:]) - noises[1:] * X[:-1]) / (np.dot(X[:-1], X[:-1]) - X[:-1] * X[:-1]) * X[:-1]) ** 2)"
   ]
  },
  {
   "cell_type": "markdown",
   "id": "34e6c175",
   "metadata": {},
   "source": [
    "$$\\begin{align*} P(CV(a = 0) < CV(a = \\hat{a}) \n",
    "&= P\\left(\\sum_{t = 1}^{T - 1}\\varepsilon_{t + 1}^2 < \\sum_{t = 1}^{T - 1} \\left(\\varepsilon_{t + 1} - \\hat{a}^{-t} \\varepsilon_t\\right)^2\\right) \\\\\n",
    "&= P\\left(\\sum_{t = 1}^{T - 1}\\varepsilon_{t + 1}^2 < \\sum_{t = 1}^{T - 1} \\left(\\varepsilon_{t + 1}^2 - 2\\hat{a}^{-t} \\varepsilon_t \\varepsilon_{t + 1} + \\hat{a}^2 \\varepsilon_t^2\\right)\\right) \\\\\n",
    "&= P\\left(0 < \\sum_{t = 1}^{T - 1} \\left( - 2\\hat{a}^{-t} \\varepsilon_t \\varepsilon_{t + 1} + \\hat{a}^2 \\varepsilon_t^2\\right)\\right) \\\\\n",
    "&= P\\left(\\sum_{t = 1}^{T - 1}2\\hat{a}^{-t} \\varepsilon_t \\varepsilon_{t + 1} < \\sum_{t = 1}^{T - 1} \\hat{a}^2 \\varepsilon_t^2\\right) \\\\\n",
    "&= P\\left(\\sum_{t = 1}^{T - 1}2\\hat{a}^{-t} \\varepsilon_t \\varepsilon_{t + 1} - \\hat{a}^2 \\varepsilon_t^2< 0\\right) \\\\\n",
    "&= P\\left(\\sum_{t = 1}^{T - 1}\\hat{a}^{-t} \\varepsilon_t \\left(2\\varepsilon_{t + 1} - \\hat{a} \\varepsilon_t\\right)< 0\\right) \\\\\n",
    "\\end{align*}$$\n"
   ]
  }
 ],
 "metadata": {
  "kernelspec": {
   "display_name": "Python 3.6.8 64-bit",
   "language": "python",
   "name": "python36864bit874e3a48d9b148faaa09714964fd179b"
  },
  "language_info": {
   "codemirror_mode": {
    "name": "ipython",
    "version": 3
   },
   "file_extension": ".py",
   "mimetype": "text/x-python",
   "name": "python",
   "nbconvert_exporter": "python",
   "pygments_lexer": "ipython3",
   "version": "3.6.8"
  }
 },
 "nbformat": 4,
 "nbformat_minor": 5
}
