{
 "cells": [
  {
   "cell_type": "code",
   "execution_count": 134,
   "id": "6fb38ea0",
   "metadata": {},
   "outputs": [],
   "source": [
    "import numpy as np\n",
    "import matplotlib.pyplot as plt"
   ]
  },
  {
   "cell_type": "code",
   "execution_count": 2,
   "id": "0294fd10",
   "metadata": {},
   "outputs": [
    {
     "name": "stdout",
     "output_type": "stream",
     "text": [
      "[[0.5 0.  0. ]\n",
      " [0.3 0.4 0. ]\n",
      " [0.2 0.3 0.6]]\n"
     ]
    }
   ],
   "source": [
    "# n = 3\n",
    "np.random.seed(seed = 1)\n",
    "\n",
    "length, n = 500, 3\n",
    "A, P, Sigma = None, None, None \n",
    "\n",
    "if n == 2:\n",
    "    A = np.array([[0.4, 0.9], [0.1, 0.4]])\n",
    "    P = np.array([[1.0, 0.0], [0.0, 1.0]])\n",
    "    Sigma = np.identity(n)\n",
    "elif n == 3:\n",
    "    A = np.array([[0.5, 0.0, 0.0], [0.3, 0.4, 0.0], [0.2, 0.3, 0.6]])\n",
    "    Sigma = np.array([[1.0, 0.0, 0.0], [0.0, 1.0, 0.0], [0.0, 0.0, 1.0]])\n",
    "    P = np.array([[0.0, 1.0, 0.0], [0.0, 0.0, 1.0], [1.0, 0.0, 0.0]])\n",
    "\n",
    "As, Ps = A.copy(), P.copy()\n",
    "\n",
    "print(A)"
   ]
  },
  {
   "cell_type": "code",
   "execution_count": 3,
   "id": "eb606f5d",
   "metadata": {},
   "outputs": [],
   "source": [
    "def expected_cost(A, P, As = As, Ps = Ps):\n",
    "    # base on the distribution of X, no actual data needed.\n",
    "    # we need the covariance of X_t - X_{t-1}.\n",
    "    # Then, the expected cost is the trace of this covariance\n",
    "    P_inv = np.linalg.inv(P)\n",
    "    Ps_inv = np.linalg.inv(Ps)\n",
    "    \n",
    "    B = np.matmul(P_inv, np.matmul(A, P))\n",
    "    Bs = np.matmul(Ps_inv, np.matmul(As, Ps))\n",
    "    \n",
    "    covariance_X = np.matmul(np.linalg.inv(np.identity(n ** 2) - np.kron(Bs, Bs)), Sigma.reshape(n ** 2)).reshape((n, n))\n",
    "    \n",
    "    covariance_matrix = Sigma + np.matmul((Bs - B), np.matmul(covariance_X, (Bs - B).transpose()))\n",
    "    \n",
    "    return np.trace(covariance_matrix)"
   ]
  },
  {
   "cell_type": "code",
   "execution_count": 27,
   "id": "6f1a6e00",
   "metadata": {},
   "outputs": [
    {
     "name": "stdout",
     "output_type": "stream",
     "text": [
      "[[2. 2. 2.]\n",
      " [2. 2. 2.]\n",
      " [2. 2. 2.]]\n"
     ]
    }
   ],
   "source": [
    "p_coefs = np.array([1.0, 1.0, 1.0, 1.0, 1.0, 1.0])\n",
    "permutation_list = itertools.permutations(np.identity(n))\n",
    "permutation_list = np.array(list(permutation_list))\n",
    "\n",
    "total = sum(p * c for p, c in zip(p_coefs, permutation_list))\n",
    "print(total)"
   ]
  },
  {
   "cell_type": "code",
   "execution_count": 43,
   "id": "e2ba9df6",
   "metadata": {},
   "outputs": [
    {
     "data": {
      "text/plain": [
       "4.52467062636393"
      ]
     },
     "execution_count": 43,
     "metadata": {},
     "output_type": "execute_result"
    }
   ],
   "source": [
    "import itertools\n",
    "aparms = int(n * (n + 1) / 2)\n",
    "\n",
    "permutation_list = itertools.permutations(np.identity(n))\n",
    "permutation_list = np.array(list(permutation_list))\n",
    "\n",
    "def expected_cost_opt(variables):\n",
    "    # create A\n",
    "    A = np.zeros((n, n))\n",
    "    A[np.tril_indices(n)] = variables[:aparms]\n",
    "    \n",
    "    # create P\n",
    "    p_coefs = variables[aparms:]\n",
    "    P = sum(p * c for p, c in zip(p_coefs, permutation_list))\n",
    "    \n",
    "    ## compute expected cost\n",
    "    # compute inverses\n",
    "    P_inv = np.linalg.inv(P)\n",
    "    Ps_inv = np.linalg.inv(Ps)\n",
    "    \n",
    "    # compute B\n",
    "    B = np.matmul(P_inv, np.matmul(A, P))\n",
    "    Bs = np.matmul(Ps_inv, np.matmul(As, Ps))\n",
    "    \n",
    "    # compute covariance of X\n",
    "    covariance_X = np.matmul(np.linalg.inv(np.identity(n ** 2) - np.kron(Bs, Bs)), Sigma.reshape(n ** 2)).reshape((n, n))\n",
    "    \n",
    "    # compute covariance of X_{val} - X_{pred}\n",
    "    covariance_matrix = Sigma + np.matmul((Bs - B), np.matmul(covariance_X, (Bs - B).transpose()))\n",
    "    \n",
    "    # return cost\n",
    "    return np.trace(covariance_matrix)\n",
    "\n",
    "# # set dimension\n",
    "n = 3\n",
    "\n",
    "# # set A\n",
    "A = np.tril((np.random.rand(n, n)))\n",
    "\n",
    "# # set P\n",
    "p_coefs = np.array([1.0, 0.0, 0.0, 0.0, 0.0, 0.0])\n",
    "\n",
    "# # define variables\n",
    "variables = np.append(A[np.tril_indices(n)], p_coefs.flatten())\n",
    "\n",
    "# # compute expected cost\n",
    "expected_cost_opt(variables)"
   ]
  },
  {
   "cell_type": "code",
   "execution_count": 97,
   "id": "cb78d0e2",
   "metadata": {},
   "outputs": [],
   "source": [
    "def eq_cons(variables):\n",
    "    p_coefs = variables[6:]\n",
    "    return sum(p_coefs) - 1\n",
    "\n",
    "def ineq_cons(variables):\n",
    "    p_coefs = variables[6:]\n",
    "    return p_coefs - np.zeros(6)\n",
    "\n",
    "cons = [{'type': 'ineq', 'fun': ineq_cons}, {'type': 'eq', 'fun': eq_cons}]"
   ]
  },
  {
   "cell_type": "code",
   "execution_count": 168,
   "id": "3f638707",
   "metadata": {},
   "outputs": [
    {
     "name": "stdout",
     "output_type": "stream",
     "text": [
      "[ 0.24  0.    0.24  0.26 -0.    0.26]\n",
      "[[0. 0. 0.]\n",
      " [0. 1. 0.]\n",
      " [1. 0. 0.]] 2\n",
      "3.0076439525119745\n",
      "[[0. 0. 1.]\n",
      " [0. 1. 0.]\n",
      " [1. 0. 0.]]\n"
     ]
    }
   ],
   "source": [
    "from scipy import optimize\n",
    "\n",
    "results = optimize.minimize(expected_cost_opt, np.random.rand(12), constraints = cons)\n",
    "p_coefs = results.x[6:]\n",
    "print(np.round(p_coefs, 2))\n",
    "p_perm = np.array(sum(p * c for p, c in zip(p_coefs, permutation_list)))\n",
    "print(np.round(p_perm), 2)\n",
    "print(results.fun)\n",
    "print(closest_perm(p_perm))"
   ]
  },
  {
   "cell_type": "code",
   "execution_count": 160,
   "id": "97409ec0",
   "metadata": {},
   "outputs": [],
   "source": [
    "def closest_perm(P_DS):\n",
    "    # convert to get the maximum linear assignment problem\n",
    "    P_MOD = np.ones((n, n)) * np.max(P_DS) - P_DS\n",
    "    \n",
    "    # apply the maximum linear assignment algorithm\n",
    "    row_ind, col_ind = optimize.linear_sum_assignment(P_MOD)\n",
    "\n",
    "    # initialize Permutation matrix to return\n",
    "    P_perm = np.zeros((n, n))\n",
    "\n",
    "    # fill in permutation matrix\n",
    "    for row, col in zip(row_ind, col_ind):\n",
    "        P_perm[row][col] = 1 \n",
    "    \n",
    "    # re\n",
    "    return P_perm"
   ]
  },
  {
   "cell_type": "code",
   "execution_count": null,
   "id": "9157e346",
   "metadata": {},
   "outputs": [],
   "source": [
    "# get gradient of our outcome"
   ]
  }
 ],
 "metadata": {
  "kernelspec": {
   "display_name": "Python 3.6.8 64-bit",
   "language": "python",
   "name": "python36864bit874e3a48d9b148faaa09714964fd179b"
  },
  "language_info": {
   "codemirror_mode": {
    "name": "ipython",
    "version": 3
   },
   "file_extension": ".py",
   "mimetype": "text/x-python",
   "name": "python",
   "nbconvert_exporter": "python",
   "pygments_lexer": "ipython3",
   "version": "3.6.8"
  }
 },
 "nbformat": 4,
 "nbformat_minor": 5
}
