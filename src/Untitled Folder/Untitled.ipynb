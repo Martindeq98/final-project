{
 "cells": [
  {
   "cell_type": "code",
   "execution_count": 2,
   "id": "b9a86772",
   "metadata": {},
   "outputs": [],
   "source": [
    "import numpy as np"
   ]
  },
  {
   "cell_type": "code",
   "execution_count": 37,
   "id": "8b87c706",
   "metadata": {},
   "outputs": [
    {
     "name": "stdout",
     "output_type": "stream",
     "text": [
      "17427857.999047026\n",
      "17427857.999047026\n",
      "17427857.999047026\n"
     ]
    }
   ],
   "source": [
    "T, p = 53, 12\n",
    "X = np.random.rand(T, p)\n",
    "\n",
    "P = np.random.permutation(np.identity(p))\n",
    "U = np.zeros((p, p))\n",
    "U[np.triu_indices(p)] = np.array(range(int(p * (p + 1)/2)))\n",
    "\n",
    "W = P.T @ U @ P\n",
    "\n",
    "print(np.linalg.norm(X - X @ W, 'f') ** 2)\n",
    "print(sum([np.linalg.norm(P @ x - P @ x @ U, 2) ** 2 for x in X]))\n",
    "print(sum([np.linalg.norm(x @ P.T - P @ x @ U, 2) ** 2 for x in X]))"
   ]
  }
 ],
 "metadata": {
  "kernelspec": {
   "display_name": "Python 3.6.8 64-bit",
   "language": "python",
   "name": "python36864bit874e3a48d9b148faaa09714964fd179b"
  },
  "language_info": {
   "codemirror_mode": {
    "name": "ipython",
    "version": 3
   },
   "file_extension": ".py",
   "mimetype": "text/x-python",
   "name": "python",
   "nbconvert_exporter": "python",
   "pygments_lexer": "ipython3",
   "version": "3.6.8"
  }
 },
 "nbformat": 4,
 "nbformat_minor": 5
}
