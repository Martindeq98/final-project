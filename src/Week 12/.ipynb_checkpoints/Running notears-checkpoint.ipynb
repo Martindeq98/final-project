{
 "cells": [
  {
   "cell_type": "code",
   "execution_count": 99,
   "id": "ca4996e4",
   "metadata": {},
   "outputs": [],
   "source": [
    "import numpy as np\n",
    "import scipy.linalg as slin\n",
    "import scipy.optimize as sopt\n",
    "from scipy.special import expit as sigmoid\n",
    "import matplotlib.pyplot as plt"
   ]
  },
  {
   "cell_type": "markdown",
   "id": "c9395382",
   "metadata": {},
   "source": [
    "### Running notears\n",
    "Very simple! Clone the repo, interestingly enough, copy \"linear.py\" up one directory, and run the command below"
   ]
  },
  {
   "cell_type": "code",
   "execution_count": 100,
   "id": "e1514fd3",
   "metadata": {},
   "outputs": [],
   "source": [
    "import os\n",
    "\n",
    "path = \"C:/Users/s165048/OneDrive - TU Eindhoven/QuinceyFinalProject/final-project/src/notears\"\n",
    "os.chdir(path)\n",
    "\n",
    "import notears.notears"
   ]
  },
  {
   "cell_type": "markdown",
   "id": "8c337a78",
   "metadata": {},
   "source": [
    "### Run the main example"
   ]
  },
  {
   "cell_type": "code",
   "execution_count": 8,
   "id": "9fe52cc7",
   "metadata": {
    "scrolled": true
   },
   "outputs": [
    {
     "name": "stdout",
     "output_type": "stream",
     "text": [
      "VAR based on a graph on 10 nodes and 30 edges, 50 samples.\n",
      "Original Adjacency Matrix:\n",
      "[[0. 0. 0. 1. 0. 0. 0. 0. 0. 1.]\n",
      " [1. 0. 1. 0. 1. 1. 0. 0. 1. 0.]\n",
      " [0. 0. 0. 1. 1. 1. 0. 0. 1. 0.]\n",
      " [0. 0. 0. 0. 0. 1. 0. 0. 0. 1.]\n",
      " [1. 0. 0. 1. 0. 1. 0. 0. 0. 1.]\n",
      " [0. 0. 0. 0. 0. 0. 0. 0. 0. 0.]\n",
      " [1. 1. 0. 1. 1. 1. 0. 0. 1. 0.]\n",
      " [0. 1. 0. 1. 1. 1. 0. 0. 1. 1.]\n",
      " [0. 0. 0. 1. 0. 0. 0. 0. 0. 0.]\n",
      " [0. 0. 0. 0. 0. 0. 0. 0. 0. 0.]].\n",
      "\n",
      "Original WAM:\n",
      "[[ 0.          0.          0.         -1.79005082  0.          0.\n",
      "   0.          0.          0.          0.71904912]\n",
      " [-1.43362349  0.         -1.02155168  0.          0.69840091  1.64636241\n",
      "   0.          0.          0.64312887  0.        ]\n",
      " [ 0.          0.          0.         -0.67798726  1.36487632 -1.2528364\n",
      "   0.          0.          1.59201747  0.        ]\n",
      " [ 0.          0.          0.          0.          0.          1.63450309\n",
      "   0.          0.          0.          0.51200407]\n",
      " [ 1.88952606  0.          0.          0.53615244  0.         -1.17301259\n",
      "   0.          0.          0.          1.03186584]\n",
      " [ 0.          0.          0.          0.          0.          0.\n",
      "   0.          0.          0.          0.        ]\n",
      " [ 1.30156601 -1.56692325  0.         -0.54849811 -1.58252174  0.53582614\n",
      "   0.          0.         -1.37311019  0.        ]\n",
      " [ 0.         -1.56536     0.          1.92924669  0.82758985  0.8730503\n",
      "   0.          0.         -1.45714334 -1.76999228]\n",
      " [ 0.          0.          0.          0.52380947  0.          0.\n",
      "   0.          0.          0.          0.        ]\n",
      " [ 0.          0.          0.          0.          0.          0.\n",
      "   0.          0.          0.          0.        ]].\n",
      "\n",
      "Estimated WAM\n",
      ": [[ 0.          0.          0.         -1.76558307  0.          0.\n",
      "   0.          0.          0.          0.72347209]\n",
      " [-1.36577082  0.         -1.03253486  0.          0.67342111  1.65798816\n",
      "   0.          0.          0.67911341  0.        ]\n",
      " [ 0.          0.          0.         -0.68372317  1.30010317 -1.27963179\n",
      "   0.          0.          1.50379426  0.        ]\n",
      " [ 0.          0.          0.          0.          0.          1.61682652\n",
      "   0.          0.          0.          0.5058234 ]\n",
      " [ 1.94208408  0.          0.          0.58209317  0.         -1.14984741\n",
      "   0.          0.          0.          0.889092  ]\n",
      " [ 0.          0.          0.          0.          0.          0.\n",
      "   0.          0.          0.          0.        ]\n",
      " [ 1.18231666 -1.26589326  0.          0.         -1.60581196  0.61253393\n",
      "   0.          0.         -1.17452918  0.        ]\n",
      " [ 0.         -1.7328371   0.          1.77387974  0.67183286  0.85957236\n",
      "   0.          0.         -1.52452033 -1.68053601]\n",
      " [ 0.          0.          0.          0.49536476  0.          0.\n",
      "   0.          0.          0.          0.        ]\n",
      " [ 0.          0.          0.          0.          0.          0.\n",
      "   0.          0.          0.          0.        ]].\n",
      "\n",
      "{'fdr': 0.0, 'tpr': 0.9666666666666667, 'fpr': 0.0, 'shd': 1, 'nnz': 29}\n"
     ]
    }
   ],
   "source": [
    "# run main of linear.py. Does not allow for changing of settings\n",
    "!python notears/linear.py"
   ]
  },
  {
   "cell_type": "markdown",
   "id": "4e4ab2a8",
   "metadata": {},
   "source": [
    "### Step by Step\n",
    "#### Basic Settings\n",
    "We import the modules, set the seed for reproducibility. We then define our parameters."
   ]
  },
  {
   "cell_type": "code",
   "execution_count": 113,
   "id": "07245ceb",
   "metadata": {},
   "outputs": [
    {
     "name": "stdout",
     "output_type": "stream",
     "text": [
      "VAR based on a DAG on 10 nodes and 40 edges, 10 samples.\n",
      "\n"
     ]
    }
   ],
   "source": [
    "from notears.notears import utils\n",
    "from notears.notears import linear\n",
    "\n",
    "utils.set_random_seed(1)\n",
    "\n",
    "n, d, s0, graph_type, sem_type = 10, 10, 40, 'ER', 'gauss'\n",
    "print(f\"VAR based on a DAG on {d} nodes and {s0} edges, {n} samples.\\n\")"
   ]
  },
  {
   "cell_type": "markdown",
   "id": "8f551008",
   "metadata": {},
   "source": [
    "#### Simulate W\n",
    "We simulate a directed acyclic graph with $d$ variables and $s0$ edges. The graph type is generally an Erdos Renyi (ER) graph."
   ]
  },
  {
   "cell_type": "code",
   "execution_count": 114,
   "id": "cb4e0e2a",
   "metadata": {},
   "outputs": [
    {
     "name": "stdout",
     "output_type": "stream",
     "text": [
      "Original Adjacency Matrix:\n",
      "[[0. 0. 0. 1. 0. 1. 0. 0. 0. 0.]\n",
      " [1. 0. 1. 1. 1. 1. 0. 0. 1. 1.]\n",
      " [1. 0. 0. 1. 1. 1. 0. 0. 1. 1.]\n",
      " [0. 0. 0. 0. 0. 0. 0. 0. 0. 1.]\n",
      " [1. 0. 0. 1. 0. 1. 0. 0. 1. 1.]\n",
      " [0. 0. 0. 0. 0. 0. 0. 0. 0. 1.]\n",
      " [1. 1. 1. 1. 1. 1. 0. 0. 1. 1.]\n",
      " [1. 0. 1. 1. 1. 1. 1. 0. 1. 0.]\n",
      " [1. 0. 0. 1. 0. 1. 0. 0. 0. 0.]\n",
      " [0. 0. 0. 0. 0. 0. 0. 0. 0. 0.]].\n",
      "\n"
     ]
    }
   ],
   "source": [
    "B_true = utils.simulate_dag(d, s0, graph_type)\n",
    "print(f\"Original Adjacency Matrix:\\n{B_true}.\\n\")"
   ]
  },
  {
   "cell_type": "markdown",
   "id": "2e6a4ae8",
   "metadata": {},
   "source": [
    "#### From AM to WAM\n",
    "We transform the binary adjacency matrix $B$ to a weighted adjacency matrix $W$. We do this by assigning weights to each edge. The edges are picked uniformly from the range $w\\_ranges$."
   ]
  },
  {
   "cell_type": "code",
   "execution_count": 115,
   "id": "750a9136",
   "metadata": {},
   "outputs": [
    {
     "name": "stdout",
     "output_type": "stream",
     "text": [
      "Original WAM:\n",
      "[[ 0.   0.   0.  -1.8  0.   1.6  0.   0.   0.   0. ]\n",
      " [-1.4  0.  -1.   1.2  0.7  1.6  0.   0.   0.6 -1.5]\n",
      " [ 1.   0.   0.  -0.7  1.4 -1.3  0.   0.   1.6  1.3]\n",
      " [ 0.   0.   0.   0.   0.   0.   0.   0.   0.   0.5]\n",
      " [ 1.9  0.   0.   0.5  0.  -1.2  0.   0.  -0.9  1. ]\n",
      " [ 0.   0.   0.   0.   0.   0.   0.   0.   0.   1.8]\n",
      " [ 1.3 -1.6  1.  -0.5 -1.6  0.5  0.   0.  -1.4  1.4]\n",
      " [ 0.7  0.   1.   1.9  0.8  0.9 -1.4  0.  -1.5  0. ]\n",
      " [-0.6  0.   0.   0.5  0.   1.1  0.   0.   0.   0. ]\n",
      " [ 0.   0.   0.   0.   0.   0.   0.   0.   0.   0. ]].\n",
      "\n"
     ]
    }
   ],
   "source": [
    "W_true = utils.simulate_parameter(B_true, w_ranges = ((-2.0, -0.5), (0.5, 2.0)))\n",
    "print(f\"Original WAM:\\n{np.round(W_true, 1)}.\\n\")"
   ]
  },
  {
   "cell_type": "markdown",
   "id": "93a5b79c",
   "metadata": {},
   "source": [
    "#### Simulate VAR data according to $W\\_true$\n",
    "We sample $n$ samples of this VAR(1) model, with a multivariate standard normal as noise. "
   ]
  },
  {
   "cell_type": "code",
   "execution_count": 116,
   "id": "c3b7a405",
   "metadata": {},
   "outputs": [
    {
     "data": {
      "image/png": "[encoded data removed]",
      "text/plain": [
       "<Figure size 432x288 with 1 Axes>"
      ]
     },
     "metadata": {
      "needs_background": "light"
     },
     "output_type": "display_data"
    }
   ],
   "source": [
    "X = utils.simulate_var(W_true, n)\n",
    "plt.plot(X);"
   ]
  },
  {
   "cell_type": "markdown",
   "id": "7220d257",
   "metadata": {},
   "source": [
    "#### NOTEARS Estimation\n",
    "Now we will estimate using NOTEARS, the $\\ell_1$-penalty parameter is $\\texttt{lambda1}$. As we have a VAR(1) model, we will use the loss type $\\texttt{l2-var}$."
   ]
  },
  {
   "cell_type": "code",
   "execution_count": 117,
   "id": "dae28a8b",
   "metadata": {},
   "outputs": [
    {
     "name": "stdout",
     "output_type": "stream",
     "text": [
      "Estimated WAM:\n",
      "[[ 0.   0.   0.  -1.2  0.   1.2  0.   0.   0.  -0.8]\n",
      " [-1.5  0.  -1.1  0.   0.8  2.1  0.   0.   0.   0. ]\n",
      " [ 1.3  0.   0.  -0.7  1.2 -1.1  0.   0.   1.8  0. ]\n",
      " [ 0.   0.   0.   0.   0.   0.   0.   0.   0.   0.5]\n",
      " [ 2.1  0.   0.   0.5  0.  -0.7  0.   0.  -0.6  1. ]\n",
      " [ 0.   0.   0.   0.   0.   0.   0.   0.   0.   1.5]\n",
      " [ 1.9 -1.3  0.8  0.  -1.5  0.   0.   0.  -1.   0. ]\n",
      " [ 0.9  0.   0.6  2.6  0.5  0.  -1.   0.  -1.4 -1.6]\n",
      " [-0.7  0.   0.   0.7  0.   0.9  0.   0.   0.   0. ]\n",
      " [ 0.   0.   0.   0.   0.   0.   0.   0.   0.   0. ]].\n",
      "\n"
     ]
    }
   ],
   "source": [
    "W_est = linear.notears_linear(X, lambda1=0.1, loss_type='l2-var')\n",
    "print(f\"Estimated WAM:\\n{np.round(W_est, 1)}.\\n\")"
   ]
  },
  {
   "cell_type": "markdown",
   "id": "d42683a0",
   "metadata": {},
   "source": [
    "#### Get results\n"
   ]
  },
  {
   "cell_type": "code",
   "execution_count": 118,
   "id": "4c036603",
   "metadata": {},
   "outputs": [
    {
     "name": "stdout",
     "output_type": "stream",
     "text": [
      "{'fdr': 0.058823529411764705, 'tpr': 0.8, 'fpr': 0.4, 'shd': 10, 'nnz': 34}\n"
     ]
    }
   ],
   "source": [
    "acc = utils.count_accuracy(B_true, W_est != 0)\n",
    "print(acc)"
   ]
  }
 ],
 "metadata": {
  "kernelspec": {
   "display_name": "Python 3 (ipykernel)",
   "language": "python",
   "name": "python3"
  },
  "language_info": {
   "codemirror_mode": {
    "name": "ipython",
    "version": 3
   },
   "file_extension": ".py",
   "mimetype": "text/x-python",
   "name": "python",
   "nbconvert_exporter": "python",
   "pygments_lexer": "ipython3",
   "version": "3.9.5"
  }
 },
 "nbformat": 4,
 "nbformat_minor": 5
}
