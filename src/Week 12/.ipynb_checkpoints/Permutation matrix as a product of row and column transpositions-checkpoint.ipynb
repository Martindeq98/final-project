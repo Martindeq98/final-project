{
 "cells": [
  {
   "cell_type": "code",
   "execution_count": 326,
   "id": "0e906259",
   "metadata": {},
   "outputs": [],
   "source": [
    "import numpy as np\n",
    "import scipy.linalg as sci\n",
    "import numpy as np\n",
    "from numpy import linalg as lg\n",
    "\n",
    "import sys\n",
    "import matplotlib.pyplot as plt\n",
    "\n",
    "sys.path.append(\"..\")\n",
    "import helper.helper as h"
   ]
  },
  {
   "cell_type": "markdown",
   "id": "aca4d122",
   "metadata": {},
   "source": [
    "Assumption: We can write any permutation matrix $$P = \\prod_{i,j: i < j} P_{ij}^{\\alpha_{ij}}$$ for $\\alpha_{ij} \\in \\{0, 1\\}$. Here $P_{ij}$ is the transposition matrix that permutes row $i$ and $j$. We know that we can write any permutation matrix as a composition of transposition matrices, but note that the product above has a fixed order.\n",
    "\n",
    "An easy way to verify that each permutation matrix can be decomposed using at most $n - 1$ non-zero $\\alpha_{ij}$, we consider a $\\textit{selection sort}$ approach. Let $j$ be the row where the first entry is a 1. We swap row $i = 1$ and row $j$. Then, let $j$ be the row where the second entry is a 1 ($j > 1>$). We swap row $i = 2$ and row $j$. We do this $n - 1$ times after which the first $n - 1$ entries are correct, and since we have $n$ entries in total, all $n$ entries are correct.\n",
    "\n",
    "If that is indeed true we have a valid representation of all permutation matrices, parametrized through the ${n \\choose 2}$\n",
    "parameters $\\mathbf{α}$. This we can relax now by letting $\\alpha \\in \\mathbb{R}^{n \\choose 2}$, where we define the diagonal decomposition of $P_{ij}^{\\alpha_{ij}}$ as $$P_{ij}^{\\alpha_{ij}} = U^TD^{\\alpha_{ij}}U.$$\n",
    "We know that $D = \\text{diag}(−1, 1, 1, ....)$, so $D^{\\alpha_{ij}} = \\text{diag}(c, 1, 1...)$, where $c$ is a complex number. \n",
    "\n",
    "This representation will avoid having problems with the inverse, as $$\\left(P = \\prod_{i,j: i < j} P_{ij}^{\\alpha_{ij}}\\right)^{-1} = \\prod_{i,j: i < j} \\left(P_{ij}^{\\alpha_{ij}}\\right)^{-1}.$$\n",
    "Now, for $\\alpha_{ij} \\in \\{0, 1\\}$, the inverse is simply\n",
    "$$\\left(P_{ij}^{\\alpha_{ij}}\\right)^{-1} = \\left(P_{ij}^{\\alpha_{ij}}\\right)^T = P_{ij}^{\\alpha_{ij}},$$\n",
    "which in fact is swapping $\\textit{column}$ $i$ and $j$, rather than row $i$ and $j$.\n",
    "Now, for $\\alpha_{ij} \\in \\mathbb{R}$, the inverse is slightly more involved, but still doable.\n",
    "$$A^\\beta = e^{\\beta \\ln(A)} = \\sum_{k=0}^\\infty\\frac{1}{k!}\\left(\\beta \\ln(A)\\right)^k.$$"
   ]
  },
  {
   "cell_type": "code",
   "execution_count": 84,
   "id": "81741ddb",
   "metadata": {},
   "outputs": [
    {
     "name": "stdout",
     "output_type": "stream",
     "text": [
      "P:\n",
      " [[1. 0. 0. 0. 0.]\n",
      " [0. 0. 0. 0. 1.]\n",
      " [0. 0. 1. 0. 0.]\n",
      " [0. 0. 0. 1. 0.]\n",
      " [0. 1. 0. 0. 0.]]\n",
      "P^T:\n",
      " [[1. 0. 0. 0. 0.]\n",
      " [0. 0. 0. 0. 1.]\n",
      " [0. 0. 1. 0. 0.]\n",
      " [0. 0. 0. 1. 0.]\n",
      " [0. 1. 0. 0. 0.]]\n",
      "P^-1:\n",
      " [[1. 0. 0. 0. 0.]\n",
      " [0. 0. 0. 0. 1.]\n",
      " [0. 0. 1. 0. 0.]\n",
      " [0. 0. 0. 1. 0.]\n",
      " [0. 1. 0. 0. 0.]]\n"
     ]
    }
   ],
   "source": [
    "# dimension\n",
    "n = 5\n",
    "\n",
    "# permutation matrix\n",
    "P = np.identity(n)\n",
    "\n",
    "# get the two rows to swap\n",
    "i, j = np.random.choice(n, 2, replace = False)\n",
    "\n",
    "# swap row i and row j\n",
    "P[[i, j]] = P[[j, i]]\n",
    "\n",
    "# print P\n",
    "print(\"P:\\n\", P)\n",
    "\n",
    "print(\"P^T:\\n\", P.T)\n",
    "\n",
    "print(\"P^-1:\\n\", lg.inv(P))"
   ]
  },
  {
   "cell_type": "markdown",
   "id": "ecbdefaa",
   "metadata": {},
   "source": [
    "### Decompositions\n",
    "#### Eigendecomposition\n",
    "Since we know that we only permute two rows, we know that the eigenvalues are $\\lambda_1 = -1, \\lambda_i = 1, i = 1, \\cdots, n.$ Hence, there is an eigendecomposition\n",
    "$$P^{\\alpha_{ij}}_{ij} = U \\Lambda U^T,$$\n",
    "where $$\\Lambda = \\text{diag}\\left(-1, 1, \\ldots, 1\\right).$$"
   ]
  },
  {
   "cell_type": "code",
   "execution_count": 88,
   "id": "6cfdd768",
   "metadata": {},
   "outputs": [
    {
     "name": "stdout",
     "output_type": "stream",
     "text": [
      "lambda: 1.0 eigenvector: [0.         0.70710678 0.         0.         0.70710678]\n",
      "lambda: -1.0 eigenvector: [ 0.          0.70710678  0.          0.         -0.70710678]\n",
      "lambda: 1.0 eigenvector: [1. 0. 0. 0. 0.]\n",
      "lambda: 1.0 eigenvector: [0. 0. 1. 0. 0.]\n",
      "lambda: 1.0 eigenvector: [0. 0. 0. 1. 0.]\n",
      "\n",
      "ULUT:\n",
      " [[1. 0. 0. 0. 0.]\n",
      " [0. 0. 0. 0. 1.]\n",
      " [0. 0. 1. 0. 0.]\n",
      " [0. 0. 0. 1. 0.]\n",
      " [0. 1. 0. 0. 0.]]\n"
     ]
    }
   ],
   "source": [
    "# get eigenvectors, eigenvalues\n",
    "evls, evcs = lg.eig(P)\n",
    "\n",
    "# print eigenvalues, eigenvectors\n",
    "for evl, evc in zip(evls, evcs.T):\n",
    "    print(\"lambda:\", evl, \"eigenvector:\", np.round(evc, 2))\n",
    "\n",
    "# print results\n",
    "print(\"\\nULUT:\\n\", evcs @ np.diag(evls) @ evcs.T)"
   ]
  },
  {
   "cell_type": "code",
   "execution_count": 87,
   "id": "d81de7f1",
   "metadata": {},
   "outputs": [
    {
     "name": "stdout",
     "output_type": "stream",
     "text": [
      "Eigenvectors:\n",
      " [[ 0.    0.    1.    0.    0.  ]\n",
      " [ 0.71  0.71  0.    0.    0.  ]\n",
      " [ 0.    0.    0.    1.    0.  ]\n",
      " [ 0.    0.    0.    0.    1.  ]\n",
      " [ 0.71 -0.71  0.    0.    0.  ]]\n",
      "\n",
      "Transpose:\n",
      " [[ 0.    0.71  0.    0.    0.71]\n",
      " [ 0.    0.71  0.    0.   -0.71]\n",
      " [ 1.    0.    0.    0.    0.  ]\n",
      " [ 0.    0.    1.    0.    0.  ]\n",
      " [ 0.    0.    0.    1.    0.  ]]\n",
      "\n",
      "Inverse:\n",
      " [[ 0.    0.71  0.    0.    0.71]\n",
      " [-0.    0.71 -0.   -0.   -0.71]\n",
      " [ 1.    0.    0.    0.    0.  ]\n",
      " [ 0.    0.    1.    0.    0.  ]\n",
      " [ 0.    0.    0.    1.    0.  ]]\n"
     ]
    }
   ],
   "source": [
    "print(\"Eigenvectors:\\n\", np.round(evcs, 2))\n",
    "print(\"\\nTranspose:\\n\", np.round(evcs.T, 2))\n",
    "print(\"\\nInverse:\\n\", np.round(lg.inv(evcs), 2))"
   ]
  },
  {
   "cell_type": "code",
   "execution_count": 62,
   "id": "7067ab2f",
   "metadata": {},
   "outputs": [
    {
     "name": "stdout",
     "output_type": "stream",
     "text": [
      "PU:\n",
      " [[ 0.71  0.71  0.  ]\n",
      " [ 0.    0.    1.  ]\n",
      " [ 0.71 -0.71  0.  ]]\n",
      "\n",
      "lambda U:\n",
      " [[ 0.71  0.71  0.  ]\n",
      " [ 0.   -0.    1.  ]\n",
      " [ 0.71 -0.71  0.  ]]\n"
     ]
    }
   ],
   "source": [
    "print(\"PU:\\n\", np.round(P @ evcs, 2))\n",
    "\n",
    "print(\"\\nlambda U:\\n\", np.round(evls * evcs, 2))"
   ]
  },
  {
   "cell_type": "code",
   "execution_count": 7,
   "id": "0f7d6e28",
   "metadata": {},
   "outputs": [
    {
     "name": "stdout",
     "output_type": "stream",
     "text": [
      "[[1.        +0.j         0.        +0.j         0.        +0.j        ]\n",
      " [0.        +0.j         0.14644661-0.35355339j 0.85355339+0.35355339j]\n",
      " [0.        +0.j         0.85355339+0.35355339j 0.14644661-0.35355339j]]\n",
      "LU:\n",
      " [[ 1. -0. -0.]\n",
      " [ 0.  1.  0.]\n",
      " [ 0.  0.  1.]]\n",
      "D:\n",
      " [[1. 0. 0.]\n",
      " [0. 0. 1.]\n",
      " [0. 1. 0.]]\n",
      "perm:\n",
      " [0 1 2]\n"
     ]
    }
   ],
   "source": [
    "P = np.array([[1, 0, 0], [0, 0, 1], [0, 1, 0]])\n",
    "P_pow = sci.fractional_matrix_power(P, 1.25)\n",
    "print(P_pow)\n",
    "\n",
    "lu, d, perm = sci.ldl(P, lower = 0)\n",
    "print(\"LU:\\n\", lu[perm, :])\n",
    "print(\"D:\\n\", d)\n",
    "print(\"perm:\\n\", perm)"
   ]
  },
  {
   "cell_type": "code",
   "execution_count": 8,
   "id": "fc403098",
   "metadata": {},
   "outputs": [
    {
     "name": "stdout",
     "output_type": "stream",
     "text": [
      "[[1 0 0]\n",
      " [0 0 1]\n",
      " [0 1 0]]\n",
      "[[1 0 0]\n",
      " [0 0 1]\n",
      " [0 1 0]]\n",
      "[[ 1. -0. -0.]\n",
      " [ 0. -0.  1.]\n",
      " [ 0.  1.  0.]]\n",
      "[[1. 0. 0.]\n",
      " [0. 1. 0.]\n",
      " [0. 0. 1.]]\n"
     ]
    }
   ],
   "source": [
    "\n",
    "\n",
    "\n"
   ]
  },
  {
   "cell_type": "code",
   "execution_count": 9,
   "id": "3d11ee2e",
   "metadata": {},
   "outputs": [
    {
     "name": "stdout",
     "output_type": "stream",
     "text": [
      "[[-1  0  0]\n",
      " [ 0  1  0]\n",
      " [ 0  0  1]]\n",
      "[[0.70710678-0.70710678j 0.        +0.j         0.        +0.j        ]\n",
      " [0.        +0.j         1.        +0.j         0.        +0.j        ]\n",
      " [0.        +0.j         0.        +0.j         1.        +0.j        ]]\n"
     ]
    }
   ],
   "source": [
    "D = np.diag((-1, 1, 1))\n",
    "print(D)\n",
    "print(sci.fractional_matrix_power(D, 1.75))"
   ]
  },
  {
   "cell_type": "code",
   "execution_count": 192,
   "id": "c04aa1a8",
   "metadata": {},
   "outputs": [],
   "source": [
    "def get_evcs(n, i, j):\n",
    "    c = 0.5 * np.sqrt(2)\n",
    "                      \n",
    "    U = np.identity(n)\n",
    "    \n",
    "    Lambda = np.ones(n)\n",
    "    Lambda[j - 1] = -1\n",
    "    Lambda = np.diag(Lambda)\n",
    "\n",
    "    row_i = np.zeros(n)\n",
    "    row_i[i - 1], row_i[j - 1] = c, c\n",
    "    U[j - 1] = row_i\n",
    "    \n",
    "    row_j = row_i\n",
    "    row_j[j - 1] *= -1\n",
    "    U[i - 1] = row_j\n",
    "    \n",
    "    return U, Lambda"
   ]
  },
  {
   "cell_type": "code",
   "execution_count": 202,
   "id": "87875563",
   "metadata": {},
   "outputs": [
    {
     "name": "stdout",
     "output_type": "stream",
     "text": [
      "[[ 0.70710678  0.         -0.70710678]\n",
      " [ 0.          1.          0.        ]\n",
      " [ 0.70710678  0.          0.70710678]] [[ 1.  0.  0.]\n",
      " [ 0.  1.  0.]\n",
      " [ 0.  0. -1.]]\n",
      "[[0. 0. 1.]\n",
      " [0. 1. 0.]\n",
      " [1. 0. 0.]]\n"
     ]
    }
   ],
   "source": [
    "U, Lambda = get_evcs(3, 1, 3)\n",
    "print(U, Lambda)\n",
    "\n",
    "print(np.round(U @ Lambda @ U.T))"
   ]
  },
  {
   "cell_type": "markdown",
   "id": "167f42d4",
   "metadata": {},
   "source": [
    "### How does $P_{ij}^{\\alpha_{ij}}$ look?\n",
    "We know that it is a permutation matrix, in fact, the identity matrix with row $i$ and row $j$ swapped. This means that for $\\alpha_{ij} \\in \\{0, 1\\}$, the inverse of $$\\left(P_{ij}^{\\alpha_{ij}}\\right)^{-1} = \\left(P_{ij}^{\\alpha_{ij}}\\right)^T = P_{ij}^{\\alpha_{ij}}.$$\n",
    "\n",
    "We know that the eigenvalues, for $\\alpha_{ij} = 1$ are \n",
    "$$\\mathbf{\\lambda} = \\left(1,\\ldots, 1, \\underbrace{-1}_{\\text{index} j}, 1, \\ldots, 1\\right),$$\n",
    "where the eigenvectors are"
   ]
  },
  {
   "cell_type": "markdown",
   "id": "f8348db4",
   "metadata": {},
   "source": [
    "$$\\mathbf{u}_k = \\begin{cases} e_k & \\text{if $k \\neq i$ and $k \\neq j$}\\\\ \\frac{1}{2}\\sqrt{2} \\left(e_i + e_j\\right) & \\text{if $k = i$} \\\\ \\frac{1}{2}\\sqrt{2} \\left(e_i - e_j\\right) & \\text{if $k = j$} \\end{cases}.$$\n",
    "We can of course swap rows of $U$, as long as we also swap the entries of $\\lambda$ as well. "
   ]
  },
  {
   "cell_type": "code",
   "execution_count": 209,
   "id": "f1898e76",
   "metadata": {},
   "outputs": [
    {
     "name": "stdout",
     "output_type": "stream",
     "text": [
      "P:\n",
      " [[0. 1. 0.]\n",
      " [1. 0. 0.]\n",
      " [0. 0. 1.]]\n",
      "0 1\n"
     ]
    }
   ],
   "source": [
    "# dimension\n",
    "n = 3\n",
    "\n",
    "# permutation matrix\n",
    "P = np.identity(n)\n",
    "\n",
    "# get the two rows to swap\n",
    "i, j = np.random.choice(n, 2, replace = False)\n",
    "\n",
    "# swap row i and row j\n",
    "P[[i, j]] = P[[j, i]]\n",
    "\n",
    "# print P\n",
    "print(\"P:\\n\", P)"
   ]
  },
  {
   "cell_type": "code",
   "execution_count": 249,
   "id": "55fdc6f1",
   "metadata": {},
   "outputs": [
    {
     "name": "stdout",
     "output_type": "stream",
     "text": [
      "[[ 1.        +0.j          0.        +0.j          0.        +0.j        ]\n",
      " [ 0.        +0.j         -0.58778525-0.80901699j  0.        +0.j        ]\n",
      " [ 0.        +0.j          0.        +0.j          1.        +0.j        ]]\n"
     ]
    }
   ],
   "source": [
    "print(sci.fractional_matrix_power(Lambda, 1.3))"
   ]
  },
  {
   "cell_type": "code",
   "execution_count": 203,
   "id": "9fd2f3f9",
   "metadata": {},
   "outputs": [],
   "source": [
    "U, Lambda = get_evcs(n, i, j)"
   ]
  },
  {
   "cell_type": "code",
   "execution_count": 213,
   "id": "00600af9",
   "metadata": {},
   "outputs": [
    {
     "name": "stdout",
     "output_type": "stream",
     "text": [
      "[[ 0.70710678 -0.70710678  0.        ]\n",
      " [ 0.70710678  0.70710678  0.        ]\n",
      " [ 0.          0.          1.        ]] [[ 1.  0.  0.]\n",
      " [ 0. -1.  0.]\n",
      " [ 0.  0.  1.]]\n",
      "[[0. 1. 0.]\n",
      " [1. 0. 0.]\n",
      " [0. 0. 1.]]\n",
      "[[0.85355339-0.35355339j 0.14644661+0.35355339j 0.        +0.j        ]\n",
      " [0.14644661+0.35355339j 0.85355339-0.35355339j 0.        +0.j        ]\n",
      " [0.        +0.j         0.        +0.j         1.        +0.j        ]]\n"
     ]
    }
   ],
   "source": [
    "U, Lambda = get_evcs(n, i + 1, j + 1)\n",
    "print(U, Lambda)\n",
    "\n",
    "print(np.round(U @ Lambda @ U.T))\n",
    "print(U @ sci.fractional_matrix_power(Lambda, power) @ U.T)"
   ]
  },
  {
   "cell_type": "code",
   "execution_count": 247,
   "id": "e6d2f8e0",
   "metadata": {},
   "outputs": [
    {
     "name": "stdout",
     "output_type": "stream",
     "text": [
      "[[0.20610737-0.4045085j 0.79389263+0.4045085j 0.        +0.j       ]\n",
      " [0.79389263+0.4045085j 0.20610737-0.4045085j 0.        +0.j       ]\n",
      " [0.        +0.j        0.        +0.j        1.        +0.j       ]]\n"
     ]
    }
   ],
   "source": [
    "power = 1.3\n",
    "\n",
    "P_power = \n"
   ]
  },
  {
   "cell_type": "markdown",
   "id": "4ed4288d",
   "metadata": {},
   "source": [
    "Now letting $\\alpha_{ij} \\in \\mathbb{R}$, we get that \n",
    "$$P_{ij}^{\\alpha_{ij}} = U \\Lambda^{\\alpha_{ij}} U^T.$$\n",
    "Now, $$\\Lambda^{\\alpha_{ij}} = \\text{diag}\\left(1,\\ldots, 1, \\underbrace{-1^{\\alpha_{ij}}}_{\\text{index} j}, 1, \\ldots, 1\\right),$$\n",
    "where $$-1^{\\alpha_{ij}} = \\cos (\\pi \\alpha) + i \\sin(\\pi \\alpha)$$"
   ]
  },
  {
   "cell_type": "code",
   "execution_count": 256,
   "id": "b4858bc4",
   "metadata": {},
   "outputs": [
    {
     "name": "stdout",
     "output_type": "stream",
     "text": [
      "[[0.97552826-0.1545085j 0.02447174+0.1545085j 0.        +0.j       ]\n",
      " [0.02447174+0.1545085j 0.97552826-0.1545085j 0.        +0.j       ]\n",
      " [0.        +0.j        0.        +0.j        1.        +0.j       ]]\n",
      "[[ 0.97552827-0.1545085j -0.02447173-0.1545085j  0.        +0.j       ]\n",
      " [-0.02447173-0.1545085j  0.97552827-0.1545085j  0.        +0.j       ]\n",
      " [ 0.        +0.j         0.        +0.j         1.        +0.j       ]]\n"
     ]
    }
   ],
   "source": [
    "def P_aij(alpha):\n",
    "    i, j = 1, 2\n",
    "    U, Lambda = get_evcs(n, i, j)\n",
    "    Lambda = Lambda.astype('csingle')\n",
    "    Lambda[j - 1][j - 1] = (np.cos(np.pi * alpha) + 1j * np.sin(np.pi * alpha))\n",
    "    \n",
    "    print(U.T @ Lambda @ U)\n",
    "\n",
    "alpha = 1.9\n",
    "print(sci.fractional_matrix_power(P, alpha))\n",
    "P_aij(alpha)"
   ]
  },
  {
   "cell_type": "code",
   "execution_count": null,
   "id": "bc29df08",
   "metadata": {},
   "outputs": [],
   "source": [
    "def P_aij(alpha):\n",
    "    i, j = 1, 2\n",
    "    U, Lambda = get_evcs(n, i, j)\n",
    "    Lambda = Lambda.astype('csingle')\n",
    "    Lambda[j - 1][j - 1] = (np.cos(np.pi * alpha) + 1j * np.sin(np.pi * alpha))\n",
    "    \n",
    "    print(U.T @ Lambda @ U)\n",
    "\n",
    "alpha = 1.9\n",
    "print(sci.fractional_matrix_power(P, alpha))\n",
    "P_aij(alpha)"
   ]
  },
  {
   "cell_type": "markdown",
   "id": "62343240",
   "metadata": {},
   "source": [
    "# 3D example of $P$\n",
    "Let us consider the matrix \n",
    "$$P = \\begin{pmatrix}0 & 1 & 0 \\\\ 0 & 0 & 1 \\\\ 1 & 0 & 0\\end{pmatrix}.$$\n",
    "This can be achieved by finding the parameters\n",
    "$$a_{12} = 0, a_{13} = 1, a_{23} = 1,$$\n",
    "yielding\n",
    "$$\\begin{align*}P_{12}^1 P_{13}^0 P_{23}^1 &= \\begin{pmatrix}0 & 1 & 0 \\\\ 1 & 0 & 0 \\\\ 0 & 0 & 1\\end{pmatrix}^0 \\begin{pmatrix}0 & 0 & 1 \\\\ 0 & 1 & 0 \\\\ 1 & 0 & 0\\end{pmatrix}^1 \\begin{pmatrix}1 & 0 & 0 \\\\ 0 & 0 & 1 \\\\ 0 & 1 & 0\\end{pmatrix}^1\\\\ &= \\begin{pmatrix}0 & 0 & 1 \\\\ 0 & 1 & 0 \\\\ 1 & 0 & 0\\end{pmatrix}\\begin{pmatrix}1 & 0 & 0 \\\\ 0 & 0 & 1 \\\\ 0 & 1 & 0\\end{pmatrix} \\\\ &= \\begin{pmatrix}0 & 1 & 0 \\\\ 0 & 0 & 1 \\\\ 1 & 0 & 0\\end{pmatrix} = P.\\end{align*}$$"
   ]
  },
  {
   "cell_type": "code",
   "execution_count": 314,
   "id": "3ec9d6e3",
   "metadata": {},
   "outputs": [],
   "source": [
    "def compute_P_alpha_ij(n, i, j, alpha):\n",
    "    \"Returns an indentity matrix with row i and j swapped\"\n",
    "        \n",
    "    P = np.identity(n)\n",
    "    # swap row i and row j\n",
    "    P[[i - 1, j - 1]] = P[[j - 1, i - 1]]\n",
    "    \n",
    "    return sci.fractional_matrix_power(P, alpha)"
   ]
  },
  {
   "cell_type": "code",
   "execution_count": 547,
   "id": "1507e8f0",
   "metadata": {},
   "outputs": [
    {
     "name": "stdout",
     "output_type": "stream",
     "text": [
      "[[0.79389263+0.4045085j 0.20610737-0.4045085j 0.        +0.j       ]\n",
      " [0.20610737-0.4045085j 0.79389263+0.4045085j 0.        +0.j       ]\n",
      " [0.        +0.j        0.        +0.j        1.        +0.j       ]]\n",
      "[[0.79389263-0.4045085j 0.20610737+0.4045085j 0.        +0.j       ]\n",
      " [0.20610737+0.4045085j 0.79389263-0.4045085j 0.        +0.j       ]\n",
      " [0.        +0.j        0.        +0.j        1.        +0.j       ]]\n"
     ]
    }
   ],
   "source": [
    "print(compute_P_alpha_ij(3, 1, 2, 0.3))\n",
    "print(lg.inv(compute_P_alpha_ij(3, 1, 2, 0.3)))"
   ]
  },
  {
   "cell_type": "code",
   "execution_count": 317,
   "id": "c491778f",
   "metadata": {},
   "outputs": [
    {
     "name": "stdout",
     "output_type": "stream",
     "text": [
      "[[0. 1. 0.]\n",
      " [0. 0. 1.]\n",
      " [1. 0. 0.]]\n"
     ]
    }
   ],
   "source": [
    "print(compute_P_alpha_ij(n, 1, 3, 1) @ compute_P_alpha_ij(n, 2, 3, 1))"
   ]
  },
  {
   "cell_type": "markdown",
   "id": "90152335",
   "metadata": {},
   "source": [
    "### Inverse of P\n",
    "As $P$ is a permutation matrix, we know that\n",
    "$$P^{-1} = P^T.$$\n",
    "Luckily, we also have an easy way to rewrite this in terms of $P_{ij}^{\\alpha_{ij}}$, namely\n",
    "$$P^T = \\left(\\prod_{i = 1,j = 1: i < j}^n P_{ij}^{\\alpha_{ij}}\\right)^{T} = \\left(\\prod_{i = n,j = n: i < j}^1 P_{ij}^{\\alpha_{ij}}\\right).$$\n",
    "In other words, we reverse the order of multiplication."
   ]
  },
  {
   "cell_type": "code",
   "execution_count": 287,
   "id": "347507a8",
   "metadata": {},
   "outputs": [
    {
     "name": "stdout",
     "output_type": "stream",
     "text": [
      "[[0. 0. 1.]\n",
      " [1. 0. 0.]\n",
      " [0. 1. 0.]]\n",
      "[[0. 1. 0.]\n",
      " [1. 0. 0.]\n",
      " [0. 0. 1.]]\n"
     ]
    }
   ],
   "source": [
    "print(compute_P_alpha_ij(n, 2, 3) @ compute_P_alpha_ij(n, 1, 3))\n",
    "print(compute_P_alpha_ij(n, 1, 2))"
   ]
  },
  {
   "cell_type": "markdown",
   "id": "e00618cd",
   "metadata": {},
   "source": [
    "## Learning the parameters $\\alpha_{ij}$\n",
    "We are now interested in learning the ${n \\choose 2}$ parameters $\\alpha_{ij}$. We propose to do this by gradient descent. For this, we first need the cost function, which is the well-known\n",
    "$$C(P, A) = \\lVert \\mathbf{X}_{[1:T]} - X_{[0:T-1]} P^{-1}AP\\rVert_2^2.$$\n",
    "\n",
    "For a given permutation $A$, we define\n",
    "$$C(P) = \\underset{A \\text{ lower triangular}}{\\arg \\min} C(A, P),$$\n",
    "which can easily be derived, as there is a closed form least squares solution.\n",
    "### Derivative of $P_{ij}^{\\alpha_{ij}}$\n",
    "$$\\frac{\\partial P_{ij}^{\\alpha_{ij}}}{\\partial \\alpha_{ij}} = U \\left(\\frac{\\partial \\Lambda^{\\alpha_{ij}}}{\\partial \\alpha_{ij}} \\right) U^T`,$$\n",
    "where $$\\frac{\\partial \\Lambda^{\\alpha_{ij}}}{\\partial \\alpha_{ij}} = \\text{diag}\\left(0,\\ldots, 0, \\underbrace{-\\pi \\sin(\\pi \\alpha_{ij}) + i\\pi cos(\\pi \\alpha_{ij})}_{\\text{index} j}, 0, \\ldots, 0\\right)$$"
   ]
  },
  {
   "cell_type": "code",
   "execution_count": 321,
   "id": "7bb567c8",
   "metadata": {},
   "outputs": [
    {
     "data": {
      "text/plain": [
       "array([[1., 0., 0.],\n",
       "       [0., 0., 1.],\n",
       "       [0., 1., 0.]])"
      ]
     },
     "execution_count": 321,
     "metadata": {},
     "output_type": "execute_result"
    }
   ],
   "source": [
    "def compute_P_pos_alphas(n, alphas):\n",
    "    \"\"\"Compute P\n",
    "    @params n: the dimension number n\n",
    "    @params alphas: list of all the i, j values that are 1\n",
    "    \"\"\"\n",
    "    \n",
    "    P = np.identity(n)\n",
    "    \n",
    "    for alpha in alphas:\n",
    "        P = P @ compute_P_alpha_ij(n, alpha[0], alpha[1], 1)\n",
    "        \n",
    "    return P\n",
    "\n",
    "def compute_P_alpha_coefs(n, alpha_coefs):\n",
    "    \"\"\"Compute P\n",
    "    @params n: the dimension number n\n",
    "    @params alpha_coefs: list of the n choose 2 coefficients corresponding to the alphas_ij\n",
    "    \"\"\"\n",
    "    \n",
    "    P = np.identity(n)\n",
    "    \n",
    "    param = 0\n",
    "    for i in range(n):\n",
    "        for j in range(i + 1, n):\n",
    "            \n",
    "            if alpha_coefs[param] != 0:\n",
    "                P = P @ compute_P_alpha_ij(n, i + 1, j + 1, alpha_coefs[param])\n",
    "            \n",
    "            param += 1\n",
    "            \n",
    "    return P\n",
    "\n",
    "compute_P_pos_alphas(n, [[2, 3], [1, 3]])\n",
    "compute_P_alpha_coefs(3, [0, 0, 1])"
   ]
  },
  {
   "cell_type": "code",
   "execution_count": 560,
   "id": "318b6908",
   "metadata": {},
   "outputs": [
    {
     "name": "stdout",
     "output_type": "stream",
     "text": [
      "[[ 0.  -0.5j   0.5 +0.j    0.5 +0.5j ]\n",
      " [ 0.75+0.25j -0.25-0.25j  0.5 +0.j  ]\n",
      " [ 0.25+0.25j  0.75+0.25j  0.  -0.5j ]]\n",
      "[[ 0.  -0.5j   0.5 +0.j    0.5 +0.5j ]\n",
      " [ 0.75+0.25j -0.25-0.25j  0.5 +0.j  ]\n",
      " [ 0.25+0.25j  0.75+0.25j  0.  -0.5j ]]\n"
     ]
    }
   ],
   "source": [
    "print(np.round(lg.inv(compute_P_alpha_coefs(3, [0.5, 0.5, 0.5])), 2))\n",
    "print(np.conj(compute_P_alpha_ij(3, 2, 3, 0.5)) @ np.conj(compute_P_alpha_ij(3, 1, 3, 0.5)) @ np.conj(compute_P_alpha_ij(3, 1, 2, 0.5)))"
   ]
  },
  {
   "cell_type": "code",
   "execution_count": 486,
   "id": "679b1a5c",
   "metadata": {},
   "outputs": [
    {
     "name": "stdout",
     "output_type": "stream",
     "text": [
      "A:\n",
      "[[0.69 0.  ]\n",
      " [0.73 0.73]]\n",
      "\n",
      "P:\n",
      "[[0. 1.]\n",
      " [1. 0.]].\n",
      "\n",
      "W:\n",
      "[[0.73 0.73]\n",
      " [0.   0.69]].\n",
      "\n",
      "\n"
     ]
    },
    {
     "data": {
      "image/png": "[encoded data removed]",
      "text/plain": [
       "<Figure size 432x288 with 1 Axes>"
      ]
     },
     "metadata": {
      "needs_background": "light"
     },
     "output_type": "display_data"
    }
   ],
   "source": [
    "## Number of dimensions, number of edges, number of samples\n",
    "T, n, s = 100, 2, 3\n",
    "\n",
    "## Coefficient matrix\n",
    "A_true = h.generate_A(n, s, high = 0.75)\n",
    "\n",
    "## True permutation\n",
    "P_true = np.random.permutation(np.identity(n))\n",
    "\n",
    "## Generate series\n",
    "X = h.generate_var_2(T, n, A_true, P_true)\n",
    "plt.plot(X);\n",
    "\n",
    "print(f\"A:\\n{np.round(A_true, 2)}\\n\\nP:\\n{P_true}.\\n\")\n",
    "\n",
    "print(f\"W:\\n{np.round(P_true.T @ A_true @ P_true, 2)}.\\n\\n\")"
   ]
  },
  {
   "cell_type": "code",
   "execution_count": 492,
   "id": "1e48dd8b",
   "metadata": {},
   "outputs": [],
   "source": [
    "def C(P, A, l_complex = 0):\n",
    "    \n",
    "    # Get prediction data\n",
    "    M = X @ P.T @ A @ P\n",
    "    \n",
    "    # Remove X[0] and XW[last]\n",
    "    R = X[1:] - M[:-1]\n",
    "    \n",
    "    # Frobenius norm squared loss\n",
    "    loss = 1 / X[1:].shape[0] * (R ** 2).sum()\n",
    "    \n",
    "    # Return loss\n",
    "    return loss .real + l_complex * np.abs(loss.imag)"
   ]
  },
  {
   "cell_type": "code",
   "execution_count": 507,
   "id": "6022da50",
   "metadata": {},
   "outputs": [
    {
     "name": "stdout",
     "output_type": "stream",
     "text": [
      "-14.189431229225438\n",
      "2.1847350931343827\n"
     ]
    }
   ],
   "source": [
    "print(C(P_true + 0.90j, A_true))\n",
    "print(C(P_true, A_true))"
   ]
  },
  {
   "cell_type": "code",
   "execution_count": 502,
   "id": "0681f352",
   "metadata": {},
   "outputs": [
    {
     "name": "stdout",
     "output_type": "stream",
     "text": [
      "[[0.97552826+0.1545085j 0.02447174-0.1545085j]\n",
      " [0.02447174-0.1545085j 0.97552826+0.1545085j]]\n",
      "1.2391825542224513\n"
     ]
    }
   ],
   "source": [
    "print(compute_P_alpha_coefs(2, [0.1]))\n",
    "print(C(compute_P_alpha_coefs(2, [1.3]), A_true)) "
   ]
  },
  {
   "cell_type": "markdown",
   "id": "473ab2f0",
   "metadata": {},
   "source": [
    "### Conclusion\n",
    "We see that when we extend P to the complex domain, we can attain values lower than the optimal loss, which means that something goes wrong here. The only approach is to penalize complex values. However, we do not want to penalize too heavily as then we can never use the complex plane to retrieve good solutions.\n",
    "\n",
    "However, as the complex value can be negative, we need to make sure we either square it or take the absolute value to make sure the penalization is indeed a penalization and not a subtraction of the loss."
   ]
  },
  {
   "cell_type": "code",
   "execution_count": 510,
   "id": "ff9b1029",
   "metadata": {},
   "outputs": [
    {
     "name": "stdout",
     "output_type": "stream",
     "text": [
      "95.92276044673078\n",
      "2.1847350931343827\n"
     ]
    }
   ],
   "source": [
    "print(C(compute_P_alpha_coefs(2, [0.1]), A_true, l_complex = 1e2)) \n",
    "print(C(compute_P_alpha_coefs(2, [1]), A_true))"
   ]
  },
  {
   "cell_type": "code",
   "execution_count": 504,
   "id": "45b7b41d",
   "metadata": {},
   "outputs": [],
   "source": [
    "from operator import add"
   ]
  },
  {
   "cell_type": "code",
   "execution_count": 531,
   "id": "b897bacd",
   "metadata": {},
   "outputs": [
    {
     "data": {
      "image/png": "[encoded data removed]",
      "text/plain": [
       "<Figure size 432x288 with 1 Axes>"
      ]
     },
     "metadata": {
      "needs_background": "light"
     },
     "output_type": "display_data"
    },
    {
     "data": {
      "image/png": "[encoded data removed]",
      "text/plain": [
       "<Figure size 432x288 with 1 Axes>"
      ]
     },
     "metadata": {
      "needs_background": "light"
     },
     "output_type": "display_data"
    },
    {
     "data": {
      "image/png": "[encoded data removed]",
      "text/plain": [
       "<Figure size 432x288 with 1 Axes>"
      ]
     },
     "metadata": {
      "needs_background": "light"
     },
     "output_type": "display_data"
    },
    {
     "data": {
      "image/png": "[encoded data removed]",
      "text/plain": [
       "<Figure size 432x288 with 1 Axes>"
      ]
     },
     "metadata": {
      "needs_background": "light"
     },
     "output_type": "display_data"
    },
    {
     "data": {
      "image/png": "[encoded data removed]",
      "text/plain": [
       "<Figure size 432x288 with 1 Axes>"
      ]
     },
     "metadata": {
      "needs_background": "light"
     },
     "output_type": "display_data"
    },
    {
     "data": {
      "image/png": "[encoded data removed]",
      "text/plain": [
       "<Figure size 432x288 with 1 Axes>"
      ]
     },
     "metadata": {
      "needs_background": "light"
     },
     "output_type": "display_data"
    }
   ],
   "source": [
    "alpha_list = np.linspace(0.0, 2.0, 100)\n",
    "\n",
    "results = [[], [], [], []]\n",
    "for alpha in alpha_list:\n",
    "    results[0].append(compute_P_alpha_coefs(2, [alpha])[0][0])\n",
    "    results[1].append(compute_P_alpha_coefs(2, [alpha])[0][1])\n",
    "\n",
    "    results[2].append(C(compute_P_alpha_coefs(2, [alpha]), A_true)) \n",
    "    results[3].append(C(compute_P_alpha_coefs(2, [alpha]), A_true, l_complex = 2.70)) \n",
    "    \n",
    "# extract real part\n",
    "x1 = [ele.real for ele in results[0]]\n",
    "# extract imaginary part\n",
    "y1 = [ele.imag for ele in results[0]]\n",
    "  \n",
    "# plot the complex numbers\n",
    "plt.plot(x1, y1, '-o')\n",
    "plt.ylabel('Imaginary')\n",
    "plt.xlabel('Real')\n",
    "plt.show()\n",
    "\n",
    "# extract real part\n",
    "x2 = [ele.real for ele in results[1]]\n",
    "# extract imaginary part\n",
    "y2 = [ele.imag for ele in results[1]]\n",
    "  \n",
    "# plot the complex numbers\n",
    "plt.plot(x2, y2, '-o')\n",
    "plt.ylabel('Imaginary')\n",
    "plt.xlabel('Real')\n",
    "plt.show()\n",
    "\n",
    "# plot the complex numbers\n",
    "\n",
    "x3 = list(map(add, x1, x2))\n",
    "y3 = list(map(add, y1, y2))\n",
    "\n",
    "plt.plot(x3, y3, '-o')\n",
    "plt.ylabel('Imaginary')\n",
    "plt.xlabel('Real')\n",
    "plt.show()\n",
    "\n",
    "plt.plot(np.abs(list(map(add, results[0], results[1]))))\n",
    "plt.show()\n",
    "\n",
    "plt.plot(alpha_list, results[2])\n",
    "plt.show()\n",
    "\n",
    "plt.plot(alpha_list, results[3])\n",
    "plt.show()"
   ]
  },
  {
   "cell_type": "code",
   "execution_count": 542,
   "id": "53c04939",
   "metadata": {},
   "outputs": [
    {
     "data": {
      "image/png": "[encoded data removed]",
      "text/plain": [
       "<Figure size 432x288 with 1 Axes>"
      ]
     },
     "metadata": {
      "needs_background": "light"
     },
     "output_type": "display_data"
    }
   ],
   "source": [
    "import matplotlib.pyplot as plt\n",
    "import numpy as np\n",
    "import matplotlib.collections as mcoll\n",
    "import matplotlib.path as mpath\n",
    "\n",
    "def colorline(\n",
    "    x, y, z=None, cmap=plt.get_cmap('copper'), norm=plt.Normalize(0.0, 1.0),\n",
    "        linewidth=3, alpha=1.0):\n",
    "    \"\"\"\n",
    "    http://nbviewer.ipython.org/github/dpsanders/matplotlib-examples/blob/master/colorline.ipynb\n",
    "    http://matplotlib.org/examples/pylab_examples/multicolored_line.html\n",
    "    Plot a colored line with coordinates x and y\n",
    "    Optionally specify colors in the array z\n",
    "    Optionally specify a colormap, a norm function and a line width\n",
    "    \"\"\"\n",
    "\n",
    "    # Default colors equally spaced on [0,1]:\n",
    "    if z is None:\n",
    "        z = np.linspace(0.0, 1.0, len(x))\n",
    "\n",
    "    # Special case if a single number:\n",
    "    if not hasattr(z, \"__iter__\"):  # to check for numerical input -- this is a hack\n",
    "        z = np.array([z])\n",
    "\n",
    "    z = np.asarray(z)\n",
    "\n",
    "    segments = make_segments(x, y)\n",
    "    lc = mcoll.LineCollection(segments, array=z, cmap=cmap, norm=norm,\n",
    "                              linewidth=linewidth, alpha=alpha)\n",
    "\n",
    "    ax = plt.gca()\n",
    "    ax.add_collection(lc)\n",
    "\n",
    "    return lc\n",
    "\n",
    "\n",
    "def make_segments(x, y):\n",
    "    \"\"\"\n",
    "    Create list of line segments from x and y coordinates, in the correct format\n",
    "    for LineCollection: an array of the form numlines x (points per line) x 2 (x\n",
    "    and y) array\n",
    "    \"\"\"\n",
    "\n",
    "    points = np.array([x, y]).T.reshape(-1, 1, 2)\n",
    "    segments = np.concatenate([points[:-1], points[1:]], axis=1)\n",
    "    return segments\n",
    "\n",
    "\n",
    "fig, ax = plt.subplots()\n",
    "path = mpath.Path(np.column_stack([x1, y1]))\n",
    "verts = path.interpolated(steps=3).vertices\n",
    "x, y = verts[:, 0], verts[:, 1]\n",
    "z = np.linspace(0, 1, 350)\n",
    "colorline(x, y, z, cmap=plt.get_cmap('jet'), linewidth=2)\n",
    "plt.xlim(-0.05, 1.05)\n",
    "plt.ylim(-0.55, 0.55)\n",
    "plt.show()"
   ]
  },
  {
   "cell_type": "code",
   "execution_count": 543,
   "id": "aac0e916",
   "metadata": {},
   "outputs": [
    {
     "data": {
      "image/png": "[encoded data removed]",
      "text/plain": [
       "<Figure size 432x288 with 1 Axes>"
      ]
     },
     "metadata": {
      "needs_background": "light"
     },
     "output_type": "display_data"
    }
   ],
   "source": [
    "fig, ax = plt.subplots()\n",
    "path = mpath.Path(np.column_stack([x2, y2]))\n",
    "verts = path.interpolated(steps=3).vertices\n",
    "x, y = verts[:, 0], verts[:, 1]\n",
    "z = np.linspace(0, 1, 350)\n",
    "colorline(x, y, z, cmap=plt.get_cmap('jet'), linewidth=2)\n",
    "plt.xlim(-0.05, 1.05)\n",
    "plt.ylim(-0.55, 0.55)\n",
    "plt.show()"
   ]
  }
 ],
 "metadata": {
  "kernelspec": {
   "display_name": "Python 3.6.8 64-bit",
   "language": "python",
   "name": "python36864bit874e3a48d9b148faaa09714964fd179b"
  },
  "language_info": {
   "codemirror_mode": {
    "name": "ipython",
    "version": 3
   },
   "file_extension": ".py",
   "mimetype": "text/x-python",
   "name": "python",
   "nbconvert_exporter": "python",
   "pygments_lexer": "ipython3",
   "version": "3.6.8"
  }
 },
 "nbformat": 4,
 "nbformat_minor": 5
}
