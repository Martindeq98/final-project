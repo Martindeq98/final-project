{
 "cells": [
  {
   "cell_type": "markdown",
   "id": "3fba3822",
   "metadata": {},
   "source": [
    "# Investigating the $h(W)$ function"
   ]
  },
  {
   "cell_type": "code",
   "execution_count": 68,
   "id": "6dcc5ae7",
   "metadata": {},
   "outputs": [],
   "source": [
    "import numpy as np\n",
    "import scipy.linalg as slin"
   ]
  },
  {
   "cell_type": "code",
   "execution_count": 69,
   "id": "40306be7",
   "metadata": {},
   "outputs": [],
   "source": [
    "n = 3"
   ]
  },
  {
   "cell_type": "code",
   "execution_count": 71,
   "id": "61f5b829",
   "metadata": {},
   "outputs": [],
   "source": [
    "def h(W):\n",
    "    \"\"\"Evaluate value and gradient of acyclicity constraint, ALLOW self-loops.\"\"\"\n",
    "    \n",
    "    V = W * W-np.diag(np.diag(W * W))\n",
    "    E = slin.expm(V)  \n",
    "    h = np.trace(E) - np.shape(W)[0] \n",
    "    \n",
    "    G_h = E.T * V * 2 \n",
    "    return h, G_h\n",
    "\n",
    "def h_2(W):\n",
    "    \"\"\"Evaluate value and gradient of acyclicity constraint.\"\"\"\n",
    "    \n",
    "    V = W * W\n",
    "    E = slin.expm(V)  \n",
    "    h = np.trace(E) - np.shape(W)[0] \n",
    "    \n",
    "    G_h = E.T * V * 2\n",
    "    return h, G_h"
   ]
  },
  {
   "cell_type": "code",
   "execution_count": 72,
   "id": "de64b70f",
   "metadata": {},
   "outputs": [
    {
     "name": "stdout",
     "output_type": "stream",
     "text": [
      "[[0. 0. 0.]\n",
      " [0. 0. 0.]\n",
      " [0. 0. 0.]]\n",
      "0.0 , 0.0\n"
     ]
    }
   ],
   "source": [
    "W = np.zeros((n, n))\n",
    "print(W)\n",
    "print(h(W)[0], \",\", h_2(W)[0])"
   ]
  },
  {
   "cell_type": "code",
   "execution_count": 73,
   "id": "1e74bcfc",
   "metadata": {},
   "outputs": [
    {
     "name": "stdout",
     "output_type": "stream",
     "text": [
      "[[1. 1. 1.]\n",
      " [1. 1. 1.]\n",
      " [1. 1. 1.]]\n",
      "5.124814981273538 , 19.085536923187686\n"
     ]
    }
   ],
   "source": [
    "W = np.ones((n, n))\n",
    "print(W)\n",
    "print(h(W)[0], \",\", h_2(W)[0])"
   ]
  },
  {
   "cell_type": "code",
   "execution_count": 74,
   "id": "8c3965d4",
   "metadata": {},
   "outputs": [
    {
     "name": "stdout",
     "output_type": "stream",
     "text": [
      "[[1. 0. 0.]\n",
      " [1. 1. 0.]\n",
      " [1. 1. 1.]]\n",
      "0.0 , 5.154845485377136\n"
     ]
    }
   ],
   "source": [
    "W = np.zeros((n, n))\n",
    "W[np.tril_indices(n)] = 1\n",
    "print(W)\n",
    "print(h(W)[0], \",\", h_2(W)[0])"
   ]
  },
  {
   "cell_type": "code",
   "execution_count": 76,
   "id": "b6d34515",
   "metadata": {},
   "outputs": [
    {
     "name": "stdout",
     "output_type": "stream",
     "text": [
      "0.6559190822780434 , 2.3603367618537234\n"
     ]
    }
   ],
   "source": [
    "W = np.array([[0.04477571, -0.59422257, -0.92507845],\n",
    "              [-0.35883158, -0.97753726, -1.04441649],\n",
    "              [-0.74285576,  0.05889454, -0.12959465]])\n",
    "print(h(W)[0], \",\", h_2(W)[0])"
   ]
  },
  {
   "cell_type": "code",
   "execution_count": 79,
   "id": "5d2006a7",
   "metadata": {},
   "outputs": [
    {
     "name": "stdout",
     "output_type": "stream",
     "text": [
      "0.6559190822780434\n"
     ]
    }
   ],
   "source": [
    "def _h(W):\n",
    "    \"\"\"Evaluate value and gradient of acyclicity constraint.\"\"\"\n",
    "\n",
    "    V = W * W - np.diag(np.diag(W * W))\n",
    "    E = slin.expm(V)  # (Zheng et al. 2018)\n",
    "    h = np.trace(E) - np.shape(W)[0] \n",
    "\n",
    "    G_h = E.T * V * 2#-2*np.diag(np.diag(W))\n",
    "    \n",
    "    return h, G_h\n",
    "\n",
    "print(_h(W)[0])"
   ]
  }
 ],
 "metadata": {
  "kernelspec": {
   "display_name": "Python 3.6.8 64-bit",
   "language": "python",
   "name": "python36864bit874e3a48d9b148faaa09714964fd179b"
  },
  "language_info": {
   "codemirror_mode": {
    "name": "ipython",
    "version": 3
   },
   "file_extension": ".py",
   "mimetype": "text/x-python",
   "name": "python",
   "nbconvert_exporter": "python",
   "pygments_lexer": "ipython3",
   "version": "3.6.8"
  }
 },
 "nbformat": 4,
 "nbformat_minor": 5
}
