{
 "cells": [
  {
   "cell_type": "code",
   "execution_count": 5,
   "id": "0e906259",
   "metadata": {},
   "outputs": [],
   "source": [
    "import numpy as np\n",
    "import scipy.linalg as sci\n",
    "import numpy as np\n",
    "from numpy import linalg as lg"
   ]
  },
  {
   "cell_type": "markdown",
   "id": "aca4d122",
   "metadata": {},
   "source": [
    "Assumption: We can write any permutation matrix $$P = \\prod_{i,j: i < j} P_{ij}^{\\alpha_{ij}}$$ for $\\alpha_{ij} \\in \\{0, 1\\}$. Here $P_{ij}$ is the transposition matrix that permutes row $i$ and $j$. We know that we can write any permutation matrix as a composition of transposition matrices, but note that the product above has a fixed order.\n",
    "\n",
    "An easy way to verify that each permutation matrix can be decomposed using at most $n - 1$ non-zero $\\alpha_{ij}$, we consider a $\\textit{selection sort}$ approach. Let $j$ be the row where the first entry is a 1. We swap row $i = 1$ and row $j$. Then, let $j$ be the row where the second entry is a 1 ($j > 1>$). We swap row $i = 2$ and row $j$. We do this $n - 1$ times after which the first $n - 1$ entries are correct, and since we have $n$ entries in total, all $n$ entries are correct.\n",
    "\n",
    "If that is indeed true we have a valid representation of all permutation matrices, parametrized through the ${n \\choose 2}$\n",
    "parameters $\\mathbf{α}$. This we can relax now by letting $\\alpha \\in \\mathbb{R}^{n \\choose 2}$, where we define the diagonal decomposition of $P_{ij}^{\\alpha_{ij}}$ as $$P_{ij}^{\\alpha_{ij}} = U^TD^{\\alpha_{ij}}U.$$\n",
    "We know that $D = \\text{diag}(−1, 1, 1, ....)$, so $D^{\\alpha_{ij}} = \\text{diag}(c, 1, 1...)$, where $c$ is a complex number. \n",
    "\n",
    "This representation will avoid having problems with the inverse, as $$\\left(P = \\prod_{i,j: i < j} P_{ij}^{\\alpha_{ij}}\\right)^{-1} = \\prod_{i,j: i < j} \\left(P_{ij}^{\\alpha_{ij}}\\right)^{-1}.$$\n",
    "Now, for $\\alpha_{ij} \\in \\{0, 1\\}$, the inverse is simply\n",
    "$$\\left(P_{ij}^{\\alpha_{ij}}\\right)^{-1} = \\left(P_{ij}^{\\alpha_{ij}}\\right)^T = P_{ij}^{\\alpha_{ij}},$$\n",
    "which in fact is swapping $\\textit{column}$ $i$ and $j$, rather than row $i$ and $j$.\n",
    "Now, for $\\alpha_{ij} \\in \\mathbb{R}$, the inverse is slightly more involved, but still doable.\n",
    "$$A^\\beta = e^{\\beta \\ln(A)} = \\sum_{k=0}^\\infty\\frac{1}{k!}\\left(\\beta \\ln(A)\\right)^k.$$"
   ]
  },
  {
   "cell_type": "code",
   "execution_count": null,
   "id": "81741ddb",
   "metadata": {},
   "outputs": [],
   "source": [
    "# get the two rows to swap\n",
    "i, j = np.random.choice(n, 2, replace = False)\n",
    "\n",
    "# swap row i and row j\n",
    "P[[i, j]] = P[[j, i]]"
   ]
  },
  {
   "cell_type": "markdown",
   "id": "ecbdefaa",
   "metadata": {},
   "source": [
    "### Decompositions\n",
    "#### Eigendecomposition\n",
    "Since we know that we only permute two rows, we know that the eigenvalues are $\\lambda_1 = -1, \\lambda_i = 1, i = 1, \\cdots, n.$ Hence, the eigendecomposition is \n",
    "$$P^{\\alpha_{ij}}_{ij} = U^T \\Lambda U,$$\n",
    "where $$\\Lambda = \\text{diag}\\left(-1, 1, \\ldots, 1\\right).$$"
   ]
  },
  {
   "cell_type": "code",
   "execution_count": 10,
   "id": "6cfdd768",
   "metadata": {},
   "outputs": [
    {
     "name": "stdout",
     "output_type": "stream",
     "text": [
      "[ 1.  -0.j   -0.71-0.71j  1.  +0.j  ]\n",
      "[[-0.        +0.00000000e+00j  0.        +0.00000000e+00j\n",
      "   1.        +0.00000000e+00j]\n",
      " [ 0.70710678-2.77555756e-17j -0.70710678-8.32667268e-17j\n",
      "   0.        +0.00000000e+00j]\n",
      " [ 0.70710678+0.00000000e+00j  0.70710678+0.00000000e+00j\n",
      "   0.        +0.00000000e+00j]]\n",
      "[[1.        +0.j         0.        +0.j         0.        +0.j        ]\n",
      " [0.        +0.j         0.14644661-0.35355339j 0.85355339+0.35355339j]\n",
      " [0.        +0.j         0.85355339+0.35355339j 0.14644661-0.35355339j]]\n",
      "[[1.        +0.j         0.        +0.j         0.        +0.j        ]\n",
      " [0.        +0.j         0.14644661-0.35355339j 0.85355339+0.35355339j]\n",
      " [0.        +0.j         0.85355339+0.35355339j 0.14644661-0.35355339j]]\n"
     ]
    }
   ],
   "source": [
    "evls, evcs = lg.eig(P_pow)\n",
    "print(np.round(evls, 2))\n",
    "print(evcs)\n",
    "\n",
    "Lambda = np.diag(evls)\n",
    "print(evcs @ Lambda @ lg.inv(evcs))\n",
    "\n",
    "print(evcs @ Lambda @ evcs.T)"
   ]
  },
  {
   "cell_type": "code",
   "execution_count": 7,
   "id": "0f7d6e28",
   "metadata": {},
   "outputs": [
    {
     "name": "stdout",
     "output_type": "stream",
     "text": [
      "[[1.        +0.j         0.        +0.j         0.        +0.j        ]\n",
      " [0.        +0.j         0.14644661-0.35355339j 0.85355339+0.35355339j]\n",
      " [0.        +0.j         0.85355339+0.35355339j 0.14644661-0.35355339j]]\n",
      "LU:\n",
      " [[ 1. -0. -0.]\n",
      " [ 0.  1.  0.]\n",
      " [ 0.  0.  1.]]\n",
      "D:\n",
      " [[1. 0. 0.]\n",
      " [0. 0. 1.]\n",
      " [0. 1. 0.]]\n",
      "perm:\n",
      " [0 1 2]\n"
     ]
    }
   ],
   "source": [
    "P = np.array([[1, 0, 0], [0, 0, 1], [0, 1, 0]])\n",
    "P_pow = sci.fractional_matrix_power(P, 1.25)\n",
    "print(P_pow)\n",
    "\n",
    "lu, d, perm = sci.ldl(P, lower = 0)\n",
    "print(\"LU:\\n\", lu[perm, :])\n",
    "print(\"D:\\n\", d)\n",
    "print(\"perm:\\n\", perm)"
   ]
  },
  {
   "cell_type": "code",
   "execution_count": 8,
   "id": "fc403098",
   "metadata": {},
   "outputs": [
    {
     "name": "stdout",
     "output_type": "stream",
     "text": [
      "[[1 0 0]\n",
      " [0 0 1]\n",
      " [0 1 0]]\n",
      "[[1 0 0]\n",
      " [0 0 1]\n",
      " [0 1 0]]\n",
      "[[ 1. -0. -0.]\n",
      " [ 0. -0.  1.]\n",
      " [ 0.  1.  0.]]\n",
      "[[1. 0. 0.]\n",
      " [0. 1. 0.]\n",
      " [0. 0. 1.]]\n"
     ]
    }
   ],
   "source": [
    "\n",
    "\n",
    "\n",
    "power = 1.0\n",
    "print(P)\n",
    "\n",
    "P_power = sci.fractional_matrix_power(P, power)\n",
    "print(P_power)\n",
    "\n",
    "P_inv = sci.inv(P_power)\n",
    "print(P_inv)\n",
    "\n",
    "print(np.round(P_power @ P_inv, 5))"
   ]
  },
  {
   "cell_type": "code",
   "execution_count": 9,
   "id": "3d11ee2e",
   "metadata": {},
   "outputs": [
    {
     "name": "stdout",
     "output_type": "stream",
     "text": [
      "[[-1  0  0]\n",
      " [ 0  1  0]\n",
      " [ 0  0  1]]\n",
      "[[0.70710678-0.70710678j 0.        +0.j         0.        +0.j        ]\n",
      " [0.        +0.j         1.        +0.j         0.        +0.j        ]\n",
      " [0.        +0.j         0.        +0.j         1.        +0.j        ]]\n"
     ]
    }
   ],
   "source": [
    "D = np.diag((-1, 1, 1))\n",
    "print(D)\n",
    "print(sci.fractional_matrix_power(D, 1.75))"
   ]
  },
  {
   "cell_type": "code",
   "execution_count": 144,
   "id": "06ee2c57",
   "metadata": {},
   "outputs": [
    {
     "data": {
      "text/plain": [
       "-1.0"
      ]
     },
     "execution_count": 144,
     "metadata": {},
     "output_type": "execute_result"
    }
   ],
   "source": [
    "-1 ** 1.25"
   ]
  }
 ],
 "metadata": {
  "kernelspec": {
   "display_name": "Python 3.6.8 64-bit",
   "language": "python",
   "name": "python36864bit874e3a48d9b148faaa09714964fd179b"
  },
  "language_info": {
   "codemirror_mode": {
    "name": "ipython",
    "version": 3
   },
   "file_extension": ".py",
   "mimetype": "text/x-python",
   "name": "python",
   "nbconvert_exporter": "python",
   "pygments_lexer": "ipython3",
   "version": "3.6.8"
  }
 },
 "nbformat": 4,
 "nbformat_minor": 5
}
