{
 "cells": [
  {
   "cell_type": "code",
   "execution_count": 3,
   "id": "1e6c95b8",
   "metadata": {},
   "outputs": [],
   "source": [
    "import numpy as np\n",
    "from tqdm import tqdm"
   ]
  },
  {
   "cell_type": "code",
   "execution_count": 9,
   "id": "5aa13726",
   "metadata": {},
   "outputs": [
    {
     "data": {
      "text/plain": [
       "16"
      ]
     },
     "execution_count": 9,
     "metadata": {},
     "output_type": "execute_result"
    }
   ],
   "source": [
    "def sample_next_p(p, n):      \n",
    "    # get the two rows to swap\n",
    "    i, j = np.random.choice(n, 2, replace = False)\n",
    "    \n",
    "    # swap row i and row j\n",
    "    p[i], p[j] = p[j], p[i]\n",
    "    \n",
    "    # return new sample\n",
    "    return p\n",
    "\n",
    "# n = 4\n",
    "# sample_next_P(np.array(range(n)))\n",
    "\n",
    "find_required_steps_to_reach_end(4)"
   ]
  },
  {
   "cell_type": "code",
   "execution_count": 11,
   "id": "31b40690",
   "metadata": {},
   "outputs": [
    {
     "name": "stderr",
     "output_type": "stream",
     "text": [
      "100%|███████████████████████████████████████████████████████████████████████████| 10000/10000 [00:20<00:00, 499.25it/s]"
     ]
    },
    {
     "name": "stdout",
     "output_type": "stream",
     "text": [
      "27.4088\n"
     ]
    },
    {
     "name": "stderr",
     "output_type": "stream",
     "text": [
      "\n"
     ]
    }
   ],
   "source": [
    "def find_required_steps_to_reach_end(n):\n",
    "    p = np.array(range(n))\n",
    "    total = 0\n",
    "\n",
    "    while (p != np.flip(range(n))).any():\n",
    "        p = sample_next_p(p, n)\n",
    "        total += 1\n",
    "\n",
    "    return total\n",
    "\n",
    "for a in range(4, 5):\n",
    "    total, iterations = 0, 10000\n",
    "    for i in tqdm(range(iterations)):\n",
    "        total += find_required_steps_to_reach_end(a)\n",
    "    print(total / iterations)"
   ]
  }
 ],
 "metadata": {
  "kernelspec": {
   "display_name": "Python 3.6.8 64-bit",
   "language": "python",
   "name": "python36864bit874e3a48d9b148faaa09714964fd179b"
  },
  "language_info": {
   "codemirror_mode": {
    "name": "ipython",
    "version": 3
   },
   "file_extension": ".py",
   "mimetype": "text/x-python",
   "name": "python",
   "nbconvert_exporter": "python",
   "pygments_lexer": "ipython3",
   "version": "3.6.8"
  }
 },
 "nbformat": 4,
 "nbformat_minor": 5
}
