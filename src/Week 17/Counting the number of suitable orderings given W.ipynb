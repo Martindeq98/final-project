{
 "cells": [
  {
   "cell_type": "code",
   "execution_count": 1,
   "id": "1ef43077",
   "metadata": {},
   "outputs": [],
   "source": [
    "import numpy as np\n",
    "import itertools\n",
    "from tqdm import tqdm"
   ]
  },
  {
   "cell_type": "code",
   "execution_count": 2,
   "id": "2d3067bd",
   "metadata": {},
   "outputs": [],
   "source": [
    "# import helper methods\n",
    "import sys\n",
    "sys.path.append(\"..\")\n",
    "import helper.helper as h"
   ]
  },
  {
   "cell_type": "code",
   "execution_count": 56,
   "id": "395e3aae",
   "metadata": {},
   "outputs": [
    {
     "name": "stderr",
     "output_type": "stream",
     "text": [
      "  0%|                                                                          | 983/3628800 [00:00<06:09, 9827.17it/s]"
     ]
    },
    {
     "name": "stdout",
     "output_type": "stream",
     "text": [
      "True W:\n",
      "[[ 0.    0.    0.    0.    0.    0.    0.    0.    0.    0.  ]\n",
      " [-0.66  0.32  0.    0.    0.    0.    0.    0.    0.    0.  ]\n",
      " [ 0.66  0.    0.    0.    0.    0.    0.    0.    0.    0.  ]\n",
      " [-0.59  0.   -0.64  0.    0.    0.    0.    0.    0.    0.  ]\n",
      " [-0.67  0.    0.45  0.    0.46  0.    0.    0.    0.    0.  ]\n",
      " [ 0.    0.    0.63  0.    0.62  0.55  0.    0.    0.    0.  ]\n",
      " [ 0.    0.43 -0.66  0.    0.    0.69  0.63  0.    0.    0.  ]\n",
      " [ 0.    0.   -0.35  0.    0.   -0.58  0.    0.62  0.    0.  ]\n",
      " [ 0.52 -0.42  0.45  0.    0.    0.    0.    0.    0.    0.  ]\n",
      " [ 0.    0.54  0.62  0.    0.58  0.63  0.    0.    0.    0.  ]].\n",
      "\n"
     ]
    },
    {
     "name": "stderr",
     "output_type": "stream",
     "text": [
      "100%|██████████████████████████████████████████████████████████████████████| 3628800/3628800 [09:03<00:00, 6677.42it/s]\n"
     ]
    }
   ],
   "source": [
    "np.random.seed(seed = 12345)\n",
    "\n",
    "## Number of dimensions, number of edges, number of samples\n",
    "n, s = 10, 25\n",
    "\n",
    "### Coefficient matrix\n",
    "## First approach: A is a DAG, no model mismatch\n",
    "W_true = h.generate_A(n, s, tril = False, low = 0.30, high = 0.70)\n",
    "\n",
    "# set coefficients to be positive (else oscillating which does not make sense)\n",
    "for i in range(len(W_true)):\n",
    "    W_true[i][i] = np.abs(W_true[i][i])\n",
    "\n",
    "print(f\"True W:\\n{np.round(W_true, 2)}.\\n\")\n",
    "\n",
    "Ps = get_orderings_v2(W_true, n)"
   ]
  },
  {
   "cell_type": "code",
   "execution_count": 7,
   "id": "1052e0a4",
   "metadata": {},
   "outputs": [],
   "source": [
    "def get_orderings(W):\n",
    "    \n",
    "    # tracks the total number of orderings\n",
    "    Ps = []\n",
    "    \n",
    "    perms = itertools.permutations(np.identity(np.shape(W)[0]))\n",
    "    \n",
    "    for perm in  tqdm(perms, total=np.math.factorial(np.shape(W)[0])):\n",
    "        P = np.array(perm)\n",
    "        \n",
    "        if np.allclose(P.T @ W @ P, np.triu(P.T @ W @ P)):\n",
    "            Ps.append(P)\n",
    "            \n",
    "    return Ps"
   ]
  },
  {
   "cell_type": "code",
   "execution_count": null,
   "id": "3421e5fc",
   "metadata": {},
   "outputs": [],
   "source": [
    "def get_number_of_orderings(W):\n",
    "    \n",
    "    # tracks the total number of orderings\n",
    "    total = []\n",
    "    \n",
    "    perms = itertools.permutations(np.identity(np.shape(W)[0]))\n",
    "    \n",
    "    for perm in  tqdm(perms, total=np.math.factorial(np.shape(W)[0])):\n",
    "        P = np.array(perm)\n",
    "        \n",
    "        if np.allclose(P.T @ W @ P, np.triu(P.T @ W @ P)):\n",
    "            total += 1\n",
    "            \n",
    "    return total"
   ]
  },
  {
   "cell_type": "code",
   "execution_count": 55,
   "id": "32ba6ab8",
   "metadata": {},
   "outputs": [],
   "source": [
    "def get_orderings_v2(W, n):\n",
    "    \n",
    "    # tracks the total number of orderings\n",
    "    Ps = []\n",
    "    \n",
    "    perms = itertools.permutations(range(np.shape(W)[0]))\n",
    "    \n",
    "    for P in  tqdm(perms, total=np.math.factorial(np.shape(W)[0])):\n",
    "        if np.allclose(W[:, P][P, :], np.triu(W[:, P][P, :])):\n",
    "            Ps.append(P)\n",
    "            \n",
    "    return Ps"
   ]
  },
  {
   "cell_type": "code",
   "execution_count": 37,
   "id": "dec07773",
   "metadata": {},
   "outputs": [],
   "source": [
    "def get_number_of_orderings_v2(W, n):\n",
    "    \n",
    "    # tracks the total number of orderings\n",
    "    total = 0\n",
    "    \n",
    "    perms = itertools.permutations(range(np.shape(W)[0]))\n",
    "    \n",
    "    for P in  tqdm(perms, total=np.math.factorial(np.shape(W)[0])):\n",
    "        if np.allclose(W[:, P][P, :], np.triu(W[:, P][P, :])):\n",
    "            total += 1\n",
    "            \n",
    "    return total"
   ]
  },
  {
   "cell_type": "code",
   "execution_count": 38,
   "id": "f960623e",
   "metadata": {},
   "outputs": [
    {
     "name": "stderr",
     "output_type": "stream",
     "text": [
      "100%|████████████████████████████████████████████████████████████████████████████████| 24/24 [00:00<00:00, 4829.13it/s]\n",
      "100%|████████████████████████████████████████████████████████████████████████████████| 24/24 [00:00<00:00, 4801.72it/s]\n"
     ]
    },
    {
     "data": {
      "text/plain": [
       "3"
      ]
     },
     "execution_count": 38,
     "metadata": {},
     "output_type": "execute_result"
    }
   ],
   "source": [
    "W = np.array([[0.5, 0.5, 0, 0.5], [0, 0.5, 0.5, 0], [0, 0, 0.5, 0], [0, 0, 0, 0.5]])\n",
    "get_orderings_2(W, 4)\n",
    "get_orderings(W)"
   ]
  },
  {
   "cell_type": "code",
   "execution_count": 46,
   "id": "e46e9941",
   "metadata": {},
   "outputs": [
    {
     "name": "stderr",
     "output_type": "stream",
     "text": [
      "100%|█████████████████████████████████████████████████████████████████████████████| 720/720 [00:00<00:00, 10140.32it/s]\n",
      "100%|█████████████████████████████████████████████████████████████████████████████| 720/720 [00:00<00:00, 10584.14it/s]\n"
     ]
    },
    {
     "data": {
      "text/plain": [
       "120"
      ]
     },
     "execution_count": 46,
     "metadata": {},
     "output_type": "execute_result"
    }
   ],
   "source": [
    "W = np.array([[0.5, 0.5, 0, 0, 0, 0], [0, 0.5, 0, 0.5, 0, 0], [0, 0, 0.5, 0, 0, 0], [0, 0, 0, 0.5, 0, 0], [0, 0, 0, 0, 0, 0], [0, 0, 0, 0, 0, 0]])\n",
    "get_orderings(W)\n",
    "get_orderings_2(W, 6)"
   ]
  },
  {
   "cell_type": "code",
   "execution_count": 94,
   "id": "62162145",
   "metadata": {},
   "outputs": [
    {
     "name": "stderr",
     "output_type": "stream",
     "text": [
      "  0%|                                                                         | 1958/3628800 [00:00<06:10, 9785.57it/s]"
     ]
    },
    {
     "name": "stdout",
     "output_type": "stream",
     "text": [
      "[[0. 0. 1. 1. 0. 1. 0. 0. 1. 0.]\n",
      " [0. 1. 1. 0. 1. 0. 0. 0. 1. 1.]\n",
      " [0. 0. 1. 1. 1. 1. 1. 1. 1. 0.]\n",
      " [0. 0. 0. 0. 0. 0. 0. 1. 1. 0.]\n",
      " [0. 0. 0. 0. 1. 0. 0. 0. 1. 1.]\n",
      " [0. 0. 0. 0. 0. 1. 1. 0. 0. 0.]\n",
      " [0. 0. 0. 0. 0. 0. 0. 0. 1. 1.]\n",
      " [0. 0. 0. 0. 0. 0. 0. 0. 1. 0.]\n",
      " [0. 0. 0. 0. 0. 0. 0. 0. 1. 0.]\n",
      " [0. 0. 0. 0. 0. 0. 0. 0. 0. 0.]]\n"
     ]
    },
    {
     "name": "stderr",
     "output_type": "stream",
     "text": [
      "100%|██████████████████████████████████████████████████████████████████████| 3628800/3628800 [07:47<00:00, 7764.55it/s]\n"
     ]
    },
    {
     "data": {
      "text/plain": [
       "150"
      ]
     },
     "execution_count": 94,
     "metadata": {},
     "output_type": "execute_result"
    }
   ],
   "source": [
    "s, n = 27, 10\n",
    "total_coefs = len(np.triu_indices(n)[0])\n",
    "coefs = np.append(np.ones(s), np.zeros(total_coefs - s))\n",
    "np.random.shuffle(coefs)\n",
    "A = np.zeros((n, n))\n",
    "A[np.triu_indices(n)] = coefs\n",
    "print(A)\n",
    "get_orderings(A)"
   ]
  },
  {
   "cell_type": "code",
   "execution_count": 58,
   "id": "45565672",
   "metadata": {},
   "outputs": [
    {
     "name": "stdout",
     "output_type": "stream",
     "text": [
      "(1020, 10)\n"
     ]
    }
   ],
   "source": [
    "print(np.shape(Ps))"
   ]
  },
  {
   "cell_type": "code",
   "execution_count": 57,
   "id": "ed33f7d2",
   "metadata": {},
   "outputs": [],
   "source": [
    "np.save(\"Ps_Ex\", Ps)"
   ]
  }
 ],
 "metadata": {
  "kernelspec": {
   "display_name": "Python 3.6.8 64-bit",
   "language": "python",
   "name": "python36864bit874e3a48d9b148faaa09714964fd179b"
  },
  "language_info": {
   "codemirror_mode": {
    "name": "ipython",
    "version": 3
   },
   "file_extension": ".py",
   "mimetype": "text/x-python",
   "name": "python",
   "nbconvert_exporter": "python",
   "pygments_lexer": "ipython3",
   "version": "3.6.8"
  }
 },
 "nbformat": 4,
 "nbformat_minor": 5
}
