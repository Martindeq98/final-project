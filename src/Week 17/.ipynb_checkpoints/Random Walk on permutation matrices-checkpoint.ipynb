{
 "cells": [
  {
   "cell_type": "code",
   "execution_count": 2,
   "id": "55ba1794",
   "metadata": {},
   "outputs": [],
   "source": [
    "import numpy as np"
   ]
  },
  {
   "cell_type": "code",
   "execution_count": 21,
   "id": "a7865810",
   "metadata": {},
   "outputs": [
    {
     "data": {
      "text/plain": [
       "array([0, 2, 1])"
      ]
     },
     "execution_count": 21,
     "metadata": {},
     "output_type": "execute_result"
    }
   ],
   "source": [
    "def sample_next_P(p):      \n",
    "    # get the two rows to swap\n",
    "    i, j = np.random.choice(n, 2, replace = False)\n",
    "    \n",
    "    # swap row i and row j\n",
    "    p[i], p[j] = p[j], p[i]\n",
    "    \n",
    "    # return new sample\n",
    "    return p\n",
    "\n",
    "n = 3\n",
    "sample_next_P(np.array(range(n)))"
   ]
  },
  {
   "cell_type": "code",
   "execution_count": null,
   "id": "e2e20367",
   "metadata": {},
   "outputs": [],
   "source": [
    "p = np.array(range(n))\n",
    "\n",
    "while p != np.flip(range(n)):\n",
    "    p = sample_next_p(p)\n",
    "    total += 1"
   ]
  }
 ],
 "metadata": {
  "kernelspec": {
   "display_name": "Python 3.6.8 64-bit",
   "language": "python",
   "name": "python36864bit874e3a48d9b148faaa09714964fd179b"
  },
  "language_info": {
   "codemirror_mode": {
    "name": "ipython",
    "version": 3
   },
   "file_extension": ".py",
   "mimetype": "text/x-python",
   "name": "python",
   "nbconvert_exporter": "python",
   "pygments_lexer": "ipython3",
   "version": "3.6.8"
  }
 },
 "nbformat": 4,
 "nbformat_minor": 5
}
