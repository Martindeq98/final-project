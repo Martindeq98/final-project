{
 "cells": [
  {
   "cell_type": "code",
   "execution_count": 1,
   "id": "35e76b5b",
   "metadata": {},
   "outputs": [
    {
     "name": "stderr",
     "output_type": "stream",
     "text": [
      "Detecting 1 CUDA device(s).\n"
     ]
    }
   ],
   "source": [
    "import cdt\n",
    "import networkx as nx\n",
    "import pandas as pd\n",
    "import matplotlib.pyplot as plt\n",
    "import numpy as np\n",
    "import sys\n",
    "sys.path.append(\"..\")\n",
    "import helper.methods as m\n",
    "import helper.helper as h\n",
    "\n",
    "from notears.notears.notears import linear"
   ]
  },
  {
   "cell_type": "markdown",
   "id": "37e91dbe",
   "metadata": {},
   "source": [
    "### Get data, two kinds."
   ]
  },
  {
   "cell_type": "code",
   "execution_count": 2,
   "id": "82c5f9bb",
   "metadata": {},
   "outputs": [
    {
     "name": "stdout",
     "output_type": "stream",
     "text": [
      "(7466, 11)\n",
      "   praf  pmek   plcg   PIP2   PIP3  p44/42  pakts473    PKA    PKC   P38  pjnk\n",
      "0  26.4  13.2   8.82  18.30  58.80    6.61      17.0  414.0  17.00  44.9  40.0\n",
      "1  35.9  16.5  12.30  16.80   8.13   18.60      32.5  352.0   3.37  16.5  61.5\n",
      "2  59.4  44.1  14.60  10.20  13.00   14.90      32.5  403.0  11.40  31.9  19.5\n",
      "3  73.0  82.8  23.10  13.50   1.29    5.83      11.8  528.0  13.70  28.6  23.1\n",
      "4  33.7  19.8   5.19   9.73  24.80   21.10      46.1  305.0   4.66  25.7  81.3\n"
     ]
    }
   ],
   "source": [
    "X_sachs, graph = cdt.data.load_dataset('sachs')\n",
    "print(np.shape(X_sachs))\n",
    "print(X_sachs.head())"
   ]
  },
  {
   "cell_type": "code",
   "execution_count": 22,
   "id": "c069421b",
   "metadata": {},
   "outputs": [
    {
     "name": "stdout",
     "output_type": "stream",
     "text": [
      "(7466, 11)\n",
      "[[1.42 0.82 0.95 1.23 2.62 1.26 1.77 1.12 1.65 1.6  1.23]\n",
      " [1.56 1.27 1.09 0.53 2.55 1.23 0.91 1.22 1.22 1.79 1.51]\n",
      " [1.77 1.17 1.16 1.06 2.61 1.01 1.11 1.64 1.5  1.29 1.51]\n",
      " [1.86 0.77 1.36 1.14 2.72 1.13 0.11 1.92 1.46 1.36 1.07]\n",
      " [1.53 1.32 0.72 0.67 2.48 0.99 1.39 1.3  1.41 1.91 1.66]]\n"
     ]
    }
   ],
   "source": [
    "X = np.loadtxt(\"../../data/real_data/sem/gene_sachs/data_sachs.txt\")\n",
    "print(np.shape(X_mod))\n",
    "print(np.round(X_mod[:5], 2))"
   ]
  },
  {
   "cell_type": "code",
   "execution_count": 15,
   "id": "4914d867",
   "metadata": {},
   "outputs": [
    {
     "name": "stdout",
     "output_type": "stream",
     "text": [
      "(7466, 11)\n",
      "[[ -97.7 -132.2  -46.  -132.8   31.8  -20.   -64.2 -211.8  -13.3  -90.1\n",
      "   -33.3]\n",
      " [ -88.2 -128.9  -42.6 -134.3  -18.9   -8.   -48.7 -273.8  -27.  -118.5\n",
      "   -11.8]\n",
      " [ -64.7 -101.3  -40.3 -140.9  -14.   -11.7  -48.7 -222.8  -18.9 -103.1\n",
      "   -53.8]\n",
      " [ -51.1  -62.6  -31.8 -137.6  -25.7  -20.8  -69.4  -97.8  -16.6 -106.4\n",
      "   -50.2]\n",
      " [ -90.4 -125.6  -49.7 -141.4   -2.2   -5.5  -35.1 -320.8  -25.7 -109.3\n",
      "     8. ]]\n"
     ]
    }
   ],
   "source": [
    "# raw unmodified\n",
    "X = np.loadtxt(\"../../data/real_data/sem/gene_sachs/data.raw.txt\")\n",
    "X = X - np.mean(X, axis=0, keepdims=True)\n",
    "print(np.shape(X))\n",
    "print(np.round(X[:5], 1))"
   ]
  },
  {
   "cell_type": "markdown",
   "id": "9d4842d6",
   "metadata": {},
   "source": [
    "### Run experiments"
   ]
  },
  {
   "cell_type": "code",
   "execution_count": null,
   "id": "24e9403c",
   "metadata": {},
   "outputs": [],
   "source": [
    "W_true = np.array([\n",
    "#    raf, mek, plc,pip2,pip3, erk, akt, pka, pkc, p38, jnk\n",
    "    [0.0, 1.0, 0.0, 0.0, 0.0, 0.0, 0.0, 0.0, 0.0, 0.0, 0.0], # raf\n",
    "    [0.0, 0.0, 0.0, 0.0, 0.0, 1.0, 0.0, 0.0, 0.0, 0.0, 0.0], # mek\n",
    "    [0.0, 0.0, 0.0, 1.0, 1.0, 0.0, 0.0, 0.0, 1.0, 0.0, 0.0], # plc\n",
    "    [0.0, 0.0, 0.0, 0.0, 0.0, 0.0, 0.0, 0.0, 1.0, 0.0, 0.0], # pip2\n",
    "    [0.0, 0.0, 0.0, 1.0, 0.0, 0.0, 1.0, 0.0, 0.0, 0.0, 0.0], # pip3\n",
    "    [0.0, 0.0, 0.0, 0.0, 0.0, 0.0, 1.0, 0.0, 0.0, 0.0, 0.0], # erk\n",
    "    [0.0, 0.0, 0.0, 0.0, 0.0, 0.0, 0.0, 0.0, 0.0, 0.0, 0.0], # akt\n",
    "    [1.0, 1.0, 0.0, 0.0, 0.0, 1.0, 1.0, 0.0, 0.0, 1.0, 1.0], # pka\n",
    "    [1.0, 1.0, 0.0, 0.0, 0.0, 0.0, 0.0, 1.0, 0.0, 1.0, 1.0], # pkc\n",
    "    [0.0, 0.0, 0.0, 0.0, 0.0, 0.0, 0.0, 0.0, 0.0, 0.0, 0.0], # p38\n",
    "    [0.0, 0.0, 0.0, 0.0, 0.0, 0.0, 0.0, 0.0, 0.0, 0.0, 0.0], # jnk\n",
    "])\n",
    "\n",
    "# sachs expected bioligist view, 18 edges\n",
    "W_true = np.array([\n",
    "#    raf, mek, plc,pip2,pip3, erk, akt, pka, pkc, p38, jnk\n",
    "    [0.0, 1.0, 0.0, 0.0, 0.0, 0.0, 0.0, 0.0, 0.0, 0.0, 0.0], # raf\n",
    "    [0.0, 0.0, 0.0, 0.0, 0.0, 1.0, 0.0, 0.0, 0.0, 0.0, 0.0], # mek\n",
    "    [0.0, 0.0, 0.0, 1.0, 0.0, 0.0, 0.0, 0.0, 1.0, 0.0, 0.0], # plc\n",
    "    [0.0, 0.0, 0.0, 0.0, 0.0, 0.0, 0.0, 0.0, 1.0, 0.0, 0.0], # pip2\n",
    "    [0.0, 0.0, 1.0, 1.0, 0.0, 0.0, 1.0, 0.0, 0.0, 0.0, 0.0], # pip3\n",
    "    [0.0, 0.0, 0.0, 0.0, 0.0, 0.0, 0.0, 0.0, 0.0, 0.0, 0.0], # erk\n",
    "    [0.0, 0.0, 0.0, 0.0, 0.0, 0.0, 0.0, 0.0, 0.0, 0.0, 0.0], # akt\n",
    "    [1.0, 1.0, 0.0, 0.0, 0.0, 1.0, 1.0, 0.0, 0.0, 1.0, 1.0], # pka\n",
    "    [1.0, 1.0, 0.0, 0.0, 0.0, 0.0, 0.0, 0.0, 0.0, 1.0, 1.0], # pkc\n",
    "    [0.0, 0.0, 0.0, 0.0, 0.0, 0.0, 0.0, 0.0, 0.0, 0.0, 0.0], # p38\n",
    "    [0.0, 0.0, 0.0, 0.0, 0.0, 0.0, 0.0, 0.0, 0.0, 0.0, 0.0], # jnk\n",
    "])\n"
   ]
  },
  {
   "cell_type": "code",
   "execution_count": 16,
   "id": "742481b8",
   "metadata": {},
   "outputs": [],
   "source": [
    "W_true = np.array([\n",
    "#    raf, mek, plc,pip2,pip3, erk, akt, pka, pkc, p38, jnk\n",
    "    [0.0, 1.0, 0.0, 0.0, 0.0, 0.0, 0.0, 0.0, 0.0, 0.0, 0.0], # raf\n",
    "    [0.0, 0.0, 0.0, 0.0, 0.0, 1.0, 0.0, 0.0, 0.0, 0.0, 0.0], # mek\n",
    "    [0.0, 0.0, 0.0, 1.0, 1.0, 0.0, 0.0, 0.0, 1.0, 0.0, 0.0], # plc\n",
    "    [0.0, 0.0, 0.0, 0.0, 0.0, 0.0, 0.0, 0.0, 1.0, 0.0, 0.0], # pip2\n",
    "    [0.0, 0.0, 0.0, 1.0, 0.0, 0.0, 1.0, 0.0, 0.0, 0.0, 0.0], # pip3\n",
    "    [0.0, 0.0, 0.0, 0.0, 0.0, 0.0, 1.0, 0.0, 0.0, 0.0, 0.0], # erk\n",
    "    [0.0, 0.0, 0.0, 0.0, 0.0, 0.0, 0.0, 0.0, 0.0, 0.0, 0.0], # akt\n",
    "    [1.0, 1.0, 0.0, 0.0, 0.0, 1.0, 1.0, 0.0, 0.0, 1.0, 1.0], # pka\n",
    "    [1.0, 1.0, 0.0, 0.0, 0.0, 0.0, 0.0, 1.0, 0.0, 1.0, 1.0], # pkc\n",
    "    [0.0, 0.0, 0.0, 0.0, 0.0, 0.0, 0.0, 0.0, 0.0, 0.0, 0.0], # p38\n",
    "    [0.0, 0.0, 0.0, 0.0, 0.0, 0.0, 0.0, 0.0, 0.0, 0.0, 0.0], # jnk\n",
    "])\n"
   ]
  },
  {
   "cell_type": "code",
   "execution_count": 17,
   "id": "2e9ef3ff",
   "metadata": {},
   "outputs": [],
   "source": [
    "def evaluate(X, W_true, W_m, method, epsilon = 0.30, verbose = True):\n",
    "    # get mse\n",
    "    tpr, tnr, _, _, shd_1, mse, _ = h.score(X, W_m, W_true, is_sem = True, printing = False)\n",
    "    # print(mse)\n",
    "    \n",
    "    # do thresholding to get shd\n",
    "    W_m[np.abs(W_m) <= epsilon] = 0\n",
    "\n",
    "    _, _, _, _, shd, _, _ = h.score(X, W_m, W_true, is_sem = True, printing = False)\n",
    "    # print(shd)\n",
    "    \n",
    "    # do reestimated to get expected mean squared error\n",
    "    # emse = expected_cost_sem(W_true, con_OLS(X, W_m != 0))\n",
    "    # print(emse)\n",
    "    \n",
    "    if verbose:\n",
    "        print(method)\n",
    "        print(f\"TPR: {round(tpr, 3)}, TNR: {round(tnr, 3)}, SHD: {shd}, Empirial Risk: {round(mse, 3)}.\")\n",
    "        \n",
    "    # return results"
   ]
  },
  {
   "cell_type": "code",
   "execution_count": 18,
   "id": "c124cffb",
   "metadata": {},
   "outputs": [],
   "source": [
    "def con_OLS(X, B):\n",
    "    p = np.shape(B)[0]\n",
    "    W = np.zeros((p, p))\n",
    "    for i in range(p):\n",
    "        X_F = X[:, B[:, i]]\n",
    "        W[B[:, i], i] = np.linalg.inv(X_F.T @ X_F) @ X_F.T @ X[:, i]\n",
    "        \n",
    "    return W"
   ]
  },
  {
   "cell_type": "code",
   "execution_count": 23,
   "id": "2ff5560d",
   "metadata": {},
   "outputs": [
    {
     "name": "stderr",
     "output_type": "stream",
     "text": [
      "100%|█████████████████████████████████████████████████████████████████████████████| 1000/1000 [00:02<00:00, 400.96it/s]\n",
      "  4%|██▊                                                                            | 35/1000 [00:00<00:02, 346.53it/s]"
     ]
    },
    {
     "name": "stdout",
     "output_type": "stream",
     "text": [
      "rw_2\n",
      "TPR: 0.55, TNR: 0.564, SHD: 31, Empirial Risk: 4.021.\n"
     ]
    },
    {
     "name": "stderr",
     "output_type": "stream",
     "text": [
      "100%|█████████████████████████████████████████████████████████████████████████████| 1000/1000 [00:02<00:00, 396.51it/s]\n",
      "  4%|███▏                                                                           | 40/1000 [00:00<00:02, 396.15it/s]"
     ]
    },
    {
     "name": "stdout",
     "output_type": "stream",
     "text": [
      "mcmc_r\n",
      "TPR: 0.45, TNR: 0.545, SHD: 31, Empirial Risk: 4.178.\n"
     ]
    },
    {
     "name": "stderr",
     "output_type": "stream",
     "text": [
      "100%|█████████████████████████████████████████████████████████████████████████████| 1000/1000 [00:02<00:00, 357.02it/s]\n"
     ]
    },
    {
     "name": "stdout",
     "output_type": "stream",
     "text": [
      "mcmc_g\n",
      "TPR: 0.55, TNR: 0.564, SHD: 32, Empirial Risk: 3.997.\n",
      "h: 1.6981971384666394e-12.\n",
      "rho: 10000000000000.0.\n",
      "loss: (2.1000538480779354, array([ 2.20623540e-02, -2.71728797e-03, -7.40869578e-02,  4.32234748e-02,\n",
      "       -7.00332291e-05, -9.66794749e-03, -7.11914396e-02,  9.08506376e-03,\n",
      "        2.16743172e-02,  1.73141012e-03,  2.36664553e-06, -1.54181794e-02,\n",
      "        4.76347485e-02,  3.75468691e-02, -4.32131655e-03,  1.12955861e-04,\n",
      "       -8.85444283e-02, -2.65854056e-02, -6.53005981e-02, -1.61252200e-02,\n",
      "        4.94075284e-05,  3.05481560e-06, -4.59700303e-03, -4.74812792e-03,\n",
      "        5.51150825e-02,  2.33913833e-05,  4.83147824e-05,  3.09135844e-02,\n",
      "       -7.61767433e-03,  9.23151952e-03, -3.47500595e-02,  2.39763376e-06,\n",
      "       -2.50127970e-02,  1.14132364e-02, -1.72424927e-02,  2.18134429e-02,\n",
      "        1.03584762e-01,  1.56724446e-05, -9.06517636e-03, -2.88599840e-02,\n",
      "        4.46309313e-03, -4.61584669e-02,  5.56265047e-02,  1.57131829e-03,\n",
      "       -2.93570728e-03,  1.89952203e-02,  3.53245320e-06, -2.62909561e-02,\n",
      "        3.85758119e-02, -2.19160321e-02, -2.44597837e-02, -3.07058071e-06,\n",
      "        7.58987606e-02,  3.23386754e-02,  5.61794793e-06, -7.40385618e-03,\n",
      "       -1.12588277e-02,  1.59002838e-01,  1.05773663e-01, -1.05109812e-06,\n",
      "        5.29929116e-02, -5.44470071e-02,  1.25091609e-02, -1.19053779e-03,\n",
      "        2.60445211e-06,  1.64932056e-04, -4.43065173e-03, -4.08371662e-02,\n",
      "        1.94774450e-02,  7.14708947e-05,  4.07950632e-06,  1.12352176e-01,\n",
      "        5.65760275e-02, -8.95219217e-03,  6.59687899e-02,  6.14993274e-02,\n",
      "       -8.19667079e-03,  3.24730838e-06,  3.32940956e-03, -6.66904336e-03,\n",
      "        4.33396342e-03,  1.61828792e-04,  4.87280441e-04, -5.73420423e-03,\n",
      "        3.46831575e-02,  6.34923277e-03,  3.29508282e-02, -6.94965624e-03,\n",
      "       -2.13397611e-02,  8.48067573e-03,  1.52901955e-02, -1.25670752e-02,\n",
      "        4.48200868e-05, -4.39864975e-03, -4.60763012e-02,  1.53156051e-02,\n",
      "        3.92970156e-02,  8.78411444e-02,  1.83917541e-02, -4.09936139e-03,\n",
      "       -1.01376519e-02,  6.30694665e-02,  2.83242477e-01, -8.63364349e-05,\n",
      "        3.74729149e-02, -2.67695195e-02, -1.47745362e-02, -1.57780811e-02,\n",
      "        7.01209262e-02, -3.16514091e-02,  1.89573685e-02, -1.69477278e-02,\n",
      "       -1.01761143e-01,  3.46531535e-02, -2.78020607e-04,  5.54135145e-02,\n",
      "       -4.19249023e-02,  2.96742350e-02,  1.73419088e-06, -3.91372457e-02,\n",
      "        2.96637817e-02, -2.20623540e-02,  2.71728797e-03,  7.40869578e-02,\n",
      "       -4.32234748e-02,  7.00332291e-05,  9.66794749e-03,  7.11914396e-02,\n",
      "       -9.08506376e-03, -2.16743172e-02, -1.73141012e-03, -2.36664553e-06,\n",
      "        1.54181794e-02, -4.76347485e-02, -3.75468691e-02,  4.32131655e-03,\n",
      "       -1.12955861e-04,  8.85444283e-02,  2.65854056e-02,  6.53005981e-02,\n",
      "        1.61252200e-02, -4.94075284e-05, -3.05481560e-06,  4.59700303e-03,\n",
      "        4.74812792e-03, -5.51150825e-02, -2.33913833e-05, -4.83147824e-05,\n",
      "       -3.09135844e-02,  7.61767433e-03, -9.23151952e-03,  3.47500595e-02,\n",
      "       -2.39763376e-06,  2.50127970e-02, -1.14132364e-02,  1.72424927e-02,\n",
      "       -2.18134429e-02, -1.03584762e-01, -1.56724446e-05,  9.06517636e-03,\n",
      "        2.88599840e-02, -4.46309313e-03,  4.61584669e-02, -5.56265047e-02,\n",
      "       -1.57131829e-03,  2.93570728e-03, -1.89952203e-02, -3.53245320e-06,\n",
      "        2.62909561e-02, -3.85758119e-02,  2.19160321e-02,  2.44597837e-02,\n",
      "        3.07058071e-06, -7.58987606e-02, -3.23386754e-02, -5.61794793e-06,\n",
      "        7.40385618e-03,  1.12588277e-02, -1.59002838e-01, -1.05773663e-01,\n",
      "        1.05109812e-06, -5.29929116e-02,  5.44470071e-02, -1.25091609e-02,\n",
      "        1.19053779e-03, -2.60445211e-06, -1.64932056e-04,  4.43065173e-03,\n",
      "        4.08371662e-02, -1.94774450e-02, -7.14708947e-05, -4.07950632e-06,\n",
      "       -1.12352176e-01, -5.65760275e-02,  8.95219217e-03, -6.59687899e-02,\n",
      "       -6.14993274e-02,  8.19667079e-03, -3.24730838e-06, -3.32940956e-03,\n",
      "        6.66904336e-03, -4.33396342e-03, -1.61828792e-04, -4.87280441e-04,\n",
      "        5.73420423e-03, -3.46831575e-02, -6.34923277e-03, -3.29508282e-02,\n",
      "        6.94965624e-03,  2.13397611e-02, -8.48067573e-03, -1.52901955e-02,\n",
      "        1.25670752e-02, -4.48200868e-05,  4.39864975e-03,  4.60763012e-02,\n",
      "       -1.53156051e-02, -3.92970156e-02, -8.78411444e-02, -1.83917541e-02,\n",
      "        4.09936139e-03,  1.01376519e-02, -6.30694665e-02, -2.83242477e-01,\n",
      "        8.63364349e-05, -3.74729149e-02,  2.67695195e-02,  1.47745362e-02,\n",
      "        1.57780811e-02, -7.01209262e-02,  3.16514091e-02, -1.89573685e-02,\n",
      "        1.69477278e-02,  1.01761143e-01, -3.46531535e-02,  2.78020607e-04,\n",
      "       -5.54135145e-02,  4.19249023e-02, -2.96742350e-02, -1.73419088e-06,\n",
      "        3.91372457e-02, -2.96637817e-02])).\n",
      "notears\n",
      "TPR: 0.25, TNR: 0.881, SHD: 27, Empirial Risk: 5.762.\n",
      "dagomp\n",
      "TPR: 0.5, TNR: 0.554, SHD: 28, Empirial Risk: 4.116.\n",
      "100\n",
      "50\n",
      "dagols\n",
      "TPR: 0.25, TNR: 0.881, SHD: 27, Empirial Risk: 7.248.\n"
     ]
    }
   ],
   "source": [
    "m.T, m.p = np.shape(X)\n",
    "T, p = np.shape(X)\n",
    "iters = 1000\n",
    "\n",
    "# do MCMC_g\n",
    "W_rw_2 = m.rw_2(X, X, np.identity(p), iters, is_sem = True)[1]\n",
    "results = evaluate(X, W_true, W_rw_2, \"rw_2\")\n",
    "    \n",
    "# 3.1: MCMC 1\n",
    "W_mcmc_1 = m.mcmc_1(X, X, iters, np.identity(p), is_sem = True)[1]\n",
    "results = evaluate(X, W_true, W_mcmc_1, \"mcmc_r\")\n",
    "\n",
    "# 3.4: MCMC Greedy\n",
    "W_mcmc_4 = m.mcmc_4(X, X, iters, np.identity(p), is_sem = True)[1]\n",
    "results = evaluate(X, W_true, W_mcmc_4, \"mcmc_g\")\n",
    "    \n",
    "# 4: NO TEARS, NEED TO REGULARIZE using bootstrap.\n",
    "W_notears, _ = linear.notears_linear(X, lambda1 = 0.0, loss_type = \"l2\")\n",
    "results = evaluate(X, W_true, W_notears, \"notears\")\n",
    "\n",
    "# 6: DAG-OMP, NEED TO REGULARIZE using cross-validation.\n",
    "W_omp, _ = m._K_OMP(X, X, F = [], normalize = True, is_sem = True)\n",
    "results = evaluate(X, W_true, W_omp, \"dagomp\")\n",
    "\n",
    "# 7: DAG-LASSO, NEED TO REGULARIZE using bootstrap.\n",
    "W_ols_dag = con_OLS(X, B_V_LINGNAM_OLS_Q_SEM(X) != 0)\n",
    "results = evaluate(X, W_true, W_ols_dag, \"dagols\")"
   ]
  },
  {
   "cell_type": "markdown",
   "id": "872d9a6e",
   "metadata": {},
   "source": [
    "### Compare to ground truth"
   ]
  },
  {
   "cell_type": "code",
   "execution_count": null,
   "id": "29687fdb",
   "metadata": {},
   "outputs": [],
   "source": []
  },
  {
   "cell_type": "code",
   "execution_count": 9,
   "id": "792bcb6b",
   "metadata": {},
   "outputs": [],
   "source": [
    "import statsmodels.api as sm\n",
    "import scipy.linalg as slin\n",
    "\n",
    "def _h(W):\n",
    "    \"\"\"Evaluate value and gradient of acyclicity constraint.\"\"\"\n",
    "    W2 = W.copy()\n",
    "    E = slin.expm(W2)  # (Zheng et al. 2018)\n",
    "    h = np.trace(E) - p\n",
    "\n",
    "    return h\n",
    "\n",
    "def in_cycle(W, i, j, epsilon = 1e-32):\n",
    "    \n",
    "    h_val = _h(W)\n",
    "    \n",
    "    w_tmp = W[i][j]\n",
    "    W[i][j] = 0\n",
    "    h_new = _h(W)\n",
    "    W[i][j] = w_tmp\n",
    "    \n",
    "    return np.abs(h_val - h_new) > epsilon\n",
    "\n",
    "def B_V_LINGNAM_OLS_Q_SEM(X):\n",
    "    \"\"\"OLS solution W, data X\"\"\"\n",
    "    \n",
    "    T, p = np.shape(X)\n",
    "    \n",
    "    # get full OLS solution of W\n",
    "    B = np.ones((p, p)) - np.identity(p)\n",
    "    # print(B)\n",
    "    W = con_OLS(X, B != 0)\n",
    "    \n",
    "    # non_violators\n",
    "    violators = np.ones((p, p))\n",
    "    \n",
    "    # while we still do not have a DAG\n",
    "    while not h.is_dag(W):     \n",
    "        if np.sum(W != 0) % 50 == 0: print(np.sum(W != 0))\n",
    "        # print(h.is_dag(W))\n",
    "        \n",
    "        # find edge with smallest coefficient which might be a violator\n",
    "        i_list, j_list = np.where((np.abs(W) == np.min(np.abs(W[(W * violators).nonzero()]))))\n",
    "        i, j = i_list[0], j_list[0]\n",
    "        \n",
    "        # if it is contained in a cycle, remove it\n",
    "        # if not, never consider it again\n",
    "        if in_cycle(W, i, j):\n",
    "            W[i][j] = 0\n",
    "            violators[i][j] = 0\n",
    "        \n",
    "            # update column\n",
    "            idx = np.nonzero(W[:, j])[0]\n",
    "            W[idx, j] = (np.linalg.inv(X[:, idx].T @ X[:, idx]) @ X[:, idx].T @ X[:, j])\n",
    "        else:\n",
    "            violators[i][j] = 0\n",
    "  \n",
    "    # return the DAG W\n",
    "    return W"
   ]
  }
 ],
 "metadata": {
  "kernelspec": {
   "display_name": "Python 3.6.8 64-bit",
   "language": "python",
   "name": "python36864bit874e3a48d9b148faaa09714964fd179b"
  },
  "language_info": {
   "codemirror_mode": {
    "name": "ipython",
    "version": 3
   },
   "file_extension": ".py",
   "mimetype": "text/x-python",
   "name": "python",
   "nbconvert_exporter": "python",
   "pygments_lexer": "ipython3",
   "version": "3.6.8"
  }
 },
 "nbformat": 4,
 "nbformat_minor": 5
}
