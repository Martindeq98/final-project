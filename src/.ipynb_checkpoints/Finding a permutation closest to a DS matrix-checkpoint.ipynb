{
 "cells": [
  {
   "cell_type": "code",
   "execution_count": 2,
   "id": "59f68edf",
   "metadata": {},
   "outputs": [],
   "source": [
    "import itertools\n",
    "import numpy as np\n",
    "import matplotlib.pyplot as plt\n",
    "\n",
    "from operator import itemgetter"
   ]
  },
  {
   "cell_type": "markdown",
   "id": "ee87a765",
   "metadata": {},
   "source": [
    "## Generate a Doubly Stochastic Matrix"
   ]
  },
  {
   "cell_type": "code",
   "execution_count": 17,
   "id": "87419a97",
   "metadata": {},
   "outputs": [
    {
     "name": "stdout",
     "output_type": "stream",
     "text": [
      "[[0.46644375 0.06757291 0.46598334]\n",
      " [0.42712377 0.5717889  0.00108733]\n",
      " [0.10647081 0.36076479 0.53276441]]\n"
     ]
    }
   ],
   "source": [
    "def gen_P(n):\n",
    "    P = np.random.random((n, n))\n",
    "    \n",
    "    rsum = 0\n",
    "    csum = 0\n",
    "\n",
    "    while (np.any(np.round(rsum, 3) != 1)) | (np.any(np.round(csum, 3) != 1)):\n",
    "        P /= P.sum(0)\n",
    "        P = P / P.sum(1)[:, np.newaxis]\n",
    "        rsum = P.sum(1)\n",
    "        csum = P.sum(0)\n",
    "        \n",
    "    return P\n",
    "\n",
    "n = 3\n",
    "P = gen_P(n)\n",
    "print(P)"
   ]
  },
  {
   "cell_type": "markdown",
   "id": "5534537e",
   "metadata": {},
   "source": [
    "## Find \"Closest\" permutation matrix\n",
    "Using the Hungarian Algorithm, we can find the \"closest\" permutation matrix $P_{perm}$ to $P_{DS}$."
   ]
  },
  {
   "cell_type": "code",
   "execution_count": 93,
   "id": "a150ad60",
   "metadata": {},
   "outputs": [
    {
     "name": "stdout",
     "output_type": "stream",
     "text": [
      "[[0.31982924 0.23728204 0.44288873]\n",
      " [0.32872556 0.40085282 0.27042163]\n",
      " [0.35144072 0.36182682 0.28673246]]\n",
      "[[0. 0. 1.]\n",
      " [0. 1. 0.]\n",
      " [1. 0. 0.]]\n",
      "\n",
      "[[0. 0. 1.]\n",
      " [0. 1. 0.]\n",
      " [1. 0. 0.]]\n",
      "\n",
      "[[0. 0. 1.]\n",
      " [0. 1. 0.]\n",
      " [1. 0. 0.]]\n",
      "\n",
      "[[0.         0.         1.        ]\n",
      " [0.32872556 0.40085282 0.        ]\n",
      " [0.35144072 0.36182682 0.        ]]\n",
      "\n"
     ]
    }
   ],
   "source": [
    "from scipy import optimize\n",
    "\n",
    "def closest_perm_1(P_DS):\n",
    "    # convert to get the maximum linear assignment problem\n",
    "    P_MOD = np.ones((n, n)) * np.max(P_DS) - P_DS\n",
    "    row_ind, col_ind = optimize.linear_sum_assignment(P_MOD)\n",
    "\n",
    "    # Create Permutation matrix to return\n",
    "    P_perm = np.zeros((n, n))\n",
    "\n",
    "    for row, col in zip(row_ind, col_ind):\n",
    "        P_perm[row][col] = 1 \n",
    "    \n",
    "    return P_perm\n",
    "\n",
    "P_DS = gen_P(n)\n",
    "print(P_DS)\n",
    "print(closest_perm_1(P_DS), end = \"\\n\\n\")\n",
    "print(closest_perm_2(P_DS), end = \"\\n\\n\")\n",
    "print(closest_perm_3(P_DS), end = \"\\n\\n\")\n",
    "print(closest_perm_4(P_DS), end = \"\\n\\n\")"
   ]
  },
  {
   "cell_type": "code",
   "execution_count": 67,
   "id": "42ea32f3",
   "metadata": {},
   "outputs": [],
   "source": [
    "def closest_perm_2(P_DS):\n",
    "    P_2 = P_DS.copy()\n",
    "    # for each row\n",
    "    for _ in range(n):\n",
    "        # Normalize each row by dividing by its smallest non-zero entry\n",
    "        for j in range(n):\n",
    "            P_2[:, j] /= np.min(P_2[:, j][np.nonzero(P_2[:, j])])\n",
    "\n",
    "        # get largest entry in P\n",
    "        i, j = np.unravel_index(np.argmax(P_2, axis=None), P_2.shape)\n",
    "\n",
    "        # set all other values in that row and column to zero\n",
    "        for i1 in range(n):\n",
    "            P_2[i][i1] = 0\n",
    "            P_2[i1][j] = 0\n",
    "\n",
    "        # set the largest entry in P to 1\n",
    "        P_2[i][j] = 1\n",
    "\n",
    "    return P_2"
   ]
  },
  {
   "cell_type": "code",
   "execution_count": 66,
   "id": "d63ed134",
   "metadata": {},
   "outputs": [],
   "source": [
    "def closest_perm_3(P_DS):\n",
    "    P_2 = P_DS.copy()\n",
    "    # for each row\n",
    "    for _ in range(n):\n",
    "        # Normalize each row by dividing by its smallest non-zero entry\n",
    "        for i in range(n):\n",
    "            P_2[i] /= np.min(P_2[i][np.nonzero(P_2[i])])\n",
    "\n",
    "\n",
    "        # get largest entry in P\n",
    "        i, j = np.unravel_index(np.argmax(P_2, axis=None), P_2.shape)\n",
    "\n",
    "        # set all other values in that row and column to zero\n",
    "        for i1 in range(n):\n",
    "            P_2[i][i1] = 0\n",
    "            P_2[i1][j] = 0\n",
    "\n",
    "        # set the largest entry in P to 1\n",
    "        P_2[i][j] = 1\n",
    "\n",
    "    return P_2"
   ]
  },
  {
   "cell_type": "code",
   "execution_count": 88,
   "id": "d8e5310c",
   "metadata": {},
   "outputs": [],
   "source": [
    "def closest_perm_4(P_DS):\n",
    "    P_2 = P_DS.copy() * -1\n",
    "    # for each row\n",
    "    for _ in range(n):\n",
    "        # get largest entry in P\n",
    "        i, j = np.unravel_index(np.argmin(P_2, axis=None), P_2.shape)\n",
    "    \n",
    "        # set all other values in that row and column to zero\n",
    "        for i1 in range(n):\n",
    "            P_2[i][i1] = 0\n",
    "            P_2[i1][j] = 0\n",
    "        \n",
    "        # set the largest entry in P to 1\n",
    "        P_2[i][j] = 1\n",
    "\n",
    "    return P_2"
   ]
  }
 ],
 "metadata": {
  "kernelspec": {
   "display_name": "Python 3",
   "language": "python",
   "name": "python3"
  },
  "language_info": {
   "codemirror_mode": {
    "name": "ipython",
    "version": 3
   },
   "file_extension": ".py",
   "mimetype": "text/x-python",
   "name": "python",
   "nbconvert_exporter": "python",
   "pygments_lexer": "ipython3",
   "version": "3.8.10"
  }
 },
 "nbformat": 4,
 "nbformat_minor": 5
}
