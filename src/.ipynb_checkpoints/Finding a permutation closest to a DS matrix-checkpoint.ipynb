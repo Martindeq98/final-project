{
 "cells": [
  {
   "cell_type": "code",
   "execution_count": 7,
   "id": "59f68edf",
   "metadata": {},
   "outputs": [],
   "source": [
    "import itertools\n",
    "import numpy as np\n",
    "import matplotlib.pyplot as plt\n",
    "\n",
    "from operator import itemgetter"
   ]
  },
  {
   "cell_type": "markdown",
   "id": "ee87a765",
   "metadata": {},
   "source": [
    "## Generate a Doubly Stochastic Matrix"
   ]
  },
  {
   "cell_type": "code",
   "execution_count": 8,
   "id": "56608627",
   "metadata": {},
   "outputs": [
    {
     "name": "stdout",
     "output_type": "stream",
     "text": [
      "[[0.26213016 0.40661542 0.33125442]\n",
      " [0.31404933 0.16766826 0.51828241]\n",
      " [0.42385335 0.42581003 0.15033662]]\n"
     ]
    }
   ],
   "source": [
    "def gen_P(n):\n",
    "    P = np.random.random((n, n))\n",
    "    \n",
    "    rsum = 0\n",
    "    csum = 0\n",
    "\n",
    "    while (np.any(np.round(rsum, 3) != 1)) | (np.any(np.round(csum, 3) != 1)):\n",
    "        P /= P.sum(0)\n",
    "        P = P / P.sum(1)[:, np.newaxis]\n",
    "        rsum = P.sum(1)\n",
    "        csum = P.sum(0)\n",
    "        \n",
    "    return P\n",
    "\n",
    "n = 3\n",
    "P = gen_P(n)\n",
    "print(P)"
   ]
  },
  {
   "cell_type": "markdown",
   "id": "12932079",
   "metadata": {},
   "source": [
    "## Find \"Closest\" permutation matrix\n",
    "Using the Hungarian Algorithm, we can find the \"closest\" permutation matrix $P_{perm}$ to $P_{DS}$."
   ]
  },
  {
   "cell_type": "code",
   "execution_count": 16,
   "id": "9eb6e1d7",
   "metadata": {},
   "outputs": [
    {
     "name": "stdout",
     "output_type": "stream",
     "text": [
      "Doubly stochastic P:\n",
      " [[0.45412022 0.44072023 0.10515955]\n",
      " [0.39080582 0.273181   0.33601318]\n",
      " [0.15499343 0.28605872 0.55894786]]\n",
      "\n",
      "Hungarian Algorithm:\n",
      " [[0. 1. 0.]\n",
      " [1. 0. 0.]\n",
      " [0. 0. 1.]]\n",
      "\n",
      "Maximum to one:\n",
      " [[0. 1. 0.]\n",
      " [1. 0. 0.]\n",
      " [0. 0. 1.]]\n",
      "\n",
      "Relative maximum in row to one:\n",
      " [[1. 0. 0.]\n",
      " [0. 1. 0.]\n",
      " [0. 0. 1.]]\n",
      "\n",
      "Relative maximum in column to one:\n",
      " [[1. 0. 0.]\n",
      " [0. 1. 0.]\n",
      " [0. 0. 1.]]\n",
      "\n"
     ]
    }
   ],
   "source": [
    "from scipy import optimize\n",
    "\n",
    "def closest_perm_1(P_DS):\n",
    "    # convert to get the maximum linear assignment problem\n",
    "    P_MOD = np.ones((n, n)) * np.max(P_DS) - P_DS\n",
    "    row_ind, col_ind = optimize.linear_sum_assignment(P_MOD)\n",
    "\n",
    "    # Create Permutation matrix to return\n",
    "    P_perm = np.zeros((n, n))\n",
    "\n",
    "    for row, col in zip(row_ind, col_ind):\n",
    "        P_perm[row][col] = 1 \n",
    "    \n",
    "    return P_perm\n",
    "\n",
    "P_DS = gen_P(n)\n",
    "print(\"Doubly stochastic P:\\n\", P_DS, end = \"\\n\\n\")\n",
    "print(\"Hungarian Algorithm:\\n\", closest_perm_1(P_DS), end = \"\\n\\n\")\n",
    "print(\"Maximum to one:\\n\", closest_perm_2(P_DS), end = \"\\n\\n\")\n",
    "print(\"Relative maximum in row to one:\\n\", closest_perm_3(P_DS), end = \"\\n\\n\")\n",
    "print(\"Relative maximum in column to one:\\n\", closest_perm_4(P_DS), end = \"\\n\\n\")"
   ]
  },
  {
   "cell_type": "code",
   "execution_count": 2,
   "id": "1adace16",
   "metadata": {},
   "outputs": [],
   "source": [
    "def closest_perm_2(P_DS):\n",
    "    P_2 = P_DS.copy()\n",
    "    # for each row\n",
    "    for _ in range(n):\n",
    "        # Normalize each row by dividing by its smallest non-zero entry\n",
    "        for j in range(n):\n",
    "            P_2[:, j] /= np.min(P_2[:, j][np.nonzero(P_2[:, j])])\n",
    "\n",
    "        # get largest entry in P\n",
    "        i, j = np.unravel_index(np.argmax(P_2, axis=None), P_2.shape)\n",
    "\n",
    "        # set all other values in that row and column to zero\n",
    "        for i1 in range(n):\n",
    "            P_2[i][i1] = 0\n",
    "            P_2[i1][j] = 0\n",
    "\n",
    "        # set the largest entry in P to 1\n",
    "        P_2[i][j] = 1\n",
    "\n",
    "    return P_2"
   ]
  },
  {
   "cell_type": "code",
   "execution_count": 3,
   "id": "1bc914d5",
   "metadata": {},
   "outputs": [],
   "source": [
    "def closest_perm_3(P_DS):\n",
    "    P_2 = P_DS.copy()\n",
    "    # for each row\n",
    "    for _ in range(n):\n",
    "        # Normalize each row by dividing by its smallest non-zero entry\n",
    "        for i in range(n):\n",
    "            P_2[i] /= np.min(P_2[i][np.nonzero(P_2[i])])\n",
    "\n",
    "\n",
    "        # get largest entry in P\n",
    "        i, j = np.unravel_index(np.argmax(P_2, axis=None), P_2.shape)\n",
    "\n",
    "        # set all other values in that row and column to zero\n",
    "        for i1 in range(n):\n",
    "            P_2[i][i1] = 0\n",
    "            P_2[i1][j] = 0\n",
    "\n",
    "        # set the largest entry in P to 1\n",
    "        P_2[i][j] = 1\n",
    "\n",
    "    return P_2"
   ]
  },
  {
   "cell_type": "code",
   "execution_count": 4,
   "id": "48c2427b",
   "metadata": {},
   "outputs": [],
   "source": [
    "def closest_perm_4(P_DS):\n",
    "    P_2 = P_DS.copy() * -1\n",
    "    # for each row\n",
    "    for _ in range(n):\n",
    "        # get largest entry in P\n",
    "        i, j = np.unravel_index(np.argmin(P_2, axis=None), P_2.shape)\n",
    "    \n",
    "        # set all other values in that row and column to zero\n",
    "        for i1 in range(n):\n",
    "            P_2[i][i1] = 0\n",
    "            P_2[i1][j] = 0\n",
    "        \n",
    "        # set the largest entry in P to 1\n",
    "        P_2[i][j] = 1\n",
    "\n",
    "    return P_2"
   ]
  }
 ],
 "metadata": {
  "kernelspec": {
   "display_name": "Python 3",
   "language": "python",
   "name": "python3"
  },
  "language_info": {
   "codemirror_mode": {
    "name": "ipython",
    "version": 3
   },
   "file_extension": ".py",
   "mimetype": "text/x-python",
   "name": "python",
   "nbconvert_exporter": "python",
   "pygments_lexer": "ipython3",
   "version": "3.8.10"
  }
 },
 "nbformat": 4,
 "nbformat_minor": 5
}
