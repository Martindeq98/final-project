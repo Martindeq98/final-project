{
 "cells": [
  {
   "cell_type": "code",
   "execution_count": 155,
   "id": "61e7bfda",
   "metadata": {},
   "outputs": [],
   "source": [
    "import helper.helper as h\n",
    "length, n = 10000, 3\n",
    "h.length, h.n = length, n"
   ]
  },
  {
   "cell_type": "code",
   "execution_count": 156,
   "id": "96a5291d",
   "metadata": {},
   "outputs": [
    {
     "data": {
      "text/plain": [
       "[<matplotlib.lines.Line2D at 0x15f60553460>,\n",
       " <matplotlib.lines.Line2D at 0x15f605531f0>,\n",
       " <matplotlib.lines.Line2D at 0x15f605538b0>]"
      ]
     },
     "execution_count": 156,
     "metadata": {},
     "output_type": "execute_result"
    },
    {
     "data": {
      "image/png": "[encoded data removed]",
      "text/plain": [
       "<Figure size 432x288 with 1 Axes>"
      ]
     },
     "metadata": {
      "needs_background": "light"
     },
     "output_type": "display_data"
    }
   ],
   "source": [
    "import matplotlib.pyplot as plt\n",
    "import numpy as np\n",
    "\n",
    "A = np.array([[0.0, 0.0, 0.0], [0.8, 0.0, 0.0], [0.8, 0.8, 0.0]])\n",
    "series = h.generate_sem_data(length, n, A, np.identity(n))\n",
    "plt.plot(series)"
   ]
  },
  {
   "cell_type": "markdown",
   "id": "607af441",
   "metadata": {},
   "source": [
    "### Estimate A using least squares\n",
    "#### When data is VAR(1)"
   ]
  },
  {
   "cell_type": "code",
   "execution_count": 157,
   "id": "b1b265b9",
   "metadata": {},
   "outputs": [
    {
     "name": "stdout",
     "output_type": "stream",
     "text": [
      "[-0.00729813  0.00946191 -0.002268  ]\n",
      "[ 0.00058567  0.00468968 -0.0034844 ]\n",
      "[ 0.00975098  0.00838545 -0.01135743]\n",
      "[[0.  0.  0. ]\n",
      " [0.8 0.  0. ]\n",
      " [0.8 0.8 0. ]]\n"
     ]
    }
   ],
   "source": [
    "import statsmodels.api as sm\n",
    "# OLS Solution\n",
    "# Write in the form y_i = X_i beta_i\n",
    "X = np.insert(series[:-1, :], 0, np.zeros(n), axis=0)\n",
    "\n",
    "for i in range(n):\n",
    "    y_i = series[:, i]\n",
    "    est_i = sm.OLS(y_i, X).fit()\n",
    "\n",
    "    print(est_i.params)\n",
    "\n",
    "print(A)"
   ]
  },
  {
   "cell_type": "markdown",
   "id": "77de61d4",
   "metadata": {},
   "source": [
    "#### When data is SEM"
   ]
  },
  {
   "cell_type": "code",
   "execution_count": 158,
   "id": "510349de",
   "metadata": {},
   "outputs": [
    {
     "name": "stdout",
     "output_type": "stream",
     "text": [
      "[0.80226579 0.        ]\n",
      "[0.79208378 0.79986826 0.        ]\n",
      "[[0.  0.  0. ]\n",
      " [0.8 0.  0. ]\n",
      " [0.8 0.8 0. ]]\n"
     ]
    }
   ],
   "source": [
    "# OLS Solution\n",
    "# Write in the form y_i = X_i beta_i\n",
    "\n",
    "for i in range(1, n):\n",
    "    y_i = series[:, i]\n",
    "    X_i = series[:, :i]\n",
    "    est_i = sm.OLS(y_i, X_i).fit()\n",
    "\n",
    "    print(np.insert(est_i.params, i, 0))\n",
    "\n",
    "print(A)"
   ]
  },
  {
   "cell_type": "markdown",
   "id": "06f8a71c",
   "metadata": {},
   "source": [
    "# Check if DAG is possible"
   ]
  },
  {
   "cell_type": "code",
   "execution_count": 105,
   "id": "63248ecb",
   "metadata": {},
   "outputs": [
    {
     "name": "stdout",
     "output_type": "stream",
     "text": [
      "Something went wrong at stage 0\n",
      "Topological order: .\n"
     ]
    }
   ],
   "source": [
    "def A_to_DAG(A):\n",
    "    \"\"\"Input, WAM A\"\"\"\n",
    "    \n",
    "    # get copy to modify\n",
    "    WAM = A.copy()\n",
    "    #print(f\"Original A:\\n{WAM}\")\n",
    "    WAM[WAM == 0] = np.nan\n",
    "    \n",
    "    # we do not take self-loops into account\n",
    "    np.fill_diagonal(WAM, np.nan)\n",
    "    \n",
    "    # show initial WAM\n",
    "    #print(f\"A we start with:\\n{WAM}\")\n",
    "    \n",
    "    # initialize ordering\n",
    "    top_order = np.array([])\n",
    "    \n",
    "    # iterative remove the row with no zeros\n",
    "    for i in range(WAM.shape[0]):\n",
    "        # find row with zeros\n",
    "        for j in range(WAM.shape[0]):\n",
    "\n",
    "            \n",
    "            # if no dependencies and not already in top_order\n",
    "            if np.isnan(WAM[j]).all() and j not in top_order:\n",
    "                # append to top order\n",
    "                top_order = np.append(top_order, j)\n",
    "                \n",
    "                # remove all entries in the row and column\n",
    "                WAM[j] = np.nan\n",
    "                WAM[:,j] = np.nan  \n",
    "            \n",
    "        if len(top_order) < i + 1:\n",
    "            print(\"Something went wrong at stage\", i)\n",
    "            return []\n",
    "            \n",
    "    return top_order\n",
    "\n",
    "print(f\"Topological order: {A_to_DAG(np.round(A, 2))}.\")"
   ]
  },
  {
   "cell_type": "markdown",
   "id": "be011877",
   "metadata": {},
   "source": [
    "### What if there is no DAG??\n",
    "Iteratively remove the entry smallest in absolute value. If two values are equally small, then remove the first one encountered, e.g. lexographically the smallest."
   ]
  },
  {
   "cell_type": "code",
   "execution_count": 114,
   "id": "f0ba677f",
   "metadata": {},
   "outputs": [
    {
     "name": "stdout",
     "output_type": "stream",
     "text": [
      "[[0.3 0.4 0.2]\n",
      " [0.2 0.1 0.1]\n",
      " [0.2 0.3 0.1]]\n",
      "Something went wrong at stage 0\n",
      "Removing A[1][2].\n",
      "Something went wrong at stage 0\n",
      "Removing A[0][2].\n",
      "Something went wrong at stage 0\n",
      "Removing A[1][0].\n",
      "[1. 0. 2.]\n"
     ]
    }
   ],
   "source": [
    "A2 = A.copy()\n",
    "print(A2)\n",
    "\n",
    "while len(A_to_DAG(A2)) == 0:\n",
    "    # remove smallest entry\n",
    "    A2[A2 == 0] = np.nan\n",
    "    \n",
    "    # we do not take self-loops into account\n",
    "    np.fill_diagonal(A2, np.nan)\n",
    "    \n",
    "    # set minimal value to the smallest\n",
    "    minval = np.nanargmin(np.abs(A2))\n",
    "    \n",
    "    print(f\"Removing A[{minval // n}][{minval % n}].\")\n",
    "    A2[minval // n][minval % n] = np.nan\n",
    "\n",
    "print(A_to_DAG(A2))"
   ]
  }
 ],
 "metadata": {
  "kernelspec": {
   "display_name": "Python 3",
   "language": "python",
   "name": "python3"
  },
  "language_info": {
   "codemirror_mode": {
    "name": "ipython",
    "version": 3
   },
   "file_extension": ".py",
   "mimetype": "text/x-python",
   "name": "python",
   "nbconvert_exporter": "python",
   "pygments_lexer": "ipython3",
   "version": "3.8.10"
  }
 },
 "nbformat": 4,
 "nbformat_minor": 5
}
