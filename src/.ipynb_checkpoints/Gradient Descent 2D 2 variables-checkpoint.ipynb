{
 "cells": [
  {
   "cell_type": "markdown",
   "id": "379a0596",
   "metadata": {},
   "source": [
    "# Gradient Descent"
   ]
  },
  {
   "cell_type": "code",
   "execution_count": 6,
   "id": "59f68edf",
   "metadata": {},
   "outputs": [],
   "source": [
    "import numpy as np\n",
    "import matplotlib.pyplot as plt\n",
    "from scipy import optimize"
   ]
  },
  {
   "cell_type": "markdown",
   "id": "0792a7d5",
   "metadata": {},
   "source": [
    "## Generate 2D Data"
   ]
  },
  {
   "cell_type": "code",
   "execution_count": 7,
   "id": "fb18cd88",
   "metadata": {},
   "outputs": [],
   "source": [
    "def generate_data(length, num_variables, A, Vx = 1, Vy = 1):\n",
    "\n",
    "    # Initialize series\n",
    "    series = np.array(np.zeros((length, num_variables)))\n",
    "\n",
    "    # Coupling strength\n",
    "    axx = A[0][0] # influence of X_t-1 on X_t\n",
    "    axy = A[1][0] # influence of X_t-1 on Y_t\n",
    "    ayx = A[0][1] # influence of Y_t-1 on X_t\n",
    "    ayy = A[1][1] # influence of Y_t-1 on Y_t\n",
    "    \n",
    "    # Generate series\n",
    "    for t in range(1, length):\n",
    "        # Generate VAR model\n",
    "        series[t][0] = axx * series[t - 1][0] + ayx * series[t - 1][1] + np.random.normal(0, Vx)\n",
    "        series[t][1] = ayy * series[t - 1][1] + axy * series[t - 1][0] + np.random.normal(0, Vy)\n",
    "    \n",
    "    return series"
   ]
  },
  {
   "cell_type": "code",
   "execution_count": 8,
   "id": "9043f3d3",
   "metadata": {},
   "outputs": [
    {
     "ename": "NameError",
     "evalue": "name 'series_2D' is not defined",
     "output_type": "error",
     "traceback": [
      "\u001b[1;31m---------------------------------------------------------------------------\u001b[0m",
      "\u001b[1;31mNameError\u001b[0m                                 Traceback (most recent call last)",
      "\u001b[1;32m<ipython-input-8-0a0acdd21db9>\u001b[0m in \u001b[0;36m<module>\u001b[1;34m\u001b[0m\n\u001b[0;32m      8\u001b[0m \u001b[0mplt\u001b[0m\u001b[1;33m.\u001b[0m\u001b[0mfigure\u001b[0m\u001b[1;33m(\u001b[0m\u001b[0mfigsize\u001b[0m\u001b[1;33m=\u001b[0m\u001b[1;33m(\u001b[0m\u001b[1;36m16\u001b[0m\u001b[1;33m,\u001b[0m\u001b[1;36m2\u001b[0m\u001b[1;33m)\u001b[0m\u001b[1;33m)\u001b[0m\u001b[1;33m\u001b[0m\u001b[1;33m\u001b[0m\u001b[0m\n\u001b[0;32m      9\u001b[0m \u001b[0mplt\u001b[0m\u001b[1;33m.\u001b[0m\u001b[0mtitle\u001b[0m\u001b[1;33m(\u001b[0m\u001b[1;34m\"Time series\"\u001b[0m\u001b[1;33m)\u001b[0m\u001b[1;33m\u001b[0m\u001b[1;33m\u001b[0m\u001b[0m\n\u001b[1;32m---> 10\u001b[1;33m \u001b[0mplots\u001b[0m \u001b[1;33m=\u001b[0m \u001b[0mplt\u001b[0m\u001b[1;33m.\u001b[0m\u001b[0mplot\u001b[0m\u001b[1;33m(\u001b[0m\u001b[0mseries_2D\u001b[0m\u001b[1;33m)\u001b[0m\u001b[1;33m\u001b[0m\u001b[1;33m\u001b[0m\u001b[0m\n\u001b[0m\u001b[0;32m     11\u001b[0m \u001b[0mplt\u001b[0m\u001b[1;33m.\u001b[0m\u001b[0mlegend\u001b[0m\u001b[1;33m(\u001b[0m\u001b[0mplots\u001b[0m\u001b[1;33m,\u001b[0m \u001b[1;33m[\u001b[0m\u001b[1;34m\"X\"\u001b[0m\u001b[1;33m,\u001b[0m \u001b[1;34m\"Y\"\u001b[0m\u001b[1;33m]\u001b[0m\u001b[1;33m,\u001b[0m \u001b[0mloc\u001b[0m\u001b[1;33m=\u001b[0m\u001b[1;36m1\u001b[0m\u001b[1;33m)\u001b[0m\u001b[1;33m\u001b[0m\u001b[1;33m\u001b[0m\u001b[0m\n\u001b[0;32m     12\u001b[0m \u001b[0mplt\u001b[0m\u001b[1;33m.\u001b[0m\u001b[0mshow\u001b[0m\u001b[1;33m(\u001b[0m\u001b[1;33m)\u001b[0m\u001b[1;33m\u001b[0m\u001b[1;33m\u001b[0m\u001b[0m\n",
      "\u001b[1;31mNameError\u001b[0m: name 'series_2D' is not defined"
     ]
    },
    {
     "data": {
      "image/png": "[encoded data removed]",
      "text/plain": [
       "<Figure size 1152x144 with 1 Axes>"
      ]
     },
     "metadata": {
      "needs_background": "light"
     },
     "output_type": "display_data"
    }
   ],
   "source": [
    "length, num_variables = 1000, 2\n",
    "\n",
    "# Generate 2D data\n",
    "A = [[0.8, 0.2], [0.2, 0.0]]\n",
    "series = generate_data(length, num_variables, A)\n",
    "\n",
    "# Plot\n",
    "plt.figure(figsize=(16,2))\n",
    "plt.title(\"Time series\")\n",
    "plots = plt.plot(series_2D)\n",
    "plt.legend(plots, [\"X\", \"Y\"], loc=1)\n",
    "plt.show()"
   ]
  },
  {
   "cell_type": "markdown",
   "id": "8544e1ee",
   "metadata": {},
   "source": [
    "## Cost function\n",
    "$$C = (y_t - y_{t, pred})^2$$\n",
    "$$C = \\sum_{t=2}^T(P\\mathbf{X}_t - AP\\mathbf{X}_{t-1})$$"
   ]
  },
  {
   "cell_type": "markdown",
   "id": "cc7c5364",
   "metadata": {},
   "source": [
    "### Gradient computation in two dimensions when $P = \\begin{pmatrix} p & 1 - p \\\\ 1 - p & p \\end{pmatrix}$, $A = \\begin{pmatrix} 0 & a \\\\ 0 & 0 \\end{pmatrix}$."
   ]
  },
  {
   "cell_type": "code",
   "execution_count": 87,
   "id": "09fea013",
   "metadata": {},
   "outputs": [],
   "source": [
    "def C(variables, l = 0.01):\n",
    "    \"\"\"\n",
    "    Returns the cost value for 2 dimensions;\n",
    "    Computes it in Matrix Form.\n",
    "    @params: p, a are real numbers defining P = [[p, 1 - p], [1 - p, p]],\n",
    "             and A being strictly upper triangular where the only non-zero element is a.\n",
    "    \"\"\"\n",
    "    \n",
    "    # extract parameters\n",
    "    p, a = variables\n",
    "    \n",
    "    # construct matrices\n",
    "    A = np.array([[0, 0], [a, 0]])\n",
    "    P = np.array([[p, 1 - p], [1 - p, p]])\n",
    "    \n",
    "    # initialize cost value\n",
    "    cost = 0\n",
    "    \n",
    "    for t in range(1, length):\n",
    "        # compute actual value, estimated value, and residual error for y_t\n",
    "        val = np.matmul(P, series[t])\n",
    "        est = np.matmul(A, np.matmul(P, series[t - 1]))\n",
    "        \n",
    "        # add residual error to cost value\n",
    "        cost += np.linalg.norm(val - est) ** 2\n",
    "    \n",
    "    # return normalized cost value\n",
    "    return cost / length\n",
    "\n",
    "def C_2(variables, l = 0.01):\n",
    "    \"\"\"\n",
    "    Returns the cost value for 2 dimensions;\n",
    "    Computes it in written out form.\n",
    "    @params: p, a are real numbers defining P = [[p, 1 - p], [1 - p, p]],\n",
    "             and A being strictly upper triangular where the only non-zero element is a.\n",
    "    \"\"\"\n",
    "    \n",
    "    # extract parameters\n",
    "    p, a = variables\n",
    "    \n",
    "    # initialize cost value\n",
    "    cost = 0\n",
    "    \n",
    "    for t in range(1, length):\n",
    "        # compute actual value, estimated value, and residual error for y_t\n",
    "        val_1 = p * series[t][0] + (1 - p) * series[t][1]\n",
    "        est_1 = 0\n",
    "        \n",
    "        val_2 = p * series[t][1] + (1 - p) * series[t][0]\n",
    "        est_2 = a * (p * series[t - 1][0] + (1 - p) * series[t - 1][1])\n",
    "        \n",
    "        # add residual error to cost value\n",
    "        cost += (val_1 - est_1) ** 2 + (val_2 - est_2) ** 2\n",
    "    \n",
    "    # return normalized cost value\n",
    "    return cost / length\n",
    "\n",
    "def C_p(variables, l = 0.01):\n",
    "    \"\"\"\n",
    "        Returns the partial derivative of the cost value with respect to p for 2 dimensions;\n",
    "        Computes it in written out form.\n",
    "        @params: p, a are real numbers defining P = [[p, 1 - p], [1 - p, p]],\n",
    "                 and A being strictly upper triangular where the only non-zero element is a.\n",
    "    \"\"\"\n",
    "    \n",
    "    # extract parameters\n",
    "    p, a = variables\n",
    "    \n",
    "    # initialize derivative value\n",
    "    derivative_p = 0\n",
    "    \n",
    "    for t in range(1, length):\n",
    "        # compute actual value, estimated value, and derivative of chain rule \n",
    "        val_1_p = p * series[t][0] + (1 - p) * series[t][1]\n",
    "        est_1_p = 0\n",
    "        derivative_p_1 = 2 * (val_1_p - est_1_p) * (series[t][0] - series[t][1])\n",
    "        \n",
    "        val_2_p = p * series[t][1] + (1 - p) * series[t][0]\n",
    "        est_2_p = a * (p * series[t - 1][0] + (1 - p) * series[t - 1][1])\n",
    "        derivative_p_2 = 2 * (val_2_p - est_2_p) * (series[t][1] - series[t][0] - a * (series[t - 1][0] - series[t - 1][1]))\n",
    "        \n",
    "        # add this to the derivate\n",
    "        derivative_p += derivative_p_1 + derivative_p_2\n",
    "        \n",
    "    return derivative_p / length \n",
    "\n",
    "def C_a(variables, l = 0.01):\n",
    "    \"\"\"\n",
    "        Returns the partial derivative of the cost value with respect to a for 2 dimensions;\n",
    "        Computes it in written out form.\n",
    "        @params: p, a are real numbers defining P = [[p, 1 - p], [1 - p, p]],\n",
    "                 and A being strictly upper triangular where the only non-zero element is a.\n",
    "    \"\"\"\n",
    "\n",
    "    # extract parameters\n",
    "    p, a = variables\n",
    "    \n",
    "    # initialize derivative value\n",
    "    derivative_a = 0\n",
    "    \n",
    "    for t in range(1, length):\n",
    "        # compute actual value, estimated value, and derivative of chain rule \n",
    "        val_1_a = p * series[t][0] + (1 - p) * series[t][1]\n",
    "        est_1_a = 0\n",
    "        derivative_a_1 = 2 * (val_1_a - est_1_a) * 0\n",
    "        \n",
    "        val_2_a = p * series[t][1] + (1 - p) * series[t][0]\n",
    "        est_2_a = a * (p * series[t - 1][0] + (1 - p) * series[t - 1][1])\n",
    "        derivative_a_2 = 2 * (est_2_a - val_2_a) * (p * series[t - 1][0] + (1 - p) * series[t - 1][1])\n",
    "        \n",
    "        # add this to the derivate\n",
    "        derivative_a += derivative_a_1 + derivative_a_2\n",
    "        \n",
    "    return derivative_a / length"
   ]
  },
  {
   "cell_type": "code",
   "execution_count": 334,
   "id": "d3dc2c9e",
   "metadata": {},
   "outputs": [],
   "source": [
    "# fixed value of p and learning rate and inital a\n",
    "p, L, a = 0.5, 0.05, 0.0"
   ]
  },
  {
   "cell_type": "markdown",
   "id": "844d42e6",
   "metadata": {},
   "source": [
    "### Iteratively find stationary point $a^*$ by running the cell"
   ]
  },
  {
   "cell_type": "code",
   "execution_count": 335,
   "id": "69ea400b",
   "metadata": {},
   "outputs": [
    {
     "name": "stdout",
     "output_type": "stream",
     "text": [
      "Current cost value using C():   2.97163 \n",
      "Current cost value using C_2(): 2.97163\n",
      "Derivative of a: -2.27827\n",
      "New value of a:  0.11391\n",
      "Hopefully improved cost value C()  : 2.73138\n",
      "Hopefully improved cost value:C_2(): 2.73138\n"
     ]
    }
   ],
   "source": [
    "# print old values\n",
    "print(\"Current cost value using C():  \", round(C([p, a]), 5), \"\\nCurrent cost value using C_2():\", round(C_2([p, a]), 5))\n",
    "\n",
    "# compute derivative\n",
    "a_der = C_a([p, a])\n",
    "print(\"Derivative of a:\", round(a_der, 5))\n",
    "\n",
    "# update a\n",
    "a -= L * a_der\n",
    "\n",
    "# print updated a\n",
    "print(\"New value of a: \", round(a, 5))\n",
    "print(\"Hopefully improved cost value C()  :\", round(C([p, a]), 5))\n",
    "print(\"Hopefully improved cost value:C_2():\", round(C_2([p, a]), 5))"
   ]
  },
  {
   "cell_type": "markdown",
   "id": "020a179d",
   "metadata": {},
   "source": [
    "### Iteratively find stationary point $p^*$ by running the cell"
   ]
  },
  {
   "cell_type": "code",
   "execution_count": 337,
   "id": "5ea8c206",
   "metadata": {},
   "outputs": [
    {
     "name": "stdout",
     "output_type": "stream",
     "text": [
      "Current cost value using C():   2.73134 \n",
      "Current cost value using C_2(): 2.73134\n",
      "Derivative of p: 0.008\n",
      "New value of p:  0.49789\n",
      "Hopefully improved cost value C()  : 2.73134\n",
      "Hopefully improved cost value:C_2(): 2.73134\n"
     ]
    }
   ],
   "source": [
    "# print old values\n",
    "print(\"Current cost value using C():  \", round(C([p, a]), 5), \"\\nCurrent cost value using C_2():\", round(C_2([p, a]), 5))\n",
    "\n",
    "# compute derivative\n",
    "p_der = C_p([p, a])\n",
    "print(\"Derivative of p:\", round(p_der, 3))\n",
    "\n",
    "# update a\n",
    "p -= L * p_der\n",
    "\n",
    "# print updated p\n",
    "print(\"New value of p: \", round(p, 5))\n",
    "print(\"Hopefully improved cost value C()  :\", round(C([p, a]), 5))\n",
    "print(\"Hopefully improved cost value:C_2():\", round(C_2([p, a]), 5))"
   ]
  },
  {
   "cell_type": "markdown",
   "id": "a58c2db2",
   "metadata": {},
   "source": [
    "### In a loop"
   ]
  },
  {
   "cell_type": "code",
   "execution_count": 348,
   "id": "ec68f415",
   "metadata": {},
   "outputs": [
    {
     "name": "stdout",
     "output_type": "stream",
     "text": [
      "Old a: 0.852 \n",
      "Old cost value: 2.043\n",
      "New a: 0.853 \n",
      "New cost value: 2.043\n"
     ]
    }
   ],
   "source": [
    "print(\"Old a:\", round(a, 3), \"\\nOld cost value:\", round(C([p, a]), 3))\n",
    "iterations, L = 250, 0.05\n",
    "for _ in range(iterations):\n",
    "    a -= L * C_a([p, a])\n",
    "\n",
    "print(\"New a:\", round(a, 3), \"\\nNew cost value:\", round(C([p, a]), 3))"
   ]
  },
  {
   "cell_type": "code",
   "execution_count": 347,
   "id": "abca35cc",
   "metadata": {},
   "outputs": [
    {
     "name": "stdout",
     "output_type": "stream",
     "text": [
      "Old p: 0.429 \n",
      "Old cost value: 2.043\n",
      "New p: 0.428 \n",
      "New cost value: 2.043\n"
     ]
    }
   ],
   "source": [
    "print(\"Old p:\", round(p, 3), \"\\nOld cost value:\", round(C([p, a]), 3))\n",
    "iterations, L = 250, 0.001\n",
    "for _ in range(iterations):\n",
    "    p -= L * C_p([p, a])\n",
    "\n",
    "print(\"New p:\", round(p, 3), \"\\nNew cost value:\", round(C([p, a]), 3))"
   ]
  },
  {
   "cell_type": "markdown",
   "id": "9a5c9fe3",
   "metadata": {},
   "source": [
    "### Plot cost function and its partial derivative w.r.t. $p$ as a function of $p$"
   ]
  },
  {
   "cell_type": "code",
   "execution_count": 375,
   "id": "30c777a9",
   "metadata": {},
   "outputs": [
    {
     "data": {
      "text/plain": [
       "<matplotlib.legend.Legend at 0x217db8a3190>"
      ]
     },
     "execution_count": 375,
     "metadata": {},
     "output_type": "execute_result"
    },
    {
     "data": {
      "image/png": "[encoded data removed]",
      "text/plain": [
       "<Figure size 648x360 with 1 Axes>"
      ]
     },
     "metadata": {
      "needs_background": "light"
     },
     "output_type": "display_data"
    }
   ],
   "source": [
    "# create list of ps and a fixed a\n",
    "ps, a_fix = np.linspace(0, 1, 100), 0.0\n",
    "\n",
    "# compute values for different p\n",
    "costs = []\n",
    "costs_p = []\n",
    "\n",
    "for p in ps:\n",
    "    costs.append(C_2([p, a_fix]))\n",
    "    costs_p.append(C_p([p, a_fix]))\n",
    "\n",
    "# plot cost function and derivative\n",
    "# derivative should cross y = 0 at the minimum of the cost function\n",
    "plt.figure(figsize=(9, 5))\n",
    "plt.plot(ps, costs, label = \"$C(a = 0.0, p)$\")\n",
    "plt.plot(ps, costs_p, label = r\"$\\frac{\\partial C(a = 0.0, p)}{\\partial p}$\")\n",
    "plt.plot(np.zeros(2), linestyle= '--')\n",
    "plt.xlabel('$p$')\n",
    "plt.ylabel('Attained value')\n",
    "plt.ylim(-5, 6)\n",
    "plt.legend()"
   ]
  },
  {
   "cell_type": "markdown",
   "id": "4f15fbbd",
   "metadata": {},
   "source": [
    "### Plot cost function and its partial derivative w.r.t. $a$ as a function of $a$"
   ]
  },
  {
   "cell_type": "code",
   "execution_count": 386,
   "id": "724f3a06",
   "metadata": {},
   "outputs": [
    {
     "data": {
      "text/plain": [
       "<matplotlib.legend.Legend at 0x217dbbae0a0>"
      ]
     },
     "execution_count": 386,
     "metadata": {},
     "output_type": "execute_result"
    },
    {
     "data": {
      "image/png": "[encoded data removed]",
      "text/plain": [
       "<Figure size 648x360 with 1 Axes>"
      ]
     },
     "metadata": {
      "needs_background": "light"
     },
     "output_type": "display_data"
    }
   ],
   "source": [
    "# create list of as and a fixed p\n",
    "plt.figure(figsize=(9, 5))\n",
    "a_list, p_fix = np.linspace(0, 1.5, 100), 0.5\n",
    "\n",
    "# compute values for different a\n",
    "costs = []\n",
    "costs_a = []\n",
    "for a in a_list:\n",
    "    costs.append(C_2([p_fix, a]))\n",
    "    costs_a.append(C_a([p_fix, a]))\n",
    "\n",
    "# plot cost function and derivative\n",
    "# derivative should cross y = 0 at the minimum of the cost function\n",
    "plt.plot(a_list, costs, label = \"$C(p = 0.5, a)$\")\n",
    "plt.plot(a_list, costs_a, label = r\"$\\frac{\\partial C(p = 0.5, a)}{\\partial a}$\")\n",
    "plt.plot([0, 1.5], np.zeros(2), linestyle= '--')\n",
    "plt.xlabel('$a$')\n",
    "plt.ylabel('Attained value')\n",
    "plt.ylim(-3, 5)\n",
    "plt.legend()"
   ]
  },
  {
   "cell_type": "markdown",
   "id": "7d5833cc",
   "metadata": {},
   "source": [
    "### Contourplots with respect to $p$ and $a$"
   ]
  },
  {
   "cell_type": "code",
   "execution_count": 493,
   "id": "b9d8bc8f",
   "metadata": {},
   "outputs": [],
   "source": [
    "from matplotlib import ticker, cm\n",
    "\n",
    "num = 20\n",
    "\n",
    "x = np.linspace(0.0, 1.0, num)\n",
    "y = np.linspace(0.0, 1.25, num)\n",
    "X, Y = np.meshgrid(x, y)\n",
    "\n",
    "Z = np.array(np.zeros((num, num)))\n",
    "\n",
    "for i in range(num):\n",
    "    for j in range(num):\n",
    "        Z[j][i] = C([x[i], y[j]])"
   ]
  },
  {
   "cell_type": "code",
   "execution_count": 494,
   "id": "c008b41b",
   "metadata": {},
   "outputs": [
    {
     "data": {
      "image/png": "[encoded data removed]",
      "text/plain": [
       "<Figure size 432x288 with 2 Axes>"
      ]
     },
     "metadata": {
      "needs_background": "light"
     },
     "output_type": "display_data"
    }
   ],
   "source": [
    "\n",
    "fig, ax = plt.subplots()\n",
    "im = ax.imshow(Z, interpolation='bilinear', origin='lower',\n",
    "               cmap=cm.viridis, extent=(0.0, 1.0, 0.0, 1.5), aspect = 0.66666)\n",
    "\n",
    "ax.set_title('Contour plot of $C(p, a)$')\n",
    "ax.set_xlabel('$p$')\n",
    "ax.set_ylabel('$a$')\n",
    "\n",
    "CBI = fig.colorbar(im, orientation='vertical', shrink=0.8)\n",
    "plt.show()"
   ]
  },
  {
   "cell_type": "code",
   "execution_count": 495,
   "id": "dc9ffa56",
   "metadata": {},
   "outputs": [
    {
     "data": {
      "image/png": "[encoded data removed]",
      "text/plain": [
       "<Figure size 432x288 with 2 Axes>"
      ]
     },
     "metadata": {
      "needs_background": "light"
     },
     "output_type": "display_data"
    }
   ],
   "source": [
    "Z_0 = np.percentile(Z, 0)\n",
    "Z_1 = np.percentile(Z, 1)\n",
    "Z_5 = np.percentile(Z, 5)\n",
    "Z_10 = np.percentile(Z, 10)\n",
    "Z_25 = np.percentile(Z, 25)\n",
    "Z_50 = np.percentile(Z, 50)\n",
    "Z_75 = np.percentile(Z, 75)\n",
    "Z_100 = np.percentile(Z, 100)\n",
    "\n",
    "fig  = plt.figure()\n",
    "ax   = fig.add_subplot(1,1,1)\n",
    "axim  = ax.contourf(X,Y,Z,levels=[Z_0, Z_1, Z_5, Z_25, Z_75, Z_100], colors = ['green', 'lightgreen', 'yellow', 'orange', 'red'])\n",
    "cb    = fig.colorbar(axim)\n",
    "ax.set_xlabel('$p$')\n",
    "ax.set_ylabel('$a$')\n",
    "\n",
    "plt.show()"
   ]
  },
  {
   "cell_type": "markdown",
   "id": "54cf6b76",
   "metadata": {},
   "source": [
    "### Gradient computation in two dimensions when $P = \\begin{pmatrix} p & 1 - p \\\\ 1 - p & p \\end{pmatrix}$, $A = \\begin{pmatrix} a_{11} & a_{12} \\\\ a_{21} & a_{22} \\end{pmatrix}$."
   ]
  },
  {
   "cell_type": "code",
   "execution_count": 1441,
   "id": "edf09dc0",
   "metadata": {},
   "outputs": [],
   "source": [
    "def C(variables, l = 0.01):\n",
    "    \"\"\"\n",
    "    Returns the cost value for 2 dimensions;\n",
    "    Computes it in Matrix Form.\n",
    "    @params: p, a are real numbers defining P = [[p, 1 - p], [1 - p, p]],\n",
    "             and A being [[a11, a12], [a21, a22]].\n",
    "    \"\"\"\n",
    "        \n",
    "    p, a11, a12, a21, a22  = variables\n",
    "    \n",
    "    A = np.array([[a11, a12], [a21, a22]])\n",
    "    P = np.array([[p, 1 - p], [1 - p, p]])\n",
    "    \n",
    "    cost = 0\n",
    "    \n",
    "    for t in range(1, length):\n",
    "        val = np.matmul(P, series[t])\n",
    "        est = np.matmul(A, np.matmul(P, series[t - 1]))\n",
    "        cost += np.linalg.norm(val - est) ** 2\n",
    "    \n",
    "    return cost\n",
    "\n",
    "def C_2(variables, l = 0.01):\n",
    "    p, a11, a12, a21, a22  = variables\n",
    "    \n",
    "    cost = 0\n",
    "    \n",
    "    for t in range(1, length):\n",
    "        val_1 = p * series[t][0] + (1 - p) * series[t][1]\n",
    "        est_1 = a11 * (p * series[t - 1][0] + (1 - p) * series[t - 1][1]) + a12 * ((1 - p) * series[t - 1][0] + p * series[t - 1][1])\n",
    "        val_2 = p * series[t][1] + (1 - p) * series[t][0]\n",
    "        est_2 = a21 * (p * series[t - 1][0] + (1 - p) * series[t - 1][1]) + a22 * ((1 - p) * series[t - 1][0] + p * series[t - 1][1])\n",
    "        \n",
    "        cost += (val_1 - est_1) ** 2 + (val_2 - est_2) ** 2\n",
    "    \n",
    "    return cost # + l * (np.sum(np.abs(A)))\n",
    "\n",
    "def C_p(variables, l = 0.01):\n",
    "    \"\"\"Calculate the derivative of C w.r.t p\"\"\"\n",
    "    p, a11, a12, a21, a22 = variables\n",
    "    \n",
    "    cost = 0\n",
    "    \n",
    "    for t in range(1, length):\n",
    "        val_1_p = p * series[t][0] + (1 - p) * series[t][1]\n",
    "        est_1_p = a11 * (p * series[t - 1][0] + (1 - p) * series[t - 1][1]) + a12 * ((1 - p) * series[t - 1][0] + p * series[t - 1][1])\n",
    "        derivative_p_1 = 2 * (val_1_p - est_1_p) * (series[t][0] - series[t][1] - a11 * (series[t - 1][0] - series[t - 1][1]) - a12 * (series[t - 1][1] - series[t - 1][0]))\n",
    "        \n",
    "        val_2_p = p * series[t][1] + (1 - p) * series[t][0]\n",
    "        est_2_p = a21 * (p * series[t - 1][0] + (1 - p) * series[t - 1][1]) + a22 * ((1 - p) * series[t - 1][0] + p * series[t - 1][1])\n",
    "        derivative_p_2 = 2 * (val_2_p - est_2_p) * (series[t][1] - series[t][0] - a21 * (series[t - 1][0] - series[t - 1][1]) - a22 * (series[t - 1][1] - series[t - 1][0]))\n",
    "        \n",
    "        cost += derivative_p_1 + derivative_p_2\n",
    "        \n",
    "    return cost # + l * (np.sum(np.abs(A)))\n",
    "\n",
    "def C_a11(variables, l = 0.01):\n",
    "    \"\"\"Calculate the derivative of C w.r.t p\"\"\"\n",
    "    p, a11, a12, a21, a22 = variables\n",
    "    \n",
    "    cost = 0\n",
    "    \n",
    "    for t in range(1, length):\n",
    "        val_1_a11 = p * series[t][0] + (1 - p) * series[t][1]\n",
    "        est_1_a11 = a11 * (p * series[t - 1][0] + (1 - p) * series[t - 1][1]) + a12 * ((1 - p) * series[t - 1][0] + p * series[t - 1][1])\n",
    "        derivative_a11_1 = 2 * (est_1_a11 - val_1_a11) * (p * series[t - 1][0] + (1 - p) * series[t - 1][1])\n",
    "        \n",
    "        val_2_a11 = p * series[t][1] + (1 - p) * series[t][0]\n",
    "        est_2_a11 = a21 * (p * series[t - 1][0] + (1 - p) * series[t - 1][1]) + a22 * ((1 - p) * series[t - 1][0] + p * series[t - 1][1])\n",
    "        derivative_a11_2 = 2 * (est_2_a11 - val_2_a11) * 0\n",
    "        \n",
    "        cost += derivative_a11_1 + derivative_a11_2\n",
    "        \n",
    "    return cost # + l * (np.sum(np.abs(A)))\n",
    "\n",
    "def C_a12(variables, l = 0.01):\n",
    "    \"\"\"Calculate the derivative of C w.r.t p\"\"\"\n",
    "    p, a11, a12, a21, a22 = variables\n",
    "    \n",
    "    cost = 0\n",
    "    \n",
    "    for t in range(1, length):\n",
    "        val_1_a12 = p * series[t][0] + (1 - p) * series[t][1]\n",
    "        est_1_a12 = a11 * (p * series[t - 1][0] + (1 - p) * series[t - 1][1]) + a12 * ((1 - p) * series[t - 1][0] + p * series[t - 1][1])\n",
    "        derivative_a12_1 = 2 * (est_1_a12 - val_1_a12) * ((1 - p) * series[t - 1][0] + p * series[t - 1][1])\n",
    "        \n",
    "        val_2_a12 = p * series[t][1] + (1 - p) * series[t][0]\n",
    "        est_2_a12 = a21 * (p * series[t - 1][0] + (1 - p) * series[t - 1][1]) + a22 * ((1 - p) * series[t - 1][0] + p * series[t - 1][1])\n",
    "        derivative_a12_2 = 2 * (est_2_a12 - val_2_a12) * 0\n",
    "        \n",
    "        cost += derivative_a12_1 + derivative_a12_2\n",
    "        \n",
    "    return cost # + l * (np.sum(np.abs(A)))\n",
    "\n",
    "def C_a21(variables, l = 0.01):\n",
    "    \"\"\"Calculate the derivative of C w.r.t p\"\"\"\n",
    "    p, a11, a12, a21, a22 = variables\n",
    "    \n",
    "    cost = 0\n",
    "    \n",
    "    for t in range(1, length):\n",
    "        val_1_a21 = p * series[t][0] + (1 - p) * series[t][1]\n",
    "        est_1_a21 = a11 * (p * series[t - 1][0] + (1 - p) * series[t - 1][1]) + a12 * ((1 - p) * series[t - 1][0] + p * series[t - 1][1])\n",
    "        derivative_a21_1 = 2 * (est_1_a21 - val_1_a21) * 0\n",
    "        \n",
    "        val_2_a21 = p * series[t][1] + (1 - p) * series[t][0]\n",
    "        est_2_a21 = a21 * (p * series[t - 1][0] + (1 - p) * series[t - 1][1]) + a22 * ((1 - p) * series[t - 1][0] + p * series[t - 1][1])\n",
    "        derivative_a21_2 = 2 * (est_2_a21 - val_2_a21) * (p * series[t - 1][0] + (1 - p) * series[t - 1][1])\n",
    "        \n",
    "        cost += derivative_a21_1 + derivative_a21_2\n",
    "        \n",
    "    return cost # + l * (np.sum(np.abs(A)))\n",
    "\n",
    "def C_a22(variables, l = 0.01):\n",
    "    \"\"\"Calculate the derivative of C w.r.t p\"\"\"\n",
    "    p, a11, a12, a21, a22 = variables\n",
    "    \n",
    "    cost = 0\n",
    "    \n",
    "    for t in range(1, length):\n",
    "        val_1_a22 = p * series[t][0] + (1 - p) * series[t][1]\n",
    "        est_1_a22 = a11 * (p * series[t - 1][0] + (1 - p) * series[t - 1][1]) + a12 * ((1 - p) * series[t - 1][0] + p * series[t - 1][1])\n",
    "        derivative_a22_1 = 2 * (est_1_a22 - val_1_a22) * 0\n",
    "        \n",
    "        val_2_a22 = p * series[t][1] + (1 - p) * series[t][0]\n",
    "        est_2_a22 = a21 * (p * series[t - 1][0] + (1 - p) * series[t - 1][1]) + a22 * ((1 - p) * series[t - 1][0] + p * series[t - 1][1])\n",
    "        derivative_a22_2 = 2 * (est_2_a22 - val_2_a22) * ((1 - p) * series[t - 1][0] + p * series[t - 1][1])\n",
    "        \n",
    "        cost += derivative_a22_1 + derivative_a22_2\n",
    "        \n",
    "    return cost # + l * (np.sum(np.abs(A)))"
   ]
  },
  {
   "cell_type": "code",
   "execution_count": 1132,
   "id": "8c472591",
   "metadata": {},
   "outputs": [
    {
     "name": "stdout",
     "output_type": "stream",
     "text": [
      "1160.7888433961075 1160.7888433961077\n",
      "0.0043074673639724725\n"
     ]
    }
   ],
   "source": [
    "variables = [0.4105425, 0.2, 0.3, 0.4, 0.5]\n",
    "print(C(variables), C_2(variables))\n",
    "print(C_p(variables))"
   ]
  },
  {
   "cell_type": "code",
   "execution_count": 1141,
   "id": "6cdde503",
   "metadata": {},
   "outputs": [
    {
     "name": "stdout",
     "output_type": "stream",
     "text": [
      "1143.227391309818 1143.2273913098177\n",
      "0.006299673015168317\n"
     ]
    }
   ],
   "source": [
    "variables = [0.4105425, 0.32594, 0.3, 0.4, 0.5]\n",
    "print(C(variables), C_2(variables))\n",
    "print(C_a11(variables))"
   ]
  },
  {
   "cell_type": "code",
   "execution_count": 1156,
   "id": "a5414656",
   "metadata": {},
   "outputs": [
    {
     "name": "stdout",
     "output_type": "stream",
     "text": [
      "1137.9277601926697 1137.9277601926697\n",
      "0.04533155292472413\n"
     ]
    }
   ],
   "source": [
    "variables = [0.4105425, 0.32594, 0.36018, 0.4, 0.5]\n",
    "print(C(variables), C_2(variables))\n",
    "print(C_a12(variables))"
   ]
  },
  {
   "cell_type": "code",
   "execution_count": 1272,
   "id": "78c452c3",
   "metadata": {},
   "outputs": [
    {
     "name": "stdout",
     "output_type": "stream",
     "text": [
      "1123.159915485851 1123.1599154858511\n",
      "-0.008336403738787412\n"
     ]
    }
   ],
   "source": [
    "variables = [0.4105425, 0.32594, 0.36018, 0.2845, 0.5]\n",
    "print(C(variables), C_2(variables))\n",
    "print(C_a21(variables))"
   ]
  },
  {
   "cell_type": "code",
   "execution_count": 1191,
   "id": "a7723eea",
   "metadata": {},
   "outputs": [
    {
     "name": "stdout",
     "output_type": "stream",
     "text": [
      "1116.9162313397574 1116.9162313397574\n",
      "0.00042534356080004\n"
     ]
    }
   ],
   "source": [
    "variables = [0.4105425, 0.32594, 0.36018, 0.2845, 0.565304]\n",
    "print(C(variables), C_2(variables))\n",
    "print(C_a22(variables))"
   ]
  },
  {
   "cell_type": "code",
   "execution_count": 1195,
   "id": "0f080af9",
   "metadata": {},
   "outputs": [
    {
     "name": "stdout",
     "output_type": "stream",
     "text": [
      "1108.8777279258322 1108.8777279258322\n",
      "50.780283412658314\n"
     ]
    }
   ],
   "source": [
    "variables = [0.4505425, 0.32594, 0.36018, 0.2845, 0.565304]\n",
    "print(C(variables), C_2(variables))\n",
    "print(C_p(variables))"
   ]
  },
  {
   "cell_type": "code",
   "execution_count": 1281,
   "id": "3b872217",
   "metadata": {},
   "outputs": [
    {
     "name": "stdout",
     "output_type": "stream",
     "text": [
      "18.320483686806053\n",
      "18.320483686806053\n",
      "-76.60359305159625\n",
      "-76.60359305159625\n",
      "200.73086799262154\n",
      "200.73086799262154\n",
      "116.38440487084246\n",
      "116.38440487084246\n"
     ]
    }
   ],
   "source": [
    "def C_aij(variables, i = 1, j = 1, l = 0.01):\n",
    "    \"\"\"Calculate the derivative of C w.r.t p\"\"\"\n",
    "    p, a11, a12, a21, a22 = variables\n",
    "    \n",
    "    P = np.array([[p, 1 - p], [1 - p, p]])\n",
    "    A = np.array([[a11, a12], [a21, a22]])\n",
    "    \n",
    "    cost = 0\n",
    "    \n",
    "    for t in range(1, length):\n",
    "        val = np.matmul(P, series[t])[i - 1]\n",
    "        est = np.matmul(A, np.matmul(P, series[t - 1]))[i - 1]\n",
    "        \n",
    "        cost += 2 * (est - val) * np.matmul(P, series[t - 1])[j - 1]\n",
    "        \n",
    "    return cost\n",
    "\n",
    "print(C_aij([0.4505425, 0.32594, 0.36018, 0.2845, 0.565304]))\n",
    "print(C_a11([0.4505425, 0.32594, 0.36018, 0.2845, 0.565304]))\n",
    "\n",
    "print(C_aij([0.4505425, 0.32594, 0.36018, 0.2845, 0.565304], i = 1, j = 2))\n",
    "print(C_a12([0.4505425, 0.32594, 0.36018, 0.2845, 0.565304]))\n",
    "\n",
    "print(C_aij([0.4505425, 0.32594, 0.36018, 0.2845, 0.565304], i = 2, j = 1))\n",
    "print(C_a21([0.4505425, 0.32594, 0.36018, 0.2845, 0.565304]))\n",
    "\n",
    "print(C_aij([0.4505425, 0.32594, 0.36018, 0.2845, 0.565304], i = 2, j = 2))\n",
    "print(C_a22([0.4505425, 0.32594, 0.36018, 0.2845, 0.565304]))"
   ]
  },
  {
   "cell_type": "code",
   "execution_count": 1277,
   "id": "63b24c24",
   "metadata": {},
   "outputs": [],
   "source": [
    "def C_a21(variables, l = 0.01):\n",
    "    \"\"\"Calculate the derivative of C w.r.t p\"\"\"\n",
    "    p, a11, a12, a21, a22 = variables\n",
    "    \n",
    "    cost = 0\n",
    "    \n",
    "    for t in range(1, length):\n",
    "        val_1_a21 = p * series[t][0] + (1 - p) * series[t][1]\n",
    "        est_1_a21 = a11 * (p * series[t - 1][0] + (1 - p) * series[t - 1][1]) + a12 * ((1 - p) * series[t - 1][0] + p * series[t - 1][1])\n",
    "        derivative_a21_1 = 2 * (est_1_a21 - val_1_a21) * 0\n",
    "        \n",
    "        val_2_a21 = p * series[t][1] + (1 - p) * series[t][0]\n",
    "        est_2_a21 = a21 * (p * series[t - 1][0] + (1 - p) * series[t - 1][1]) + a22 * ((1 - p) * series[t - 1][0] + p * series[t - 1][1])\n",
    "        derivative_a21_2 = 2 * (est_2_a21 - val_2_a21) * a21 * (p * series[t - 1][0] + (1 - p) * series[t - 1][1])\n",
    "        \n",
    "        cost += 2 * (est_2_a21 - val_2_a21)\n",
    "        \n",
    "    return cost # + l * (np.sum(np.abs(A)))"
   ]
  },
  {
   "cell_type": "markdown",
   "id": "2a57d707",
   "metadata": {},
   "source": [
    "$$\\left\\lVert P X_t - P A X_{t-1}\\right\\rVert_2^2$$\n",
    "\n",
    "Equation $i = 1, ..., n - 1$:\n",
    "\n",
    "$$\\sum_{j = 1}^n p_{ij} X_j = \\sum_{k = 1}^n a_{ik} \\left(\\sum_{j = 1}^n p_{kj}X_j'\\right)$$"
   ]
  },
  {
   "cell_type": "code",
   "execution_count": 1422,
   "id": "64e83602",
   "metadata": {},
   "outputs": [],
   "source": [
    "def generate_data_3D(length, num_variables, A, Vx = 1, Vy = 5, Vz = 5):\n",
    "\n",
    "    # Initialize series\n",
    "    series = np.array(np.zeros((length, num_variables)))\n",
    "\n",
    "    # Coupling strength\n",
    "    axx = A[0][0] # influence of X_t-1 on X_t\n",
    "    axy = A[1][0] # influence of X_t-1 on Y_t\n",
    "    axz = A[2][0] # influence of X_t-1 on Y_t\n",
    "    ayx = A[0][1] # influence of Y_t-1 on X_t\n",
    "    ayy = A[1][1] # influence of Y_t-1 on Y_t\n",
    "    ayz = A[2][1] # influence of Y_t-1 on Y_t\n",
    "    azx = A[0][2] # influence of Y_t-1 on X_t\n",
    "    azy = A[1][2] # influence of Y_t-1 on Y_t\n",
    "    azz = A[2][2] # influence of Y_t-1 on Y_t\n",
    "    \n",
    "    # Generate series\n",
    "    for t in range(1, length):\n",
    "        # Generate VAR model\n",
    "        series[t][0] = axx * series[t - 1][0] + ayx * series[t - 1][1] + azx * series[t - 1][2] + np.random.normal(0, Vx)\n",
    "        series[t][1] = axy * series[t - 1][0] + ayy * series[t - 1][1] + azy * series[t - 1][2] + np.random.normal(0, Vy)\n",
    "        series[t][2] = axz * series[t - 1][0] + ayz * series[t - 1][1] + azz * series[t - 1][2] + np.random.normal(0, Vz)\n",
    "    \n",
    "    return series"
   ]
  },
  {
   "cell_type": "code",
   "execution_count": 1512,
   "id": "16950a50",
   "metadata": {},
   "outputs": [],
   "source": [
    "def C3(variables, l = 0.01):\n",
    "    p11, p12, p21, p22, A  = variables\n",
    "    P = np.array([[p11, p12, 1- p11 - p12], [p21, p22, 1 - p21 - p22], [1 - p11 - p21, 1 - p12 - p22, 1 - (1 - p11 - p21) - (1 - p12 - p22)]])\n",
    "    \n",
    "    cost = 0\n",
    "    \n",
    "    for t in range(1, length):\n",
    "        val = np.matmul(P, series[t])\n",
    "        est = np.matmul(A, np.matmul(P, series[t - 1]))\n",
    "        cost += np.linalg.norm(val - est) ** 2\n",
    "    \n",
    "    return cost"
   ]
  },
  {
   "cell_type": "code",
   "execution_count": 1513,
   "id": "b0c2639e",
   "metadata": {},
   "outputs": [],
   "source": [
    "def C_aij_3(variables, i = 1, j = 1, l = 0.01):\n",
    "    \"\"\"Calculate the derivative of C w.r.t p\"\"\"\n",
    "    p11, p12, p21, p22, A  = variables\n",
    "    P = np.array([[p11, p12, 1- p11 - p12], [p12, p22, 1 - p12 - p22], [1 - p11 - p21, 1 - p12 - p22, 1 - (1 - p11 - p21) - (1 - p12 - p22)]])\n",
    "    #print(A)\n",
    "    cost = 0\n",
    "    \n",
    "    for t in range(1, length):\n",
    "        val = np.matmul(P, series[t])[i - 1]\n",
    "        est = np.matmul(A, np.matmul(P, series[t - 1]))[i - 1]\n",
    "        \n",
    "        cost += 2 * (est - val) * np.matmul(P, series[t - 1])[j - 1]\n",
    "        \n",
    "    return cost"
   ]
  },
  {
   "cell_type": "code",
   "execution_count": 1519,
   "id": "f4fbb6a3",
   "metadata": {},
   "outputs": [],
   "source": [
    "def C_pij_3(variables, i = 1, j = 1, l = 0.01):\n",
    "    \"\"\"Calculate the derivative of C w.r.t p\"\"\"\n",
    "    p11, p12, p21, p22, A  = variables\n",
    "    P = np.array([[p11, p12, 1- p11 - p12], [p21, p22, 1 - p21 - p22], [1 - p11 - p21, 1 - p12 - p22, 1 - (1 - p11 - p21) - (1 - p12 - p22)]])\n",
    "\n",
    "    cost = 0\n",
    "    last = num_variables - 1\n",
    "    \n",
    "    for t in range(1, length):\n",
    "    \n",
    "        for k in range(num_variables):\n",
    "            val = np.matmul(P, series[t])[k]\n",
    "            est = np.matmul(A, np.matmul(P, series[t - 1]))[k]\n",
    "        \n",
    "            # derivative:\n",
    "            derivative = 0\n",
    "            \n",
    "            # always contributing\n",
    "            derivative -= A[k][i - 1] * (series[t - 1][j - 1] - series[t - 1][last]) \n",
    "            derivative -= A[k][last]  * (series[t - 1][last]  - series[t - 1][j - 1])\n",
    "            \n",
    "            # last one\n",
    "            if k == last:\n",
    "                derivative += series[t][last]  - series[t][j - 1]\n",
    "            if k == i - 1:\n",
    "                derivative += series[t][j - 1] - series[t][last]\n",
    "                \n",
    "            cost += 2 * (val - est) * derivative\n",
    "        \n",
    "    return cost"
   ]
  },
  {
   "cell_type": "code",
   "execution_count": 1479,
   "id": "46106233",
   "metadata": {},
   "outputs": [],
   "source": [
    "length = 100\n",
    "A = np.array([[0.1, 0.2, 0.3], [0.3, 0.1, 0.2], [0.2, 0.3, 0.1]])\n",
    "series = generate_data_3D(length, 3, A)"
   ]
  },
  {
   "cell_type": "code",
   "execution_count": 1417,
   "id": "4e0172b2",
   "metadata": {},
   "outputs": [
    {
     "name": "stdout",
     "output_type": "stream",
     "text": [
      "137.46808800443995\n",
      "-11.61148180046816\n"
     ]
    }
   ],
   "source": [
    "A = np.array([[0.161, 0.2, 0.35], [0.1, 0.8, 0.2], [0.2, 0.3, 0.1]])\n",
    "print(C3([0.1, 0.2, 0.3, 0.4, A]))\n",
    "print(C_aij_3([0.1, 0.2, 0.3, 0.4, A]))"
   ]
  },
  {
   "cell_type": "code",
   "execution_count": 1482,
   "id": "5f714715",
   "metadata": {},
   "outputs": [
    {
     "name": "stdout",
     "output_type": "stream",
     "text": [
      "1935.1407789270422\n",
      "520.9060251275727\n"
     ]
    }
   ],
   "source": [
    "num_variables = 3\n",
    "p1 = 0.5\n",
    "print(C3([p1, 0.2, 0.3, 0.4, A]))\n",
    "print(C_pij_3([p1, 0.2, 0.3, 0.4, A]))"
   ]
  },
  {
   "cell_type": "code",
   "execution_count": 1520,
   "id": "f4142aeb",
   "metadata": {},
   "outputs": [
    {
     "data": {
      "text/plain": [
       "[<matplotlib.lines.Line2D at 0x2a845968e50>]"
      ]
     },
     "execution_count": 1520,
     "metadata": {},
     "output_type": "execute_result"
    },
    {
     "data": {
      "image/png": "[encoded data removed]",
      "text/plain": [
       "<Figure size 432x288 with 1 Axes>"
      ]
     },
     "metadata": {
      "needs_background": "light"
     },
     "output_type": "display_data"
    }
   ],
   "source": [
    "p = np.linspace(-0.2, 1.0, 100)\n",
    "\n",
    "results = []\n",
    "results_1 = []\n",
    "for elem in p:\n",
    "    results.append(C3([elem, 0.7, 0.3, 0.4, A]))\n",
    "    results_1.append(C_pij_3([elem, 0.7, 0.3, 0.4, A]))\n",
    "\n",
    "plt.plot(results)\n",
    "plt.plot(results_1)\n",
    "plt.plot(np.zeros(100))"
   ]
  },
  {
   "cell_type": "code",
   "execution_count": 1521,
   "id": "93576246",
   "metadata": {},
   "outputs": [
    {
     "data": {
      "text/plain": [
       "[<matplotlib.lines.Line2D at 0x2a8459cc490>]"
      ]
     },
     "execution_count": 1521,
     "metadata": {},
     "output_type": "execute_result"
    },
    {
     "data": {
      "image/png": "[encoded data removed]",
      "text/plain": [
       "<Figure size 432x288 with 1 Axes>"
      ]
     },
     "metadata": {
      "needs_background": "light"
     },
     "output_type": "display_data"
    }
   ],
   "source": [
    "p = np.linspace(0.0, 1.0, 100)\n",
    "\n",
    "results = []\n",
    "results_1 = []\n",
    "for p2 in p:\n",
    "    results.append(C3([0.1, p2, 0.3, 0.4, A]))\n",
    "    results_1.append(C_pij_3([0.1, p2, 0.3, 0.4, A], i = 1, j = 2))\n",
    "\n",
    "plt.plot(results)\n",
    "plt.plot(results_1)\n",
    "plt.plot(np.zeros(100))"
   ]
  },
  {
   "cell_type": "code",
   "execution_count": 1522,
   "id": "5ed16162",
   "metadata": {},
   "outputs": [
    {
     "data": {
      "text/plain": [
       "[<matplotlib.lines.Line2D at 0x2a845a23ee0>]"
      ]
     },
     "execution_count": 1522,
     "metadata": {},
     "output_type": "execute_result"
    },
    {
     "data": {
      "image/png": "[encoded data removed]",
      "text/plain": [
       "<Figure size 432x288 with 1 Axes>"
      ]
     },
     "metadata": {
      "needs_background": "light"
     },
     "output_type": "display_data"
    }
   ],
   "source": [
    "p = np.linspace(0.0, 1.0, 100)\n",
    "\n",
    "results = []\n",
    "results_1 = []\n",
    "for p3 in p:\n",
    "    results.append(C3([0.1, 0.2, p3, 0.4, A]))\n",
    "    results_1.append(C_pij_3([0.1, 0.2, p3, 0.4, A], i = 2, j = 1))\n",
    "\n",
    "plt.plot(results)\n",
    "plt.plot(results_1)\n",
    "plt.plot(np.zeros(100))"
   ]
  },
  {
   "cell_type": "code",
   "execution_count": 1523,
   "id": "e796a17b",
   "metadata": {},
   "outputs": [
    {
     "data": {
      "text/plain": [
       "[<matplotlib.lines.Line2D at 0x2a845a83b80>]"
      ]
     },
     "execution_count": 1523,
     "metadata": {},
     "output_type": "execute_result"
    },
    {
     "data": {
      "image/png": "[encoded data removed]",
      "text/plain": [
       "<Figure size 432x288 with 1 Axes>"
      ]
     },
     "metadata": {
      "needs_background": "light"
     },
     "output_type": "display_data"
    }
   ],
   "source": [
    "p = np.linspace(0.0, 1.0, 100)\n",
    "\n",
    "results = []\n",
    "results_1 = []\n",
    "for p4 in p:\n",
    "    results.append(C3([0.1, 0.2, 0.3, p4, A]))\n",
    "    results_1.append(C_pij_3([0.1, 0.2, 0.3, p4, A], i = 2, j = 2))\n",
    "\n",
    "plt.plot(results)\n",
    "plt.plot(results_1)\n",
    "plt.plot(np.zeros(100))"
   ]
  },
  {
   "cell_type": "code",
   "execution_count": 1426,
   "id": "eb25a3db",
   "metadata": {},
   "outputs": [],
   "source": [
    "def C_pij_2(variables, i = 1, j = 1, l = 0.01):\n",
    "    \"\"\"Calculate the derivative of C w.r.t p\"\"\"\n",
    "    \n",
    "    p, A  = variables\n",
    "    P = np.array([[p, 1 - p], [1 - p, p]])\n",
    "\n",
    "    cost = 0\n",
    "    last = 1\n",
    "    \n",
    "    for t in range(1, length):\n",
    "    \n",
    "        for k in range(2):\n",
    "            val = np.matmul(P, series[t])[k]\n",
    "            est = np.matmul(A, np.matmul(P, series[t - 1]))[k]\n",
    "        \n",
    "            # derivative:\n",
    "            derivative = 0\n",
    "            \n",
    "            # always contributing\n",
    "            derivative -= A[k][i - 1] * (series[t - 1][j - 1] - series[t - 1][last]) \n",
    "            derivative -= A[k][last]  * (series[t - 1][last]  - series[t - 1][j - 1])\n",
    "            \n",
    "            # last one\n",
    "            if k == last:\n",
    "                derivative += series[t][last]  - series[t][j - 1]\n",
    "            if k == i - 1:\n",
    "                derivative += series[t][j - 1] - series[t][last]\n",
    "                \n",
    "            cost += 2 * (val - est) * derivative\n",
    "        \n",
    "    return cost"
   ]
  },
  {
   "cell_type": "code",
   "execution_count": 1446,
   "id": "49c4002d",
   "metadata": {},
   "outputs": [],
   "source": [
    "length, num_variables = 100, 2\n",
    "\n",
    "# Generate 2D data\n",
    "A = [[0.8, 0.2], [0.2, 0.0]]\n",
    "series = generate_data(length, 2, A)\n"
   ]
  },
  {
   "cell_type": "code",
   "execution_count": 1473,
   "id": "bcd07a03",
   "metadata": {},
   "outputs": [
    {
     "name": "stdout",
     "output_type": "stream",
     "text": [
      "106.44985527579148\n",
      "6.022097695613322\n"
     ]
    }
   ],
   "source": [
    "A = np.array([[0.8, 0.2], [0.2, 0.0]])\n",
    "p = 0.6555\n",
    "variables = [p, 0.8, 0.2, 0.2, 0.0]\n",
    "print(C(variables))\n",
    "print(C_pij_2([p, A]))"
   ]
  },
  {
   "cell_type": "code",
   "execution_count": 1477,
   "id": "15a59e12",
   "metadata": {},
   "outputs": [
    {
     "data": {
      "text/plain": [
       "[<matplotlib.lines.Line2D at 0x2a843e97f40>]"
      ]
     },
     "execution_count": 1477,
     "metadata": {},
     "output_type": "execute_result"
    },
    {
     "data": {
      "image/png": "[encoded data removed]",
      "text/plain": [
       "<Figure size 432x288 with 1 Axes>"
      ]
     },
     "metadata": {
      "needs_background": "light"
     },
     "output_type": "display_data"
    }
   ],
   "source": [
    "p = np.linspace(0.0, 1.0, 100)\n",
    "\n",
    "results = []\n",
    "results_1 = []\n",
    "for p1 in p:\n",
    "    variables = [p1, 0.8, 0.2, 0.2, 0.0]\n",
    "    results.append(C(variables))\n",
    "    results_1.append(C_pij_2([p1, A]))\n",
    "\n",
    "plt.plot(results)\n",
    "plt.plot(results_1)\n",
    "plt.plot(np.zeros(100))"
   ]
  },
  {
   "cell_type": "markdown",
   "id": "ad85564f",
   "metadata": {},
   "source": [
    "### Procedure\n",
    "    While Cost Function changes:\n",
    "        For $i, j = 1, ..., n - 1$:\n",
    "            Approximate $p_{ij}$ using gradient descent\n",
    "   \n",
    "        For $i, j = 1, ..., n$:\n",
    "            Approximate $a_{ij}$ using gradient descent"
   ]
  },
  {
   "cell_type": "code",
   "execution_count": 1548,
   "id": "b3e0bd2c",
   "metadata": {},
   "outputs": [
    {
     "name": "stdout",
     "output_type": "stream",
     "text": [
      "Optimizing A[0][0].\n",
      "Optimizing A[0][1].\n",
      "Optimizing A[0][2].\n",
      "Optimizing A[1][0].\n",
      "Optimizing A[1][1].\n",
      "Optimizing A[1][2].\n",
      "Optimizing A[2][0].\n",
      "Optimizing A[2][1].\n",
      "Optimizing A[2][2].\n",
      "Optimizing P[0][0].\n",
      "Optimizing P[0][1].\n",
      "Optimizing P[1][0].\n",
      "Optimizing P[1][1].\n"
     ]
    }
   ],
   "source": [
    "def gradient_descent(k):\n",
    "    \"\"\"\n",
    "    Run Gradient Descent with Learning Parameter L on the kth variable until convergence.\n",
    "    k is a number between 1 and ...\n",
    "    \"\"\"\n",
    "    \n",
    "    # If k is between 1 and n^2, estimate a_{k//n + 1, k%n + 1}\n",
    "    if 1 <= k <= num_variables ** 2:\n",
    "        # optimize A[(k-1)//n][(k-1)%n]\n",
    "        print(f\"Optimizing A[{(k-1)//n}][{(k-1)%n}].\")\n",
    "        optimize(cost_function, derivative_function)\n",
    "    elif num_variables ** 2 < k <= num_variables ** 2 + (num_variables - 1) ** 2:\n",
    "        print(f\"Optimizing P[{(k - 1 - n ** 2)//(n - 1)}][{(k - 1 - n ** 2)%(n - 1)}].\")\n",
    "        # optimize P[(k - n^2) // n^2]\n",
    "n = 3\n",
    "\n",
    "for k in range(1, n ** 2 + (n - 1) ** 2 + 1):\n",
    "    gradient_descent(k)"
   ]
  },
  {
   "cell_type": "code",
   "execution_count": 1677,
   "id": "17b287b4",
   "metadata": {},
   "outputs": [
    {
     "name": "stdout",
     "output_type": "stream",
     "text": [
      "[[0.10998679 0.17597034 0.3106942 ]\n",
      " [0.30628239 0.08400488 0.19786225]\n",
      " [0.19518509 0.26293766 0.11908453]] [[0.5        0.19770742 0.30229258]\n",
      " [0.1        0.59936918 0.30063082]\n",
      " [0.3985383  0.2029234  0.3985383 ]]\n",
      "19.553268890309692\n",
      "19.53790518595129\n",
      "19.53115131946976\n",
      "19.532508736346323\n",
      "19.504882145027995\n",
      "19.504845152409462\n",
      "19.506147936115582\n",
      "19.479624635842754\n",
      "19.455316039206444\n",
      "19.455316039206444\n",
      "19.461559963052352\n",
      "19.461559963052352\n",
      "19.455488609122213\n",
      "[[0.11930104 0.16190799 0.31890347]\n",
      " [0.31146637 0.07347547 0.19846981]\n",
      " [0.19380021 0.23795468 0.13465883]] [[0.5        0.19594966 0.30405034]\n",
      " [0.1        0.59890265 0.30109735]\n",
      " [0.39742615 0.20514768 0.39742616]]\n"
     ]
    }
   ],
   "source": [
    "# A = np.array([[0.1, 0.2, 0.3], [0.3, 0.1, 0.2], [0.2, 0.3, 0.1]])\n",
    "# P = np.array([[0.5, 0.2, 0.3], [0.1, 0.6, 0.2], [0.4, 0.2, 0.5]])\n",
    "\n",
    "n = 3\n",
    "\n",
    "def optimize(k, i, j):\n",
    "    L1 = 0.00001\n",
    "    L2 = 0.0000001\n",
    "    if 1 <= k <= n ** 2:\n",
    "        for _ in range(1000):\n",
    "            A[(k-1)//n][(k-1)%n] -= L1 * C_aij_3_2([A, P], i = i, j = j)\n",
    "    else:\n",
    "        for _ in range(1000):\n",
    "            P[(k - 1 - n ** 2) // (n - 1)][(k - 1 - n ** 2) % (n - 1)] -= L2 * C_pij_3_2([A, P], i = (k - 1 - n ** 2) // (n - 1), j = (k - 1 - n ** 2) % (n - 1))\n",
    "            P[0][2] = 1 - P[0][0] - P[0][1]\n",
    "            P[1][2] = 1 - P[1][0] - P[1][1]\n",
    "            P[2][0] = 1 - P[2][0] - P[2][1]\n",
    "            P[2][1] = 1 - P[1][1] - P[0][1]\n",
    "            P[2][2] = 1 - P[2][0] - P[2][1]\n",
    "\n",
    "print(A, P)\n",
    "for i in range(1,14):\n",
    "    optimize(i, i//n, i%n)\n",
    "    print(C3_2([A, P]))\n",
    "print(A, P)"
   ]
  },
  {
   "cell_type": "code",
   "execution_count": 1656,
   "id": "7cf973a7",
   "metadata": {},
   "outputs": [],
   "source": [
    "def C_aij_3_2(variables, i = 1, j = 1, l = 0.01):\n",
    "    \"\"\"Calculate the derivative of C w.r.t p\"\"\"\n",
    "    A, P  = variables\n",
    "    #print(A)\n",
    "    cost = 0\n",
    "    \n",
    "    for t in range(1, length):\n",
    "        val = np.matmul(P, series[t])[i - 1]\n",
    "        est = np.matmul(A, np.matmul(P, series[t - 1]))[i - 1]\n",
    "        \n",
    "        cost += 2 * (est - val) * np.matmul(P, series[t - 1])[j - 1]\n",
    "        \n",
    "    return cost / length"
   ]
  },
  {
   "cell_type": "code",
   "execution_count": 1655,
   "id": "a7eb5cd2",
   "metadata": {},
   "outputs": [],
   "source": [
    "def C_pij_3_2(variables, i = 1, j = 1, l = 0.01):\n",
    "    \"\"\"Calculate the derivative of C w.r.t p\"\"\"\n",
    "    A, P  = variables\n",
    "\n",
    "    cost = 0\n",
    "    last = num_variables - 1\n",
    "    \n",
    "    for t in range(1, length):\n",
    "    \n",
    "        for k in range(num_variables):\n",
    "            val = np.matmul(P, series[t])[k]\n",
    "            est = np.matmul(A, np.matmul(P, series[t - 1]))[k]\n",
    "        \n",
    "            # derivative:\n",
    "            derivative = 0\n",
    "            \n",
    "            # always contributing\n",
    "            derivative -= A[k][i - 1] * (series[t - 1][j - 1] - series[t - 1][last]) \n",
    "            derivative -= A[k][last]  * (series[t - 1][last]  - series[t - 1][j - 1])\n",
    "            \n",
    "            # last one\n",
    "            if k == last:\n",
    "                derivative += series[t][last]  - series[t][j - 1]\n",
    "            if k == i - 1:\n",
    "                derivative += series[t][j - 1] - series[t][last]\n",
    "                \n",
    "            cost += 2 * (val - est) * derivative\n",
    "        \n",
    "    return cost / length"
   ]
  },
  {
   "cell_type": "code",
   "execution_count": 1654,
   "id": "a770cf7a",
   "metadata": {},
   "outputs": [],
   "source": [
    "def C3_2(variables, l = 0.01):\n",
    "    A, P  = variables\n",
    "    \n",
    "    cost = 0\n",
    "    \n",
    "    for t in range(1, length):\n",
    "        val = np.matmul(P, series[t])\n",
    "        est = np.matmul(A, np.matmul(P, series[t - 1]))\n",
    "        cost += np.linalg.norm(val - est) ** 2\n",
    "    \n",
    "    return cost / length"
   ]
  }
 ],
 "metadata": {
  "kernelspec": {
   "display_name": "Python 3",
   "language": "python",
   "name": "python3"
  },
  "language_info": {
   "codemirror_mode": {
    "name": "ipython",
    "version": 3
   },
   "file_extension": ".py",
   "mimetype": "text/x-python",
   "name": "python",
   "nbconvert_exporter": "python",
   "pygments_lexer": "ipython3",
   "version": "3.8.10"
  }
 },
 "nbformat": 4,
 "nbformat_minor": 5
}
