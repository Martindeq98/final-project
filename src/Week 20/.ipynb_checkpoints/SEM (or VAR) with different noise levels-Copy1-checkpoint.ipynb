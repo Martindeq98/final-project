{
 "cells": [
  {
   "cell_type": "markdown",
   "id": "4917b47d",
   "metadata": {},
   "source": [
    "NOTEARS (and OMP) always seem to be able to predict the correct direction, even in just two dimensions. How is this possible? This is most likely when we have equal variance across all variables, e.g. additive noise with variance 1. However, what happens when variance levels are unequal? Will NOTEARS still perform well? Let us find out."
   ]
  },
  {
   "cell_type": "code",
   "execution_count": 9,
   "id": "b1426609",
   "metadata": {},
   "outputs": [
    {
     "data": {
      "text/plain": [
       "<module 'notears.notears.notears.utils' from '..\\\\notears\\\\notears\\\\notears\\\\utils.py'>"
      ]
     },
     "execution_count": 9,
     "metadata": {},
     "output_type": "execute_result"
    }
   ],
   "source": [
    "import itertools                 # permutations\n",
    "import numpy as np               # computations\n",
    "import matplotlib.pyplot as plt  # plotting\n",
    "from tqdm import tqdm            # time of for loops\n",
    "from timeit import default_timer as timer # timer\n",
    "\n",
    "# import our own modules\n",
    "import sys\n",
    "sys.path.append(\"..\")\n",
    "\n",
    "# import our own helper\n",
    "import helper.helper as h\n",
    "\n",
    "# import NOTEARS\n",
    "from notears.notears.notears import linear\n",
    "from notears.notears.notears import utils\n",
    "\n",
    "from importlib import reload  # Python 3.4+\n",
    "reload(utils)"
   ]
  },
  {
   "cell_type": "code",
   "execution_count": 29,
   "id": "46bc0329",
   "metadata": {},
   "outputs": [
    {
     "name": "stdout",
     "output_type": "stream",
     "text": [
      "0.5507979025745755 0.7081478226181048 0.2909047389129443\n",
      "a': 0.15041. Should be close to: 0.16398.\n",
      "Corresponding W1:\n",
      "[[3.534 0.   ]\n",
      " [2.203 0.   ]].\n",
      "\n",
      "a:  0.45619. Should be close to: 0.5508.\n",
      "Corresponding W2:\n",
      "[[0.    0.456]\n",
      " [0.    0.   ]].\n",
      "\n",
      "MSE using W1: 10.881.\n",
      "MSE using W2: 1.422.\n",
      "[[0.   0.45]\n",
      " [0.   0.  ]]\n",
      "Pick W2 if 3.3590212632845704 is larger than 1. => True\n"
     ]
    },
    {
     "data": {
      "image/png": "[encoded data removed]",
      "text/plain": [
       "<Figure size 432x288 with 1 Axes>"
      ]
     },
     "metadata": {
      "needs_background": "light"
     },
     "output_type": "display_data"
    }
   ],
   "source": [
    "utils.set_random_seed(3)\n",
    "a, b, c, s1, s2 = np.random.random(), np.random.random(), np.random.random(), np.random.random(), np.random.random()\n",
    "T, n, s0, graph_type, sem_type = 10000, 2, 1, 'ER', 'gauss'\n",
    "W_true = np.array([[a, b], [0.0, c]])\n",
    "X = utils.simulate_var(W_true, T, noise_scale = [s1, s2])\n",
    "\n",
    "print(a, b, c)\n",
    "\n",
    "plt.plot(X)\n",
    "\n",
    "X_pred = X[:-1]\n",
    "X_val = X[1:]\n",
    "\n",
    "W1 = np.zeros((n, n))\n",
    "W1[:, 0] = 1 / (X_val.T @ X_val) @ X_val.T @ X_pred[:, 1]\n",
    "print(f\"a': {round(1 / (X[:, 1].T @ X[:, 1]) * X[:, 1].T @ X[:, 0], 5)}. Should be close to: {round(a * s1 ** 2 / (a ** 2 * s1 ** 2 + s2 ** 2), 5)}.\")\n",
    "print(f\"Corresponding W1:\\n{np.round(W1, 3)}.\\n\")\n",
    "\n",
    "W2 = np.zeros((n, n))\n",
    "W2[0][1] = 1 / (X[:, 0].T @ X[:, 0]) * X[:, 0].T @ X[:, 1]\n",
    "print(f\"a:  {round(1 / (X[:, 0].T @ X[:, 0]) * X[:, 0].T @ X[:, 1], 5)}. Should be close to: {round(a, 5)}.\")\n",
    "print(f\"Corresponding W2:\\n{np.round(W2, 3)}.\\n\")\n",
    "\n",
    "print(f\"MSE using W1: {round(h.MSE(W1, X, is_sem = True), 3)}.\")\n",
    "print(f\"MSE using W2: {round(h.MSE(W2, X, is_sem = True), 3)}.\")\n",
    "\n",
    "W_NOTEARS, h_val = linear.notears_linear(X, lambda1 = 0, loss_type = \"l2\", verbose = False, w_threshold = 1e-2)\n",
    "print(np.round(W_NOTEARS, 2))\n",
    "print(f\"Pick W2 if {a ** 2 + (s2 / s1) ** 2} is larger than 1. => {(a ** 2 + (s2 / s1) ** 2 > 1) == (W_NOTEARS[0][1] != 0)}\")\n",
    "\n",
    "# print(f\"True W:\\n{np.round(W_true, 2)}.\")\n",
    "\n",
    "# print(f\"NOTEARS W:\\n{np.round(W_NOTEARS, 2)}.\")"
   ]
  },
  {
   "cell_type": "code",
   "execution_count": 850,
   "id": "04d26e01",
   "metadata": {},
   "outputs": [
    {
     "name": "stdout",
     "output_type": "stream",
     "text": [
      "Pick W2 if 2.28 is larger than 1. => True. MSE(W1) < MSE(W2): 1.2934944688111285 1.1699492638169033\n",
      "Pick W2 if 1.9 is larger than 1. => True. MSE(W1) < MSE(W2): 1.6125601083178636 1.4640677878618298\n",
      "Pick W2 if 176.95 is larger than 1. => True. MSE(W1) < MSE(W2): 0.912557024038679 0.9121472557277789\n",
      "Pick W2 if 50.41 is larger than 1. => True. MSE(W1) < MSE(W2): 0.9605374001310027 0.9457920647953204\n",
      "Pick W2 if 0.25 is larger than 1. => True. MSE(W1) < MSE(W2): 0.06875555693634998 0.1073174026625723\n",
      "Pick W2 if 11.18 is larger than 1. => True. MSE(W1) < MSE(W2): 1.0586447181105911 1.046701831474802\n",
      "Pick W2 if 2.31 is larger than 1. => True. MSE(W1) < MSE(W2): 0.9957706992694123 0.9750556600041445\n",
      "Pick W2 if 3.86 is larger than 1. => True. MSE(W1) < MSE(W2): 0.14076819644266328 0.138231697995969\n",
      "Pick W2 if 0.59 is larger than 1. => True. MSE(W1) < MSE(W2): 0.8305060209439294 0.8867308015833293\n",
      "Pick W2 if 2.14 is larger than 1. => True. MSE(W1) < MSE(W2): 0.369437081240752 0.3598226779116598\n",
      "Pick W2 if 5.24 is larger than 1. => True. MSE(W1) < MSE(W2): 0.7492886342903159 0.7455794979060899\n",
      "Pick W2 if 0.31 is larger than 1. => True. MSE(W1) < MSE(W2): 0.7542694285692614 0.8194907316672749\n",
      "Pick W2 if 51.79 is larger than 1. => True. MSE(W1) < MSE(W2): 0.5412917962101088 0.5315298375582119\n",
      "Pick W2 if 16.86 is larger than 1. => True. MSE(W1) < MSE(W2): 0.5202486562514533 0.519992960068294\n",
      "Pick W2 if 0.86 is larger than 1. => True. MSE(W1) < MSE(W2): 0.28558029900669324 0.29387190131704366\n",
      "Pick W2 if 0.68 is larger than 1. => True. MSE(W1) < MSE(W2): 1.0238338203092512 1.1208759035363003\n",
      "Pick W2 if 2.29 is larger than 1. => True. MSE(W1) < MSE(W2): 0.189686810339781 0.17411544830139583\n",
      "Pick W2 if 0.73 is larger than 1. => True. MSE(W1) < MSE(W2): 0.19213010441948952 0.26214379760586703\n",
      "Pick W2 if 0.52 is larger than 1. => True. MSE(W1) < MSE(W2): 0.5826855448758621 0.6026671273905503\n",
      "Pick W2 if 0.67 is larger than 1. => True. MSE(W1) < MSE(W2): 0.2647546055293247 0.26655262482619446\n",
      "Pick W2 if 1.29 is larger than 1. => True. MSE(W1) < MSE(W2): 1.5508950606733771 1.5059362302986739\n",
      "Pick W2 if 0.39 is larger than 1. => True. MSE(W1) < MSE(W2): 0.13357748012905543 0.17630839783613125\n",
      "Pick W2 if 0.1 is larger than 1. => True. MSE(W1) < MSE(W2): 0.0624218949193499 0.47227628306255903\n",
      "Pick W2 if 0.93 is larger than 1. => True. MSE(W1) < MSE(W2): 0.455769396845825 0.505031830035035\n",
      "Pick W2 if 0.74 is larger than 1. => True. MSE(W1) < MSE(W2): 0.7966074881009246 1.0662299862395233\n",
      "Pick W2 if 0.05 is larger than 1. => True. MSE(W1) < MSE(W2): 0.39380889101182603 0.396125828416464\n",
      "Pick W2 if 0.72 is larger than 1. => True. MSE(W1) < MSE(W2): 0.2741949310663237 0.29800722348126496\n",
      "Pick W2 if 0.17 is larger than 1. => True. MSE(W1) < MSE(W2): 0.11361390223927112 0.6278575730932445\n",
      "Pick W2 if 0.68 is larger than 1. => True. MSE(W1) < MSE(W2): 0.6860842659029429 0.9123406687927218\n",
      "Pick W2 if 1.03 is larger than 1. => True. MSE(W1) < MSE(W2): 0.6234921620488181 0.6130730248745851\n",
      "Pick W2 if 0.6 is larger than 1. => True. MSE(W1) < MSE(W2): 1.2446866533524659 1.296017385069167\n",
      "Pick W2 if 4.07 is larger than 1. => True. MSE(W1) < MSE(W2): 0.45241955438498155 0.4321107309503634\n",
      "Pick W2 if 0.91 is larger than 1. => True. MSE(W1) < MSE(W2): 0.41013134070463925 0.4430293322983491\n",
      "Pick W2 if 0.68 is larger than 1. => True. MSE(W1) < MSE(W2): 1.4116028449072202 1.4403710411585195\n",
      "Pick W2 if 0.69 is larger than 1. => True. MSE(W1) < MSE(W2): 0.5439663413413247 0.6278431145970259\n",
      "Pick W2 if 0.24 is larger than 1. => True. MSE(W1) < MSE(W2): 0.5153481543002116 0.6060493291392393\n",
      "Pick W2 if 109.39 is larger than 1. => True. MSE(W1) < MSE(W2): 0.03602439051437772 0.03593965411347583\n",
      "Pick W2 if 0.05 is larger than 1. => True. MSE(W1) < MSE(W2): 0.02460442595460646 0.42980669119513415\n",
      "Pick W2 if 0.26 is larger than 1. => True. MSE(W1) < MSE(W2): 0.6570635902235147 0.6620130353589919\n",
      "Pick W2 if 0.39 is larger than 1. => True. MSE(W1) < MSE(W2): 0.4807847894809253 0.5501129103281738\n",
      "Pick W2 if 0.75 is larger than 1. => True. MSE(W1) < MSE(W2): 0.5817270684980883 0.7024549635745638\n",
      "Pick W2 if 18.3 is larger than 1. => True. MSE(W1) < MSE(W2): 0.07529216969266457 0.07314992461051867\n",
      "Pick W2 if 5.18 is larger than 1. => True. MSE(W1) < MSE(W2): 0.3097316909562121 0.29703221494557247\n",
      "Pick W2 if 4.66 is larger than 1. => True. MSE(W1) < MSE(W2): 0.5747384920504198 0.5479382918972948\n",
      "Pick W2 if 6.24 is larger than 1. => True. MSE(W1) < MSE(W2): 0.48860476233185574 0.45259786091683324\n",
      "Pick W2 if 0.24 is larger than 1. => True. MSE(W1) < MSE(W2): 0.263037147708087 0.8740543570993822\n",
      "Pick W2 if 0.77 is larger than 1. => True. MSE(W1) < MSE(W2): 1.1267930352949271 1.286268206143553\n",
      "Pick W2 if 0.49 is larger than 1. => True. MSE(W1) < MSE(W2): 0.13045762193369248 0.23358766848648213\n",
      "Pick W2 if 1.49 is larger than 1. => True. MSE(W1) < MSE(W2): 1.3944471412718569 1.2514493938499842\n",
      "Pick W2 if 24.5 is larger than 1. => True. MSE(W1) < MSE(W2): 0.5618870768731639 0.5584289998365701\n",
      "Pick W2 if 1.81 is larger than 1. => True. MSE(W1) < MSE(W2): 1.3790908035303135 1.313227596583364\n",
      "Pick W2 if 1.51 is larger than 1. => True. MSE(W1) < MSE(W2): 1.7697547361535966 1.500530708780853\n",
      "Pick W2 if 0.79 is larger than 1. => True. MSE(W1) < MSE(W2): 0.6089505446027219 0.7664757636331347\n",
      "Pick W2 if 1.92 is larger than 1. => True. MSE(W1) < MSE(W2): 1.804885047166673 1.6675181282599625\n",
      "Pick W2 if 2.07 is larger than 1. => True. MSE(W1) < MSE(W2): 0.6549527334542415 0.6482688516430251\n",
      "Pick W2 if 0.82 is larger than 1. => True. MSE(W1) < MSE(W2): 1.2712411119957046 1.2935914548494016\n",
      "Pick W2 if 0.14 is larger than 1. => True. MSE(W1) < MSE(W2): 0.5802497738819153 0.5839112951483721\n",
      "Pick W2 if 1.98 is larger than 1. => True. MSE(W1) < MSE(W2): 0.5287371698784721 0.515312573055437\n",
      "Pick W2 if 1.01 is larger than 1. => True. MSE(W1) < MSE(W2): 0.3785285330230276 0.36324012067419104\n",
      "Pick W2 if 0.55 is larger than 1. => True. MSE(W1) < MSE(W2): 0.13124194971256428 0.14038990368434429\n",
      "Pick W2 if 0.32 is larger than 1. => True. MSE(W1) < MSE(W2): 0.17121101933441132 0.5215877331583129\n",
      "Pick W2 if 0.54 is larger than 1. => True. MSE(W1) < MSE(W2): 0.02023500814987707 0.036028522852431154\n",
      "Pick W2 if 3.23 is larger than 1. => True. MSE(W1) < MSE(W2): 0.2520278355914854 0.20837500293997424\n",
      "Pick W2 if 19.41 is larger than 1. => True. MSE(W1) < MSE(W2): 0.7681747270265665 0.7401219173924484\n",
      "Pick W2 if 0.1 is larger than 1. => True. MSE(W1) < MSE(W2): 0.3348218878166104 0.3355101518325658\n",
      "Pick W2 if 55.67 is larger than 1. => True. MSE(W1) < MSE(W2): 0.2683595408323023 0.26747761459866615\n",
      "Pick W2 if 0.32 is larger than 1. => True. MSE(W1) < MSE(W2): 1.0017386344652428 1.1683116903526258\n",
      "Pick W2 if 0.89 is larger than 1. => True. MSE(W1) < MSE(W2): 0.9707639146634585 1.0033784447753173\n",
      "Pick W2 if 0.77 is larger than 1. => True. MSE(W1) < MSE(W2): 0.6435924963035329 0.7271664063450254\n",
      "Pick W2 if 1.04 is larger than 1. => True. MSE(W1) < MSE(W2): 0.4849309051072597 0.47094660403295474\n",
      "Pick W2 if 14.35 is larger than 1. => True. MSE(W1) < MSE(W2): 0.760505101231357 0.7602496047539076\n",
      "Pick W2 if 15.18 is larger than 1. => True. MSE(W1) < MSE(W2): 0.38144623812900397 0.3690531733686508\n",
      "Pick W2 if 0.15 is larger than 1. => True. MSE(W1) < MSE(W2): 0.2633127432939027 0.5944669912574759\n",
      "Pick W2 if 21.25 is larger than 1. => True. MSE(W1) < MSE(W2): 0.5211015969010195 0.5198518467431779\n",
      "Pick W2 if 0.08 is larger than 1. => True. MSE(W1) < MSE(W2): 0.08593261446269557 0.3263624666796305\n",
      "Pick W2 if 0.99 is larger than 1. => False. MSE(W1) < MSE(W2): [0.59542619] 0.6181071249109888 0.4470434845199657 0.3479582203811199\n",
      "0.3287104662693003 0.3268150979429923\n",
      "Pick W2 if 1.36 is larger than 1. => True. MSE(W1) < MSE(W2): 0.9030737808723103 0.8117259718901311\n",
      "Pick W2 if 1.39 is larger than 1. => True. MSE(W1) < MSE(W2): 0.5089465183423241 0.47210400024805743\n",
      "Pick W2 if 0.45 is larger than 1. => True. MSE(W1) < MSE(W2): 0.2750056376504135 0.5738544737730081\n",
      "Pick W2 if 0.14 is larger than 1. => True. MSE(W1) < MSE(W2): 0.6018696422068429 0.8426391728824947\n",
      "Pick W2 if 0.3 is larger than 1. => True. MSE(W1) < MSE(W2): 0.28989624081123144 0.8314835494558993\n",
      "Pick W2 if 0.58 is larger than 1. => True. MSE(W1) < MSE(W2): 0.374334421069292 0.48403161807023526\n"
     ]
    },
    {
     "name": "stdout",
     "output_type": "stream",
     "text": [
      "Pick W2 if 3.2 is larger than 1. => True. MSE(W1) < MSE(W2): 1.6189282289730904 1.3691772050359774\n"
     ]
    }
   ],
   "source": [
    "T = 1000\n",
    "\n",
    "for _ in range(100):\n",
    "    # get a, s1, s2\n",
    "    a, s1, s2 = 0.0 + np.random.random(), np.random.random(), np.random.random()\n",
    "    \n",
    "    # remake W\n",
    "    W_true = np.array([[0.0, a], [0.0, 0.0]])\n",
    "    \n",
    "    # generate X\n",
    "    X = utils.simulate_linear_sem(W_true, T, sem_type, noise_scale = [s1, s2])\n",
    "    \n",
    "    # do NOTEARS\n",
    "    W_NOTEARS, h_val = linear.notears_linear(X, lambda1 = 0, loss_type = \"l2\", verbose = False, w_threshold = 1e-4)\n",
    "    \n",
    "    # Verify    \n",
    "    if len(W_NOTEARS[W_NOTEARS > 0]) == 1:\n",
    "        print(f\"Pick W2 if {round(a ** 2 + (s2 / s1) ** 2, 2)} is larger than 1. => {(a ** 2 + (s2 / s1) ** 2 > 1) == (W_NOTEARS[0][1] > 0)}. MSE(W1) < MSE(W2):\", end = ' ')\n",
    "\n",
    "        if (a ** 2 + (s2 / s1) ** 2 > 1) != (W_NOTEARS[0][1] > 0) :\n",
    "            print(W_NOTEARS[W_NOTEARS != 0], a, s1, s2)\n",
    "\n",
    "        W1 = np.zeros((n, n))\n",
    "        W1[1][0] = 1 / (X[:, 1].T @ X[:, 1]) * X[:, 1].T @ X[:, 0]\n",
    "\n",
    "        W2 = np.zeros((n, n))\n",
    "        W2[0][1] = 1 / (X[:, 0].T @ X[:, 0]) * X[:, 0].T @ X[:, 1]\n",
    "\n",
    "        # print(a ** 2 + (s2 / s1) ** 2 > 1)\n",
    "        print(h.MSE(W1, X, is_sem = True), h.MSE(W2, X, is_sem = True)) # , h.MSE(W1, X, is_sem = True), h.MSE(W2, X, is_sem = True))"
   ]
  },
  {
   "cell_type": "markdown",
   "id": "e3614a73",
   "metadata": {},
   "source": [
    "NOTEARS seems to pick the coefficient such that the MSE is minimized."
   ]
  },
  {
   "cell_type": "markdown",
   "id": "212c7967",
   "metadata": {},
   "source": [
    "#### What are the two possibilities?\n",
    "We have two choices, we either decide that Y predicts X, so X = aY, or that X predicts Y, so Y = a'X. The question is, what are the two values for a and a' based on our data X and Y? They are the minimizers of the MSE, which can easily be derived by OLS. However, since we know the data generating distribution, we can determine these a and a' for the population setting."
   ]
  },
  {
   "cell_type": "code",
   "execution_count": 885,
   "id": "4ea3fddd",
   "metadata": {},
   "outputs": [
    {
     "name": "stdout",
     "output_type": "stream",
     "text": [
      "a': -0.84667. Should be close to: -0.83888.\n",
      "Corresponding W1:\n",
      "[[ 0.     0.   ]\n",
      " [-0.847  0.   ]].\n",
      "\n",
      "a:  -0.30874. Should be close to: -0.30791.\n",
      "Corresponding W2:\n",
      "[[ 0.    -0.309]\n",
      " [ 0.     0.   ]].\n",
      "\n"
     ]
    }
   ],
   "source": [
    "W1 = np.zeros((n, n))\n",
    "W1[1][0] = 1 / (X[:, 1].T @ X[:, 1]) * X[:, 1].T @ X[:, 0]\n",
    "print(f\"a': {round(1 / (X[:, 1].T @ X[:, 1]) * X[:, 1].T @ X[:, 0], 5)}. Should be close to: {round(a * s1 ** 2 / (a ** 2 * s1 ** 2 + s2 ** 2), 5)}.\")\n",
    "print(f\"Corresponding W1:\\n{np.round(W1, 3)}.\\n\")\n",
    "\n",
    "W2 = np.zeros((n, n))\n",
    "W2[0][1] = 1 / (X[:, 0].T @ X[:, 0]) * X[:, 0].T @ X[:, 1]\n",
    "print(f\"a:  {round(1 / (X[:, 0].T @ X[:, 0]) * X[:, 0].T @ X[:, 1], 5)}. Should be close to: {round(a, 5)}.\")\n",
    "print(f\"Corresponding W2:\\n{np.round(W2, 3)}.\\n\")"
   ]
  },
  {
   "cell_type": "code",
   "execution_count": 886,
   "id": "41283320",
   "metadata": {},
   "outputs": [
    {
     "name": "stdout",
     "output_type": "stream",
     "text": [
      "6.160181063739462\n"
     ]
    }
   ],
   "source": [
    "mse = 0\n",
    "for row in X:\n",
    "    mse += np.linalg.norm(row - row @ W1, 2) ** 2\n",
    "print(mse / 100)"
   ]
  },
  {
   "cell_type": "code",
   "execution_count": 887,
   "id": "e91437be",
   "metadata": {},
   "outputs": [
    {
     "name": "stdout",
     "output_type": "stream",
     "text": [
      "MSE using W1: 0.062.\n",
      "MSE using W2: 0.071.\n",
      "NOTEARS picks W minimizing MSE: True.\n"
     ]
    }
   ],
   "source": [
    "print(f\"MSE using W1: {round(h.MSE(W1, X, is_sem = True), 3)}.\")\n",
    "print(f\"MSE using W2: {round(h.MSE(W2, X, is_sem = True), 3)}.\")\n",
    "print(f\"NOTEARS picks W minimizing MSE: {np.nonzero(W_NOTEARS) == np.nonzero([W1, W2][np.argmin([h.MSE(W1, X, True), h.MSE(W2, X, True)])])}.\")"
   ]
  },
  {
   "cell_type": "markdown",
   "id": "005a8f02",
   "metadata": {},
   "source": [
    "#### What determines when which one is picked?"
   ]
  },
  {
   "cell_type": "code",
   "execution_count": 888,
   "id": "7e69833c",
   "metadata": {},
   "outputs": [
    {
     "name": "stdout",
     "output_type": "stream",
     "text": [
      "0.06160181063739464\n",
      "0.06160181063739452\n",
      "0.07087522130877197\n",
      "0.07087522130877194\n"
     ]
    }
   ],
   "source": [
    "print(np.linalg.norm(X - X @ W1, 'f') ** 2 / T)\n",
    "print(np.var(X - X @ W1, axis = 0).sum() + np.sum(np.mean(X - X @ W1, axis = 0) ** 2))\n",
    "\n",
    "print(np.linalg.norm(X - X @ W2, 'f') ** 2 / T)\n",
    "print(np.var(X - X @ W2, axis = 0).sum() + np.sum(np.mean(X - X @ W2, axis = 0) ** 2))"
   ]
  },
  {
   "cell_type": "markdown",
   "id": "e71ef9bf",
   "metadata": {},
   "source": [
    "One Way: $$\\mathbb{V}(X_1) + \\mathbb{V}(X_2 - X_2') = \\sigma_1^2 + \\sigma_2^2$$\n",
    "Second Way: $$\\mathbb{V}(X_1 - X_1') + \\mathbb{V}(X_2) = \\mathbb{V}(X_1(1 - a' a)) + \\mathbb{V}(X_2)$$"
   ]
  },
  {
   "cell_type": "code",
   "execution_count": 889,
   "id": "7deb61d1",
   "metadata": {},
   "outputs": [],
   "source": [
    "a2 = a * s1 ** 2 / (a ** 2 * s1 ** 2 + s2 ** 2)"
   ]
  },
  {
   "cell_type": "code",
   "execution_count": 892,
   "id": "6e8944a4",
   "metadata": {},
   "outputs": [
    {
     "name": "stdout",
     "output_type": "stream",
     "text": [
      "First approach, proper model fit (W2).\n",
      "Variance of X1: 0.056. Should be close to 0.055.\n",
      "Variance of X2: 0.015. Should be close to 0.015.\n",
      "\n",
      "Second approach, incorrect model fit (W1).\n",
      "Variance of X1: 0.041. Should be close to 0.041\n",
      "Variance of X2: 0.02. Should be close to 0.02.\n"
     ]
    }
   ],
   "source": [
    "print(\"First approach, proper model fit (W2).\")\n",
    "print(f\"Variance of X1: {round(np.var(X, axis = 0)[0], 3)}. Should be close to {round(s1 ** 2, 3)}.\")\n",
    "print(f\"Variance of X2: {round(np.var(X[:, 1] - W2[0][1] * X[:, 0]), 3)}. Should be close to {round(s2 ** 2, 3)}.\")\n",
    "\n",
    "print(\"\\nSecond approach, incorrect model fit (W1).\")\n",
    "print(f\"Variance of X1: {round(np.var(X, axis = 0)[0] * (1 - W2[0][1] * W1[1][0]), 3)}. Should be close to {round(s1 ** 2 * (1 - a * a2), 3)}\")\n",
    "print(f\"Variance of X2: {round(np.var(X, axis = 0)[1], 3)}. Should be close to {round(a ** 2 * s1 ** 2 + s2 ** 2, 3)}.\")"
   ]
  },
  {
   "cell_type": "markdown",
   "id": "6254c7bd",
   "metadata": {},
   "source": [
    "Normally, we have X1 = noise and X2 = aX1 + noise. We get estimator X1' = 0, X2' = aX2. Our MSE is sigma1^2 + sigma2^2.\n",
    "Now, we do X1' = a'X2, and X2' = 0. Our MSE second part is V(aX1 + noise) = a^2 sigma1^2 + sigma2^2.\n",
    "Our MSE first part is V(X1 - X1') = V(X1 - a'X2) = sigma1^2, a' ** 2 sigma2 ^2.\n",
    "a'X2 = a'(aX1 + sigma2)"
   ]
  },
  {
   "cell_type": "markdown",
   "id": "acad6fac",
   "metadata": {},
   "source": [
    "We pick W1 when MSE(W1) < MSE(W2), so when s1 ** 2 + s2 ** 2 < s1 ** 2 "
   ]
  },
  {
   "cell_type": "code",
   "execution_count": 893,
   "id": "c2884aba",
   "metadata": {},
   "outputs": [
    {
     "name": "stdout",
     "output_type": "stream",
     "text": [
      "MSE(W2): 0.07087522130877198, 0.07043456621871608.\n",
      "MSE(W1): 0.06160181063739464, 0.06138322978776995.\n",
      "Pick W2 if 0.3670419072405709 is larger than 1.\n"
     ]
    }
   ],
   "source": [
    "print(f\"MSE(W2): {h.MSE(W2, X, True)}, {s1 ** 2 + s2 ** 2}.\")\n",
    "print(f\"MSE(W1): {h.MSE(W1, X, True)}, {s1 ** 2 * (1 - a * (a * s1 ** 2 / (a ** 2 * s1 ** 2 + s2 ** 2))) + a ** 2 * s1 ** 2 + s2 ** 2}.\")\n",
    "\n",
    "print(f\"Pick W2 if {a ** 2 + (s2 / s1) ** 2} is larger than 1.\")"
   ]
  },
  {
   "cell_type": "code",
   "execution_count": 894,
   "id": "d6e04477",
   "metadata": {},
   "outputs": [
    {
     "name": "stdout",
     "output_type": "stream",
     "text": [
      "0.09480587498039537 0.27223603226017545\n"
     ]
    }
   ],
   "source": [
    "print(a ** 2, s2 ** 2 / s1 ** 2)"
   ]
  },
  {
   "cell_type": "markdown",
   "id": "39e26d49",
   "metadata": {},
   "source": [
    "$$\\sigma_1^2 + \\sigma_2^2 < \\sigma_1^2 \\left(1 - a a' + a^2\\right) + \\sigma_2^2 \\iff a' < a$$\n",
    "\n",
    "$$a' = \\frac{a \\sigma_1^2}{a^2 \\sigma_1^2 + \\sigma_2^2}$$"
   ]
  },
  {
   "cell_type": "markdown",
   "id": "49ed4e31",
   "metadata": {},
   "source": [
    "$$\\frac{\\sigma_1^2}{a^2 \\sigma_1^2 + \\sigma_2^2} < 1 \\iff \\sigma_1^2 < a^2 \\sigma_1^2 + \\sigma_2^2 \\iff a^2 + \\left(\\frac{\\sigma_1}{\\sigma_2}\\right)^2 > 1$$"
   ]
  },
  {
   "cell_type": "markdown",
   "id": "d0fa6783",
   "metadata": {},
   "source": [
    "### Q1: Does NOTEARS always pick the matrix $W$ that minimizes the MSE?"
   ]
  },
  {
   "cell_type": "code",
   "execution_count": 872,
   "id": "a4bd827e",
   "metadata": {},
   "outputs": [
    {
     "name": "stdout",
     "output_type": "stream",
     "text": [
      "0.0\t0.0\t0.0001\t0.0\t0.0\t0.0\t0.0001\t0.0004\t0.0\t0.0\t0.0\t0.0001\t0.0\t0.0\t0.0\t0.0\t0.0\t0.0\t0.0\t0.0\t0.0\t0.0\t0.0\t0.0\t0.0\t0.0\t0.0\t0.0\t0.0001\t0.0\t0.0001\t0.0\t0.0\t0.0\t0.0\t0.0\t0.0\t0.0\t0.0\t0.0\t0.0\t0.0\t0.0\t0.0\t0.0\t0.0\t0.0\t0.0\t0.0\t0.0002\t0.0\t0.0\t0.0\t0.0\t0.0\t0.0\t0.0\t0.0001\t0.0\t0.0\t0.0001\t0.0\t0.0\t0.0\t0.0001\t0.0\t0.0\t0.0\t0.0\t0.0\t0.0\t0.0001\t0.0\t0.0\t0.0\t0.0\t0.0014\t0.0\t0.0\t0.0\t0.0\t0.0\t0.0001\t0.0\t0.0\t0.0\t0.0\t"
     ]
    }
   ],
   "source": [
    "for _ in range(100):\n",
    "    \n",
    "    a, s1, s2 = np.random.random(), np.random.random(), np.random.random()\n",
    "    T, n, s0, graph_type, sem_type = 100, 2, 1, 'ER', 'gauss'\n",
    "    W_true = np.array([[0.0, a], [0.0, 0.0]])\n",
    "    X = utils.simulate_linear_sem(W_true, T, sem_type, noise_scale = [s1, s2])\n",
    "    \n",
    "     # do NOTEARS\n",
    "    W_NOTEARS, h_val = linear.notears_linear(X, lambda1 = 0, loss_type = \"l2\", verbose = False, w_threshold = 1e-4)\n",
    "    \n",
    "    # Verify    \n",
    "    if len(W_NOTEARS[W_NOTEARS != 0]) == 1:\n",
    "        \n",
    "        # W2\n",
    "        W1 = np.zeros((n, n))\n",
    "        W1[1][0] = 1 / (X[:, 1].T @ X[:, 1]) * X[:, 1].T @ X[:, 0]\n",
    "\n",
    "        # W2\n",
    "        W2 = np.zeros((n, n))\n",
    "        W2[0][1] = 1 / (X[:, 0].T @ X[:, 0]) * X[:, 0].T @ X[:, 1]\n",
    "\n",
    "        # MSEs\n",
    "        # print(h.MSE(W1, X, is_sem = True), h.MSE(W2, X, is_sem = True), h.MSE(W_NOTEARS, X, is_sem = True))\n",
    "        \n",
    "        # check if MSE is smallest\n",
    "        print(round(h.MSE(W_NOTEARS, X, is_sem = True) - min(h.MSE(W1, X, is_sem = True), h.MSE(W2, X, is_sem = True)), 4), end = '\\t')\n",
    "        \n",
    "        #if h.MSE(W_NOTEARS, X, is_sem = True) - 1e-4 > min(h.MSE(W1, X, is_sem = True), h.MSE(W2, X, is_sem = True)):\n",
    "#            print(round(h.MSE(W_NOTEARS, X, is_sem = True), 3), round(h.MSE(W1, X, is_sem = True), 3), round(h.MSE(W2, X, is_sem = True), 3))"
   ]
  },
  {
   "cell_type": "markdown",
   "id": "6d12b383",
   "metadata": {},
   "source": [
    "#### Q2: Based on the data-generating distribution, which matrix will be better, W1 or W2?\n",
    "A: $W_1$ is better than $W_2$ $\\iff a^2 + \\left(\\frac{\\sigma_1}{\\sigma_2}\\right)^2 > 1$, assuming $T$ is large enough. "
   ]
  },
  {
   "cell_type": "markdown",
   "id": "8873575a",
   "metadata": {},
   "source": [
    "#### Q3: What if $T$ is not large enough?"
   ]
  },
  {
   "cell_type": "code",
   "execution_count": 912,
   "id": "30810680",
   "metadata": {},
   "outputs": [
    {
     "name": "stdout",
     "output_type": "stream",
     "text": [
      "Pick W2 if 1.14 is smaller than 1. => True. MSE(W1) < MSE(W2):\n",
      "Pick W2 if 2.52 is smaller than 1. => True. MSE(W1) < MSE(W2):\n",
      "Pick W2 if 0.68 is smaller than 1. => True. MSE(W1) < MSE(W2):\n",
      "Pick W2 if 0.5 is smaller than 1. => True. MSE(W1) < MSE(W2):\n",
      "Pick W2 if 2.08 is smaller than 1. => True. MSE(W1) < MSE(W2):\n",
      "Pick W2 if 3.67 is smaller than 1. => True. MSE(W1) < MSE(W2):\n",
      "Pick W2 if 0.59 is smaller than 1. => True. MSE(W1) < MSE(W2):\n",
      "Pick W2 if 1.0 is smaller than 1. => True. MSE(W1) < MSE(W2):\n",
      "Pick W2 if 0.33 is smaller than 1. => True. MSE(W1) < MSE(W2):\n",
      "Pick W2 if 0.3 is smaller than 1. => True. MSE(W1) < MSE(W2):\n",
      "Pick W2 if 2.92 is smaller than 1. => True. MSE(W1) < MSE(W2):\n",
      "Pick W2 if 0.75 is smaller than 1. => True. MSE(W1) < MSE(W2):\n",
      "Pick W2 if 0.66 is smaller than 1. => True. MSE(W1) < MSE(W2):\n",
      "Pick W2 if 495.3 is smaller than 1. => True. MSE(W1) < MSE(W2):\n",
      "Pick W2 if 2.6 is smaller than 1. => True. MSE(W1) < MSE(W2):\n",
      "Pick W2 if 2.08 is smaller than 1. => True. MSE(W1) < MSE(W2):\n",
      "Pick W2 if 3.86 is smaller than 1. => True. MSE(W1) < MSE(W2):\n",
      "Pick W2 if 0.24 is smaller than 1. => True. MSE(W1) < MSE(W2):\n",
      "Pick W2 if 11.91 is smaller than 1. => True. MSE(W1) < MSE(W2):\n",
      "Pick W2 if 6.65 is smaller than 1. => True. MSE(W1) < MSE(W2):\n",
      "Pick W2 if 1.89 is smaller than 1. => True. MSE(W1) < MSE(W2):\n",
      "Pick W2 if 1.2 is smaller than 1. => True. MSE(W1) < MSE(W2):\n",
      "Pick W2 if 1.36 is smaller than 1. => True. MSE(W1) < MSE(W2):\n",
      "Pick W2 if 4.72 is smaller than 1. => True. MSE(W1) < MSE(W2):\n",
      "Pick W2 if 1.61 is smaller than 1. => True. MSE(W1) < MSE(W2):\n",
      "Pick W2 if 0.17 is smaller than 1. => True. MSE(W1) < MSE(W2):\n",
      "Pick W2 if 0.68 is smaller than 1. => True. MSE(W1) < MSE(W2):\n",
      "Pick W2 if 0.12 is smaller than 1. => True. MSE(W1) < MSE(W2):\n",
      "Pick W2 if 0.79 is smaller than 1. => True. MSE(W1) < MSE(W2):\n",
      "Pick W2 if 2.47 is smaller than 1. => True. MSE(W1) < MSE(W2):\n",
      "Pick W2 if 3.81 is smaller than 1. => True. MSE(W1) < MSE(W2):\n",
      "Pick W2 if 17.23 is smaller than 1. => True. MSE(W1) < MSE(W2):\n",
      "Pick W2 if 1.14 is smaller than 1. => True. MSE(W1) < MSE(W2):\n",
      "Pick W2 if 1.44 is smaller than 1. => True. MSE(W1) < MSE(W2):\n",
      "Pick W2 if 0.96 is smaller than 1. => False. MSE(W1) < MSE(W2):\n",
      "Pick W2 if 1.05 is smaller than 1. => True. MSE(W1) < MSE(W2):\n",
      "Pick W2 if 0.64 is smaller than 1. => True. MSE(W1) < MSE(W2):\n",
      "Pick W2 if 1.57 is smaller than 1. => True. MSE(W1) < MSE(W2):\n",
      "Pick W2 if 0.34 is smaller than 1. => True. MSE(W1) < MSE(W2):\n",
      "Pick W2 if 4.34 is smaller than 1. => True. MSE(W1) < MSE(W2):\n",
      "Pick W2 if 1.52 is smaller than 1. => True. MSE(W1) < MSE(W2):\n",
      "Pick W2 if 2.45 is smaller than 1. => True. MSE(W1) < MSE(W2):\n",
      "Pick W2 if 0.19 is smaller than 1. => True. MSE(W1) < MSE(W2):\n",
      "Pick W2 if 1.2 is smaller than 1. => True. MSE(W1) < MSE(W2):\n",
      "Pick W2 if 1.23 is smaller than 1. => True. MSE(W1) < MSE(W2):\n",
      "Pick W2 if 0.78 is smaller than 1. => True. MSE(W1) < MSE(W2):\n",
      "Pick W2 if 1.05 is smaller than 1. => True. MSE(W1) < MSE(W2):\n",
      "Pick W2 if 44.88 is smaller than 1. => True. MSE(W1) < MSE(W2):\n",
      "Pick W2 if 0.46 is smaller than 1. => True. MSE(W1) < MSE(W2):\n",
      "Pick W2 if 5.37 is smaller than 1. => True. MSE(W1) < MSE(W2):\n",
      "Pick W2 if 7.45 is smaller than 1. => True. MSE(W1) < MSE(W2):\n",
      "Pick W2 if 0.82 is smaller than 1. => True. MSE(W1) < MSE(W2):\n",
      "Pick W2 if 1.84 is smaller than 1. => True. MSE(W1) < MSE(W2):\n",
      "Pick W2 if 0.84 is smaller than 1. => False. MSE(W1) < MSE(W2):\n",
      "Pick W2 if 0.33 is smaller than 1. => True. MSE(W1) < MSE(W2):\n",
      "Pick W2 if 0.31 is smaller than 1. => True. MSE(W1) < MSE(W2):\n",
      "Pick W2 if 0.63 is smaller than 1. => True. MSE(W1) < MSE(W2):\n",
      "Pick W2 if 0.24 is smaller than 1. => True. MSE(W1) < MSE(W2):\n",
      "Pick W2 if 4.73 is smaller than 1. => True. MSE(W1) < MSE(W2):\n",
      "Pick W2 if 2.65 is smaller than 1. => True. MSE(W1) < MSE(W2):\n",
      "Pick W2 if 0.46 is smaller than 1. => True. MSE(W1) < MSE(W2):\n",
      "Pick W2 if 2.52 is smaller than 1. => True. MSE(W1) < MSE(W2):\n",
      "Pick W2 if 0.38 is smaller than 1. => True. MSE(W1) < MSE(W2):\n",
      "Pick W2 if 1.9 is smaller than 1. => True. MSE(W1) < MSE(W2):\n",
      "Pick W2 if 1.73 is smaller than 1. => True. MSE(W1) < MSE(W2):\n",
      "Pick W2 if 0.63 is smaller than 1. => True. MSE(W1) < MSE(W2):\n",
      "Pick W2 if 2.27 is smaller than 1. => True. MSE(W1) < MSE(W2):\n",
      "Pick W2 if 5.45 is smaller than 1. => True. MSE(W1) < MSE(W2):\n",
      "Pick W2 if 0.91 is smaller than 1. => True. MSE(W1) < MSE(W2):\n",
      "Pick W2 if 6.31 is smaller than 1. => True. MSE(W1) < MSE(W2):\n",
      "Pick W2 if 2.26 is smaller than 1. => True. MSE(W1) < MSE(W2):\n",
      "Pick W2 if 0.32 is smaller than 1. => True. MSE(W1) < MSE(W2):\n",
      "Pick W2 if 0.21 is smaller than 1. => True. MSE(W1) < MSE(W2):\n",
      "Pick W2 if 1.18 is smaller than 1. => True. MSE(W1) < MSE(W2):\n",
      "Pick W2 if 0.38 is smaller than 1. => True. MSE(W1) < MSE(W2):\n",
      "Pick W2 if 3.53 is smaller than 1. => True. MSE(W1) < MSE(W2):\n",
      "Pick W2 if 38.59 is smaller than 1. => True. MSE(W1) < MSE(W2):\n",
      "Pick W2 if 120.21 is smaller than 1. => True. MSE(W1) < MSE(W2):\n",
      "Pick W2 if 44.65 is smaller than 1. => True. MSE(W1) < MSE(W2):\n",
      "Pick W2 if 0.89 is smaller than 1. => True. MSE(W1) < MSE(W2):\n",
      "Pick W2 if 0.68 is smaller than 1. => True. MSE(W1) < MSE(W2):\n",
      "Pick W2 if 0.4 is smaller than 1. => True. MSE(W1) < MSE(W2):\n",
      "Pick W2 if 1.02 is smaller than 1. => True. MSE(W1) < MSE(W2):\n",
      "Pick W2 if 1917.99 is smaller than 1. => True. MSE(W1) < MSE(W2):\n",
      "Pick W2 if 1.21 is smaller than 1. => True. MSE(W1) < MSE(W2):\n",
      "Pick W2 if 7.13 is smaller than 1. => True. MSE(W1) < MSE(W2):\n",
      "Pick W2 if 2.86 is smaller than 1. => True. MSE(W1) < MSE(W2):\n",
      "2 85\n"
     ]
    }
   ],
   "source": [
    "T = 100\n",
    "\n",
    "correct = 0\n",
    "incorrect = 0\n",
    "for _ in range(100):\n",
    "    # get a, s1, s2\n",
    "    a, s1, s2 = -0.1 - np.random.random(), np.random.random(), np.random.random()\n",
    "    \n",
    "    # remake W\n",
    "    W_true = np.array([[0.0, a], [0.0, 0.0]])\n",
    "    \n",
    "    # generate X\n",
    "    X = utils.simulate_linear_sem(W_true, T, sem_type, noise_scale = [s1, s2])\n",
    "    \n",
    "    # do NOTEARS\n",
    "    W_NOTEARS, h_val = linear.notears_linear(X, lambda1 = 0, loss_type = \"l2\", verbose = False, w_threshold = 1e-4)\n",
    "    \n",
    "    # Verify    \n",
    "    if len(W_NOTEARS[W_NOTEARS != 0]) == 1:\n",
    "        if a > 0:\n",
    "            print(f\"Pick W2 if {round(a ** 2 + (s2 / s1) ** 2, 2)} is larger than 1. => {(a ** 2 + (s2 / s1) ** 2 > 1) == (W_NOTEARS[0][1] != 0)}. MSE(W1) < MSE(W2):\", end = ' ')\n",
    "        else:\n",
    "            print(f\"Pick W2 if {round(a ** 2 + (s2 / s1) ** 2, 2)} is smaller than 1. => {(a ** 2 + (s2 / s1) ** 2 > 1) == (W_NOTEARS[0][1] != 0)}. MSE(W1) < MSE(W2):\", end = '\\n')\n",
    "\n",
    "        if (a ** 2 + (s2 / s1) ** 2 > 1) != (W_NOTEARS[0][1] != 0) :\n",
    "            incorrect += 1\n",
    "        else:\n",
    "            correct += 1\n",
    "\n",
    "#         W1 = np.zeros((n, n))\n",
    "#         W1[1][0] = 1 / (X[:, 1].T @ X[:, 1]) * X[:, 1].T @ X[:, 0]\n",
    "\n",
    "#         W2 = np.zeros((n, n))\n",
    "#         W2[0][1] = 1 / (X[:, 0].T @ X[:, 0]) * X[:, 0].T @ X[:, 1]\n",
    "\n",
    "#         # print(a ** 2 + (s2 / s1) ** 2 > 1)\n",
    "#         print(h.MSE(W1, X, is_sem = True), h.MSE(W2, X, is_sem = True)) # , h.MSE(W1, X, is_sem = True), h.MSE(W2, X, is_sem = True))\n",
    "\n",
    "print(incorrect, correct)"
   ]
  }
 ],
 "metadata": {
  "kernelspec": {
   "display_name": "Python 3.6.8 64-bit",
   "language": "python",
   "name": "python36864bit874e3a48d9b148faaa09714964fd179b"
  },
  "language_info": {
   "codemirror_mode": {
    "name": "ipython",
    "version": 3
   },
   "file_extension": ".py",
   "mimetype": "text/x-python",
   "name": "python",
   "nbconvert_exporter": "python",
   "pygments_lexer": "ipython3",
   "version": "3.6.8"
  }
 },
 "nbformat": 4,
 "nbformat_minor": 5
}
