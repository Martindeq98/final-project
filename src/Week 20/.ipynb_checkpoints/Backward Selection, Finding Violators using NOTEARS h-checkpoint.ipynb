{
 "cells": [
  {
   "cell_type": "code",
   "execution_count": 1,
   "id": "b38d7b0c",
   "metadata": {},
   "outputs": [],
   "source": [
    "def _h(W):\n",
    "    \"\"\"Evaluate value and gradient of acyclicity constraint.\"\"\"\n",
    "    W2 = W.copy()\n",
    "\n",
    "    np.fill_diagonal(W2, np.zeros(np.shape(W)[0]))\n",
    "\n",
    "    E = slin.expm(W2 * W2)  # (Zheng et al. 2018)\n",
    "    h = np.trace(E) - d\n",
    "\n",
    "    return h"
   ]
  },
  {
   "cell_type": "code",
   "execution_count": null,
   "id": "5db7b83f",
   "metadata": {},
   "outputs": [],
   "source": [
    "def find_violators(W):\n",
    "    "
   ]
  }
 ],
 "metadata": {
  "kernelspec": {
   "display_name": "Python 3.6.8 64-bit",
   "language": "python",
   "name": "python36864bit874e3a48d9b148faaa09714964fd179b"
  },
  "language_info": {
   "codemirror_mode": {
    "name": "ipython",
    "version": 3
   },
   "file_extension": ".py",
   "mimetype": "text/x-python",
   "name": "python",
   "nbconvert_exporter": "python",
   "pygments_lexer": "ipython3",
   "version": "3.6.8"
  }
 },
 "nbformat": 4,
 "nbformat_minor": 5
}
