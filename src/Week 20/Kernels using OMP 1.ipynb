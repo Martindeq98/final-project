{
 "cells": [
  {
   "cell_type": "code",
   "execution_count": 97,
   "id": "c28b4c0c",
   "metadata": {},
   "outputs": [],
   "source": [
    "import numpy as np\n",
    "import matplotlib.pyplot as plt\n",
    "\n",
    "# generate SEM\n",
    "import sys\n",
    "sys.path.append(\"..\")\n",
    "\n",
    "from notears.notears.notears import linear\n",
    "from notears.notears.notears import utils\n",
    "import helper.helper as h\n",
    "import helper.methods as m\n",
    "\n",
    "from importlib import reload  # Python 3.4+"
   ]
  },
  {
   "cell_type": "markdown",
   "id": "2f2e56ab",
   "metadata": {},
   "source": [
    "### K-OMP Algorithm"
   ]
  },
  {
   "cell_type": "code",
   "execution_count": 152,
   "id": "abfd0004",
   "metadata": {},
   "outputs": [],
   "source": [
    "def KOMP_Psi_K(Psi, K, max_coefs = 1e10, tol = 0.0, verbose = False, output = False, normalize = True):\n",
    "    \"\"\"Do Kernel OMP on Psi, K.\"\"\"\n",
    "    \n",
    "    # get dimensions\n",
    "    n = np.shape(Psi)[0]\n",
    "\n",
    "    # initialize Lambda, idx, betas\n",
    "    Lambda, idx, betas = [[] for _ in range(n)], [], np.zeros((n, n))\n",
    "\n",
    "    # compute norms if we want to normalize\n",
    "    norms = [1] * n # initialize as harmless 1 array\n",
    "    if normalize: norms = [np.linalg.norm(x) for x in X.T]\n",
    "    \n",
    "    # for each possible coefficient\n",
    "    for i in range(n ** 2):    \n",
    "    \n",
    "        # compute gains\n",
    "        gains = np.abs([(k - betas.T @ Psi[i, :]) / norms[i] for i, k in enumerate(K)])\n",
    "        \n",
    "        # set forbidden set to -1, impossible to pick then\n",
    "#         gains = gains.flatten()\n",
    "#         gains[F] = - np.ones(len(F))\n",
    "#         gains = gains.reshape(n, n)\n",
    "    \n",
    "        # print(gains)\n",
    "        \n",
    "        # stopping criterion\n",
    "        if np.round(gains, 5).max() <= tol: \n",
    "            print(\"Break\")\n",
    "            break\n",
    "    \n",
    "        # append best atom to Lambda\n",
    "        # if tie, pick the one that minimizes residual\n",
    "        row, col = np.argmax(gains) // n, np.argmax(gains) % n\n",
    "        Lambda[col].append(row)\n",
    "    \n",
    "        # check if we have a DAG, not super efficient\n",
    "        if True: # h.is_dag(Lambda_to_adj(Lambda)): \n",
    "            # update only column col, use indices of \n",
    "            idx = Lambda[col]\n",
    "            Psi_F = Psi[np.array(idx)[:, None], np.array(idx)[None, :]]\n",
    "        \n",
    "            # update betas\n",
    "            betas[np.array(idx)[:, None], col] = np.linalg.inv(Psi_F) @ K[np.array(idx)[:, None], col]\n",
    "    \n",
    "        else:\n",
    "            # append forbidden entry to forbidden list\n",
    "            F.append(int(np.argmax(gains)))\n",
    "            # remove coefficient from Lambda\n",
    "            Lambda[col].remove(row)\n",
    "    \n",
    "        # print info if verbose\n",
    "        if verbose:\n",
    "            print(f\"Iteration {i + 1}.\\n\")\n",
    "            print(f\"Gains:\\n{np.round(gains, 3)}.\\n\")\n",
    "            print(f\"Beta_{i + 1}:\\n{np.round(betas, 3)}.\\n\")\n",
    "            print(f\"Residual Squared: {np.round([Theta[i] - Psi[:, i] @ betas[:, i] for i in range(n)], 32)}.\\n\\n\")\n",
    "\n",
    "    return betas "
   ]
  },
  {
   "cell_type": "markdown",
   "id": "358cd8df",
   "metadata": {},
   "source": [
    "### Feature space $\\Phi: \\mathbb{R}^{T} \\rightarrow \\mathbb{R}^{T'}$\n",
    "\n",
    "#### Polynomial Kernel with intercept.\n",
    "$(1 + x^Tx)^k$.  \n",
    "\n",
    "For $k = 0$, we have $T' = 1$.\n",
    "\n",
    "For $k = 1$, we have $T' = T + 1$.\n",
    "\n",
    "For $k = 2$, we have $T' = T + T (T + 1) / 2 + T + 1$.\n",
    "\n",
    "#### Polynomial Kernel without intercept.\n",
    "$(x^Tx)^k$.\n",
    "\n",
    "For $k = 0$, we have $T' = 1$.\n",
    "\n",
    "For $k = 1$, we have $T' = T$.\n",
    "\n",
    "FOr $k = 2$, we have $T' = T + T (T + 1) / 2$. \n",
    "\n",
    "$$\\sum_{i = 1}^k {T \\choose i}$$.\n",
    "#### Gaussian Kernel\n",
    "\n",
    "#### Laplacian Kernel"
   ]
  },
  {
   "cell_type": "code",
   "execution_count": 99,
   "id": "2424f064",
   "metadata": {},
   "outputs": [],
   "source": [
    "from scipy.special import binom"
   ]
  },
  {
   "cell_type": "code",
   "execution_count": 100,
   "id": "81f92a3f",
   "metadata": {},
   "outputs": [
    {
     "name": "stdout",
     "output_type": "stream",
     "text": [
      "100.0\n"
     ]
    }
   ],
   "source": [
    "T = 100\n",
    "print(sum([binom(T, i) for i in range(1, 2)]))"
   ]
  },
  {
   "cell_type": "markdown",
   "id": "0a57951f",
   "metadata": {},
   "source": [
    "#### Quadratic Polynomial"
   ]
  },
  {
   "cell_type": "code",
   "execution_count": 101,
   "id": "936127ee",
   "metadata": {},
   "outputs": [
    {
     "ename": "TypeError",
     "evalue": "poly_kernel_2() missing 1 required positional argument: 'x'",
     "output_type": "error",
     "traceback": [
      "\u001b[1;31m---------------------------------------------------------------------------\u001b[0m",
      "\u001b[1;31mTypeError\u001b[0m                                 Traceback (most recent call last)",
      "\u001b[1;32m<ipython-input-101-f65e8bb9c4b1>\u001b[0m in \u001b[0;36m<module>\u001b[1;34m\u001b[0m\n\u001b[0;32m     18\u001b[0m \u001b[0mX\u001b[0m \u001b[1;33m=\u001b[0m \u001b[0mnp\u001b[0m\u001b[1;33m.\u001b[0m\u001b[0marray\u001b[0m\u001b[1;33m(\u001b[0m\u001b[0mrange\u001b[0m\u001b[1;33m(\u001b[0m\u001b[0mT\u001b[0m\u001b[1;33m)\u001b[0m\u001b[1;33m)\u001b[0m\u001b[1;33m\u001b[0m\u001b[1;33m\u001b[0m\u001b[0m\n\u001b[0;32m     19\u001b[0m \u001b[1;33m\u001b[0m\u001b[0m\n\u001b[1;32m---> 20\u001b[1;33m \u001b[0mX_phi\u001b[0m \u001b[1;33m=\u001b[0m \u001b[0mpoly_kernel_2\u001b[0m\u001b[1;33m(\u001b[0m\u001b[1;33m)\u001b[0m\u001b[1;33m\u001b[0m\u001b[1;33m\u001b[0m\u001b[0m\n\u001b[0m",
      "\u001b[1;31mTypeError\u001b[0m: poly_kernel_2() missing 1 required positional argument: 'x'"
     ]
    }
   ],
   "source": [
    "def poly_kernel_1(x):\n",
    "    return x\n",
    "\n",
    "def poly_kernel_2(x):\n",
    "    x_2 = np.ones(T + int(T * (T - 1) / 2))\n",
    "    \n",
    "    x_2[:T] = x ** 2\n",
    "    \n",
    "    count = T\n",
    "    for i in range(T):\n",
    "        for j in range(i):\n",
    "            x_2[count] = x[i] * x[j] * np.sqrt(2)\n",
    "            count += 1\n",
    "            \n",
    "    return x_2\n",
    "\n",
    "T = 100\n",
    "X = np.array(range(T))\n",
    "\n",
    "X_phi = poly_kernel_2()"
   ]
  },
  {
   "cell_type": "code",
   "execution_count": 102,
   "id": "1ad77f07",
   "metadata": {},
   "outputs": [
    {
     "ename": "SyntaxError",
     "evalue": "invalid syntax (<ipython-input-102-4e3a430b2f18>, line 19)",
     "output_type": "error",
     "traceback": [
      "\u001b[1;36m  File \u001b[1;32m\"<ipython-input-102-4e3a430b2f18>\"\u001b[1;36m, line \u001b[1;32m19\u001b[0m\n\u001b[1;33m    x_phi[current + j] =\u001b[0m\n\u001b[1;37m                         ^\u001b[0m\n\u001b[1;31mSyntaxError\u001b[0m\u001b[1;31m:\u001b[0m invalid syntax\n"
     ]
    }
   ],
   "source": [
    "def poly_kernel(x, k):\n",
    "    \n",
    "    L = sum([binom(T, i) for i in range(1, k)])\n",
    "    x_phi = np.zeros(int(L))\n",
    "    \n",
    "    current = 0\n",
    "    \n",
    "    for i in range(1, k + 1):\n",
    "        \n",
    "        print(\"Filling polynomial degree\", i)\n",
    "        \n",
    "        print(current, current + binom(T, i))\n",
    "        # current = binom(T, i)\n",
    "        \n",
    "        # x_phi[current:current + binom(T, i)] = x ** k\n",
    "        \n",
    "        for j in range(int(binom(T, i))):\n",
    "            print(j)\n",
    "            x_phi[current + j] = \n",
    "        \n",
    "        # x_phi[T:]\n",
    "\n",
    "print(poly_kernel(1, 2))"
   ]
  },
  {
   "cell_type": "markdown",
   "id": "506c7fd6",
   "metadata": {},
   "source": [
    "$$K(x, y) =\\ <\\phi(x), \\phi(y)>\\ =\\ <(x, x^2), (y, y^2)>\\ = x^Ty + (x^2)^Ty^2,$$\n",
    "where $$\\phi(x) = (x, x^2).$$"
   ]
  },
  {
   "cell_type": "code",
   "execution_count": 154,
   "id": "fab7682c",
   "metadata": {},
   "outputs": [
    {
     "name": "stdout",
     "output_type": "stream",
     "text": [
      "[0 3 6 9] [ 0.  3. 12. 27.]\n",
      "[ 0  3  6  9  0  9 36 81]\n",
      "336 336.0 924\n"
     ]
    }
   ],
   "source": [
    "def lin_quad_phi(x):\n",
    "    return np.append(x, x ** 2)\n",
    "\n",
    "# x = np.random.rand(10, 1)\n",
    "# y = np.random.rand(10)\n",
    "\n",
    "T = 4\n",
    "w = 3\n",
    "\n",
    "x = np.array(range(T))\n",
    "\n",
    "y_phi = w * lin_quad_phi(x)\n",
    "y = w * x\n",
    "\n",
    "print(y_phi[:T], (y_phi[:T] / np.sqrt(w)) ** 2)\n",
    "print(lin_quad_phi(y))\n",
    "\n",
    "Psi = np.dot(lin_quad_phi(x).T, lin_quad_phi(x))\n",
    "K = np.dot(lin_quad_phi(x).T, y_phi)\n",
    "\n",
    "K_2 = np.dot(lin_quad_phi(x).T, np.append(y_phi[:T], (y_phi[:T] / np.sqrt(w)) ** 2))\n",
    "\n",
    "K_3 = np.dot(lin_quad_phi(x).T, lin_quad_phi(y))\n",
    "\n",
    "print(K, K_2, K_3)\n",
    "# print(1 / Psi * K)\n",
    "# print(1 / Psi * K_2)\n",
    "# print(1 / Psi * K_3)"
   ]
  },
  {
   "cell_type": "code",
   "execution_count": 137,
   "id": "5d820095",
   "metadata": {},
   "outputs": [],
   "source": []
  },
  {
   "cell_type": "code",
   "execution_count": null,
   "id": "e7c39dad",
   "metadata": {},
   "outputs": [],
   "source": []
  }
 ],
 "metadata": {
  "kernelspec": {
   "display_name": "Python 3.6.8 64-bit",
   "language": "python",
   "name": "python36864bit874e3a48d9b148faaa09714964fd179b"
  },
  "language_info": {
   "codemirror_mode": {
    "name": "ipython",
    "version": 3
   },
   "file_extension": ".py",
   "mimetype": "text/x-python",
   "name": "python",
   "nbconvert_exporter": "python",
   "pygments_lexer": "ipython3",
   "version": "3.6.8"
  }
 },
 "nbformat": 4,
 "nbformat_minor": 5
}
