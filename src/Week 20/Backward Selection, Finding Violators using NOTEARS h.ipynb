{
 "cells": [
  {
   "cell_type": "code",
   "execution_count": 10,
   "id": "a54b07e1",
   "metadata": {},
   "outputs": [],
   "source": [
    "import numpy as np\n",
    "\n",
    "import scipy.linalg as slin"
   ]
  },
  {
   "cell_type": "code",
   "execution_count": 13,
   "id": "15134912",
   "metadata": {},
   "outputs": [],
   "source": [
    "def _h(W):\n",
    "    \"\"\"Evaluate value and gradient of acyclicity constraint.\"\"\"\n",
    "    W2 = W.copy()\n",
    "\n",
    "    np.fill_diagonal(W2, np.zeros(np.shape(W)[0]))\n",
    "\n",
    "    E = slin.expm(W2 * W2)  # (Zheng et al. 2018)\n",
    "    h = np.trace(E) - n\n",
    "\n",
    "    return h"
   ]
  },
  {
   "cell_type": "code",
   "execution_count": 21,
   "id": "718621f4",
   "metadata": {},
   "outputs": [
    {
     "data": {
      "text/plain": [
       "0.1204009722952768"
      ]
     },
     "execution_count": 21,
     "metadata": {},
     "output_type": "execute_result"
    }
   ],
   "source": [
    "n = 3\n",
    "W = np.random.rand(n, n)\n",
    "_h(W)"
   ]
  },
  {
   "cell_type": "code",
   "execution_count": 66,
   "id": "d3e079c3",
   "metadata": {},
   "outputs": [
    {
     "name": "stdout",
     "output_type": "stream",
     "text": [
      "Edge (1, 2) is a violator.\n",
      "Edge (2, 1) is a violator.\n"
     ]
    }
   ],
   "source": [
    "def find_violators(W, epsilon = 1e-5):\n",
    "    \n",
    "    h_val = _h(W)\n",
    "    \n",
    "    for i in range(n):\n",
    "        for j in range(n):\n",
    "            \n",
    "            # remove Wij\n",
    "            tmp = W[i][j]\n",
    "            W[i][j] = 0\n",
    "            \n",
    "            # check h\n",
    "            h_diff = h_val - _h(W)\n",
    "            \n",
    "            # check change\n",
    "            if h_diff > epsilon:\n",
    "                print(f\"Edge ({i}, {j}) is a violator.\")\n",
    "            \n",
    "            # add Wij back\n",
    "            W[i][j] = tmp\n",
    "\n",
    "find_violators(W)"
   ]
  },
  {
   "cell_type": "code",
   "execution_count": 81,
   "id": "dc9df9fd",
   "metadata": {},
   "outputs": [
    {
     "name": "stdout",
     "output_type": "stream",
     "text": [
      "[[0.53319732 0.         0.50341048]\n",
      " [0.         0.85174496 0.7939688 ]\n",
      " [0.         0.85043493 0.68946601]]\n",
      "Edge (1, 2) is a violator.\n",
      "Edge (2, 1) is a violator.\n"
     ]
    }
   ],
   "source": [
    "W = np.random.rand(n, n)\n",
    "\n",
    "W[2][0] = 0\n",
    "W[0][1] = 0\n",
    "W[1][0] = 0\n",
    "\n",
    "print(W)\n",
    "find_violators(W)"
   ]
  }
 ],
 "metadata": {
  "kernelspec": {
   "display_name": "Python 3.6.8 64-bit",
   "language": "python",
   "name": "python36864bit874e3a48d9b148faaa09714964fd179b"
  },
  "language_info": {
   "codemirror_mode": {
    "name": "ipython",
    "version": 3
   },
   "file_extension": ".py",
   "mimetype": "text/x-python",
   "name": "python",
   "nbconvert_exporter": "python",
   "pygments_lexer": "ipython3",
   "version": "3.6.8"
  }
 },
 "nbformat": 4,
 "nbformat_minor": 5
}
