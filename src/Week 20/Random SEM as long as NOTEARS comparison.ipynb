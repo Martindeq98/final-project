{
 "cells": [
  {
   "cell_type": "code",
   "execution_count": 130,
   "id": "c90f25da",
   "metadata": {},
   "outputs": [],
   "source": [
    "import sys\n",
    "import itertools\n",
    "import numpy as np\n",
    "from tqdm import tqdm\n",
    "import matplotlib.pyplot as plt\n",
    "from timeit import default_timer as timer\n",
    "sys.path.append(\"..\")\n",
    "import helper.helper as h\n",
    "from notears.notears.notears import linear\n",
    "from notears.notears.notears import utils"
   ]
  },
  {
   "cell_type": "markdown",
   "id": "78f4ce20",
   "metadata": {},
   "source": [
    "#### Exhaustive Kernel"
   ]
  },
  {
   "cell_type": "markdown",
   "id": "977f452c",
   "metadata": {},
   "source": [
    "#### Quickly Evaluate Loss Function"
   ]
  },
  {
   "cell_type": "code",
   "execution_count": 114,
   "id": "0cbd7453",
   "metadata": {},
   "outputs": [],
   "source": [
    "def loss(W):\n",
    "    M = X @ W\n",
    "    \n",
    "    # Remove X[0] and XW[last]\n",
    "    R = X - M\n",
    "    \n",
    "    # Frobenius norm squared loss\n",
    "    loss = 1 / X.shape[0] * (R ** 2).sum()\n",
    "    \n",
    "    return loss"
   ]
  },
  {
   "cell_type": "markdown",
   "id": "d56bf533",
   "metadata": {},
   "source": [
    "#### Do OLS constrained to P, use Kernelized $\\Psi$"
   ]
  },
  {
   "cell_type": "code",
   "execution_count": 31,
   "id": "3093ec12",
   "metadata": {},
   "outputs": [],
   "source": [
    "def PK_OLS(Psi, P):\n",
    "    W_hat = np.zeros((n, n))\n",
    "\n",
    "    # get parameters\n",
    "    for i, p in enumerate(P[:-1]):     \n",
    "        W_hat[P[i + 1:], p] = np.linalg.inv(Psi[P[i + 1:, None], P[None, i + 1:]]) @ Psi[P[i + 1:], p]\n",
    "    \n",
    "    return W_hat"
   ]
  },
  {
   "cell_type": "markdown",
   "id": "032bd576",
   "metadata": {},
   "source": [
    "#### Exhaustively try all possible permutations $P$."
   ]
  },
  {
   "cell_type": "code",
   "execution_count": 40,
   "id": "ef73da46",
   "metadata": {},
   "outputs": [],
   "source": [
    "def exhaustive_search_K(X):\n",
    "    \n",
    "    # initialization\n",
    "    Psi = X.T.dot(X)\n",
    "\n",
    "    # initialization\n",
    "    _, n = np.shape(X)\n",
    "    W_best = np.identity(n)\n",
    "    MSE_best = np.inf\n",
    "    \n",
    "    # iterate over all permutations\n",
    "    for perm in tqdm(itertools.permutations(range(n)), total=np.math.factorial(n)):\n",
    "        \n",
    "        # get OLS optimal under permutation\n",
    "        W = PK_OLS(Psi, np.array(perm))\n",
    "        \n",
    "        # get its loss\n",
    "        MSE_W = loss(W)\n",
    "        \n",
    "        # remember best one\n",
    "        if MSE_W < MSE_best:\n",
    "            \n",
    "            MSE_best = MSE_W\n",
    "            W_best = W\n",
    "            \n",
    "    return W_best"
   ]
  },
  {
   "cell_type": "markdown",
   "id": "e7f49662",
   "metadata": {},
   "source": [
    "#### Randomly Search for permutations until $\\texttt{checks} > \\texttt{max_checks}$ or $\\texttt{time} > \\texttt{max_time}$."
   ]
  },
  {
   "cell_type": "code",
   "execution_count": 169,
   "id": "70560a7a",
   "metadata": {},
   "outputs": [],
   "source": [
    "def random_search_K(X, max_checks, max_time):\n",
    "    \n",
    "    print(f\"Trying random permutations for {round(max_time, 2)} seconds.\")\n",
    "    \n",
    "    # start timer\n",
    "    start = timer()\n",
    "    \n",
    "    # compute kernel\n",
    "    Psi = X.T.dot(X)\n",
    "    \n",
    "    # initialize values for search\n",
    "    n, checks = np.shape(Psi)[0], 0\n",
    "    W_best, MSE_best, p_best = np.identity(n), np.inf, np.array(range(n))\n",
    "    \n",
    "    # iterate over all permutations\n",
    "    while checks <= max_checks and timer() - start <= max_time:\n",
    "        \n",
    "        # get OLS optimal under permutation\n",
    "        W = PK_OLS(Psi, np.random.permutation(p_best))\n",
    "        \n",
    "        # get its loss\n",
    "        MSE_W = loss(W)\n",
    "        \n",
    "        # remember best one\n",
    "        if MSE_W < MSE_best:\n",
    "            \n",
    "            # if better, change to bes tone\n",
    "            MSE_best = MSE_W\n",
    "            W_best = W\n",
    "        \n",
    "        # increase number of checks\n",
    "        checks += 1\n",
    "    \n",
    "    # return number of permutations tried\n",
    "    print(f\"Number of permutations tried: {checks}.\")\n",
    "    \n",
    "    # return best W found\n",
    "    return W_best"
   ]
  },
  {
   "cell_type": "markdown",
   "id": "6527d128",
   "metadata": {},
   "source": [
    "#### Generate SEM data"
   ]
  },
  {
   "cell_type": "code",
   "execution_count": 204,
   "id": "7c770b55",
   "metadata": {},
   "outputs": [
    {
     "name": "stdout",
     "output_type": "stream",
     "text": [
      "[[ 0.    0.   -0.58  0.    0.   -0.74  0.    0.    0.    0.  ]\n",
      " [ 0.    0.    0.    0.    0.    0.    0.    0.    0.    0.  ]\n",
      " [ 0.    1.07  0.    0.    0.    0.    0.    0.    0.    0.  ]\n",
      " [ 0.    0.    0.    0.    0.    0.    0.    0.    0.    0.  ]\n",
      " [ 0.   -0.77  0.    1.48  0.    0.    0.    0.    0.   -0.76]\n",
      " [ 0.    0.    1.45  0.    0.    0.    0.    0.    0.    0.  ]\n",
      " [ 1.19  0.    0.    0.    0.    0.    0.    0.    0.    0.  ]\n",
      " [ 0.    0.    0.    0.    0.    0.    0.    0.    0.    0.65]\n",
      " [-1.93  0.    1.63  0.    0.    0.    0.    0.    0.   -1.8 ]\n",
      " [ 0.    0.    1.84 -0.51  0.    1.98  0.    0.    0.    0.  ]]\n"
     ]
    }
   ],
   "source": [
    "utils.set_random_seed(7)\n",
    "\n",
    "T, n, s0, graph_type, sem_type = 500, 10, 15, 'ER', 'gauss'\n",
    "W_true = utils.simulate_parameter(utils.simulate_dag(n, s0, graph_type))\n",
    "X = utils.simulate_linear_sem(W_true, T, sem_type)\n",
    "\n",
    "print(np.round(W_true, 2))"
   ]
  },
  {
   "cell_type": "markdown",
   "id": "4600ffdf",
   "metadata": {},
   "source": [
    "#### Run NOTEARS, check for how long"
   ]
  },
  {
   "cell_type": "code",
   "execution_count": 198,
   "id": "673a6cd9",
   "metadata": {},
   "outputs": [
    {
     "name": "stdout",
     "output_type": "stream",
     "text": [
      "Found solution in 20.28 seconds.\n"
     ]
    }
   ],
   "source": [
    "start = timer()\n",
    "W_N, h_val = linear.notears_linear(X, lambda1 = 0.0, loss_type = \"l2\", w_threshold = 1e-3, verbose = False)\n",
    "max_time = timer() - start\n",
    "\n",
    "print(f\"Found solution in {round(max_time, 2)} seconds.\")"
   ]
  },
  {
   "cell_type": "markdown",
   "id": "03d24560",
   "metadata": {},
   "source": [
    "#### Do Exhaustive Search for so long"
   ]
  },
  {
   "cell_type": "code",
   "execution_count": 202,
   "id": "c0b5ee5b",
   "metadata": {},
   "outputs": [
    {
     "name": "stdout",
     "output_type": "stream",
     "text": [
      "Trying random permutations for 20.28 seconds.\n",
      "Number of permutations tried: 10272.\n",
      "9.747\n",
      "9.749\n"
     ]
    }
   ],
   "source": [
    "W_R = random_search_K(X, 1e6, max_time)\n",
    "# W_E = exhaustive_search_K(X)\n",
    "# print(round(loss(W_E), 3))\n",
    "print(round(loss(W_R), 3))\n",
    "print(round(loss(W_N), 3))"
   ]
  },
  {
   "cell_type": "markdown",
   "id": "8668f3bb",
   "metadata": {},
   "source": [
    "#### Both equal NOTEARS thresholding, results"
   ]
  },
  {
   "cell_type": "code",
   "execution_count": 203,
   "id": "69345164",
   "metadata": {},
   "outputs": [
    {
     "name": "stdout",
     "output_type": "stream",
     "text": [
      "True Positive Rate: 1.0.\n",
      "True Negative Rate: 1.0.\n",
      "False Prediction Rate: 0.0\n",
      "Accuracy: 1.0.\n",
      "R-Squared: 0.947\n",
      "Mean Squared Error: 10.051\n",
      "\n",
      "True Positive Rate: 1.0.\n",
      "True Negative Rate: 1.0.\n",
      "False Prediction Rate: 0.0\n",
      "Accuracy: 1.0.\n",
      "R-Squared: 0.947\n",
      "Mean Squared Error: 10.083\n"
     ]
    }
   ],
   "source": [
    "W_RT = W_R.copy()\n",
    "W_RT[np.abs(W_RT) <= 0.30] = 0\n",
    "h.score(X, W_RT, W_true, is_sem = True);\n",
    "print()\n",
    "\n",
    "# W_ET = W_E.copy()\n",
    "# W_ET[np.abs(W_ET) <= 0.30] = 0\n",
    "# h.score(X, W_ET, W_true, is_sem = True);\n",
    "# print()\n",
    "\n",
    "W_NT = W_N.copy()\n",
    "W_NT[np.abs(W_NT) <= 0.30] = 0\n",
    "h.score(X, W_NT, W_true, is_sem = True);"
   ]
  }
 ],
 "metadata": {
  "kernelspec": {
   "display_name": "Python 3.6.8 64-bit",
   "language": "python",
   "name": "python36864bit874e3a48d9b148faaa09714964fd179b"
  },
  "language_info": {
   "codemirror_mode": {
    "name": "ipython",
    "version": 3
   },
   "file_extension": ".py",
   "mimetype": "text/x-python",
   "name": "python",
   "nbconvert_exporter": "python",
   "pygments_lexer": "ipython3",
   "version": "3.6.8"
  }
 },
 "nbformat": 4,
 "nbformat_minor": 5
}
