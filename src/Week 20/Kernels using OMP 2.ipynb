{
 "cells": [
  {
   "cell_type": "code",
   "execution_count": 249,
   "id": "1470700a",
   "metadata": {},
   "outputs": [],
   "source": [
    "import numpy as np\n",
    "import matplotlib.pyplot as plt\n",
    "\n",
    "# generate SEM\n",
    "import sys\n",
    "sys.path.append(\"..\")\n",
    "\n",
    "from notears.notears.notears import linear\n",
    "from notears.notears.notears import utils\n",
    "import helper.helper as h\n",
    "import helper.methods as m\n",
    "\n",
    "from importlib import reload  # Python 3.4+"
   ]
  },
  {
   "cell_type": "code",
   "execution_count": 305,
   "id": "a89b3e22",
   "metadata": {},
   "outputs": [],
   "source": [
    "def KOMP_Psi_K(Psi, K, max_coefs = 1e10, tol = 0.0, verbose = False, output = False, normalize = True, gamma = 1e-3):\n",
    "    \"\"\"Do Kernel OMP on X, Y.\"\"\"\n",
    "    \n",
    "    # get dimensions\n",
    "    n = np.shape(Psi)[0]\n",
    "\n",
    "    # initialize Lambda, idx, betas\n",
    "    Lambda, idx, betas = [[] for _ in range(n)], [], np.zeros((n, n))\n",
    "\n",
    "    # compute norms if we want to normalize\n",
    "    norms = [1] * n # initialize as harmless 1 array\n",
    "    if normalize: norms = [np.linalg.norm(x) for x in X.T]\n",
    "    \n",
    "    # for each possible coefficient\n",
    "    for i in range(n ** 2):    \n",
    "    \n",
    "        # compute gains\n",
    "        gains = np.abs([(k - betas.T @ Psi[i, :]) / norms[i] for i, k in enumerate(K)])\n",
    "        \n",
    "        # stopping criterion\n",
    "        if np.round(gains, 5).max() <= tol: \n",
    "            print(\"Break\")\n",
    "            break\n",
    "    \n",
    "        # append best atom to Lambda\n",
    "        # if tie, pick the one that minimizes residual\n",
    "        row, col = np.argmax(gains) // n, np.argmax(gains) % n\n",
    "        Lambda[col].append(row)\n",
    "    \n",
    "        # check if we have a DAG, not super efficient\n",
    "        if True: # h.is_dag(Lambda_to_adj(Lambda)): \n",
    "            # update only column col, use indices of \n",
    "            idx = Lambda[col]\n",
    "            Psi_F = Psi[np.array(idx)[:, None], np.array(idx)[None, :]]\n",
    "        \n",
    "            # update betas\n",
    "            betas[np.array(idx)[:, None], col] = np.linalg.inv(Psi_F) @ K[np.array(idx)[:, None], col]\n",
    "    \n",
    "        else:\n",
    "            # append forbidden entry to forbidden list\n",
    "            F.append(int(np.argmax(gains)))\n",
    "            # remove coefficient from Lambda\n",
    "            Lambda[col].remove(row)\n",
    "    \n",
    "        # print info if verbose\n",
    "        if verbose:\n",
    "            print(f\"Iteration {i + 1}.\\n\")\n",
    "            print(f\"Gains:\\n{np.round(gains, 3)}.\\n\")\n",
    "            print(f\"Beta_{i + 1}:\\n{np.round(betas, 3)}.\\n\")\n",
    "            print(f\"Residual Squared: {np.round([Theta[i] - Psi[:, i] @ betas[:, i] for i in range(n)], 32)}.\\n\\n\")\n",
    "\n",
    "    return betas "
   ]
  },
  {
   "cell_type": "markdown",
   "id": "cf5d0161",
   "metadata": {},
   "source": [
    "Instead of a linear system like $$Y = XW,$$ we can also have non-linear relations such as $$\\Phi(Y) = \\Phi(X) W.$$ This $\\Phi$ can be any function that maps features to another feature space. Then, we can do OMP without explicitly computing all the values for $\\Phi(Y)$ and $\\Phi(X)$. An example is a quadtratic Kernel, such as $$K(x, y) = (x^Ty)^2.$$ \n",
    "\n",
    "If our data has been generated according to this feature space, then.\n",
    "\n",
    "We can also create our \"own\" Kernels, such as $$K(x, y) = (x, x^2)^T(y, y^2).$$ Then, we can again do some cool stuff."
   ]
  },
  {
   "cell_type": "code",
   "execution_count": 385,
   "id": "af6ba24d",
   "metadata": {},
   "outputs": [],
   "source": [
    "def K_2(x, y):\n",
    "    return np.dot(np.append(x, x ** 2).T, np.append(y, y ** 2))"
   ]
  },
  {
   "cell_type": "code",
   "execution_count": 404,
   "id": "78dd6ef6",
   "metadata": {},
   "outputs": [
    {
     "name": "stdout",
     "output_type": "stream",
     "text": [
      "[[0.69257188 0.4416632 ]\n",
      " [0.02387132 0.10168675]]\n",
      "[[ 15618.  85068.]\n",
      " [ 85068. 549518.]]\n",
      "[[12847.27325902 15548.18427714]\n",
      " [72033.4259409  93450.10439858]]\n",
      "[[ 8794.10670349  7259.74351551]\n",
      " [48154.61557177 41212.69138729]]\n"
     ]
    },
    {
     "data": {
      "text/plain": [
       "array([[0.69257188, 0.4416632 ],\n",
       "       [0.02387132, 0.10168675]])"
      ]
     },
     "execution_count": 404,
     "metadata": {},
     "output_type": "execute_result"
    }
   ],
   "source": [
    "def get_Psi(X, K):\n",
    "    n = np.shape(X)[0]\n",
    "    \n",
    "    Psi = np.zeros((n, n))\n",
    "    \n",
    "    for i, x_1 in enumerate(X):\n",
    "        for j, x_2 in enumerate(X):\n",
    "            Psi[i][j] = K(x_1, x_2)\n",
    "    \n",
    "    return Psi\n",
    "\n",
    "def get_K(X, Y_phi, _K):\n",
    "    \n",
    "    n = np.shape(X)[0]\n",
    "    K = np.zeros((n, n))\n",
    "    \n",
    "    for i, x in enumerate(X):\n",
    "        for j, y_phi in enumerate(Y_phi):\n",
    "            K[i][j] = np.dot(np.append(x, x ** 2).T, y_phi)\n",
    "    \n",
    "    return K\n",
    "\n",
    "def get_K2(X, Y, _K):\n",
    "    \n",
    "    n = np.shape(X)[0]\n",
    "    K = np.zeros((n, n))\n",
    "    \n",
    "    for i, x in enumerate(X):\n",
    "        for j, y in enumerate(Y):\n",
    "            K[i][j] = _K(x, y)\n",
    "    \n",
    "    return K\n",
    "\n",
    "n, T = 2, 10\n",
    "W = np.random.rand(n, n)\n",
    "W_inv = np.linalg.inv(W)\n",
    "# W = np.identity(n)\n",
    "print(W)\n",
    "X = np.array(range(n * T)).reshape(n, T)\n",
    "\n",
    "Y_phi = (np.hstack((X, X ** 2)).T @ W).T\n",
    "Y = (Y_phi.T).T\n",
    "\n",
    "Psi = get_Psi(X, K_2)\n",
    "print(Psi) \n",
    "\n",
    "K = get_K(X, Y_phi, K_2)\n",
    "print(K)\n",
    "\n",
    "K2 = get_K2(X, Y[:, :T], K_2)\n",
    "print(K2)\n",
    "\n",
    "KOMP_Psi_K(Psi, K)"
   ]
  },
  {
   "cell_type": "code",
   "execution_count": 373,
   "id": "6ed41c47",
   "metadata": {},
   "outputs": [
    {
     "name": "stdout",
     "output_type": "stream",
     "text": [
      "[[0.51687181 0.47057185]\n",
      " [0.66711535 0.36959894]]\n"
     ]
    },
    {
     "data": {
      "text/plain": [
       "[<matplotlib.lines.Line2D at 0x2afdb53ff60>]"
      ]
     },
     "execution_count": 373,
     "metadata": {},
     "output_type": "execute_result"
    },
    {
     "data": {
      "image/png": "[encoded data removed]",
      "text/plain": [
       "<Figure size 432x288 with 1 Axes>"
      ]
     },
     "metadata": {
      "needs_background": "light"
     },
     "output_type": "display_data"
    }
   ],
   "source": [
    "print(W)\n",
    "plt.plot(X.T[:, 1])\n",
    "plt.plot(Y_phi.T[:T, 1])"
   ]
  },
  {
   "cell_type": "code",
   "execution_count": 253,
   "id": "971eab57",
   "metadata": {},
   "outputs": [],
   "source": [
    "def K_3(x, y):\n",
    "    return np.dot(np.append(x, x ** 3).T, np.append(y, y ** 3))"
   ]
  },
  {
   "cell_type": "code",
   "execution_count": 304,
   "id": "240effd9",
   "metadata": {},
   "outputs": [
    {
     "name": "stdout",
     "output_type": "stream",
     "text": [
      "[[0.67593226 0.67970876]\n",
      " [0.47343744 0.12393032]]\n"
     ]
    },
    {
     "data": {
      "text/plain": [
       "array([[0.67593226, 0.67970876],\n",
       "       [0.47343744, 0.12393032]])"
      ]
     },
     "execution_count": 304,
     "metadata": {},
     "output_type": "execute_result"
    }
   ],
   "source": [
    "def get_Psi(X, K):\n",
    "    n = np.shape(X)[0]\n",
    "    \n",
    "    Psi = np.zeros((n, n))\n",
    "    \n",
    "    for i, x_1 in enumerate(X):\n",
    "        for j, x_2 in enumerate(X):\n",
    "            Psi[i][j] = K(x_1, x_2)\n",
    "    \n",
    "    return Psi\n",
    "\n",
    "def get_K(X, Y_phi, _K):\n",
    "    \n",
    "    n = np.shape(X)[0]\n",
    "    K = np.zeros((n, n))\n",
    "    \n",
    "    for i, x in enumerate(X):\n",
    "        for j, y_phi in enumerate(Y_phi):\n",
    "            K[i][j] = np.dot(np.append(x, x ** 3), y_phi)\n",
    "    \n",
    "    return K\n",
    "\n",
    "n, T = 2, 10\n",
    "W = np.random.rand(n, n)\n",
    "X = np.random.rand(n, T)\n",
    "\n",
    "print(W)\n",
    "\n",
    "Y_phi = (np.hstack((X, X ** 3)).T @ W).T\n",
    "Y = Y_phi\n",
    "\n",
    "Psi = get_Psi(X, K_3)\n",
    "K = get_K(X, Y_phi, K_3)\n",
    "\n",
    "KOMP_Psi_K(Psi, K)"
   ]
  },
  {
   "cell_type": "code",
   "execution_count": 140,
   "id": "e2437053",
   "metadata": {},
   "outputs": [
    {
     "name": "stdout",
     "output_type": "stream",
     "text": [
      "[1 2 3]\n"
     ]
    }
   ],
   "source": [
    "print(np.append(np.array(1), (np.array(2), np.array(3))))"
   ]
  },
  {
   "cell_type": "code",
   "execution_count": 257,
   "id": "9eebf9ce",
   "metadata": {},
   "outputs": [],
   "source": [
    "def K_32(x, y):\n",
    "    print(np.dot(np.append(x ** 3, (3 * x ** 2, 3 * x, 1)).T, np.append(y ** 3, (3 * y ** 2, 3 * y, 1))))\n",
    "    return np.dot(np.append(x ** 3, (3 * x ** 2, 3 * x, 1)).T, np.append(y ** 3, (3 * y ** 2, 3 * y, 1)))"
   ]
  },
  {
   "cell_type": "code",
   "execution_count": 256,
   "id": "f84394d5",
   "metadata": {},
   "outputs": [
    {
     "name": "stdout",
     "output_type": "stream",
     "text": [
      "[[0.93626953 0.72047331]\n",
      " [0.8981431  0.02885889]]\n",
      "(23,)\n",
      "(2, 10)\n",
      "[ 5.94897405  1.74593731  1.68291206 11.46838233  2.54726799  2.60838712\n",
      "  3.91072752  1.80388293  8.48174929 10.36369731]\n"
     ]
    },
    {
     "ename": "ValueError",
     "evalue": "setting an array element with a sequence.",
     "output_type": "error",
     "traceback": [
      "\u001b[1;31m---------------------------------------------------------------------------\u001b[0m",
      "\u001b[1;31mTypeError\u001b[0m                                 Traceback (most recent call last)",
      "\u001b[1;31mTypeError\u001b[0m: only size-1 arrays can be converted to Python scalars",
      "\nThe above exception was the direct cause of the following exception:\n",
      "\u001b[1;31mValueError\u001b[0m                                Traceback (most recent call last)",
      "\u001b[1;32m<ipython-input-256-1f3bf49d123f>\u001b[0m in \u001b[0;36m<module>\u001b[1;34m\u001b[0m\n\u001b[0;32m     36\u001b[0m \u001b[0mprint\u001b[0m\u001b[1;33m(\u001b[0m\u001b[0mnp\u001b[0m\u001b[1;33m.\u001b[0m\u001b[0mshape\u001b[0m\u001b[1;33m(\u001b[0m\u001b[0mX\u001b[0m\u001b[1;33m)\u001b[0m\u001b[1;33m)\u001b[0m\u001b[1;33m\u001b[0m\u001b[1;33m\u001b[0m\u001b[0m\n\u001b[0;32m     37\u001b[0m \u001b[1;33m\u001b[0m\u001b[0m\n\u001b[1;32m---> 38\u001b[1;33m \u001b[0mPsi\u001b[0m \u001b[1;33m=\u001b[0m \u001b[0mget_Psi\u001b[0m\u001b[1;33m(\u001b[0m\u001b[0mX\u001b[0m\u001b[1;33m,\u001b[0m \u001b[0mK_32\u001b[0m\u001b[1;33m)\u001b[0m\u001b[1;33m\u001b[0m\u001b[1;33m\u001b[0m\u001b[0m\n\u001b[0m\u001b[0;32m     39\u001b[0m \u001b[0mK\u001b[0m \u001b[1;33m=\u001b[0m \u001b[0mget_K\u001b[0m\u001b[1;33m(\u001b[0m\u001b[0mX\u001b[0m\u001b[1;33m,\u001b[0m \u001b[0mY_phi\u001b[0m\u001b[1;33m,\u001b[0m \u001b[0mK_32\u001b[0m\u001b[1;33m)\u001b[0m\u001b[1;33m\u001b[0m\u001b[1;33m\u001b[0m\u001b[0m\n\u001b[0;32m     40\u001b[0m \u001b[1;33m\u001b[0m\u001b[0m\n",
      "\u001b[1;32m<ipython-input-256-1f3bf49d123f>\u001b[0m in \u001b[0;36mget_Psi\u001b[1;34m(X, K)\u001b[0m\n\u001b[0;32m      6\u001b[0m     \u001b[1;32mfor\u001b[0m \u001b[0mi\u001b[0m\u001b[1;33m,\u001b[0m \u001b[0mx_1\u001b[0m \u001b[1;32min\u001b[0m \u001b[0menumerate\u001b[0m\u001b[1;33m(\u001b[0m\u001b[0mX\u001b[0m\u001b[1;33m)\u001b[0m\u001b[1;33m:\u001b[0m\u001b[1;33m\u001b[0m\u001b[1;33m\u001b[0m\u001b[0m\n\u001b[0;32m      7\u001b[0m         \u001b[1;32mfor\u001b[0m \u001b[0mj\u001b[0m\u001b[1;33m,\u001b[0m \u001b[0mx_2\u001b[0m \u001b[1;32min\u001b[0m \u001b[0menumerate\u001b[0m\u001b[1;33m(\u001b[0m\u001b[0mX\u001b[0m\u001b[1;33m)\u001b[0m\u001b[1;33m:\u001b[0m\u001b[1;33m\u001b[0m\u001b[1;33m\u001b[0m\u001b[0m\n\u001b[1;32m----> 8\u001b[1;33m             \u001b[0mPsi\u001b[0m\u001b[1;33m[\u001b[0m\u001b[0mi\u001b[0m\u001b[1;33m]\u001b[0m\u001b[1;33m[\u001b[0m\u001b[0mj\u001b[0m\u001b[1;33m]\u001b[0m \u001b[1;33m=\u001b[0m \u001b[0mK\u001b[0m\u001b[1;33m(\u001b[0m\u001b[0mx_1\u001b[0m\u001b[1;33m,\u001b[0m \u001b[0mx_2\u001b[0m\u001b[1;33m)\u001b[0m\u001b[1;33m\u001b[0m\u001b[1;33m\u001b[0m\u001b[0m\n\u001b[0m\u001b[0;32m      9\u001b[0m \u001b[1;33m\u001b[0m\u001b[0m\n\u001b[0;32m     10\u001b[0m     \u001b[1;32mreturn\u001b[0m \u001b[0mPsi\u001b[0m\u001b[1;33m\u001b[0m\u001b[1;33m\u001b[0m\u001b[0m\n",
      "\u001b[1;31mValueError\u001b[0m: setting an array element with a sequence."
     ]
    }
   ],
   "source": [
    "def get_Psi(X, K):\n",
    "    n = np.shape(X)[0]\n",
    "    \n",
    "    Psi = np.zeros((n, n))\n",
    "    \n",
    "    for i, x_1 in enumerate(X):\n",
    "        for j, x_2 in enumerate(X):\n",
    "            Psi[i][j] = K(x_1, x_2)\n",
    "    \n",
    "    return Psi\n",
    "\n",
    "def get_K(X, Y_phi, _K):\n",
    "    \n",
    "    n = np.shape(X)[0]\n",
    "    K = np.zeros((n, n))\n",
    "    \n",
    "    for i, x in enumerate(X):\n",
    "        for j, y_phi in enumerate(Y_phi):\n",
    "            K[i][j] = np.dot(np.append(x ** 3, (3 * x ** 2, 3 * x)), y_phi)\n",
    "    \n",
    "    return K\n",
    "\n",
    "n, T = 2, 10\n",
    "W = np.random.rand(n, n)\n",
    "X = np.random.rand(n, T)\n",
    "\n",
    "print(W)\n",
    "\n",
    "Y_phi = np.append(X ** 3, (3 * X ** 2, 3 * X, 1))\n",
    "\n",
    "\n",
    "# Y_phi = (np.hstack((X ** 3, 3 * X ** 2, 3 * X, 1)).T @ W).T\n",
    "Y = Y_phi\n",
    "\n",
    "print(np.shape(Y_phi))\n",
    "print(np.shape(X))\n",
    "\n",
    "Psi = get_Psi(X, K_32)\n",
    "K = get_K(X, Y_phi, K_32)\n",
    "\n",
    "KOMP_Psi_K(Psi, K)"
   ]
  },
  {
   "cell_type": "code",
   "execution_count": 258,
   "id": "15aee2b3",
   "metadata": {},
   "outputs": [],
   "source": [
    "def K_32(x, y):\n",
    "    return np.dot(np.append(x ** 3, np.append(3 * x ** 2, np.append(3 * x, 1))).T, np.append(y ** 3, np.append(3 * y ** 2, np.append(3 * y, 1))))"
   ]
  },
  {
   "cell_type": "code",
   "execution_count": 295,
   "id": "4e68171d",
   "metadata": {},
   "outputs": [
    {
     "name": "stdout",
     "output_type": "stream",
     "text": [
      "[[1. 0.]\n",
      " [0. 1.]]\n",
      "[0.75131986 0.28778942 0.01644792 0.84738421 0.58149844 0.96184374\n",
      " 0.08482976 0.29440983 0.88464646 0.17333501]\n",
      "[[56.57048331 19.01140854]\n",
      " [19.01140854 53.83026846]]\n",
      "[[56.57048331 19.01140854]\n",
      " [19.01140854 53.83026846]]\n",
      "Break\n"
     ]
    },
    {
     "data": {
      "text/plain": [
       "array([[1., 0.],\n",
       "       [0., 1.]])"
      ]
     },
     "execution_count": 295,
     "metadata": {},
     "output_type": "execute_result"
    }
   ],
   "source": [
    "def get_Psi(X, K):\n",
    "    n = np.shape(X)[0]\n",
    "    \n",
    "    Psi = np.zeros((n, n))\n",
    "    \n",
    "    for i, x_1 in enumerate(X):\n",
    "        for j, x_2 in enumerate(X):\n",
    "            Psi[i][j] = K(x_1, x_2)\n",
    "    \n",
    "    return Psi\n",
    "\n",
    "def get_K(X, Y_phi, _K):\n",
    "    \n",
    "    n = np.shape(X)[0]\n",
    "    K = np.zeros((n, n))\n",
    "    \n",
    "    for i, x in enumerate(X):\n",
    "        for j, y_phi in enumerate(Y_phi):\n",
    "            K[i][j] = np.dot(np.append(x ** 3, np.append(3 * x ** 2, np.append(3 * x, 1))), y_phi)\n",
    "    \n",
    "    return K\n",
    "\n",
    "def get_K2(X, Y, _K):\n",
    "    \n",
    "    n = np.shape(X)[0]\n",
    "    K = np.zeros((n, n))\n",
    "    \n",
    "    for i, x in enumerate(X):\n",
    "        for j, y in enumerate(Y):\n",
    "            K[i][j] = _K(x, y)\n",
    "    \n",
    "    return K\n",
    "\n",
    "n, T = 2, 10\n",
    "# W = np.random.rand(n, n)\n",
    "W = np.identity(n)\n",
    "X = np.random.rand(n, T)\n",
    "\n",
    "print(W)\n",
    "Y_phi = np.zeros((2, 31))\n",
    "Y_phi[0] = np.append(X[0] ** 3, np.append(3 * X[0] ** 2, np.append(3 * X[0], 1)))\n",
    "Y_phi[1] = np.append(X[1] ** 3, np.append(3 * X[1] ** 2, np.append(3 * X[1], 1)))\n",
    "Y_phi = (Y_phi.T @ W).T\n",
    "# Y = np.cbrt(X + 1)\n",
    "\n",
    "print(X[0, :T])\n",
    "Y = np.cbrt(Y_phi[:, :T])\n",
    "\n",
    "Psi = get_Psi(X, K_32)\n",
    "\n",
    "K = get_K(X, Y_phi, K_32)\n",
    "print(K)\n",
    "\n",
    "K2 = get_K2(X, Y, K_32)\n",
    "print(K2)\n",
    "\n",
    "KOMP_Psi_K(Psi, K)"
   ]
  },
  {
   "cell_type": "code",
   "execution_count": 303,
   "id": "c96fcf31",
   "metadata": {},
   "outputs": [
    {
     "data": {
      "text/plain": [
       "[<matplotlib.lines.Line2D at 0x2afd87f2400>,\n",
       " <matplotlib.lines.Line2D at 0x2afd883e5f8>]"
      ]
     },
     "execution_count": 303,
     "metadata": {},
     "output_type": "execute_result"
    },
    {
     "data": {
      "image/png": "[encoded data removed]",
      "text/plain": [
       "<Figure size 432x288 with 1 Axes>"
      ]
     },
     "metadata": {
      "needs_background": "light"
     },
     "output_type": "display_data"
    }
   ],
   "source": [
    "plt.plot(Y.T)\n",
    "plt.plot(X.T)"
   ]
  },
  {
   "cell_type": "markdown",
   "id": "2d55089e",
   "metadata": {},
   "source": [
    "#### Relationship between $X$ and $Y$\n",
    "$$\\Phi(Y) = \\Phi(X) W$$\n",
    "\n",
    "$$(Y^3, 3Y^2, 3Y, 1) = (X^3, 3 X^2, 3X, 1) W$$\n",
    "\n",
    "$$(Y^3, 3Y^2, 3$$"
   ]
  },
  {
   "cell_type": "code",
   "execution_count": 265,
   "id": "22e51d99",
   "metadata": {},
   "outputs": [
    {
     "data": {
      "text/plain": [
       "[<matplotlib.lines.Line2D at 0x2afd6f51828>,\n",
       " <matplotlib.lines.Line2D at 0x2afd6f9a5f8>]"
      ]
     },
     "execution_count": 265,
     "metadata": {},
     "output_type": "execute_result"
    },
    {
     "data": {
      "image/png": "[encoded data removed]",
      "text/plain": [
       "<Figure size 432x288 with 1 Axes>"
      ]
     },
     "metadata": {
      "needs_background": "light"
     },
     "output_type": "display_data"
    }
   ],
   "source": [
    "plt.plot(X.T)"
   ]
  }
 ],
 "metadata": {
  "kernelspec": {
   "display_name": "Python 3.6.8 64-bit",
   "language": "python",
   "name": "python36864bit874e3a48d9b148faaa09714964fd179b"
  },
  "language_info": {
   "codemirror_mode": {
    "name": "ipython",
    "version": 3
   },
   "file_extension": ".py",
   "mimetype": "text/x-python",
   "name": "python",
   "nbconvert_exporter": "python",
   "pygments_lexer": "ipython3",
   "version": "3.6.8"
  }
 },
 "nbformat": 4,
 "nbformat_minor": 5
}
