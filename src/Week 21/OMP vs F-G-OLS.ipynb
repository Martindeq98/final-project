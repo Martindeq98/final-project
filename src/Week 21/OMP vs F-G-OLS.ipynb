{
 "cells": [
  {
   "cell_type": "markdown",
   "id": "17aeeeb7",
   "metadata": {},
   "source": [
    "### OMP vs F-G-OLS\n",
    "We have discussed that there are two methods, Orthogonal Matching Pursuit and Forward-Greedy-Ordinary Least Squares. \n",
    "\n",
    "Let us first assume the one-dimensional example. Assume that we have data $\\mathbf{X} \\in \\mathbb{R}^{T \\times p}$, and we have a signal defined as $$Y = X w,$$ where $Y \\in \\mathbb{R}^T$, and $w \\in \\mathbb{R}^p$.\n",
    "\n",
    "Assume we already have a set of $k$ atoms, $\\Gamma^k$. Then, the current residual is $$r_k = X_{\\Gamma^k} w_{\\Gamma^k} - Y.$$ Both methods iteratively add the next \"best\" possible atom. They only differ in their definition of \"best\". \n",
    "- For OMP, we pick the atom that is most correlated with the residual. In mathematical notation:\n",
    "\n",
    "$$i_{k+1} = \\underset{i}{\\arg \\max} |\\tilde{x_i} X_{\\Gamma^k \\cup i} r_k|$$\n",
    "\n",
    "- For F-G-OLS, we pick the atom that minimizes the residual error. In mathematical notation:\n",
    "\n",
    "$$i = \\underset{i}{\\arg \\min} ||Y - X_{\\Gamma^k \\cup i} X_{\\Gamma^k \\cup i}^\\dagger Y||_2$$\n",
    "\n",
    "Both methods have the exact same goal, find a subset $\\Gamma^k$ and an accompanying coefficient vector $\\tilde{w}$ such that $X_{\\Gamma^k}w$ approximates $Y$ well, thereby minimizing the residual error. However, their criteria slightly differ.\n",
    "\n",
    "The question is: when do the methods yield a different choice?\n",
    "\n",
    "From [this paper](https://eprints.soton.ac.uk/142469/1/BDOMPvsOLS07.pdf) we see that they are not the same, and give a geographical interpretation. For this, we consider a three-dimensional example."
   ]
  },
  {
   "cell_type": "code",
   "execution_count": 1,
   "id": "9b206f82",
   "metadata": {},
   "outputs": [],
   "source": [
    "import numpy as np\n",
    "from sklearn.linear_model import OrthogonalMatchingPursuit\n",
    "\n",
    "import sys\n",
    "sys.path.append(\"..\")\n",
    "import helper.helper as h"
   ]
  },
  {
   "cell_type": "markdown",
   "id": "9c12e80b",
   "metadata": {},
   "source": [
    "### Generate Data"
   ]
  },
  {
   "cell_type": "code",
   "execution_count": 2,
   "id": "ba1081ad",
   "metadata": {},
   "outputs": [],
   "source": [
    "## Number of samples, number of variables\n",
    "T, p = 20, 10\n",
    "\n",
    "## Generate random X\n",
    "X = np.random.rand(T, p)\n",
    "\n",
    "# for i in range(p):\n",
    "#     X[:, i] = normalize(X[:, i])\n",
    "\n",
    "## Generate true coefficient vector w\n",
    "w = range(p) + np.ones(p)\n",
    "\n",
    "## Compute Y\n",
    "Y = X @ w"
   ]
  },
  {
   "cell_type": "markdown",
   "id": "3e9811a5",
   "metadata": {},
   "source": [
    "### OMP Implementation of $\\texttt{sklearn}$."
   ]
  },
  {
   "cell_type": "code",
   "execution_count": 3,
   "id": "133449af",
   "metadata": {},
   "outputs": [
    {
     "name": "stdout",
     "output_type": "stream",
     "text": [
      "[ 0.    0.    0.    0.    0.    0.   39.18  0.    0.    0.  ]\n"
     ]
    }
   ],
   "source": [
    "omp = OrthogonalMatchingPursuit(n_nonzero_coefs = 1, normalize = True, fit_intercept = False)\n",
    "omp_fit = omp.fit(X, Y)\n",
    "print(np.round(omp_fit.coef_, 2))"
   ]
  },
  {
   "cell_type": "markdown",
   "id": "9ead9259",
   "metadata": {},
   "source": [
    "### One step of Orthogonal Matching Pursuit"
   ]
  },
  {
   "cell_type": "code",
   "execution_count": 248,
   "id": "3994bd7b",
   "metadata": {},
   "outputs": [],
   "source": [
    "def normalize(x): return x / np.linalg.norm(x)\n",
    "\n",
    "def OMP_GAINS(X, Y, w):\n",
    "    r = Y - X @ w\n",
    "    return [np.abs(np.dot(normalize(x), r)) for x in X.T]\n",
    "\n",
    "def OLS(X, Y, F):\n",
    "    F_copy = F.copy()\n",
    "    F_copy.sort()\n",
    "    w = np.zeros(p)\n",
    "    w[F_copy] = np.linalg.pinv(X[:, F_copy]) @ Y\n",
    "    \n",
    "    return w"
   ]
  },
  {
   "cell_type": "code",
   "execution_count": 8,
   "id": "592cba26",
   "metadata": {},
   "outputs": [
    {
     "name": "stdout",
     "output_type": "stream",
     "text": [
      "[75.341 53.648 66.073 56.306 66.656 60.263 46.676 71.192 56.102 65.231]\n",
      "[ 96.333 109.901 102.911 108.563 102.535 106.418 113.038  99.439 108.669\n",
      " 103.447]\n"
     ]
    }
   ],
   "source": [
    "OLS_gains = OLS_GAINS(X, Y, [])[3]\n",
    "OMP_gains = OMP_GAINS(X, Y, np.zeros(p))\n",
    "\n",
    "print(np.round(OLS_gains, 3))\n",
    "print(np.round(OMP_gains, 3))\n",
    "\n",
    "for i in range(p):\n",
    "    if np.argmax(OLS_gains) != np.argmin(OMP_gains):\n",
    "        print(\"Order is not equivalent\")\n",
    "        \n",
    "    OLS_gains = np.delete(OLS_gains, np.argmax(OLS_gains))\n",
    "    OMP_gains = np.delete(OMP_gains, np.argmin(OMP_gains))"
   ]
  },
  {
   "cell_type": "code",
   "execution_count": 9,
   "id": "031ca71c",
   "metadata": {},
   "outputs": [
    {
     "name": "stdout",
     "output_type": "stream",
     "text": [
      "OMP:\n",
      "Residual Correlations: [ 96.33 109.9  102.91 108.56 102.53 106.42 113.04  99.44 108.67 103.45].\n",
      "Index Maximizing Residual Correlation: 6.\n",
      "Resulting vector w: [ 0.    0.    0.    0.    0.    0.   39.18  0.    0.    0.  ].\n"
     ]
    }
   ],
   "source": [
    "### Initialize variables\n",
    "w, F = np.zeros(p), []\n",
    "\n",
    "### Get residual correlations\n",
    "print(f\"OMP:\\nResidual Correlations: {np.round(OMP_GAINS(X, Y, w), 2)}.\")\n",
    "\n",
    "### Find largest one\n",
    "F.append(np.argmax(OMP_GAINS(X, Y, w)))\n",
    "print(f\"Index Maximizing Residual Correlation: {np.argmax(OMP_GAINS(X, Y, w))}.\")\n",
    "\n",
    "### Create new vector w\n",
    "print(f\"Resulting vector w: {np.round(OLS(X, Y, F), 2)}.\")"
   ]
  },
  {
   "cell_type": "markdown",
   "id": "7b9244fc",
   "metadata": {},
   "source": [
    "### One step of Orthogonal Least Squares"
   ]
  },
  {
   "cell_type": "code",
   "execution_count": 10,
   "id": "8d71332c",
   "metadata": {},
   "outputs": [
    {
     "name": "stdout",
     "output_type": "stream",
     "text": [
      "\n",
      "Best Index to add: 6 with score 46.68.\n",
      "Results in vector: [ 0.    0.    0.    0.    0.    0.   39.18  0.    0.    0.  ].\n"
     ]
    }
   ],
   "source": [
    "def OLS_GAINS(X, Y, F):\n",
    "    \n",
    "    gains = []\n",
    "    \n",
    "    best_score, best_index, best_w = np.inf, None, np.zeros(p)\n",
    "    \n",
    "    for i in range(p):\n",
    "        if i not in F:\n",
    "\n",
    "            w = np.zeros(p)\n",
    "            \n",
    "            # append i to index\n",
    "            F.append(i)\n",
    "\n",
    "            # compute vector w\n",
    "            w[F] = np.linalg.pinv(X[:, F]) @  Y\n",
    "\n",
    "            # print residual\n",
    "            # print(f\"Residual for adding index {i}: {round(np.linalg.norm(Y - X @ w), 2)}.\")\n",
    "            \n",
    "            gains.append(np.linalg.norm(Y - X @ w))\n",
    "            \n",
    "            # compute residual\n",
    "            if np.linalg.norm(Y - X @ w) < best_score:\n",
    "                best_w = w.copy()\n",
    "                best_score = np.linalg.norm(Y - X @ w)\n",
    "                best_index = i\n",
    "\n",
    "            F.remove(i)\n",
    "\n",
    "    return best_index, best_w, best_score, gains\n",
    "\n",
    "best_index, best_w, best_score, OLS_gains = OLS_GAINS(X, Y, [])\n",
    "\n",
    "print(f\"\\nBest Index to add: {best_index} with score {round(best_score, 2)}.\\nResults in vector: {np.round(best_w, 2)}.\")"
   ]
  },
  {
   "cell_type": "markdown",
   "id": "80de1ea9",
   "metadata": {},
   "source": [
    "### Full F-GLS"
   ]
  },
  {
   "cell_type": "code",
   "execution_count": 328,
   "id": "a1cf4a7f",
   "metadata": {},
   "outputs": [
    {
     "name": "stdout",
     "output_type": "stream",
     "text": [
      "Mean Squared Errors: [0.84 0.58 0.48].\n",
      "Best Index to add: 2 with score 0.48.\n",
      "Results in vector: [0.   0.   1.27].\n",
      "\n",
      "Mean Squared Errors: [0.25 0.12].\n",
      "Best Index to add: 1 with score 0.12.\n",
      "Results in vector: [0.   0.66 0.8 ].\n",
      "\n",
      "Mean Squared Errors: [0.].\n",
      "Best Index to add: 0 with score 0.0.\n",
      "Results in vector: [0.2 0.5 0.8].\n"
     ]
    }
   ],
   "source": [
    "F = []\n",
    "best_index, best_w, best_score, gains = OLS_GAINS(X, Y, F)\n",
    "F.append(best_index)\n",
    "print(f\"Mean Squared Errors: {np.round(gains, 2)}.\")\n",
    "print(f\"Best Index to add: {best_index} with score {round(best_score, 2)}.\\nResults in vector: {np.round(best_w, 2)}.\")\n",
    "\n",
    "best_index, best_w, best_score, gains = OLS_GAINS(X, Y, F)\n",
    "F.append(best_index)\n",
    "print(f\"\\nMean Squared Errors: {np.round(gains, 2)}.\")\n",
    "print(f\"Best Index to add: {best_index} with score {round(best_score, 2)}.\\nResults in vector: {np.round(best_w, 2)}.\")\n",
    "\n",
    "best_index, best_w, best_score, gains = OLS_GAINS(X, Y, F)\n",
    "F.append(best_index)\n",
    "print(f\"\\nMean Squared Errors: {np.round(gains, 2)}.\")\n",
    "print(f\"Best Index to add: {best_index} with score {round(best_score, 2)}.\\nResults in vector: {np.round(best_w, 2)}.\")"
   ]
  },
  {
   "cell_type": "markdown",
   "id": "633e5205",
   "metadata": {},
   "source": [
    "### Full F-OMP"
   ]
  },
  {
   "cell_type": "code",
   "execution_count": 329,
   "id": "8a396f5a",
   "metadata": {},
   "outputs": [
    {
     "name": "stdout",
     "output_type": "stream",
     "text": [
      "OMP:\n",
      "Residual Correlations: [1.07  1.229 1.269].\n",
      "Index Maximizing Residual Correlation: 2.\n",
      "Resulting vector w: [0.   0.   1.27].\n",
      "\n",
      "Step 2:\n",
      "Residual Correlations: [0.337 0.332 0.   ].\n",
      "Index Maximizing Residual Correlation: 0.\n",
      "Resulting vector w: [0.51 0.   0.98].\n",
      "\n",
      "Step 3:\n",
      "Residual Correlations: [0.    0.125 0.   ].\n",
      "Index Maximizing Residual Correlation: 1.\n",
      "Resulting vector w: [0.2 0.5 0.8].\n"
     ]
    }
   ],
   "source": [
    "# ### Initialize variables\n",
    "# X = X_example\n",
    "# Y = Y_example\n",
    "w, F = np.zeros(p), []\n",
    "\n",
    "### Get residual correlations\n",
    "print(f\"OMP:\\nResidual Correlations: {np.round(OMP_GAINS(X, Y, w), 3)}.\")\n",
    "\n",
    "### Find largest one\n",
    "F.append(np.argmax(OMP_GAINS(X, Y, w)))\n",
    "print(f\"Index Maximizing Residual Correlation: {np.argmax(OMP_GAINS(X, Y, w))}.\")\n",
    "\n",
    "### Create new vector w\n",
    "print(f\"Resulting vector w: {np.round(OLS(X, Y, F), 2)}.\")\n",
    "\n",
    "### Get residual correlations\n",
    "print(f\"\\nStep 2:\\nResidual Correlations: {np.round(OMP_GAINS(X, Y, OLS(X, Y, F)), 3)}.\")\n",
    "\n",
    "### Find largest one\n",
    "print(f\"Index Maximizing Residual Correlation: {np.argmax(OMP_GAINS(X, Y, OLS(X, Y, F)))}.\")\n",
    "F.append(np.argmax(OMP_GAINS(X, Y, OLS(X, Y, F))))\n",
    "\n",
    "### Create new vector w\n",
    "print(f\"Resulting vector w: {np.round(OLS(X, Y, F), 2)}.\")\n",
    "\n",
    "### Get residual correlations\n",
    "print(f\"\\nStep 3:\\nResidual Correlations: {np.round(OMP_GAINS(X, Y, OLS(X, Y, F)), 3)}.\")\n",
    "\n",
    "### Find largest one\n",
    "print(f\"Index Maximizing Residual Correlation: {np.argmax(OMP_GAINS(X, Y, OLS(X, Y, F)))}.\")\n",
    "F.append(np.argmax(OMP_GAINS(X, Y, OLS(X, Y, F))))\n",
    "\n",
    "### Create new vector w\n",
    "print(f\"Resulting vector w: {np.round(OLS(X, Y, F), 2)}.\")"
   ]
  },
  {
   "cell_type": "code",
   "execution_count": 312,
   "id": "64ab52c6",
   "metadata": {},
   "outputs": [
    {
     "name": "stdout",
     "output_type": "stream",
     "text": [
      "A\n",
      "A\n",
      "A\n",
      "A\n",
      "A\n",
      "A\n",
      "A\n"
     ]
    }
   ],
   "source": [
    "T = 10\n",
    "p = 3\n",
    "w_example = np.zeros(p)\n",
    "for _ in range(100):\n",
    "    w = np.random.rand(p)\n",
    "    Y = X @ w\n",
    "    \n",
    "    if OLS_full(X, Y)[1] != OMP_full(X, Y)[1]:\n",
    "        print(\"A\")\n",
    "        w_example = w"
   ]
  },
  {
   "cell_type": "code",
   "execution_count": 313,
   "id": "27a20a1b",
   "metadata": {},
   "outputs": [
    {
     "name": "stdout",
     "output_type": "stream",
     "text": [
      "[0.18635436 0.46859588 0.83601596]\n"
     ]
    }
   ],
   "source": [
    "print(w_example)"
   ]
  },
  {
   "cell_type": "code",
   "execution_count": 30,
   "id": "97bf430a",
   "metadata": {},
   "outputs": [],
   "source": [
    "T, p = 20, 3\n",
    "\n",
    "X = np.random.rand(T, p)\n",
    "w = range(p) + np.ones(p)\n",
    "Y = X @ w"
   ]
  },
  {
   "cell_type": "code",
   "execution_count": 31,
   "id": "e21dce0f",
   "metadata": {},
   "outputs": [
    {
     "data": {
      "text/plain": [
       "(array([1., 2., 3.]), [2, 1, 0])"
      ]
     },
     "execution_count": 31,
     "metadata": {},
     "output_type": "execute_result"
    }
   ],
   "source": [
    "def OLS_full(X, Y):\n",
    "    \n",
    "    # initialize w\n",
    "    w = np.zeros(p)    \n",
    "    \n",
    "    # initialize importance order\n",
    "    F = []\n",
    "    \n",
    "    # iteratively add edge\n",
    "    for i in range(p):\n",
    "        best_index, best_w, best_score, gains = OLS_GAINS(X, Y, F)\n",
    "        \n",
    "        if best_index != None:\n",
    "            F.append(best_index)\n",
    "    \n",
    "    return best_w, F\n",
    "\n",
    "OLS_full(X, Y)"
   ]
  },
  {
   "cell_type": "code",
   "execution_count": 309,
   "id": "ffa4f3f4",
   "metadata": {},
   "outputs": [
    {
     "data": {
      "text/plain": [
       "(array([0.92471633, 0.45647737, 0.98113967]), [1, 2, 0])"
      ]
     },
     "execution_count": 309,
     "metadata": {},
     "output_type": "execute_result"
    }
   ],
   "source": [
    "def OMP_full(X, Y):\n",
    "    \n",
    "    # initialize w\n",
    "    w = np.zeros(p)    \n",
    "    \n",
    "    # initialize importance order\n",
    "    F = []\n",
    "    \n",
    "    # iteratively add edge\n",
    "    for i in range(p):\n",
    "        ### Get residual correlations\n",
    "        F.append(np.argmax(OMP_GAINS(X, Y, w)))\n",
    "        w = OLS(X, Y, F)\n",
    "        \n",
    "    return w, F\n",
    "\n",
    "OMP_full(X, Y)"
   ]
  },
  {
   "cell_type": "markdown",
   "id": "b3484178",
   "metadata": {},
   "source": [
    "### Is there sometimes a difference?"
   ]
  },
  {
   "cell_type": "code",
   "execution_count": null,
   "id": "98af2d4c",
   "metadata": {},
   "outputs": [],
   "source": [
    "for a in range(1):\n",
    "    \n",
    "    print(a * 100)\n",
    "    \n",
    "    for _ in range(1):\n",
    "        ### Generate data\n",
    "        T, p = 10, 1000\n",
    "\n",
    "        ## Generate random X\n",
    "        X = np.random.rand(T, p)\n",
    "\n",
    "        ## Generate true coefficient vector w\n",
    "        w = np.random.rand(p)\n",
    "\n",
    "        ## Compute Y\n",
    "        Y = X @ w\n",
    "\n",
    "        ### Compute next index of OMP\n",
    "        OMP_index = np.argmax(OMP_GAINS(X, Y, np.zeros(p)))\n",
    "\n",
    "        ### Compute next index of F-GLS\n",
    "        GLS_index = OLS_GAINS(X, Y, [])[0]\n",
    "\n",
    "        ### Verify equivalence\n",
    "        if OMP_index != GLS_index:\n",
    "            print(X, Y, w)\n",
    "        \n",
    "            break"
   ]
  },
  {
   "cell_type": "markdown",
   "id": "9043ff90",
   "metadata": {},
   "source": [
    "### Conjecture, OMP seems to be equal to OLS for normalized stuff, strange.\n",
    "If we generate any random data $X$, and any random coefficient vector $w$, OMP and OLS always seem to pick the exact same vectors, which is strange as the paper suggests that this is not necessarily the case. Also, OLS is order $k$ slower so OLS seems to be the \"smarter\" choice."
   ]
  },
  {
   "cell_type": "code",
   "execution_count": 133,
   "id": "245f4adf",
   "metadata": {},
   "outputs": [],
   "source": [
    "from mpl_toolkits import mplot3d\n",
    "import matplotlib.pyplot as plt"
   ]
  },
  {
   "cell_type": "code",
   "execution_count": 142,
   "id": "6cea170f",
   "metadata": {},
   "outputs": [
    {
     "data": {
      "text/plain": [
       "<mpl_toolkits.mplot3d.art3d.Line3DCollection at 0x28e35223828>"
      ]
     },
     "execution_count": 142,
     "metadata": {},
     "output_type": "execute_result"
    },
    {
     "data": {
      "image/png": "[encoded data removed]",
      "text/plain": [
       "<Figure size 432x288 with 1 Axes>"
      ]
     },
     "metadata": {
      "needs_background": "light"
     },
     "output_type": "display_data"
    }
   ],
   "source": [
    "fig = plt.figure()\n",
    "ax = plt.axes(projection = '3d')\n",
    "\n",
    "ax.set_xlim([-0.1, 1])\n",
    "ax.set_ylim([-0.1, 1])\n",
    "ax.set_zlim([-0.1, 1])\n",
    "ax.quiver(0, 0, 0, X_example[0][0], X_example[0][1], X_example[0][2])\n",
    "ax.quiver(0, 0, 0, X_example[1][0], X_example[1][1], X_example[1][2])\n",
    "ax.quiver(0, 0, 0, X_example[2][0], X_example[2][1], X_example[2][2])\n",
    "\n",
    "ax.quiver(0, 0, 0, Y_example[0] / 5, Y_example[1] / 5, Y_example[2] / 5)"
   ]
  },
  {
   "cell_type": "code",
   "execution_count": 151,
   "id": "42dfa262",
   "metadata": {},
   "outputs": [
    {
     "name": "stdout",
     "output_type": "stream",
     "text": [
      "[[0.6 0.6 0.9]\n",
      " [0.9 0.6 0.8]\n",
      " [0.3 0.4 0.3]]\n",
      "[4.5 4.5 2. ]\n",
      "[6.54790043 6.60922221 6.64803945]\n"
     ]
    }
   ],
   "source": [
    "print(X_example)\n",
    "print(Y_example)\n",
    "\n",
    "print(np.dot(X_example.T, Y_example) / np.linalg.norm(X_example.T, 2, axis = 1))"
   ]
  },
  {
   "cell_type": "code",
   "execution_count": 128,
   "id": "6c236c75",
   "metadata": {},
   "outputs": [
    {
     "name": "stdout",
     "output_type": "stream",
     "text": [
      "[11.02221385  7.79700223  4.7401089 ]\n"
     ]
    }
   ],
   "source": [
    "# angles between X_i and Y\n",
    "print(360 / (2 * 3.14) * np.arccos(np.dot(X_example.T, Y_example) / (np.linalg.norm(X_example.T, 2, axis = 1) * np.linalg.norm(Y_example, 2))))"
   ]
  },
  {
   "cell_type": "code",
   "execution_count": 315,
   "id": "97f31e9a",
   "metadata": {},
   "outputs": [
    {
     "name": "stdout",
     "output_type": "stream",
     "text": [
      "[0.18635436 0.46859588 0.83601596]\n"
     ]
    }
   ],
   "source": [
    "print(w_example)"
   ]
  },
  {
   "cell_type": "code",
   "execution_count": 322,
   "id": "feaaa118",
   "metadata": {},
   "outputs": [
    {
     "name": "stdout",
     "output_type": "stream",
     "text": [
      "[[0.57735027 0.         0.        ]\n",
      " [0.57735027 0.70710678 0.        ]\n",
      " [0.57735027 0.70710678 1.        ]]\n",
      "[0.11547005 0.46902344 1.26902344]\n",
      "(array([0.2, 0.5, 0.8]), [2, 1, 0])\n",
      "(array([0.2, 0.5, 0.8]), [2, 0, 1])\n"
     ]
    }
   ],
   "source": [
    "T = 10\n",
    "p = 3\n",
    "\n",
    "X = np.array([[1, 0, 0], [1, 1, 0], [1, 1, 1.]])\n",
    "\n",
    "for i in range(p):\n",
    "    X[:, i] = normalize(X[:, i])\n",
    "\n",
    "print(X)\n",
    "w = np.array([0.2, 0.5, 0.8])\n",
    "\n",
    "Y = X @ w\n",
    "# print(w)\n",
    "print(Y)\n",
    "\n",
    "print(OLS_full(X, Y))\n",
    "print(OMP_full(X, Y))"
   ]
  },
  {
   "cell_type": "code",
   "execution_count": 327,
   "id": "923ef999",
   "metadata": {},
   "outputs": [
    {
     "name": "stdout",
     "output_type": "stream",
     "text": [
      "OMP:\n",
      "Residual Correlations: [1.07  1.229 1.269].\n",
      "Index Maximizing Residual Correlation: 2.\n",
      "Resulting vector w: [0.         0.         1.26902344].\n",
      "\n",
      "Step 2:\n",
      "Residual Correlations: [0.337 0.332 0.   ].\n",
      "Index Maximizing Residual Correlation: 0.\n",
      "Resulting vector w: [0.51 0.   0.98].\n",
      "\n",
      "Step 3:\n",
      "Residual Correlations: [0.    0.125 0.   ].\n",
      "Index Maximizing Residual Correlation: 1.\n",
      "Resulting vector w: [0.2 0.5 0.8].\n"
     ]
    }
   ],
   "source": [
    "# ### Initialize variables\n",
    "# X = X_example\n",
    "# Y = Y_example\n",
    "w, F = np.zeros(p), []\n",
    "\n",
    "### Get residual correlations\n",
    "print(f\"OMP:\\nResidual Correlations: {np.round(OMP_GAINS(X, Y, w), 3)}.\")\n",
    "\n",
    "### Find largest one\n",
    "F.append(np.argmax(OMP_GAINS(X, Y, w)))\n",
    "print(f\"Index Maximizing Residual Correlation: {np.argmax(OMP_GAINS(X, Y, w))}.\")\n",
    "\n",
    "### Create new vector w\n",
    "print(f\"Resulting vector w: {np.round(OLS(X, Y, F), 8)}.\")\n",
    "\n",
    "### Get residual correlations\n",
    "print(f\"\\nStep 2:\\nResidual Correlations: {np.round(OMP_GAINS(X, Y, OLS(X, Y, F)), 3)}.\")\n",
    "\n",
    "### Find largest one\n",
    "print(f\"Index Maximizing Residual Correlation: {np.argmax(OMP_GAINS(X, Y, OLS(X, Y, F)))}.\")\n",
    "F.append(np.argmax(OMP_GAINS(X, Y, OLS(X, Y, F))))\n",
    "\n",
    "### Create new vector w\n",
    "print(f\"Resulting vector w: {np.round(OLS(X, Y, F), 2)}.\")\n",
    "\n",
    "### Get residual correlations\n",
    "print(f\"\\nStep 3:\\nResidual Correlations: {np.round(OMP_GAINS(X, Y, OLS(X, Y, F)), 3)}.\")\n",
    "\n",
    "### Find largest one\n",
    "print(f\"Index Maximizing Residual Correlation: {np.argmax(OMP_GAINS(X, Y, OLS(X, Y, F)))}.\")\n",
    "F.append(np.argmax(OMP_GAINS(X, Y, OLS(X, Y, F))))\n",
    "\n",
    "### Create new vector w\n",
    "print(f\"Resulting vector w: {np.round(OLS(X, Y, F), 2)}.\")"
   ]
  },
  {
   "cell_type": "code",
   "execution_count": 326,
   "id": "53a2c185",
   "metadata": {},
   "outputs": [
    {
     "name": "stdout",
     "output_type": "stream",
     "text": [
      "[[0.57735027 0.         0.        ]\n",
      " [0.57735027 0.70710678 0.        ]\n",
      " [0.57735027 0.70710678 1.        ]]\n",
      "[1.15470054e-01 4.69023444e-01 4.43119896e-09]\n",
      "0.4039847411347833\n"
     ]
    }
   ],
   "source": [
    "print(X)\n",
    "print(Y - X @ np.array([0.0, 0.0, 1.26902344]))\n",
    "\n",
    "print(np.dot(X[:, 1], Y - X @ np.array([0.0, 0.825, 0.0])))"
   ]
  },
  {
   "cell_type": "code",
   "execution_count": 273,
   "id": "33c27df5",
   "metadata": {},
   "outputs": [
    {
     "name": "stdout",
     "output_type": "stream",
     "text": [
      "0.5732484076433121\n"
     ]
    }
   ],
   "source": [
    "print(0.01 * 360 / (2 * 3.14))"
   ]
  }
 ],
 "metadata": {
  "kernelspec": {
   "display_name": "Python 3.6.8 64-bit",
   "language": "python",
   "name": "python36864bit874e3a48d9b148faaa09714964fd179b"
  },
  "language_info": {
   "codemirror_mode": {
    "name": "ipython",
    "version": 3
   },
   "file_extension": ".py",
   "mimetype": "text/x-python",
   "name": "python",
   "nbconvert_exporter": "python",
   "pygments_lexer": "ipython3",
   "version": "3.6.8"
  }
 },
 "nbformat": 4,
 "nbformat_minor": 5
}
