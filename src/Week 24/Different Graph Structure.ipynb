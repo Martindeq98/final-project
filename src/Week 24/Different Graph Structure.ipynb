{
 "cells": [
  {
   "cell_type": "markdown",
   "id": "38d69b46",
   "metadata": {},
   "source": [
    "### Different graph structure, Scale Free (SF) Graph\n",
    "Scale Free graphs are interesting, as they have a real-world structure, their degrees are according to a power law distribution.\n",
    "\n",
    "In real-life, these graphs are much more realistic than ER-graphs, as we can expect few components to influence many others, and many components to only influence a couple of components. How will this affect the performance of algorithms?"
   ]
  },
  {
   "cell_type": "code",
   "execution_count": 88,
   "id": "fa1f22a9",
   "metadata": {},
   "outputs": [],
   "source": [
    "import igraph as ig\n",
    "import numpy as np\n",
    "\n",
    "import matplotlib.pyplot as plt\n",
    "from sklearn.metrics import auc\n",
    "import scipy.stats as scistats\n",
    "import sys\n",
    "sys.path.append(\"..\")\n",
    "\n",
    "import helper.helper as h\n",
    "import helper.methods as m\n",
    "\n",
    "from notears.notears.notears import utils \n",
    "\n",
    "from importlib import reload  # Python 3.4+"
   ]
  },
  {
   "cell_type": "code",
   "execution_count": 93,
   "id": "50ec6f6d",
   "metadata": {},
   "outputs": [
    {
     "data": {
      "image/svg+xml": [
       "<?xml version=\"1.0\" encoding=\"UTF-8\"?>\n",
       "<svg xmlns=\"http://www.w3.org/2000/svg\" xmlns:xlink=\"http://www.w3.org/1999/xlink\" width=\"600pt\" height=\"600pt\" viewBox=\"0 0 600 600\" version=\"1.1\">\n",
       "<g id=\"surface122\">\n",
       "<rect x=\"0\" y=\"0\" width=\"600\" height=\"600\" style=\"fill:rgb(100%,100%,100%);fill-opacity:1;stroke:none;\"/>\n",
       "<path style=\"fill:none;stroke-width:1;stroke-linecap:butt;stroke-linejoin:miter;stroke:rgb(26.666667%,26.666667%,26.666667%);stroke-opacity:1;stroke-miterlimit:10;\" d=\"M 226.121094 249.355469 L 335.367188 215.296875 \"/>\n",
       "<path style=\" stroke:none;fill-rule:nonzero;fill:rgb(26.666667%,26.666667%,26.666667%);fill-opacity:1;\" d=\"M 348.988281 211.050781 L 336.746094 219.71875 L 333.988281 210.871094 L 348.988281 211.050781 \"/>\n",
       "<path style=\"fill:none;stroke-width:1;stroke-linecap:butt;stroke-linejoin:miter;stroke:rgb(26.666667%,26.666667%,26.666667%);stroke-opacity:1;stroke-miterlimit:10;\" d=\"M 417.140625 363.886719 L 367.078125 230.785156 \"/>\n",
       "<path style=\" stroke:none;fill-rule:nonzero;fill:rgb(26.666667%,26.666667%,26.666667%);fill-opacity:1;\" d=\"M 362.054688 217.433594 L 371.414063 229.152344 L 362.738281 232.417969 L 362.054688 217.433594 \"/>\n",
       "<path style=\"fill:none;stroke-width:1;stroke-linecap:butt;stroke-linejoin:miter;stroke:rgb(26.666667%,26.666667%,26.666667%);stroke-opacity:1;stroke-miterlimit:10;\" d=\"M 417.140625 363.886719 L 246.933594 261.832031 \"/>\n",
       "<path style=\" stroke:none;fill-rule:nonzero;fill:rgb(26.666667%,26.666667%,26.666667%);fill-opacity:1;\" d=\"M 234.699219 254.496094 L 249.316406 257.855469 L 244.550781 265.808594 L 234.699219 254.496094 \"/>\n",
       "<path style=\"fill:none;stroke-width:1;stroke-linecap:butt;stroke-linejoin:miter;stroke:rgb(26.666667%,26.666667%,26.666667%);stroke-opacity:1;stroke-miterlimit:10;\" d=\"M 253.75 352.707031 L 344.296875 227.722656 \"/>\n",
       "<path style=\" stroke:none;fill-rule:nonzero;fill:rgb(26.666667%,26.666667%,26.666667%);fill-opacity:1;\" d=\"M 352.667969 216.171875 L 348.050781 230.441406 L 340.542969 225.003906 L 352.667969 216.171875 \"/>\n",
       "<path style=\"fill:none;stroke-width:1;stroke-linecap:butt;stroke-linejoin:miter;stroke:rgb(26.666667%,26.666667%,26.666667%);stroke-opacity:1;stroke-miterlimit:10;\" d=\"M 253.75 352.707031 L 232.386719 272.796875 \"/>\n",
       "<path style=\" stroke:none;fill-rule:nonzero;fill:rgb(26.666667%,26.666667%,26.666667%);fill-opacity:1;\" d=\"M 228.703125 259.015625 L 236.867188 271.601563 L 227.910156 273.992188 L 228.703125 259.015625 \"/>\n",
       "<path style=\"fill:none;stroke-width:1;stroke-linecap:butt;stroke-linejoin:miter;stroke:rgb(26.666667%,26.666667%,26.666667%);stroke-opacity:1;stroke-miterlimit:10;\" d=\"M 253.75 352.707031 L 392.929688 362.230469 \"/>\n",
       "<path style=\" stroke:none;fill-rule:nonzero;fill:rgb(26.666667%,26.666667%,26.666667%);fill-opacity:1;\" d=\"M 407.164063 363.203125 L 392.613281 366.855469 L 393.246094 357.605469 L 407.164063 363.203125 \"/>\n",
       "<path style=\"fill:none;stroke-width:1;stroke-linecap:butt;stroke-linejoin:miter;stroke:rgb(26.666667%,26.666667%,26.666667%);stroke-opacity:1;stroke-miterlimit:10;\" d=\"M 580 193.808594 L 382.75 206.511719 \"/>\n",
       "<path style=\" stroke:none;fill-rule:nonzero;fill:rgb(26.666667%,26.666667%,26.666667%);fill-opacity:1;\" d=\"M 368.511719 207.429688 L 382.453125 201.886719 L 383.046875 211.140625 L 368.511719 207.429688 \"/>\n",
       "<path style=\"fill:none;stroke-width:1;stroke-linecap:butt;stroke-linejoin:miter;stroke:rgb(26.666667%,26.666667%,26.666667%);stroke-opacity:1;stroke-miterlimit:10;\" d=\"M 580 193.808594 L 250.09375 245.589844 \"/>\n",
       "<path style=\" stroke:none;fill-rule:nonzero;fill:rgb(26.666667%,26.666667%,26.666667%);fill-opacity:1;\" d=\"M 236 247.804688 L 249.375 241.011719 L 250.8125 250.171875 L 236 247.804688 \"/>\n",
       "<path style=\"fill:none;stroke-width:1;stroke-linecap:butt;stroke-linejoin:miter;stroke:rgb(26.666667%,26.666667%,26.666667%);stroke-opacity:1;stroke-miterlimit:10;\" d=\"M 580 193.808594 L 433.921875 346.359375 \"/>\n",
       "<path style=\" stroke:none;fill-rule:nonzero;fill:rgb(26.666667%,26.666667%,26.666667%);fill-opacity:1;\" d=\"M 424.054688 356.664063 L 430.574219 343.152344 L 437.269531 349.566406 L 424.054688 356.664063 \"/>\n",
       "<path style=\"fill:none;stroke-width:1;stroke-linecap:butt;stroke-linejoin:miter;stroke:rgb(26.666667%,26.666667%,26.666667%);stroke-opacity:1;stroke-miterlimit:10;\" d=\"M 580 193.808594 L 275.5625 342.082031 \"/>\n",
       "<path style=\" stroke:none;fill-rule:nonzero;fill:rgb(26.666667%,26.666667%,26.666667%);fill-opacity:1;\" d=\"M 262.738281 348.328125 L 273.535156 337.914063 L 277.59375 346.25 L 262.738281 348.328125 \"/>\n",
       "<path style=\"fill:none;stroke-width:1;stroke-linecap:butt;stroke-linejoin:miter;stroke:rgb(26.666667%,26.666667%,26.666667%);stroke-opacity:1;stroke-miterlimit:10;\" d=\"M 313.308594 549.257813 L 355.34375 232.128906 \"/>\n",
       "<path style=\" stroke:none;fill-rule:nonzero;fill:rgb(26.666667%,26.666667%,26.666667%);fill-opacity:1;\" d=\"M 357.21875 217.984375 L 359.941406 232.738281 L 350.75 231.519531 L 357.21875 217.984375 \"/>\n",
       "<path style=\"fill:none;stroke-width:1;stroke-linecap:butt;stroke-linejoin:miter;stroke:rgb(26.666667%,26.666667%,26.666667%);stroke-opacity:1;stroke-miterlimit:10;\" d=\"M 313.308594 549.257813 L 260.785156 375.929688 \"/>\n",
       "<path style=\" stroke:none;fill-rule:nonzero;fill:rgb(26.666667%,26.666667%,26.666667%);fill-opacity:1;\" d=\"M 256.648438 362.277344 L 265.222656 374.585938 L 256.347656 377.273438 L 256.648438 362.277344 \"/>\n",
       "<path style=\"fill:none;stroke-width:1;stroke-linecap:butt;stroke-linejoin:miter;stroke:rgb(26.666667%,26.666667%,26.666667%);stroke-opacity:1;stroke-miterlimit:10;\" d=\"M 313.308594 549.257813 L 232.894531 272.65625 \"/>\n",
       "<path style=\" stroke:none;fill-rule:nonzero;fill:rgb(26.666667%,26.666667%,26.666667%);fill-opacity:1;\" d=\"M 228.914063 258.957031 L 237.347656 271.359375 L 228.445313 273.949219 L 228.914063 258.957031 \"/>\n",
       "<path style=\"fill:none;stroke-width:1;stroke-linecap:butt;stroke-linejoin:miter;stroke:rgb(26.666667%,26.666667%,26.666667%);stroke-opacity:1;stroke-miterlimit:10;\" d=\"M 313.308594 549.257813 L 405.28125 385.058594 \"/>\n",
       "<path style=\" stroke:none;fill-rule:nonzero;fill:rgb(26.666667%,26.666667%,26.666667%);fill-opacity:1;\" d=\"M 412.253906 372.609375 L 409.324219 387.324219 L 401.238281 382.792969 L 412.253906 372.609375 \"/>\n",
       "<path style=\"fill:none;stroke-width:1;stroke-linecap:butt;stroke-linejoin:miter;stroke:rgb(26.666667%,26.666667%,26.666667%);stroke-opacity:1;stroke-miterlimit:10;\" d=\"M 161.75 103.851563 L 216.304688 227.164063 \"/>\n",
       "<path style=\" stroke:none;fill-rule:nonzero;fill:rgb(26.666667%,26.666667%,26.666667%);fill-opacity:1;\" d=\"M 222.074219 240.207031 L 212.066406 229.039063 L 220.542969 225.289063 L 222.074219 240.207031 \"/>\n",
       "<path style=\"fill:none;stroke-width:1;stroke-linecap:butt;stroke-linejoin:miter;stroke:rgb(26.666667%,26.666667%,26.666667%);stroke-opacity:1;stroke-miterlimit:10;\" d=\"M 161.75 103.851563 L 337.089844 196.714844 \"/>\n",
       "<path style=\" stroke:none;fill-rule:nonzero;fill:rgb(26.666667%,26.666667%,26.666667%);fill-opacity:1;\" d=\"M 349.695313 203.390625 L 334.921875 200.8125 L 339.257813 192.621094 L 349.695313 203.390625 \"/>\n",
       "<path style=\"fill:none;stroke-width:1;stroke-linecap:butt;stroke-linejoin:miter;stroke:rgb(26.666667%,26.666667%,26.666667%);stroke-opacity:1;stroke-miterlimit:10;\" d=\"M 161.75 103.851563 L 245.332031 329.945313 \"/>\n",
       "<path style=\" stroke:none;fill-rule:nonzero;fill:rgb(26.666667%,26.666667%,26.666667%);fill-opacity:1;\" d=\"M 250.28125 343.328125 L 240.984375 331.554688 L 249.679688 328.339844 L 250.28125 343.328125 \"/>\n",
       "<path style=\"fill:none;stroke-width:1;stroke-linecap:butt;stroke-linejoin:miter;stroke:rgb(26.666667%,26.666667%,26.666667%);stroke-opacity:1;stroke-miterlimit:10;\" d=\"M 161.75 103.851563 L 400.136719 346.574219 \"/>\n",
       "<path style=\" stroke:none;fill-rule:nonzero;fill:rgb(26.666667%,26.666667%,26.666667%);fill-opacity:1;\" d=\"M 410.132813 356.75 L 396.828125 349.820313 L 403.441406 343.324219 L 410.132813 356.75 \"/>\n",
       "<path style=\"fill:none;stroke-width:1;stroke-linecap:butt;stroke-linejoin:miter;stroke:rgb(26.666667%,26.666667%,26.666667%);stroke-opacity:1;stroke-miterlimit:10;\" d=\"M 148.921875 580 L 289.457031 553.71875 \"/>\n",
       "<path style=\" stroke:none;fill-rule:nonzero;fill:rgb(26.666667%,26.666667%,26.666667%);fill-opacity:1;\" d=\"M 303.476563 551.097656 L 290.308594 558.277344 L 288.601563 549.164063 L 303.476563 551.097656 \"/>\n",
       "<path style=\"fill:none;stroke-width:1;stroke-linecap:butt;stroke-linejoin:miter;stroke:rgb(26.666667%,26.666667%,26.666667%);stroke-opacity:1;stroke-miterlimit:10;\" d=\"M 148.921875 580 L 346.621094 229.210938 \"/>\n",
       "<path style=\" stroke:none;fill-rule:nonzero;fill:rgb(26.666667%,26.666667%,26.666667%);fill-opacity:1;\" d=\"M 353.625 216.785156 L 350.65625 231.488281 L 342.582031 226.9375 L 353.625 216.785156 \"/>\n",
       "<path style=\"fill:none;stroke-width:1;stroke-linecap:butt;stroke-linejoin:miter;stroke:rgb(26.666667%,26.666667%,26.666667%);stroke-opacity:1;stroke-miterlimit:10;\" d=\"M 148.921875 580 L 220.605469 272.984375 \"/>\n",
       "<path style=\" stroke:none;fill-rule:nonzero;fill:rgb(26.666667%,26.666667%,26.666667%);fill-opacity:1;\" d=\"M 223.847656 259.09375 L 225.117188 274.039063 L 216.089844 271.929688 L 223.847656 259.09375 \"/>\n",
       "<path style=\"fill:none;stroke-width:1;stroke-linecap:butt;stroke-linejoin:miter;stroke:rgb(26.666667%,26.666667%,26.666667%);stroke-opacity:1;stroke-miterlimit:10;\" d=\"M 148.921875 580 L 243.585938 374.742188 \"/>\n",
       "<path style=\" stroke:none;fill-rule:nonzero;fill:rgb(26.666667%,26.666667%,26.666667%);fill-opacity:1;\" d=\"M 249.558594 361.789063 L 247.792969 376.683594 L 239.375 372.800781 L 249.558594 361.789063 \"/>\n",
       "<path style=\"fill:none;stroke-width:1;stroke-linecap:butt;stroke-linejoin:miter;stroke:rgb(26.666667%,26.666667%,26.666667%);stroke-opacity:1;stroke-miterlimit:10;\" d=\"M 75.175781 20 L 144.320313 86.96875 \"/>\n",
       "<path style=\" stroke:none;fill-rule:nonzero;fill:rgb(26.666667%,26.666667%,26.666667%);fill-opacity:1;\" d=\"M 154.566406 96.894531 L 141.09375 90.300781 L 147.542969 83.640625 L 154.566406 96.894531 \"/>\n",
       "<path style=\"fill:none;stroke-width:1;stroke-linecap:butt;stroke-linejoin:miter;stroke:rgb(26.666667%,26.666667%,26.666667%);stroke-opacity:1;stroke-miterlimit:10;\" d=\"M 75.175781 20 L 338.316406 194.652344 \"/>\n",
       "<path style=\" stroke:none;fill-rule:nonzero;fill:rgb(26.666667%,26.666667%,26.666667%);fill-opacity:1;\" d=\"M 350.203125 202.542969 L 335.753906 198.515625 L 340.878906 190.792969 L 350.203125 202.542969 \"/>\n",
       "<path style=\"fill:none;stroke-width:1;stroke-linecap:butt;stroke-linejoin:miter;stroke:rgb(26.666667%,26.666667%,26.666667%);stroke-opacity:1;stroke-miterlimit:10;\" d=\"M 75.175781 20 L 242.273438 331.328125 \"/>\n",
       "<path style=\" stroke:none;fill-rule:nonzero;fill:rgb(26.666667%,26.666667%,26.666667%);fill-opacity:1;\" d=\"M 249.019531 343.898438 L 238.1875 333.519531 L 246.355469 329.132813 L 249.019531 343.898438 \"/>\n",
       "<path style=\"fill:none;stroke-width:1;stroke-linecap:butt;stroke-linejoin:miter;stroke:rgb(26.666667%,26.666667%,26.666667%);stroke-opacity:1;stroke-miterlimit:10;\" d=\"M 75.175781 20 L 212.78125 229.085938 \"/>\n",
       "<path style=\" stroke:none;fill-rule:nonzero;fill:rgb(26.666667%,26.666667%,26.666667%);fill-opacity:1;\" d=\"M 220.625 241 L 208.910156 231.632813 L 216.652344 226.535156 L 220.625 241 \"/>\n",
       "<path style=\"fill:none;stroke-width:1;stroke-linecap:butt;stroke-linejoin:miter;stroke:rgb(26.666667%,26.666667%,26.666667%);stroke-opacity:1;stroke-miterlimit:10;\" d=\"M 20 378.984375 L 292.320313 537.078125 \"/>\n",
       "<path style=\" stroke:none;fill-rule:nonzero;fill:rgb(26.666667%,26.666667%,26.666667%);fill-opacity:1;\" d=\"M 304.660156 544.238281 L 289.996094 541.085938 L 294.648438 533.066406 L 304.660156 544.238281 \"/>\n",
       "<path style=\"fill:none;stroke-width:1;stroke-linecap:butt;stroke-linejoin:miter;stroke:rgb(26.666667%,26.666667%,26.666667%);stroke-opacity:1;stroke-miterlimit:10;\" d=\"M 20 378.984375 L 229.632813 355.417969 \"/>\n",
       "<path style=\" stroke:none;fill-rule:nonzero;fill:rgb(26.666667%,26.666667%,26.666667%);fill-opacity:1;\" d=\"M 243.8125 353.824219 L 230.152344 360.023438 L 229.117188 350.8125 L 243.8125 353.824219 \"/>\n",
       "<path style=\"fill:none;stroke-width:1;stroke-linecap:butt;stroke-linejoin:miter;stroke:rgb(26.666667%,26.666667%,26.666667%);stroke-opacity:1;stroke-miterlimit:10;\" d=\"M 20 378.984375 L 71.488281 43.984375 \"/>\n",
       "<path style=\" stroke:none;fill-rule:nonzero;fill:rgb(26.666667%,26.666667%,26.666667%);fill-opacity:1;\" d=\"M 73.65625 29.882813 L 76.070313 44.6875 L 66.90625 43.28125 L 73.65625 29.882813 \"/>\n",
       "<path style=\"fill:none;stroke-width:1;stroke-linecap:butt;stroke-linejoin:miter;stroke:rgb(26.666667%,26.666667%,26.666667%);stroke-opacity:1;stroke-miterlimit:10;\" d=\"M 20 378.984375 L 392.890625 364.808594 \"/>\n",
       "<path style=\" stroke:none;fill-rule:nonzero;fill:rgb(26.666667%,26.666667%,26.666667%);fill-opacity:1;\" d=\"M 407.144531 364.265625 L 393.066406 369.441406 L 392.714844 360.175781 L 407.144531 364.265625 \"/>\n",
       "<path style=\"fill-rule:nonzero;fill:rgb(100%,0%,0%);fill-opacity:1;stroke-width:1;stroke-linecap:butt;stroke-linejoin:miter;stroke:rgb(0%,0%,0%);stroke-opacity:1;stroke-miterlimit:10;\" d=\"M 368.535156 208.074219 C 368.535156 213.59375 364.054688 218.074219 358.535156 218.074219 C 353.011719 218.074219 348.535156 213.59375 348.535156 208.074219 C 348.535156 202.550781 353.011719 198.074219 358.535156 198.074219 C 364.054688 198.074219 368.535156 202.550781 368.535156 208.074219 \"/>\n",
       "<path style=\"fill-rule:nonzero;fill:rgb(100%,0%,0%);fill-opacity:1;stroke-width:1;stroke-linecap:butt;stroke-linejoin:miter;stroke:rgb(0%,0%,0%);stroke-opacity:1;stroke-miterlimit:10;\" d=\"M 236.121094 249.355469 C 236.121094 254.875 231.644531 259.355469 226.121094 259.355469 C 220.597656 259.355469 216.121094 254.875 216.121094 249.355469 C 216.121094 243.832031 220.597656 239.355469 226.121094 239.355469 C 231.644531 239.355469 236.121094 243.832031 236.121094 249.355469 \"/>\n",
       "<path style=\"fill-rule:nonzero;fill:rgb(100%,0%,0%);fill-opacity:1;stroke-width:1;stroke-linecap:butt;stroke-linejoin:miter;stroke:rgb(0%,0%,0%);stroke-opacity:1;stroke-miterlimit:10;\" d=\"M 427.140625 363.886719 C 427.140625 369.410156 422.660156 373.886719 417.140625 373.886719 C 411.617188 373.886719 407.140625 369.410156 407.140625 363.886719 C 407.140625 358.363281 411.617188 353.886719 417.140625 353.886719 C 422.660156 353.886719 427.140625 358.363281 427.140625 363.886719 \"/>\n",
       "<path style=\"fill-rule:nonzero;fill:rgb(100%,0%,0%);fill-opacity:1;stroke-width:1;stroke-linecap:butt;stroke-linejoin:miter;stroke:rgb(0%,0%,0%);stroke-opacity:1;stroke-miterlimit:10;\" d=\"M 263.75 352.707031 C 263.75 358.230469 259.269531 362.707031 253.75 362.707031 C 248.226563 362.707031 243.75 358.230469 243.75 352.707031 C 243.75 347.183594 248.226563 342.707031 253.75 342.707031 C 259.269531 342.707031 263.75 347.183594 263.75 352.707031 \"/>\n",
       "<path style=\"fill-rule:nonzero;fill:rgb(100%,0%,0%);fill-opacity:1;stroke-width:1;stroke-linecap:butt;stroke-linejoin:miter;stroke:rgb(0%,0%,0%);stroke-opacity:1;stroke-miterlimit:10;\" d=\"M 590 193.808594 C 590 199.332031 585.523438 203.808594 580 203.808594 C 574.476563 203.808594 570 199.332031 570 193.808594 C 570 188.285156 574.476563 183.808594 580 183.808594 C 585.523438 183.808594 590 188.285156 590 193.808594 \"/>\n",
       "<path style=\"fill-rule:nonzero;fill:rgb(100%,0%,0%);fill-opacity:1;stroke-width:1;stroke-linecap:butt;stroke-linejoin:miter;stroke:rgb(0%,0%,0%);stroke-opacity:1;stroke-miterlimit:10;\" d=\"M 323.308594 549.257813 C 323.308594 554.78125 318.832031 559.257813 313.308594 559.257813 C 307.785156 559.257813 303.308594 554.78125 303.308594 549.257813 C 303.308594 543.738281 307.785156 539.257813 313.308594 539.257813 C 318.832031 539.257813 323.308594 543.738281 323.308594 549.257813 \"/>\n",
       "<path style=\"fill-rule:nonzero;fill:rgb(100%,0%,0%);fill-opacity:1;stroke-width:1;stroke-linecap:butt;stroke-linejoin:miter;stroke:rgb(0%,0%,0%);stroke-opacity:1;stroke-miterlimit:10;\" d=\"M 171.75 103.851563 C 171.75 109.375 167.273438 113.851563 161.75 113.851563 C 156.226563 113.851563 151.75 109.375 151.75 103.851563 C 151.75 98.328125 156.226563 93.851563 161.75 93.851563 C 167.273438 93.851563 171.75 98.328125 171.75 103.851563 \"/>\n",
       "<path style=\"fill-rule:nonzero;fill:rgb(100%,0%,0%);fill-opacity:1;stroke-width:1;stroke-linecap:butt;stroke-linejoin:miter;stroke:rgb(0%,0%,0%);stroke-opacity:1;stroke-miterlimit:10;\" d=\"M 158.921875 580 C 158.921875 585.523438 154.445313 590 148.921875 590 C 143.398438 590 138.921875 585.523438 138.921875 580 C 138.921875 574.476563 143.398438 570 148.921875 570 C 154.445313 570 158.921875 574.476563 158.921875 580 \"/>\n",
       "<path style=\"fill-rule:nonzero;fill:rgb(100%,0%,0%);fill-opacity:1;stroke-width:1;stroke-linecap:butt;stroke-linejoin:miter;stroke:rgb(0%,0%,0%);stroke-opacity:1;stroke-miterlimit:10;\" d=\"M 85.175781 20 C 85.175781 25.523438 80.695313 30 75.175781 30 C 69.652344 30 65.175781 25.523438 65.175781 20 C 65.175781 14.476563 69.652344 10 75.175781 10 C 80.695313 10 85.175781 14.476563 85.175781 20 \"/>\n",
       "<path style=\"fill-rule:nonzero;fill:rgb(100%,0%,0%);fill-opacity:1;stroke-width:1;stroke-linecap:butt;stroke-linejoin:miter;stroke:rgb(0%,0%,0%);stroke-opacity:1;stroke-miterlimit:10;\" d=\"M 30 378.984375 C 30 384.507813 25.523438 388.984375 20 388.984375 C 14.476563 388.984375 10 384.507813 10 378.984375 C 10 373.460938 14.476563 368.984375 20 368.984375 C 25.523438 368.984375 30 373.460938 30 378.984375 \"/>\n",
       "</g>\n",
       "</svg>\n"
      ],
      "text/plain": [
       "<igraph.drawing.Plot at 0x2267e7c21d0>"
      ]
     },
     "execution_count": 93,
     "metadata": {
      "image/svg+xml": {
       "isolated": true
      }
     },
     "output_type": "execute_result"
    }
   ],
   "source": [
    "p, edge_per_var = 10, 4\n",
    "s0 = p * edge_per_var\n",
    "\n",
    "G = ig.Graph.Barabasi(n=p, m=int(round(s0 / p)), directed=True)\n",
    "\n",
    "ig.plot(G)"
   ]
  },
  {
   "cell_type": "code",
   "execution_count": 94,
   "id": "31d8815b",
   "metadata": {},
   "outputs": [
    {
     "name": "stdout",
     "output_type": "stream",
     "text": [
      "[[0 1 1 1 1 1 1 1 1 0]\n",
      " [0 0 1 1 1 1 1 1 1 0]\n",
      " [0 0 0 1 1 1 1 0 0 1]\n",
      " [0 0 0 0 1 1 1 1 1 1]\n",
      " [0 0 0 0 0 0 0 0 0 0]\n",
      " [0 0 0 0 0 0 0 1 0 1]\n",
      " [0 0 0 0 0 0 0 0 1 0]\n",
      " [0 0 0 0 0 0 0 0 0 0]\n",
      " [0 0 0 0 0 0 0 0 0 1]\n",
      " [0 0 0 0 0 0 0 0 0 0]]\n"
     ]
    }
   ],
   "source": [
    "matrix = np.array(G.get_adjacency().data)\n",
    "print(matrix.T)"
   ]
  },
  {
   "cell_type": "code",
   "execution_count": 95,
   "id": "0b6aa47b",
   "metadata": {},
   "outputs": [
    {
     "data": {
      "image/svg+xml": [
       "<?xml version=\"1.0\" encoding=\"UTF-8\"?>\n",
       "<svg xmlns=\"http://www.w3.org/2000/svg\" xmlns:xlink=\"http://www.w3.org/1999/xlink\" width=\"600pt\" height=\"600pt\" viewBox=\"0 0 600 600\" version=\"1.1\">\n",
       "<g id=\"surface128\">\n",
       "<rect x=\"0\" y=\"0\" width=\"600\" height=\"600\" style=\"fill:rgb(100%,100%,100%);fill-opacity:1;stroke:none;\"/>\n",
       "<path style=\"fill:none;stroke-width:1;stroke-linecap:butt;stroke-linejoin:miter;stroke:rgb(26.666667%,26.666667%,26.666667%);stroke-opacity:1;stroke-miterlimit:10;\" d=\"M 199.9375 328.773438 L 274.0625 396.457031 \"/>\n",
       "<path style=\" stroke:none;fill-rule:nonzero;fill:rgb(26.666667%,26.666667%,26.666667%);fill-opacity:1;\" d=\"M 284.597656 406.078125 L 270.9375 399.878906 L 277.1875 393.035156 L 284.597656 406.078125 \"/>\n",
       "<path style=\"fill:none;stroke-width:1;stroke-linecap:butt;stroke-linejoin:miter;stroke:rgb(26.666667%,26.666667%,26.666667%);stroke-opacity:1;stroke-miterlimit:10;\" d=\"M 199.9375 328.773438 L 412.164063 255.957031 \"/>\n",
       "<path style=\" stroke:none;fill-rule:nonzero;fill:rgb(26.666667%,26.666667%,26.666667%);fill-opacity:1;\" d=\"M 425.65625 251.328125 L 413.667969 260.339844 L 410.660156 251.574219 L 425.65625 251.328125 \"/>\n",
       "<path style=\"fill:none;stroke-width:1;stroke-linecap:butt;stroke-linejoin:miter;stroke:rgb(26.666667%,26.666667%,26.666667%);stroke-opacity:1;stroke-miterlimit:10;\" d=\"M 199.9375 328.773438 L 295.484375 240.242188 \"/>\n",
       "<path style=\" stroke:none;fill-rule:nonzero;fill:rgb(26.666667%,26.666667%,26.666667%);fill-opacity:1;\" d=\"M 305.949219 230.546875 L 298.636719 243.644531 L 292.335938 236.84375 L 305.949219 230.546875 \"/>\n",
       "<path style=\"fill:none;stroke-width:1;stroke-linecap:butt;stroke-linejoin:miter;stroke:rgb(26.666667%,26.666667%,26.666667%);stroke-opacity:1;stroke-miterlimit:10;\" d=\"M 199.9375 328.773438 L 175.308594 555.875 \"/>\n",
       "<path style=\" stroke:none;fill-rule:nonzero;fill:rgb(26.666667%,26.666667%,26.666667%);fill-opacity:1;\" d=\"M 173.769531 570.058594 L 170.699219 555.375 L 179.917969 556.375 L 173.769531 570.058594 \"/>\n",
       "<path style=\"fill:none;stroke-width:1;stroke-linecap:butt;stroke-linejoin:miter;stroke:rgb(26.666667%,26.666667%,26.666667%);stroke-opacity:1;stroke-miterlimit:10;\" d=\"M 199.9375 328.773438 L 254.3125 43.835938 \"/>\n",
       "<path style=\" stroke:none;fill-rule:nonzero;fill:rgb(26.666667%,26.666667%,26.666667%);fill-opacity:1;\" d=\"M 256.984375 29.824219 L 258.863281 44.703125 L 249.757813 42.96875 L 256.984375 29.824219 \"/>\n",
       "<path style=\"fill:none;stroke-width:1;stroke-linecap:butt;stroke-linejoin:miter;stroke:rgb(26.666667%,26.666667%,26.666667%);stroke-opacity:1;stroke-miterlimit:10;\" d=\"M 199.9375 328.773438 L 555.90625 371.621094 \"/>\n",
       "<path style=\" stroke:none;fill-rule:nonzero;fill:rgb(26.666667%,26.666667%,26.666667%);fill-opacity:1;\" d=\"M 570.070313 373.328125 L 555.355469 376.222656 L 556.460938 367.019531 L 570.070313 373.328125 \"/>\n",
       "<path style=\"fill:none;stroke-width:1;stroke-linecap:butt;stroke-linejoin:miter;stroke:rgb(26.666667%,26.666667%,26.666667%);stroke-opacity:1;stroke-miterlimit:10;\" d=\"M 199.9375 328.773438 L 37.0625 164.089844 \"/>\n",
       "<path style=\" stroke:none;fill-rule:nonzero;fill:rgb(26.666667%,26.666667%,26.666667%);fill-opacity:1;\" d=\"M 27.03125 153.945313 L 40.359375 160.832031 L 33.769531 167.347656 L 27.03125 153.945313 \"/>\n",
       "<path style=\"fill:none;stroke-width:1;stroke-linecap:butt;stroke-linejoin:miter;stroke:rgb(26.666667%,26.666667%,26.666667%);stroke-opacity:1;stroke-miterlimit:10;\" d=\"M 199.9375 328.773438 L 473.941406 477.902344 \"/>\n",
       "<path style=\" stroke:none;fill-rule:nonzero;fill:rgb(26.666667%,26.666667%,26.666667%);fill-opacity:1;\" d=\"M 486.46875 484.722656 L 471.722656 481.972656 L 476.15625 473.832031 L 486.46875 484.722656 \"/>\n",
       "<path style=\"fill:none;stroke-width:1;stroke-linecap:butt;stroke-linejoin:miter;stroke:rgb(26.666667%,26.666667%,26.666667%);stroke-opacity:1;stroke-miterlimit:10;\" d=\"M 291.980469 412.820313 L 419.203125 266.398438 \"/>\n",
       "<path style=\" stroke:none;fill-rule:nonzero;fill:rgb(26.666667%,26.666667%,26.666667%);fill-opacity:1;\" d=\"M 428.558594 255.628906 L 422.699219 269.441406 L 415.703125 263.359375 L 428.558594 255.628906 \"/>\n",
       "<path style=\"fill:none;stroke-width:1;stroke-linecap:butt;stroke-linejoin:miter;stroke:rgb(26.666667%,26.666667%,26.666667%);stroke-opacity:1;stroke-miterlimit:10;\" d=\"M 291.980469 412.820313 L 310.570313 247.863281 \"/>\n",
       "<path style=\" stroke:none;fill-rule:nonzero;fill:rgb(26.666667%,26.666667%,26.666667%);fill-opacity:1;\" d=\"M 312.167969 233.6875 L 315.175781 248.382813 L 305.960938 247.34375 L 312.167969 233.6875 \"/>\n",
       "<path style=\"fill:none;stroke-width:1;stroke-linecap:butt;stroke-linejoin:miter;stroke:rgb(26.666667%,26.666667%,26.666667%);stroke-opacity:1;stroke-miterlimit:10;\" d=\"M 291.980469 412.820313 L 186.789063 560.246094 \"/>\n",
       "<path style=\" stroke:none;fill-rule:nonzero;fill:rgb(26.666667%,26.666667%,26.666667%);fill-opacity:1;\" d=\"M 178.5 571.859375 L 183.015625 557.554688 L 190.558594 562.9375 L 178.5 571.859375 \"/>\n",
       "<path style=\"fill:none;stroke-width:1;stroke-linecap:butt;stroke-linejoin:miter;stroke:rgb(26.666667%,26.666667%,26.666667%);stroke-opacity:1;stroke-miterlimit:10;\" d=\"M 291.980469 412.820313 L 260.898438 44.179688 \"/>\n",
       "<path style=\" stroke:none;fill-rule:nonzero;fill:rgb(26.666667%,26.666667%,26.666667%);fill-opacity:1;\" d=\"M 259.699219 29.964844 L 265.519531 43.789063 L 256.28125 44.570313 L 259.699219 29.964844 \"/>\n",
       "<path style=\"fill:none;stroke-width:1;stroke-linecap:butt;stroke-linejoin:miter;stroke:rgb(26.666667%,26.666667%,26.666667%);stroke-opacity:1;stroke-miterlimit:10;\" d=\"M 291.980469 412.820313 L 555.945313 377.71875 \"/>\n",
       "<path style=\" stroke:none;fill-rule:nonzero;fill:rgb(26.666667%,26.666667%,26.666667%);fill-opacity:1;\" d=\"M 570.085938 375.839844 L 556.558594 382.316406 L 555.335938 373.125 L 570.085938 375.839844 \"/>\n",
       "<path style=\"fill:none;stroke-width:1;stroke-linecap:butt;stroke-linejoin:miter;stroke:rgb(26.666667%,26.666667%,26.666667%);stroke-opacity:1;stroke-miterlimit:10;\" d=\"M 291.980469 412.820313 L 37.347656 163.804688 \"/>\n",
       "<path style=\" stroke:none;fill-rule:nonzero;fill:rgb(26.666667%,26.666667%,26.666667%);fill-opacity:1;\" d=\"M 27.148438 153.828125 L 40.589844 160.488281 L 34.109375 167.117188 L 27.148438 153.828125 \"/>\n",
       "<path style=\"fill:none;stroke-width:1;stroke-linecap:butt;stroke-linejoin:miter;stroke:rgb(26.666667%,26.666667%,26.666667%);stroke-opacity:1;stroke-miterlimit:10;\" d=\"M 291.980469 412.820313 L 472.550781 480.9375 \"/>\n",
       "<path style=\" stroke:none;fill-rule:nonzero;fill:rgb(26.666667%,26.666667%,26.666667%);fill-opacity:1;\" d=\"M 485.898438 485.972656 L 470.914063 485.273438 L 474.1875 476.601563 L 485.898438 485.972656 \"/>\n",
       "<path style=\"fill:none;stroke-width:1;stroke-linecap:butt;stroke-linejoin:miter;stroke:rgb(26.666667%,26.666667%,26.666667%);stroke-opacity:1;stroke-miterlimit:10;\" d=\"M 435.117188 248.082031 L 337.082031 228.503906 \"/>\n",
       "<path style=\" stroke:none;fill-rule:nonzero;fill:rgb(26.666667%,26.666667%,26.666667%);fill-opacity:1;\" d=\"M 323.09375 225.710938 L 337.988281 223.957031 L 336.175781 233.046875 L 323.09375 225.710938 \"/>\n",
       "<path style=\"fill:none;stroke-width:1;stroke-linecap:butt;stroke-linejoin:miter;stroke:rgb(26.666667%,26.666667%,26.666667%);stroke-opacity:1;stroke-miterlimit:10;\" d=\"M 435.117188 248.082031 L 187.742188 560.964844 \"/>\n",
       "<path style=\" stroke:none;fill-rule:nonzero;fill:rgb(26.666667%,26.666667%,26.666667%);fill-opacity:1;\" d=\"M 178.894531 572.15625 L 184.105469 558.089844 L 191.378906 563.839844 L 178.894531 572.15625 \"/>\n",
       "<path style=\"fill:none;stroke-width:1;stroke-linecap:butt;stroke-linejoin:miter;stroke:rgb(26.666667%,26.666667%,26.666667%);stroke-opacity:1;stroke-miterlimit:10;\" d=\"M 435.117188 248.082031 L 273.699219 39.199219 \"/>\n",
       "<path style=\" stroke:none;fill-rule:nonzero;fill:rgb(26.666667%,26.666667%,26.666667%);fill-opacity:1;\" d=\"M 264.976563 27.914063 L 277.367188 36.367188 L 270.03125 42.035156 L 264.976563 27.914063 \"/>\n",
       "<path style=\"fill:none;stroke-width:1;stroke-linecap:butt;stroke-linejoin:miter;stroke:rgb(26.666667%,26.666667%,26.666667%);stroke-opacity:1;stroke-miterlimit:10;\" d=\"M 435.117188 248.082031 L 561.71875 358.566406 \"/>\n",
       "<path style=\" stroke:none;fill-rule:nonzero;fill:rgb(26.666667%,26.666667%,26.666667%);fill-opacity:1;\" d=\"M 572.464844 367.945313 L 558.667969 362.058594 L 564.765625 355.074219 L 572.464844 367.945313 \"/>\n",
       "<path style=\"fill:none;stroke-width:1;stroke-linecap:butt;stroke-linejoin:miter;stroke:rgb(26.666667%,26.666667%,26.666667%);stroke-opacity:1;stroke-miterlimit:10;\" d=\"M 435.117188 248.082031 L 551.300781 65.921875 \"/>\n",
       "<path style=\" stroke:none;fill-rule:nonzero;fill:rgb(26.666667%,26.666667%,26.666667%);fill-opacity:1;\" d=\"M 558.972656 53.894531 L 555.210938 68.414063 L 547.394531 63.429688 L 558.972656 53.894531 \"/>\n",
       "<path style=\"fill:none;stroke-width:1;stroke-linecap:butt;stroke-linejoin:miter;stroke:rgb(26.666667%,26.666667%,26.666667%);stroke-opacity:1;stroke-miterlimit:10;\" d=\"M 313.285156 223.75 L 181.601563 557.429688 \"/>\n",
       "<path style=\" stroke:none;fill-rule:nonzero;fill:rgb(26.666667%,26.666667%,26.666667%);fill-opacity:1;\" d=\"M 176.363281 570.699219 L 177.289063 555.726563 L 185.914063 559.128906 L 176.363281 570.699219 \"/>\n",
       "<path style=\"fill:none;stroke-width:1;stroke-linecap:butt;stroke-linejoin:miter;stroke:rgb(26.666667%,26.666667%,26.666667%);stroke-opacity:1;stroke-miterlimit:10;\" d=\"M 313.285156 223.75 L 265.121094 43.445313 \"/>\n",
       "<path style=\" stroke:none;fill-rule:nonzero;fill:rgb(26.666667%,26.666667%,26.666667%);fill-opacity:1;\" d=\"M 261.441406 29.660156 L 269.601563 42.246094 L 260.644531 44.640625 L 261.441406 29.660156 \"/>\n",
       "<path style=\"fill:none;stroke-width:1;stroke-linecap:butt;stroke-linejoin:miter;stroke:rgb(26.666667%,26.666667%,26.666667%);stroke-opacity:1;stroke-miterlimit:10;\" d=\"M 313.285156 223.75 L 558.875 362.582031 \"/>\n",
       "<path style=\" stroke:none;fill-rule:nonzero;fill:rgb(26.666667%,26.666667%,26.666667%);fill-opacity:1;\" d=\"M 571.292969 369.601563 L 556.59375 366.617188 L 561.15625 358.546875 L 571.292969 369.601563 \"/>\n",
       "<path style=\"fill:none;stroke-width:1;stroke-linecap:butt;stroke-linejoin:miter;stroke:rgb(26.666667%,26.666667%,26.666667%);stroke-opacity:1;stroke-miterlimit:10;\" d=\"M 313.285156 223.75 L 43.472656 152.992188 \"/>\n",
       "<path style=\" stroke:none;fill-rule:nonzero;fill:rgb(26.666667%,26.666667%,26.666667%);fill-opacity:1;\" d=\"M 29.671875 149.375 L 44.648438 148.507813 L 42.296875 157.476563 L 29.671875 149.375 \"/>\n",
       "<path style=\"fill:none;stroke-width:1;stroke-linecap:butt;stroke-linejoin:miter;stroke:rgb(26.666667%,26.666667%,26.666667%);stroke-opacity:1;stroke-miterlimit:10;\" d=\"M 313.285156 223.75 L 481.542969 469.480469 \"/>\n",
       "<path style=\" stroke:none;fill-rule:nonzero;fill:rgb(26.666667%,26.666667%,26.666667%);fill-opacity:1;\" d=\"M 489.605469 481.25 L 477.71875 472.101563 L 485.367188 466.863281 L 489.605469 481.25 \"/>\n",
       "<path style=\"fill:none;stroke-width:1;stroke-linecap:butt;stroke-linejoin:miter;stroke:rgb(26.666667%,26.666667%,26.666667%);stroke-opacity:1;stroke-miterlimit:10;\" d=\"M 313.285156 223.75 L 544.566406 59.511719 \"/>\n",
       "<path style=\" stroke:none;fill-rule:nonzero;fill:rgb(26.666667%,26.666667%,26.666667%);fill-opacity:1;\" d=\"M 556.199219 51.253906 L 547.25 63.292969 L 541.882813 55.734375 L 556.199219 51.253906 \"/>\n",
       "<path style=\"fill:none;stroke-width:1;stroke-linecap:butt;stroke-linejoin:miter;stroke:rgb(26.666667%,26.666667%,26.666667%);stroke-opacity:1;stroke-miterlimit:10;\" d=\"M 258.859375 20 L 41.433594 135.457031 \"/>\n",
       "<path style=\" stroke:none;fill-rule:nonzero;fill:rgb(26.666667%,26.666667%,26.666667%);fill-opacity:1;\" d=\"M 28.832031 142.148438 L 39.257813 131.363281 L 43.605469 139.550781 L 28.832031 142.148438 \"/>\n",
       "<path style=\"fill:none;stroke-width:1;stroke-linecap:butt;stroke-linejoin:miter;stroke:rgb(26.666667%,26.666667%,26.666667%);stroke-opacity:1;stroke-miterlimit:10;\" d=\"M 258.859375 20 L 540.167969 43.445313 \"/>\n",
       "<path style=\" stroke:none;fill-rule:nonzero;fill:rgb(26.666667%,26.666667%,26.666667%);fill-opacity:1;\" d=\"M 554.386719 44.632813 L 539.785156 48.066406 L 540.554688 38.828125 L 554.386719 44.632813 \"/>\n",
       "<path style=\"fill:none;stroke-width:1;stroke-linecap:butt;stroke-linejoin:miter;stroke:rgb(26.666667%,26.666667%,26.666667%);stroke-opacity:1;stroke-miterlimit:10;\" d=\"M 580 374.523438 L 509.652344 469.96875 \"/>\n",
       "<path style=\" stroke:none;fill-rule:nonzero;fill:rgb(26.666667%,26.666667%,26.666667%);fill-opacity:1;\" d=\"M 501.1875 481.453125 L 505.917969 467.21875 L 513.382813 472.71875 L 501.1875 481.453125 \"/>\n",
       "<path style=\"fill:none;stroke-width:1;stroke-linecap:butt;stroke-linejoin:miter;stroke:rgb(26.666667%,26.666667%,26.666667%);stroke-opacity:1;stroke-miterlimit:10;\" d=\"M 495.253906 489.503906 L 560.621094 69.4375 \"/>\n",
       "<path style=\" stroke:none;fill-rule:nonzero;fill:rgb(26.666667%,26.666667%,26.666667%);fill-opacity:1;\" d=\"M 562.8125 55.34375 L 565.199219 70.152344 L 556.039063 68.726563 L 562.8125 55.34375 \"/>\n",
       "<path style=\"fill-rule:nonzero;fill:rgb(100%,0%,0%);fill-opacity:1;stroke-width:1;stroke-linecap:butt;stroke-linejoin:miter;stroke:rgb(0%,0%,0%);stroke-opacity:1;stroke-miterlimit:10;\" d=\"M 209.9375 328.773438 C 209.9375 334.296875 205.460938 338.773438 199.9375 338.773438 C 194.414063 338.773438 189.9375 334.296875 189.9375 328.773438 C 189.9375 323.25 194.414063 318.773438 199.9375 318.773438 C 205.460938 318.773438 209.9375 323.25 209.9375 328.773438 \"/>\n",
       "<path style=\"fill-rule:nonzero;fill:rgb(100%,0%,0%);fill-opacity:1;stroke-width:1;stroke-linecap:butt;stroke-linejoin:miter;stroke:rgb(0%,0%,0%);stroke-opacity:1;stroke-miterlimit:10;\" d=\"M 301.980469 412.820313 C 301.980469 418.34375 297.503906 422.820313 291.980469 422.820313 C 286.457031 422.820313 281.980469 418.34375 281.980469 412.820313 C 281.980469 407.296875 286.457031 402.820313 291.980469 402.820313 C 297.503906 402.820313 301.980469 407.296875 301.980469 412.820313 \"/>\n",
       "<path style=\"fill-rule:nonzero;fill:rgb(100%,0%,0%);fill-opacity:1;stroke-width:1;stroke-linecap:butt;stroke-linejoin:miter;stroke:rgb(0%,0%,0%);stroke-opacity:1;stroke-miterlimit:10;\" d=\"M 445.117188 248.082031 C 445.117188 253.605469 440.640625 258.082031 435.117188 258.082031 C 429.59375 258.082031 425.117188 253.605469 425.117188 248.082031 C 425.117188 242.558594 429.59375 238.082031 435.117188 238.082031 C 440.640625 238.082031 445.117188 242.558594 445.117188 248.082031 \"/>\n",
       "<path style=\"fill-rule:nonzero;fill:rgb(100%,0%,0%);fill-opacity:1;stroke-width:1;stroke-linecap:butt;stroke-linejoin:miter;stroke:rgb(0%,0%,0%);stroke-opacity:1;stroke-miterlimit:10;\" d=\"M 323.285156 223.75 C 323.285156 229.273438 318.808594 233.75 313.285156 233.75 C 307.761719 233.75 303.285156 229.273438 303.285156 223.75 C 303.285156 218.226563 307.761719 213.75 313.285156 213.75 C 318.808594 213.75 323.285156 218.226563 323.285156 223.75 \"/>\n",
       "<path style=\"fill-rule:nonzero;fill:rgb(100%,0%,0%);fill-opacity:1;stroke-width:1;stroke-linecap:butt;stroke-linejoin:miter;stroke:rgb(0%,0%,0%);stroke-opacity:1;stroke-miterlimit:10;\" d=\"M 182.691406 580 C 182.691406 585.523438 178.214844 590 172.691406 590 C 167.171875 590 162.691406 585.523438 162.691406 580 C 162.691406 574.476563 167.171875 570 172.691406 570 C 178.214844 570 182.691406 574.476563 182.691406 580 \"/>\n",
       "<path style=\"fill-rule:nonzero;fill:rgb(100%,0%,0%);fill-opacity:1;stroke-width:1;stroke-linecap:butt;stroke-linejoin:miter;stroke:rgb(0%,0%,0%);stroke-opacity:1;stroke-miterlimit:10;\" d=\"M 268.859375 20 C 268.859375 25.523438 264.382813 30 258.859375 30 C 253.335938 30 248.859375 25.523438 248.859375 20 C 248.859375 14.476563 253.335938 10 258.859375 10 C 264.382813 10 268.859375 14.476563 268.859375 20 \"/>\n",
       "<path style=\"fill-rule:nonzero;fill:rgb(100%,0%,0%);fill-opacity:1;stroke-width:1;stroke-linecap:butt;stroke-linejoin:miter;stroke:rgb(0%,0%,0%);stroke-opacity:1;stroke-miterlimit:10;\" d=\"M 590 374.523438 C 590 380.046875 585.523438 384.523438 580 384.523438 C 574.476563 384.523438 570 380.046875 570 374.523438 C 570 369 574.476563 364.523438 580 364.523438 C 585.523438 364.523438 590 369 590 374.523438 \"/>\n",
       "<path style=\"fill-rule:nonzero;fill:rgb(100%,0%,0%);fill-opacity:1;stroke-width:1;stroke-linecap:butt;stroke-linejoin:miter;stroke:rgb(0%,0%,0%);stroke-opacity:1;stroke-miterlimit:10;\" d=\"M 30 146.835938 C 30 152.359375 25.523438 156.835938 20 156.835938 C 14.476563 156.835938 10 152.359375 10 146.835938 C 10 141.3125 14.476563 136.835938 20 136.835938 C 25.523438 136.835938 30 141.3125 30 146.835938 \"/>\n",
       "<path style=\"fill-rule:nonzero;fill:rgb(100%,0%,0%);fill-opacity:1;stroke-width:1;stroke-linecap:butt;stroke-linejoin:miter;stroke:rgb(0%,0%,0%);stroke-opacity:1;stroke-miterlimit:10;\" d=\"M 505.253906 489.503906 C 505.253906 495.027344 500.777344 499.503906 495.253906 499.503906 C 489.730469 499.503906 485.253906 495.027344 485.253906 489.503906 C 485.253906 483.980469 489.730469 479.503906 495.253906 479.503906 C 500.777344 479.503906 505.253906 483.980469 505.253906 489.503906 \"/>\n",
       "<path style=\"fill-rule:nonzero;fill:rgb(100%,0%,0%);fill-opacity:1;stroke-width:1;stroke-linecap:butt;stroke-linejoin:miter;stroke:rgb(0%,0%,0%);stroke-opacity:1;stroke-miterlimit:10;\" d=\"M 574.351563 45.460938 C 574.351563 50.984375 569.875 55.460938 564.351563 55.460938 C 558.828125 55.460938 554.351563 50.984375 554.351563 45.460938 C 554.351563 39.9375 558.828125 35.460938 564.351563 35.460938 C 569.875 35.460938 574.351563 39.9375 574.351563 45.460938 \"/>\n",
       "</g>\n",
       "</svg>\n"
      ],
      "text/plain": [
       "<igraph.drawing.Plot at 0x2267d217240>"
      ]
     },
     "execution_count": 95,
     "metadata": {
      "image/svg+xml": {
       "isolated": true
      }
     },
     "output_type": "execute_result"
    }
   ],
   "source": [
    "def transpose(m):\n",
    "    \"\"\"transpose a ig Matrix m\"\"\"\n",
    "    \n",
    "    # initialize transpose\n",
    "    m_transpose = ig.Matrix.Zero(p)\n",
    "\n",
    "    for i, row in enumerate(m.data):\n",
    "        for j, entry in enumerate(row):\n",
    "            m_transpose.__setitem__((j, i), entry)\n",
    "    \n",
    "    return m_transpose\n",
    "\n",
    "G_2 = ig.Graph.Adjacency(matrix.T)\n",
    "ig.plot(G_2)"
   ]
  },
  {
   "cell_type": "code",
   "execution_count": 109,
   "id": "ceb2b041",
   "metadata": {},
   "outputs": [
    {
     "data": {
      "text/plain": [
       "{'fdr': 0.5777777777777777,\n",
       " 'tpr': 0.6333333333333333,\n",
       " 'fpr': 1.7333333333333334,\n",
       " 'shd': 26,\n",
       " 'nnz': 45}"
      ]
     },
     "execution_count": 109,
     "metadata": {},
     "output_type": "execute_result"
    },
    {
     "data": {
      "image/png": "[encoded data removed]",
      "text/plain": [
       "<Figure size 432x288 with 1 Axes>"
      ]
     },
     "metadata": {
      "needs_background": "light"
     },
     "output_type": "display_data"
    }
   ],
   "source": [
    "W_true = utils.simulate_parameter(matrix.T)\n",
    "X = utils.simulate_linear_sem(W_true, 100000, \"gauss\")\n",
    "plt.plot(X)\n",
    "\n",
    "W_OMP, _ = m._K_OMP(X, X, is_sem = True, F = [], normalize = True)\n",
    "utils.count_accuracy(W_true !=0, W_OMP != 0)"
   ]
  }
 ],
 "metadata": {
  "kernelspec": {
   "display_name": "Python 3.6.8 64-bit",
   "language": "python",
   "name": "python36864bit874e3a48d9b148faaa09714964fd179b"
  },
  "language_info": {
   "codemirror_mode": {
    "name": "ipython",
    "version": 3
   },
   "file_extension": ".py",
   "mimetype": "text/x-python",
   "name": "python",
   "nbconvert_exporter": "python",
   "pygments_lexer": "ipython3",
   "version": "3.6.8"
  }
 },
 "nbformat": 4,
 "nbformat_minor": 5
}
