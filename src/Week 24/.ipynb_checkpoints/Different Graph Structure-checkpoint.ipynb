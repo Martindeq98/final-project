{
 "cells": [
  {
   "cell_type": "markdown",
   "id": "7f7ca05f",
   "metadata": {},
   "source": [
    "### Different graph structure, Scale Free (SF) Graph"
   ]
  },
  {
   "cell_type": "code",
   "execution_count": 1,
   "id": "d152642d",
   "metadata": {},
   "outputs": [],
   "source": [
    "import igraph as ig"
   ]
  },
  {
   "cell_type": "code",
   "execution_count": 4,
   "id": "8b3d741b",
   "metadata": {},
   "outputs": [
    {
     "data": {
      "image/svg+xml": [
       "<?xml version=\"1.0\" encoding=\"UTF-8\"?>\n",
       "<svg xmlns=\"http://www.w3.org/2000/svg\" xmlns:xlink=\"http://www.w3.org/1999/xlink\" width=\"600pt\" height=\"600pt\" viewBox=\"0 0 600 600\" version=\"1.1\">\n",
       "<g id=\"surface14\">\n",
       "<rect x=\"0\" y=\"0\" width=\"600\" height=\"600\" style=\"fill:rgb(100%,100%,100%);fill-opacity:1;stroke:none;\"/>\n",
       "<path style=\"fill:none;stroke-width:1;stroke-linecap:butt;stroke-linejoin:miter;stroke:rgb(26.666667%,26.666667%,26.666667%);stroke-opacity:1;stroke-miterlimit:10;\" d=\"M 130.242188 242.007813 L 267.660156 406.160156 \"/>\n",
       "<path style=\" stroke:none;fill-rule:nonzero;fill:rgb(26.666667%,26.666667%,26.666667%);fill-opacity:1;\" d=\"M 276.816406 417.101563 L 264.105469 409.136719 L 271.214844 403.1875 L 276.816406 417.101563 \"/>\n",
       "<path style=\"fill:none;stroke-width:1;stroke-linecap:butt;stroke-linejoin:miter;stroke:rgb(26.666667%,26.666667%,26.666667%);stroke-opacity:1;stroke-miterlimit:10;\" d=\"M 316.917969 312.160156 L 290.191406 401.519531 \"/>\n",
       "<path style=\" stroke:none;fill-rule:nonzero;fill:rgb(26.666667%,26.666667%,26.666667%);fill-opacity:1;\" d=\"M 286.101563 415.1875 L 285.75 400.191406 L 294.628906 402.847656 L 286.101563 415.1875 \"/>\n",
       "<path style=\"fill:none;stroke-width:1;stroke-linecap:butt;stroke-linejoin:miter;stroke:rgb(26.666667%,26.666667%,26.666667%);stroke-opacity:1;stroke-miterlimit:10;\" d=\"M 316.917969 312.160156 L 152.960938 250.542969 \"/>\n",
       "<path style=\" stroke:none;fill-rule:nonzero;fill:rgb(26.666667%,26.666667%,26.666667%);fill-opacity:1;\" d=\"M 139.605469 245.527344 L 154.589844 246.207031 L 151.328125 254.882813 L 139.605469 245.527344 \"/>\n",
       "<path style=\"fill:none;stroke-width:1;stroke-linecap:butt;stroke-linejoin:miter;stroke:rgb(26.666667%,26.666667%,26.666667%);stroke-opacity:1;stroke-miterlimit:10;\" d=\"M 279.828125 211.070313 L 282.847656 400.503906 \"/>\n",
       "<path style=\" stroke:none;fill-rule:nonzero;fill:rgb(26.666667%,26.666667%,26.666667%);fill-opacity:1;\" d=\"M 283.078125 414.769531 L 278.214844 400.578125 L 287.484375 400.429688 L 283.078125 414.769531 \"/>\n",
       "<path style=\"fill:none;stroke-width:1;stroke-linecap:butt;stroke-linejoin:miter;stroke:rgb(26.666667%,26.666667%,26.666667%);stroke-opacity:1;stroke-miterlimit:10;\" d=\"M 279.828125 211.070313 L 154.007813 237.09375 \"/>\n",
       "<path style=\" stroke:none;fill-rule:nonzero;fill:rgb(26.666667%,26.666667%,26.666667%);fill-opacity:1;\" d=\"M 140.035156 239.984375 L 153.066406 232.554688 L 154.945313 241.632813 L 140.035156 239.984375 \"/>\n",
       "<path style=\"fill:none;stroke-width:1;stroke-linecap:butt;stroke-linejoin:miter;stroke:rgb(26.666667%,26.666667%,26.666667%);stroke-opacity:1;stroke-miterlimit:10;\" d=\"M 279.828125 211.070313 L 308.558594 289.378906 \"/>\n",
       "<path style=\" stroke:none;fill-rule:nonzero;fill:rgb(26.666667%,26.666667%,26.666667%);fill-opacity:1;\" d=\"M 313.472656 302.769531 L 304.207031 290.976563 L 312.910156 287.78125 L 313.472656 302.769531 \"/>\n",
       "<path style=\"fill:none;stroke-width:1;stroke-linecap:butt;stroke-linejoin:miter;stroke:rgb(26.666667%,26.666667%,26.666667%);stroke-opacity:1;stroke-miterlimit:10;\" d=\"M 20 414.550781 L 260.722656 226.03125 \"/>\n",
       "<path style=\" stroke:none;fill-rule:nonzero;fill:rgb(26.666667%,26.666667%,26.666667%);fill-opacity:1;\" d=\"M 271.953125 217.234375 L 263.582031 229.679688 L 257.867188 222.382813 L 271.953125 217.234375 \"/>\n",
       "<path style=\"fill:none;stroke-width:1;stroke-linecap:butt;stroke-linejoin:miter;stroke:rgb(26.666667%,26.666667%,26.666667%);stroke-opacity:1;stroke-miterlimit:10;\" d=\"M 20 414.550781 L 117.179688 262.457031 \"/>\n",
       "<path style=\" stroke:none;fill-rule:nonzero;fill:rgb(26.666667%,26.666667%,26.666667%);fill-opacity:1;\" d=\"M 124.859375 250.433594 L 121.085938 264.953125 L 113.273438 259.960938 L 124.859375 250.433594 \"/>\n",
       "<path style=\"fill:none;stroke-width:1;stroke-linecap:butt;stroke-linejoin:miter;stroke:rgb(26.666667%,26.666667%,26.666667%);stroke-opacity:1;stroke-miterlimit:10;\" d=\"M 20 414.550781 L 258.988281 423.828125 \"/>\n",
       "<path style=\" stroke:none;fill-rule:nonzero;fill:rgb(26.666667%,26.666667%,26.666667%);fill-opacity:1;\" d=\"M 273.242188 424.378906 L 258.808594 428.457031 L 259.167969 419.195313 L 273.242188 424.378906 \"/>\n",
       "<path style=\"fill:none;stroke-width:1;stroke-linecap:butt;stroke-linejoin:miter;stroke:rgb(26.666667%,26.666667%,26.666667%);stroke-opacity:1;stroke-miterlimit:10;\" d=\"M 241.898438 48.875 L 310.269531 288.820313 \"/>\n",
       "<path style=\" stroke:none;fill-rule:nonzero;fill:rgb(26.666667%,26.666667%,26.666667%);fill-opacity:1;\" d=\"M 314.179688 302.542969 L 305.8125 290.09375 L 314.726563 287.550781 L 314.179688 302.542969 \"/>\n",
       "<path style=\"fill:none;stroke-width:1;stroke-linecap:butt;stroke-linejoin:miter;stroke:rgb(26.666667%,26.666667%,26.666667%);stroke-opacity:1;stroke-miterlimit:10;\" d=\"M 241.898438 48.875 L 274.300781 187.441406 \"/>\n",
       "<path style=\" stroke:none;fill-rule:nonzero;fill:rgb(26.666667%,26.666667%,26.666667%);fill-opacity:1;\" d=\"M 277.550781 201.332031 L 269.789063 188.496094 L 278.816406 186.386719 L 277.550781 201.332031 \"/>\n",
       "<path style=\"fill:none;stroke-width:1;stroke-linecap:butt;stroke-linejoin:miter;stroke:rgb(26.666667%,26.666667%,26.666667%);stroke-opacity:1;stroke-miterlimit:10;\" d=\"M 241.898438 48.875 L 142.390625 221 \"/>\n",
       "<path style=\" stroke:none;fill-rule:nonzero;fill:rgb(26.666667%,26.666667%,26.666667%);fill-opacity:1;\" d=\"M 135.25 233.351563 L 138.375 218.679688 L 146.402344 223.320313 L 135.25 233.351563 \"/>\n",
       "<path style=\"fill:none;stroke-width:1;stroke-linecap:butt;stroke-linejoin:miter;stroke:rgb(26.666667%,26.666667%,26.666667%);stroke-opacity:1;stroke-miterlimit:10;\" d=\"M 580 268.109375 L 304.695313 413.441406 \"/>\n",
       "<path style=\" stroke:none;fill-rule:nonzero;fill:rgb(26.666667%,26.666667%,26.666667%);fill-opacity:1;\" d=\"M 292.078125 420.097656 L 302.53125 409.339844 L 306.859375 417.539063 L 292.078125 420.097656 \"/>\n",
       "<path style=\"fill:none;stroke-width:1;stroke-linecap:butt;stroke-linejoin:miter;stroke:rgb(26.666667%,26.666667%,26.666667%);stroke-opacity:1;stroke-miterlimit:10;\" d=\"M 580 268.109375 L 340.851563 308.152344 \"/>\n",
       "<path style=\" stroke:none;fill-rule:nonzero;fill:rgb(26.666667%,26.666667%,26.666667%);fill-opacity:1;\" d=\"M 326.78125 310.507813 L 340.085938 303.582031 L 341.617188 312.722656 L 326.78125 310.507813 \"/>\n",
       "<path style=\"fill:none;stroke-width:1;stroke-linecap:butt;stroke-linejoin:miter;stroke:rgb(26.666667%,26.666667%,26.666667%);stroke-opacity:1;stroke-miterlimit:10;\" d=\"M 580 268.109375 L 303.667969 215.601563 \"/>\n",
       "<path style=\" stroke:none;fill-rule:nonzero;fill:rgb(26.666667%,26.666667%,26.666667%);fill-opacity:1;\" d=\"M 289.652344 212.9375 L 304.53125 211.046875 L 302.800781 220.152344 L 289.652344 212.9375 \"/>\n",
       "<path style=\"fill:none;stroke-width:1;stroke-linecap:butt;stroke-linejoin:miter;stroke:rgb(26.666667%,26.666667%,26.666667%);stroke-opacity:1;stroke-miterlimit:10;\" d=\"M 150.164063 580 L 267.441406 443.191406 \"/>\n",
       "<path style=\" stroke:none;fill-rule:nonzero;fill:rgb(26.666667%,26.666667%,26.666667%);fill-opacity:1;\" d=\"M 276.726563 432.359375 L 270.960938 446.207031 L 263.921875 440.175781 L 276.726563 432.359375 \"/>\n",
       "<path style=\"fill:none;stroke-width:1;stroke-linecap:butt;stroke-linejoin:miter;stroke:rgb(26.666667%,26.666667%,26.666667%);stroke-opacity:1;stroke-miterlimit:10;\" d=\"M 150.164063 580 L 304.09375 332.757813 \"/>\n",
       "<path style=\" stroke:none;fill-rule:nonzero;fill:rgb(26.666667%,26.666667%,26.666667%);fill-opacity:1;\" d=\"M 311.632813 320.648438 L 308.027344 335.207031 L 300.160156 330.308594 L 311.632813 320.648438 \"/>\n",
       "<path style=\"fill:none;stroke-width:1;stroke-linecap:butt;stroke-linejoin:miter;stroke:rgb(26.666667%,26.666667%,26.666667%);stroke-opacity:1;stroke-miterlimit:10;\" d=\"M 150.164063 580 L 35.003906 433.621094 \"/>\n",
       "<path style=\" stroke:none;fill-rule:nonzero;fill:rgb(26.666667%,26.666667%,26.666667%);fill-opacity:1;\" d=\"M 26.183594 422.410156 L 38.648438 430.757813 L 31.359375 436.488281 L 26.183594 422.410156 \"/>\n",
       "<path style=\"fill:none;stroke-width:1;stroke-linecap:butt;stroke-linejoin:miter;stroke:rgb(26.666667%,26.666667%,26.666667%);stroke-opacity:1;stroke-miterlimit:10;\" d=\"M 470.917969 396.5625 L 152.34375 252.035156 \"/>\n",
       "<path style=\" stroke:none;fill-rule:nonzero;fill:rgb(26.666667%,26.666667%,26.666667%);fill-opacity:1;\" d=\"M 139.351563 246.140625 L 154.257813 247.8125 L 150.425781 256.253906 L 139.351563 246.140625 \"/>\n",
       "<path style=\"fill:none;stroke-width:1;stroke-linecap:butt;stroke-linejoin:miter;stroke:rgb(26.666667%,26.666667%,26.666667%);stroke-opacity:1;stroke-miterlimit:10;\" d=\"M 470.917969 396.5625 L 297.238281 227.972656 \"/>\n",
       "<path style=\" stroke:none;fill-rule:nonzero;fill:rgb(26.666667%,26.666667%,26.666667%);fill-opacity:1;\" d=\"M 287.003906 218.035156 L 300.46875 224.644531 L 294.011719 231.296875 L 287.003906 218.035156 \"/>\n",
       "<path style=\"fill:none;stroke-width:1;stroke-linecap:butt;stroke-linejoin:miter;stroke:rgb(26.666667%,26.666667%,26.666667%);stroke-opacity:1;stroke-miterlimit:10;\" d=\"M 470.917969 396.5625 L 307.230469 421.160156 \"/>\n",
       "<path style=\" stroke:none;fill-rule:nonzero;fill:rgb(26.666667%,26.666667%,26.666667%);fill-opacity:1;\" d=\"M 293.125 423.28125 L 306.542969 416.578125 L 307.921875 425.746094 L 293.125 423.28125 \"/>\n",
       "<path style=\"fill:none;stroke-width:1;stroke-linecap:butt;stroke-linejoin:miter;stroke:rgb(26.666667%,26.666667%,26.666667%);stroke-opacity:1;stroke-miterlimit:10;\" d=\"M 32.0625 20 L 217.859375 45.566406 \"/>\n",
       "<path style=\" stroke:none;fill-rule:nonzero;fill:rgb(26.666667%,26.666667%,26.666667%);fill-opacity:1;\" d=\"M 231.992188 47.511719 L 217.226563 50.15625 L 218.492188 40.972656 L 231.992188 47.511719 \"/>\n",
       "<path style=\"fill:none;stroke-width:1;stroke-linecap:butt;stroke-linejoin:miter;stroke:rgb(26.666667%,26.666667%,26.666667%);stroke-opacity:1;stroke-miterlimit:10;\" d=\"M 32.0625 20 L 260.613281 196.25 \"/>\n",
       "<path style=\" stroke:none;fill-rule:nonzero;fill:rgb(26.666667%,26.666667%,26.666667%);fill-opacity:1;\" d=\"M 271.910156 204.964844 L 257.78125 199.921875 L 263.441406 192.582031 L 271.910156 204.964844 \"/>\n",
       "<path style=\"fill:none;stroke-width:1;stroke-linecap:butt;stroke-linejoin:miter;stroke:rgb(26.666667%,26.666667%,26.666667%);stroke-opacity:1;stroke-miterlimit:10;\" d=\"M 32.0625 20 L 120.429688 219.816406 \"/>\n",
       "<path style=\" stroke:none;fill-rule:nonzero;fill:rgb(26.666667%,26.666667%,26.666667%);fill-opacity:1;\" d=\"M 126.199219 232.863281 L 116.191406 221.691406 L 124.667969 217.941406 L 126.199219 232.863281 \"/>\n",
       "<path style=\"fill-rule:nonzero;fill:rgb(100%,0%,0%);fill-opacity:1;stroke-width:1;stroke-linecap:butt;stroke-linejoin:miter;stroke:rgb(0%,0%,0%);stroke-opacity:1;stroke-miterlimit:10;\" d=\"M 293.234375 424.769531 C 293.234375 430.289063 288.757813 434.769531 283.234375 434.769531 C 277.710938 434.769531 273.234375 430.289063 273.234375 424.769531 C 273.234375 419.246094 277.710938 414.769531 283.234375 414.769531 C 288.757813 414.769531 293.234375 419.246094 293.234375 424.769531 \"/>\n",
       "<path style=\"fill-rule:nonzero;fill:rgb(100%,0%,0%);fill-opacity:1;stroke-width:1;stroke-linecap:butt;stroke-linejoin:miter;stroke:rgb(0%,0%,0%);stroke-opacity:1;stroke-miterlimit:10;\" d=\"M 140.242188 242.007813 C 140.242188 247.53125 135.765625 252.007813 130.242188 252.007813 C 124.722656 252.007813 120.242188 247.53125 120.242188 242.007813 C 120.242188 236.484375 124.722656 232.007813 130.242188 232.007813 C 135.765625 232.007813 140.242188 236.484375 140.242188 242.007813 \"/>\n",
       "<path style=\"fill-rule:nonzero;fill:rgb(100%,0%,0%);fill-opacity:1;stroke-width:1;stroke-linecap:butt;stroke-linejoin:miter;stroke:rgb(0%,0%,0%);stroke-opacity:1;stroke-miterlimit:10;\" d=\"M 326.917969 312.160156 C 326.917969 317.683594 322.441406 322.160156 316.917969 322.160156 C 311.394531 322.160156 306.917969 317.683594 306.917969 312.160156 C 306.917969 306.636719 311.394531 302.160156 316.917969 302.160156 C 322.441406 302.160156 326.917969 306.636719 326.917969 312.160156 \"/>\n",
       "<path style=\"fill-rule:nonzero;fill:rgb(100%,0%,0%);fill-opacity:1;stroke-width:1;stroke-linecap:butt;stroke-linejoin:miter;stroke:rgb(0%,0%,0%);stroke-opacity:1;stroke-miterlimit:10;\" d=\"M 289.828125 211.070313 C 289.828125 216.59375 285.351563 221.070313 279.828125 221.070313 C 274.304688 221.070313 269.828125 216.59375 269.828125 211.070313 C 269.828125 205.546875 274.304688 201.070313 279.828125 201.070313 C 285.351563 201.070313 289.828125 205.546875 289.828125 211.070313 \"/>\n",
       "<path style=\"fill-rule:nonzero;fill:rgb(100%,0%,0%);fill-opacity:1;stroke-width:1;stroke-linecap:butt;stroke-linejoin:miter;stroke:rgb(0%,0%,0%);stroke-opacity:1;stroke-miterlimit:10;\" d=\"M 30 414.550781 C 30 420.074219 25.523438 424.550781 20 424.550781 C 14.476563 424.550781 10 420.074219 10 414.550781 C 10 409.027344 14.476563 404.550781 20 404.550781 C 25.523438 404.550781 30 409.027344 30 414.550781 \"/>\n",
       "<path style=\"fill-rule:nonzero;fill:rgb(100%,0%,0%);fill-opacity:1;stroke-width:1;stroke-linecap:butt;stroke-linejoin:miter;stroke:rgb(0%,0%,0%);stroke-opacity:1;stroke-miterlimit:10;\" d=\"M 251.898438 48.875 C 251.898438 54.398438 247.421875 58.875 241.898438 58.875 C 236.375 58.875 231.898438 54.398438 231.898438 48.875 C 231.898438 43.351563 236.375 38.875 241.898438 38.875 C 247.421875 38.875 251.898438 43.351563 251.898438 48.875 \"/>\n",
       "<path style=\"fill-rule:nonzero;fill:rgb(100%,0%,0%);fill-opacity:1;stroke-width:1;stroke-linecap:butt;stroke-linejoin:miter;stroke:rgb(0%,0%,0%);stroke-opacity:1;stroke-miterlimit:10;\" d=\"M 590 268.109375 C 590 273.632813 585.523438 278.109375 580 278.109375 C 574.476563 278.109375 570 273.632813 570 268.109375 C 570 262.585938 574.476563 258.109375 580 258.109375 C 585.523438 258.109375 590 262.585938 590 268.109375 \"/>\n",
       "<path style=\"fill-rule:nonzero;fill:rgb(100%,0%,0%);fill-opacity:1;stroke-width:1;stroke-linecap:butt;stroke-linejoin:miter;stroke:rgb(0%,0%,0%);stroke-opacity:1;stroke-miterlimit:10;\" d=\"M 160.164063 580 C 160.164063 585.523438 155.6875 590 150.164063 590 C 144.640625 590 140.164063 585.523438 140.164063 580 C 140.164063 574.476563 144.640625 570 150.164063 570 C 155.6875 570 160.164063 574.476563 160.164063 580 \"/>\n",
       "<path style=\"fill-rule:nonzero;fill:rgb(100%,0%,0%);fill-opacity:1;stroke-width:1;stroke-linecap:butt;stroke-linejoin:miter;stroke:rgb(0%,0%,0%);stroke-opacity:1;stroke-miterlimit:10;\" d=\"M 480.917969 396.5625 C 480.917969 402.085938 476.441406 406.5625 470.917969 406.5625 C 465.398438 406.5625 460.917969 402.085938 460.917969 396.5625 C 460.917969 391.039063 465.398438 386.5625 470.917969 386.5625 C 476.441406 386.5625 480.917969 391.039063 480.917969 396.5625 \"/>\n",
       "<path style=\"fill-rule:nonzero;fill:rgb(100%,0%,0%);fill-opacity:1;stroke-width:1;stroke-linecap:butt;stroke-linejoin:miter;stroke:rgb(0%,0%,0%);stroke-opacity:1;stroke-miterlimit:10;\" d=\"M 42.0625 20 C 42.0625 25.523438 37.585938 30 32.0625 30 C 26.539063 30 22.0625 25.523438 22.0625 20 C 22.0625 14.476563 26.539063 10 32.0625 10 C 37.585938 10 42.0625 14.476563 42.0625 20 \"/>\n",
       "</g>\n",
       "</svg>\n"
      ],
      "text/plain": [
       "<igraph.drawing.Plot at 0x22669ac22b0>"
      ]
     },
     "execution_count": 4,
     "metadata": {
      "image/svg+xml": {
       "isolated": true
      }
     },
     "output_type": "execute_result"
    }
   ],
   "source": [
    "p, edge_per_var = 10, 3\n",
    "s0 = p * edge_per_var\n",
    "\n",
    "G = ig.Graph.Barabasi(n=p, m=int(round(s0 / p)), directed=True)\n",
    "\n",
    "ig.plot(G)"
   ]
  },
  {
   "cell_type": "code",
   "execution_count": 8,
   "id": "3b7c6832",
   "metadata": {},
   "outputs": [],
   "source": [
    "m = G.get_adjacency()"
   ]
  },
  {
   "cell_type": "code",
   "execution_count": 46,
   "id": "6c391f71",
   "metadata": {},
   "outputs": [
    {
     "name": "stdout",
     "output_type": "stream",
     "text": [
      "[[0, 0, 0, 0, 0, 0, 0, 0, 0, 0]\n",
      " [1, 0, 0, 0, 0, 0, 0, 0, 0, 0]\n",
      " [1, 1, 0, 0, 0, 0, 0, 0, 0, 0]\n",
      " [1, 1, 1, 0, 0, 0, 0, 0, 0, 0]\n",
      " [1, 1, 0, 1, 0, 0, 0, 0, 0, 0]\n",
      " [0, 1, 1, 1, 0, 0, 0, 0, 0, 0]\n",
      " [1, 0, 1, 1, 0, 0, 0, 0, 0, 0]\n",
      " [1, 0, 1, 0, 1, 0, 0, 0, 0, 0]\n",
      " [1, 1, 0, 1, 0, 0, 0, 0, 0, 0]\n",
      " [0, 1, 0, 1, 0, 1, 0, 0, 0, 0]]\n",
      "[[0, 1, 1, 1, 1, 0, 1, 1, 1, 0]\n",
      " [0, 0, 1, 1, 1, 1, 0, 0, 1, 1]\n",
      " [0, 0, 0, 1, 0, 1, 1, 1, 0, 0]\n",
      " [0, 0, 0, 0, 1, 1, 1, 0, 1, 1]\n",
      " [0, 0, 0, 0, 0, 0, 0, 1, 0, 0]\n",
      " [0, 0, 0, 0, 0, 0, 0, 0, 0, 1]\n",
      " [0, 0, 0, 0, 0, 0, 0, 0, 0, 0]\n",
      " [0, 0, 0, 0, 0, 0, 0, 0, 0, 0]\n",
      " [0, 0, 0, 0, 0, 0, 0, 0, 0, 0]\n",
      " [0, 0, 0, 0, 0, 0, 0, 0, 0, 0]]\n",
      "[[0, 0, 0, 0, 0, 0, 0, 0, 0, 0]\n",
      " [0, 0, 0, 0, 0, 0, 0, 0, 0, 0]\n",
      " [0, 0, 0, 0, 0, 0, 0, 0, 0, 0]\n",
      " [0, 0, 0, 0, 0, 0, 0, 0, 0, 0]\n",
      " [0, 0, 0, 0, 0, 0, 0, 0, 0, 0]\n",
      " [0, 0, 0, 0, 0, 0, 0, 0, 0, 0]\n",
      " [0, 0, 0, 0, 0, 0, 0, 0, 0, 0]\n",
      " [0, 0, 0, 0, 0, 0, 0, 0, 0, 0]\n",
      " [0, 0, 0, 0, 0, 0, 0, 0, 0, 0]\n",
      " [0, 0, 0, 0, 0, 0, 0, 0, 0, 0]]\n"
     ]
    }
   ],
   "source": [
    "def transpose(Matrix m):\n",
    "    \"\"\"transpose a ig Matrix m\"\"\"\n",
    "    \n",
    "    # get data\n",
    "    m_data = m.data\n",
    "\n",
    "    m_transpose = ig.Matrix.Zero(p)\n",
    "\n",
    "    for i, row in enumerate(m.data):\n",
    "        for j, entry in enumerate(row):\n",
    "            m_transpose.__setitem__((j, i), entry)\n",
    "    \n",
    "print(m_transpose)\n",
    "print(m_transpose_2)"
   ]
  }
 ],
 "metadata": {
  "kernelspec": {
   "display_name": "Python 3.6.8 64-bit",
   "language": "python",
   "name": "python36864bit874e3a48d9b148faaa09714964fd179b"
  },
  "language_info": {
   "codemirror_mode": {
    "name": "ipython",
    "version": 3
   },
   "file_extension": ".py",
   "mimetype": "text/x-python",
   "name": "python",
   "nbconvert_exporter": "python",
   "pygments_lexer": "ipython3",
   "version": "3.6.8"
  }
 },
 "nbformat": 4,
 "nbformat_minor": 5
}
