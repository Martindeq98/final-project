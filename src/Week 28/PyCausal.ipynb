{
 "cells": [
  {
   "cell_type": "code",
   "execution_count": 31,
   "id": "176edf5f",
   "metadata": {},
   "outputs": [],
   "source": [
    "import pycausal\n",
    "import pandas as pd\n",
    "import sys\n",
    "import pydot\n",
    "\n",
    "from pycausal.pycausal import pycausal as pc\n",
    "from pycausal import search as s\n",
    "\n",
    "import sys\n",
    "sys.path.append(\"..\")\n",
    "from notears.notears.notears import utils\n",
    "\n",
    "from IPython.display import SVG\n",
    "\n",
    "import numpy as np"
   ]
  },
  {
   "cell_type": "code",
   "execution_count": 33,
   "id": "9a2c375b",
   "metadata": {},
   "outputs": [],
   "source": [
    "import cdt\n",
    "import networkx as nx\n",
    "import pandas as pd\n",
    "\n",
    "data, graph = cdt.data.load_dataset('sachs')\n",
    "B_true_2 = np.array(nx.adjacency_matrix(graph).todense())"
   ]
  },
  {
   "cell_type": "code",
   "execution_count": 76,
   "id": "f1cbbfd7",
   "metadata": {},
   "outputs": [],
   "source": [
    "data_dir = \"https://raw.githubusercontent.com/bd2kccd/py-causal/master/data/charity.txt\"\n",
    "df = pd.read_table(data_dir, sep=\"\\t\")"
   ]
  },
  {
   "cell_type": "code",
   "execution_count": 3,
   "id": "a9f98b5b",
   "metadata": {},
   "outputs": [],
   "source": [
    "pc = pc()\n",
    "pc.start_vm()"
   ]
  },
  {
   "cell_type": "code",
   "execution_count": 4,
   "id": "1352dd8d",
   "metadata": {},
   "outputs": [],
   "source": [
    "tetrad = s.tetradrunner()"
   ]
  },
  {
   "cell_type": "code",
   "execution_count": 5,
   "id": "1f079465",
   "metadata": {},
   "outputs": [
    {
     "name": "stdout",
     "output_type": "stream",
     "text": [
      "bdeu-score\n",
      "cci-score\n",
      "cg-bic-score\n",
      "cg-other-bic-score\n",
      "d-sep-score\n",
      "degen-gauss-bic\n",
      "disc-bic-score\n",
      "disc-mixed-bic-score\n",
      "mnlr-bic-score\n",
      "mvp-bic-score\n",
      "sem-bic\n"
     ]
    }
   ],
   "source": [
    "tetrad.listScores()"
   ]
  },
  {
   "cell_type": "code",
   "execution_count": 12,
   "id": "f56b9bbd",
   "metadata": {},
   "outputs": [
    {
     "name": "stdout",
     "output_type": "stream",
     "text": [
      "faithfulnessAssumed: This is a parameter for FGES (“Fast GES”). If this is set to ‘Yes’, it will be assumed that if X _||_ Y, by an independence test, then X _||_ Y | Z for nonempty Z. If the model is faithful to the data, this will necessarily be the case. However, there are some non-faithful examples one can propose where this is not the case. If one is worried about this kind of unfaithfulness, one should set this parameter to ‘No’. If one is willing to tolerate this kind of unfaithfulness, then setting this parameter to ‘Yes’ leads to significantly faster searches. (java.lang.Boolean) [default:true]\n",
      "symmetricFirstStep: For discrete searches, and in some other situations, it may make a difference for an edge X—Y whether you score X->Y or X<-Y, even though theoretically they should have the same score. If this parameter is set to “Yes”, both scores will be calculated and the higher score used. (Recall we are calculating BIC as 2L – c k ln N, where c is the penalty discount.) (java.lang.Boolean) [default:false]\n",
      "maxDegree: It is possible for a random graph to have a single node with very high degree—i.e. number of adjacent edges. This parameter places an upper bound on the maximum such degree. If no limit is to be placed on the maximum degree, use the value -1. (java.lang.Integer) [default:100]\n",
      "verbose: If this parameter is set to ‘Yes’, extra (“verbose”) output will be printed if available giving some details about the step-by-step operation of the algorithm. (java.lang.Boolean) [default:true]\n"
     ]
    }
   ],
   "source": [
    "# tetrad.getAlgorithmParameters(algoId = 'fges', scoreId = 'sem-bic')"
   ]
  },
  {
   "cell_type": "code",
   "execution_count": 18,
   "id": "fe8935bc",
   "metadata": {},
   "outputs": [],
   "source": [
    "tetrad.run(algoId = 'fges', dfs = data, maxDegree = -1, faithfulnessAssumed = True, verbose = True)"
   ]
  },
  {
   "cell_type": "code",
   "execution_count": 24,
   "id": "bb50450e",
   "metadata": {},
   "outputs": [],
   "source": [
    "dot_str = pc.tetradGraphToDot(tetrad.getTetradGraph())\n",
    "graphs = pydot.graph_from_dot_data(dot_str)\n",
    "svg_str = graphs[0].create_svg()\n",
    "SVG(svg_str)\n",
    "G_GES = nx.drawing.nx_pydot.from_pydot(graphs[0])"
   ]
  },
  {
   "cell_type": "code",
   "execution_count": 34,
   "id": "6f69e9c8",
   "metadata": {},
   "outputs": [
    {
     "data": {
      "text/plain": [
       "{'fdr': 0.7428571428571429,\n",
       " 'tpr': 0.5,\n",
       " 'fpr': 0.7027027027027027,\n",
       " 'shd': 33,\n",
       " 'nnz': 35}"
      ]
     },
     "execution_count": 34,
     "metadata": {},
     "output_type": "execute_result"
    }
   ],
   "source": [
    "B_GES = nx.adjacency_matrix(G_GES).todense()\n",
    "utils.count_accuracy(B_true_2, B_GES)"
   ]
  },
  {
   "cell_type": "code",
   "execution_count": 12,
   "id": "ec448f37",
   "metadata": {},
   "outputs": [],
   "source": [
    "import cdt\n",
    "import networkx as nx"
   ]
  },
  {
   "cell_type": "code",
   "execution_count": 13,
   "id": "87ce2517",
   "metadata": {},
   "outputs": [
    {
     "name": "stdout",
     "output_type": "stream",
     "text": [
      "[[0 0 1 0 0]\n",
      " [0 0 0 0 1]\n",
      " [1 0 0 0 1]\n",
      " [0 0 0 0 1]\n",
      " [0 1 1 1 0]]\n"
     ]
    }
   ],
   "source": [
    "model = cdt.causality.graph.GES()\n",
    "output_graph = model.predict(df)\n",
    "print(nx.adjacency_matrix(output_graph).todense())"
   ]
  },
  {
   "cell_type": "code",
   "execution_count": 23,
   "id": "a66fd28e",
   "metadata": {},
   "outputs": [],
   "source": [
    "import sys\n",
    "sys.path.append(\"..\")\n",
    "\n",
    "from notears.notears.notears import utils\n",
    "from notears.notears.notears import linear\n",
    "\n",
    "import numpy as np"
   ]
  },
  {
   "cell_type": "code",
   "execution_count": 42,
   "id": "f26edd79",
   "metadata": {},
   "outputs": [
    {
     "name": "stdout",
     "output_type": "stream",
     "text": [
      "h: 1.2131646798252405e-09.\n",
      "rho: 100000000000.0.\n",
      "loss: (2.517075144088772, array([ 0.01994018,  0.08731709,  0.00906624, -0.03357818,  0.04984135,\n",
      "       -0.00170171,  0.02012402, -0.00024068, -0.01153043, -0.00020637,\n",
      "       -0.00139497,  0.02209305,  0.01974629, -0.00042375,  0.02764053,\n",
      "        0.00078235,  0.00207607, -0.00198867,  0.02174754, -0.00064124,\n",
      "       -0.00275653,  0.01746351, -0.00523709, -0.03180316,  0.02020474,\n",
      "       -0.01994018, -0.08731709, -0.00906624,  0.03357818, -0.04984135,\n",
      "        0.00170171, -0.02012402,  0.00024068,  0.01153043,  0.00020637,\n",
      "        0.00139497, -0.02209305, -0.01974629,  0.00042375, -0.02764053,\n",
      "       -0.00078235, -0.00207607,  0.00198867, -0.02174754,  0.00064124,\n",
      "        0.00275653, -0.01746351,  0.00523709,  0.03180316, -0.02020474])).\n",
      "[[ 0.   0.   0.   0.   0. ]\n",
      " [ 1.8  0.  -1.1  0.   1.3]\n",
      " [ 0.9  0.   0.   0.   0. ]\n",
      " [ 1.5 -0.6  1.8  0.  -0.8]\n",
      " [ 1.3  0.   1.5  0.   0. ]]\n"
     ]
    }
   ],
   "source": []
  },
  {
   "cell_type": "code",
   "execution_count": 39,
   "id": "e53f42fa",
   "metadata": {},
   "outputs": [
    {
     "name": "stdout",
     "output_type": "stream",
     "text": [
      "[4.0]\n"
     ]
    }
   ],
   "source": [
    "# graph = nx.from_numpy_matrix()\n",
    "scores = [SHD(B_true, output_graph)]\n",
    "print(scores)"
   ]
  },
  {
   "cell_type": "code",
   "execution_count": 41,
   "id": "d3a761e8",
   "metadata": {},
   "outputs": [
    {
     "name": "stdout",
     "output_type": "stream",
     "text": [
      "[[0 0 0 0 0]\n",
      " [1 0 1 0 1]\n",
      " [1 0 0 0 1]\n",
      " [1 0 1 0 0]\n",
      " [1 0 0 0 0]]\n",
      "[[0. 0. 0. 0. 0.]\n",
      " [1. 0. 1. 1. 1.]\n",
      " [1. 0. 0. 0. 0.]\n",
      " [1. 0. 1. 0. 0.]\n",
      " [1. 0. 1. 1. 0.]]\n",
      "[4.0]\n"
     ]
    }
   ],
   "source": [
    "model = cdt.causality.graph.GES()\n",
    "output_graph = model.predict(pd.DataFrame(X))\n",
    "print(nx.adjacency_matrix(output_graph).todense())\n",
    "\n",
    "from cdt.metrics import SHD\n",
    "print(B_true)\n",
    "scores = [SHD(B_true, output_graph)]\n",
    "print(scores)"
   ]
  },
  {
   "cell_type": "code",
   "execution_count": 17,
   "id": "14d6998f",
   "metadata": {},
   "outputs": [
    {
     "ename": "KeyError",
     "evalue": "'ges'",
     "output_type": "error",
     "traceback": [
      "\u001b[1;31m---------------------------------------------------------------------------\u001b[0m",
      "\u001b[1;31mKeyError\u001b[0m                                  Traceback (most recent call last)",
      "\u001b[1;32m<ipython-input-17-214b5d6fd78e>\u001b[0m in \u001b[0;36m<module>\u001b[1;34m\u001b[0m\n\u001b[0;32m      1\u001b[0m \u001b[0mtetrad\u001b[0m \u001b[1;33m=\u001b[0m \u001b[0ms\u001b[0m\u001b[1;33m.\u001b[0m\u001b[0mtetradrunner\u001b[0m\u001b[1;33m(\u001b[0m\u001b[1;33m)\u001b[0m\u001b[1;33m\u001b[0m\u001b[1;33m\u001b[0m\u001b[0m\n\u001b[1;32m----> 2\u001b[1;33m \u001b[0mtetrad\u001b[0m\u001b[1;33m.\u001b[0m\u001b[0mrun\u001b[0m\u001b[1;33m(\u001b[0m\u001b[0malgoId\u001b[0m \u001b[1;33m=\u001b[0m \u001b[1;34m'ges'\u001b[0m\u001b[1;33m,\u001b[0m \u001b[0mdfs\u001b[0m \u001b[1;33m=\u001b[0m \u001b[0mdata\u001b[0m\u001b[1;33m,\u001b[0m \u001b[0mmaxDegree\u001b[0m \u001b[1;33m=\u001b[0m \u001b[1;33m-\u001b[0m\u001b[1;36m1\u001b[0m\u001b[1;33m,\u001b[0m \u001b[0mfaithfulnessAssumed\u001b[0m \u001b[1;33m=\u001b[0m \u001b[1;32mTrue\u001b[0m\u001b[1;33m,\u001b[0m \u001b[0mverbose\u001b[0m \u001b[1;33m=\u001b[0m \u001b[1;32mTrue\u001b[0m\u001b[1;33m)\u001b[0m\u001b[1;33m\u001b[0m\u001b[1;33m\u001b[0m\u001b[0m\n\u001b[0m",
      "\u001b[1;32m~\\AppData\\Local\\Programs\\Python\\Python36\\lib\\site-packages\\pycausal\\search.py\u001b[0m in \u001b[0;36mrun\u001b[1;34m(self, algoId, dfs, testId, scoreId, priorKnowledge, dataType, numCategoriesToDiscretize, **parameters)\u001b[0m\n\u001b[0;32m    145\u001b[0m         \u001b[0mpc\u001b[0m \u001b[1;33m=\u001b[0m \u001b[0mself\u001b[0m\u001b[1;33m.\u001b[0m\u001b[0mpc\u001b[0m\u001b[1;33m\u001b[0m\u001b[1;33m\u001b[0m\u001b[0m\n\u001b[0;32m    146\u001b[0m \u001b[1;33m\u001b[0m\u001b[0m\n\u001b[1;32m--> 147\u001b[1;33m         \u001b[0malgo\u001b[0m \u001b[1;33m=\u001b[0m \u001b[0mself\u001b[0m\u001b[1;33m.\u001b[0m\u001b[0malgos\u001b[0m\u001b[1;33m[\u001b[0m\u001b[0malgoId\u001b[0m\u001b[1;33m]\u001b[0m\u001b[1;33m\u001b[0m\u001b[1;33m\u001b[0m\u001b[0m\n\u001b[0m\u001b[0;32m    148\u001b[0m         \u001b[0malgoAnno\u001b[0m \u001b[1;33m=\u001b[0m \u001b[0malgo\u001b[0m\u001b[1;33m.\u001b[0m\u001b[0mgetAnnotation\u001b[0m\u001b[1;33m(\u001b[0m\u001b[1;33m)\u001b[0m\u001b[1;33m\u001b[0m\u001b[1;33m\u001b[0m\u001b[0m\n\u001b[0;32m    149\u001b[0m         \u001b[0malgoClass\u001b[0m \u001b[1;33m=\u001b[0m \u001b[0malgo\u001b[0m\u001b[1;33m.\u001b[0m\u001b[0mgetClazz\u001b[0m\u001b[1;33m(\u001b[0m\u001b[1;33m)\u001b[0m\u001b[1;33m\u001b[0m\u001b[1;33m\u001b[0m\u001b[0m\n",
      "\u001b[1;31mKeyError\u001b[0m: 'ges'"
     ]
    }
   ],
   "source": [
    "tetrad = s.tetradrunner()\n",
    "tetrad.run(algoId = 'ges', dfs = data, maxDegree = -1, faithfulnessAssumed = True, verbose = True)"
   ]
  },
  {
   "cell_type": "code",
   "execution_count": 16,
   "id": "b222261e",
   "metadata": {},
   "outputs": [
    {
     "ename": "JavaException",
     "evalue": "<Java object at 0x8691440>",
     "output_type": "error",
     "traceback": [
      "\u001b[1;31m---------------------------------------------------------------------------\u001b[0m",
      "\u001b[1;31mJavaException\u001b[0m                             Traceback (most recent call last)",
      "\u001b[1;32m<ipython-input-16-f35f4894dda3>\u001b[0m in \u001b[0;36m<module>\u001b[1;34m\u001b[0m\n\u001b[1;32m----> 1\u001b[1;33m \u001b[0mdot_str\u001b[0m \u001b[1;33m=\u001b[0m \u001b[0mpc\u001b[0m\u001b[1;33m.\u001b[0m\u001b[0mtetradGraphToDot\u001b[0m\u001b[1;33m(\u001b[0m\u001b[0mtetrad\u001b[0m\u001b[1;33m.\u001b[0m\u001b[0mgetTetradGraph\u001b[0m\u001b[1;33m(\u001b[0m\u001b[1;33m)\u001b[0m\u001b[1;33m)\u001b[0m\u001b[1;33m\u001b[0m\u001b[1;33m\u001b[0m\u001b[0m\n\u001b[0m\u001b[0;32m      2\u001b[0m \u001b[0mgraphs\u001b[0m \u001b[1;33m=\u001b[0m \u001b[0mpydot\u001b[0m\u001b[1;33m.\u001b[0m\u001b[0mgraph_from_dot_data\u001b[0m\u001b[1;33m(\u001b[0m\u001b[0mdot_str\u001b[0m\u001b[1;33m)\u001b[0m\u001b[1;33m\u001b[0m\u001b[1;33m\u001b[0m\u001b[0m\n\u001b[0;32m      3\u001b[0m \u001b[0msvg_str\u001b[0m \u001b[1;33m=\u001b[0m \u001b[0mgraphs\u001b[0m\u001b[1;33m[\u001b[0m\u001b[1;36m0\u001b[0m\u001b[1;33m]\u001b[0m\u001b[1;33m.\u001b[0m\u001b[0mcreate_svg\u001b[0m\u001b[1;33m(\u001b[0m\u001b[1;33m)\u001b[0m\u001b[1;33m\u001b[0m\u001b[1;33m\u001b[0m\u001b[0m\n\u001b[0;32m      4\u001b[0m \u001b[0mSVG\u001b[0m\u001b[1;33m(\u001b[0m\u001b[0msvg_str\u001b[0m\u001b[1;33m)\u001b[0m\u001b[1;33m\u001b[0m\u001b[1;33m\u001b[0m\u001b[0m\n",
      "\u001b[1;32m~\\AppData\\Local\\Programs\\Python\\Python36\\lib\\site-packages\\pycausal\\pycausal.py\u001b[0m in \u001b[0;36mtetradGraphToDot\u001b[1;34m(self, tetradGraph)\u001b[0m\n\u001b[0;32m    257\u001b[0m \u001b[1;33m\u001b[0m\u001b[0m\n\u001b[0;32m    258\u001b[0m     \u001b[1;32mdef\u001b[0m \u001b[0mtetradGraphToDot\u001b[0m\u001b[1;33m(\u001b[0m\u001b[0mself\u001b[0m\u001b[1;33m,\u001b[0m \u001b[0mtetradGraph\u001b[0m\u001b[1;33m)\u001b[0m\u001b[1;33m:\u001b[0m\u001b[1;33m\u001b[0m\u001b[1;33m\u001b[0m\u001b[0m\n\u001b[1;32m--> 259\u001b[1;33m         \u001b[0mgraph_dot\u001b[0m \u001b[1;33m=\u001b[0m \u001b[0mjavabridge\u001b[0m\u001b[1;33m.\u001b[0m\u001b[0mstatic_call\u001b[0m\u001b[1;33m(\u001b[0m\u001b[1;34m'edu/cmu/tetrad/graph/GraphUtils'\u001b[0m\u001b[1;33m,\u001b[0m\u001b[1;34m'graphToDot'\u001b[0m\u001b[1;33m,\u001b[0m\u001b[1;34m'(Ledu/cmu/tetrad/graph/Graph;)Ljava/lang/String;'\u001b[0m\u001b[1;33m,\u001b[0m \u001b[0mtetradGraph\u001b[0m\u001b[1;33m)\u001b[0m\u001b[1;33m\u001b[0m\u001b[1;33m\u001b[0m\u001b[0m\n\u001b[0m\u001b[0;32m    260\u001b[0m \u001b[1;33m\u001b[0m\u001b[0m\n\u001b[0;32m    261\u001b[0m         \u001b[1;32mreturn\u001b[0m \u001b[0mgraph_dot\u001b[0m\u001b[1;33m\u001b[0m\u001b[1;33m\u001b[0m\u001b[0m\n",
      "\u001b[1;32m~\\AppData\\Local\\Programs\\Python\\Python36\\lib\\site-packages\\javabridge\\jutil.py\u001b[0m in \u001b[0;36mstatic_call\u001b[1;34m(class_name, method_name, sig, *args)\u001b[0m\n\u001b[0;32m    941\u001b[0m     \u001b[0mret_sig\u001b[0m \u001b[1;33m=\u001b[0m \u001b[0msig\u001b[0m\u001b[1;33m[\u001b[0m\u001b[0msig\u001b[0m\u001b[1;33m.\u001b[0m\u001b[0mfind\u001b[0m\u001b[1;33m(\u001b[0m\u001b[1;34m')'\u001b[0m\u001b[1;33m)\u001b[0m\u001b[1;33m+\u001b[0m\u001b[1;36m1\u001b[0m\u001b[1;33m:\u001b[0m\u001b[1;33m]\u001b[0m\u001b[1;33m\u001b[0m\u001b[1;33m\u001b[0m\u001b[0m\n\u001b[0;32m    942\u001b[0m     \u001b[0mnice_args\u001b[0m \u001b[1;33m=\u001b[0m \u001b[0mget_nice_args\u001b[0m\u001b[1;33m(\u001b[0m\u001b[0margs\u001b[0m\u001b[1;33m,\u001b[0m \u001b[0margs_sig\u001b[0m\u001b[1;33m)\u001b[0m\u001b[1;33m\u001b[0m\u001b[1;33m\u001b[0m\u001b[0m\n\u001b[1;32m--> 943\u001b[1;33m     \u001b[0mresult\u001b[0m \u001b[1;33m=\u001b[0m \u001b[0mfn\u001b[0m\u001b[1;33m(\u001b[0m\u001b[1;33m*\u001b[0m\u001b[0mnice_args\u001b[0m\u001b[1;33m)\u001b[0m\u001b[1;33m\u001b[0m\u001b[1;33m\u001b[0m\u001b[0m\n\u001b[0m\u001b[0;32m    944\u001b[0m     \u001b[1;32mreturn\u001b[0m \u001b[0mget_nice_result\u001b[0m\u001b[1;33m(\u001b[0m\u001b[0mresult\u001b[0m\u001b[1;33m,\u001b[0m \u001b[0mret_sig\u001b[0m\u001b[1;33m)\u001b[0m\u001b[1;33m\u001b[0m\u001b[1;33m\u001b[0m\u001b[0m\n\u001b[0;32m    945\u001b[0m \u001b[1;33m\u001b[0m\u001b[0m\n",
      "\u001b[1;32m~\\AppData\\Local\\Programs\\Python\\Python36\\lib\\site-packages\\javabridge\\jutil.py\u001b[0m in \u001b[0;36mfn\u001b[1;34m(*args)\u001b[0m\n\u001b[0;32m    921\u001b[0m         \u001b[0mjexception\u001b[0m \u001b[1;33m=\u001b[0m \u001b[0menv\u001b[0m\u001b[1;33m.\u001b[0m\u001b[0mexception_occurred\u001b[0m\u001b[1;33m(\u001b[0m\u001b[1;33m)\u001b[0m\u001b[1;33m\u001b[0m\u001b[1;33m\u001b[0m\u001b[0m\n\u001b[0;32m    922\u001b[0m         \u001b[1;32mif\u001b[0m \u001b[0mjexception\u001b[0m \u001b[1;32mis\u001b[0m \u001b[1;32mnot\u001b[0m \u001b[1;32mNone\u001b[0m\u001b[1;33m:\u001b[0m\u001b[1;33m\u001b[0m\u001b[1;33m\u001b[0m\u001b[0m\n\u001b[1;32m--> 923\u001b[1;33m             \u001b[1;32mraise\u001b[0m \u001b[0mJavaException\u001b[0m\u001b[1;33m(\u001b[0m\u001b[0mjexception\u001b[0m\u001b[1;33m)\u001b[0m\u001b[1;33m\u001b[0m\u001b[1;33m\u001b[0m\u001b[0m\n\u001b[0m\u001b[0;32m    924\u001b[0m         \u001b[1;32mreturn\u001b[0m \u001b[0mresult\u001b[0m\u001b[1;33m\u001b[0m\u001b[1;33m\u001b[0m\u001b[0m\n\u001b[0;32m    925\u001b[0m     \u001b[1;32mreturn\u001b[0m \u001b[0mfn\u001b[0m\u001b[1;33m\u001b[0m\u001b[1;33m\u001b[0m\u001b[0m\n",
      "\u001b[1;31mJavaException\u001b[0m: <Java object at 0x8691440>"
     ]
    }
   ],
   "source": [
    "dot_str = pc.tetradGraphToDot(tetrad.getTetradGraph())\n",
    "graphs = pydot.graph_from_dot_data(dot_str)\n",
    "svg_str = graphs[0].create_svg()\n",
    "SVG(svg_str)"
   ]
  },
  {
   "cell_type": "code",
   "execution_count": 44,
   "id": "85c5bc61",
   "metadata": {},
   "outputs": [],
   "source": [
    "p, num_edges = 5, 10\n",
    "\n",
    "# generate X, Psi\n",
    "B_true = utils.simulate_dag(p, num_edges, 'ER')\n",
    "W_true = utils.simulate_parameter(B_true)\n",
    "X = utils.simulate_linear_sem(W_true, 1000, 'gauss')"
   ]
  },
  {
   "cell_type": "code",
   "execution_count": 47,
   "id": "d637b592",
   "metadata": {},
   "outputs": [
    {
     "name": "stdout",
     "output_type": "stream",
     "text": [
      "[[ 0.   0.   0.   0.   0. ]\n",
      " [-0.4  0.   0.   0.   0. ]\n",
      " [ 1.   0.   0.   0.   0. ]\n",
      " [ 0.  -2.3 -0.9  0.   1.6]\n",
      " [ 0.4 -1.5  0.8  0.   0. ]]\n"
     ]
    }
   ],
   "source": [
    "W_NT, h_val = linear.notears_linear(X, lambda1 = 0.0, loss_type = 'l2', verbose = False)\n",
    "print(np.round(W_NT, 1))"
   ]
  },
  {
   "cell_type": "code",
   "execution_count": 49,
   "id": "a847a97a",
   "metadata": {},
   "outputs": [
    {
     "name": "stdout",
     "output_type": "stream",
     "text": [
      "[[0 1 1 0 1]\n",
      " [1 0 1 1 1]\n",
      " [1 1 0 1 1]\n",
      " [0 1 1 0 0]\n",
      " [1 1 1 0 0]]\n"
     ]
    }
   ],
   "source": [
    "model = cdt.causality.graph.GES()\n",
    "output_graph = model.predict(pd.DataFrame(X))\n",
    "print(nx.adjacency_matrix(output_graph).todense())"
   ]
  },
  {
   "cell_type": "code",
   "execution_count": 51,
   "id": "d09dea37",
   "metadata": {},
   "outputs": [],
   "source": [
    "tetrad = s.tetradrunner()\n",
    "tetrad.run(algoId = 'fges', dfs = pd.DataFrame(X), maxDegree = -1, faithfulnessAssumed = True, verbose = True)"
   ]
  },
  {
   "cell_type": "code",
   "execution_count": 74,
   "id": "1d4174c9",
   "metadata": {},
   "outputs": [
    {
     "name": "stdout",
     "output_type": "stream",
     "text": [
      "[<pydot.Edge object at 0x00000211E532AE80>, <pydot.Edge object at 0x00000211E4EA3AC8>, <pydot.Edge object at 0x00000211E5027CC0>, <pydot.Edge object at 0x00000211E5027F98>, <pydot.Edge object at 0x00000211E5034630>, <pydot.Edge object at 0x00000211E5035C88>, <pydot.Edge object at 0x00000211E4E71320>, <pydot.Edge object at 0x00000211E4E77CF8>]\n"
     ]
    }
   ],
   "source": [
    "dot_str = pc.tetradGraphToDot(tetrad.getTetradGraph())\n",
    "graphs = pydot.graph_from_dot_data(dot_str)\n",
    "\n",
    "print(graphs[0].get_edges())"
   ]
  }
 ],
 "metadata": {
  "kernelspec": {
   "display_name": "Python 3.6.8 64-bit",
   "language": "python",
   "name": "python36864bit874e3a48d9b148faaa09714964fd179b"
  },
  "language_info": {
   "codemirror_mode": {
    "name": "ipython",
    "version": 3
   },
   "file_extension": ".py",
   "mimetype": "text/x-python",
   "name": "python",
   "nbconvert_exporter": "python",
   "pygments_lexer": "ipython3",
   "version": "3.6.8"
  }
 },
 "nbformat": 4,
 "nbformat_minor": 5
}
