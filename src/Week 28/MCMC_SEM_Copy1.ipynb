{
 "cells": [
  {
   "cell_type": "code",
   "execution_count": 1,
   "id": "7b33a4a0",
   "metadata": {
    "colab": {
     "base_uri": "https://localhost:8080/"
    },
    "id": "7b33a4a0",
    "outputId": "5d4f320b-e8c9-4ab5-ddce-ca3a28339338"
   },
   "outputs": [],
   "source": [
    "import numpy as np\n",
    "import matplotlib.pyplot as plt\n",
    "import statsmodels.api as sm\n",
    "from tqdm import tqdm\n",
    "import igraph as ig\n",
    "from timeit import default_timer as timer\n",
    "\n",
    "# scipy\n",
    "import random\n",
    "import scipy.stats as scistats\n",
    "import scipy.linalg as slin\n",
    "import scipy.optimize as sopt\n",
    "from scipy.special import expit as sigmoid"
   ]
  },
  {
   "cell_type": "code",
   "execution_count": 2,
   "id": "4b49caff",
   "metadata": {
    "id": "4b49caff"
   },
   "outputs": [],
   "source": [
    "def k_ols_W(Psi, P):\n",
    "    # translate X\n",
    "    psi = P @ Psi @ P.T\n",
    "    W_hat = np.zeros((p, p))\n",
    "\n",
    "    # get parameters\n",
    "    for i in range(1, p):\n",
    "        psi_F = psi[np.array(range(i))[:, None], np.array(range(i))[None, :]]   \n",
    "        W_hat[np.array(range(i))[:, None], i] = np.linalg.inv(psi_F) @ psi[np.array(range(i))[:, None], i]\n",
    "\n",
    "    return P.T @ W_hat @ P\n",
    "\n",
    "def ols_W(X, P):\n",
    "    # translate X\n",
    "    x = X @ P.T\n",
    "\n",
    "    W_hat = np.array(np.zeros(p)).T\n",
    "\n",
    "    # get parameters\n",
    "    for i in range(p):\n",
    "        if i == 0:\n",
    "            W_hat = np.vstack((W_hat, np.zeros(p)))\n",
    "        else:\n",
    "            est = sm.OLS(x[:, i], x[:, :i]).fit()   \n",
    "            W_hat = np.vstack((W_hat, np.append(est.params, np.zeros(p - i)).T))\n",
    "\n",
    "    return P.T @ W_hat[1:].T @ P\n",
    "\n",
    "def ols_W_full(X):\n",
    "    # translate X\n",
    "    x = X\n",
    "\n",
    "    W_hat = np.array(np.zeros(p)).T\n",
    "\n",
    "    # get parameters\n",
    "    for i in range(p):\n",
    "        est = sm.OLS(x[:, i], np.delete(x, i, axis = 1)).fit()  \n",
    "        W_hat = np.vstack((W_hat, np.append(est.params[:i], np.append(0, est.params[i:])).T)) \n",
    "        # W_hat = np.vstack((W_hat, np.append(est.params, np.zeros(1)).T))\n",
    "\n",
    "    return W_hat[1:].T"
   ]
  },
  {
   "cell_type": "code",
   "execution_count": 3,
   "id": "f73f4f68",
   "metadata": {
    "id": "f73f4f68"
   },
   "outputs": [],
   "source": [
    "def generate_U(p, num_edges, low = 0.5, high = 2.0, tril = False):\n",
    "    edges = np.array([0.0] * (int(p * (p + 1) / 2) - num_edges - p * tril) + [1.0] * num_edges)\n",
    "    \n",
    "    edges[edges > 0] = (2 * np.random.randint(0, 2, size=(num_edges)) - 1) * np.random.uniform(low, high, num_edges)\n",
    "    np.random.shuffle(edges)\n",
    "    \n",
    "    U = np.zeros((p, p))\n",
    "    \n",
    "    U[np.tril_indices(p, - tril)] = edges\n",
    "    \n",
    "    return U"
   ]
  },
  {
   "cell_type": "code",
   "execution_count": 4,
   "id": "bXeFG8gjbmNT",
   "metadata": {
    "id": "bXeFG8gjbmNT"
   },
   "outputs": [],
   "source": [
    "def notears_linear(X, lambda1, loss_type, max_iter=100, h_tol=1e-8, rho_max=1e+16, w_threshold=0.3, verbose = True):\n",
    "    \"\"\"Solve min_W L(W; X) + lambda1 ‖W‖_1 s.t. h(W) = 0 using augmented Lagrangian.\n",
    "\n",
    "    Args:\n",
    "        X (np.ndarray): [n, d] sample matrix\n",
    "        lambda1 (float): l1 penalty parameter\n",
    "        loss_type (str): l2, logistic, poisson\n",
    "        max_iter (int): max num of dual ascent steps\n",
    "        h_tol (float): exit if |h(w_est)| <= htol\n",
    "        rho_max (float): exit if rho >= rho_max\n",
    "        w_threshold (float): drop edge if |weight| < threshold\n",
    "\n",
    "    Returns:\n",
    "        W_est (np.ndarray): [d, d] estimated DAG\n",
    "    \"\"\"\n",
    "    def _loss(W):\n",
    "        \"\"\"Evaluate value and gradient of loss.\"\"\"\n",
    "        M = X @ W\n",
    "\n",
    "        if loss_type == 'l2-var':\n",
    "            R = X[1:] - M[:-1]\n",
    "            loss = 0.5 / X[1:].shape[0] * (R ** 2).sum()\n",
    "            G_loss = - 1.0 / X[1:].shape[0] * X[:-1].T @ R\n",
    "        elif loss_type == 'l2':\n",
    "            R = X - M\n",
    "            loss = 0.5 / X.shape[0] * (R ** 2).sum()\n",
    "            G_loss = - 1.0 / X.shape[0] * X.T @ R\n",
    "        elif loss_type == 'logistic':\n",
    "            loss = 1.0 / X.shape[0] * (np.logaddexp(0, M) - X * M).sum()\n",
    "            G_loss = 1.0 / X.shape[0] * X.T @ (sigmoid(M) - X)\n",
    "        elif loss_type == 'poisson':\n",
    "            S = np.exp(M)\n",
    "            loss = 1.0 / X.shape[0] * (S - X * M).sum()\n",
    "            G_loss = 1.0 / X.shape[0] * X.T @ (S - X)\n",
    "        else:\n",
    "            raise ValueError('unknown loss type')\n",
    "        return loss, G_loss\n",
    "\n",
    "    def _h(W):\n",
    "        \"\"\"Evaluate value and gradient of acyclicity constraint.\"\"\"\n",
    "        W2 = W.copy()\n",
    "\n",
    "        if loss_type == \"l2-var\": \n",
    "            np.fill_diagonal(W2, np.zeros(np.shape(W)[0]))\n",
    "\t\t\n",
    "        E = slin.expm(W2 * W2)  # (Zheng et al. 2018)\n",
    "        h = np.trace(E) - d\n",
    "        #     # A different formulation, slightly faster at the cost of numerical stability\n",
    "        #     M = np.eye(d) + W * W / d  # (Yu et al. 2019)\n",
    "        #     E = np.linalg.matrix_power(M, d - 1)\n",
    "        #     h = (E.T * M).sum() - d\n",
    "        G_h = E.T * W2 * 2\n",
    "        return h, G_h\n",
    "\n",
    "    def _adj(w):\n",
    "        \"\"\"Convert doubled variables ([2 d^2] array) back to original variables ([d, d] matrix).\"\"\"\n",
    "        return (w[:d * d] - w[d * d:]).reshape([d, d])\n",
    "\n",
    "    def _func(w):\n",
    "        \"\"\"Evaluate value and gradient of augmented Lagrangian for doubled variables ([2 d^2] array).\"\"\"\n",
    "        W = _adj(w)\n",
    "        loss, G_loss = _loss(W)\n",
    "        h, G_h = _h(W)\n",
    "        obj = loss + 0.5 * rho * h * h + alpha * h + lambda1 * w.sum()\n",
    "        G_smooth = G_loss + (rho * h + alpha) * G_h\n",
    "        g_obj = np.concatenate((G_smooth + lambda1, - G_smooth + lambda1), axis=None)\n",
    "        return obj, g_obj\n",
    "\n",
    "    n, d = X.shape\n",
    "    w_est, rho, alpha, h = np.zeros(2 * d * d), 1.0, 0.0, np.inf  # double w_est into (w_pos, w_neg)\n",
    "    bnds = [(0, None) for _ in range(2) for i in range(d) for j in range(d)]\n",
    "    if loss_type == 'l2':\n",
    "        X = X - np.mean(X, axis=0, keepdims=True)\n",
    "    for q in range(max_iter):\n",
    "        print(q, end = \"\")\n",
    "        w_new, h_new = None, None\n",
    "        while rho < rho_max:\n",
    "            sol = sopt.minimize(_func, w_est, method='L-BFGS-B', jac=True, bounds=bnds)\n",
    "            w_new = sol.x\n",
    "            h_new, _ = _h(_adj(w_new))\n",
    "            if h_new > 0.25 * h:\n",
    "                rho *= 10\n",
    "            else:\n",
    "                break\n",
    "        w_est, h = w_new, h_new\n",
    "        alpha += rho * h * 10\n",
    "        if h <= h_tol or rho >= rho_max:\n",
    "            break\n",
    "\t\t\t\n",
    "    W_est = _adj(w_est)\n",
    "    W_est[np.abs(W_est) < w_threshold] = 0\n",
    "\t\n",
    "\t# h, rho, gradient of h\n",
    "    if verbose:\n",
    "        print(f\"h: {h}.\\nrho: {rho}.\")\n",
    "        print(f\"loss: {_func(w_est)}.\")\t\n",
    "\n",
    "    return W_est, h\n",
    "\n",
    "def set_random_seed(seed):\n",
    "    random.seed(seed)\n",
    "    np.random.seed(seed)\n",
    "\n",
    "\n",
    "def is_dag(W):\n",
    "    G = ig.Graph.Weighted_Adjacency(W.tolist())\n",
    "    return G.simplify().is_dag()\n",
    "\n",
    "\n",
    "def simulate_dag(d, s0, graph_type):\n",
    "    \"\"\"Simulate random DAG with some expected number of edges.\n",
    "\n",
    "    Args:\n",
    "        d (int): num of nodes\n",
    "        s0 (int): expected num of edges\n",
    "        graph_type (str): ER, SF, BP\n",
    "\n",
    "    Returns:\n",
    "        B (np.ndarray): [d, d] binary adj matrix of DAG\n",
    "    \"\"\"\n",
    "    def _random_permutation(M):\n",
    "        # np.random.permutation permutes first axis only\n",
    "        P = np.random.permutation(np.eye(M.shape[0]))\n",
    "        return P.T @ M @ P\n",
    "\n",
    "    def _random_acyclic_orientation(B_und):\n",
    "        return np.tril(_random_permutation(B_und), k=-1)\n",
    "\n",
    "    def _graph_to_adjmat(G):\n",
    "        return np.array(G.get_adjacency().data)\n",
    "\n",
    "    if graph_type == 'ER':\n",
    "        # Erdos-Renyi\n",
    "        G_und = ig.Graph.Erdos_Renyi(n=d, m=s0)\n",
    "        B_und = _graph_to_adjmat(G_und)\n",
    "        B = _random_acyclic_orientation(B_und)\n",
    "    elif graph_type == 'SF':\n",
    "        # Scale-free, Barabasi-Albert\n",
    "        G = ig.Graph.Barabasi(n=d, m=int(round(s0 / d)), directed=True)\n",
    "        B = _graph_to_adjmat(G)\n",
    "    elif graph_type == 'BP':\n",
    "        # Bipartite, Sec 4.1 of (Gu, Fu, Zhou, 2018)\n",
    "        top = int(0.2 * d)\n",
    "        G = ig.Graph.Random_Bipartite(top, d - top, m=s0, directed=True, neimode=ig.OUT)\n",
    "        B = _graph_to_adjmat(G)\n",
    "    else:\n",
    "        raise ValueError('unknown graph type')\n",
    "    B_perm = _random_permutation(B)\n",
    "    assert ig.Graph.Adjacency(B_perm.tolist()).is_dag()\n",
    "    return B_perm\n",
    "\n",
    "\n",
    "def simulate_parameter(B, w_ranges=((-2.0, -0.5), (0.5, 2.0))):\n",
    "    \"\"\"Simulate SEM parameters for a DAG.\n",
    "\n",
    "    Args:\n",
    "        B (np.ndarray): [d, d] binary adj matrix of DAG\n",
    "        w_ranges (tuple): disjoint weight ranges\n",
    "\n",
    "    Returns:\n",
    "        W (np.ndarray): [d, d] weighted adj matrix of DAG\n",
    "    \"\"\"\n",
    "    W = np.zeros(B.shape)\n",
    "    S = np.random.randint(len(w_ranges), size=B.shape)  # which range\n",
    "    for i, (low, high) in enumerate(w_ranges):\n",
    "        U = np.random.uniform(low=low, high=high, size=B.shape)\n",
    "        W += B * (S == i) * U\n",
    "    return W\n",
    "\n",
    "\n",
    "def simulate_linear_sem(W, n, sem_type, noise_scale=None):\n",
    "    \"\"\"Simulate samples from linear SEM with specified type of noise.\n",
    "\n",
    "    For uniform, noise z ~ uniform(-a, a), where a = noise_scale.\n",
    "\n",
    "    Args:\n",
    "        W (np.ndarray): [d, d] weighted adj matrix of DAG\n",
    "        n (int): num of samples, n=inf mimics population risk\n",
    "        sem_type (str): gauss, exp, gumbel, uniform, logistic, poisson\n",
    "        noise_scale (np.ndarray): scale parameter of additive noise, default all ones\n",
    "\n",
    "    Returns:\n",
    "        X (np.ndarray): [n, d] sample matrix, [d, d] if n=inf\n",
    "    \"\"\"\n",
    "    def _simulate_single_equation(X, w, scale):\n",
    "        \"\"\"X: [n, num of parents], w: [num of parents], x: [n]\"\"\"\n",
    "        if sem_type == 'gauss':\n",
    "            z = np.random.normal(scale=scale, size=n)\n",
    "            x = X @ w + z\n",
    "        elif sem_type == 'exp':\n",
    "            z = np.random.exponential(scale=scale, size=n)\n",
    "            x = X @ w + z\n",
    "        elif sem_type == 'gumbel':\n",
    "            z = np.random.gumbel(scale=scale, size=n)\n",
    "            x = X @ w + z\n",
    "        elif sem_type == 'uniform':\n",
    "            z = np.random.uniform(low=-scale, high=scale, size=n)\n",
    "            x = X @ w + z\n",
    "        elif sem_type == 'logistic':\n",
    "            x = np.random.binomial(1, sigmoid(X @ w)) * 1.0\n",
    "        elif sem_type == 'poisson':\n",
    "            x = np.random.poisson(np.exp(X @ w)) * 1.0\n",
    "        else:\n",
    "            raise ValueError('unknown sem type')\n",
    "        return x\n",
    "\n",
    "    d = W.shape[0]\n",
    "    if noise_scale is None:\n",
    "        scale_vec = np.ones(d)\n",
    "    elif np.isscalar(noise_scale):\n",
    "        scale_vec = noise_scale * np.ones(d)\n",
    "    else:\n",
    "        if len(noise_scale) != d:\n",
    "            raise ValueError('noise scale must be a scalar or has length d')\n",
    "        scale_vec = noise_scale\n",
    "    if not is_dag(W):\n",
    "        raise ValueError('W must be a DAG')\n",
    "    if np.isinf(n):  # population risk for linear gauss SEM\n",
    "        if sem_type == 'gauss':\n",
    "            # make 1/d X'X = true cov\n",
    "            X = np.sqrt(d) * np.diag(scale_vec) @ np.linalg.inv(np.eye(d) - W)\n",
    "            return X\n",
    "        else:\n",
    "            raise ValueError('population risk not available')\n",
    "    # empirical risk\n",
    "    G = ig.Graph.Weighted_Adjacency(W.tolist())\n",
    "    ordered_vertices = G.topological_sorting()\n",
    "    assert len(ordered_vertices) == d\n",
    "    X = np.zeros([n, d])\n",
    "    for j in ordered_vertices:\n",
    "        parents = G.neighbors(j, mode=ig.IN)\n",
    "        X[:, j] = _simulate_single_equation(X[:, parents], W[parents, j], scale_vec[j])\n",
    "    return X\n",
    "\n",
    "\n",
    "def simulate_nonlinear_sem(B, n, sem_type, noise_scale=None):\n",
    "    \"\"\"Simulate samples from nonlinear SEM.\n",
    "\n",
    "    Args:\n",
    "        B (np.ndarray): [d, d] binary adj matrix of DAG\n",
    "        n (int): num of samples\n",
    "        sem_type (str): mlp, mim, gp, gp-add\n",
    "        noise_scale (np.ndarray): scale parameter of additive noise, default all ones\n",
    "\n",
    "    Returns:\n",
    "        X (np.ndarray): [n, d] sample matrix\n",
    "    \"\"\"\n",
    "    def _simulate_single_equation(X, scale):\n",
    "        \"\"\"X: [n, num of parents], x: [n]\"\"\"\n",
    "        z = np.random.normal(scale=scale, size=n)\n",
    "        pa_size = X.shape[1]\n",
    "        if pa_size == 0:\n",
    "            return z\n",
    "        if sem_type == 'mlp':\n",
    "            hidden = 100\n",
    "            W1 = np.random.uniform(low=0.5, high=2.0, size=[pa_size, hidden])\n",
    "            W1[np.random.rand(*W1.shape) < 0.5] *= -1\n",
    "            W2 = np.random.uniform(low=0.5, high=2.0, size=hidden)\n",
    "            W2[np.random.rand(hidden) < 0.5] *= -1\n",
    "            x = sigmoid(X @ W1) @ W2 + z\n",
    "        elif sem_type == 'mim':\n",
    "            w1 = np.random.uniform(low=0.5, high=2.0, size=pa_size)\n",
    "            w1[np.random.rand(pa_size) < 0.5] *= -1\n",
    "            w2 = np.random.uniform(low=0.5, high=2.0, size=pa_size)\n",
    "            w2[np.random.rand(pa_size) < 0.5] *= -1\n",
    "            w3 = np.random.uniform(low=0.5, high=2.0, size=pa_size)\n",
    "            w3[np.random.rand(pa_size) < 0.5] *= -1\n",
    "            x = np.tanh(X @ w1) + np.cos(X @ w2) + np.sin(X @ w3) + z\n",
    "        elif sem_type == 'gp':\n",
    "            from sklearn.gaussian_process import GaussianProcessRegressor\n",
    "            gp = GaussianProcessRegressor()\n",
    "            x = gp.sample_y(X, random_state=None).flatten() + z\n",
    "        elif sem_type == 'gp-add':\n",
    "            from sklearn.gaussian_process import GaussianProcessRegressor\n",
    "            gp = GaussianProcessRegressor()\n",
    "            x = sum([gp.sample_y(X[:, i, None], random_state=None).flatten()\n",
    "                     for i in range(X.shape[1])]) + z\n",
    "        else:\n",
    "            raise ValueError('unknown sem type')\n",
    "        return x\n",
    "\n",
    "    d = B.shape[0]\n",
    "    scale_vec = noise_scale if noise_scale else np.ones(d)\n",
    "    X = np.zeros([n, d])\n",
    "    G = ig.Graph.Adjacency(B.tolist())\n",
    "    ordered_vertices = G.topological_sorting()\n",
    "    assert len(ordered_vertices) == d\n",
    "    for j in ordered_vertices:\n",
    "        parents = G.neighbors(j, mode=ig.IN)\n",
    "        X[:, j] = _simulate_single_equation(X[:, parents], scale_vec[j])\n",
    "    return X\n",
    "\n",
    "def simulate_var(W, n, noise_scale):\n",
    "    \"\"\"Simulate samples from var with gaussian noise.\n",
    "\n",
    "    Args:\n",
    "        W (np.ndarray): [d, d] weighted adj matrix of DAG\n",
    "        n (int): num of samples, n=inf mimics population risk\n",
    "\n",
    "    Returns:\n",
    "        X (np.ndarray): [n, d] sample matrix, [d, d] if n=inf\n",
    "    \"\"\"\n",
    "\n",
    "    def _simulate_single_equation_var(X, w, scale):\n",
    "        \"\"\"X: [n, num of parents], w: [num of parents], x: [n]\"\"\"\n",
    "\t\t\n",
    "        if scale == None: scale = np.ones(d)\n",
    "\t\t\n",
    "        z = np.random.normal(scale = scale, size=d)\n",
    "        x = X @ w + z\n",
    "        return x\n",
    "\n",
    "    # number of variables\n",
    "    d = W.shape[0]\n",
    "\n",
    "    # data\n",
    "    X = np.zeros([n, d])\n",
    "\n",
    "    # for each timestep\n",
    "    for t in range(1, n):\n",
    "        # generate next timestep\n",
    "        X[t] = _simulate_single_equation_var(X[t - 1], W, scale = noise_scale)\n",
    "    return X\n",
    "\n",
    "def count_accuracy(B_true, B_est):\n",
    "    \"\"\"Compute various accuracy metrics for B_est.\n",
    "\n",
    "    true positive = predicted association exists in condition in correct direction\n",
    "    reverse = predicted association exists in condition in opposite direction\n",
    "    false positive = predicted association does not exist in condition\n",
    "\n",
    "    Args:\n",
    "        B_true (np.ndarray): [d, d] ground truth graph, {0, 1}\n",
    "        B_est (np.ndarray): [d, d] estimate, {0, 1, -1}, -1 is undirected edge in CPDAG\n",
    "\n",
    "    Returns:\n",
    "        fdr: (reverse + false positive) / prediction positive\n",
    "        tpr: (true positive) / condition positive\n",
    "        fpr: (reverse + false positive) / condition negative\n",
    "        shd: undirected extra + undirected missing + reverse\n",
    "        nnz: prediction positive\n",
    "    \"\"\"\n",
    "    if (B_est == -1).any():  # cpdag\n",
    "        if not ((B_est == 0) | (B_est == 1) | (B_est == -1)).all():\n",
    "            raise ValueError('B_est should take value in {0,1,-1}')\n",
    "        if ((B_est == -1) & (B_est.T == -1)).any():\n",
    "            raise ValueError('undirected edge should only appear once')\n",
    "    else:  # dag\n",
    "        if not ((B_est == 0) | (B_est == 1)).all():\n",
    "            raise ValueError('B_est should take value in {0,1}')\n",
    "        if not is_dag(B_est):\n",
    "            raise ValueError('B_est should be a DAG')\n",
    "    d = B_true.shape[0]\n",
    "    # linear index of nonzeros\n",
    "    pred_und = np.flatnonzero(B_est == -1)\n",
    "    pred = np.flatnonzero(B_est == 1)\n",
    "    cond = np.flatnonzero(B_true)\n",
    "    cond_reversed = np.flatnonzero(B_true.T)\n",
    "    cond_skeleton = np.concatenate([cond, cond_reversed])\n",
    "    # true pos\n",
    "    true_pos = np.intersect1d(pred, cond, assume_unique=True)\n",
    "    # treat undirected edge favorably\n",
    "    true_pos_und = np.intersect1d(pred_und, cond_skeleton, assume_unique=True)\n",
    "    true_pos = np.concatenate([true_pos, true_pos_und])\n",
    "    # false pos\n",
    "    false_pos = np.setdiff1d(pred, cond_skeleton, assume_unique=True)\n",
    "    false_pos_und = np.setdiff1d(pred_und, cond_skeleton, assume_unique=True)\n",
    "    false_pos = np.concatenate([false_pos, false_pos_und])\n",
    "    # reverse\n",
    "    extra = np.setdiff1d(pred, cond, assume_unique=True)\n",
    "    reverse = np.intersect1d(extra, cond_reversed, assume_unique=True)\n",
    "    # compute ratio\n",
    "    pred_size = len(pred) + len(pred_und)\n",
    "    cond_neg_size = 0.5 * d * (d - 1) - len(cond)\n",
    "    fdr = float(len(reverse) + len(false_pos)) / max(pred_size, 1)\n",
    "    tpr = float(len(true_pos)) / max(len(cond), 1)\n",
    "    fpr = float(len(reverse) + len(false_pos)) / max(cond_neg_size, 1)\n",
    "    # structural hamming distance\n",
    "    pred_lower = np.flatnonzero(np.tril(B_est + B_est.T))\n",
    "    cond_lower = np.flatnonzero(np.tril(B_true + B_true.T))\n",
    "    extra_lower = np.setdiff1d(pred_lower, cond_lower, assume_unique=True)\n",
    "    missing_lower = np.setdiff1d(cond_lower, pred_lower, assume_unique=True)\n",
    "    shd = len(extra_lower) + len(missing_lower) + len(reverse)\n",
    "    return {'fdr': fdr, 'tpr': tpr, 'fpr': fpr, 'shd': shd, 'nnz': pred_size}"
   ]
  },
  {
   "cell_type": "code",
   "execution_count": 5,
   "id": "n-hUyStSgL8Q",
   "metadata": {
    "id": "n-hUyStSgL8Q"
   },
   "outputs": [],
   "source": [
    "def _K_OMP(X, Y, max_coefs = 1e10, tol = 0.0, tol_res = 0.0, verbose = False, output = False, normalize = False, F = [], is_sem = False):\n",
    "    \"\"\"Do Kernel OMP on X, Y.\"\"\"\n",
    "\t\n",
    "    def Lambda_to_adj(Lambda):\n",
    "        \"\"\"Convert Lambda list to adjacency matrix\"\"\"\n",
    "        n = len(Lambda)\n",
    "    \n",
    "        adj_mat = np.zeros((n, n))\n",
    "    \n",
    "        for i, col in enumerate(Lambda):\n",
    "            adj_mat[i, col] = 1 \n",
    "    \n",
    "        return adj_mat\n",
    "    \n",
    "    # get dimensions\n",
    "    T, n = np.shape(X)\n",
    "\t\n",
    "    if is_sem: F = [i * (n + 1) for i in range(n)]\n",
    "    \n",
    "\t# compute kernel spaces\n",
    "    Psi = X.T.dot(X)  \t\t\t\t\t# p times p\n",
    "    K = X.T.dot(Y)\t  \t\t\t\t\t# p  times p\n",
    "    Theta = [y.T.dot(y) for y in Y.T] \t# 1 times 1\n",
    "    \n",
    "    # initialize Lambda, idx, betas\n",
    "    Lambda, idx, betas = [[] for _ in range(n)], [], np.zeros((n, n))\n",
    "    \n",
    "\t# compute norms if we want to normalize\n",
    "    norms = [1] * n # initialize as harmless 1 array\t\n",
    "    if normalize: norms = [np.linalg.norm(x) for x in X.T]\n",
    "\t\n",
    "    # for each possible coefficient\n",
    "    for i in range(n ** 2):    \n",
    "    \n",
    "        # compute gains\n",
    "        gains = np.abs([(k - betas.T @ Psi[i, :]) / norms[i] for i, k in enumerate(K)])\n",
    "        \n",
    "        # set forbidden set to -1, impossible to pick then\n",
    "        gains = gains.flatten()\n",
    "\t\t\n",
    "        gains[F] = - np.ones(len(F))\n",
    "        gains = gains.reshape(n, n)\n",
    "\t\t\n",
    "        #print(gains.max())\n",
    "\t\t# stopping criterion\n",
    "        # print(np.round(gains.max(), 1), end = \"\\t\")\n",
    "        if np.round(gains, 8).max() <= tol: break\n",
    "\t\t\n",
    "        # append best atom to Lambda\n",
    "\t\t# if tie, pick the one that minimizes residual\n",
    "        row, col = np.argmax(gains) // n, np.argmax(gains) % n\n",
    "\t\t\n",
    "        if row not in Lambda[col]: Lambda[col].append(row)\n",
    "    \n",
    "        # check if we have a DAG, not super efficient\n",
    "        if _is_dag(Lambda_to_adj(Lambda)): \n",
    "            # update only column col, use indices of \n",
    "            idx = Lambda[col]\n",
    "            Psi_F = Psi[np.array(idx)[:, None], np.array(idx)[None, :]]\n",
    "        \n",
    "            # speedup: add transpose to forbidden set\n",
    "            F.append(col * n + row)\n",
    "\n",
    "            # update betas        \t\n",
    "            betas[np.array(idx)[:, None], col] = np.linalg.inv(Psi_F) @ K[np.array(idx)[:, None], col]\n",
    "\t\t\t\n",
    "            # print(np.round(betas[row][col], 1), end = \"\\t\")\n",
    "            # if np.abs(betas[row][col]) <= tol: break\n",
    "            \n",
    "        else:\n",
    "            # append forbidden entry to forbidden list\n",
    "            F.append(int(np.argmax(gains)))\n",
    "            # remove coefficient from Lambda\n",
    "            Lambda[col].remove(row)\n",
    "    \n",
    "\t\t# check residual squared\n",
    "        #print(sum([Theta[i] - K[:, i] @ betas[:, i] for i in range(n)]))\n",
    "\t\t\n",
    "        if sum([Theta[i] - K[:, i] @ betas[:, i] for i in range(n)]) < tol_res:\n",
    "            print(\"Residual Limit, terminate\")\n",
    "            break\n",
    "\t\t\n",
    "        # print info if verbose\n",
    "        if verbose:\n",
    "            print(f\"Iteration {i + 1}.\\n\")\n",
    "            print(f\"Gains:\\n{np.round(gains, 3)}.\\n\")\n",
    "            print(f\"Beta_{i + 1}:\\n{np.round(betas, 3)}.\\n\")\n",
    "            print(f\"Residual Squared: {np.round([Theta[i] - K[:, i] @ betas[:, i] for i in range(n)], 32)}.\\n\\n\")\n",
    "\n",
    "    return betas, sum([Theta[i] - K[:, i] @ betas[:, i] for i in range(n)])\n",
    "\n",
    "def _MSE(W, X, is_sem = False):\n",
    "    \"\"\"Compute Mean Squared error of matrix W on data X.\"\"\"\n",
    "    \n",
    "    if is_sem:\n",
    "        X_val = X\n",
    "        X_pred = X @ W\n",
    "    \n",
    "        return 1 / len(X_val) * np.linalg.norm(X_val - X_pred, 'f') ** 2\n",
    "    else:\n",
    "        X_val = X[1:]\n",
    "        X_pred = X[:-1] @ W\n",
    "    \n",
    "        return 1 / len(X_val) * np.linalg.norm(X_val - X_pred, 'f') ** 2\n",
    "\n",
    "def _is_dag(W_input):\n",
    "    n = np.shape(W_input)[0]\n",
    "    \n",
    "    W = W_input.copy()\n",
    "    # remove diagonal entries\n",
    "    np.fill_diagonal(W, 0)\n",
    "    \n",
    "    order, old_order = [], list(range(n))\n",
    "    \n",
    "    # for the number of elements\n",
    "    for i in range(n):\n",
    "        \n",
    "        # find a row that contains only zeros\n",
    "        for j in range(n - i):\n",
    "            # if we find a zero row (excl. diags)\n",
    "            if not W[j].any() != 0:\n",
    "                \n",
    "                # remove this row and column\n",
    "                W = np.delete(W, j, 0)\n",
    "                W = np.delete(W, j, 1)\n",
    "            \n",
    "                order.append(old_order[j])\n",
    "                old_order.remove(old_order[j])\n",
    "                \n",
    "                # go to next variable\n",
    "                break\n",
    "        \n",
    "            # if no zero row exist stop\n",
    "            elif i == n - 1:\n",
    "                return False\n",
    "            \n",
    "    return True, order"
   ]
  },
  {
   "cell_type": "code",
   "execution_count": 6,
   "id": "22172bfc",
   "metadata": {
    "colab": {
     "base_uri": "https://localhost:8080/"
    },
    "id": "22172bfc",
    "outputId": "643989d2-abd9-4870-a3de-b57ffd41241f"
   },
   "outputs": [
    {
     "name": "stdout",
     "output_type": "stream",
     "text": [
      "SEM based on a graph on 5 nodes and 5 edges, 1000 samples.\n",
      "Original Adjacency Matrix:\n",
      "[[0. 0. 0. 0. 0.]\n",
      " [0. 0. 0. 0. 1.]\n",
      " [0. 0. 0. 0. 0.]\n",
      " [0. 1. 1. 0. 1.]\n",
      " [0. 0. 1. 0. 0.]].\n",
      "\n",
      "Original WAM:\n",
      "[[ 0.   0.   0.   0.   0. ]\n",
      " [ 0.   0.   0.   0.   0.8]\n",
      " [ 0.   0.   0.   0.   0. ]\n",
      " [ 0.  -1.2 -0.5  0.  -1.6]\n",
      " [ 0.   0.   1.1  0.   0. ]].\n",
      "\n",
      "01234567Estimated WAM:\n",
      "[[ 0.   0.   0.   0.   0. ]\n",
      " [ 0.   0.   0.   0.   0. ]\n",
      " [ 0.   0.   0.   0.   0. ]\n",
      " [ 0.   0.  -0.5  0.  -2.7]\n",
      " [ 0.   0.5  1.1  0.   0. ]].\n",
      "\n",
      "{'fdr': 0.25, 'tpr': 0.6, 'fpr': 0.2, 'shd': 2, 'nnz': 4}\n"
     ]
    }
   ],
   "source": [
    "T, p, s0, graph_type, sem_type = 1000, 5, 5, 'ER', 'gauss'\n",
    "print(f\"SEM based on a graph on {p} nodes and {s0} edges, {T} samples.\")\n",
    "\n",
    "B_true = simulate_dag(p, s0, graph_type)\n",
    "print(f\"Original Adjacency Matrix:\\n{B_true}.\\n\")\n",
    "\n",
    "W_true = simulate_parameter(B_true)\n",
    "print(f\"Original WAM:\\n{np.round(W_true, 1)}.\\n\")\n",
    "\n",
    "X = simulate_linear_sem(W_true, T, sem_type)\n",
    "Psi = np.dot(X.T, X)\n",
    "\n",
    "W_est, h_val = notears_linear(X, lambda1=0.0, loss_type='l2', verbose = False)\n",
    "print(f\"Estimated WAM:\\n{np.round(W_est, 1)}.\\n\")\n",
    "\n",
    "acc = count_accuracy(B_true, W_est != 0)\n",
    "print(acc)"
   ]
  },
  {
   "cell_type": "code",
   "execution_count": 7,
   "id": "aEqmSQ42cObt",
   "metadata": {
    "id": "aEqmSQ42cObt"
   },
   "outputs": [],
   "source": [
    "def is_dag(W_input):\n",
    "    n = np.shape(W_input)[0]\n",
    "    \n",
    "    W = W_input.copy()\n",
    "    # remove diagonal entries\n",
    "    np.fill_diagonal(W, 0)\n",
    "    \n",
    "    order, old_order = [], list(range(n))\n",
    "    \n",
    "    # for the number of elements\n",
    "    for i in range(n):\n",
    "        \n",
    "        # find a row that contains only zeros\n",
    "        for j in range(n - i):\n",
    "            # if we find a zero row (excl. diags)\n",
    "            if not W[j].any() != 0:\n",
    "                \n",
    "                # remove this row and column\n",
    "                W = np.delete(W, j, 0)\n",
    "                W = np.delete(W, j, 1)\n",
    "            \n",
    "                order.append(old_order[j])\n",
    "                old_order.remove(old_order[j])\n",
    "                \n",
    "                # go to next variable\n",
    "                break\n",
    "        \n",
    "            # if no zero row exist stop\n",
    "            elif i == n - 1:\n",
    "                return False\n",
    "            \n",
    "    return True, order"
   ]
  },
  {
   "cell_type": "code",
   "execution_count": 8,
   "id": "3534eaeb",
   "metadata": {
    "colab": {
     "base_uri": "https://localhost:8080/"
    },
    "id": "3534eaeb",
    "outputId": "f8a8eeec-558a-4c98-ed07-cc281bbf9a3a"
   },
   "outputs": [
    {
     "name": "stdout",
     "output_type": "stream",
     "text": [
      "[[1. 0. 0. 0. 0.]\n",
      " [0. 0. 1. 0. 0.]\n",
      " [0. 0. 0. 0. 1.]\n",
      " [0. 1. 0. 0. 0.]\n",
      " [0. 0. 0. 1. 0.]]\n",
      "[[ 0.    0.04 -0.22 -0.    0.01]\n",
      " [ 0.    0.    0.    0.03  0.  ]\n",
      " [ 0.    0.01  0.   -0.1   0.72]\n",
      " [ 0.    0.    0.    0.    0.  ]\n",
      " [ 0.    0.45  0.   -0.19  0.  ]]\n",
      "[[1. 0. 0. 0. 0.]\n",
      " [0. 0. 0. 1. 0.]\n",
      " [0. 1. 0. 0. 0.]\n",
      " [0. 0. 0. 0. 1.]\n",
      " [0. 0. 1. 0. 0.]]\n",
      "[[ 0.    0.04 -0.22 -0.    0.01]\n",
      " [ 0.    0.    0.    0.03  0.  ]\n",
      " [ 0.    0.01  0.   -0.1   0.72]\n",
      " [ 0.    0.    0.    0.    0.  ]\n",
      " [ 0.    0.45  0.   -0.19  0.  ]]\n"
     ]
    }
   ],
   "source": [
    "order = is_dag(B_true)[1]\n",
    "P_true = np.zeros((p, p))\n",
    "for i in range(p):\n",
    "    P_true[order[-i]][i] = 1\n",
    "\n",
    "print(P_true)\n",
    "print(np.round(k_ols_W(Psi, P_true), 2))\n",
    "\n",
    "order = is_dag(B_true)[1]\n",
    "P = np.zeros((p, p))\n",
    "for i in range(p):\n",
    "    P[i][order[-i]] = 1\n",
    "\n",
    "print(P)\n",
    "print(np.round(ols_W(X, P.T), 2))"
   ]
  },
  {
   "cell_type": "code",
   "execution_count": 9,
   "id": "c3203ce6",
   "metadata": {
    "id": "c3203ce6"
   },
   "outputs": [],
   "source": [
    "def sample_next_P(P):  \n",
    "    # get copy\n",
    "    P_return = P.copy()\n",
    "    \n",
    "    # get the two rows to swap\n",
    "    i, j = np.random.choice(p, 2, replace = False)\n",
    "    \n",
    "    # swap row i and row j\n",
    "    P_return[[i, j]] = P_return[[j, i]]\n",
    "    \n",
    "    # return new sample\n",
    "    return P_return"
   ]
  },
  {
   "cell_type": "code",
   "execution_count": 10,
   "id": "a225c895",
   "metadata": {
    "colab": {
     "base_uri": "https://localhost:8080/"
    },
    "id": "a225c895",
    "outputId": "bbd4fbc1-197d-4c3d-9ebd-4934fd81a29e"
   },
   "outputs": [
    {
     "name": "stdout",
     "output_type": "stream",
     "text": [
      "[[ 0.    0.04 -0.22 -0.    0.01]\n",
      " [ 0.    0.    0.    0.03  0.  ]\n",
      " [ 0.    0.01  0.   -0.1   0.72]\n",
      " [ 0.    0.    0.    0.    0.  ]\n",
      " [ 0.    0.45  0.   -0.19  0.  ]]\n",
      "[[ 0.    0.04 -0.22 -0.    0.01]\n",
      " [ 0.    0.    0.    0.03  0.  ]\n",
      " [ 0.    0.01  0.   -0.1   0.72]\n",
      " [ 0.    0.    0.    0.    0.  ]\n",
      " [ 0.    0.45  0.   -0.19  0.  ]]\n",
      "19.22948381142001\n",
      "19.22948381142001\n"
     ]
    }
   ],
   "source": [
    "def loss(W, X):\n",
    "    return 1 / T * np.linalg.norm(X - X @ W, 'f') ** 2\n",
    "\n",
    "def expected_MSE_X(W):\n",
    "    return np.linalg.inv(np.identity(p) - W).T @ np.linalg.inv(np.identity(p) - W)\n",
    "\n",
    "def true_loss(W_est, W_true):\n",
    "    return np.trace((W_est - np.identity(p)).T @ expected_MSE_X(W_true) @ (W_est- np.identity(p)))\n",
    "\n",
    "def get_likelihood(P):\n",
    "    # get optimal A for this permutation\n",
    "    W_opt = k_ols_W(Psi, P)\n",
    "\n",
    "    # get loss    \n",
    "    return loss(W_opt, X)\n",
    "\n",
    "print(np.round(k_ols_W(np.dot(X.T, X), P_true), 2))\n",
    "print(np.round(ols_W(X, P_true), 2))\n",
    "print(loss(ols_W(X, P_true), X))\n",
    "print(loss(k_ols_W(Psi, P_true), X))"
   ]
  },
  {
   "cell_type": "code",
   "execution_count": null,
   "id": "8fa269da",
   "metadata": {},
   "outputs": [],
   "source": [
    "%matplotlib notebook"
   ]
  },
  {
   "cell_type": "code",
   "execution_count": null,
   "id": "6266deb0",
   "metadata": {},
   "outputs": [],
   "source": [
    "import matplotlib.pyplot as plt\n",
    "from matplotlib.animation import FuncAnimation\n",
    "import numpy as np\n",
    "import os"
   ]
  },
  {
   "cell_type": "code",
   "execution_count": null,
   "id": "cc97e4b8",
   "metadata": {},
   "outputs": [],
   "source": [
    "fig, ax = plt.subplots()\n",
    "line, = ax.plot([])     # A tuple unpacking to unpack the only plot\n",
    "\n",
    "def animate(frame_num, acc_prob):\n",
    "    global P, P_best, L_best, likelihood_P, y, l_lim\n",
    "    \n",
    "    # sample next P\n",
    "    P_prime = sample_next_P(P)\n",
    "\n",
    "    # compute acceptance probability\n",
    "    likelihood_P_prime = get_likelihood(P_prime)\n",
    "    alpha = acc_prob(likelihood_P, likelihood_P_prime)\n",
    "\n",
    "    # prepare for next iteration\n",
    "    if np.random.rand() <= alpha:\n",
    "        P, likelihood_P = P_prime, likelihood_P_prime\n",
    "        # save best\n",
    "        if likelihood_P < L_best:\n",
    "            L_best = likelihood_P\n",
    "            P_best = P\n",
    "            \n",
    "            if L_best < l_lim:\n",
    "                l_lim /= 2\n",
    "                \n",
    "                ax.set_ylim(l_lim, l_lim * 2)\n",
    "                \n",
    "                L_best *= 10\n",
    "    \n",
    "    os.write(1, str(round(L_best)).encode())\n",
    "    \n",
    "    y.append(L_best)\n",
    "    \n",
    "    line.set_data(range(len(y[-100:])), y[-100:])\n",
    "    \n",
    "    return line\n",
    "\n",
    "T, p, s0, graph_type, sem_type = 1000, 100, 495, 'ER', 'gauss'\n",
    "\n",
    "B_true = simulate_dag(p, s0, graph_type)\n",
    "\n",
    "W_true = simulate_parameter(B_true)\n",
    "\n",
    "X = simulate_linear_sem(W_true, T, sem_type)\n",
    "Psi = np.dot(X.T, X)\n",
    "\n",
    "y = []\n",
    "\n",
    "\n",
    "P = np.identity(p)\n",
    "likelihood_P = get_likelihood(P)\n",
    "\n",
    "ax.set_xlim(0, 100)\n",
    "l_lim = likelihood_P // 10\n",
    "\n",
    "ax.set_ylim(l_lim, likelihood_P)\n",
    "\n",
    "P_best = P.copy()\n",
    "L_best = likelihood_P.copy()\n",
    "\n",
    "anim = FuncAnimation(fig, animate, fargs=(acc_prob_greed,), frames=1,  interval=10)\n",
    "plt.show()"
   ]
  },
  {
   "cell_type": "code",
   "execution_count": 18,
   "id": "377573c1",
   "metadata": {
    "id": "377573c1"
   },
   "outputs": [],
   "source": [
    "L_ols = loss(ols_W_full(X), X)\n",
    "k = 2\n",
    "\n",
    "def acc_prob_reg(L, L_new):\n",
    "    return min(L / L_new, 1)\n",
    "\n",
    "def acc_prob_trans(L, L_new, L_ols = L_ols):\n",
    "    return min((L - L_ols) / (L_new - L_ols), 1)\n",
    "\n",
    "def acc_prob_pow(L, L_new, k = k):\n",
    "    return min((L / L_new) ** k, 1)\n",
    "\n",
    "def acc_prob_trans_pow(L, L_new, k = k, L_ols = L_ols):\n",
    "    return min(((L - L_ols) / (L_new - L_ols)) ** k, 1)\n",
    "\n",
    "def acc_prob_greed(L, L_new, k = k, L_ols = L_ols):\n",
    "    return L_new < L\n",
    "\n",
    "def mcmc(max_it, verbose = False, P = np.identity(p), factor = 1.0, acc_prob = acc_prob_reg, total_time = 1e10):\n",
    "    start = timer()\n",
    "    # smallest likelihood\n",
    "    min_likelihood = 0 # loss(np.linalg.inv(X[:-1].T @ X[:-1]) @ X[:-1].T @ X[1:], X)\n",
    "    \n",
    "    # initial value\n",
    "    likelihood_P = get_likelihood(P) - min_likelihood\n",
    "\n",
    "    # current bests\n",
    "    P_best, L_best = P.copy(), likelihood_P.copy()\n",
    "    \n",
    "    # results\n",
    "    results_likelihood = [L_best]\n",
    "    results_l_iter = []\n",
    "    results_l_transition = []\n",
    "    results_l_next = []\n",
    "    num_missed_edges = []\n",
    "\n",
    "    # transitions\n",
    "    transitions = 0\n",
    "    \n",
    "    for i in tqdm(range(max_it)):   \n",
    "        # check if time has passed\n",
    "        if timer() - start > total_time: \n",
    "            break\n",
    "            \n",
    "        # sample next P\n",
    "        P_prime = sample_next_P(P)\n",
    "    \n",
    "        # compute acceptance probability\n",
    "        likelihood_P_prime = get_likelihood(P_prime)\n",
    "        alpha = acc_prob(likelihood_P, likelihood_P_prime)\n",
    "        \n",
    "        # print results\n",
    "        if verbose:\n",
    "            print(f\"Iteration {i+1}.\\n\")\n",
    "            print(f\"Old P:\\n{P}\\nLikelihood: {round(likelihood_P, 2)}\\n\\nNew P:\\n{P_prime}\\nLikelihood: {round(likelihood_P_prime, 2)}.\")\n",
    "            print(f\"\\nAcceptance probability: {round(alpha, 3)}.\")\n",
    "    \n",
    "        # prepare for next iteration\n",
    "        if np.random.rand() <= alpha:\n",
    "            transitions += 1\n",
    "            P, likelihood_P = P_prime, likelihood_P_prime\n",
    "            results_l_transition.append(likelihood_P_prime)\n",
    "            # save best\n",
    "            if likelihood_P < L_best:\n",
    "                L_best = likelihood_P\n",
    "                P_best = P\n",
    "        \n",
    "        # results\n",
    "        results_l_next.append(likelihood_P_prime)\n",
    "        results_likelihood.append(L_best)\n",
    "        results_l_iter.append(likelihood_P)\n",
    "        check_triu = np.triu(P_best @ P_true.T @ B_true @ P_true @ P_best.T)\n",
    "        num_missed_edges.append(len(check_triu[check_triu != 0]))\n",
    "        \n",
    "        if results_likelihood:\n",
    "    \n",
    "    if verbose:\n",
    "        print(transitions)\n",
    "        print(f\"Best permutation:\\n{P_best}\\n\\nLikelihood: {round(L_best, 2)}.\")\n",
    "    return P_best, [results_l_iter, results_likelihood, results_l_transition, results_l_next, num_missed_edges]\n",
    "\n",
    "def rw(max_it, verbose = False, P = np.identity(p), factor = 1.0):\n",
    "    # initial value\n",
    "    likelihood_P = get_likelihood(P)\n",
    "\n",
    "    # current bests\n",
    "    P_best, L_best = P.copy(), likelihood_P.copy()\n",
    "    \n",
    "    # results\n",
    "    results_likelihood = [L_best]\n",
    "    results_l_iter = []\n",
    "    num_missed_edges = []\n",
    "    for i in tqdm(range(max_it)):   \n",
    "        # sample next P\n",
    "        P = sample_next_P(P)\n",
    "    \n",
    "        # compute acceptance probability\n",
    "        likelihood_P = get_likelihood(P)\n",
    "        \n",
    "        # save best\n",
    "        if likelihood_P < L_best:\n",
    "            L_best = likelihood_P\n",
    "            P_best = P\n",
    "                \n",
    "        results_likelihood.append(L_best)\n",
    "        results_l_iter.append(likelihood_P)\n",
    "        check_triu = np.triu(P_best @ P_true.T @ B_true @ P_true @ P_best.T)\n",
    "        num_missed_edges.append(len(check_triu[check_triu != 0]))\n",
    "    \n",
    "    print(f\"Best permutation:\\n{P_best}\\n\\nLikelihood: {round(L_best, 2)}.\")\n",
    "    return P_best, [results_l_iter, results_likelihood, num_missed_edges]"
   ]
  },
  {
   "cell_type": "code",
   "execution_count": 14,
   "id": "081313ae",
   "metadata": {},
   "outputs": [
    {
     "name": "stderr",
     "output_type": "stream",
     "text": [
      "100%|████████████████████████████████████████████████████████████████████████████████| 50/50 [00:00<00:00, 1020.38it/s]"
     ]
    },
    {
     "name": "stdout",
     "output_type": "stream",
     "text": [
      "{'fdr': 0.0, 'tpr': 1.0, 'fpr': 0.0, 'shd': 0, 'nnz': 5}\n"
     ]
    },
    {
     "name": "stderr",
     "output_type": "stream",
     "text": [
      "\n"
     ]
    }
   ],
   "source": [
    "np.random.seed(seed = 123)\n",
    "Prtg, rg = mcmc(n_iter, False, acc_prob = acc_prob_greed)\n",
    "W_mcmc = ols_W(X, Prtg)\n",
    "W_mcmc[np.abs(W_mcmc) < 0.30] = 0\n",
    "acc = count_accuracy(B_true, W_mcmc != 0)\n",
    "print(acc)"
   ]
  },
  {
   "cell_type": "code",
   "execution_count": 12,
   "id": "176b7230",
   "metadata": {
    "colab": {
     "base_uri": "https://localhost:8080/"
    },
    "id": "176b7230",
    "outputId": "31ee22f2-e56f-4929-d1ba-ee610a950c5a"
   },
   "outputs": [
    {
     "name": "stderr",
     "output_type": "stream",
     "text": [
      "100%|████████████████████████████████████████████████████████████████████████████████| 50/50 [00:00<00:00, 1111.73it/s]\n",
      "100%|████████████████████████████████████████████████████████████████████████████████| 50/50 [00:00<00:00, 1063.84it/s]\n",
      "100%|████████████████████████████████████████████████████████████████████████████████| 50/50 [00:00<00:00, 1042.71it/s]\n",
      "100%|████████████████████████████████████████████████████████████████████████████████| 50/50 [00:00<00:00, 1063.86it/s]\n",
      "  0%|                                                                                           | 0/50 [00:00<?, ?it/s]"
     ]
    },
    {
     "name": "stdout",
     "output_type": "stream",
     "text": [
      "{'fdr': 0.0, 'tpr': 1.0, 'fpr': 0.0, 'shd': 0, 'nnz': 5}\n",
      "{'fdr': 0.0, 'tpr': 1.0, 'fpr': 0.0, 'shd': 0, 'nnz': 5}\n",
      "{'fdr': 0.0, 'tpr': 1.0, 'fpr': 0.0, 'shd': 0, 'nnz': 5}\n",
      "{'fdr': 0.0, 'tpr': 1.0, 'fpr': 0.0, 'shd': 0, 'nnz': 5}\n"
     ]
    },
    {
     "name": "stderr",
     "output_type": "stream",
     "text": [
      "100%|████████████████████████████████████████████████████████████████████████████████| 50/50 [00:00<00:00, 1041.57it/s]\n",
      "100%|████████████████████████████████████████████████████████████████████████████████| 50/50 [00:00<00:00, 1136.35it/s]"
     ]
    },
    {
     "name": "stdout",
     "output_type": "stream",
     "text": [
      "{'fdr': 0.0, 'tpr': 1.0, 'fpr': 0.0, 'shd': 0, 'nnz': 5}\n",
      "Best permutation:\n",
      "[[0. 0. 1. 0. 0.]\n",
      " [0. 0. 0. 0. 1.]\n",
      " [0. 0. 0. 1. 0.]\n",
      " [0. 1. 0. 0. 0.]\n",
      " [1. 0. 0. 0. 0.]]\n",
      "\n",
      "Likelihood: 4.86.\n",
      "{'fdr': 0.0, 'tpr': 1.0, 'fpr': 0.0, 'shd': 0, 'nnz': 5}\n"
     ]
    },
    {
     "name": "stderr",
     "output_type": "stream",
     "text": [
      "\n"
     ]
    }
   ],
   "source": [
    "n_iter = 50\n",
    "np.random.seed(seed = 123)\n",
    "P, r = mcmc(n_iter, False, acc_prob = acc_prob_reg)\n",
    "W_mcmc = ols_W(X, P)\n",
    "W_mcmc[np.abs(W_mcmc) < 0.30] = 0\n",
    "acc = count_accuracy(B_true, W_mcmc != 0)\n",
    "print(acc)\n",
    "\n",
    "np.random.seed(seed = 123)\n",
    "Prt, rt = mcmc(n_iter, False, acc_prob = acc_prob_trans)\n",
    "W_mcmc = ols_W(X, Prt)\n",
    "W_mcmc[np.abs(W_mcmc) < 0.30] = 0\n",
    "acc = count_accuracy(B_true, W_mcmc != 0)\n",
    "print(acc)\n",
    "\n",
    "np.random.seed(seed = 123)\n",
    "Prp, rp = mcmc(n_iter, False, acc_prob = acc_prob_pow)\n",
    "W_mcmc = ols_W(X, Prp)\n",
    "W_mcmc[np.abs(W_mcmc) < 0.30] = 0\n",
    "acc = count_accuracy(B_true, W_mcmc != 0)\n",
    "print(acc)\n",
    "\n",
    "np.random.seed(seed = 123)\n",
    "Prtp, rtp = mcmc(n_iter, False, acc_prob = acc_prob_trans_pow)\n",
    "W_mcmc = ols_W(X, Prtp)\n",
    "W_mcmc[np.abs(W_mcmc) < 0.30] = 0\n",
    "acc = count_accuracy(B_true, W_mcmc != 0)\n",
    "print(acc)\n",
    "\n",
    "np.random.seed(seed = 123)\n",
    "Prtg, rg = mcmc(n_iter, False, acc_prob = acc_prob_greed)\n",
    "W_mcmc = ols_W(X, Prtg)\n",
    "W_mcmc[np.abs(W_mcmc) < 0.30] = 0\n",
    "acc = count_accuracy(B_true, W_mcmc != 0)\n",
    "print(acc)\n",
    "np.random.seed(seed = 123)\n",
    "\n",
    "rwP, rw_l = rw(n_iter, False)\n",
    "W_mcmc = ols_W(X, rwP)\n",
    "W_mcmc[np.abs(W_mcmc) < 0.30] = 0\n",
    "acc = count_accuracy(B_true, W_mcmc != 0)\n",
    "print(acc)"
   ]
  },
  {
   "cell_type": "code",
   "execution_count": 15,
   "id": "eba5fff0",
   "metadata": {
    "colab": {
     "base_uri": "https://localhost:8080/",
     "height": 242
    },
    "id": "eba5fff0",
    "outputId": "0b02d5f6-5f78-47f7-ca3b-9682a9825c15"
   },
   "outputs": [
    {
     "data": {
      "text/plain": [
       "<matplotlib.legend.Legend at 0x169b83fe668>"
      ]
     },
     "execution_count": 15,
     "metadata": {},
     "output_type": "execute_result"
    },
    {
     "data": {
      "image/png": "[encoded data removed]",
      "text/plain": [
       "<Figure size 396x216 with 1 Axes>"
      ]
     },
     "metadata": {
      "needs_background": "light"
     },
     "output_type": "display_data"
    }
   ],
   "source": [
    "fig = plt.figure(figsize = (5.5, 3))\n",
    "plt.xlabel(\"Iteration number\")\n",
    "plt.ylabel(\"Likelihood\")\n",
    "plt.plot(np.array(r[0]), label = \"Metropolis-Hastings\")\n",
    "plt.plot(np.array(rw_l[0]), label = \"Random Walk\")\n",
    "plt.legend()"
   ]
  },
  {
   "cell_type": "code",
   "execution_count": 17,
   "id": "d58e6179",
   "metadata": {
    "colab": {
     "base_uri": "https://localhost:8080/",
     "height": 1000
    },
    "id": "d58e6179",
    "outputId": "8b2a4a5f-3d22-491d-9dac-b8dab228898e"
   },
   "outputs": [
    {
     "name": "stdout",
     "output_type": "stream",
     "text": [
      "Regular MCMC\n",
      "8.870186864796464\n",
      "7.3024796578338504\n",
      "Squared MCMC\n",
      "7.9921642198001175\n",
      "6.754887741082677\n",
      "Translated MCMC\n",
      "7.958280953441836\n",
      "7.297352716555377\n",
      "Squared Translated MCMC\n",
      "6.062479254516877\n",
      "5.522016238167305\n",
      "Greedy MCMC\n",
      "5.6495511220337855\n",
      "5.426152932919197\n",
      "RW\n",
      "12.845627122465324\n",
      "9.407233755330331\n"
     ]
    },
    {
     "data": {
      "image/png": "[encoded data removed]",
      "text/plain": [
       "<Figure size 432x288 with 1 Axes>"
      ]
     },
     "metadata": {
      "needs_background": "light"
     },
     "output_type": "display_data"
    },
    {
     "data": {
      "image/png": "[encoded data removed]",
      "text/plain": [
       "<Figure size 432x288 with 1 Axes>"
      ]
     },
     "metadata": {
      "needs_background": "light"
     },
     "output_type": "display_data"
    },
    {
     "data": {
      "image/png": "[encoded data removed]",
      "text/plain": [
       "<Figure size 432x288 with 1 Axes>"
      ]
     },
     "metadata": {
      "needs_background": "light"
     },
     "output_type": "display_data"
    },
    {
     "data": {
      "image/png": "[encoded data removed]",
      "text/plain": [
       "<Figure size 432x288 with 1 Axes>"
      ]
     },
     "metadata": {
      "needs_background": "light"
     },
     "output_type": "display_data"
    },
    {
     "data": {
      "image/png": "[encoded data removed]",
      "text/plain": [
       "<Figure size 432x288 with 1 Axes>"
      ]
     },
     "metadata": {
      "needs_background": "light"
     },
     "output_type": "display_data"
    },
    {
     "data": {
      "image/png": "[encoded data removed]",
      "text/plain": [
       "<Figure size 432x288 with 1 Axes>"
      ]
     },
     "metadata": {
      "needs_background": "light"
     },
     "output_type": "display_data"
    }
   ],
   "source": [
    "print(\"Regular MCMC\")\n",
    "print(np.mean(np.array(r[0])))\n",
    "print(np.median(np.array(r[0])))\n",
    "\n",
    "print(\"Squared MCMC\")\n",
    "print(np.mean(np.array(rp[0])))\n",
    "print(np.median(np.array(rp[0])))\n",
    "\n",
    "print(\"Translated MCMC\")\n",
    "print(np.mean(np.array(rt[0])))\n",
    "print(np.median(np.array(rt[0])))\n",
    "\n",
    "print(\"Squared Translated MCMC\")\n",
    "print(np.mean(np.array(rtp[0])))\n",
    "print(np.median(np.array(rtp[0])))\n",
    "\n",
    "print(\"Greedy MCMC\")\n",
    "print(np.mean(np.array(rg[0])))\n",
    "print(np.median(np.array(rg[0])))\n",
    "\n",
    "print(\"RW\")\n",
    "print(np.mean(np.array(rw_l[0])))\n",
    "print(np.median(np.array(rw_l[0])))\n",
    "\n",
    "plt.xlabel(\"Iteration number\")\n",
    "plt.ylabel(\"Likelihood\")\n",
    "plt.plot(r[0], label = \"Normal MCMC\")\n",
    "plt.legend()\n",
    "\n",
    "plt.show()\n",
    "plt.plot(rp[0], label = \"Squared MCMC\")\n",
    "plt.legend()\n",
    "\n",
    "plt.show()\n",
    "plt.plot(rt[0], label = \"Translated MCMC\")\n",
    "plt.legend()\n",
    "\n",
    "plt.show()\n",
    "plt.plot(rtp[0], label = \"Squared Translated MCMC\")\n",
    "plt.legend()\n",
    "\n",
    "plt.show()\n",
    "plt.plot(rg[0], label = \"Greedy MCMC\")\n",
    "plt.legend()\n",
    "plt.show()\n",
    "\n",
    "plt.show()\n",
    "plt.plot(rw_l[0], label = \"Random Walk\")\n",
    "plt.legend()\n",
    "plt.show()"
   ]
  },
  {
   "cell_type": "code",
   "execution_count": 18,
   "id": "c04d00fe",
   "metadata": {
    "colab": {
     "base_uri": "https://localhost:8080/",
     "height": 1000
    },
    "id": "c04d00fe",
    "outputId": "d205bb9d-c3e3-4f41-815f-1e0dde43f9ce"
   },
   "outputs": [
    {
     "data": {
      "image/png": "[encoded data removed]",
      "text/plain": [
       "<Figure size 432x288 with 1 Axes>"
      ]
     },
     "metadata": {
      "needs_background": "light"
     },
     "output_type": "display_data"
    },
    {
     "data": {
      "image/png": "[encoded data removed]",
      "text/plain": [
       "<Figure size 432x288 with 1 Axes>"
      ]
     },
     "metadata": {
      "needs_background": "light"
     },
     "output_type": "display_data"
    },
    {
     "data": {
      "image/png": "[encoded data removed]",
      "text/plain": [
       "<Figure size 432x288 with 1 Axes>"
      ]
     },
     "metadata": {
      "needs_background": "light"
     },
     "output_type": "display_data"
    },
    {
     "data": {
      "image/png": "[encoded data removed]",
      "text/plain": [
       "<Figure size 432x288 with 1 Axes>"
      ]
     },
     "metadata": {
      "needs_background": "light"
     },
     "output_type": "display_data"
    },
    {
     "data": {
      "image/png": "[encoded data removed]",
      "text/plain": [
       "<Figure size 432x288 with 1 Axes>"
      ]
     },
     "metadata": {
      "needs_background": "light"
     },
     "output_type": "display_data"
    },
    {
     "data": {
      "image/png": "[encoded data removed]",
      "text/plain": [
       "<Figure size 432x288 with 1 Axes>"
      ]
     },
     "metadata": {
      "needs_background": "light"
     },
     "output_type": "display_data"
    }
   ],
   "source": [
    "plt.xlabel(\"Iteration number\")\n",
    "plt.ylabel(\"Likelihood\")\n",
    "plt.plot(r[1], label = \"Normal MCMC\")\n",
    "plt.legend()\n",
    "\n",
    "plt.show()\n",
    "plt.plot(rp[1], label = \"Squared MCMC\")\n",
    "plt.legend()\n",
    "\n",
    "plt.show()\n",
    "plt.plot(rt[1], label = \"Translated MCMC\")\n",
    "plt.legend()\n",
    "\n",
    "plt.show()\n",
    "plt.plot(rtp[1], label = \"Squared Translated MCMC\")\n",
    "plt.legend()\n",
    "\n",
    "plt.show()\n",
    "plt.plot(rg[1], label = \"Greedy MCMC\")\n",
    "plt.legend()\n",
    "plt.show()\n",
    "\n",
    "plt.show()\n",
    "plt.plot(rw_l[1], label = \"Random Walk\")\n",
    "plt.legend()\n",
    "plt.show()"
   ]
  },
  {
   "cell_type": "code",
   "execution_count": 20,
   "id": "59eee496",
   "metadata": {
    "colab": {
     "base_uri": "https://localhost:8080/",
     "height": 432
    },
    "id": "59eee496",
    "outputId": "93618797-5e25-4eda-992f-8f8462f5c186"
   },
   "outputs": [
    {
     "name": "stderr",
     "output_type": "stream",
     "text": [
      "100%|█████████████████████████████████████████████████████████████████████████████| 120/120 [00:00<00:00, 11910.28it/s]\n"
     ]
    },
    {
     "data": {
      "text/plain": [
       "3"
      ]
     },
     "execution_count": 20,
     "metadata": {},
     "output_type": "execute_result"
    }
   ],
   "source": [
    "import itertools\n",
    "\n",
    "def get_permutations(W):\n",
    "    \"\"\"@params: Weighted Adjacency Matrix W as numpy array\"\"\"\n",
    "    # tracks the total number of permutations\n",
    "    total = 0\n",
    "    \n",
    "    # iterate over all permutations of the identity matrix\n",
    "    for perm in tqdm(itertools.permutations(np.identity(np.shape(W)[0])), total = np.math.factorial(p)):\n",
    "        # convert to numpy array\n",
    "        P = np.array(perm)\n",
    "        \n",
    "        # check if we have an upper triangular matrix\n",
    "        if np.allclose(P.T @ W @ P, np.triu(P.T @ W @ P)):\n",
    "            total += 1\n",
    "            \n",
    "    # return the number of suitable permutations\n",
    "    return total\n",
    "\n",
    "get_permutations(W_true)"
   ]
  },
  {
   "cell_type": "code",
   "execution_count": 21,
   "id": "3c8a0660",
   "metadata": {
    "colab": {
     "base_uri": "https://localhost:8080/"
    },
    "id": "3c8a0660",
    "outputId": "8f8b8325-7a65-482a-d660-432ddf189145"
   },
   "outputs": [
    {
     "name": "stdout",
     "output_type": "stream",
     "text": [
      "SEM based on a graph on 5 nodes and 5 edges, 100 samples.\n",
      "Original Adjacency Matrix:\n",
      "[[0. 0. 0. 0. 0.]\n",
      " [1. 0. 0. 1. 0.]\n",
      " [1. 0. 0. 0. 0.]\n",
      " [0. 0. 0. 0. 0.]\n",
      " [1. 0. 0. 1. 0.]].\n",
      "\n",
      "Original WAM:\n",
      "[[ 0.   0.   0.   0.   0. ]\n",
      " [-1.3  0.   0.  -1.9  0. ]\n",
      " [ 1.9  0.   0.   0.   0. ]\n",
      " [ 0.   0.   0.   0.   0. ]\n",
      " [ 1.2  0.   0.  -1.2  0. ]].\n",
      "\n",
      "0123456"
     ]
    },
    {
     "name": "stderr",
     "output_type": "stream",
     "text": [
      " 65%|████████████████████████████████████████████████████▏                           | 92/141 [00:00<00:00, 916.78it/s]"
     ]
    },
    {
     "name": "stdout",
     "output_type": "stream",
     "text": [
      "7Estimated WAM:\n",
      "[[ 0.   0.   0.   0.   0. ]\n",
      " [-1.7  0.   0.  -1.9  0. ]\n",
      " [ 1.7  0.   0.   0.   0. ]\n",
      " [ 0.   0.   0.   0.   0. ]\n",
      " [ 1.2  0.   0.  -1.2  0. ]].\n",
      "\n",
      "{'fdr': 0.0, 'tpr': 1.0, 'fpr': 0.0, 'shd': 0, 'nnz': 5}\n",
      "4.6925424620195555\n",
      "Elapsed time: 1.42.\n"
     ]
    },
    {
     "name": "stderr",
     "output_type": "stream",
     "text": [
      "\r",
      "100%|███████████████████████████████████████████████████████████████████████████████| 141/141 [00:00<00:00, 912.29it/s]"
     ]
    },
    {
     "name": "stdout",
     "output_type": "stream",
     "text": [
      "{'fdr': 0.0, 'tpr': 1.0, 'fpr': 0.0, 'shd': 0, 'nnz': 5}\n"
     ]
    },
    {
     "name": "stderr",
     "output_type": "stream",
     "text": [
      "\n"
     ]
    }
   ],
   "source": [
    "# notears versus MCMC greedy\n",
    "T, p, s0, graph_type, sem_type = 100, 5, 5, 'ER', 'gauss'\n",
    "print(f\"SEM based on a graph on {p} nodes and {s0} edges, {T} samples.\")\n",
    "\n",
    "B_true = simulate_dag(p, s0, graph_type)\n",
    "print(f\"Original Adjacency Matrix:\\n{B_true}.\\n\")\n",
    "\n",
    "W_true = simulate_parameter(B_true)\n",
    "print(f\"Original WAM:\\n{np.round(W_true, 1)}.\\n\")\n",
    "\n",
    "X = simulate_linear_sem(W_true, T, sem_type)\n",
    "Psi = np.dot(X.T, X)\n",
    "\n",
    "start = timer()\n",
    "W_est, h_val = notears_linear(X, lambda1=0.0, loss_type='l2', verbose = False)\n",
    "print(f\"Estimated WAM:\\n{np.round(W_est, 1)}.\\n\")\n",
    "\n",
    "acc = count_accuracy(B_true, W_est != 0)\n",
    "print(acc)\n",
    "print(loss(W_est, X))\n",
    "total_time = timer() - start\n",
    "print(f\"Elapsed time: {round(total_time, 2)}.\")\n",
    "order = is_dag(B_true)[1]\n",
    "P_true = np.zeros((p, p))\n",
    "for i in range(p):\n",
    "    P_true[order[-i]][i] = 1\n",
    "    \n",
    "np.random.seed(seed = 123)\n",
    "iters = int(100 * total_time)\n",
    "Prtg, rg = mcmc(iters, False, acc_prob = acc_prob_greed, P = np.identity(p))\n",
    "W_mcmc = ols_W(X, Prtg)\n",
    "W_mcmc[np.abs(W_mcmc) < 0.30] = 0\n",
    "acc = count_accuracy(B_true, W_mcmc != 0)\n",
    "print(acc)"
   ]
  },
  {
   "cell_type": "code",
   "execution_count": 42,
   "id": "58ded5bc",
   "metadata": {},
   "outputs": [
    {
     "name": "stdout",
     "output_type": "stream",
     "text": [
      "47\n"
     ]
    }
   ],
   "source": [
    "p, c = 20, 0.25\n",
    "num_edges = int(c * p * (p - 1) / 2)\n",
    "print(num_edges)"
   ]
  },
  {
   "cell_type": "code",
   "execution_count": 43,
   "id": "54ee8194",
   "metadata": {
    "colab": {
     "base_uri": "https://localhost:8080/"
    },
    "id": "54ee8194",
    "outputId": "9c32b50c-da8a-480f-e9dd-149892a34e52"
   },
   "outputs": [
    {
     "name": "stdout",
     "output_type": "stream",
     "text": [
      "p: 5.\n",
      "\n",
      "0123456"
     ]
    },
    {
     "name": "stderr",
     "output_type": "stream",
     "text": [
      "  0%|                                                                 | 101/10000000000 [00:00<2777:45:59, 1000.00it/s]"
     ]
    },
    {
     "name": "stdout",
     "output_type": "stream",
     "text": [
      "7Elapsed time 1.96 seconds.\n"
     ]
    },
    {
     "name": "stderr",
     "output_type": "stream",
     "text": [
      "  0%|                                                                 | 1903/10000000000 [00:01<2852:35:30, 973.77it/s]\n"
     ]
    },
    {
     "name": "stdout",
     "output_type": "stream",
     "text": [
      "01234567Elapsed time 1.29 seconds."
     ]
    },
    {
     "name": "stderr",
     "output_type": "stream",
     "text": [
      "  0%|                                                                   | 44/10000000000 [00:00<6372:13:59, 435.92it/s]"
     ]
    },
    {
     "name": "stdout",
     "output_type": "stream",
     "text": [
      "\n"
     ]
    },
    {
     "name": "stderr",
     "output_type": "stream",
     "text": [
      "  0%|                                                                  | 982/10000000000 [00:01<3657:14:17, 759.53it/s]\n"
     ]
    },
    {
     "name": "stdout",
     "output_type": "stream",
     "text": [
      "01234567"
     ]
    },
    {
     "name": "stderr",
     "output_type": "stream",
     "text": [
      "  0%|                                                                   | 75/10000000000 [00:00<3777:47:43, 735.29it/s]"
     ]
    },
    {
     "name": "stdout",
     "output_type": "stream",
     "text": [
      "Elapsed time 1.06 seconds.\n"
     ]
    },
    {
     "name": "stderr",
     "output_type": "stream",
     "text": [
      "  0%|                                                                  | 939/10000000000 [00:01<3128:42:19, 887.84it/s]\n"
     ]
    },
    {
     "name": "stdout",
     "output_type": "stream",
     "text": [
      "0123456"
     ]
    },
    {
     "name": "stderr",
     "output_type": "stream",
     "text": [
      "  0%|                                                                   | 98/10000000000 [00:00<2850:28:50, 974.49it/s]"
     ]
    },
    {
     "name": "stdout",
     "output_type": "stream",
     "text": [
      "7Elapsed time 1.21 seconds.\n"
     ]
    },
    {
     "name": "stderr",
     "output_type": "stream",
     "text": [
      "  0%|                                                                 | 1134/10000000000 [00:01<2953:10:04, 940.61it/s]\n"
     ]
    },
    {
     "name": "stdout",
     "output_type": "stream",
     "text": [
      "0123456"
     ]
    },
    {
     "name": "stderr",
     "output_type": "stream",
     "text": [
      "\r",
      "  0%|                                                                                  | 0/10000000000 [00:00<?, ?it/s]"
     ]
    },
    {
     "name": "stdout",
     "output_type": "stream",
     "text": [
      "7Elapsed time 0.85 seconds.\n"
     ]
    },
    {
     "name": "stderr",
     "output_type": "stream",
     "text": [
      "  0%|                                                                  | 791/10000000000 [00:00<2994:51:53, 927.51it/s]\n"
     ]
    },
    {
     "name": "stdout",
     "output_type": "stream",
     "text": [
      "0123456"
     ]
    },
    {
     "name": "stderr",
     "output_type": "stream",
     "text": [
      "  0%|                                                                   | 99/10000000000 [00:00<2830:19:02, 981.44it/s]"
     ]
    },
    {
     "name": "stdout",
     "output_type": "stream",
     "text": [
      "7Elapsed time 1.54 seconds.\n"
     ]
    },
    {
     "name": "stderr",
     "output_type": "stream",
     "text": [
      "  0%|                                                                  | 827/10000000000 [00:01<5170:16:42, 537.26it/s]\n"
     ]
    },
    {
     "name": "stdout",
     "output_type": "stream",
     "text": [
      "0123456"
     ]
    },
    {
     "name": "stderr",
     "output_type": "stream",
     "text": [
      "\r",
      "  0%|                                                                                  | 0/10000000000 [00:00<?, ?it/s]"
     ]
    },
    {
     "name": "stdout",
     "output_type": "stream",
     "text": [
      "7Elapsed time 1.61 seconds.\n"
     ]
    },
    {
     "name": "stderr",
     "output_type": "stream",
     "text": [
      "  0%|                                                                 | 1456/10000000000 [00:01<3061:51:33, 907.22it/s]\n"
     ]
    },
    {
     "name": "stdout",
     "output_type": "stream",
     "text": [
      "01234567"
     ]
    },
    {
     "name": "stderr",
     "output_type": "stream",
     "text": [
      "  0%|                                                                 | 103/10000000000 [00:00<2697:03:19, 1029.93it/s]"
     ]
    },
    {
     "name": "stdout",
     "output_type": "stream",
     "text": [
      "Elapsed time 2.08 seconds.\n"
     ]
    },
    {
     "name": "stderr",
     "output_type": "stream",
     "text": [
      "  0%|                                                                 | 1911/10000000000 [00:02<3020:42:01, 919.58it/s]\n"
     ]
    },
    {
     "name": "stdout",
     "output_type": "stream",
     "text": [
      "0123456"
     ]
    },
    {
     "name": "stderr",
     "output_type": "stream",
     "text": [
      "\r",
      "  0%|                                                                                  | 0/10000000000 [00:00<?, ?it/s]"
     ]
    },
    {
     "name": "stdout",
     "output_type": "stream",
     "text": [
      "7Elapsed time 1.43 seconds.\n"
     ]
    },
    {
     "name": "stderr",
     "output_type": "stream",
     "text": [
      "  0%|                                                                 | 1242/10000000000 [00:01<3195:40:01, 869.23it/s]\n"
     ]
    },
    {
     "name": "stdout",
     "output_type": "stream",
     "text": [
      "01234567"
     ]
    },
    {
     "name": "stderr",
     "output_type": "stream",
     "text": [
      "  0%|                                                                   | 63/10000000000 [00:00<4453:10:54, 623.77it/s]"
     ]
    },
    {
     "name": "stdout",
     "output_type": "stream",
     "text": [
      "Elapsed time 1.69 seconds.\n"
     ]
    },
    {
     "name": "stderr",
     "output_type": "stream",
     "text": [
      "  0%|                                                                 | 1306/10000000000 [00:01<3590:48:36, 773.58it/s]\n"
     ]
    },
    {
     "name": "stdout",
     "output_type": "stream",
     "text": [
      "[[1.0, 1.0, 1.0, 1.0, 1.0, 1.0, 1.0, 1.0, 1.0, 1.0], [0.0, 0.0, 0.0, 0.0, 0.0, 0.0, 0.0, 0.0, 0.0, 0.0], [0, 0, 0, 0, 0, 0, 0, 0, 0, 0], [0.0, 0.0, 0.0, 0.0, 0.0, 0.0, 0.0, 0.0, 0.0, 0.0], [4.975105146631232, 5.131466201435529, 4.952142447598717, 5.0252659126585115, 4.910484941170506, 4.888654200931207, 5.185667124142803, 4.94709950438461, 5.277519620569526, 4.995176792076789], [5.002256746795536, 5.003862128565589, 5.000011329859088, 5.000690676486443, 5.000110649764382, 5.000377793579926, 5.004787341875838, 5.003446449121342, 5.000967211465719, 5.007478232241741]]\n",
      "[[1.0, 1.0, 1.0, 1.0, 1.0, 1.0, 1.0, 1.0, 1.0, 1.0], [0.0, 0.0, 0.0, 0.0, 0.0, 0.0, 0.0, 0.0, 0.0, 0.0], [0, 0, 0, 0, 0, 0, 0, 0, 0, 0], [0.0, 0.0, 0.0, 0.0, 0.0, 0.0, 0.0, 0.0, 0.0, 0.0], [4.9747410716559735, 5.131496127033417, 4.952142752049999, 5.024967340081189, 4.910482189820074, 4.888657383174635, 5.1856674834897305, 4.946958526808419, 5.277520972853726, 4.9953544398605265], [5.001978501277005, 5.004027529752783, 5.000014700041971, 5.000388321805456, 5.00007891623232, 5.000310070097967, 5.004794025968671, 5.003266404453279, 5.000989772451465, 5.006570821752095]]\n",
      "[[1.0, 1.0, 1.0, 1.0, 1.0, 1.0, 1.0, 1.0, 1.0, 1.0], [0.0, 0.0, 0.0, 0.0, 0.0, 0.0, 0.0, 0.0, 0.0, 0.0], [0, 0, 0, 0, 0, 0, 0, 0, 0, 0], [0.0, 0.0, 0.0, 0.0, 0.0, 0.0, 0.0, 0.0, 0.0, 0.0], [4.975095916456373, 5.131496127033417, 4.952142415759861, 5.024962767415937, 4.910484301256609, 4.888648327266127, 5.1856674834897305, 4.946714040937372, 5.277520340382769, 4.9955606661549465], [5.002175760619651, 5.004027529752783, 5.0000124027065045, 5.00038738306776, 5.000102458175214, 5.000259573920835, 5.004794025968671, 5.003004217129039, 5.000984743063233, 5.00914009840473]]\n",
      "p: 10.\n",
      "\n",
      "01234567"
     ]
    },
    {
     "name": "stderr",
     "output_type": "stream",
     "text": [
      "\r",
      "  0%|                                                                                  | 0/10000000000 [00:00<?, ?it/s]"
     ]
    },
    {
     "name": "stdout",
     "output_type": "stream",
     "text": [
      "Elapsed time 5.2 seconds.\n"
     ]
    },
    {
     "name": "stderr",
     "output_type": "stream",
     "text": [
      "  0%|                                                                 | 1976/10000000000 [00:05<7307:01:15, 380.15it/s]\n"
     ]
    },
    {
     "name": "stdout",
     "output_type": "stream",
     "text": [
      "01234567"
     ]
    },
    {
     "name": "stderr",
     "output_type": "stream",
     "text": [
      "  0%|                                                                   | 40/10000000000 [00:00<6965:11:00, 398.81it/s]"
     ]
    },
    {
     "name": "stdout",
     "output_type": "stream",
     "text": [
      "Elapsed time 6.01 seconds.\n"
     ]
    },
    {
     "name": "stderr",
     "output_type": "stream",
     "text": [
      "  0%|                                                                 | 1959/10000000000 [00:06<8514:50:34, 326.23it/s]\n"
     ]
    },
    {
     "name": "stdout",
     "output_type": "stream",
     "text": [
      "01234567"
     ]
    },
    {
     "name": "stderr",
     "output_type": "stream",
     "text": [
      "  0%|                                                                   | 42/10000000000 [00:00<6620:31:50, 419.57it/s]"
     ]
    },
    {
     "name": "stdout",
     "output_type": "stream",
     "text": [
      "Elapsed time 7.37 seconds.\n"
     ]
    },
    {
     "name": "stderr",
     "output_type": "stream",
     "text": [
      "  0%|                                                                 | 2858/10000000000 [00:07<7156:09:04, 388.17it/s]\n"
     ]
    },
    {
     "name": "stdout",
     "output_type": "stream",
     "text": [
      "01234567"
     ]
    },
    {
     "name": "stderr",
     "output_type": "stream",
     "text": [
      "  0%|                                                                   | 40/10000000000 [00:00<7102:16:27, 391.11it/s]"
     ]
    },
    {
     "name": "stdout",
     "output_type": "stream",
     "text": [
      "Elapsed time 8.37 seconds.\n"
     ]
    },
    {
     "name": "stderr",
     "output_type": "stream",
     "text": [
      "  0%|                                                                 | 2590/10000000000 [00:08<8970:33:37, 309.65it/s]\n"
     ]
    },
    {
     "name": "stdout",
     "output_type": "stream",
     "text": [
      "01234567"
     ]
    },
    {
     "name": "stderr",
     "output_type": "stream",
     "text": [
      "  0%|                                                                   | 36/10000000000 [00:00<7828:16:44, 354.84it/s]"
     ]
    },
    {
     "name": "stdout",
     "output_type": "stream",
     "text": [
      "Elapsed time 5.74 seconds.\n"
     ]
    },
    {
     "name": "stderr",
     "output_type": "stream",
     "text": [
      "  0%|                                                                 | 1919/10000000000 [00:05<8297:47:43, 334.76it/s]\n"
     ]
    },
    {
     "name": "stdout",
     "output_type": "stream",
     "text": [
      "012345678"
     ]
    },
    {
     "name": "stderr",
     "output_type": "stream",
     "text": [
      "  0%|                                                                   | 36/10000000000 [00:00<7765:00:48, 357.73it/s]"
     ]
    },
    {
     "name": "stdout",
     "output_type": "stream",
     "text": [
      "Elapsed time 7.05 seconds.\n"
     ]
    },
    {
     "name": "stderr",
     "output_type": "stream",
     "text": [
      "  0%|                                                                 | 2787/10000000000 [00:07<7021:49:20, 395.59it/s]\n"
     ]
    },
    {
     "name": "stdout",
     "output_type": "stream",
     "text": [
      "01234567"
     ]
    },
    {
     "name": "stderr",
     "output_type": "stream",
     "text": [
      "  0%|                                                                   | 43/10000000000 [00:00<6460:04:50, 429.99it/s]"
     ]
    },
    {
     "name": "stdout",
     "output_type": "stream",
     "text": [
      "Elapsed time 6.07 seconds.\n"
     ]
    },
    {
     "name": "stderr",
     "output_type": "stream",
     "text": [
      "  0%|                                                                 | 2455/10000000000 [00:06<6869:17:36, 404.38it/s]\n"
     ]
    },
    {
     "name": "stdout",
     "output_type": "stream",
     "text": [
      "01234567"
     ]
    },
    {
     "name": "stderr",
     "output_type": "stream",
     "text": [
      "  0%|                                                                   | 41/10000000000 [00:00<6950:57:05, 399.63it/s]"
     ]
    },
    {
     "name": "stdout",
     "output_type": "stream",
     "text": [
      "Elapsed time 5.16 seconds.\n"
     ]
    },
    {
     "name": "stderr",
     "output_type": "stream",
     "text": [
      "  0%|                                                                 | 2084/10000000000 [00:05<6876:18:44, 403.96it/s]\n"
     ]
    },
    {
     "name": "stdout",
     "output_type": "stream",
     "text": [
      "01234567"
     ]
    },
    {
     "name": "stderr",
     "output_type": "stream",
     "text": [
      "  0%|                                                                   | 45/10000000000 [00:00<6201:16:01, 447.94it/s]"
     ]
    },
    {
     "name": "stdout",
     "output_type": "stream",
     "text": [
      "Elapsed time 4.99 seconds.\n"
     ]
    },
    {
     "name": "stderr",
     "output_type": "stream",
     "text": [
      "  0%|                                                                 | 2044/10000000000 [00:04<6781:22:58, 409.62it/s]\n"
     ]
    },
    {
     "name": "stdout",
     "output_type": "stream",
     "text": [
      "01234567"
     ]
    },
    {
     "name": "stderr",
     "output_type": "stream",
     "text": [
      "  0%|                                                                   | 45/10000000000 [00:00<6206:47:10, 447.54it/s]"
     ]
    },
    {
     "name": "stdout",
     "output_type": "stream",
     "text": [
      "Elapsed time 4.89 seconds.\n"
     ]
    },
    {
     "name": "stderr",
     "output_type": "stream",
     "text": [
      "  0%|                                                                 | 1987/10000000000 [00:04<6839:15:59, 406.15it/s]\n"
     ]
    },
    {
     "name": "stdout",
     "output_type": "stream",
     "text": [
      "[[1.0, 0.9090909090909091, 0.9090909090909091, 1.0, 1.0, 1.0, 1.0, 1.0, 1.0, 0.9090909090909091], [0.0, 0.09090909090909091, 0.16666666666666666, 0.0, 0.0, 0.0, 0.0, 0.0, 0.0, 0.09090909090909091], [0, 1, 2, 0, 0, 0, 0, 0, 0, 1], [0.0, 0.029411764705882353, 0.058823529411764705, 0.0, 0.0, 0.0, 0.0, 0.0, 0.0, 0.029411764705882353], [10.129240249684129, 10.363024082351034, 10.219250071350173, 10.141631052810625, 10.103179934972959, 10.024760016111456, 9.958431585459701, 9.985508084332865, 9.949564582002374, 9.928349888656326], [10.024461065074693, 10.258132241581434, 10.17921693683715, 10.044711510744438, 10.01510623063262, 10.07873314116839, 10.006104655558863, 10.011954996718286, 10.012661570765614, 10.082081333407661]]\n",
      "[[1.0, 1.0, 1.0, 1.0, 1.0, 1.0, 1.0, 1.0, 1.0, 1.0], [0.0, 0.0, 0.0, 0.0, 0.0, 0.0, 0.0, 0.0, 0.0, 0.0], [0, 0, 0, 0, 0, 0, 0, 0, 0, 0], [0.0, 0.0, 0.0, 0.0, 0.0, 0.0, 0.0, 0.0, 0.0, 0.0], [10.136329158255936, 10.283735254294708, 10.10985047330302, 10.140305554802545, 10.103637632173038, 10.011464122871274, 9.96169994110708, 9.987583311050104, 9.951466277716966, 9.89695294255287], [10.031303757505977, 10.185670540015183, 10.044838877160652, 10.043222311828861, 10.016068493541063, 10.057865053760718, 10.00679452015521, 10.013297471663464, 10.013625740320865, 10.025827150801007]]\n",
      "[[0.8181818181818182, 0.7272727272727273, 0.8181818181818182, 1.0, 1.0, 1.0, 1.0, 0.9090909090909091, 0.9090909090909091, 1.0], [0.25, 0.4666666666666667, 0.25, 0.0, 0.0, 0.0, 0.0, 0.23076923076923078, 0.09090909090909091, 0.0], [3, 9, 4, 0, 0, 0, 0, 3, 1, 0], [0.08823529411764706, 0.20588235294117646, 0.08823529411764706, 0.0, 0.0, 0.0, 0.0, 0.08823529411764706, 0.029411764705882353, 0.0], [10.676026512515026, 14.124299090069686, 10.24660595555249, 10.220474944209906, 10.102505424827696, 10.007787115076912, 9.961967021369839, 11.29950970205412, 10.894505280953696, 9.894441818720837], [10.665307440745783, 13.862715338756209, 10.164855400951371, 10.11900995134605, 10.017714889755016, 10.04679394256877, 10.009588734296821, 11.327933679185739, 11.059851546154455, 10.022419632123658]]\n",
      "p: 30.\n",
      "\n",
      "01234567Elapsed time 576.84 seconds.\n"
     ]
    },
    {
     "name": "stderr",
     "output_type": "stream",
     "text": [
      "  0%|                                                                | 36308/10000000000 [09:36<44131:11:06, 62.94it/s]\n"
     ]
    },
    {
     "name": "stdout",
     "output_type": "stream",
     "text": [
      "012345678Elapsed time 902.93 seconds.\n"
     ]
    },
    {
     "name": "stderr",
     "output_type": "stream",
     "text": [
      "  0%|                                                                | 55867/10000000000 [15:02<44894:40:49, 61.87it/s]\n"
     ]
    },
    {
     "name": "stdout",
     "output_type": "stream",
     "text": [
      "01234567Elapsed time 403.75 seconds.\n"
     ]
    },
    {
     "name": "stderr",
     "output_type": "stream",
     "text": [
      "  0%|                                                                | 26376/10000000000 [06:43<42520:46:11, 65.33it/s]\n"
     ]
    },
    {
     "name": "stdout",
     "output_type": "stream",
     "text": [
      "0123456789Elapsed time 642.22 seconds.\n"
     ]
    },
    {
     "name": "stderr",
     "output_type": "stream",
     "text": [
      "  0%|                                                                | 35068/10000000000 [10:42<50869:32:53, 54.61it/s]\n"
     ]
    },
    {
     "name": "stdout",
     "output_type": "stream",
     "text": [
      "012345678Elapsed time 293.81 seconds.\n"
     ]
    },
    {
     "name": "stderr",
     "output_type": "stream",
     "text": [
      "  0%|                                                                | 20848/10000000000 [04:53<39147:03:35, 70.96it/s]\n"
     ]
    },
    {
     "name": "stdout",
     "output_type": "stream",
     "text": [
      "012345678Elapsed time 254.52 seconds.\n"
     ]
    },
    {
     "name": "stderr",
     "output_type": "stream",
     "text": [
      "  0%|                                                                | 14304/10000000000 [04:14<49427:49:51, 56.20it/s]\n"
     ]
    },
    {
     "name": "stdout",
     "output_type": "stream",
     "text": [
      "012345678Elapsed time 824.61 seconds.\n"
     ]
    },
    {
     "name": "stderr",
     "output_type": "stream",
     "text": [
      "  0%|                                                                | 53989/10000000000 [13:44<42426:14:49, 65.47it/s]\n"
     ]
    },
    {
     "name": "stdout",
     "output_type": "stream",
     "text": [
      "012345678910Elapsed time 1039.06 seconds.\n"
     ]
    },
    {
     "name": "stderr",
     "output_type": "stream",
     "text": [
      "  0%|                                                                | 65635/10000000000 [17:19<43974:27:21, 63.17it/s]\n"
     ]
    },
    {
     "name": "stdout",
     "output_type": "stream",
     "text": [
      "01234567Elapsed time 387.73 seconds.\n"
     ]
    },
    {
     "name": "stderr",
     "output_type": "stream",
     "text": [
      "  0%|                                                                | 21025/10000000000 [06:27<51226:13:43, 54.23it/s]\n"
     ]
    },
    {
     "name": "stdout",
     "output_type": "stream",
     "text": [
      "0123456789Elapsed time 1425.83 seconds.\n"
     ]
    },
    {
     "name": "stderr",
     "output_type": "stream",
     "text": [
      "  0%|                                                                | 66993/10000000000 [23:45<59120:29:58, 46.98it/s]\n"
     ]
    },
    {
     "name": "stdout",
     "output_type": "stream",
     "text": [
      "[[0.9537037037037037, 0.9537037037037037, 0.9722222222222222, 0.9537037037037037, 0.9907407407407407, 0.9814814814814815, 0.8611111111111112, 0.8611111111111112, 0.9537037037037037, 0.9537037037037037], [0.11965811965811966, 0.13445378151260504, 0.045454545454545456, 0.14166666666666666, 0.02727272727272727, 0.027522935779816515, 0.19130434782608696, 0.211864406779661, 0.11206896551724138, 0.30405405405405406], [16, 20, 6, 21, 3, 4, 34, 37, 15, 46], [0.04281345565749235, 0.04892966360856269, 0.01529051987767584, 0.05198776758409786, 0.009174311926605505, 0.009174311926605505, 0.0672782874617737, 0.0764525993883792, 0.039755351681957186, 0.13761467889908258], [56.04248751842643, 206.58950156532345, 74.50789283021172, 185.9366887120819, 41.35043695663018, 34.20663134044741, 259.84959177165103, 2229.976318068225, 70.62714526022305, 727.5956022602635], [55.72195594176055, 219.46924053326873, 76.2968790311863, 192.712115447634, 41.71853052432685, 34.15427761267721, 250.87439252395805, 2150.6525253080063, 68.45203705676079, 666.8874370622874]]\n",
      "[[1.0, 1.0, 1.0, 1.0, 1.0, 1.0, 1.0, 0.9907407407407407, 1.0, 1.0], [0.0, 0.01818181818181818, 0.009174311926605505, 0.0, 0.0, 0.0, 0.009174311926605505, 0.0, 0.01818181818181818, 0.0], [0, 2, 1, 0, 0, 0, 1, 1, 2, 0], [0.0, 0.0061162079510703364, 0.0030581039755351682, 0.0, 0.0, 0.0, 0.0030581039755351682, 0.0, 0.0061162079510703364, 0.0], [55.34779279605809, 191.49253157669293, 112.07943770475667, 74.40222104372839, 63.80612525034167, 33.92261046757829, 64.62343959989347, 159.86775240970215, 39.06890066096819, 141.28038991489626], [54.867397119394425, 198.95428096300438, 115.07431822187003, 76.40469515582453, 65.06659701237564, 33.78035257619878, 63.73071392867358, 156.34210670282863, 38.62341331235863, 131.59512866790666]]\n",
      "[[0.8055555555555556, 0.7314814814814815, 0.8240740740740741, 0.8425925925925926, 0.9537037037037037, 0.7870370370370371, 0.8425925925925926, 0.6759259259259259, 0.9166666666666666, 0.8518518518518519], [0.5028571428571429, 0.4589041095890411, 0.43670886075949367, 0.4166666666666667, 0.2896551724137931, 0.4370860927152318, 0.43478260869565216, 0.535031847133758, 0.2265625, 0.42857142857142855], [103, 94, 82, 75, 45, 81, 82, 110, 34, 80], [0.2691131498470948, 0.20489296636085627, 0.21100917431192662, 0.19877675840978593, 0.12844036697247707, 0.2018348623853211, 0.21406727828746178, 0.25688073394495414, 0.08868501529051988, 0.21100917431192662], [156.93601656357802, 2539.4659235680633, 810.5011994671435, 401.2559242134738, 251.34359982894532, 167.99034397364233, 1228.9819671211314, 1954.4310390956894, 48.696670734093246, 618.7991502214537], [155.78691755668956, 2625.925571264655, 833.7937547675292, 409.47166636661944, 257.51471588838035, 167.8708924193895, 1191.839249150001, 1882.9908280876994, 48.51497080129798, 564.9681663416859]]\n",
      "p: 50.\n",
      "\n",
      "012345678910Elapsed time 3192.99 seconds.\n"
     ]
    },
    {
     "name": "stderr",
     "output_type": "stream",
     "text": [
      "  0%|                                                               | 80105/10000000000 [53:12<110721:02:58, 25.09it/s]\n"
     ]
    },
    {
     "name": "stdout",
     "output_type": "stream",
     "text": [
      "012345678910Elapsed time 1850.52 seconds.\n"
     ]
    },
    {
     "name": "stderr",
     "output_type": "stream",
     "text": [
      "  0%|                                                                | 58157/10000000000 [30:50<88386:46:05, 31.43it/s]\n"
     ]
    },
    {
     "name": "stdout",
     "output_type": "stream",
     "text": [
      "0123456789Elapsed time 1443.83 seconds.\n"
     ]
    },
    {
     "name": "stderr",
     "output_type": "stream",
     "text": [
      "  0%|                                                                | 47014/10000000000 [24:03<85306:04:05, 32.56it/s]\n"
     ]
    },
    {
     "name": "stdout",
     "output_type": "stream",
     "text": [
      "0123456789Elapsed time 1463.92 seconds.\n"
     ]
    },
    {
     "name": "stderr",
     "output_type": "stream",
     "text": [
      "  0%|                                                                | 47896/10000000000 [24:23<84900:28:11, 32.72it/s]\n"
     ]
    },
    {
     "name": "stdout",
     "output_type": "stream",
     "text": [
      "012345678910Elapsed time 1796.64 seconds.\n"
     ]
    },
    {
     "name": "stderr",
     "output_type": "stream",
     "text": [
      "  0%|                                                                | 58245/10000000000 [29:56<85683:11:57, 32.42it/s]\n"
     ]
    },
    {
     "name": "stdout",
     "output_type": "stream",
     "text": [
      "012345678Elapsed time 1796.36 seconds.\n"
     ]
    },
    {
     "name": "stderr",
     "output_type": "stream",
     "text": [
      "  0%|                                                                | 58504/10000000000 [29:56<85290:35:11, 32.57it/s]\n"
     ]
    },
    {
     "name": "stdout",
     "output_type": "stream",
     "text": [
      "0123456789Elapsed time 2137.7 seconds.\n"
     ]
    },
    {
     "name": "stderr",
     "output_type": "stream",
     "text": [
      "  0%|                                                                | 69664/10000000000 [35:37<85238:00:17, 32.59it/s]\n"
     ]
    },
    {
     "name": "stdout",
     "output_type": "stream",
     "text": [
      "012345678910Elapsed time 1536.88 seconds.\n"
     ]
    },
    {
     "name": "stderr",
     "output_type": "stream",
     "text": [
      "  0%|                                                                | 50027/10000000000 [25:36<85335:30:35, 32.55it/s]\n"
     ]
    },
    {
     "name": "stdout",
     "output_type": "stream",
     "text": [
      "01234567891011Elapsed time 2101.51 seconds.\n"
     ]
    },
    {
     "name": "stderr",
     "output_type": "stream",
     "text": [
      "  0%|                                                                | 68153/10000000000 [35:01<85652:16:44, 32.43it/s]\n"
     ]
    },
    {
     "name": "stdout",
     "output_type": "stream",
     "text": [
      "012345678910Elapsed time 2894.01 seconds.\n"
     ]
    },
    {
     "name": "stderr",
     "output_type": "stream",
     "text": [
      "  0%|                                                                | 86155/10000000000 [48:13<93298:44:00, 29.77it/s]\n"
     ]
    },
    {
     "name": "stdout",
     "output_type": "stream",
     "text": [
      "[[0.8790849673202614, 0.7777777777777778, 0.6143790849673203, 0.7516339869281046, 0.8235294117647058, 0.9575163398692811, 0.8660130718954249, 0.4738562091503268, 0.8986928104575164, 0.8169934640522876], [0.3886363636363636, 0.4503464203233256, 0.46742209631728043, 0.4911504424778761, 0.4337078651685393, 0.24289405684754523, 0.4018058690744921, 0.5632530120481928, 0.3389423076923077, 0.48559670781893005], [198, 254, 280, 292, 238, 102, 216, 346, 162, 288], [0.18607181719260066, 0.21218715995647444, 0.1795429815016322, 0.24156692056583243, 0.2100108813928183, 0.10228509249183895, 0.19368879216539717, 0.20348204570184983, 0.15342763873775844, 0.25680087051142547], [176881.1770642038, 238033.1837712563, 4841043.149314436, 1166738.7376142787, 433814.4641678651, 9053.838296451484, 95282.61200473286, 21972267.957465746, 107884.776852113, 46546.6970963579], [182604.33724825468, 240980.3657324048, 4742931.127575701, 1144514.9632905899, 436298.90982390865, 9225.224220335504, 93647.66916848683, 20777868.17947464, 110817.78189044507, 47700.66727464304]]\n",
      "[[1.0, 1.0, 0.9967320261437909, 1.0, 1.0, 1.0, 1.0, 1.0, 1.0, 1.0], [0.03164556962025317, 0.022364217252396165, 0.022435897435897436, 0.025477707006369428, 0.012903225806451613, 0.022364217252396165, 0.03773584905660377, 0.02857142857142857, 0.03164556962025317, 0.025477707006369428], [10, 7, 8, 8, 4, 7, 12, 9, 10, 8], [0.01088139281828074, 0.007616974972796518, 0.007616974972796518, 0.008705114254624592, 0.004352557127312296, 0.007616974972796518, 0.013057671381936888, 0.009793253536452665, 0.01088139281828074, 0.008705114254624592], [17996.96966426815, 10503.895344598775, 58610.28090854222, 144950.32642792974, 19477.418364822548, 1280.1240816870884, 1734.107446436955, 430376.68000260904, 5882.304392520306, 3844.4158244173477], [18591.318016374575, 10650.9274357497, 57355.18461321544, 142362.79953230039, 19604.64440100613, 1299.1559700593284, 1712.5784258776462, 407152.31800724694, 6008.603846813801, 3995.7177419854484]]\n",
      "[[0.7189542483660131, 0.630718954248366, 0.6895424836601307, 0.5816993464052288, 0.6176470588235294, 0.6372549019607843, 0.7941176470588235, 0.5849673202614379, 0.7320261437908496, 0.6339869281045751], [0.5416666666666666, 0.6200787401574803, 0.5854616895874263, 0.6583493282149712, 0.615071283095723, 0.5859872611464968, 0.5216535433070866, 0.649706457925636, 0.5303983228511531, 0.6332703213610587], [331, 414, 384, 451, 406, 372, 318, 447, 322, 433], [0.28291621327529926, 0.34276387377584333, 0.32426550598476606, 0.37323177366702937, 0.32861806311207836, 0.3003264417845484, 0.2883569096844396, 0.36126224156692055, 0.27529923830250275, 0.3645266594124048], [122276.87789556033, 656569.7095195262, 11808761.402436072, 2383085.255342449, 466584.6771158631, 31080.729340090682, 23140.797986054215, 18339602.427405767, 25865.373060374135, 151450.86004063333], [126575.28897501649, 667162.8919539229, 11569325.018173948, 2352793.576082412, 470272.7599973927, 31325.385121728526, 22870.077672546093, 17339966.33398071, 26472.888706008067, 153827.5742845641]]\n",
      "p: 75.\n",
      "\n",
      "012345678910Elapsed time 96965.21 seconds.\n"
     ]
    },
    {
     "name": "stderr",
     "output_type": "stream",
     "text": [
      "  0%|                                                             | 85692/10000000000 [3:26:05<400833:02:54,  6.93it/s]\n"
     ]
    },
    {
     "ename": "KeyboardInterrupt",
     "evalue": "",
     "output_type": "error",
     "traceback": [
      "\u001b[1;31m---------------------------------------------------------------------------\u001b[0m",
      "\u001b[1;31mKeyboardInterrupt\u001b[0m                         Traceback (most recent call last)",
      "\u001b[1;32m<ipython-input-43-87c0129b7807>\u001b[0m in \u001b[0;36m<module>\u001b[1;34m\u001b[0m\n\u001b[0;32m     58\u001b[0m \u001b[1;33m\u001b[0m\u001b[0m\n\u001b[0;32m     59\u001b[0m         \u001b[1;31m# do mcmc\u001b[0m\u001b[1;33m\u001b[0m\u001b[1;33m\u001b[0m\u001b[1;33m\u001b[0m\u001b[0m\n\u001b[1;32m---> 60\u001b[1;33m         \u001b[0mPrtg\u001b[0m\u001b[1;33m,\u001b[0m \u001b[0mrg\u001b[0m \u001b[1;33m=\u001b[0m \u001b[0mmcmc\u001b[0m\u001b[1;33m(\u001b[0m\u001b[0mint\u001b[0m\u001b[1;33m(\u001b[0m\u001b[1;36m1e10\u001b[0m\u001b[1;33m)\u001b[0m\u001b[1;33m,\u001b[0m \u001b[1;32mFalse\u001b[0m\u001b[1;33m,\u001b[0m \u001b[0macc_prob\u001b[0m \u001b[1;33m=\u001b[0m \u001b[0macc_prob_greed\u001b[0m\u001b[1;33m,\u001b[0m \u001b[0mP\u001b[0m \u001b[1;33m=\u001b[0m \u001b[0mnp\u001b[0m\u001b[1;33m.\u001b[0m\u001b[0midentity\u001b[0m\u001b[1;33m(\u001b[0m\u001b[0mp\u001b[0m\u001b[1;33m)\u001b[0m\u001b[1;33m,\u001b[0m \u001b[0mtotal_time\u001b[0m \u001b[1;33m=\u001b[0m \u001b[0mtotal_time\u001b[0m\u001b[1;33m)\u001b[0m\u001b[1;33m\u001b[0m\u001b[1;33m\u001b[0m\u001b[0m\n\u001b[0m\u001b[0;32m     61\u001b[0m         \u001b[0mW_mcmc\u001b[0m \u001b[1;33m=\u001b[0m \u001b[0mols_W\u001b[0m\u001b[1;33m(\u001b[0m\u001b[0mX\u001b[0m\u001b[1;33m,\u001b[0m \u001b[0mPrtg\u001b[0m\u001b[1;33m)\u001b[0m\u001b[1;33m\u001b[0m\u001b[1;33m\u001b[0m\u001b[0m\n\u001b[0;32m     62\u001b[0m         \u001b[0mW_mcmc\u001b[0m\u001b[1;33m[\u001b[0m\u001b[0mnp\u001b[0m\u001b[1;33m.\u001b[0m\u001b[0mabs\u001b[0m\u001b[1;33m(\u001b[0m\u001b[0mW_mcmc\u001b[0m\u001b[1;33m)\u001b[0m \u001b[1;33m<\u001b[0m \u001b[1;36m0.30\u001b[0m\u001b[1;33m]\u001b[0m \u001b[1;33m=\u001b[0m \u001b[1;36m0\u001b[0m\u001b[1;33m\u001b[0m\u001b[1;33m\u001b[0m\u001b[0m\n",
      "\u001b[1;32m<ipython-input-13-d3db6cc0d4bd>\u001b[0m in \u001b[0;36mmcmc\u001b[1;34m(max_it, verbose, P, factor, acc_prob, total_time)\u001b[0m\n\u001b[0;32m     47\u001b[0m \u001b[1;33m\u001b[0m\u001b[0m\n\u001b[0;32m     48\u001b[0m         \u001b[1;31m# compute acceptance probability\u001b[0m\u001b[1;33m\u001b[0m\u001b[1;33m\u001b[0m\u001b[1;33m\u001b[0m\u001b[0m\n\u001b[1;32m---> 49\u001b[1;33m         \u001b[0mlikelihood_P_prime\u001b[0m \u001b[1;33m=\u001b[0m \u001b[0mget_likelihood\u001b[0m\u001b[1;33m(\u001b[0m\u001b[0mP_prime\u001b[0m\u001b[1;33m)\u001b[0m\u001b[1;33m\u001b[0m\u001b[1;33m\u001b[0m\u001b[0m\n\u001b[0m\u001b[0;32m     50\u001b[0m         \u001b[0malpha\u001b[0m \u001b[1;33m=\u001b[0m \u001b[0macc_prob\u001b[0m\u001b[1;33m(\u001b[0m\u001b[0mlikelihood_P\u001b[0m\u001b[1;33m,\u001b[0m \u001b[0mlikelihood_P_prime\u001b[0m\u001b[1;33m)\u001b[0m\u001b[1;33m\u001b[0m\u001b[1;33m\u001b[0m\u001b[0m\n\u001b[0;32m     51\u001b[0m \u001b[1;33m\u001b[0m\u001b[0m\n",
      "\u001b[1;32m<ipython-input-12-1c8b27107d86>\u001b[0m in \u001b[0;36mget_likelihood\u001b[1;34m(P)\u001b[0m\n\u001b[0;32m     10\u001b[0m \u001b[1;32mdef\u001b[0m \u001b[0mget_likelihood\u001b[0m\u001b[1;33m(\u001b[0m\u001b[0mP\u001b[0m\u001b[1;33m)\u001b[0m\u001b[1;33m:\u001b[0m\u001b[1;33m\u001b[0m\u001b[1;33m\u001b[0m\u001b[0m\n\u001b[0;32m     11\u001b[0m     \u001b[1;31m# get optimal A for this permutation\u001b[0m\u001b[1;33m\u001b[0m\u001b[1;33m\u001b[0m\u001b[1;33m\u001b[0m\u001b[0m\n\u001b[1;32m---> 12\u001b[1;33m     \u001b[0mW_opt\u001b[0m \u001b[1;33m=\u001b[0m \u001b[0mk_ols_W\u001b[0m\u001b[1;33m(\u001b[0m\u001b[0mPsi\u001b[0m\u001b[1;33m,\u001b[0m \u001b[0mP\u001b[0m\u001b[1;33m)\u001b[0m\u001b[1;33m\u001b[0m\u001b[1;33m\u001b[0m\u001b[0m\n\u001b[0m\u001b[0;32m     13\u001b[0m \u001b[1;33m\u001b[0m\u001b[0m\n\u001b[0;32m     14\u001b[0m     \u001b[1;31m# get loss\u001b[0m\u001b[1;33m\u001b[0m\u001b[1;33m\u001b[0m\u001b[1;33m\u001b[0m\u001b[0m\n",
      "\u001b[1;32m<ipython-input-2-139d2dc9c21e>\u001b[0m in \u001b[0;36mk_ols_W\u001b[1;34m(Psi, P)\u001b[0m\n\u001b[0;32m      7\u001b[0m     \u001b[1;32mfor\u001b[0m \u001b[0mi\u001b[0m \u001b[1;32min\u001b[0m \u001b[0mrange\u001b[0m\u001b[1;33m(\u001b[0m\u001b[1;36m1\u001b[0m\u001b[1;33m,\u001b[0m \u001b[0mp\u001b[0m\u001b[1;33m)\u001b[0m\u001b[1;33m:\u001b[0m\u001b[1;33m\u001b[0m\u001b[1;33m\u001b[0m\u001b[0m\n\u001b[0;32m      8\u001b[0m         \u001b[0mpsi_F\u001b[0m \u001b[1;33m=\u001b[0m \u001b[0mpsi\u001b[0m\u001b[1;33m[\u001b[0m\u001b[0mnp\u001b[0m\u001b[1;33m.\u001b[0m\u001b[0marray\u001b[0m\u001b[1;33m(\u001b[0m\u001b[0mrange\u001b[0m\u001b[1;33m(\u001b[0m\u001b[0mi\u001b[0m\u001b[1;33m)\u001b[0m\u001b[1;33m)\u001b[0m\u001b[1;33m[\u001b[0m\u001b[1;33m:\u001b[0m\u001b[1;33m,\u001b[0m \u001b[1;32mNone\u001b[0m\u001b[1;33m]\u001b[0m\u001b[1;33m,\u001b[0m \u001b[0mnp\u001b[0m\u001b[1;33m.\u001b[0m\u001b[0marray\u001b[0m\u001b[1;33m(\u001b[0m\u001b[0mrange\u001b[0m\u001b[1;33m(\u001b[0m\u001b[0mi\u001b[0m\u001b[1;33m)\u001b[0m\u001b[1;33m)\u001b[0m\u001b[1;33m[\u001b[0m\u001b[1;32mNone\u001b[0m\u001b[1;33m,\u001b[0m \u001b[1;33m:\u001b[0m\u001b[1;33m]\u001b[0m\u001b[1;33m]\u001b[0m\u001b[1;33m\u001b[0m\u001b[1;33m\u001b[0m\u001b[0m\n\u001b[1;32m----> 9\u001b[1;33m         \u001b[0mW_hat\u001b[0m\u001b[1;33m[\u001b[0m\u001b[0mnp\u001b[0m\u001b[1;33m.\u001b[0m\u001b[0marray\u001b[0m\u001b[1;33m(\u001b[0m\u001b[0mrange\u001b[0m\u001b[1;33m(\u001b[0m\u001b[0mi\u001b[0m\u001b[1;33m)\u001b[0m\u001b[1;33m)\u001b[0m\u001b[1;33m[\u001b[0m\u001b[1;33m:\u001b[0m\u001b[1;33m,\u001b[0m \u001b[1;32mNone\u001b[0m\u001b[1;33m]\u001b[0m\u001b[1;33m,\u001b[0m \u001b[0mi\u001b[0m\u001b[1;33m]\u001b[0m \u001b[1;33m=\u001b[0m \u001b[0mnp\u001b[0m\u001b[1;33m.\u001b[0m\u001b[0mlinalg\u001b[0m\u001b[1;33m.\u001b[0m\u001b[0minv\u001b[0m\u001b[1;33m(\u001b[0m\u001b[0mpsi_F\u001b[0m\u001b[1;33m)\u001b[0m \u001b[1;33m@\u001b[0m \u001b[0mpsi\u001b[0m\u001b[1;33m[\u001b[0m\u001b[0mnp\u001b[0m\u001b[1;33m.\u001b[0m\u001b[0marray\u001b[0m\u001b[1;33m(\u001b[0m\u001b[0mrange\u001b[0m\u001b[1;33m(\u001b[0m\u001b[0mi\u001b[0m\u001b[1;33m)\u001b[0m\u001b[1;33m)\u001b[0m\u001b[1;33m[\u001b[0m\u001b[1;33m:\u001b[0m\u001b[1;33m,\u001b[0m \u001b[1;32mNone\u001b[0m\u001b[1;33m]\u001b[0m\u001b[1;33m,\u001b[0m \u001b[0mi\u001b[0m\u001b[1;33m]\u001b[0m\u001b[1;33m\u001b[0m\u001b[1;33m\u001b[0m\u001b[0m\n\u001b[0m\u001b[0;32m     10\u001b[0m \u001b[1;33m\u001b[0m\u001b[0m\n\u001b[0;32m     11\u001b[0m     \u001b[1;32mreturn\u001b[0m \u001b[0mP\u001b[0m\u001b[1;33m.\u001b[0m\u001b[0mT\u001b[0m \u001b[1;33m@\u001b[0m \u001b[0mW_hat\u001b[0m \u001b[1;33m@\u001b[0m \u001b[0mP\u001b[0m\u001b[1;33m\u001b[0m\u001b[1;33m\u001b[0m\u001b[0m\n",
      "\u001b[1;32m<__array_function__ internals>\u001b[0m in \u001b[0;36minv\u001b[1;34m(*args, **kwargs)\u001b[0m\n",
      "\u001b[1;32m~\\AppData\\Roaming\\Python\\Python36\\site-packages\\numpy\\linalg\\linalg.py\u001b[0m in \u001b[0;36minv\u001b[1;34m(a)\u001b[0m\n\u001b[0;32m    544\u001b[0m     \u001b[0msignature\u001b[0m \u001b[1;33m=\u001b[0m \u001b[1;34m'D->D'\u001b[0m \u001b[1;32mif\u001b[0m \u001b[0misComplexType\u001b[0m\u001b[1;33m(\u001b[0m\u001b[0mt\u001b[0m\u001b[1;33m)\u001b[0m \u001b[1;32melse\u001b[0m \u001b[1;34m'd->d'\u001b[0m\u001b[1;33m\u001b[0m\u001b[1;33m\u001b[0m\u001b[0m\n\u001b[0;32m    545\u001b[0m     \u001b[0mextobj\u001b[0m \u001b[1;33m=\u001b[0m \u001b[0mget_linalg_error_extobj\u001b[0m\u001b[1;33m(\u001b[0m\u001b[0m_raise_linalgerror_singular\u001b[0m\u001b[1;33m)\u001b[0m\u001b[1;33m\u001b[0m\u001b[1;33m\u001b[0m\u001b[0m\n\u001b[1;32m--> 546\u001b[1;33m     \u001b[0mainv\u001b[0m \u001b[1;33m=\u001b[0m \u001b[0m_umath_linalg\u001b[0m\u001b[1;33m.\u001b[0m\u001b[0minv\u001b[0m\u001b[1;33m(\u001b[0m\u001b[0ma\u001b[0m\u001b[1;33m,\u001b[0m \u001b[0msignature\u001b[0m\u001b[1;33m=\u001b[0m\u001b[0msignature\u001b[0m\u001b[1;33m,\u001b[0m \u001b[0mextobj\u001b[0m\u001b[1;33m=\u001b[0m\u001b[0mextobj\u001b[0m\u001b[1;33m)\u001b[0m\u001b[1;33m\u001b[0m\u001b[1;33m\u001b[0m\u001b[0m\n\u001b[0m\u001b[0;32m    547\u001b[0m     \u001b[1;32mreturn\u001b[0m \u001b[0mwrap\u001b[0m\u001b[1;33m(\u001b[0m\u001b[0mainv\u001b[0m\u001b[1;33m.\u001b[0m\u001b[0mastype\u001b[0m\u001b[1;33m(\u001b[0m\u001b[0mresult_t\u001b[0m\u001b[1;33m,\u001b[0m \u001b[0mcopy\u001b[0m\u001b[1;33m=\u001b[0m\u001b[1;32mFalse\u001b[0m\u001b[1;33m)\u001b[0m\u001b[1;33m)\u001b[0m\u001b[1;33m\u001b[0m\u001b[1;33m\u001b[0m\u001b[0m\n\u001b[0;32m    548\u001b[0m \u001b[1;33m\u001b[0m\u001b[0m\n",
      "\u001b[1;31mKeyboardInterrupt\u001b[0m: "
     ]
    }
   ],
   "source": [
    "T, p, sparseness_fraction, graph_type, sem_type, iter_total = 1000, 5, 0.25, 'ER', 'gauss', 10\n",
    "\n",
    "Ps = [5, 10, 30, 50, 75, 100]\n",
    "\n",
    "results_notears = []\n",
    "results_mcmc = []\n",
    "results_omp = []\n",
    "\n",
    "for p in Ps:\n",
    "    num_edges = int(sparseness_fraction * p * (p - 1) / 2)\n",
    "    print(f\"p: {p}.\\n\")\n",
    "\n",
    "    res_NT = [[] for i in range(6)]\n",
    "    res_MCMC = [[] for i in range(6)]\n",
    "    res_omp = [[] for i in range(6)]\n",
    "    \n",
    "    for _ in range(iter_total):\n",
    "        # generate X, Psi\n",
    "        B_true = simulate_dag(p, num_edges, graph_type)\n",
    "        W_true = simulate_parameter(B_true)\n",
    "        X = simulate_linear_sem(W_true, T, sem_type)\n",
    "        Psi = np.dot(X.T, X)\n",
    "\n",
    "        # do NO TEARS\n",
    "        start = timer()\n",
    "        W_est, h_val = notears_linear(X, lambda1=0.0, loss_type='l2', verbose = False)\n",
    "        total_time = timer() - start\n",
    "        \n",
    "        # get score, save score\n",
    "        acc = count_accuracy(B_true, W_est != 0)\n",
    "        res_NT[0].append(acc['tpr'])\n",
    "        res_NT[1].append(acc['fdr'])\n",
    "        res_NT[2].append(acc['shd'])\n",
    "        res_NT[3].append(acc['fpr'])\n",
    "        res_NT[4].append(loss(W_est, X))\n",
    "        res_NT[5].append(true_loss(W_est, W_true))    \n",
    "        \n",
    "        print(f\"Elapsed time {round(total_time, 2)} seconds.\")\n",
    "\n",
    "        # do OMP\n",
    "        W_omp, r = _K_OMP(X, X, F = [i * (p + 1) for i in range(p)], normalize = True, tol = 1e-8)\n",
    "        W_omp[np.abs(W_omp) <= 0.3] = 0\n",
    "\n",
    "        # get score, save score\n",
    "        acc = count_accuracy(B_true, W_omp != 0)\n",
    "        res_omp[0].append(acc['tpr'])\n",
    "        res_omp[1].append(acc['fdr'])\n",
    "        res_omp[2].append(acc['shd'])\n",
    "        res_omp[3].append(acc['fpr'])\n",
    "        res_omp[4].append(loss(W_omp, X))    \n",
    "        res_omp[5].append(true_loss(W_omp, W_true))    \n",
    "    \n",
    "        # get a true permutation matrix\n",
    "        order = is_dag(B_true)[1]\n",
    "        P_true = np.zeros((p, p))\n",
    "        for i in range(p):\n",
    "            P_true[order[-i]][i] = 1\n",
    "\n",
    "        # do mcmc\n",
    "        Prtg, rg = mcmc(int(1e10), False, acc_prob = acc_prob_greed, P = np.identity(p), total_time = total_time)\n",
    "        W_mcmc = ols_W(X, Prtg)\n",
    "        W_mcmc[np.abs(W_mcmc) < 0.30] = 0\n",
    "        \n",
    "        # get results\n",
    "        acc = count_accuracy(B_true, W_mcmc != 0)\n",
    "        res_MCMC[0].append(acc['tpr'])\n",
    "        res_MCMC[1].append(acc['fdr'])\n",
    "        res_MCMC[2].append(acc['shd'])\n",
    "        res_MCMC[3].append(acc['fpr'])\n",
    "        res_MCMC[4].append(loss(W_mcmc, X))    \n",
    "        res_MCMC[5].append(true_loss(W_mcmc, W_true))    \n",
    "\n",
    "    print(res_NT); print(res_MCMC); print(res_omp);\n",
    "\n",
    "    results_notears.append(res_NT)\n",
    "    results_mcmc.append(res_MCMC)\n",
    "    results_omp.append(res_omp)"
   ]
  },
  {
   "cell_type": "code",
   "execution_count": 44,
   "id": "fecc1944",
   "metadata": {
    "id": "fecc1944"
   },
   "outputs": [],
   "source": [
    "from scipy.stats import sem\n",
    "\n",
    "NT_means = [[] for i in range(6)]\n",
    "NT_sems = [[] for i in range(6)]\n",
    "for elem in results_notears:\n",
    "    for i in range(6):\n",
    "        NT_means[i].append(np.mean(elem[i]))\n",
    "        NT_sems[i].append(sem(elem[i]))\n",
    "        \n",
    "MCMC_means = [[] for i in range(6)]\n",
    "MCMC_sems = [[] for i in range(6)]\n",
    "for elem in results_mcmc:\n",
    "    for i in range(6):\n",
    "        MCMC_means[i].append(np.mean(elem[i]))\n",
    "        MCMC_sems[i].append(sem(elem[i]))\n",
    "\n",
    "OMP_means = [[] for i in range(6)]\n",
    "OMP_sems = [[] for i in range(6)]\n",
    "for elem in results_omp:\n",
    "    for i in range(6):\n",
    "        OMP_means[i].append(np.mean(elem[i]))\n",
    "        OMP_sems[i].append(sem(elem[i]))"
   ]
  },
  {
   "cell_type": "code",
   "execution_count": 49,
   "id": "vAAfTDQRffM5",
   "metadata": {
    "colab": {
     "base_uri": "https://localhost:8080/"
    },
    "id": "vAAfTDQRffM5",
    "outputId": "80f78a05-cade-4857-a4a0-ab030df7a6d3"
   },
   "outputs": [
    {
     "name": "stdout",
     "output_type": "stream",
     "text": [
      "[[1.0, 0.9727272727272727, 0.9435185185185186, 0.7859477124183006], [0.0, 0.03484848484848485, 0.13153205505215243, 0.4263755141404853], [0.0, 0.4, 20.2, 237.6], [0.0, 0.011764705882352941, 0.04984709480122324, 0.19390642002176278], [5.028858189159943, 10.080293954773165, 388.66822962834834, 2908754.659364744], [5.002398855975561, 10.071316368248914, 375.6939391041866, 2778658.922569941]]\n",
      "[[0.0, 0.013886593015017702, 0.014374235829870385, 0.045666613606169464], [0.0, 0.018904007345669598, 0.02779251395421283, 0.028301845616712826], [0.0, 0.22110831935702666, 4.647101844758252, 22.47329279141997], [0.0, 0.00650318586344196, 0.012190294451372935, 0.013829599123444293], [0.04044555407232891, 0.043846051337669036, 214.80982880141497, 2168635.282002668], [0.0007799721237076547, 0.026665237221076016, 206.11073693805346, 2051072.4721214075]]\n",
      "[[1.0, 1.0, 0.999074074074074, 0.9996732026143791], [0.0, 0.0, 0.005471226021684737, 0.026062138862841887], [0.0, 0.0, 0.7, 8.3], [0.0, 0.0, 0.001834862385321101, 0.008922742110990206], [5.028798828682769, 10.058302466812753, 93.58912014246161, 69465.65224578322], [5.0022419063833015, 10.0438513916753, 93.44390036604354, 66873.32479906295]]\n",
      "[[0.0, 0.0, 0.0009259259259259302, 0.0003267973856209138], [0.0, 0.0, 0.002427046402621687, 0.002158344097659183], [0.0, 0.0, 0.2603416558635551, 0.683942817622773], [0.0, 0.0, 0.0008154943934760448, 0.0007573671751113928], [0.040453691545645334, 0.036866094719457225, 17.21866057479798, 42463.40906859976], [0.0007298008335244842, 0.016594836544926987, 17.334508491623758, 40209.10476068725]]\n",
      "[[1.0, 0.9181818181818182, 0.8231481481481483, 0.6620915032679738], [0.0, 0.12883449883449882, 0.41668264294022084, 0.5941643614313697], [0.0, 2.0, 78.6, 387.8], [0.0, 0.05, 0.19847094801223242, 0.32415669205658326], [5.028829238615314, 10.74281228653502, 817.8401834787214, 3400841.8110142387], [5.002488819280842, 10.729619055588385, 813.8676732643947, 3276059.179494825]]\n",
      "[[0.0, 0.03163729245124409, 0.025617283950617277, 0.021879973737278926], [0.0, 0.05145800850727738, 0.029208670751706838, 0.01565783466916421], [0.0, 0.9189365834726814, 7.438936602618533, 16.07330429971109], [0.0, 0.02150167862692285, 0.01698678198294304, 0.011410714122607066], [0.04045230293524733, 0.40236246511217194, 266.86834917396914, 2017970.7979437055], [0.0009174840908003918, 0.3796328053125285, 269.58816937384626, 1924814.1789952065]]\n"
     ]
    }
   ],
   "source": [
    "print(NT_means); print(NT_sems); print(MCMC_means); print(MCMC_sems); print(OMP_means); print(OMP_sems);"
   ]
  },
  {
   "cell_type": "code",
   "execution_count": 48,
   "id": "00818411",
   "metadata": {
    "colab": {
     "base_uri": "https://localhost:8080/",
     "height": 1000
    },
    "id": "00818411",
    "outputId": "61d9b375-a666-40d2-dca0-8c95a90d2831"
   },
   "outputs": [
    {
     "name": "stdout",
     "output_type": "stream",
     "text": [
      "0 0\n",
      "1 0\n",
      "2 0\n",
      "0 1\n",
      "1 1\n",
      "2 1\n"
     ]
    },
    {
     "data": {
      "image/png": "[encoded data removed]",
      "text/plain": [
       "<Figure size 1440x1080 with 6 Axes>"
      ]
     },
     "metadata": {
      "needs_background": "light"
     },
     "output_type": "display_data"
    }
   ],
   "source": [
    "fig, axs = plt.subplots(3, 2, figsize = (20, 15))\n",
    "fig.suptitle(\"Overview of Four Metrics, Comparing G-MCMC and NOTEARS for Varying $p$ with fixed $T = 100$ and $s = 2p$ with standard errors.\")\n",
    "titles = ['True Positive Rate (higher is better)', 'False Prediction Rate (lower is better)', 'Structural Hamming Distance (lower is better)', 'False Detection Rate (lower is better)', 'MSE', 'TRUE MSE']\n",
    "Ps = [5, 10, 30, 50]\n",
    "\n",
    "for i in range(6):\n",
    "    print(i % 3, i // 3)\n",
    "    axs[i % 3, i // 3].plot(Ps, np.array(NT_means)[i, :], label = \"NO TEARS\")\n",
    "    axs[i % 3, i // 3].fill_between(Ps, np.array(NT_means)[i, :] - np.array(NT_sems)[i, :], np.array(NT_means)[i, :] + np.array(NT_sems)[i, :], alpha = 0.2)\n",
    "\n",
    "    axs[i % 3, i // 3].plot(Ps, np.array(OMP_means)[i, :], label = \"OMP\")\n",
    "    axs[i % 3, i // 3].fill_between(Ps, np.array(OMP_means)[i, :] - np.array(OMP_sems)[i, :], np.array(OMP_means)[i, :] + np.array(OMP_sems)[i, :], alpha = 0.2)\n",
    "\n",
    "    axs[i % 3, i // 3].plot(Ps, np.array(MCMC_means)[i, :], label = \"MCMC\")\n",
    "    axs[i % 3, i // 3].fill_between(Ps, np.array(MCMC_means)[i, :] - np.array(MCMC_sems)[i, :], np.array(MCMC_means)[i, :] + np.array(MCMC_sems)[i, :], alpha = 0.2)    \n",
    "    axs[i % 3, i // 3].set_title(titles[i])\n",
    "    \n",
    "    axs[i % 3, i // 3].legend()\n",
    "    \n",
    "for ax in axs.flat:\n",
    "    ax.set(xlabel='Number of variables $p$', ylabel='')"
   ]
  },
  {
   "cell_type": "code",
   "execution_count": 38,
   "id": "591a6c94",
   "metadata": {
    "colab": {
     "base_uri": "https://localhost:8080/",
     "height": 282
    },
    "id": "591a6c94",
    "outputId": "e601d1ca-1801-48f7-d52e-b894da8ba628"
   },
   "outputs": [
    {
     "data": {
      "text/plain": [
       "<matplotlib.collections.PolyCollection at 0x169bb1f4c88>"
      ]
     },
     "execution_count": 38,
     "metadata": {},
     "output_type": "execute_result"
    },
    {
     "data": {
      "image/png": "[encoded data removed]",
      "text/plain": [
       "<Figure size 432x288 with 1 Axes>"
      ]
     },
     "metadata": {
      "needs_background": "light"
     },
     "output_type": "display_data"
    }
   ],
   "source": [
    "i = -1\n",
    "plt.plot(Ps, np.array(NT_means)[i, :] - Ps, label = \"NO TEARS\")\n",
    "plt.fill_between(Ps, np.array(NT_means)[i, :] - Ps - np.array(NT_sems)[i, :], np.array(NT_means)[i, :] - Ps + np.array(NT_sems)[i, :], alpha = 0.2)\n",
    "plt.plot(Ps, np.array(OMP_means)[i, :] - Ps, label = \"OMP\")\n",
    "plt.fill_between(Ps, np.array(OMP_means)[i, :] - Ps - np.array(OMP_sems)[i, :], np.array(OMP_means)[i, :] - Ps + np.array(OMP_sems)[i, :], alpha = 0.2)\n",
    "plt.plot(Ps, np.array(MCMC_means)[i, :] - Ps, label = \"MCMC\")\n",
    "plt.fill_between(Ps, np.array(MCMC_means)[i, :] - Ps - np.array(MCMC_sems)[i, :], np.array(MCMC_means)[i, :] - Ps + np.array(MCMC_sems)[i, :], alpha = 0.2)    "
   ]
  }
 ],
 "metadata": {
  "colab": {
   "collapsed_sections": [],
   "name": "MCMC-SEM-Copy1.ipynb",
   "provenance": []
  },
  "kernelspec": {
   "display_name": "Python 3.6.8 64-bit",
   "language": "python",
   "name": "python36864bit874e3a48d9b148faaa09714964fd179b"
  },
  "language_info": {
   "codemirror_mode": {
    "name": "ipython",
    "version": 3
   },
   "file_extension": ".py",
   "mimetype": "text/x-python",
   "name": "python",
   "nbconvert_exporter": "python",
   "pygments_lexer": "ipython3",
   "version": "3.6.8"
  }
 },
 "nbformat": 4,
 "nbformat_minor": 5
}
