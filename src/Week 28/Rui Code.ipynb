{
 "cells": [
  {
   "cell_type": "code",
   "execution_count": 25,
   "id": "8f3da90d",
   "metadata": {},
   "outputs": [],
   "source": [
    "import numpy as np\n",
    "from tqdm import tqdm"
   ]
  },
  {
   "cell_type": "markdown",
   "id": "a4d8ace8",
   "metadata": {},
   "source": [
    "### Rui's Implementation, slight modification to python, different $\\hat{a}$ estimation."
   ]
  },
  {
   "cell_type": "code",
   "execution_count": 102,
   "id": "262af148",
   "metadata": {},
   "outputs": [
    {
     "name": "stderr",
     "output_type": "stream",
     "text": [
      "100%|██████████████████████████████████████████████████████████████████████████████| 1000/1000 [00:17<00:00, 55.59it/s]"
     ]
    },
    {
     "name": "stdout",
     "output_type": "stream",
     "text": [
      "P(CV(a = a0 = 0.0) < CV(a = hat(a)) = 0.822.\n"
     ]
    },
    {
     "name": "stderr",
     "output_type": "stream",
     "text": [
      "\n"
     ]
    }
   ],
   "source": [
    "a0, b, T = 0.00, 0.0, 100\n",
    "count, iters = 0, 1000\n",
    "\n",
    "for _ in tqdm(range(iters)):\n",
    "\n",
    "    # generate AR(1)\n",
    "    X = np.zeros(T)\n",
    "    X[0] = np.random.normal(0, np.sqrt(1 / (1 - a0 ** 2)))\n",
    "    \n",
    "    noises = np.random.normal(0, 1, T - 1)\n",
    "    for t in range(1, T):\n",
    "        X[t] = b + a0 * (X[t - 1] - b) + noises[t - 1]\n",
    "    \n",
    "    # LOOCV parameter estimates\n",
    "    hat_b = (sum(X) - X) / T\n",
    "    \n",
    "    hat_a = np.zeros(T)\n",
    "    \n",
    "    CV_0 = np.zeros(T)\n",
    "    CV_1 = np.zeros(T)\n",
    "    \n",
    "    for t in range(2, T - 1):\n",
    "        \n",
    "        nominator = (X[1:] - hat_b[t]) @ (X[:-1] - hat_b[t]).T - (X[t] - hat_b[t]) * (X[t - 1] + X[t + 1] - 2 * hat_b[t])\n",
    "        denominator = (sum((X[1:] - hat_b[t]) ** 2) - (X[t] - hat_b[t]) ** 2 - (X[t + 1] - hat_b[t]) ** 2)\n",
    "        \n",
    "        hat_a[t] = nominator / denominator\n",
    "        \n",
    "        CV_0[t] = (X[t]- hat_b[t] - a0       * (X[t - 1] - hat_b[t])) ** 2\n",
    "        CV_1[t] = (X[t]- hat_b[t] - hat_a[t] * (X[t - 1] - hat_b[t])) ** 2\n",
    "        \n",
    "    count += (sum(CV_0[1:-1]) < sum(CV_1[1:-1]))\n",
    "\n",
    "print(f\"P(CV(a = a0 = {a0}) < CV(a = hat(a)) = {round(count / iters, 3)}.\")"
   ]
  },
  {
   "cell_type": "markdown",
   "id": "6dde1709",
   "metadata": {},
   "source": [
    "### Martin's $\\hat{a}$ implementation."
   ]
  },
  {
   "cell_type": "code",
   "execution_count": 103,
   "id": "097b39af",
   "metadata": {},
   "outputs": [
    {
     "name": "stderr",
     "output_type": "stream",
     "text": [
      "100%|████████████████████████████████████████████████████████████████████████████████| 100/100 [00:10<00:00,  9.82it/s]"
     ]
    },
    {
     "name": "stdout",
     "output_type": "stream",
     "text": [
      "P(CV(a = a0 = 0.0) < CV(a = hat(a)) = 0.85.\n"
     ]
    },
    {
     "name": "stderr",
     "output_type": "stream",
     "text": [
      "\n"
     ]
    }
   ],
   "source": [
    "a0, b, T = 0.00, 0.8, 100\n",
    "count, iters = 0, 100\n",
    "\n",
    "for _ in tqdm(range(iters)):\n",
    "\n",
    "    X = np.zeros(T)\n",
    "    \n",
    "    # generate AR(1)\n",
    "    X[0] = np.random.normal(0, np.sqrt(1 / (1 - a0 ** 2)))\n",
    "    \n",
    "    noises = np.random.normal(0, 1, T - 1)\n",
    "    for t in range(1, T):\n",
    "        X[t] = b + a0 * (X[t - 1] - b) + noises[t - 1]\n",
    "    \n",
    "    # LOOCV parameter estimates\n",
    "    hat_b = (sum(X) - X) / T\n",
    "    \n",
    "    hat_a = np.zeros(T)\n",
    "    \n",
    "    CV_0 = np.zeros(T)\n",
    "    CV_1 = np.zeros(T)\n",
    "    \n",
    "    for t in range(T - 1):\n",
    "        nominator = np.dot(X[:-1] - hat_b[t], X[1:] - hat_b[t]) - (X[t] - hat_b[t]) * (X[t + 1] - hat_b[t])\n",
    "        denominator = np.dot(X[:-1] - hat_b[t], X[:-1] - hat_b[t]) - (X[t] - hat_b[t]) * (X[t] - hat_b[t])\n",
    "        \n",
    "        hat_a[t] = nominator / denominator\n",
    "                   \n",
    "        CV_0[t] = (X[t + 1]- hat_b[t] - a0       * (X[t] - hat_b[t])) ** 2\n",
    "        CV_1[t] = (X[t + 1]- hat_b[t] - hat_a[t] * (X[t] - hat_b[t])) ** 2\n",
    "        \n",
    "    count += (sum(CV_0[:-1]) < sum(CV_1[:-1]))\n",
    "\n",
    "print(f\"P(CV(a = a0 = {a0}) < CV(a = hat(a)) = {round(count / iters, 3)}.\")"
   ]
  }
 ],
 "metadata": {
  "kernelspec": {
   "display_name": "Python 3.6.8 64-bit",
   "language": "python",
   "name": "python36864bit874e3a48d9b148faaa09714964fd179b"
  },
  "language_info": {
   "codemirror_mode": {
    "name": "ipython",
    "version": 3
   },
   "file_extension": ".py",
   "mimetype": "text/x-python",
   "name": "python",
   "nbconvert_exporter": "python",
   "pygments_lexer": "ipython3",
   "version": "3.6.8"
  }
 },
 "nbformat": 4,
 "nbformat_minor": 5
}
