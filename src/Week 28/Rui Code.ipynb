{
 "cells": [
  {
   "cell_type": "code",
   "execution_count": 3,
   "id": "f14735d3",
   "metadata": {},
   "outputs": [],
   "source": [
    "import numpy as np\n",
    "import matplotlib.pyplot as plt\n",
    "from tqdm import tqdm\n",
    "from scipy.stats import sem"
   ]
  },
  {
   "cell_type": "markdown",
   "id": "3008d433",
   "metadata": {},
   "source": [
    "AR(1) model\n",
    "\n",
    "$$X_{t} - b = a (X_{t - 1} - b) + \\varepsilon_t, \\qquad X_1 \\sim \\mathcal{N}\\left(0, \\frac{1}{1 - a^2}\\right).$$\n",
    "\n",
    "$$H_0: a_\\text{true} = a, b \\in \\mathbb{R}, \\qquad H_1: a_\\text{true} \\neq a, b \\in \\mathbb{R}.$$\n",
    "### Remove no elements\n",
    "$$\\hat{a} = \\frac{\\sum_{t = 1}^{T - 1}\\left(X_t - \\hat{b}\\right)\\left(X_{t + 1} - \\hat{b}\\right)}{\\sum_{t = 1}^{T - 1}\\left(X_t - \\hat{b}\\right)^2}$$\n",
    "\n",
    "$$\\hat{b} = \\frac{\\left(\\sum X - X_1\\right) - a\\left(\\sum X - X_T\\right)}{(T - 1)(1 - a)} = \\frac{\\sum X}{T-1} - \\frac{(X_1 - aX_T)}{(T - 1)(1 - a)}.$$\n",
    "\n",
    "### Rui's Implementation, slight modification to python, different $\\hat{a}$ estimation."
   ]
  },
  {
   "cell_type": "code",
   "execution_count": 4,
   "id": "22b925ee",
   "metadata": {},
   "outputs": [
    {
     "name": "stderr",
     "output_type": "stream",
     "text": [
      "100%|█████████████████████████████████████████████████████████████████████████████████| 50/50 [00:00<00:00, 126.25it/s]"
     ]
    },
    {
     "name": "stdout",
     "output_type": "stream",
     "text": [
      "P(CV(a = a0 = 0.8) < CV(a = hat(a)) = 0.48.\n"
     ]
    },
    {
     "name": "stderr",
     "output_type": "stream",
     "text": [
      "\n"
     ]
    }
   ],
   "source": [
    "def rui(a0, b, T, iters = 100):\n",
    "    \n",
    "    count = 0\n",
    "    \n",
    "    for _ in tqdm(range(iters)):\n",
    "\n",
    "        # generate AR(1)\n",
    "        X = np.zeros(T)\n",
    "        X[0] = np.random.normal(b, np.sqrt(1 / (1 - a0 ** 2)))\n",
    "    \n",
    "        noises = np.random.normal(0, 1, T - 1)\n",
    "        for t in range(1, T):\n",
    "            X[t] = b + a0 * (X[t - 1] - b) + noises[t - 1]\n",
    "    \n",
    "        # LOOCV parameter estimates\n",
    "        \n",
    "        # approximation estimate for b\n",
    "        hat_b = (sum(X) - X) / T\n",
    "    \n",
    "        hat_a = np.zeros(T)\n",
    "    \n",
    "        CV_0 = np.zeros(T)\n",
    "        CV_1 = np.zeros(T)\n",
    "    \n",
    "        for t in range(2, T - 1):\n",
    "            # approximation estimate for a\n",
    "            nominator = (X[1:] - hat_b[t]) @ (X[:-1] - hat_b[t]).T - (X[t] - hat_b[t]) * (X[t - 1] + X[t + 1] - 2 * hat_b[t])\n",
    "            denominator = (sum((X[1:] - hat_b[t]) ** 2) - (X[t] - hat_b[t]) ** 2 - (X[t + 1] - hat_b[t]) ** 2)\n",
    "            \n",
    "            hat_a[t] = nominator / denominator\n",
    "        \n",
    "            # cross validation scores\n",
    "            CV_0[t] = (X[t]- hat_b[t] - a0       * (X[t - 1] - hat_b[t])) ** 2\n",
    "            CV_1[t] = (X[t]- hat_b[t] - hat_a[t] * (X[t - 1] - hat_b[t])) ** 2\n",
    "        \n",
    "        count += (sum(CV_0[1:-1]) < sum(CV_1[1:-1]))\n",
    "        \n",
    "    return count\n",
    "\n",
    "a0, b, T, iters = 0.80, 1.0, 100, 50\n",
    "count = rui(a0, b, T, iters)\n",
    "print(f\"P(CV(a = a0 = {a0}) < CV(a = hat(a)) = {round(count / iters, 3)}.\")"
   ]
  },
  {
   "cell_type": "code",
   "execution_count": 5,
   "id": "ada21d3d",
   "metadata": {},
   "outputs": [
    {
     "name": "stderr",
     "output_type": "stream",
     "text": [
      "100%|█████████████████████████████████████████████████████████████████████████████████| 50/50 [00:00<00:00, 127.55it/s]"
     ]
    },
    {
     "name": "stdout",
     "output_type": "stream",
     "text": [
      "P(CV(a = a0 = 0.0) < CV(a = hat(a)) = 0.72.\n"
     ]
    },
    {
     "name": "stderr",
     "output_type": "stream",
     "text": [
      "\n"
     ]
    }
   ],
   "source": [
    "def rui_2(a0, b, T, iters = 100):\n",
    "    \n",
    "    count = 0\n",
    "    \n",
    "    for _ in tqdm(range(iters)):\n",
    "\n",
    "        # generate AR(1)\n",
    "        X = np.zeros(T)\n",
    "        X[0] = np.random.normal(b, np.sqrt(1 / (1 - a0 ** 2)))\n",
    "    \n",
    "        noises = np.random.normal(0, 1, T - 1)\n",
    "        for t in range(1, T):\n",
    "            X[t] = b + a0 * (X[t - 1] - b) + noises[t - 1]\n",
    "    \n",
    "        # LOOCV parameter estimates\n",
    "        \n",
    "        # approximation estimate for b\n",
    "        hat_b = (sum(X) - X) / (T - 1)\n",
    "    \n",
    "        hat_a = np.zeros(T)\n",
    "    \n",
    "        CV_0 = np.zeros(T)\n",
    "        CV_1 = np.zeros(T)\n",
    "    \n",
    "        for t in range(1, T - 1):\n",
    "            # approximation estimate for a\n",
    "            nominator = (X[1:] - hat_b[t]) @ (X[:-1] - hat_b[t]).T - (X[t] - hat_b[t]) * (X[t - 1] + X[t + 1] - 2 * hat_b[t])\n",
    "            denominator = (sum((X[:-1] - hat_b[t]) ** 2) - (X[t] - hat_b[t]) ** 2 - (X[t + 1] - hat_b[t]) ** 2)\n",
    "            \n",
    "            hat_a[t] = nominator / denominator\n",
    "        \n",
    "            # cross validation scores\n",
    "            CV_0[t] = (X[t]- hat_b[t] - a0       * (X[t - 1] - hat_b[t])) ** 2\n",
    "            CV_1[t] = (X[t]- hat_b[t] - hat_a[t] * (X[t - 1] - hat_b[t])) ** 2\n",
    "        \n",
    "        count += (sum(CV_0[1:-1]) < sum(CV_1[1:-1]))\n",
    "        \n",
    "    return count\n",
    "\n",
    "a0, b, T, iters = 0.00, 1.0, 100, 50\n",
    "count = rui_2(a0, b, T, iters)\n",
    "print(f\"P(CV(a = a0 = {a0}) < CV(a = hat(a)) = {round(count / iters, 3)}.\")"
   ]
  },
  {
   "cell_type": "markdown",
   "id": "a4d94ebf",
   "metadata": {},
   "source": [
    "### Martin's $\\hat{a}$ implementation.\n",
    "We can regard the data as $T - 1$ pairs $(x, y)$ of the form $\\{(X_t, X_{t+1})\\}_{t = 1}^{T - 1}$. Then, LOOCV would remove the $k$th sample, so the $k$th pair $(X_k, X_{k+1})$. The corresponding estimate would then be. Using this $(X, Y)$ pair combination, we can see estimate \n",
    "\n",
    "$$\\hat{b} = \\frac{\\left(\\sum X - X_1\\right) - a\\left(\\sum X - X_T\\right)}{(T - 1)(1 - a)} = \\frac{\\sum X}{T-1} - \\frac{(X_1 - aX_T)}{(T - 1)(1 - a)} \\approx \\frac{\\sum X}{T}.$$ Leaving out, the $k$th pair $(X_k, X_{k+1})$, we would get \n",
    "\n",
    "$$\\hat{b}^{-k} = \\frac{\\left(\\sum X - X_1 - X_{k + 1}\\right) - a\\left(\\sum X - X_T - X_{k}\\right)}{(T - 2)(1 - a)} \\approx \\frac{\\sum X - X_{k}}{T - 1}$$\n",
    "\n",
    "$$\\hat{a}^{-k} = \\frac{\\sum_{t = 1}^{T - 1}\\left(X_t - \\hat{b}^{-k}\\right)\\left(X_{t + 1} - \\hat{b}^{-k}\\right) - \\left(X_k - \\hat{b}^{-k}\\right)\\left(X_{k+1} - \\hat{b}^{-k}\\right)}{\\sum_{t = 1}^{T - 1}\\left(X_t - \\hat{b}^{-k}\\right)^2 - \\left(X_k - \\hat{b}^{-k}\\right)^2}$$"
   ]
  },
  {
   "cell_type": "code",
   "execution_count": 6,
   "id": "5e05238d",
   "metadata": {},
   "outputs": [
    {
     "name": "stderr",
     "output_type": "stream",
     "text": [
      "100%|████████████████████████████████████████████████████████████████████████████| 5000/5000 [00:02<00:00, 2145.00it/s]"
     ]
    },
    {
     "name": "stdout",
     "output_type": "stream",
     "text": [
      "P(CV(a = a0 = 0.8) < CV(a = hat(a)) = 0.697.\n"
     ]
    },
    {
     "name": "stderr",
     "output_type": "stream",
     "text": [
      "\n"
     ]
    }
   ],
   "source": [
    "a0, b, T = 0.8, 1.0, 10\n",
    "count, iters = 0, 5000\n",
    "\n",
    "for _ in tqdm(range(iters)):\n",
    "\n",
    "    X = np.zeros(T)\n",
    "    \n",
    "    # generate AR(1)\n",
    "    X[0] = np.random.normal(b, np.sqrt(1 / (1 - a0 ** 2)))\n",
    "    \n",
    "    noises = np.random.normal(0, 1, T - 1)\n",
    "    for t in range(1, T):\n",
    "        X[t] = b + a0 * (X[t - 1] - b) + noises[t - 1]\n",
    "    \n",
    "    # LOOCV parameter estimates approximation\n",
    "    hat_b = (sum(X) - X) / (T - 1)\n",
    "    \n",
    "    hat_a = np.zeros(T)\n",
    "    \n",
    "    CV_0 = np.zeros(T)\n",
    "    CV_1 = np.zeros(T)\n",
    "    \n",
    "    for t in range(T - 1):\n",
    "        nomin = np.dot(X[:-1] - hat_b[t], X[1:]  - hat_b[t]) - (X[t] - hat_b[t]) * (X[t + 1] - hat_b[t])\n",
    "        denom = np.dot(X[:-1] - hat_b[t], X[:-1] - hat_b[t]) - (X[t] - hat_b[t]) * (X[t]     - hat_b[t])\n",
    "        \n",
    "        hat_a[t] = nomin / denom\n",
    "                   \n",
    "        CV_0[t] = (X[t + 1]- hat_b[t] - a0       * (X[t] - hat_b[t])) ** 2\n",
    "        CV_1[t] = (X[t + 1]- hat_b[t] - hat_a[t] * (X[t] - hat_b[t])) ** 2\n",
    "        \n",
    "    count += (sum(CV_0[:-1]) < sum(CV_1[:-1]))\n",
    "\n",
    "print(f\"P(CV(a = a0 = {a0}) < CV(a = hat(a)) = {round(count / iters, 3)}.\")"
   ]
  },
  {
   "cell_type": "markdown",
   "id": "581255a5",
   "metadata": {},
   "source": [
    "### Remove all information of $(x, y)$ pair $(X_k, X_{k+1})$."
   ]
  },
  {
   "cell_type": "code",
   "execution_count": 7,
   "id": "d0438d94",
   "metadata": {},
   "outputs": [
    {
     "name": "stderr",
     "output_type": "stream",
     "text": [
      "100%|█████████████████████████████████████████████████████████████████████████████| 1000/1000 [00:05<00:00, 199.76it/s]"
     ]
    },
    {
     "name": "stdout",
     "output_type": "stream",
     "text": [
      "P(CV(a = a0 = 0.999) < CV(a = hat(a)) = 0.154.\n"
     ]
    },
    {
     "name": "stderr",
     "output_type": "stream",
     "text": [
      "\n"
     ]
    }
   ],
   "source": [
    "def martin_remove_x_k_pair(a0, b, T, iters = 100):\n",
    "    \n",
    "    count = 0\n",
    "    \n",
    "    for _ in tqdm(range(iters)):\n",
    "\n",
    "        X = np.zeros(T)\n",
    "\n",
    "        # generate AR(1)\n",
    "        X[0] = np.random.normal(b, np.sqrt(1 / (1 - a0 ** 2)))\n",
    "\n",
    "        noises = np.random.normal(0, 1, T - 1)\n",
    "        for t in range(1, T):\n",
    "            X[t] = b + a0 * (X[t - 1] - b) + noises[t - 1]\n",
    "\n",
    "        sum_X = sum(X)\n",
    "\n",
    "        # LOOCV parameter estimates\n",
    "        hat_b = np.zeros(T)\n",
    "        hat_b[:-1] = ((sum_X - X[0] - X[1:]) - a0 * (sum_X - X[-1] - X[:-1])) / ((T - 2) * (1 - a0))\n",
    "\n",
    "        hat_a = np.zeros(T)\n",
    "\n",
    "        CV_0 = np.zeros(T - 1)\n",
    "        CV_1 = np.zeros(T - 1)\n",
    "\n",
    "        for t in range(T - 1):            \n",
    "            nomin = np.dot(X[:-1] - hat_b[t], X[1:]  - hat_b[t]) - (X[t] - hat_b[t]) * (X[t + 1] - hat_b[t])\n",
    "            denom = np.dot(X[:-1] - hat_b[t], X[:-1] - hat_b[t]) - (X[t] - hat_b[t]) * (X[t]     - hat_b[t])\n",
    "\n",
    "            hat_a[t] = nomin / denom\n",
    "\n",
    "            CV_0[t] = (X[t + 1] - hat_b[t] - a0       * (X[t] - hat_b[t])) ** 2\n",
    "            CV_1[t] = (X[t + 1] - hat_b[t] - hat_a[t] * (X[t] - hat_b[t])) ** 2\n",
    "\n",
    "        count += (sum(CV_0) < sum(CV_1))\n",
    "    \n",
    "    return count\n",
    "\n",
    "a0, b, T, iters = 0.999, 0, 100, 1000\n",
    "count = martin_remove_x_k_pair(a0, b, T, iters)\n",
    "print(f\"P(CV(a = a0 = {a0}) < CV(a = hat(a)) = {round(count / iters, 3)}.\")"
   ]
  },
  {
   "cell_type": "markdown",
   "id": "0f193cec",
   "metadata": {},
   "source": [
    "### Remove all information of $X_k$\n",
    "\n",
    "We can regard the data as $T - 1$ pairs $(x, y)$ of the form $\\{(X_t, X_{t+1})\\}_{t = 1}^{T - 1}$. Then, LOOCV would remove the two samples pairs $(X_{k - 1}, X_{k})$, $(X_k, X_{k+1})$. Leaving out, the 2 pairs $(X_{k - 1}, X_{k})$, $(X_k, X_{k+1})$, we would get \n",
    "\n",
    "$$\\hat{b}^{-k} = \\frac{\\left(\\sum X - X_1 - X_{k + 1} - X_k\\right) - a\\left(\\sum X - X_T - X_{k} - X_{k - 1}\\right)}{(T - 3)(1 - a)} \\approx \\frac{\\sum X - X_k}{T - 1}$$\n",
    "\n",
    "$$\\hat{a}^{-k} = \\frac{\\sum_{t = 1}^{T - 1}\\left(X_t - \\hat{b}^{-k}\\right)\\left(X_{t + 1} - \\hat{b}^{-k}\\right) - \\left(X_{k - 1} - \\hat{b}^{-k}\\right)\\left(X_{k} - \\hat{b}^{-k}\\right) - \\left(X_k - \\hat{b}^{-k}\\right)\\left(X_{k+1} - \\hat{b}^{-k}\\right)}{\\sum_{t = 1}^{T - 1}\\left(X_t - \\hat{b}^{-k}\\right)^2 - \\left(X_k - \\hat{b}^{-k}\\right)^2  - \\left(X_{k - 1} - \\hat{b}^{-k}\\right)^2}$$"
   ]
  },
  {
   "cell_type": "code",
   "execution_count": 8,
   "id": "24d4c86c",
   "metadata": {},
   "outputs": [
    {
     "name": "stderr",
     "output_type": "stream",
     "text": [
      "100%|███████████████████████████████████████████████████████████████████████████████| 100/100 [00:00<00:00, 315.46it/s]"
     ]
    },
    {
     "name": "stdout",
     "output_type": "stream",
     "text": [
      "P(CV(a = a0 = 0.65) < CV(a = hat(a)) = 0.91.\n"
     ]
    },
    {
     "name": "stderr",
     "output_type": "stream",
     "text": [
      "\n"
     ]
    }
   ],
   "source": [
    "def martin_remove_x_k_both(a0, b, T, iters):\n",
    "    \n",
    "    count = 0\n",
    "    \n",
    "    np.random.seed(seed = 123)\n",
    "    \n",
    "    for _ in tqdm(range(iters)):\n",
    "\n",
    "        X = np.zeros(T)\n",
    "\n",
    "        # generate AR(1)\n",
    "        X[0] = np.random.normal(b, np.sqrt(1 / (1 - a0 ** 2)))\n",
    "\n",
    "        noises = np.random.normal(0, 1, T - 1)\n",
    "        for t in range(1, T):\n",
    "            X[t] = b + a0 * (X[t - 1] - b) + noises[t - 1]\n",
    "\n",
    "        sum_X = sum(X)\n",
    "\n",
    "        # LOOCV parameter estimates\n",
    "        hat_b = np.zeros(T)\n",
    "        hat_b[1:-1] = ((sum_X - X[0] - X[1:-1] - X[2:]) - a0 * (sum_X - X[-1] - X[1:-1] - X[:-2])) / ((T - 3) * (1 - a0))\n",
    "        # hat_b[1:-1] = (sum(X[1:] - a0 * X[:-1]) - (1 - a0) * X[1:-1] - X[2:] + a0 * X[:-2]) / ((T - 3) * (1 - a0))\n",
    "        \n",
    "        # approx\n",
    "        # hat_b = (sum_X - X) / (T - 1)\n",
    "\n",
    "        hat_a = np.zeros(T)\n",
    "\n",
    "        CV_0 = np.zeros(T - 1)\n",
    "        CV_1 = np.zeros(T - 1)\n",
    "\n",
    "        for t in range(1, T - 1):\n",
    "            hat_b_2 = ((sum_X - X[0] - X[t] - X[t + 1]) - a0 * (sum_X - X[-1] - X[t] - X[t - 1])) / ((T - 3) * (1 - a0))\n",
    "\n",
    "            nomin = np.dot(X[:-1] - hat_b[t], X[1:]  - hat_b[t]) - (X[t - 1] - hat_b[t]) * (X[t]     - hat_b[t]) - (X[t] - hat_b[t]) * (X[t + 1] - hat_b[t]) \n",
    "            denom = np.dot(X[:-1] - hat_b[t], X[:-1] - hat_b[t]) - (X[t - 1] - hat_b[t]) * (X[t - 1] - hat_b[t]) - (X[t] - hat_b[t]) * (X[t]     - hat_b[t])\n",
    "\n",
    "            hat_a[t] = nomin / denom\n",
    "            \n",
    "            CV_0[t] = (X[t + 1] - hat_b[t] - a0       * (X[t] - hat_b[t])) ** 2\n",
    "            CV_1[t] = (X[t + 1] - hat_b[t] - hat_a[t] * (X[t] - hat_b[t])) ** 2\n",
    "        \n",
    "        #print(round(sum(CV_0)), round(sum(CV_1)))\n",
    "        count += (sum(CV_0) < sum(CV_1))\n",
    "        \n",
    "    return count\n",
    "\n",
    "a0, b, T, iters = 0.65, 0, 51, 100\n",
    "count = martin_remove_x_k_both(a0, b, T, iters)\n",
    "print(f\"P(CV(a = a0 = {a0}) < CV(a = hat(a)) = {round(count / iters, 3)}.\")"
   ]
  },
  {
   "cell_type": "markdown",
   "id": "358f1c8b",
   "metadata": {},
   "source": [
    "### 3D Grid Search"
   ]
  },
  {
   "cell_type": "code",
   "execution_count": 1021,
   "id": "93172ccb",
   "metadata": {},
   "outputs": [
    {
     "name": "stderr",
     "output_type": "stream",
     "text": [
      "  5%|███▉                                                                           | 50/1000 [00:00<00:03, 246.60it/s]"
     ]
    },
    {
     "name": "stdout",
     "output_type": "stream",
     "text": [
      "a 0.0\n"
     ]
    },
    {
     "name": "stderr",
     "output_type": "stream",
     "text": [
      "100%|█████████████████████████████████████████████████████████████████████████████| 1000/1000 [00:04<00:00, 238.36it/s]\n",
      "  1%|▋                                                                                | 8/1000 [00:00<00:13, 72.73it/s]"
     ]
    },
    {
     "name": "stdout",
     "output_type": "stream",
     "text": [
      "0.824\n"
     ]
    },
    {
     "name": "stderr",
     "output_type": "stream",
     "text": [
      "100%|██████████████████████████████████████████████████████████████████████████████| 1000/1000 [00:13<00:00, 75.04it/s]\n",
      "  2%|█▋                                                                             | 22/1000 [00:00<00:04, 220.00it/s]"
     ]
    },
    {
     "name": "stdout",
     "output_type": "stream",
     "text": [
      "0.828\n",
      "a 0.25\n"
     ]
    },
    {
     "name": "stderr",
     "output_type": "stream",
     "text": [
      "100%|█████████████████████████████████████████████████████████████████████████████| 1000/1000 [00:05<00:00, 174.67it/s]\n",
      "  1%|▌                                                                                | 7/1000 [00:00<00:14, 67.97it/s]"
     ]
    },
    {
     "name": "stdout",
     "output_type": "stream",
     "text": [
      "0.833\n"
     ]
    },
    {
     "name": "stderr",
     "output_type": "stream",
     "text": [
      "100%|██████████████████████████████████████████████████████████████████████████████| 1000/1000 [00:21<00:00, 47.49it/s]\n",
      "  1%|▋                                                                                | 8/1000 [00:00<00:14, 70.80it/s]"
     ]
    },
    {
     "name": "stdout",
     "output_type": "stream",
     "text": [
      "0.835\n",
      "a 0.6\n"
     ]
    },
    {
     "name": "stderr",
     "output_type": "stream",
     "text": [
      "100%|█████████████████████████████████████████████████████████████████████████████| 1000/1000 [00:07<00:00, 141.68it/s]\n",
      "  1%|▋                                                                                | 9/1000 [00:00<00:11, 83.31it/s]"
     ]
    },
    {
     "name": "stdout",
     "output_type": "stream",
     "text": [
      "0.822\n"
     ]
    },
    {
     "name": "stderr",
     "output_type": "stream",
     "text": [
      "100%|██████████████████████████████████████████████████████████████████████████████| 1000/1000 [00:14<00:00, 68.71it/s]\n",
      "  1%|█                                                                              | 14/1000 [00:00<00:07, 134.61it/s]"
     ]
    },
    {
     "name": "stdout",
     "output_type": "stream",
     "text": [
      "0.823\n",
      "a 0.8\n"
     ]
    },
    {
     "name": "stderr",
     "output_type": "stream",
     "text": [
      "100%|█████████████████████████████████████████████████████████████████████████████| 1000/1000 [00:05<00:00, 173.31it/s]\n",
      "  1%|▋                                                                                | 9/1000 [00:00<00:12, 80.33it/s]"
     ]
    },
    {
     "name": "stdout",
     "output_type": "stream",
     "text": [
      "0.792\n"
     ]
    },
    {
     "name": "stderr",
     "output_type": "stream",
     "text": [
      "100%|██████████████████████████████████████████████████████████████████████████████| 1000/1000 [00:12<00:00, 78.20it/s]\n",
      "  2%|█▍                                                                             | 18/1000 [00:00<00:05, 179.95it/s]"
     ]
    },
    {
     "name": "stdout",
     "output_type": "stream",
     "text": [
      "0.814\n",
      "a 0.9\n"
     ]
    },
    {
     "name": "stderr",
     "output_type": "stream",
     "text": [
      "100%|█████████████████████████████████████████████████████████████████████████████| 1000/1000 [00:05<00:00, 192.75it/s]\n",
      "  1%|▊                                                                               | 10/1000 [00:00<00:10, 90.07it/s]"
     ]
    },
    {
     "name": "stdout",
     "output_type": "stream",
     "text": [
      "0.729\n"
     ]
    },
    {
     "name": "stderr",
     "output_type": "stream",
     "text": [
      "100%|██████████████████████████████████████████████████████████████████████████████| 1000/1000 [00:12<00:00, 79.88it/s]\n",
      "  2%|█▌                                                                             | 19/1000 [00:00<00:05, 180.96it/s]"
     ]
    },
    {
     "name": "stdout",
     "output_type": "stream",
     "text": [
      "0.792\n",
      "a 0.99\n"
     ]
    },
    {
     "name": "stderr",
     "output_type": "stream",
     "text": [
      " 46%|███████████████████████████████████▋                                          | 458/1000 [00:02<00:03, 177.62it/s]"
     ]
    },
    {
     "name": "stdout",
     "output_type": "stream",
     "text": [
      "1 -1.0126299798685068e-10 PROBLEM\n"
     ]
    },
    {
     "name": "stderr",
     "output_type": "stream",
     "text": [
      "100%|█████████████████████████████████████████████████████████████████████████████| 1000/1000 [00:05<00:00, 181.33it/s]\n",
      "  2%|█▏                                                                              | 15/1000 [00:00<00:13, 71.12it/s]"
     ]
    },
    {
     "name": "stdout",
     "output_type": "stream",
     "text": [
      "0.5\n"
     ]
    },
    {
     "name": "stderr",
     "output_type": "stream",
     "text": [
      "100%|██████████████████████████████████████████████████████████████████████████████| 1000/1000 [00:13<00:00, 72.55it/s]\n",
      "  2%|█▎                                                                             | 16/1000 [00:00<00:06, 158.41it/s]"
     ]
    },
    {
     "name": "stdout",
     "output_type": "stream",
     "text": [
      "0.569\n",
      "a 0.999\n"
     ]
    },
    {
     "name": "stderr",
     "output_type": "stream",
     "text": [
      "100%|█████████████████████████████████████████████████████████████████████████████| 1000/1000 [00:08<00:00, 122.98it/s]\n",
      "  1%|▌                                                                                | 7/1000 [00:00<00:15, 66.02it/s]"
     ]
    },
    {
     "name": "stdout",
     "output_type": "stream",
     "text": [
      "0.477\n"
     ]
    },
    {
     "name": "stderr",
     "output_type": "stream",
     "text": [
      "100%|██████████████████████████████████████████████████████████████████████████████| 1000/1000 [00:19<00:00, 50.45it/s]"
     ]
    },
    {
     "name": "stdout",
     "output_type": "stream",
     "text": [
      "0.442\n"
     ]
    },
    {
     "name": "stderr",
     "output_type": "stream",
     "text": [
      "\n"
     ]
    }
   ],
   "source": [
    "a_range = [0.0, 0.25, 0.6, 0.8, 0.9, 0.99, 0.999]\n",
    "b_range = [0.0] # np.linspace(-15, 15, 3)\n",
    "T_range = [51, 101]\n",
    "iters = 10\n",
    "iters2 = 100\n",
    "\n",
    "num_methods = 4\n",
    "\n",
    "results = np.zeros((num_methods, len(a_range), len(b_range), len(T_range)))\n",
    "\n",
    "for i, a in enumerate(a_range):\n",
    "    print(\"a\", a)\n",
    "    for j, b in enumerate(b_range):\n",
    "        for k, T in enumerate(T_range):\n",
    "#             results[0][i][j][k] = ar_loocv_2(a, b, T, iters, approx_b = True, one_pair = True, iter_estimate = False, iters2 = iters2) / iters\n",
    "#             results[1][i][j][k] = ar_loocv_2(a, b, T, iters, approx_b = True, one_pair = False, iter_estimate = False, iters2 = iters2) / iters\n",
    "            results[2][i][j][k] = ar_loocv_2(a, b, T, iters, approx_b = True, one_pair = False, iter_estimate = True, iters2 = iters2) / iters\n",
    "            print(results[2][i][j][k])\n",
    "#             results[3][i][j][k] = ar_loocv_2(a, b, T, iters, approx_b = True, one_pair = True, iter_estimate = True, iters2 = iters2) / iters"
   ]
  },
  {
   "cell_type": "markdown",
   "id": "0c3188ad",
   "metadata": {},
   "source": [
    "### Plot for a given $b$"
   ]
  },
  {
   "cell_type": "code",
   "execution_count": 1020,
   "id": "146001af",
   "metadata": {},
   "outputs": [
    {
     "data": {
      "image/png": "[encoded data removed]",
      "text/plain": [
       "<Figure size 720x288 with 1 Axes>"
      ]
     },
     "metadata": {
      "needs_background": "light"
     },
     "output_type": "display_data"
    },
    {
     "data": {
      "image/png": "[encoded data removed]",
      "text/plain": [
       "<Figure size 720x288 with 1 Axes>"
      ]
     },
     "metadata": {
      "needs_background": "light"
     },
     "output_type": "display_data"
    },
    {
     "data": {
      "image/png": "[encoded data removed]",
      "text/plain": [
       "<Figure size 720x288 with 1 Axes>"
      ]
     },
     "metadata": {
      "needs_background": "light"
     },
     "output_type": "display_data"
    },
    {
     "data": {
      "image/png": "[encoded data removed]",
      "text/plain": [
       "<Figure size 720x288 with 1 Axes>"
      ]
     },
     "metadata": {
      "needs_background": "light"
     },
     "output_type": "display_data"
    }
   ],
   "source": [
    "b_index = -1\n",
    "n_method = 2\n",
    "a_index = 0\n",
    "t_index = -1\n",
    "# T_range = [51, 101, 251, 501]\n",
    "\n",
    "methods = [\"removing (Xk, Xk+1)\", \"removing (Xk, Xk+1) and (Xk-1, Xk)\", \"removing (Xk, Xk+1) and (Xk-1, Xk), iterative MLE estimation\", \"removing (Xk, Xk+1), iterative MLE estimation\"]\n",
    "plt.figure(figsize = (10, 4))\n",
    "plt.title(f\"P(CV success for b = {b_range[b_index]}), {methods[n_method]}.\")\n",
    "plt.xlabel(r\"Value of $a$.\")\n",
    "\n",
    "for i, plot in enumerate(results[n_method, :, b_index, :].T):\n",
    "    plt.plot(np.append(0, a_range), np.append(plot[0], plot), label = f\"T = {T_range[i]}\")\n",
    "    plt.fill_between(a_range, plot - np.sqrt(plot * (1 - plot) / iters), plot + np.sqrt(plot * (1 - plot) / iters), alpha = 0.1)\n",
    "    \n",
    "plt.legend(loc='upper right', bbox_to_anchor=(1.15, 1),\n",
    "          ncol=1, fancybox=True, shadow=True)\n",
    "plt.show()\n",
    "\n",
    "plt.figure(figsize = (10, 4))\n",
    "plt.xlabel(r\"Value of $T$.\")\n",
    "plt.title(f\"P(CV success for b = {b_range[b_index]}), {methods[n_method]}.\")\n",
    "for i, plot in enumerate(results[n_method, :, b_index, :]):\n",
    "    plt.plot(T_range, plot, label = f\"a = {a_range[i]}\")\n",
    "    plt.fill_between(T_range, plot - np.sqrt(plot * (1 - plot) / iters), plot + np.sqrt(plot * (1 - plot) / iters), alpha = 0.1)\n",
    "    \n",
    "plt.legend(loc='upper right', bbox_to_anchor=(1.17, 1),\n",
    "          ncol=1, fancybox=True, shadow=True)\n",
    "\n",
    "plt.show()\n",
    "\n",
    "plt.figure(figsize = (10, 4))\n",
    "plt.xlabel(r\"Value of $T$.\")\n",
    "plt.title(f\"P(CV success for b = {b_range[b_index]}), a = {a_range[a_index]}.\")\n",
    "for i, plot in enumerate(results[:, a_index, b_index, :]):\n",
    "    plt.plot(T_range, plot, label = f\"{methods[i]}\")\n",
    "    plt.fill_between(T_range, plot - np.sqrt(plot * (1 - plot) / iters), plot + np.sqrt(plot * (1 - plot) / iters), alpha = 0.1)\n",
    "    \n",
    "plt.legend(loc='lower center', bbox_to_anchor=(0.5, -0.4),\n",
    "          ncol=2, fancybox=True, shadow=True)\n",
    "\n",
    "plt.show()\n",
    "\n",
    "plt.figure(figsize = (10, 4))\n",
    "plt.xlabel(r\"Value of $a$.\")\n",
    "plt.title(f\"P(CV success for b = {b_range[b_index]}), T = {T_range[t_index]}.\")\n",
    "for i, plot in enumerate(results[:, :, b_index, t_index]):\n",
    "    plt.plot(a_range, plot, label = f\"{methods[i]}\")\n",
    "    plt.fill_between(a_range, plot - np.sqrt(plot * (1 - plot) / iters), plot + np.sqrt(plot * (1 - plot) / iters), alpha = 0.1)\n",
    "    \n",
    "plt.legend(loc='lower center', bbox_to_anchor=(0.5, -0.4),\n",
    "          ncol=2, fancybox=True, shadow=True)\n",
    "\n",
    "plt.show()"
   ]
  },
  {
   "cell_type": "code",
   "execution_count": 671,
   "id": "d9fa05a9",
   "metadata": {},
   "outputs": [
    {
     "name": "stdout",
     "output_type": "stream",
     "text": [
      "[[[[0.  ]]\n",
      "\n",
      "  [[0.  ]]]\n",
      "\n",
      "\n",
      " [[[0.  ]]\n",
      "\n",
      "  [[0.  ]]]\n",
      "\n",
      "\n",
      " [[[0.87]]\n",
      "\n",
      "  [[0.83]]]\n",
      "\n",
      "\n",
      " [[[0.  ]]\n",
      "\n",
      "  [[0.  ]]]]\n"
     ]
    }
   ],
   "source": [
    "print(results)"
   ]
  },
  {
   "cell_type": "code",
   "execution_count": 647,
   "id": "4b208e1d",
   "metadata": {},
   "outputs": [
    {
     "name": "stdout",
     "output_type": "stream",
     "text": [
      "(4, 7, 1, 1)\n",
      "(4, 7, 1, 3)\n",
      "[[[[0.85466667 0.85133333 0.83733333 0.84333333]]\n",
      "\n",
      "  [[0.85666667 0.846      0.84333333 0.84333333]]\n",
      "\n",
      "  [[0.82666667 0.82666667 0.84066667 0.84266667]]\n",
      "\n",
      "  [[0.77866667 0.808      0.824      0.83      ]]\n",
      "\n",
      "  [[0.724      0.77466667 0.78866667 0.84333333]]\n",
      "\n",
      "  [[0.51466667 0.548      0.62466667 0.73866667]]\n",
      "\n",
      "  [[0.452      0.45333333 0.45933333 0.49866667]]]\n",
      "\n",
      "\n",
      " [[[0.83666667 0.84066667 0.83866667 0.842     ]]\n",
      "\n",
      "  [[0.84333333 0.85       0.836      0.84533333]]\n",
      "\n",
      "  [[0.83       0.82666667 0.83933333 0.84466667]]\n",
      "\n",
      "  [[0.78333333 0.80533333 0.81533333 0.83066667]]\n",
      "\n",
      "  [[0.72533333 0.78133333 0.78933333 0.84133333]]\n",
      "\n",
      "  [[0.53333333 0.56       0.63533333 0.73866667]]\n",
      "\n",
      "  [[0.46333333 0.454      0.45933333 0.49866667]]]\n",
      "\n",
      "\n",
      " [[[0.82933333 0.838      0.83533333 0.84866667]]\n",
      "\n",
      "  [[0.84733333 0.84866667 0.838      0.84866667]]\n",
      "\n",
      "  [[0.85       0.84066667 0.84       0.84533333]]\n",
      "\n",
      "  [[0.83266667 0.84266667 0.84       0.83666667]]\n",
      "\n",
      "  [[0.802      0.82666667 0.82666667 0.848     ]]\n",
      "\n",
      "  [[0.63866667 0.68       0.74933333 0.80333333]]\n",
      "\n",
      "  [[0.61066667 0.59       0.59       0.64066667]]]\n",
      "\n",
      "\n",
      " [[[0.84466667 0.846      0.83533333 0.84266667]]\n",
      "\n",
      "  [[0.852      0.84466667 0.83666667 0.84533333]]\n",
      "\n",
      "  [[0.84133333 0.83266667 0.83666667 0.84266667]]\n",
      "\n",
      "  [[0.82066667 0.83133333 0.83266667 0.83533333]]\n",
      "\n",
      "  [[0.79266667 0.81666667 0.82133333 0.844     ]]\n",
      "\n",
      "  [[0.628      0.67666667 0.74333333 0.80533333]]\n",
      "\n",
      "  [[0.57666667 0.59333333 0.588      0.64866667]]]]\n"
     ]
    }
   ],
   "source": [
    "# print(np.shape(results))\n",
    "# print(np.shape(bckp))\n",
    "\n",
    "# # results_2 = np.append(bckp, results, axis = -1)\n",
    "# print(results_2)"
   ]
  },
  {
   "cell_type": "code",
   "execution_count": 602,
   "id": "ffc74141",
   "metadata": {
    "scrolled": true
   },
   "outputs": [
    {
     "name": "stdout",
     "output_type": "stream",
     "text": [
      "[[[[0.85466667 0.85133333 0.83733333]]\n",
      "\n",
      "  [[0.85666667 0.846      0.84333333]]\n",
      "\n",
      "  [[0.82666667 0.82666667 0.84066667]]\n",
      "\n",
      "  [[0.77866667 0.808      0.824     ]]\n",
      "\n",
      "  [[0.724      0.77466667 0.78866667]]\n",
      "\n",
      "  [[0.51466667 0.548      0.62466667]]\n",
      "\n",
      "  [[0.452      0.45333333 0.45933333]]]\n",
      "\n",
      "\n",
      " [[[0.83666667 0.84066667 0.83866667]]\n",
      "\n",
      "  [[0.84333333 0.85       0.836     ]]\n",
      "\n",
      "  [[0.83       0.82666667 0.83933333]]\n",
      "\n",
      "  [[0.78333333 0.80533333 0.81533333]]\n",
      "\n",
      "  [[0.72533333 0.78133333 0.78933333]]\n",
      "\n",
      "  [[0.53333333 0.56       0.63533333]]\n",
      "\n",
      "  [[0.46333333 0.454      0.45933333]]]\n",
      "\n",
      "\n",
      " [[[0.82933333 0.838      0.83533333]]\n",
      "\n",
      "  [[0.84733333 0.84866667 0.838     ]]\n",
      "\n",
      "  [[0.85       0.84066667 0.84      ]]\n",
      "\n",
      "  [[0.83266667 0.84266667 0.84      ]]\n",
      "\n",
      "  [[0.802      0.82666667 0.82666667]]\n",
      "\n",
      "  [[0.63866667 0.68       0.74933333]]\n",
      "\n",
      "  [[0.61066667 0.59       0.59      ]]]\n",
      "\n",
      "\n",
      " [[[0.84466667 0.846      0.83533333]]\n",
      "\n",
      "  [[0.852      0.84466667 0.83666667]]\n",
      "\n",
      "  [[0.84133333 0.83266667 0.83666667]]\n",
      "\n",
      "  [[0.82066667 0.83133333 0.83266667]]\n",
      "\n",
      "  [[0.79266667 0.81666667 0.82133333]]\n",
      "\n",
      "  [[0.628      0.67666667 0.74333333]]\n",
      "\n",
      "  [[0.57666667 0.59333333 0.588     ]]]]\n"
     ]
    }
   ],
   "source": [
    "# bckp = results.copy()\n",
    "# print(results)"
   ]
  },
  {
   "cell_type": "markdown",
   "id": "07faf1ca",
   "metadata": {},
   "source": [
    "### Plot $a$ and $b$ for given $T$"
   ]
  },
  {
   "cell_type": "code",
   "execution_count": 605,
   "id": "4fc58508",
   "metadata": {},
   "outputs": [
    {
     "data": {
      "image/png": "[encoded data removed]",
      "text/plain": [
       "<Figure size 720x288 with 1 Axes>"
      ]
     },
     "metadata": {
      "needs_background": "light"
     },
     "output_type": "display_data"
    },
    {
     "data": {
      "image/png": "[encoded data removed]",
      "text/plain": [
       "<Figure size 720x288 with 1 Axes>"
      ]
     },
     "metadata": {
      "needs_background": "light"
     },
     "output_type": "display_data"
    }
   ],
   "source": [
    "plt.figure(figsize = (10, 4))\n",
    "t_index = 0\n",
    "n_method = 0\n",
    "\n",
    "plt.title(f\"P(CV success for T = {T_range[t_index]}).\")\n",
    "plt.xlabel(r\"Value of $a$.\")\n",
    "\n",
    "for i, plot in enumerate(results[n_method, :, :, t_index].T):\n",
    "    plt.plot(a_range, plot, label = f\"b = {b_range[i]}\")\n",
    "    plt.fill_between(a_range, plot - np.sqrt(plot * (1 - plot) / iters), plot + np.sqrt(plot * (1 - plot) / iters), alpha = 0.1)\n",
    "    \n",
    "plt.legend(loc='upper right', bbox_to_anchor=(1.3, 1),\n",
    "          ncol=1, fancybox=True, shadow=True)\n",
    "plt.show()\n",
    "\n",
    "plt.figure(figsize = (10, 4))\n",
    "plt.title(f\"P(CV success for T = {T_range[t_index]}).\")\n",
    "plt.xlabel(r\"Value of $b$.\")\n",
    "\n",
    "for i, plot in enumerate(results[n_method, :, :, t_index]):\n",
    "    plt.plot(b_range, plot, label = f\"a = {a_range[i]}\")\n",
    "    plt.fill_between(b_range, plot - np.sqrt(plot * (1 - plot) / iters), plot + np.sqrt(plot * (1 - plot) / iters), alpha = 0.1)\n",
    "    \n",
    "plt.legend(loc='upper right', bbox_to_anchor=(1.2, 1),\n",
    "          ncol=1, fancybox=True, shadow=True)\n",
    "\n",
    "plt.show()"
   ]
  },
  {
   "cell_type": "markdown",
   "id": "d808d796",
   "metadata": {},
   "source": [
    "### Plot for given $a$"
   ]
  },
  {
   "cell_type": "code",
   "execution_count": 577,
   "id": "f77c6170",
   "metadata": {},
   "outputs": [
    {
     "data": {
      "image/png": "[encoded data removed]",
      "text/plain": [
       "<Figure size 432x288 with 1 Axes>"
      ]
     },
     "metadata": {
      "needs_background": "light"
     },
     "output_type": "display_data"
    },
    {
     "data": {
      "image/png": "[encoded data removed]",
      "text/plain": [
       "<Figure size 432x288 with 1 Axes>"
      ]
     },
     "metadata": {
      "needs_background": "light"
     },
     "output_type": "display_data"
    }
   ],
   "source": [
    "a_index = 3\n",
    "n_method = 0\n",
    "\n",
    "plt.title(f\"P(CV success for a = {a_range[a_index]}).\")\n",
    "plt.xlabel(r\"Value of $b$.\")\n",
    "\n",
    "for i, plot in enumerate(results[n_method, a_index, :, :].T):\n",
    "    plt.plot(b_range, plot, label = f\"T = {T_range[i]}\")\n",
    "    plt.fill_between(b_range, plot - np.sqrt(plot * (1 - plot) / iters), plot + np.sqrt(plot * (1 - plot) / iters), alpha = 0.1)\n",
    "    \n",
    "plt.legend(loc='upper right', bbox_to_anchor=(1.3, 1),\n",
    "          ncol=1, fancybox=True, shadow=True)\n",
    "plt.show()\n",
    "\n",
    "plt.title(f\"P(CV success for a = {a_range[a_index]}).\")\n",
    "plt.xlabel(r\"Value of $T$.\")\n",
    "\n",
    "for i, plot in enumerate(results[n_method, a_index, :, :]):\n",
    "    plt.plot(T_range, plot, label = f\"b = {b_range[i]}\")\n",
    "    plt.fill_between(T_range, plot - np.sqrt(plot * (1 - plot) / iters), plot + np.sqrt(plot * (1 - plot) / iters), alpha = 0.1)\n",
    "    \n",
    "plt.legend(loc='upper right', bbox_to_anchor=(1.3, 1),\n",
    "          ncol=1, fancybox=True, shadow=True)\n",
    "\n",
    "plt.show()"
   ]
  },
  {
   "cell_type": "code",
   "execution_count": 20,
   "id": "b858fdd5",
   "metadata": {},
   "outputs": [
    {
     "data": {
      "image/png": "[encoded data removed]",
      "text/plain": [
       "<Figure size 720x288 with 1 Axes>"
      ]
     },
     "metadata": {
      "needs_background": "light"
     },
     "output_type": "display_data"
    },
    {
     "data": {
      "image/png": "[encoded data removed]",
      "text/plain": [
       "<Figure size 720x288 with 1 Axes>"
      ]
     },
     "metadata": {
      "needs_background": "light"
     },
     "output_type": "display_data"
    }
   ],
   "source": [
    "b_index = -1\n",
    "n_method = 1\n",
    "\n",
    "plt.figure(figsize = (10, 4))\n",
    "plt.title(f\"P(CV success for b = {b_range[b_index]}) removing $k$th pair.\")\n",
    "plt.xlabel(r\"Value of $a$.\")\n",
    "\n",
    "for i, plot in enumerate(results[n_method, :, b_index, :].T):\n",
    "    plt.plot(a_range, plot, label = f\"T = {T_range[i]}\")\n",
    "    plt.fill_between(a_range, plot - np.sqrt(plot * (1 - plot) / iters), plot + np.sqrt(plot * (1 - plot) / iters), alpha = 0.1)\n",
    "    \n",
    "plt.legend(ncol=1, fancybox=True, shadow=True)\n",
    "plt.show()\n",
    "\n",
    "plt.figure(figsize = (10, 4))\n",
    "plt.xlabel(r\"Value of $T$.\")\n",
    "plt.title(f\"P(CV success for b = {b_range[b_index]}) removing $k$th pair.\")\n",
    "for i, plot in enumerate(results[n_method, :, b_index, :]):\n",
    "    plt.plot(T_range, plot, label = f\"a = {a_range[i]}\")\n",
    "    plt.fill_between(T_range, plot - np.sqrt(plot * (1 - plot) / iters), plot + np.sqrt(plot * (1 - plot) / iters), alpha = 0.1)\n",
    "    \n",
    "plt.legend(ncol=1, fancybox=True, shadow=True)\n",
    "\n",
    "plt.show()"
   ]
  },
  {
   "cell_type": "code",
   "execution_count": 133,
   "id": "f47bc913",
   "metadata": {},
   "outputs": [],
   "source": [
    "# bckp_2 = results.copy()\n",
    "# bckp = results.copy()"
   ]
  },
  {
   "cell_type": "code",
   "execution_count": 174,
   "id": "58d165a9",
   "metadata": {},
   "outputs": [],
   "source": [
    "bckp_3 = results.copy()"
   ]
  },
  {
   "cell_type": "code",
   "execution_count": null,
   "id": "196c1134",
   "metadata": {},
   "outputs": [],
   "source": [
    "def martin_remove_x_k_both_2(a, b, T, iters, iters2):\n",
    "    \n",
    "    count = 0\n",
    "    \n",
    "    for _ in tqdm(range(iters)):\n",
    "\n",
    "        X = np.zeros(T)\n",
    "\n",
    "        # generate AR(1)\n",
    "        X[0] = np.random.normal(b, np.sqrt(1 / (1 - a0 ** 2)))\n",
    "\n",
    "        noises = np.random.normal(0, 1, T - 1)\n",
    "        for t in range(1, T):\n",
    "            X[t] = b + a0 * (X[t - 1] - b) + noises[t - 1]\n",
    "\n",
    "        sum_X = sum(X)\n",
    "\n",
    "        # LOOCV parameter estimates\n",
    "        hat_b = np.zeros(T)\n",
    "        hat_b[1:-1] = ((sum_X - X[0] - X[1:-1] - X[2:]) - a0 * (sum_X - X[-1] - X[1:-1] - X[:-2])) / ((T - 3) * (1 - a0))\n",
    "\n",
    "        hat_a = np.zeros(T)\n",
    "\n",
    "        CV_0 = np.zeros(T - 1)\n",
    "        CV_1 = np.zeros(T - 1)\n",
    "\n",
    "        for t in range(T - 2, T - 1):\n",
    "            nomin = np.dot(X[:-1] - hat_b[t], X[1:]  - hat_b[t]) - (X[t - 1] - hat_b[t]) * (X[t]     - hat_b[t]) - (X[t] - hat_b[t]) * (X[t + 1] - hat_b[t]) \n",
    "            denom = np.dot(X[:-1] - hat_b[t], X[:-1] - hat_b[t]) - (X[t - 1] - hat_b[t]) * (X[t - 1] - hat_b[t]) - (X[t] - hat_b[t]) * (X[t]     - hat_b[t])\n",
    "\n",
    "            hat_a[t] = nomin / denom\n",
    "            \n",
    "            a_est, b_est = loocv_two_pair(hat_a[t], hat_b[t], X, t, sum_X, T, iters = iters2)\n",
    "            \n",
    "            CV_0[t] = (X[t + 1] - b_est - a0    * (X[t] - b_est)) ** 2\n",
    "            CV_1[t] = (X[t + 1] - b_est - a_est * (X[t] - b_est)) ** 2\n",
    "\n",
    "        #print(round(sum(CV_0)), round(sum(CV_1)))\n",
    "        count += (sum(CV_0) < sum(CV_1))\n",
    "        \n",
    "    return count\n",
    "\n",
    "a0, b, T, iters, iters2 = 0.5, 0, 51, 1, 10\n",
    "count = martin_remove_x_k_pair_2(a0, b, T, iters, iters2)\n",
    "print(f\"P(CV(a = a0 = {a0}) < CV(a = hat(a)) = {round(count / iters, 3)}.\")"
   ]
  },
  {
   "cell_type": "code",
   "execution_count": null,
   "id": "557154b7",
   "metadata": {},
   "outputs": [],
   "source": [
    "def martin_remove_x_k_pair_2(a, b, T, iters = 100, iters2 = 5):\n",
    "    \n",
    "    count = 0\n",
    "    \n",
    "    for _ in tqdm(range(iters)):\n",
    "\n",
    "        X = np.zeros(T)\n",
    "\n",
    "        # generate AR(1)\n",
    "        X[0] = np.random.normal(b, np.sqrt(1 / (1 - a ** 2)))\n",
    "\n",
    "        noises = np.random.normal(0, 1, T - 1)\n",
    "        for t in range(1, T):\n",
    "            X[t] = b + a * (X[t - 1] - b) + noises[t - 1]\n",
    "\n",
    "        sum_X = sum(X)\n",
    "\n",
    "        # LOOCV parameter estimates\n",
    "        hat_b = np.zeros(T)\n",
    "        hat_b[:-1] = ((sum_X - X[0] - X[1:]) - a * (sum_X - X[-1] - X[:-1])) / ((T - 2) * (1 - a))\n",
    "\n",
    "        hat_a = np.zeros(T)\n",
    "\n",
    "        CV_0 = np.zeros(T - 1)\n",
    "        CV_1 = np.zeros(T - 1)\n",
    "\n",
    "        for t in range(1, T - 1):             \n",
    "            nomin = np.dot(X[:-1] - hat_b[t], X[1:]  - hat_b[t]) - (X[t] - hat_b[t]) * (X[t + 1] - hat_b[t])\n",
    "            denom = np.dot(X[:-1] - hat_b[t], X[:-1] - hat_b[t]) - (X[t] - hat_b[t]) * (X[t]     - hat_b[t])\n",
    "\n",
    "            hat_a[t] = nomin / denom\n",
    "            \n",
    "            a_est, b_est = loocv_one_pair(hat_a[t], hat_b[t], X, t, sum_X, T, iters = iters2)\n",
    "            CV_0[t] = (X[t + 1] - b_est - a     * (X[t] - b_est)) ** 2\n",
    "            CV_1[t] = (X[t + 1] - b_est - a_est * (X[t] - b_est)) ** 2\n",
    "\n",
    "        count += (sum(CV_0) < sum(CV_1))\n",
    "    \n",
    "    return count\n",
    "\n",
    "a0, b, T, iters, iters2 = 0.5, 0, 101, 10, 1000\n",
    "count = martin_remove_x_k_pair_2(a0, b, T, iters, iters2)\n",
    "print(f\"P(CV(a = a0 = {a0}) < CV(a = hat(a)) = {round(count / iters, 3)}.\")"
   ]
  },
  {
   "cell_type": "code",
   "execution_count": null,
   "id": "c13c7731",
   "metadata": {},
   "outputs": [],
   "source": [
    "def martin_remove_x_k_pair_3(a, b, T, iters = 100, iters2 = 5):\n",
    "    \n",
    "    count = 0\n",
    "    \n",
    "    for _ in tqdm(range(iters)):\n",
    "\n",
    "        X = np.zeros(T)\n",
    "\n",
    "        # generate AR(1)\n",
    "        X[0] = np.random.normal(b, np.sqrt(1 / (1 - a ** 2)))\n",
    "\n",
    "        noises = np.random.normal(0, 1, T - 1)\n",
    "        for t in range(1, T):\n",
    "            X[t] = b + a * (X[t - 1] - b) + noises[t - 1]\n",
    "\n",
    "        sum_X = sum(X)\n",
    "\n",
    "        # LOOCV parameter estimates\n",
    "        hat_b = np.zeros(T)\n",
    "        hat_b[:-1] = ((sum_X - X[0] - X[1:]) - a * (sum_X - X[-1] - X[:-1])) / ((T - 2) * (1 - a))\n",
    "        \n",
    "        hat_b_2 = np.zeros(T)\n",
    "        hat_b_2[:-1] = (sum_X - X[:-1]) / (T - 1)\n",
    "\n",
    "        hat_a = np.zeros(T)\n",
    "        hat_a_2 = np.zeros(T)\n",
    "\n",
    "        CV_0 = np.zeros(T - 1)\n",
    "        CV_1 = np.zeros(T - 1)\n",
    "\n",
    "        for t in range(1, T - 1):             \n",
    "            nomin = np.dot(X[:-1] - hat_b[t], X[1:]  - hat_b[t]) - (X[t] - hat_b[t]) * (X[t + 1] - hat_b[t])\n",
    "            denom = np.dot(X[:-1] - hat_b[t], X[:-1] - hat_b[t]) - (X[t] - hat_b[t]) * (X[t]     - hat_b[t])\n",
    "\n",
    "            hat_a[t] = nomin / denom\n",
    "            \n",
    "            nomin = np.dot(X[:-1] - hat_b_2[t], X[1:]  - hat_b_2[t]) - (X[t] - hat_b_2[t]) * (X[t + 1] - hat_b_2[t])\n",
    "            denom = np.dot(X[:-1] - hat_b_2[t], X[:-1] - hat_b_2[t]) - (X[t] - hat_b_2[t]) * (X[t]     - hat_b_2[t])\n",
    "\n",
    "            hat_a_2[t] = nomin / denom\n",
    "            \n",
    "            a_est, b_est = loocv_one_pair(hat_a[t], hat_b[t], X, t, sum_X, T, iters = iters2)\n",
    "            \n",
    "            a_est_2, b_est_2 = loocv_one_pair(hat_a_2[t], hat_b_2[t], X, t, sum_X, T, iters = iters2)\n",
    "\n",
    "            CV_0[t] = (X[t + 1] - b_est - a     * (X[t] - b_est)) ** 2\n",
    "            CV_1[t] = (X[t + 1] - b_est - a_est * (X[t] - b_est)) ** 2\n",
    "\n",
    "        count += (sum(CV_0) < sum(CV_1))\n",
    "    \n",
    "    return count\n",
    "\n",
    "a0, b, T, iters, iters2 = 0.99, 0, 101, 10, 1000\n",
    "count = martin_remove_x_k_pair_2(a0, b, T, iters, iters2)\n",
    "print(f\"P(CV(a = a0 = {a0}) < CV(a = hat(a)) = {round(count / iters, 3)}.\")"
   ]
  },
  {
   "cell_type": "code",
   "execution_count": 9,
   "id": "d56026e9",
   "metadata": {},
   "outputs": [
    {
     "name": "stderr",
     "output_type": "stream",
     "text": [
      "  0%|                                                                                           | 0/50 [00:00<?, ?it/s]\n"
     ]
    },
    {
     "ename": "NameError",
     "evalue": "name 'loocv_one_pair' is not defined",
     "output_type": "error",
     "traceback": [
      "\u001b[1;31m---------------------------------------------------------------------------\u001b[0m",
      "\u001b[1;31mNameError\u001b[0m                                 Traceback (most recent call last)",
      "\u001b[1;32m<ipython-input-9-df13771a942d>\u001b[0m in \u001b[0;36m<module>\u001b[1;34m\u001b[0m\n\u001b[0;32m     52\u001b[0m \u001b[1;33m\u001b[0m\u001b[0m\n\u001b[0;32m     53\u001b[0m \u001b[0ma0\u001b[0m\u001b[1;33m,\u001b[0m \u001b[0mb\u001b[0m\u001b[1;33m,\u001b[0m \u001b[0mT\u001b[0m\u001b[1;33m,\u001b[0m \u001b[0miters\u001b[0m\u001b[1;33m,\u001b[0m \u001b[0miters2\u001b[0m \u001b[1;33m=\u001b[0m \u001b[1;36m0.0\u001b[0m\u001b[1;33m,\u001b[0m \u001b[1;36m100\u001b[0m\u001b[1;33m,\u001b[0m \u001b[1;36m501\u001b[0m\u001b[1;33m,\u001b[0m \u001b[1;36m50\u001b[0m\u001b[1;33m,\u001b[0m \u001b[1;36m1000\u001b[0m\u001b[1;33m\u001b[0m\u001b[1;33m\u001b[0m\u001b[0m\n\u001b[1;32m---> 54\u001b[1;33m \u001b[0mcount\u001b[0m \u001b[1;33m=\u001b[0m \u001b[0mmartin_remove_x_k_pair_4\u001b[0m\u001b[1;33m(\u001b[0m\u001b[0ma0\u001b[0m\u001b[1;33m,\u001b[0m \u001b[0mb\u001b[0m\u001b[1;33m,\u001b[0m \u001b[0mT\u001b[0m\u001b[1;33m,\u001b[0m \u001b[0miters\u001b[0m\u001b[1;33m,\u001b[0m \u001b[0miters2\u001b[0m\u001b[1;33m)\u001b[0m\u001b[1;33m\u001b[0m\u001b[1;33m\u001b[0m\u001b[0m\n\u001b[0m\u001b[0;32m     55\u001b[0m \u001b[0mprint\u001b[0m\u001b[1;33m(\u001b[0m\u001b[1;34mf\"P(CV(a = a0 = {a0}) < CV(a = hat(a)) = {round(count / iters, 3)}.\"\u001b[0m\u001b[1;33m)\u001b[0m\u001b[1;33m\u001b[0m\u001b[1;33m\u001b[0m\u001b[0m\n",
      "\u001b[1;32m<ipython-input-9-df13771a942d>\u001b[0m in \u001b[0;36mmartin_remove_x_k_pair_4\u001b[1;34m(a, b, T, iters, iters2)\u001b[0m\n\u001b[0;32m     41\u001b[0m \u001b[1;33m\u001b[0m\u001b[0m\n\u001b[0;32m     42\u001b[0m             \u001b[1;31m# iteratively estimate a and b until maximum\u001b[0m\u001b[1;33m\u001b[0m\u001b[1;33m\u001b[0m\u001b[1;33m\u001b[0m\u001b[0m\n\u001b[1;32m---> 43\u001b[1;33m             \u001b[0ma_est\u001b[0m\u001b[1;33m,\u001b[0m \u001b[0mb_est\u001b[0m \u001b[1;33m=\u001b[0m \u001b[0mloocv_one_pair\u001b[0m\u001b[1;33m(\u001b[0m\u001b[0mhat_a\u001b[0m\u001b[1;33m[\u001b[0m\u001b[0mt\u001b[0m\u001b[1;33m]\u001b[0m\u001b[1;33m,\u001b[0m \u001b[0mhat_b\u001b[0m\u001b[1;33m[\u001b[0m\u001b[0mt\u001b[0m\u001b[1;33m]\u001b[0m\u001b[1;33m,\u001b[0m \u001b[0mX\u001b[0m\u001b[1;33m,\u001b[0m \u001b[0mt\u001b[0m\u001b[1;33m,\u001b[0m \u001b[0msum_X\u001b[0m\u001b[1;33m,\u001b[0m \u001b[0mT\u001b[0m\u001b[1;33m,\u001b[0m \u001b[0miters\u001b[0m \u001b[1;33m=\u001b[0m \u001b[0miters2\u001b[0m\u001b[1;33m)\u001b[0m\u001b[1;33m\u001b[0m\u001b[1;33m\u001b[0m\u001b[0m\n\u001b[0m\u001b[0;32m     44\u001b[0m \u001b[1;33m\u001b[0m\u001b[0m\n\u001b[0;32m     45\u001b[0m             \u001b[1;31m# compare a_est and b_est\u001b[0m\u001b[1;33m\u001b[0m\u001b[1;33m\u001b[0m\u001b[1;33m\u001b[0m\u001b[0m\n",
      "\u001b[1;31mNameError\u001b[0m: name 'loocv_one_pair' is not defined"
     ]
    }
   ],
   "source": [
    "# remove X_k_pair.\n",
    "# Use estimate for b without a\n",
    "# Iteratively estimate a and b to find the true MLEs\n",
    "\n",
    "def martin_remove_x_k_pair_4(a, b, T, iters = 100, iters2 = 5):\n",
    "    \n",
    "    count = 0\n",
    "    \n",
    "    for _ in tqdm(range(iters)):\n",
    "\n",
    "        X = np.zeros(T)\n",
    "\n",
    "        # generate AR(1)\n",
    "        X[0] = np.random.normal(b, np.sqrt(1 / (1 - a ** 2)))\n",
    "\n",
    "        noises = np.random.normal(0, 1, T - 1)\n",
    "        for t in range(1, T):\n",
    "            X[t] = b + a * (X[t - 1] - b) + noises[t - 1]\n",
    "\n",
    "        sum_X = sum(X)\n",
    "\n",
    "        # LOOCV parameter estimates\n",
    "        hat_b = np.zeros(T)\n",
    "        \n",
    "        # exact, but we do not have a\n",
    "        # hat_b[:-1] = ((sum_X - X[0] - X[1:]) - a * (sum_X - X[-1] - X[:-1])) / ((T - 2) * (1 - a))\n",
    "        # approximate, use for iterative procedure\n",
    "        hat_b[:-1] = (sum_X - X[:-1]) / (T - 1)\n",
    "\n",
    "        hat_a = np.zeros(T)\n",
    "\n",
    "        CV_0 = np.zeros(T - 1)\n",
    "        CV_1 = np.zeros(T - 1)\n",
    "\n",
    "        for t in range(1, T - 1):             \n",
    "            nomin = np.dot(X[:-1] - hat_b[t], X[1:]  - hat_b[t]) - (X[t] - hat_b[t]) * (X[t + 1] - hat_b[t])\n",
    "            denom = np.dot(X[:-1] - hat_b[t], X[:-1] - hat_b[t]) - (X[t] - hat_b[t]) * (X[t]     - hat_b[t])\n",
    "\n",
    "            # initial estimate for a\n",
    "            hat_a[t] = nomin / denom\n",
    "            \n",
    "            # iteratively estimate a and b until maximum\n",
    "            a_est, b_est = loocv_one_pair(hat_a[t], hat_b[t], X, t, sum_X, T, iters = iters2)\n",
    "\n",
    "            # compare a_est and b_est\n",
    "            CV_0[t] = (X[t + 1] - b_est - a     * (X[t] - b_est)) ** 2\n",
    "            CV_1[t] = (X[t + 1] - b_est - a_est * (X[t] - b_est)) ** 2\n",
    "\n",
    "        count += (sum(CV_0) < sum(CV_1))\n",
    "    \n",
    "    return count\n",
    "\n",
    "a0, b, T, iters, iters2 = 0.0, 100, 501, 50, 1000\n",
    "count = martin_remove_x_k_pair_4(a0, b, T, iters, iters2)\n",
    "print(f\"P(CV(a = a0 = {a0}) < CV(a = hat(a)) = {round(count / iters, 3)}.\")"
   ]
  },
  {
   "cell_type": "code",
   "execution_count": 17,
   "id": "32b40bba",
   "metadata": {},
   "outputs": [],
   "source": [
    "def loocv_one_pair(a, b, X, t, sum_X, T, iters = 3, tol = 1e-3):\n",
    "    \n",
    "    old_ll = ll_p(X, a, b, t)\n",
    "    for i in range(iters):\n",
    "        a = (np.dot(X[:-1] - b, X[1:]  - b) - (X[t] - b) * (X[t + 1] - b)) / (np.dot(X[:-1] - b, X[:-1] - b) - (X[t] - b) * (X[t] - b))\n",
    "        b = ((sum_X - X[0] - X[t + 1]) - a * (sum_X - X[-1] - X[t])) / ((T - 2) * (1 - a))\n",
    "        \n",
    "        new_ll = ll_p(X, a, b, t)\n",
    "        \n",
    "        # maximize, so new should be larger than old, so new - old should be > 0\n",
    "        if new_ll - old_ll < -1e10:\n",
    "            print(i, new_ll - old_ll, \"PROBLEM\")\n",
    "        if new_ll - old_ll < tol:\n",
    "            old_ll = new_ll\n",
    "            break\n",
    "            \n",
    "        old_ll = new_ll\n",
    "    return a, b\n",
    "\n",
    "def ll_p(X, a, b, t):\n",
    "    ll_temp = (X[1:] - b - a * (X[:-1] - b))\n",
    "    ll = -0.5 * sum(ll_temp ** 2) + 0.5 * (X[t + 1] - b - a * (X[t] - b)) ** 2 \n",
    "    return ll\n",
    "\n",
    "def ll_b(X, a, b, t):\n",
    "    ll_temp = (X[1:] - b - a * (X[:-1] - b))\n",
    "    ll = -0.5 * sum(ll_temp ** 2) + 0.5 * (X[t + 1] - b - a * (X[t] - b)) ** 2 + 0.5 * (X[t] - b - a * (X[t - 1] - b)) ** 2\n",
    "    return ll"
   ]
  },
  {
   "cell_type": "code",
   "execution_count": 18,
   "id": "5a2a2793",
   "metadata": {},
   "outputs": [],
   "source": [
    "def opt_a_b(a, b, X, sum_X, T, iters = 3, tol = 1e-3):\n",
    "    \n",
    "    old_a, old_b = a, b\n",
    "    \n",
    "    print(ll_n(X, a, b))\n",
    "    for i in range(iters):\n",
    "        \n",
    "        old_a, old_b = a, b\n",
    "        \n",
    "        # update a using estimate of b\n",
    "        a = (np.dot(X[:-1] - b, X[1:]  - b)) / (np.dot(X[:-1] - b, X[:-1] - b))\n",
    "        # update b using estimate of a\n",
    "        b = ((sum_X - X[0]) - a * (sum_X - X[-1])) / ((T - 1) * (1 - a))\n",
    "        \n",
    "        print(ll_n(X, a, b))\n",
    "             \n",
    "    return a, b\n",
    "\n",
    "def ll_n(X, a, b):\n",
    "    ll = -0.5 * sum((X[1:] - b - a * (X[:-1] - b)) ** 2)\n",
    "    return ll"
   ]
  },
  {
   "cell_type": "code",
   "execution_count": 19,
   "id": "74c5c2f4",
   "metadata": {},
   "outputs": [],
   "source": [
    "def loocv_two_pair(a, b, X, t, sum_X, T, iters = 3, tol = 1e-1):\n",
    "    \n",
    "    old_ll = ll_b(X, a, b, t)\n",
    "    for i in range(iters):\n",
    "        # update a using estimate of b\n",
    "        a = (np.dot(X[:-1] - b, X[1:]  - b) - (X[t] - b) * (X[t + 1] - b) - (X[t - 1] - b) * (X[t] - b)) / (np.dot(X[:-1] - b, X[:-1] - b) - (X[t] - b) * (X[t]  - b) - (X[t - 1] - b) * (X[t - 1]  - b))\n",
    "        # update b using estimate of a\n",
    "        b = ((sum_X - X[0] - X[t] - X[t + 1]) - a * (sum_X - X[-1] - X[t] - X[t - 1])) / ((T - 3) * (1 - a))\n",
    "\n",
    "        new_ll = ll_b(X, a, b, t)\n",
    "        \n",
    "        # maximize, so new should be larger than old, so new - old should be > 0\n",
    "        if new_ll - old_ll < -1e-10:\n",
    "            print(i, new_ll - old_ll, \"PROBLEM\")\n",
    "        if new_ll - old_ll < tol:\n",
    "            old_ll = new_ll\n",
    "            break\n",
    "            \n",
    "        old_ll = new_ll\n",
    "    return a, b"
   ]
  },
  {
   "cell_type": "code",
   "execution_count": 20,
   "id": "cc318676",
   "metadata": {},
   "outputs": [
    {
     "name": "stderr",
     "output_type": "stream",
     "text": [
      "100%|███████████████████████████████████████████████████████████████████████████████████| 1/1 [00:00<00:00, 125.01it/s]"
     ]
    },
    {
     "name": "stdout",
     "output_type": "stream",
     "text": [
      "[0.92808783 0.92889355 0.9206315  0.92197885 0.92856179 0.92149557\n",
      " 0.93055141 0.92340382 0.91096417 0.95893271 0.95983439 0.93915513\n",
      " 0.94158777 0.93580985 0.94121312 0.93525139 0.93385874 0.94320062\n",
      " 0.94220825 0.93429021 0.93088817 0.9408994  0.94337166 0.93319151\n",
      " 0.92974514 0.92367234 0.93207024 0.93277049 0.92289931 0.93347407\n",
      " 0.9340436  0.93895307 0.94531091 0.92304529 0.93843324 0.94629857\n",
      " 0.93712755 0.95351944 0.94641491 0.9352998  0.9362344  0.93509102\n",
      " 0.93735538 0.94216674 0.93798044 0.93479405 0.93490558 0.94358528\n",
      " 0.94393125]\n",
      "[0.92808783 0.92889355 0.9206315  0.92197885 0.92856179 0.92149557\n",
      " 0.93055141 0.92340382 0.91096417 0.95893271 0.95983439 0.93915513\n",
      " 0.94158777 0.93580985 0.94121312 0.93525139 0.93385874 0.94320062\n",
      " 0.94220825 0.93429021 0.93088817 0.9408994  0.94337166 0.93319151\n",
      " 0.92974514 0.92367234 0.93207024 0.93277049 0.92289931 0.93347407\n",
      " 0.9340436  0.93895307 0.94531091 0.92304529 0.93843324 0.94629857\n",
      " 0.93712755 0.95351944 0.94641491 0.9352998  0.9362344  0.93509102\n",
      " 0.93735538 0.94216674 0.93798044 0.93479405 0.93490558 0.94358528\n",
      " 0.94393125]\n",
      "P(CV(a = a0 = 0.999) < CV(a = hat(a)) = 0.0.\n"
     ]
    },
    {
     "name": "stderr",
     "output_type": "stream",
     "text": [
      "\n"
     ]
    }
   ],
   "source": [
    "# remove X_k_pair.\n",
    "# Use estimate for b without a\n",
    "# Iteratively estimate a and b to find the true MLEs\n",
    "\n",
    "def ar_loocv(a, b, T, iters = 100, approx_b = True, iter_estimate = False, one_pair = True, iters2 = 5):\n",
    "    \n",
    "    count = 0\n",
    "    \n",
    "    for _ in tqdm(range(iters)):\n",
    "\n",
    "        X = np.zeros(T)\n",
    "\n",
    "        # generate AR(1)\n",
    "        X[0] = np.random.normal(b, np.sqrt(1 / (1 - a ** 2)))\n",
    "\n",
    "        noises = np.random.normal(0, 1, T - 1)\n",
    "        for t in range(1, T):\n",
    "            X[t] = b + a * (X[t - 1] - b) + noises[t - 1]\n",
    "\n",
    "        sum_X = sum(X)\n",
    "\n",
    "        # LOOCV parameter estimates\n",
    "        hat_b = np.zeros(T)\n",
    "        \n",
    "        if not approx_b:\n",
    "            # exact, but we do not have a\n",
    "            hat_b[:-1] = ((sum_X - X[0] - X[1:]) - a * (sum_X - X[-1] - X[:-1])) / ((T - 2) * (1 - a))\n",
    "        else:\n",
    "            # approximate, use for iterative procedure\n",
    "            hat_b[:-1] = (sum_X - X[:-1]) / (T - 1)\n",
    "\n",
    "        hat_a = np.zeros(T)\n",
    "\n",
    "        CV_0 = np.zeros(T - 1)\n",
    "        CV_1 = np.zeros(T - 1)\n",
    "\n",
    "        if one_pair:\n",
    "            hat_a[1:-1] = get_a_hat_pair(X, hat_b)\n",
    "        else:\n",
    "            hat_a[1:-1] = get_a_hat_both(X, hat_b)\n",
    "        \n",
    "        print(hat_a[1:-1])\n",
    "        for t in range(1, T - 1):      \n",
    "            if one_pair:\n",
    "                nomin = np.dot(X[:-1] - hat_b[t], X[1:]  - hat_b[t]) - (X[t] - hat_b[t]) * (X[t + 1] - hat_b[t])\n",
    "                denom = np.dot(X[:-1] - hat_b[t], X[:-1] - hat_b[t]) - (X[t] - hat_b[t]) * (X[t]     - hat_b[t])\n",
    "                \n",
    "                # initial estimate for a\n",
    "                hat_a[t] = nomin / denom\n",
    "                \n",
    "                if iter_estimate:\n",
    "                    hat_a[t], hat_b[t] = loocv_two_pair(hat_a[t], hat_b[t], X, t, sum_X, T, iters = iters2)\n",
    "                    \n",
    "            else:\n",
    "                nomin = np.dot(X[:-1] - hat_b[t], X[1:]  - hat_b[t]) - (X[t] - hat_b[t]) * (X[t + 1] - hat_b[t]) - (X[t - 1] - hat_b[t]) * (X[t] - hat_b[t])\n",
    "                denom = np.dot(X[:-1] - hat_b[t], X[:-1] - hat_b[t]) - (X[t] - hat_b[t]) * (X[t]     - hat_b[t]) - (X[t - 1] - hat_b[t]) * (X[t - 1]     - hat_b[t])\n",
    "                \n",
    "                # initial estimate for a\n",
    "                hat_a[t] = nomin / denom\n",
    "                \n",
    "                # iteratively estimate a and b until maximum\n",
    "                if iter_estimate:\n",
    "                    hat_a[t], hat_b[t] = loocv_two_pair(hat_a[t], hat_b[t], X, t, sum_X, T, iters = iters2)\n",
    "\n",
    "            # compare a_est and b_est\n",
    "            CV_0[t] = (X[t + 1] - hat_b[t] - a        * (X[t] - hat_b[t])) ** 2\n",
    "            CV_1[t] = (X[t + 1] - hat_b[t] - hat_a[t] * (X[t] - hat_b[t])) ** 2\n",
    "\n",
    "        print(hat_a[1:-1])\n",
    "        count += (sum(CV_0) < sum(CV_1))\n",
    "    \n",
    "    return count\n",
    "\n",
    "a0, b, T, iters, iters2 = 0.999, 100, 51, 1, 0\n",
    "count = ar_loocv(a0, b, T, iters, approx_b = True, one_pair = False, iter_estimate = False, iters2 = iters2)\n",
    "print(f\"P(CV(a = a0 = {a0}) < CV(a = hat(a)) = {round(count / iters, 3)}.\")"
   ]
  },
  {
   "cell_type": "code",
   "execution_count": 21,
   "id": "0d245a42",
   "metadata": {},
   "outputs": [
    {
     "name": "stdout",
     "output_type": "stream",
     "text": [
      "(498,)\n",
      "0.007997274398803711\n",
      "(498,)\n",
      "0.024001359939575195\n"
     ]
    }
   ],
   "source": [
    "X = np.linspace(0, 1, 10001)\n",
    "b_range = np.linspace(1, 2, 10001)\n",
    "\n",
    "def get_a_hat_pair(X, b):\n",
    "    A = (X[:-1] - np.expand_dims(b[1:-1], axis = 1))\n",
    "    B = (X[1:] - np.expand_dims(b[1:-1], axis = 1))\n",
    "    nomin = (A * B).sum(-1) - (X[1:-1] - b[1:-1]) * (X[2:] - b[1:-1])\n",
    "    denom = (A * A).sum(-1) - (X[1:-1] - b[1:-1]) ** 2\n",
    "    \n",
    "    return nomin / denom\n",
    "\n",
    "def get_a_hat_both(X, b):\n",
    "    A = (X[:-1] - np.expand_dims(b[1:-1], axis = 1))\n",
    "    B = (X[1:] - np.expand_dims(b[1:-1], axis = 1))\n",
    "    nomin = (A * B).sum(-1) - (X[1:-1] - b[1:-1]) * (X[2:] - b[1:-1]) - (X[:-2] - b[1:-1]) * (X[1:-1] - b[1:-1])\n",
    "    denom = (A * A).sum(-1) - (X[1:-1] - b[1:-1]) ** 2 - (X[:-2] - b[1:-1]) ** 2\n",
    "    \n",
    "    return nomin / denom\n",
    "\n",
    "def get_a_hat_both_v2(X, b):\n",
    "    \n",
    "    hat_a = np.zeros(T - 2)\n",
    "    \n",
    "    for t in range(1, T - 1):        \n",
    "        nomin = np.dot(X[:-1] - b[t], X[1:]  - b[t]) - (X[t] - b[t]) * (X[t + 1] - b[t]) - (X[t - 1] - b[t]) * (X[t] - b[t])\n",
    "        denom = np.dot(X[:-1] - b[t], X[:-1] - b[t]) - (X[t] - b[t]) * (X[t]     - b[t]) - (X[t - 1] - b[t]) * (X[t - 1] - b[t])\n",
    "\n",
    "        hat_a[t - 1] = nomin / denom\n",
    "        \n",
    "    return hat_a\n",
    "\n",
    "a, b, T = 0.5, 10, 500\n",
    "\n",
    "## generate AR(1) model\n",
    "X = np.zeros(T)\n",
    "X[0] = np.random.normal(b, np.sqrt(1 / (1 - a ** 2)))\n",
    "\n",
    "# generate noise\n",
    "noises = np.random.normal(0, 1, T - 1)\n",
    "\n",
    "# iteratively get value of X\n",
    "for t in range(1, T):\n",
    "    X[t] = b + a * (X[t - 1] - b) + noises[t - 1]\n",
    "            \n",
    "hat_b = (sum(X) - X[:-1]) / (T - 1)\n",
    "\n",
    "import time\n",
    "start = time.time()\n",
    "print(np.shape(get_a_hat_both(X, np.append(hat_b, 0))))\n",
    "end = time.time()\n",
    "print(end - start)\n",
    "print(np.shape(get_a_hat_both_v2(X, np.append(hat_b, 0))))\n",
    "print(time.time() - end)"
   ]
  },
  {
   "cell_type": "code",
   "execution_count": 44,
   "id": "2dea4905",
   "metadata": {},
   "outputs": [
    {
     "name": "stderr",
     "output_type": "stream",
     "text": [
      "100%|████████████████████████████████████████████████████████████████████████████████| 100/100 [00:02<00:00, 37.71it/s]"
     ]
    },
    {
     "name": "stdout",
     "output_type": "stream",
     "text": [
      "P(CV(a = a0 = 0.9999) < CV(a = hat(a)) = 0.7.\n"
     ]
    },
    {
     "name": "stderr",
     "output_type": "stream",
     "text": [
      "\n"
     ]
    }
   ],
   "source": [
    "# remove X_k_pair.\n",
    "# Use estimate for b without a\n",
    "# Iteratively estimate a and b to find the true MLEs\n",
    "\n",
    "def ar_loocv_2(a, b, T, iters = 100, approx_b = True, iter_estimate = False, one_pair = True, iters2 = 5):\n",
    "    \n",
    "    count = 0\n",
    "    \n",
    "    for _ in tqdm(range(iters)):\n",
    "\n",
    "        ## generate AR(1) model\n",
    "        X = np.zeros(T)\n",
    "        X[0] = np.random.normal(b, np.sqrt(1 / (1 - a ** 2)))\n",
    "        \n",
    "        # generate noise\n",
    "        noises = np.random.normal(0, 1, T - 1)\n",
    "        \n",
    "        # iteratively get value of X\n",
    "        for t in range(1, T):\n",
    "            X[t] = b + a * (X[t - 1] - b) + noises[t - 1]\n",
    "\n",
    "        # get sum\n",
    "        sum_X = sum(X)\n",
    "\n",
    "        # LOOCV parameter estimates, CV scores\n",
    "        CV_0 = np.zeros(T - 1)\n",
    "        CV_1 = np.zeros(T - 1)\n",
    "        hat_a = np.zeros(T)\n",
    "        hat_b = np.zeros(T)\n",
    "        \n",
    "        b_est = ((sum_X - X[0]) - a * (sum_X - X[-1])) / ((T - 1) * (1 - a))\n",
    "        hat_b_one = np.zeros(T)\n",
    "        \n",
    "        if one_pair:\n",
    "            hat_b_one[:-1] = ((sum_X - X[0] - X[1:]) - a * (sum_X - X[-1] - X[:-1])) / ((T - 2) * (1 - a))\n",
    "        else: \n",
    "            hat_b_one[1:-1] = ((sum_X - X[0] - X[1:-1] - X[2:]) - a * (sum_X - X[-1] - X[1:-1] - X[:-2])) / ((T - 3) * (1 - a))\n",
    "            \n",
    "        # estimate b, either exact or approximate\n",
    "        if not approx_b:\n",
    "            if one_pair:\n",
    "                hat_b[:-1] = ((sum_X - X[0] - X[1:]) - a * (sum_X - X[-1] - X[:-1])) / ((T - 2) * (1 - a))\n",
    "            else:\n",
    "                hat_b[1:-1] = ((sum_X - X[0] - X[1:-1] - X[2:]) - a * (sum_X - X[-1] - X[1:-1] - X[:-2])) / ((T - 3) * (1 - a))\n",
    "        else:\n",
    "            hat_b[:-1] = (sum_X - X[:-1]) / (T - 1)\n",
    "        \n",
    "        # estimate a, either remove pair (X_k, X_k+1) or also (X_k-1, X_k)\n",
    "        if one_pair:\n",
    "            hat_a[1:-1] = get_a_hat_pair(X, hat_b)\n",
    "        else:\n",
    "            hat_a[1:-1] = get_a_hat_both_v2(X, hat_b)\n",
    "        \n",
    "        # compute LOOCV score for each sample excluding boundary\n",
    "        for t in range(1, T - 1):      \n",
    "            # iteratively estimate to get optimal MLE estimates\n",
    "            if iter_estimate and one_pair:\n",
    "                hat_a[t], hat_b[t] = loocv_one_pair(hat_a[t], hat_b[t], X, t, sum_X, T, iters = iters2)                \n",
    "            elif iter_estimate and not one_pair:\n",
    "                hat_a[t], hat_b[t] = loocv_two_pair(hat_a[t], hat_b[t], X, t, sum_X, T, iters = iters2)\n",
    "\n",
    "            # compare a_est and b_est\n",
    "            CV_0[t] = (X[t + 1] - b_est    - a        * (X[t] - b_est))    ** 2\n",
    "            CV_1[t] = (X[t + 1] - hat_b[t] - hat_a[t] * (X[t] - hat_b[t])) ** 2\n",
    "            \n",
    "#             # compare a_est and b_est\n",
    "#             CV_0[t] = (X[t + 1] - a        * X[t])    ** 2\n",
    "#             CV_1[t] = (X[t + 1] - hat_a[t] * X[t]) ** 2\n",
    "\n",
    "#         # get count   \n",
    "#         print(\"b:\", round(np.mean(b_est), 4), \"\\t\", round(np.mean(hat_b[1:-1]), 4))\n",
    "#         print(\"a:\", np.mean(a), \"\\t\", np.mean(hat_a[1:-1]))\n",
    "#         print()\n",
    "#         print(\"average empirical risk:\\t\", round(1 / (T - 1) * np.mean(np.array([np.linalg.norm((X[2:] - b) - a * (X[1:-1] - b), 2) ** 2 for b in hat_b_one[1:-1]])), 4), \"\\t\", round(1 / (T - 1) * np.mean(np.array([np.linalg.norm((X[2:] - b) - a * (X[1:-1] - b), 2) ** 2 for a, b in zip(hat_a[1:-1], hat_b[1:-1])])), 4))\n",
    "#         print(\"true risk:\\t\\t\", np.round(np.array(expected_cost_ar(a, a, b, b_est)), 4), \"\\t\", round(np.mean(np.array([expected_cost_ar(a, a_hat, b, b_hat) for a_hat, b_hat in zip(hat_a[1:-1], hat_b[1:-1])])), 4))\n",
    "#         print(\"cross-validation score:\\t\", round(1 / (T - 1) * sum(CV_0), 4), \"\\t\", round(1 / (T - 1) * sum(CV_1), 4))\n",
    "#         print()\n",
    "#         print(count)\n",
    "        \n",
    "        count += (sum(CV_0) < sum(CV_1))\n",
    "        \n",
    "    \n",
    "    return count\n",
    "\n",
    "a0, b, T, iters, iters2 = 0.9999, 100, 100, 100, 100\n",
    "count = ar_loocv_2(a0, b, T, iters, approx_b = True, one_pair = True, iter_estimate = True, iters2 = iters2)\n",
    "print(f\"P(CV(a = a0 = {a0}) < CV(a = hat(a)) = {round(count / iters, 3)}.\")\n",
    "\n",
    "# count = martin_remove_x_k_both(a0, b, T, iters)\n",
    "# print(f\"P(CV(a = a0 = {a0}) < CV(a = hat(a)) = {round(count / iters, 3)}.\")"
   ]
  },
  {
   "cell_type": "code",
   "execution_count": 23,
   "id": "7b12d291",
   "metadata": {},
   "outputs": [
    {
     "name": "stdout",
     "output_type": "stream",
     "text": [
      "0.02 0.85 0.52 0.9\n",
      "a:\t0.023, b:\t0.52.\n",
      "CV_0 score: 1.001.\n",
      "CV_1 score: 1.001.\n",
      "1.6858059896457758\n",
      "1.6821984716929652\n"
     ]
    }
   ],
   "source": [
    "def expected_cost_ar(a_true, a_est, b_true = 0, b_est = 0):\n",
    "    \n",
    "    # base on the distribution of X, no actual data needed.    \n",
    "    covariance_X = 1 / (1 - a_true ** 2) + b_true ** 2\n",
    "    \n",
    "    # components\n",
    "    noise = 1\n",
    "    b_diff = (b_true - b_est) * ((b_true - b_est) + (a_true - a_est) * b_true - a_true * b_true + a_est * b_est)\n",
    "    mean_X = (a_true - a_est) * b_true * ((b_true - b_est) - a_true * b_true + a_est * b_est)\n",
    "    cov_x = (a_true - a_est) ** 2 * covariance_X\n",
    "    ab = - 1 * a_true * b_true * ((b_true - b_est) + (a_true - a_est) * b_true - a_true * b_true + a_est * b_est)\n",
    "    ab_est = a_est * b_est * ((b_true - b_est) + (a_true - a_est) * b_true - a_true * b_true + a_est * b_est)\n",
    "\n",
    "    # return expected MSE\n",
    "    return noise + b_diff + mean_X + ab + ab_est + cov_x\n",
    "\n",
    "## generate AR(1) model\n",
    "a = np.random.random()\n",
    "a_est = np.random.random()\n",
    "b = np.random.random()\n",
    "b_est = np.random.random()\n",
    "print(round(a, 2), round(a_est, 2), round(b, 2), round(b_est, 2))\n",
    "T = 500000\n",
    "\n",
    "X = np.zeros(T)\n",
    "X[0] = np.random.normal(b, np.sqrt(1 / (1 - a ** 2)))\n",
    "\n",
    "# generate noise\n",
    "noises = np.random.normal(0, 1, T - 1)\n",
    "\n",
    "# iteratively get value of X\n",
    "for t in range(1, T):\n",
    "    X[t] = b + a * (X[t - 1] - b) + noises[t - 1]\n",
    "\n",
    "print(f\"a:\\t{round(a, 3)}, b:\\t{round(b, 3)}.\")\n",
    "b_est = ((sum(X) - X[0]) - a * (sum(X) - X[-1])) / ((T - 1) * (1 - a))\n",
    "print(f\"CV_0 score: {round(1 / (T - 1) * np.linalg.norm((X[1:] - b_est) - a * (X[:-1] - b_est), 2) ** 2, 3)}.\")\n",
    "print(f\"CV_1 score: {round(1 / (T - 1) * np.linalg.norm((X[1:] - b_est) - a * (X[:-1] - b_est), 2) ** 2, 3)}.\")\n",
    "print(1 / (T - 1) * np.linalg.norm((X[1:] - b_est) - a_est * (X[:-1] - b_est), 2) ** 2)\n",
    "print(expected_cost_ar(a, a_est, b, b_est))"
   ]
  },
  {
   "cell_type": "code",
   "execution_count": null,
   "id": "05438462",
   "metadata": {},
   "outputs": [],
   "source": []
  },
  {
   "cell_type": "code",
   "execution_count": 10,
   "id": "6ad5321e",
   "metadata": {},
   "outputs": [
    {
     "name": "stderr",
     "output_type": "stream",
     "text": [
      "100%|████████████████████████████████████████████████████████████████████████████████| 100/100 [18:10<00:00, 10.91s/it]\n",
      "  0%|                                                                                          | 0/100 [00:00<?, ?it/s]"
     ]
    },
    {
     "name": "stdout",
     "output_type": "stream",
     "text": [
      "0.75\n"
     ]
    },
    {
     "name": "stderr",
     "output_type": "stream",
     "text": [
      "100%|████████████████████████████████████████████████████████████████████████████████| 100/100 [19:09<00:00, 11.50s/it]\n",
      "  0%|                                                                                          | 0/100 [00:00<?, ?it/s]"
     ]
    },
    {
     "name": "stdout",
     "output_type": "stream",
     "text": [
      "0.7\n"
     ]
    },
    {
     "name": "stderr",
     "output_type": "stream",
     "text": [
      "100%|████████████████████████████████████████████████████████████████████████████████| 100/100 [21:37<00:00, 12.98s/it]"
     ]
    },
    {
     "name": "stdout",
     "output_type": "stream",
     "text": [
      "0.42\n"
     ]
    },
    {
     "name": "stderr",
     "output_type": "stream",
     "text": [
      "\n"
     ]
    }
   ],
   "source": [
    "a0, b, T, iters, iters2 = 0.99, 0, 5001, 100, 100\n",
    "count = ar_loocv_2(a0, b, T, iters, approx_b = True, one_pair = False, iter_estimate = True, iters2 = iters2)\n",
    "print(count / iters)\n",
    "\n",
    "a0, b, T, iters, iters2 = 0.999, 0, 5001, 100, 100\n",
    "count = ar_loocv_2(a0, b, T, iters, approx_b = True, one_pair = False, iter_estimate = True, iters2 = iters2)\n",
    "print(count / iters)\n",
    "\n",
    "a0, b, T, iters, iters2 = 0.9999, 0, 5001, 100, 100\n",
    "count = ar_loocv_2(a0, b, T, iters, approx_b = True, one_pair = False, iter_estimate = True, iters2 = iters2)\n",
    "print(count / iters)"
   ]
  },
  {
   "cell_type": "code",
   "execution_count": 67,
   "id": "970f7b88",
   "metadata": {},
   "outputs": [
    {
     "name": "stderr",
     "output_type": "stream",
     "text": [
      "  0%|                                                                                           | 0/25 [00:32<?, ?it/s]\n"
     ]
    },
    {
     "ename": "IndexError",
     "evalue": "index 49999 is out of bounds for axis 0 with size 49999",
     "output_type": "error",
     "traceback": [
      "\u001b[1;31m---------------------------------------------------------------------------\u001b[0m",
      "\u001b[1;31mIndexError\u001b[0m                                Traceback (most recent call last)",
      "\u001b[1;32m<ipython-input-67-3ef3073ec86b>\u001b[0m in \u001b[0;36m<module>\u001b[1;34m\u001b[0m\n\u001b[0;32m      8\u001b[0m \u001b[1;33m\u001b[0m\u001b[0m\n\u001b[0;32m      9\u001b[0m \u001b[0ma0\u001b[0m\u001b[1;33m,\u001b[0m \u001b[0mb\u001b[0m\u001b[1;33m,\u001b[0m \u001b[0mT\u001b[0m\u001b[1;33m,\u001b[0m \u001b[0miters\u001b[0m\u001b[1;33m,\u001b[0m \u001b[0miters2\u001b[0m \u001b[1;33m=\u001b[0m \u001b[1;36m0.9999\u001b[0m\u001b[1;33m,\u001b[0m \u001b[1;36m0\u001b[0m\u001b[1;33m,\u001b[0m \u001b[1;36m50001\u001b[0m\u001b[1;33m,\u001b[0m \u001b[1;36m25\u001b[0m\u001b[1;33m,\u001b[0m \u001b[1;36m100\u001b[0m\u001b[1;33m\u001b[0m\u001b[1;33m\u001b[0m\u001b[0m\n\u001b[1;32m---> 10\u001b[1;33m \u001b[0mcount\u001b[0m \u001b[1;33m=\u001b[0m \u001b[0mar_loocv_2\u001b[0m\u001b[1;33m(\u001b[0m\u001b[0ma0\u001b[0m\u001b[1;33m,\u001b[0m \u001b[0mb\u001b[0m\u001b[1;33m,\u001b[0m \u001b[0mT\u001b[0m\u001b[1;33m,\u001b[0m \u001b[0miters\u001b[0m\u001b[1;33m,\u001b[0m \u001b[0mapprox_b\u001b[0m \u001b[1;33m=\u001b[0m \u001b[1;32mTrue\u001b[0m\u001b[1;33m,\u001b[0m \u001b[0mone_pair\u001b[0m \u001b[1;33m=\u001b[0m \u001b[1;32mFalse\u001b[0m\u001b[1;33m,\u001b[0m \u001b[0miter_estimate\u001b[0m \u001b[1;33m=\u001b[0m \u001b[1;32mTrue\u001b[0m\u001b[1;33m,\u001b[0m \u001b[0miters2\u001b[0m \u001b[1;33m=\u001b[0m \u001b[0miters2\u001b[0m\u001b[1;33m)\u001b[0m\u001b[1;33m\u001b[0m\u001b[1;33m\u001b[0m\u001b[0m\n\u001b[0m\u001b[0;32m     11\u001b[0m \u001b[0mprint\u001b[0m\u001b[1;33m(\u001b[0m\u001b[0mcount\u001b[0m \u001b[1;33m/\u001b[0m \u001b[0miters\u001b[0m\u001b[1;33m)\u001b[0m\u001b[1;33m\u001b[0m\u001b[1;33m\u001b[0m\u001b[0m\n",
      "\u001b[1;32m<ipython-input-66-5a2fd8fd0960>\u001b[0m in \u001b[0;36mar_loocv_2\u001b[1;34m(a, b, T, iters, approx_b, iter_estimate, one_pair, iters2)\u001b[0m\n\u001b[0;32m     48\u001b[0m             \u001b[0mhat_a\u001b[0m\u001b[1;33m[\u001b[0m\u001b[1;36m1\u001b[0m\u001b[1;33m:\u001b[0m\u001b[1;33m-\u001b[0m\u001b[1;36m1\u001b[0m\u001b[1;33m]\u001b[0m \u001b[1;33m=\u001b[0m \u001b[0mget_a_hat_pair\u001b[0m\u001b[1;33m(\u001b[0m\u001b[0mX\u001b[0m\u001b[1;33m,\u001b[0m \u001b[0mhat_b\u001b[0m\u001b[1;33m)\u001b[0m\u001b[1;33m\u001b[0m\u001b[1;33m\u001b[0m\u001b[0m\n\u001b[0;32m     49\u001b[0m         \u001b[1;32melse\u001b[0m\u001b[1;33m:\u001b[0m\u001b[1;33m\u001b[0m\u001b[1;33m\u001b[0m\u001b[0m\n\u001b[1;32m---> 50\u001b[1;33m             \u001b[0mhat_a\u001b[0m\u001b[1;33m[\u001b[0m\u001b[1;36m1\u001b[0m\u001b[1;33m:\u001b[0m\u001b[1;33m-\u001b[0m\u001b[1;36m1\u001b[0m\u001b[1;33m]\u001b[0m \u001b[1;33m=\u001b[0m \u001b[0mget_a_hat_both_v2\u001b[0m\u001b[1;33m(\u001b[0m\u001b[0mX\u001b[0m\u001b[1;33m,\u001b[0m \u001b[0mhat_b\u001b[0m\u001b[1;33m)\u001b[0m\u001b[1;33m\u001b[0m\u001b[1;33m\u001b[0m\u001b[0m\n\u001b[0m\u001b[0;32m     51\u001b[0m \u001b[1;33m\u001b[0m\u001b[0m\n\u001b[0;32m     52\u001b[0m         \u001b[1;31m# compute LOOCV score for each sample excluding boundary\u001b[0m\u001b[1;33m\u001b[0m\u001b[1;33m\u001b[0m\u001b[1;33m\u001b[0m\u001b[0m\n",
      "\u001b[1;32m<ipython-input-65-11d146c83cda>\u001b[0m in \u001b[0;36mget_a_hat_both_v2\u001b[1;34m(X, b)\u001b[0m\n\u001b[0;32m     23\u001b[0m \u001b[1;33m\u001b[0m\u001b[0m\n\u001b[0;32m     24\u001b[0m     \u001b[1;32mfor\u001b[0m \u001b[0mt\u001b[0m \u001b[1;32min\u001b[0m \u001b[0mrange\u001b[0m\u001b[1;33m(\u001b[0m\u001b[1;36m1\u001b[0m\u001b[1;33m,\u001b[0m \u001b[0mT\u001b[0m \u001b[1;33m-\u001b[0m \u001b[1;36m1\u001b[0m\u001b[1;33m)\u001b[0m\u001b[1;33m:\u001b[0m\u001b[1;33m\u001b[0m\u001b[1;33m\u001b[0m\u001b[0m\n\u001b[1;32m---> 25\u001b[1;33m         \u001b[0mnomin\u001b[0m \u001b[1;33m=\u001b[0m \u001b[0mnp\u001b[0m\u001b[1;33m.\u001b[0m\u001b[0mdot\u001b[0m\u001b[1;33m(\u001b[0m\u001b[0mX\u001b[0m\u001b[1;33m[\u001b[0m\u001b[1;33m:\u001b[0m\u001b[1;33m-\u001b[0m\u001b[1;36m1\u001b[0m\u001b[1;33m]\u001b[0m \u001b[1;33m-\u001b[0m \u001b[0mhat_b\u001b[0m\u001b[1;33m[\u001b[0m\u001b[0mt\u001b[0m\u001b[1;33m]\u001b[0m\u001b[1;33m,\u001b[0m \u001b[0mX\u001b[0m\u001b[1;33m[\u001b[0m\u001b[1;36m1\u001b[0m\u001b[1;33m:\u001b[0m\u001b[1;33m]\u001b[0m  \u001b[1;33m-\u001b[0m \u001b[0mhat_b\u001b[0m\u001b[1;33m[\u001b[0m\u001b[0mt\u001b[0m\u001b[1;33m]\u001b[0m\u001b[1;33m)\u001b[0m \u001b[1;33m-\u001b[0m \u001b[1;33m(\u001b[0m\u001b[0mX\u001b[0m\u001b[1;33m[\u001b[0m\u001b[0mt\u001b[0m\u001b[1;33m]\u001b[0m \u001b[1;33m-\u001b[0m \u001b[0mhat_b\u001b[0m\u001b[1;33m[\u001b[0m\u001b[0mt\u001b[0m\u001b[1;33m]\u001b[0m\u001b[1;33m)\u001b[0m \u001b[1;33m*\u001b[0m \u001b[1;33m(\u001b[0m\u001b[0mX\u001b[0m\u001b[1;33m[\u001b[0m\u001b[0mt\u001b[0m \u001b[1;33m+\u001b[0m \u001b[1;36m1\u001b[0m\u001b[1;33m]\u001b[0m \u001b[1;33m-\u001b[0m \u001b[0mhat_b\u001b[0m\u001b[1;33m[\u001b[0m\u001b[0mt\u001b[0m\u001b[1;33m]\u001b[0m\u001b[1;33m)\u001b[0m \u001b[1;33m-\u001b[0m \u001b[1;33m(\u001b[0m\u001b[0mX\u001b[0m\u001b[1;33m[\u001b[0m\u001b[0mt\u001b[0m \u001b[1;33m-\u001b[0m \u001b[1;36m1\u001b[0m\u001b[1;33m]\u001b[0m \u001b[1;33m-\u001b[0m \u001b[0mhat_b\u001b[0m\u001b[1;33m[\u001b[0m\u001b[0mt\u001b[0m\u001b[1;33m]\u001b[0m\u001b[1;33m)\u001b[0m \u001b[1;33m*\u001b[0m \u001b[1;33m(\u001b[0m\u001b[0mX\u001b[0m\u001b[1;33m[\u001b[0m\u001b[0mt\u001b[0m\u001b[1;33m]\u001b[0m \u001b[1;33m-\u001b[0m \u001b[0mhat_b\u001b[0m\u001b[1;33m[\u001b[0m\u001b[0mt\u001b[0m\u001b[1;33m]\u001b[0m\u001b[1;33m)\u001b[0m\u001b[1;33m\u001b[0m\u001b[1;33m\u001b[0m\u001b[0m\n\u001b[0m\u001b[0;32m     26\u001b[0m         \u001b[0mdenom\u001b[0m \u001b[1;33m=\u001b[0m \u001b[0mnp\u001b[0m\u001b[1;33m.\u001b[0m\u001b[0mdot\u001b[0m\u001b[1;33m(\u001b[0m\u001b[0mX\u001b[0m\u001b[1;33m[\u001b[0m\u001b[1;33m:\u001b[0m\u001b[1;33m-\u001b[0m\u001b[1;36m1\u001b[0m\u001b[1;33m]\u001b[0m \u001b[1;33m-\u001b[0m \u001b[0mhat_b\u001b[0m\u001b[1;33m[\u001b[0m\u001b[0mt\u001b[0m\u001b[1;33m]\u001b[0m\u001b[1;33m,\u001b[0m \u001b[0mX\u001b[0m\u001b[1;33m[\u001b[0m\u001b[1;33m:\u001b[0m\u001b[1;33m-\u001b[0m\u001b[1;36m1\u001b[0m\u001b[1;33m]\u001b[0m \u001b[1;33m-\u001b[0m \u001b[0mhat_b\u001b[0m\u001b[1;33m[\u001b[0m\u001b[0mt\u001b[0m\u001b[1;33m]\u001b[0m\u001b[1;33m)\u001b[0m \u001b[1;33m-\u001b[0m \u001b[1;33m(\u001b[0m\u001b[0mX\u001b[0m\u001b[1;33m[\u001b[0m\u001b[0mt\u001b[0m\u001b[1;33m]\u001b[0m \u001b[1;33m-\u001b[0m \u001b[0mhat_b\u001b[0m\u001b[1;33m[\u001b[0m\u001b[0mt\u001b[0m\u001b[1;33m]\u001b[0m\u001b[1;33m)\u001b[0m \u001b[1;33m*\u001b[0m \u001b[1;33m(\u001b[0m\u001b[0mX\u001b[0m\u001b[1;33m[\u001b[0m\u001b[0mt\u001b[0m\u001b[1;33m]\u001b[0m     \u001b[1;33m-\u001b[0m \u001b[0mhat_b\u001b[0m\u001b[1;33m[\u001b[0m\u001b[0mt\u001b[0m\u001b[1;33m]\u001b[0m\u001b[1;33m)\u001b[0m \u001b[1;33m-\u001b[0m \u001b[1;33m(\u001b[0m\u001b[0mX\u001b[0m\u001b[1;33m[\u001b[0m\u001b[0mt\u001b[0m \u001b[1;33m-\u001b[0m \u001b[1;36m1\u001b[0m\u001b[1;33m]\u001b[0m \u001b[1;33m-\u001b[0m \u001b[0mhat_b\u001b[0m\u001b[1;33m[\u001b[0m\u001b[0mt\u001b[0m\u001b[1;33m]\u001b[0m\u001b[1;33m)\u001b[0m \u001b[1;33m*\u001b[0m \u001b[1;33m(\u001b[0m\u001b[0mX\u001b[0m\u001b[1;33m[\u001b[0m\u001b[0mt\u001b[0m \u001b[1;33m-\u001b[0m \u001b[1;36m1\u001b[0m\u001b[1;33m]\u001b[0m     \u001b[1;33m-\u001b[0m \u001b[0mhat_b\u001b[0m\u001b[1;33m[\u001b[0m\u001b[0mt\u001b[0m\u001b[1;33m]\u001b[0m\u001b[1;33m)\u001b[0m\u001b[1;33m\u001b[0m\u001b[1;33m\u001b[0m\u001b[0m\n\u001b[0;32m     27\u001b[0m \u001b[1;33m\u001b[0m\u001b[0m\n",
      "\u001b[1;31mIndexError\u001b[0m: index 49999 is out of bounds for axis 0 with size 49999"
     ]
    }
   ],
   "source": [
    "# a0, b, T, iters, iters2 = 0.99, 0, 10001, 25, 100\n",
    "# count = ar_loocv_2(a0, b, T, iters, approx_b = True, one_pair = False, iter_estimate = True, iters2 = iters2)\n",
    "# print(count / iters)\n",
    "\n",
    "# a0, b, T, iters, iters2 = 0.999, 0, 10001, 25, 100\n",
    "# count = ar_loocv_2(a0, b, T, iters, approx_b = True, one_pair = False, iter_estimate = True, iters2 = iters2)\n",
    "# print(count / iters)\n",
    "\n",
    "a0, b, T, iters, iters2 = 0.9999, 0, 50001, 25, 100\n",
    "count = ar_loocv_2(a0, b, T, iters, approx_b = True, one_pair = False, iter_estimate = True, iters2 = iters2)\n",
    "print(count / iters)"
   ]
  },
  {
   "cell_type": "code",
   "execution_count": null,
   "id": "376c6679",
   "metadata": {},
   "outputs": [],
   "source": [
    "# a \\ T | 5001    10001\n",
    "# 0.9900| 0.75   0.80\n",
    "# 0.9990| 0.70   0.88\n",
    "# 0.9999| 0.42   0.56\n",
    "#a = 0.999, T = 5001, 100 iters => 0.76\n",
    "#a = 0.990, T = 5001, 10 iters => 1.00"
   ]
  }
 ],
 "metadata": {
  "kernelspec": {
   "display_name": "Python 3.6.8 64-bit",
   "language": "python",
   "name": "python36864bit874e3a48d9b148faaa09714964fd179b"
  },
  "language_info": {
   "codemirror_mode": {
    "name": "ipython",
    "version": 3
   },
   "file_extension": ".py",
   "mimetype": "text/x-python",
   "name": "python",
   "nbconvert_exporter": "python",
   "pygments_lexer": "ipython3",
   "version": "3.6.8"
  }
 },
 "nbformat": 4,
 "nbformat_minor": 5
}
