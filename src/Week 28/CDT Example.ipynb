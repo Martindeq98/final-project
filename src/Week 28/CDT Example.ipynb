{
 "cells": [
  {
   "cell_type": "code",
   "execution_count": null,
   "id": "7bcef6c0",
   "metadata": {},
   "outputs": [],
   "source": [
    "import sys\n",
    "!{sys.executable} -m pip install cdt"
   ]
  },
  {
   "cell_type": "code",
   "execution_count": null,
   "id": "f8f1fc2d",
   "metadata": {},
   "outputs": [],
   "source": [
    "import cdt"
   ]
  },
  {
   "cell_type": "code",
   "execution_count": null,
   "id": "ffc3e5ae",
   "metadata": {},
   "outputs": [],
   "source": [
    "#Import libraries\n",
    "import cdt\n",
    "from cdt import SETTINGS\n",
    "SETTINGS.verbose=False\n",
    "SETTINGS.NJOBS=16\n",
    "SETTINGS.rpath = \"D:\\Programma's\\R-4.1.1\\bin\\R\"\n",
    "import networkx as nx\n",
    "import time\n",
    "# A warning on R libraries might occur. It is for the use of the r libraries that could be imported into the framework\n",
    "import numpy as np\n",
    "import pandas as pd\n",
    "from matplotlib import pyplot as plt"
   ]
  },
  {
   "cell_type": "code",
   "execution_count": null,
   "id": "ffc058ad",
   "metadata": {},
   "outputs": [],
   "source": [
    "# Load data and graph solution\n",
    "data, solution = cdt.data.load_dataset('sachs')\n",
    "nx.draw_networkx(solution, font_size=8) # The plot function allows for quick visualization of the graph. \n",
    "plt.show()\n",
    "data.head()"
   ]
  },
  {
   "cell_type": "code",
   "execution_count": null,
   "id": "7c443f33",
   "metadata": {},
   "outputs": [],
   "source": [
    "import networkx as nx\n",
    "from cdt.causality.graph import GES\n",
    "from cdt.data import load_dataset\n",
    "\n",
    "data, graph = load_dataset(\"sachs\")\n",
    "obj = GES()\n",
    "# The predict() method works without a graph, or with a\n",
    "# directed or udirected graph provided as an input\n",
    "output = obj.predict(data)    #No graph provided as an argument\n",
    "\n",
    "output = obj.predict(data, nx.Graph(graph))  # With an undirected graph\n",
    "output = obj.predict(data, graph)  # With a directed graph\n",
    "\n",
    "# To view the graph created, run the below commands:\n",
    "nx.draw_networkx(output, font_size=8)\n",
    "plt.show()"
   ]
  },
  {
   "cell_type": "code",
   "execution_count": null,
   "id": "5db72d38",
   "metadata": {},
   "outputs": [],
   "source": [
    "generator = cdt.data.AcyclicGraphGenerator('gp_add', noise_coeff=.2, nodes=10, parents_max=3)\n",
    "data, graph = generator.generate()\n",
    "data.head()"
   ]
  },
  {
   "cell_type": "code",
   "execution_count": null,
   "id": "0ff482d3",
   "metadata": {},
   "outputs": [],
   "source": [
    "sam = cdt.causality.graph.SAM(nruns=1)\n",
    "prediction = sam.predict(data)"
   ]
  },
  {
   "cell_type": "code",
   "execution_count": null,
   "id": "4d1bf362",
   "metadata": {},
   "outputs": [],
   "source": [
    "from cdt.metrics import (precision_recall, SHD)\n",
    "[metric(graph, prediction) for metric in (precision_recall, SHD)]"
   ]
  },
  {
   "cell_type": "code",
   "execution_count": 4,
   "id": "65474aa8",
   "metadata": {},
   "outputs": [
    {
     "name": "stdout",
     "output_type": "stream",
     "text": [
      "   praf  pmek   plcg   PIP2   PIP3  p44/42  pakts473    PKA    PKC   P38  pjnk\n",
      "0  26.4  13.2   8.82  18.30  58.80    6.61      17.0  414.0  17.00  44.9  40.0\n",
      "1  35.9  16.5  12.30  16.80   8.13   18.60      32.5  352.0   3.37  16.5  61.5\n",
      "2  59.4  44.1  14.60  10.20  13.00   14.90      32.5  403.0  11.40  31.9  19.5\n",
      "3  73.0  82.8  23.10  13.50   1.29    5.83      11.8  528.0  13.70  28.6  23.1\n",
      "4  33.7  19.8   5.19   9.73  24.80   21.10      46.1  305.0   4.66  25.7  81.3\n",
      "[[ 9.26744031e-04 -6.13751618e-04  1.66612981e-05 -1.10912131e-06\n",
      "  -3.04172363e-05 -9.71526466e-05  7.00340545e-05 -1.93863471e-06\n",
      "  -7.31774543e-06  2.29788237e-06  8.31264711e-06]\n",
      " [-6.13751618e-04  4.14978956e-04 -1.37962487e-05  1.42164753e-06\n",
      "   2.04443539e-05  8.24208108e-05 -5.63238668e-05  1.62688021e-06\n",
      "   8.63444133e-06 -2.88779755e-06 -4.69605195e-06]\n",
      " [ 1.66612981e-05 -1.37962487e-05  2.60824802e-04 -1.35895911e-04\n",
      "   8.78979413e-05  2.17234579e-05 -2.07856535e-05  1.23313600e-06\n",
      "   2.12954874e-05 -3.22869246e-06 -7.47522248e-06]\n",
      " [-1.10912131e-06  1.42164753e-06 -1.35895911e-04  8.68622146e-05\n",
      "  -7.05405720e-05  3.08709259e-06 -2.60810094e-06  9.09261370e-09\n",
      "  -6.25320515e-06  2.56399675e-07  2.85201875e-07]\n",
      " [-3.04172363e-05  2.04443539e-05  8.78979413e-05 -7.05405720e-05\n",
      "   6.09681818e-04 -9.91703900e-06  1.78188074e-05 -5.97491176e-07\n",
      "   6.11896719e-06 -4.30918870e-07  5.79322379e-06]\n",
      " [-9.71526466e-05  8.24208108e-05  2.17234579e-05  3.08709259e-06\n",
      "  -9.91703900e-06  1.10860610e-03 -3.08483289e-04 -1.30867663e-05\n",
      "  -3.31258890e-05  7.76132824e-06  2.10416319e-05]\n",
      " [ 7.00340545e-05 -5.63238668e-05 -2.07856535e-05 -2.60810094e-06\n",
      "   1.78188074e-05 -3.08483289e-04  1.66144775e-04  1.26667898e-06\n",
      "   3.11407736e-05 -7.29116898e-06 -1.86454298e-05]\n",
      " [-1.93863471e-06  1.62688021e-06  1.23313600e-06  9.09261370e-09\n",
      "  -5.97491176e-07 -1.30867663e-05  1.26667898e-06  2.80073467e-06\n",
      "  -3.78879972e-06  8.67580852e-07  6.92379671e-07]\n",
      " [-7.31774543e-06  8.63444133e-06  2.12954874e-05 -6.25320515e-06\n",
      "   6.11896719e-06 -3.31258890e-05  3.11407736e-05 -3.78879972e-06\n",
      "   1.59642510e-03 -2.58155157e-04 -1.01767664e-04]\n",
      " [ 2.29788237e-06 -2.88779755e-06 -3.22869246e-06  2.56399675e-07\n",
      "  -4.30918870e-07  7.76132824e-06 -7.29116898e-06  8.67580852e-07\n",
      "  -2.58155157e-04  5.32997159e-05 -3.35285721e-06]\n",
      " [ 8.31264711e-06 -4.69605195e-06 -7.47522248e-06  2.85201875e-07\n",
      "   5.79322379e-06  2.10416319e-05 -1.86454298e-05  6.92379671e-07\n",
      "  -1.01767664e-04 -3.35285721e-06  7.05796078e-05]]\n"
     ]
    }
   ],
   "source": [
    "import cdt\n",
    "import networkx as nx\n",
    "data, graph = cdt.data.load_dataset('sachs')\n",
    "print(data.head())\n",
    "\n",
    "glasso = cdt.independence.graph.Glasso()\n",
    "skeleton = glasso.predict(data)\n",
    "print(nx.adjacency_matrix(skeleton).todense())"
   ]
  },
  {
   "cell_type": "code",
   "execution_count": 5,
   "id": "3e5169f5",
   "metadata": {},
   "outputs": [
    {
     "name": "stdout",
     "output_type": "stream",
     "text": [
      "[[9.26744031e-04 0.00000000e+00 1.66612981e-05 0.00000000e+00\n",
      "  0.00000000e+00 0.00000000e+00 7.00340545e-05 0.00000000e+00\n",
      "  0.00000000e+00 2.29788237e-06 8.31264711e-06]\n",
      " [0.00000000e+00 4.14978956e-04 0.00000000e+00 0.00000000e+00\n",
      "  2.04443539e-05 8.24208108e-05 0.00000000e+00 1.62688021e-06\n",
      "  8.63444133e-06 0.00000000e+00 0.00000000e+00]\n",
      " [1.66612981e-05 0.00000000e+00 2.60824802e-04 0.00000000e+00\n",
      "  8.78979413e-05 2.17234579e-05 0.00000000e+00 1.23313600e-06\n",
      "  2.12954874e-05 0.00000000e+00 0.00000000e+00]\n",
      " [0.00000000e+00 0.00000000e+00 0.00000000e+00 8.68622146e-05\n",
      "  0.00000000e+00 3.08709259e-06 0.00000000e+00 9.09261370e-09\n",
      "  0.00000000e+00 0.00000000e+00 0.00000000e+00]\n",
      " [0.00000000e+00 2.04443539e-05 8.78979413e-05 0.00000000e+00\n",
      "  6.09681818e-04 0.00000000e+00 1.78188074e-05 0.00000000e+00\n",
      "  0.00000000e+00 0.00000000e+00 5.79322379e-06]\n",
      " [0.00000000e+00 8.24208108e-05 2.17234579e-05 3.08709259e-06\n",
      "  0.00000000e+00 1.10860610e-03 0.00000000e+00 0.00000000e+00\n",
      "  0.00000000e+00 7.76132824e-06 2.10416319e-05]\n",
      " [7.00340545e-05 0.00000000e+00 0.00000000e+00 0.00000000e+00\n",
      "  1.78188074e-05 0.00000000e+00 1.66144775e-04 1.26667898e-06\n",
      "  3.11407736e-05 0.00000000e+00 0.00000000e+00]\n",
      " [0.00000000e+00 1.62688021e-06 1.23313600e-06 9.09261370e-09\n",
      "  0.00000000e+00 0.00000000e+00 1.26667898e-06 2.80073467e-06\n",
      "  0.00000000e+00 8.67580852e-07 6.92379671e-07]\n",
      " [0.00000000e+00 8.63444133e-06 2.12954874e-05 0.00000000e+00\n",
      "  0.00000000e+00 0.00000000e+00 3.11407736e-05 0.00000000e+00\n",
      "  1.59642510e-03 0.00000000e+00 0.00000000e+00]\n",
      " [2.29788237e-06 0.00000000e+00 0.00000000e+00 0.00000000e+00\n",
      "  0.00000000e+00 7.76132824e-06 0.00000000e+00 8.67580852e-07\n",
      "  0.00000000e+00 5.32997159e-05 0.00000000e+00]\n",
      " [8.31264711e-06 0.00000000e+00 0.00000000e+00 0.00000000e+00\n",
      "  5.79322379e-06 2.10416319e-05 0.00000000e+00 6.92379671e-07\n",
      "  0.00000000e+00 0.00000000e+00 7.05796078e-05]]\n"
     ]
    }
   ],
   "source": [
    "new_skeleton = cdt.utils.graph.remove_indirect_links(skeleton, alg='aracne')\n",
    "print(nx.adjacency_matrix(new_skeleton).todense())"
   ]
  },
  {
   "cell_type": "code",
   "execution_count": 6,
   "id": "fb0ac498",
   "metadata": {},
   "outputs": [
    {
     "name": "stderr",
     "output_type": "stream",
     "text": [
      "GES is ran on the skeleton of the given graph.\n"
     ]
    },
    {
     "name": "stdout",
     "output_type": "stream",
     "text": [
      "[[0 0 0 0 0 0 1 0 0 1 1]\n",
      " [0 0 0 0 0 0 0 0 0 0 0]\n",
      " [1 0 0 0 0 0 0 0 1 0 0]\n",
      " [0 0 0 0 0 0 0 0 0 0 0]\n",
      " [0 0 1 0 0 0 1 0 0 0 0]\n",
      " [0 1 1 1 0 0 0 0 0 1 1]\n",
      " [0 0 0 0 0 0 0 0 0 0 0]\n",
      " [0 1 1 1 0 0 1 0 0 1 1]\n",
      " [0 1 0 0 0 0 1 0 0 0 0]\n",
      " [0 0 0 0 0 0 0 0 0 0 0]\n",
      " [0 0 0 0 0 0 0 0 0 0 0]]\n"
     ]
    }
   ],
   "source": [
    "model = cdt.causality.graph.GES()\n",
    "output_graph = model.predict(data, new_skeleton)\n",
    "print(nx.adjacency_matrix(output_graph).todense())"
   ]
  },
  {
   "cell_type": "code",
   "execution_count": 7,
   "id": "e9cada97",
   "metadata": {},
   "outputs": [
    {
     "name": "stdout",
     "output_type": "stream",
     "text": [
      "[(0.46354453627180897, [(0.1487603305785124, 1.0), (0.4, 0.4444444444444444), (1.0, 0.0)]), array(64.), 22]\n"
     ]
    }
   ],
   "source": [
    "from cdt.metrics import (precision_recall, SID, SHD)\n",
    "scores = [metric(graph, output_graph) for metric in (precision_recall, SID, SHD)]\n",
    "print(scores)"
   ]
  }
 ],
 "metadata": {
  "kernelspec": {
   "display_name": "Python 3.6.8 64-bit",
   "language": "python",
   "name": "python36864bit874e3a48d9b148faaa09714964fd179b"
  },
  "language_info": {
   "codemirror_mode": {
    "name": "ipython",
    "version": 3
   },
   "file_extension": ".py",
   "mimetype": "text/x-python",
   "name": "python",
   "nbconvert_exporter": "python",
   "pygments_lexer": "ipython3",
   "version": "3.6.8"
  }
 },
 "nbformat": 4,
 "nbformat_minor": 5
}
