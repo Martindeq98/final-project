{
 "cells": [
  {
   "cell_type": "code",
   "execution_count": 1,
   "id": "7b33a4a0",
   "metadata": {
    "colab": {
     "base_uri": "https://localhost:8080/"
    },
    "id": "7b33a4a0",
    "outputId": "5d4f320b-e8c9-4ab5-ddce-ca3a28339338"
   },
   "outputs": [
    {
     "name": "stdout",
     "output_type": "stream",
     "text": [
      "Requirement already satisfied: igraph in c:\\users\\s165048\\anaconda3\\lib\\site-packages (0.1.14)\n"
     ]
    }
   ],
   "source": [
    "!pip install igraph\n",
    "\n",
    "import numpy as np\n",
    "import matplotlib.pyplot as plt\n",
    "import statsmodels.api as sm\n",
    "from tqdm import tqdm\n",
    "import igraph as ig\n",
    "from timeit import default_timer as timer\n",
    "\n",
    "# scipy\n",
    "import random\n",
    "import scipy.stats as scistats\n",
    "import scipy.linalg as slin\n",
    "import scipy.optimize as sopt\n",
    "from scipy.special import expit as sigmoid"
   ]
  },
  {
   "cell_type": "code",
   "execution_count": 2,
   "id": "4b49caff",
   "metadata": {
    "id": "4b49caff"
   },
   "outputs": [],
   "source": [
    "def k_ols_W(Psi, P):\n",
    "    # translate X\n",
    "    psi = P @ Psi @ P.T\n",
    "    W_hat = np.zeros((p, p))\n",
    "\n",
    "    # get parameters\n",
    "    for i in range(1, p):\n",
    "        psi_F = psi[np.array(range(i))[:, None], np.array(range(i))[None, :]]   \n",
    "        W_hat[np.array(range(i))[:, None], i] = np.linalg.inv(psi_F) @ psi[np.array(range(i))[:, None], i]\n",
    "\n",
    "    return P.T @ W_hat @ P\n",
    "\n",
    "def ols_W(X, P):\n",
    "    # translate X\n",
    "    x = X @ P.T\n",
    "\n",
    "    W_hat = np.array(np.zeros(p)).T\n",
    "\n",
    "    # get parameters\n",
    "    for i in range(p):\n",
    "        if i == 0:\n",
    "            W_hat = np.vstack((W_hat, np.zeros(p)))\n",
    "        else:\n",
    "            est = sm.OLS(x[:, i], x[:, :i]).fit()   \n",
    "            W_hat = np.vstack((W_hat, np.append(est.params, np.zeros(p - i)).T))\n",
    "\n",
    "    return P.T @ W_hat[1:].T @ P\n",
    "\n",
    "def ols_W_full(X):\n",
    "    # translate X\n",
    "    x = X\n",
    "\n",
    "    W_hat = np.array(np.zeros(p)).T\n",
    "\n",
    "    # get parameters\n",
    "    for i in range(p):\n",
    "        est = sm.OLS(x[:, i], np.delete(x, i, axis = 1)).fit()  \n",
    "        W_hat = np.vstack((W_hat, np.append(est.params[:i], np.append(0, est.params[i:])).T)) \n",
    "        # W_hat = np.vstack((W_hat, np.append(est.params, np.zeros(1)).T))\n",
    "\n",
    "    return W_hat[1:].T"
   ]
  },
  {
   "cell_type": "code",
   "execution_count": 3,
   "id": "f73f4f68",
   "metadata": {
    "id": "f73f4f68"
   },
   "outputs": [],
   "source": [
    "def generate_U(p, num_edges, low = 0.5, high = 2.0, tril = False):\n",
    "    edges = np.array([0.0] * (int(p * (p + 1) / 2) - num_edges - p * tril) + [1.0] * num_edges)\n",
    "    \n",
    "    edges[edges > 0] = (2 * np.random.randint(0, 2, size=(num_edges)) - 1) * np.random.uniform(low, high, num_edges)\n",
    "    np.random.shuffle(edges)\n",
    "    \n",
    "    U = np.zeros((p, p))\n",
    "    \n",
    "    U[np.tril_indices(p, - tril)] = edges\n",
    "    \n",
    "    return U"
   ]
  },
  {
   "cell_type": "code",
   "execution_count": 4,
   "id": "bXeFG8gjbmNT",
   "metadata": {
    "id": "bXeFG8gjbmNT"
   },
   "outputs": [],
   "source": [
    "def notears_linear(X, lambda1, loss_type, max_iter=100, h_tol=1e-8, rho_max=1e+16, w_threshold=0.3, verbose = True):\n",
    "    \"\"\"Solve min_W L(W; X) + lambda1 ‖W‖_1 s.t. h(W) = 0 using augmented Lagrangian.\n",
    "\n",
    "    Args:\n",
    "        X (np.ndarray): [n, d] sample matrix\n",
    "        lambda1 (float): l1 penalty parameter\n",
    "        loss_type (str): l2, logistic, poisson\n",
    "        max_iter (int): max num of dual ascent steps\n",
    "        h_tol (float): exit if |h(w_est)| <= htol\n",
    "        rho_max (float): exit if rho >= rho_max\n",
    "        w_threshold (float): drop edge if |weight| < threshold\n",
    "\n",
    "    Returns:\n",
    "        W_est (np.ndarray): [d, d] estimated DAG\n",
    "    \"\"\"\n",
    "    def _loss(W):\n",
    "        \"\"\"Evaluate value and gradient of loss.\"\"\"\n",
    "        M = X @ W\n",
    "\n",
    "        if loss_type == 'l2-var':\n",
    "            R = X[1:] - M[:-1]\n",
    "            loss = 0.5 / X[1:].shape[0] * (R ** 2).sum()\n",
    "            G_loss = - 1.0 / X[1:].shape[0] * X[:-1].T @ R\n",
    "        elif loss_type == 'l2':\n",
    "            R = X - M\n",
    "            loss = 0.5 / X.shape[0] * (R ** 2).sum()\n",
    "            G_loss = - 1.0 / X.shape[0] * X.T @ R\n",
    "        elif loss_type == 'logistic':\n",
    "            loss = 1.0 / X.shape[0] * (np.logaddexp(0, M) - X * M).sum()\n",
    "            G_loss = 1.0 / X.shape[0] * X.T @ (sigmoid(M) - X)\n",
    "        elif loss_type == 'poisson':\n",
    "            S = np.exp(M)\n",
    "            loss = 1.0 / X.shape[0] * (S - X * M).sum()\n",
    "            G_loss = 1.0 / X.shape[0] * X.T @ (S - X)\n",
    "        else:\n",
    "            raise ValueError('unknown loss type')\n",
    "        return loss, G_loss\n",
    "\n",
    "    def _h(W):\n",
    "        \"\"\"Evaluate value and gradient of acyclicity constraint.\"\"\"\n",
    "        W2 = W.copy()\n",
    "\n",
    "        if loss_type == \"l2-var\": \n",
    "            np.fill_diagonal(W2, np.zeros(np.shape(W)[0]))\n",
    "\t\t\n",
    "        E = slin.expm(W2 * W2)  # (Zheng et al. 2018)\n",
    "        h = np.trace(E) - d\n",
    "        #     # A different formulation, slightly faster at the cost of numerical stability\n",
    "        #     M = np.eye(d) + W * W / d  # (Yu et al. 2019)\n",
    "        #     E = np.linalg.matrix_power(M, d - 1)\n",
    "        #     h = (E.T * M).sum() - d\n",
    "        G_h = E.T * W2 * 2\n",
    "        return h, G_h\n",
    "\n",
    "    def _adj(w):\n",
    "        \"\"\"Convert doubled variables ([2 d^2] array) back to original variables ([d, d] matrix).\"\"\"\n",
    "        return (w[:d * d] - w[d * d:]).reshape([d, d])\n",
    "\n",
    "    def _func(w):\n",
    "        \"\"\"Evaluate value and gradient of augmented Lagrangian for doubled variables ([2 d^2] array).\"\"\"\n",
    "        W = _adj(w)\n",
    "        loss, G_loss = _loss(W)\n",
    "        h, G_h = _h(W)\n",
    "        obj = loss + 0.5 * rho * h * h + alpha * h + lambda1 * w.sum()\n",
    "        G_smooth = G_loss + (rho * h + alpha) * G_h\n",
    "        g_obj = np.concatenate((G_smooth + lambda1, - G_smooth + lambda1), axis=None)\n",
    "        return obj, g_obj\n",
    "\n",
    "    n, d = X.shape\n",
    "    w_est, rho, alpha, h = np.zeros(2 * d * d), 1.0, 0.0, np.inf  # double w_est into (w_pos, w_neg)\n",
    "    bnds = [(0, None) for _ in range(2) for i in range(d) for j in range(d)]\n",
    "    if loss_type == 'l2':\n",
    "        X = X - np.mean(X, axis=0, keepdims=True)\n",
    "    for q in range(max_iter):\n",
    "        print(q, end = \"\")\n",
    "        w_new, h_new = None, None\n",
    "        while rho < rho_max:\n",
    "            sol = sopt.minimize(_func, w_est, method='L-BFGS-B', jac=True, bounds=bnds)\n",
    "            w_new = sol.x\n",
    "            h_new, _ = _h(_adj(w_new))\n",
    "            if h_new > 0.25 * h:\n",
    "                rho *= 10\n",
    "            else:\n",
    "                break\n",
    "        w_est, h = w_new, h_new\n",
    "        alpha += rho * h * 10\n",
    "        if h <= h_tol or rho >= rho_max:\n",
    "            break\n",
    "\t\t\t\n",
    "    W_est = _adj(w_est)\n",
    "    W_est[np.abs(W_est) < w_threshold] = 0\n",
    "\t\n",
    "\t# h, rho, gradient of h\n",
    "    if verbose:\n",
    "        print(f\"h: {h}.\\nrho: {rho}.\")\n",
    "        print(f\"loss: {_func(w_est)}.\")\t\n",
    "\n",
    "    return W_est, h\n",
    "\n",
    "def set_random_seed(seed):\n",
    "    random.seed(seed)\n",
    "    np.random.seed(seed)\n",
    "\n",
    "\n",
    "def is_dag(W):\n",
    "    G = ig.Graph.Weighted_Adjacency(W.tolist())\n",
    "    return G.simplify().is_dag()\n",
    "\n",
    "\n",
    "def simulate_dag(d, s0, graph_type):\n",
    "    \"\"\"Simulate random DAG with some expected number of edges.\n",
    "\n",
    "    Args:\n",
    "        d (int): num of nodes\n",
    "        s0 (int): expected num of edges\n",
    "        graph_type (str): ER, SF, BP\n",
    "\n",
    "    Returns:\n",
    "        B (np.ndarray): [d, d] binary adj matrix of DAG\n",
    "    \"\"\"\n",
    "    def _random_permutation(M):\n",
    "        # np.random.permutation permutes first axis only\n",
    "        P = np.random.permutation(np.eye(M.shape[0]))\n",
    "        return P.T @ M @ P\n",
    "\n",
    "    def _random_acyclic_orientation(B_und):\n",
    "        return np.tril(_random_permutation(B_und), k=-1)\n",
    "\n",
    "    def _graph_to_adjmat(G):\n",
    "        return np.array(G.get_adjacency().data)\n",
    "\n",
    "    if graph_type == 'ER':\n",
    "        # Erdos-Renyi\n",
    "        G_und = ig.Graph.Erdos_Renyi(n=d, m=s0)\n",
    "        B_und = _graph_to_adjmat(G_und)\n",
    "        B = _random_acyclic_orientation(B_und)\n",
    "    elif graph_type == 'SF':\n",
    "        # Scale-free, Barabasi-Albert\n",
    "        G = ig.Graph.Barabasi(n=d, m=int(round(s0 / d)), directed=True)\n",
    "        B = _graph_to_adjmat(G)\n",
    "    elif graph_type == 'BP':\n",
    "        # Bipartite, Sec 4.1 of (Gu, Fu, Zhou, 2018)\n",
    "        top = int(0.2 * d)\n",
    "        G = ig.Graph.Random_Bipartite(top, d - top, m=s0, directed=True, neimode=ig.OUT)\n",
    "        B = _graph_to_adjmat(G)\n",
    "    else:\n",
    "        raise ValueError('unknown graph type')\n",
    "    B_perm = _random_permutation(B)\n",
    "    assert ig.Graph.Adjacency(B_perm.tolist()).is_dag()\n",
    "    return B_perm\n",
    "\n",
    "\n",
    "def simulate_parameter(B, w_ranges=((-2.0, -0.5), (0.5, 2.0))):\n",
    "    \"\"\"Simulate SEM parameters for a DAG.\n",
    "\n",
    "    Args:\n",
    "        B (np.ndarray): [d, d] binary adj matrix of DAG\n",
    "        w_ranges (tuple): disjoint weight ranges\n",
    "\n",
    "    Returns:\n",
    "        W (np.ndarray): [d, d] weighted adj matrix of DAG\n",
    "    \"\"\"\n",
    "    W = np.zeros(B.shape)\n",
    "    S = np.random.randint(len(w_ranges), size=B.shape)  # which range\n",
    "    for i, (low, high) in enumerate(w_ranges):\n",
    "        U = np.random.uniform(low=low, high=high, size=B.shape)\n",
    "        W += B * (S == i) * U\n",
    "    return W\n",
    "\n",
    "\n",
    "def simulate_linear_sem(W, n, sem_type, noise_scale=None):\n",
    "    \"\"\"Simulate samples from linear SEM with specified type of noise.\n",
    "\n",
    "    For uniform, noise z ~ uniform(-a, a), where a = noise_scale.\n",
    "\n",
    "    Args:\n",
    "        W (np.ndarray): [d, d] weighted adj matrix of DAG\n",
    "        n (int): num of samples, n=inf mimics population risk\n",
    "        sem_type (str): gauss, exp, gumbel, uniform, logistic, poisson\n",
    "        noise_scale (np.ndarray): scale parameter of additive noise, default all ones\n",
    "\n",
    "    Returns:\n",
    "        X (np.ndarray): [n, d] sample matrix, [d, d] if n=inf\n",
    "    \"\"\"\n",
    "    def _simulate_single_equation(X, w, scale):\n",
    "        \"\"\"X: [n, num of parents], w: [num of parents], x: [n]\"\"\"\n",
    "        if sem_type == 'gauss':\n",
    "            z = np.random.normal(scale=scale, size=n)\n",
    "            x = X @ w + z\n",
    "        elif sem_type == 'exp':\n",
    "            z = np.random.exponential(scale=scale, size=n)\n",
    "            x = X @ w + z\n",
    "        elif sem_type == 'gumbel':\n",
    "            z = np.random.gumbel(scale=scale, size=n)\n",
    "            x = X @ w + z\n",
    "        elif sem_type == 'uniform':\n",
    "            z = np.random.uniform(low=-scale, high=scale, size=n)\n",
    "            x = X @ w + z\n",
    "        elif sem_type == 'logistic':\n",
    "            x = np.random.binomial(1, sigmoid(X @ w)) * 1.0\n",
    "        elif sem_type == 'poisson':\n",
    "            x = np.random.poisson(np.exp(X @ w)) * 1.0\n",
    "        else:\n",
    "            raise ValueError('unknown sem type')\n",
    "        return x\n",
    "\n",
    "    d = W.shape[0]\n",
    "    if noise_scale is None:\n",
    "        scale_vec = np.ones(d)\n",
    "    elif np.isscalar(noise_scale):\n",
    "        scale_vec = noise_scale * np.ones(d)\n",
    "    else:\n",
    "        if len(noise_scale) != d:\n",
    "            raise ValueError('noise scale must be a scalar or has length d')\n",
    "        scale_vec = noise_scale\n",
    "    if not is_dag(W):\n",
    "        raise ValueError('W must be a DAG')\n",
    "    if np.isinf(n):  # population risk for linear gauss SEM\n",
    "        if sem_type == 'gauss':\n",
    "            # make 1/d X'X = true cov\n",
    "            X = np.sqrt(d) * np.diag(scale_vec) @ np.linalg.inv(np.eye(d) - W)\n",
    "            return X\n",
    "        else:\n",
    "            raise ValueError('population risk not available')\n",
    "    # empirical risk\n",
    "    G = ig.Graph.Weighted_Adjacency(W.tolist())\n",
    "    ordered_vertices = G.topological_sorting()\n",
    "    assert len(ordered_vertices) == d\n",
    "    X = np.zeros([n, d])\n",
    "    for j in ordered_vertices:\n",
    "        parents = G.neighbors(j, mode=ig.IN)\n",
    "        X[:, j] = _simulate_single_equation(X[:, parents], W[parents, j], scale_vec[j])\n",
    "    return X\n",
    "\n",
    "\n",
    "def simulate_nonlinear_sem(B, n, sem_type, noise_scale=None):\n",
    "    \"\"\"Simulate samples from nonlinear SEM.\n",
    "\n",
    "    Args:\n",
    "        B (np.ndarray): [d, d] binary adj matrix of DAG\n",
    "        n (int): num of samples\n",
    "        sem_type (str): mlp, mim, gp, gp-add\n",
    "        noise_scale (np.ndarray): scale parameter of additive noise, default all ones\n",
    "\n",
    "    Returns:\n",
    "        X (np.ndarray): [n, d] sample matrix\n",
    "    \"\"\"\n",
    "    def _simulate_single_equation(X, scale):\n",
    "        \"\"\"X: [n, num of parents], x: [n]\"\"\"\n",
    "        z = np.random.normal(scale=scale, size=n)\n",
    "        pa_size = X.shape[1]\n",
    "        if pa_size == 0:\n",
    "            return z\n",
    "        if sem_type == 'mlp':\n",
    "            hidden = 100\n",
    "            W1 = np.random.uniform(low=0.5, high=2.0, size=[pa_size, hidden])\n",
    "            W1[np.random.rand(*W1.shape) < 0.5] *= -1\n",
    "            W2 = np.random.uniform(low=0.5, high=2.0, size=hidden)\n",
    "            W2[np.random.rand(hidden) < 0.5] *= -1\n",
    "            x = sigmoid(X @ W1) @ W2 + z\n",
    "        elif sem_type == 'mim':\n",
    "            w1 = np.random.uniform(low=0.5, high=2.0, size=pa_size)\n",
    "            w1[np.random.rand(pa_size) < 0.5] *= -1\n",
    "            w2 = np.random.uniform(low=0.5, high=2.0, size=pa_size)\n",
    "            w2[np.random.rand(pa_size) < 0.5] *= -1\n",
    "            w3 = np.random.uniform(low=0.5, high=2.0, size=pa_size)\n",
    "            w3[np.random.rand(pa_size) < 0.5] *= -1\n",
    "            x = np.tanh(X @ w1) + np.cos(X @ w2) + np.sin(X @ w3) + z\n",
    "        elif sem_type == 'gp':\n",
    "            from sklearn.gaussian_process import GaussianProcessRegressor\n",
    "            gp = GaussianProcessRegressor()\n",
    "            x = gp.sample_y(X, random_state=None).flatten() + z\n",
    "        elif sem_type == 'gp-add':\n",
    "            from sklearn.gaussian_process import GaussianProcessRegressor\n",
    "            gp = GaussianProcessRegressor()\n",
    "            x = sum([gp.sample_y(X[:, i, None], random_state=None).flatten()\n",
    "                     for i in range(X.shape[1])]) + z\n",
    "        else:\n",
    "            raise ValueError('unknown sem type')\n",
    "        return x\n",
    "\n",
    "    d = B.shape[0]\n",
    "    scale_vec = noise_scale if noise_scale else np.ones(d)\n",
    "    X = np.zeros([n, d])\n",
    "    G = ig.Graph.Adjacency(B.tolist())\n",
    "    ordered_vertices = G.topological_sorting()\n",
    "    assert len(ordered_vertices) == d\n",
    "    for j in ordered_vertices:\n",
    "        parents = G.neighbors(j, mode=ig.IN)\n",
    "        X[:, j] = _simulate_single_equation(X[:, parents], scale_vec[j])\n",
    "    return X\n",
    "\n",
    "def simulate_var(W, n, noise_scale):\n",
    "    \"\"\"Simulate samples from var with gaussian noise.\n",
    "\n",
    "    Args:\n",
    "        W (np.ndarray): [d, d] weighted adj matrix of DAG\n",
    "        n (int): num of samples, n=inf mimics population risk\n",
    "\n",
    "    Returns:\n",
    "        X (np.ndarray): [n, d] sample matrix, [d, d] if n=inf\n",
    "    \"\"\"\n",
    "\n",
    "    def _simulate_single_equation_var(X, w, scale):\n",
    "        \"\"\"X: [n, num of parents], w: [num of parents], x: [n]\"\"\"\n",
    "\t\t\n",
    "        if scale == None: scale = np.ones(d)\n",
    "\t\t\n",
    "        z = np.random.normal(scale = scale, size=d)\n",
    "        x = X @ w + z\n",
    "        return x\n",
    "\n",
    "    # number of variables\n",
    "    d = W.shape[0]\n",
    "\n",
    "    # data\n",
    "    X = np.zeros([n, d])\n",
    "\n",
    "    # for each timestep\n",
    "    for t in range(1, n):\n",
    "        # generate next timestep\n",
    "        X[t] = _simulate_single_equation_var(X[t - 1], W, scale = noise_scale)\n",
    "    return X\n",
    "\n",
    "def count_accuracy(B_true, B_est):\n",
    "    \"\"\"Compute various accuracy metrics for B_est.\n",
    "\n",
    "    true positive = predicted association exists in condition in correct direction\n",
    "    reverse = predicted association exists in condition in opposite direction\n",
    "    false positive = predicted association does not exist in condition\n",
    "\n",
    "    Args:\n",
    "        B_true (np.ndarray): [d, d] ground truth graph, {0, 1}\n",
    "        B_est (np.ndarray): [d, d] estimate, {0, 1, -1}, -1 is undirected edge in CPDAG\n",
    "\n",
    "    Returns:\n",
    "        fdr: (reverse + false positive) / prediction positive\n",
    "        tpr: (true positive) / condition positive\n",
    "        fpr: (reverse + false positive) / condition negative\n",
    "        shd: undirected extra + undirected missing + reverse\n",
    "        nnz: prediction positive\n",
    "    \"\"\"\n",
    "    if (B_est == -1).any():  # cpdag\n",
    "        if not ((B_est == 0) | (B_est == 1) | (B_est == -1)).all():\n",
    "            raise ValueError('B_est should take value in {0,1,-1}')\n",
    "        if ((B_est == -1) & (B_est.T == -1)).any():\n",
    "            raise ValueError('undirected edge should only appear once')\n",
    "    else:  # dag\n",
    "        if not ((B_est == 0) | (B_est == 1)).all():\n",
    "            raise ValueError('B_est should take value in {0,1}')\n",
    "        if not is_dag(B_est):\n",
    "            raise ValueError('B_est should be a DAG')\n",
    "    d = B_true.shape[0]\n",
    "    # linear index of nonzeros\n",
    "    pred_und = np.flatnonzero(B_est == -1)\n",
    "    pred = np.flatnonzero(B_est == 1)\n",
    "    cond = np.flatnonzero(B_true)\n",
    "    cond_reversed = np.flatnonzero(B_true.T)\n",
    "    cond_skeleton = np.concatenate([cond, cond_reversed])\n",
    "    # true pos\n",
    "    true_pos = np.intersect1d(pred, cond, assume_unique=True)\n",
    "    # treat undirected edge favorably\n",
    "    true_pos_und = np.intersect1d(pred_und, cond_skeleton, assume_unique=True)\n",
    "    true_pos = np.concatenate([true_pos, true_pos_und])\n",
    "    # false pos\n",
    "    false_pos = np.setdiff1d(pred, cond_skeleton, assume_unique=True)\n",
    "    false_pos_und = np.setdiff1d(pred_und, cond_skeleton, assume_unique=True)\n",
    "    false_pos = np.concatenate([false_pos, false_pos_und])\n",
    "    # reverse\n",
    "    extra = np.setdiff1d(pred, cond, assume_unique=True)\n",
    "    reverse = np.intersect1d(extra, cond_reversed, assume_unique=True)\n",
    "    # compute ratio\n",
    "    pred_size = len(pred) + len(pred_und)\n",
    "    cond_neg_size = 0.5 * d * (d - 1) - len(cond)\n",
    "    fdr = float(len(reverse) + len(false_pos)) / max(pred_size, 1)\n",
    "    tpr = float(len(true_pos)) / max(len(cond), 1)\n",
    "    fpr = float(len(reverse) + len(false_pos)) / max(cond_neg_size, 1)\n",
    "    # structural hamming distance\n",
    "    pred_lower = np.flatnonzero(np.tril(B_est + B_est.T))\n",
    "    cond_lower = np.flatnonzero(np.tril(B_true + B_true.T))\n",
    "    extra_lower = np.setdiff1d(pred_lower, cond_lower, assume_unique=True)\n",
    "    missing_lower = np.setdiff1d(cond_lower, pred_lower, assume_unique=True)\n",
    "    shd = len(extra_lower) + len(missing_lower) + len(reverse)\n",
    "    return {'fdr': fdr, 'tpr': tpr, 'fpr': fpr, 'shd': shd, 'nnz': pred_size}"
   ]
  },
  {
   "cell_type": "code",
   "execution_count": 5,
   "id": "n-hUyStSgL8Q",
   "metadata": {
    "id": "n-hUyStSgL8Q"
   },
   "outputs": [],
   "source": [
    "def _K_OMP(X, Y, max_coefs = 1e10, tol = 0.0, tol_res = 0.0, verbose = False, output = False, normalize = False, F = [], is_sem = False):\n",
    "    \"\"\"Do Kernel OMP on X, Y.\"\"\"\n",
    "\t\n",
    "    def Lambda_to_adj(Lambda):\n",
    "        \"\"\"Convert Lambda list to adjacency matrix\"\"\"\n",
    "        n = len(Lambda)\n",
    "    \n",
    "        adj_mat = np.zeros((n, n))\n",
    "    \n",
    "        for i, col in enumerate(Lambda):\n",
    "            adj_mat[i, col] = 1 \n",
    "    \n",
    "        return adj_mat\n",
    "    \n",
    "    # get dimensions\n",
    "    T, n = np.shape(X)\n",
    "\t\n",
    "    if is_sem: F = [i * (n + 1) for i in range(n)]\n",
    "    \n",
    "\t# compute kernel spaces\n",
    "    Psi = X.T.dot(X)  \t\t\t\t\t# p times p\n",
    "    K = X.T.dot(Y)\t  \t\t\t\t\t# p  times p\n",
    "    Theta = [y.T.dot(y) for y in Y.T] \t# 1 times 1\n",
    "    \n",
    "    # initialize Lambda, idx, betas\n",
    "    Lambda, idx, betas = [[] for _ in range(n)], [], np.zeros((n, n))\n",
    "    \n",
    "\t# compute norms if we want to normalize\n",
    "    norms = [1] * n # initialize as harmless 1 array\t\n",
    "    if normalize: norms = [np.linalg.norm(x) for x in X.T]\n",
    "\t\n",
    "    # for each possible coefficient\n",
    "    for i in range(n ** 2):    \n",
    "    \n",
    "        # compute gains\n",
    "        gains = np.abs([(k - betas.T @ Psi[i, :]) / norms[i] for i, k in enumerate(K)])\n",
    "        \n",
    "        # set forbidden set to -1, impossible to pick then\n",
    "        gains = gains.flatten()\n",
    "\t\t\n",
    "        gains[F] = - np.ones(len(F))\n",
    "        gains = gains.reshape(n, n)\n",
    "\t\t\n",
    "        #print(gains.max())\n",
    "\t\t# stopping criterion\n",
    "        # print(np.round(gains.max(), 1), end = \"\\t\")\n",
    "        if np.round(gains, 8).max() <= tol: break\n",
    "\t\t\n",
    "        # append best atom to Lambda\n",
    "\t\t# if tie, pick the one that minimizes residual\n",
    "        row, col = np.argmax(gains) // n, np.argmax(gains) % n\n",
    "\t\t\n",
    "        if row not in Lambda[col]: Lambda[col].append(row)\n",
    "    \n",
    "        # check if we have a DAG, not super efficient\n",
    "        if _is_dag(Lambda_to_adj(Lambda)): \n",
    "            # update only column col, use indices of \n",
    "            idx = Lambda[col]\n",
    "            Psi_F = Psi[np.array(idx)[:, None], np.array(idx)[None, :]]\n",
    "        \n",
    "            # speedup: add transpose to forbidden set\n",
    "            F.append(col * n + row)\n",
    "\n",
    "            # update betas        \t\n",
    "            betas[np.array(idx)[:, None], col] = np.linalg.inv(Psi_F) @ K[np.array(idx)[:, None], col]\n",
    "\t\t\t\n",
    "            # print(np.round(betas[row][col], 1), end = \"\\t\")\n",
    "            # if np.abs(betas[row][col]) <= tol: break\n",
    "            \n",
    "        else:\n",
    "            # append forbidden entry to forbidden list\n",
    "            F.append(int(np.argmax(gains)))\n",
    "            # remove coefficient from Lambda\n",
    "            Lambda[col].remove(row)\n",
    "    \n",
    "\t\t# check residual squared\n",
    "        #print(sum([Theta[i] - K[:, i] @ betas[:, i] for i in range(n)]))\n",
    "\t\t\n",
    "        if sum([Theta[i] - K[:, i] @ betas[:, i] for i in range(n)]) < tol_res:\n",
    "            print(\"Residual Limit, terminate\")\n",
    "            break\n",
    "\t\t\n",
    "        # print info if verbose\n",
    "        if verbose:\n",
    "            print(f\"Iteration {i + 1}.\\n\")\n",
    "            print(f\"Gains:\\n{np.round(gains, 3)}.\\n\")\n",
    "            print(f\"Beta_{i + 1}:\\n{np.round(betas, 3)}.\\n\")\n",
    "            print(f\"Residual Squared: {np.round([Theta[i] - K[:, i] @ betas[:, i] for i in range(n)], 32)}.\\n\\n\")\n",
    "\n",
    "    return betas, sum([Theta[i] - K[:, i] @ betas[:, i] for i in range(n)])\n",
    "\n",
    "def _MSE(W, X, is_sem = False):\n",
    "    \"\"\"Compute Mean Squared error of matrix W on data X.\"\"\"\n",
    "    \n",
    "    if is_sem:\n",
    "        X_val = X\n",
    "        X_pred = X @ W\n",
    "    \n",
    "        return 1 / len(X_val) * np.linalg.norm(X_val - X_pred, 'f') ** 2\n",
    "    else:\n",
    "        X_val = X[1:]\n",
    "        X_pred = X[:-1] @ W\n",
    "    \n",
    "        return 1 / len(X_val) * np.linalg.norm(X_val - X_pred, 'f') ** 2\n",
    "\n",
    "def _is_dag(W_input):\n",
    "    n = np.shape(W_input)[0]\n",
    "    \n",
    "    W = W_input.copy()\n",
    "    # remove diagonal entries\n",
    "    np.fill_diagonal(W, 0)\n",
    "    \n",
    "    order, old_order = [], list(range(n))\n",
    "    \n",
    "    # for the number of elements\n",
    "    for i in range(n):\n",
    "        \n",
    "        # find a row that contains only zeros\n",
    "        for j in range(n - i):\n",
    "            # if we find a zero row (excl. diags)\n",
    "            if not W[j].any() != 0:\n",
    "                \n",
    "                # remove this row and column\n",
    "                W = np.delete(W, j, 0)\n",
    "                W = np.delete(W, j, 1)\n",
    "            \n",
    "                order.append(old_order[j])\n",
    "                old_order.remove(old_order[j])\n",
    "                \n",
    "                # go to next variable\n",
    "                break\n",
    "        \n",
    "            # if no zero row exist stop\n",
    "            elif i == n - 1:\n",
    "                return False\n",
    "            \n",
    "    return True, order"
   ]
  },
  {
   "cell_type": "code",
   "execution_count": 8,
   "id": "22172bfc",
   "metadata": {
    "colab": {
     "base_uri": "https://localhost:8080/"
    },
    "id": "22172bfc",
    "outputId": "643989d2-abd9-4870-a3de-b57ffd41241f"
   },
   "outputs": [
    {
     "name": "stdout",
     "output_type": "stream",
     "text": [
      "SEM based on a graph on 5 nodes and 5 edges, 1000 samples.\n",
      "Original Adjacency Matrix:\n",
      "[[0. 0. 0. 0. 1.]\n",
      " [0. 0. 0. 0. 0.]\n",
      " [1. 1. 0. 0. 0.]\n",
      " [1. 0. 1. 0. 0.]\n",
      " [0. 0. 0. 0. 0.]].\n",
      "\n",
      "Original WAM:\n",
      "[[ 0.   0.   0.   0.  -1.4]\n",
      " [ 0.   0.   0.   0.   0. ]\n",
      " [ 1.1  1.   0.   0.   0. ]\n",
      " [-2.   0.  -1.1  0.   0. ]\n",
      " [ 0.   0.   0.   0.   0. ]].\n",
      "\n",
      "01234567Estimated WAM:\n",
      "[[ 0.   0.   0.5  0.  -1.4]\n",
      " [ 0.   0.   0.   0.   0. ]\n",
      " [ 0.   0.9  0.   0.   0. ]\n",
      " [-3.2  0.   0.6  0.   0. ]\n",
      " [ 0.   0.   0.   0.   0. ]].\n",
      "\n",
      "{'fdr': 0.2, 'tpr': 0.8, 'fpr': 0.2, 'shd': 1, 'nnz': 5}\n"
     ]
    }
   ],
   "source": [
    "T, p, s0, graph_type, sem_type = 1000, 5, 5, 'ER', 'gauss'\n",
    "print(f\"SEM based on a graph on {p} nodes and {s0} edges, {T} samples.\")\n",
    "\n",
    "B_true = simulate_dag(p, s0, graph_type)\n",
    "print(f\"Original Adjacency Matrix:\\n{B_true}.\\n\")\n",
    "\n",
    "W_true = simulate_parameter(B_true)\n",
    "print(f\"Original WAM:\\n{np.round(W_true, 1)}.\\n\")\n",
    "\n",
    "X = simulate_linear_sem(W_true, T, sem_type)\n",
    "Psi = np.dot(X.T, X)\n",
    "\n",
    "W_est, h_val = notears_linear(X, lambda1=0.0, loss_type='l2', verbose = False)\n",
    "print(f\"Estimated WAM:\\n{np.round(W_est, 1)}.\\n\")\n",
    "\n",
    "acc = count_accuracy(B_true, W_est != 0)\n",
    "print(acc)"
   ]
  },
  {
   "cell_type": "code",
   "execution_count": 9,
   "id": "aEqmSQ42cObt",
   "metadata": {
    "id": "aEqmSQ42cObt"
   },
   "outputs": [],
   "source": [
    "def is_dag(W_input):\n",
    "    n = np.shape(W_input)[0]\n",
    "    \n",
    "    W = W_input.copy()\n",
    "    # remove diagonal entries\n",
    "    np.fill_diagonal(W, 0)\n",
    "    \n",
    "    order, old_order = [], list(range(n))\n",
    "    \n",
    "    # for the number of elements\n",
    "    for i in range(n):\n",
    "        \n",
    "        # find a row that contains only zeros\n",
    "        for j in range(n - i):\n",
    "            # if we find a zero row (excl. diags)\n",
    "            if not W[j].any() != 0:\n",
    "                \n",
    "                # remove this row and column\n",
    "                W = np.delete(W, j, 0)\n",
    "                W = np.delete(W, j, 1)\n",
    "            \n",
    "                order.append(old_order[j])\n",
    "                old_order.remove(old_order[j])\n",
    "                \n",
    "                # go to next variable\n",
    "                break\n",
    "        \n",
    "            # if no zero row exist stop\n",
    "            elif i == n - 1:\n",
    "                return False\n",
    "            \n",
    "    return True, order"
   ]
  },
  {
   "cell_type": "code",
   "execution_count": 10,
   "id": "3534eaeb",
   "metadata": {
    "colab": {
     "base_uri": "https://localhost:8080/"
    },
    "id": "3534eaeb",
    "outputId": "f8a8eeec-558a-4c98-ed07-cc281bbf9a3a"
   },
   "outputs": [
    {
     "name": "stdout",
     "output_type": "stream",
     "text": [
      "[[0. 0. 0. 1. 0.]\n",
      " [1. 0. 0. 0. 0.]\n",
      " [0. 0. 1. 0. 0.]\n",
      " [0. 1. 0. 0. 0.]\n",
      " [0. 0. 0. 0. 1.]]\n",
      "[[ 0.    0.06  0.52  0.   -1.41]\n",
      " [ 0.    0.    0.    0.   -0.04]\n",
      " [ 0.    0.93  0.    0.    0.03]\n",
      " [-3.22  0.09  0.62  0.    0.04]\n",
      " [ 0.    0.    0.    0.    0.  ]]\n",
      "[[0. 1. 0. 0. 0.]\n",
      " [0. 0. 0. 1. 0.]\n",
      " [0. 0. 1. 0. 0.]\n",
      " [1. 0. 0. 0. 0.]\n",
      " [0. 0. 0. 0. 1.]]\n",
      "[[ 0.    0.06  0.52  0.   -1.41]\n",
      " [ 0.    0.    0.    0.   -0.04]\n",
      " [ 0.    0.93  0.    0.    0.03]\n",
      " [-3.22  0.09  0.62  0.    0.04]\n",
      " [ 0.    0.    0.    0.    0.  ]]\n"
     ]
    }
   ],
   "source": [
    "order = is_dag(B_true)[1]\n",
    "P_true = np.zeros((p, p))\n",
    "for i in range(p):\n",
    "    P_true[order[-i]][i] = 1\n",
    "\n",
    "print(P_true)\n",
    "print(np.round(k_ols_W(Psi, P_true), 2))\n",
    "\n",
    "order = is_dag(B_true)[1]\n",
    "P = np.zeros((p, p))\n",
    "for i in range(p):\n",
    "    P[i][order[-i]] = 1\n",
    "\n",
    "print(P)\n",
    "print(np.round(ols_W(X, P.T), 2))"
   ]
  },
  {
   "cell_type": "code",
   "execution_count": 11,
   "id": "c3203ce6",
   "metadata": {
    "id": "c3203ce6"
   },
   "outputs": [],
   "source": [
    "def sample_next_P(P):  \n",
    "    # get copy\n",
    "    P_return = P.copy()\n",
    "    \n",
    "    # get the two rows to swap\n",
    "    i, j = np.random.choice(p, 2, replace = False)\n",
    "    \n",
    "    # swap row i and row j\n",
    "    P_return[[i, j]] = P_return[[j, i]]\n",
    "    \n",
    "    # return new sample\n",
    "    return P_return"
   ]
  },
  {
   "cell_type": "code",
   "execution_count": 12,
   "id": "a225c895",
   "metadata": {
    "colab": {
     "base_uri": "https://localhost:8080/"
    },
    "id": "a225c895",
    "outputId": "bbd4fbc1-197d-4c3d-9ebd-4934fd81a29e"
   },
   "outputs": [
    {
     "name": "stdout",
     "output_type": "stream",
     "text": [
      "[[ 0.    0.06  0.52  0.   -1.41]\n",
      " [ 0.    0.    0.    0.   -0.04]\n",
      " [ 0.    0.93  0.    0.    0.03]\n",
      " [-3.22  0.09  0.62  0.    0.04]\n",
      " [ 0.    0.    0.    0.    0.  ]]\n",
      "[[ 0.    0.06  0.52  0.   -1.41]\n",
      " [ 0.    0.    0.    0.   -0.04]\n",
      " [ 0.    0.93  0.    0.    0.03]\n",
      " [-3.22  0.09  0.62  0.    0.04]\n",
      " [ 0.    0.    0.    0.    0.  ]]\n",
      "5.576220410117404\n",
      "5.576220410117404\n"
     ]
    }
   ],
   "source": [
    "def loss(W, X):\n",
    "    return 1 / T * np.linalg.norm(X - X @ W, 'f') ** 2\n",
    "\n",
    "def expected_MSE_X(W):\n",
    "    return np.linalg.inv(np.identity(p) - W).T @ np.linalg.inv(np.identity(p) - W)\n",
    "\n",
    "def true_loss(W_est, W_true):\n",
    "    return np.trace((W_est - np.identity(p)).T @ expected_MSE_X(W_true) @ (W_est- np.identity(p)))\n",
    "\n",
    "def get_likelihood(P):\n",
    "    # get optimal A for this permutation\n",
    "    W_opt = k_ols_W(Psi, P)\n",
    "\n",
    "    # get loss    \n",
    "    return loss(W_opt, X)\n",
    "\n",
    "print(np.round(k_ols_W(np.dot(X.T, X), P_true), 2))\n",
    "print(np.round(ols_W(X, P_true), 2))\n",
    "print(loss(ols_W(X, P_true), X))\n",
    "print(loss(k_ols_W(Psi, P_true), X))"
   ]
  },
  {
   "cell_type": "code",
   "execution_count": 13,
   "id": "377573c1",
   "metadata": {
    "id": "377573c1"
   },
   "outputs": [],
   "source": [
    "L_ols = loss(ols_W_full(X), X)\n",
    "k = 2\n",
    "\n",
    "def acc_prob_reg(L, L_new):\n",
    "    return min(L / L_new, 1)\n",
    "\n",
    "def acc_prob_trans(L, L_new, L_ols = L_ols):\n",
    "    return min((L - L_ols) / (L_new - L_ols), 1)\n",
    "\n",
    "def acc_prob_pow(L, L_new, k = k):\n",
    "    return min((L / L_new) ** k, 1)\n",
    "\n",
    "def acc_prob_trans_pow(L, L_new, k = k, L_ols = L_ols):\n",
    "    return min(((L - L_ols) / (L_new - L_ols)) ** k, 1)\n",
    "\n",
    "def acc_prob_greed(L, L_new, k = k, L_ols = L_ols):\n",
    "    return L_new < L\n",
    "\n",
    "def mcmc(max_it, verbose = False, P = np.identity(p), factor = 1.0, acc_prob = acc_prob_reg, total_time = 1e10):\n",
    "    start = timer()\n",
    "    # smallest likelihood\n",
    "    min_likelihood = 0 # loss(np.linalg.inv(X[:-1].T @ X[:-1]) @ X[:-1].T @ X[1:], X)\n",
    "    \n",
    "    # initial value\n",
    "    likelihood_P = get_likelihood(P) - min_likelihood\n",
    "\n",
    "    # current bests\n",
    "    P_best, L_best = P.copy(), likelihood_P.copy()\n",
    "    \n",
    "    # results\n",
    "    results_likelihood = [L_best]\n",
    "    results_l_iter = []\n",
    "    results_l_transition = []\n",
    "    results_l_next = []\n",
    "    num_missed_edges = []\n",
    "\n",
    "    # transitions\n",
    "    transitions = 0\n",
    "    \n",
    "    for i in tqdm(range(max_it)):   \n",
    "        # check if time has passed\n",
    "        if timer() - start > total_time: \n",
    "            break\n",
    "            \n",
    "        # sample next P\n",
    "        P_prime = sample_next_P(P)\n",
    "    \n",
    "        # compute acceptance probability\n",
    "        likelihood_P_prime = get_likelihood(P_prime)\n",
    "        alpha = acc_prob(likelihood_P, likelihood_P_prime)\n",
    "        \n",
    "        # print results\n",
    "        if verbose:\n",
    "            print(f\"Iteration {i+1}.\\n\")\n",
    "            print(f\"Old P:\\n{P}\\nLikelihood: {round(likelihood_P, 2)}\\n\\nNew P:\\n{P_prime}\\nLikelihood: {round(likelihood_P_prime, 2)}.\")\n",
    "            print(f\"\\nAcceptance probability: {round(alpha, 3)}.\")\n",
    "    \n",
    "        # prepare for next iteration\n",
    "        if np.random.rand() <= alpha:\n",
    "            transitions += 1\n",
    "            P, likelihood_P = P_prime, likelihood_P_prime\n",
    "            results_l_transition.append(likelihood_P_prime)\n",
    "            # save best\n",
    "            if likelihood_P < L_best:\n",
    "                L_best = likelihood_P\n",
    "                P_best = P\n",
    "        \n",
    "        # results\n",
    "        results_l_next.append(likelihood_P_prime)\n",
    "        results_likelihood.append(L_best)\n",
    "        results_l_iter.append(likelihood_P)\n",
    "        check_triu = np.triu(P_best @ P_true.T @ B_true @ P_true @ P_best.T)\n",
    "        num_missed_edges.append(len(check_triu[check_triu != 0]))\n",
    "    \n",
    "    if verbose:\n",
    "        print(transitions)\n",
    "        print(f\"Best permutation:\\n{P_best}\\n\\nLikelihood: {round(L_best, 2)}.\")\n",
    "    return P_best, [results_l_iter, results_likelihood, results_l_transition, results_l_next, num_missed_edges]\n",
    "\n",
    "def rw(max_it, verbose = False, P = np.identity(p), factor = 1.0):\n",
    "    # initial value\n",
    "    likelihood_P = get_likelihood(P)\n",
    "\n",
    "    # current bests\n",
    "    P_best, L_best = P.copy(), likelihood_P.copy()\n",
    "    \n",
    "    # results\n",
    "    results_likelihood = [L_best]\n",
    "    results_l_iter = []\n",
    "    num_missed_edges = []\n",
    "    for i in tqdm(range(max_it)):   \n",
    "        # sample next P\n",
    "        P = sample_next_P(P)\n",
    "    \n",
    "        # compute acceptance probability\n",
    "        likelihood_P = get_likelihood(P)\n",
    "        \n",
    "        # save best\n",
    "        if likelihood_P < L_best:\n",
    "            L_best = likelihood_P\n",
    "            P_best = P\n",
    "                \n",
    "        results_likelihood.append(L_best)\n",
    "        results_l_iter.append(likelihood_P)\n",
    "        check_triu = np.triu(P_best @ P_true.T @ B_true @ P_true @ P_best.T)\n",
    "        num_missed_edges.append(len(check_triu[check_triu != 0]))\n",
    "    \n",
    "    print(f\"Best permutation:\\n{P_best}\\n\\nLikelihood: {round(L_best, 2)}.\")\n",
    "    return P_best, [results_l_iter, results_likelihood, num_missed_edges]"
   ]
  },
  {
   "cell_type": "code",
   "execution_count": 14,
   "id": "176b7230",
   "metadata": {
    "colab": {
     "base_uri": "https://localhost:8080/"
    },
    "id": "176b7230",
    "outputId": "31ee22f2-e56f-4929-d1ba-ee610a950c5a"
   },
   "outputs": [
    {
     "name": "stderr",
     "output_type": "stream",
     "text": [
      "100%|█████████████████████████████████████████████████████████████████████████████████| 50/50 [00:00<00:00, 979.96it/s]\n",
      "100%|████████████████████████████████████████████████████████████████████████████████| 50/50 [00:00<00:00, 1111.27it/s]\n",
      "100%|████████████████████████████████████████████████████████████████████████████████| 50/50 [00:00<00:00, 1020.38it/s]\n",
      "100%|████████████████████████████████████████████████████████████████████████████████| 50/50 [00:00<00:00, 1063.80it/s]\n",
      "  0%|                                                                                           | 0/50 [00:00<?, ?it/s]"
     ]
    },
    {
     "name": "stdout",
     "output_type": "stream",
     "text": [
      "{'fdr': 0.0, 'tpr': 1.0, 'fpr': 0.0, 'shd': 0, 'nnz': 5}\n",
      "{'fdr': 0.0, 'tpr': 1.0, 'fpr': 0.0, 'shd': 0, 'nnz': 5}\n",
      "{'fdr': 0.0, 'tpr': 1.0, 'fpr': 0.0, 'shd': 0, 'nnz': 5}\n",
      "{'fdr': 0.0, 'tpr': 1.0, 'fpr': 0.0, 'shd': 0, 'nnz': 5}\n"
     ]
    },
    {
     "name": "stderr",
     "output_type": "stream",
     "text": [
      "100%|████████████████████████████████████████████████████████████████████████████████| 50/50 [00:00<00:00, 1003.37it/s]\n",
      "100%|█████████████████████████████████████████████████████████████████████████████████| 50/50 [00:00<00:00, 982.02it/s]"
     ]
    },
    {
     "name": "stdout",
     "output_type": "stream",
     "text": [
      "{'fdr': 0.0, 'tpr': 1.0, 'fpr': 0.0, 'shd': 0, 'nnz': 5}\n",
      "Best permutation:\n",
      "[[0. 0. 1. 0. 0.]\n",
      " [0. 0. 0. 1. 0.]\n",
      " [1. 0. 0. 0. 0.]\n",
      " [0. 1. 0. 0. 0.]\n",
      " [0. 0. 0. 0. 1.]]\n",
      "\n",
      "Likelihood: 5.52.\n",
      "{'fdr': 0.2, 'tpr': 0.8, 'fpr': 0.2, 'shd': 1, 'nnz': 5}\n"
     ]
    },
    {
     "name": "stderr",
     "output_type": "stream",
     "text": [
      "\n"
     ]
    }
   ],
   "source": [
    "n_iter = 50\n",
    "np.random.seed(seed = 123)\n",
    "P, r = mcmc(n_iter, False, acc_prob = acc_prob_reg)\n",
    "W_mcmc = ols_W(X, P)\n",
    "W_mcmc[np.abs(W_mcmc) < 0.30] = 0\n",
    "acc = count_accuracy(B_true, W_mcmc != 0)\n",
    "print(acc)\n",
    "\n",
    "np.random.seed(seed = 123)\n",
    "Prt, rt = mcmc(n_iter, False, acc_prob = acc_prob_trans)\n",
    "W_mcmc = ols_W(X, Prt)\n",
    "W_mcmc[np.abs(W_mcmc) < 0.30] = 0\n",
    "acc = count_accuracy(B_true, W_mcmc != 0)\n",
    "print(acc)\n",
    "\n",
    "np.random.seed(seed = 123)\n",
    "Prp, rp = mcmc(n_iter, False, acc_prob = acc_prob_pow)\n",
    "W_mcmc = ols_W(X, Prp)\n",
    "W_mcmc[np.abs(W_mcmc) < 0.30] = 0\n",
    "acc = count_accuracy(B_true, W_mcmc != 0)\n",
    "print(acc)\n",
    "\n",
    "np.random.seed(seed = 123)\n",
    "Prtp, rtp = mcmc(n_iter, False, acc_prob = acc_prob_trans_pow)\n",
    "W_mcmc = ols_W(X, Prtp)\n",
    "W_mcmc[np.abs(W_mcmc) < 0.30] = 0\n",
    "acc = count_accuracy(B_true, W_mcmc != 0)\n",
    "print(acc)\n",
    "\n",
    "np.random.seed(seed = 123)\n",
    "Prtg, rg = mcmc(n_iter, False, acc_prob = acc_prob_greed)\n",
    "W_mcmc = ols_W(X, Prtg)\n",
    "W_mcmc[np.abs(W_mcmc) < 0.30] = 0\n",
    "acc = count_accuracy(B_true, W_mcmc != 0)\n",
    "print(acc)\n",
    "np.random.seed(seed = 123)\n",
    "\n",
    "rwP, rw_l = rw(n_iter, False)\n",
    "W_mcmc = ols_W(X, rwP)\n",
    "W_mcmc[np.abs(W_mcmc) < 0.30] = 0\n",
    "acc = count_accuracy(B_true, W_mcmc != 0)\n",
    "print(acc)"
   ]
  },
  {
   "cell_type": "code",
   "execution_count": 15,
   "id": "eba5fff0",
   "metadata": {
    "colab": {
     "base_uri": "https://localhost:8080/",
     "height": 242
    },
    "id": "eba5fff0",
    "outputId": "0b02d5f6-5f78-47f7-ca3b-9682a9825c15"
   },
   "outputs": [
    {
     "data": {
      "text/plain": [
       "<matplotlib.legend.Legend at 0x169b83fe668>"
      ]
     },
     "execution_count": 15,
     "metadata": {},
     "output_type": "execute_result"
    },
    {
     "data": {
      "image/png": "[encoded data removed]",
      "text/plain": [
       "<Figure size 396x216 with 1 Axes>"
      ]
     },
     "metadata": {
      "needs_background": "light"
     },
     "output_type": "display_data"
    }
   ],
   "source": [
    "fig = plt.figure(figsize = (5.5, 3))\n",
    "plt.xlabel(\"Iteration number\")\n",
    "plt.ylabel(\"Likelihood\")\n",
    "plt.plot(np.array(r[0]), label = \"Metropolis-Hastings\")\n",
    "plt.plot(np.array(rw_l[0]), label = \"Random Walk\")\n",
    "plt.legend()"
   ]
  },
  {
   "cell_type": "code",
   "execution_count": 17,
   "id": "d58e6179",
   "metadata": {
    "colab": {
     "base_uri": "https://localhost:8080/",
     "height": 1000
    },
    "id": "d58e6179",
    "outputId": "8b2a4a5f-3d22-491d-9dac-b8dab228898e"
   },
   "outputs": [
    {
     "name": "stdout",
     "output_type": "stream",
     "text": [
      "Regular MCMC\n",
      "8.870186864796464\n",
      "7.3024796578338504\n",
      "Squared MCMC\n",
      "7.9921642198001175\n",
      "6.754887741082677\n",
      "Translated MCMC\n",
      "7.958280953441836\n",
      "7.297352716555377\n",
      "Squared Translated MCMC\n",
      "6.062479254516877\n",
      "5.522016238167305\n",
      "Greedy MCMC\n",
      "5.6495511220337855\n",
      "5.426152932919197\n",
      "RW\n",
      "12.845627122465324\n",
      "9.407233755330331\n"
     ]
    },
    {
     "data": {
      "image/png": "[encoded data removed]",
      "text/plain": [
       "<Figure size 432x288 with 1 Axes>"
      ]
     },
     "metadata": {
      "needs_background": "light"
     },
     "output_type": "display_data"
    },
    {
     "data": {
      "image/png": "[encoded data removed]",
      "text/plain": [
       "<Figure size 432x288 with 1 Axes>"
      ]
     },
     "metadata": {
      "needs_background": "light"
     },
     "output_type": "display_data"
    },
    {
     "data": {
      "image/png": "[encoded data removed]",
      "text/plain": [
       "<Figure size 432x288 with 1 Axes>"
      ]
     },
     "metadata": {
      "needs_background": "light"
     },
     "output_type": "display_data"
    },
    {
     "data": {
      "image/png": "[encoded data removed]",
      "text/plain": [
       "<Figure size 432x288 with 1 Axes>"
      ]
     },
     "metadata": {
      "needs_background": "light"
     },
     "output_type": "display_data"
    },
    {
     "data": {
      "image/png": "[encoded data removed]",
      "text/plain": [
       "<Figure size 432x288 with 1 Axes>"
      ]
     },
     "metadata": {
      "needs_background": "light"
     },
     "output_type": "display_data"
    },
    {
     "data": {
      "image/png": "[encoded data removed]",
      "text/plain": [
       "<Figure size 432x288 with 1 Axes>"
      ]
     },
     "metadata": {
      "needs_background": "light"
     },
     "output_type": "display_data"
    }
   ],
   "source": [
    "print(\"Regular MCMC\")\n",
    "print(np.mean(np.array(r[0])))\n",
    "print(np.median(np.array(r[0])))\n",
    "\n",
    "print(\"Squared MCMC\")\n",
    "print(np.mean(np.array(rp[0])))\n",
    "print(np.median(np.array(rp[0])))\n",
    "\n",
    "print(\"Translated MCMC\")\n",
    "print(np.mean(np.array(rt[0])))\n",
    "print(np.median(np.array(rt[0])))\n",
    "\n",
    "print(\"Squared Translated MCMC\")\n",
    "print(np.mean(np.array(rtp[0])))\n",
    "print(np.median(np.array(rtp[0])))\n",
    "\n",
    "print(\"Greedy MCMC\")\n",
    "print(np.mean(np.array(rg[0])))\n",
    "print(np.median(np.array(rg[0])))\n",
    "\n",
    "print(\"RW\")\n",
    "print(np.mean(np.array(rw_l[0])))\n",
    "print(np.median(np.array(rw_l[0])))\n",
    "\n",
    "plt.xlabel(\"Iteration number\")\n",
    "plt.ylabel(\"Likelihood\")\n",
    "plt.plot(r[0], label = \"Normal MCMC\")\n",
    "plt.legend()\n",
    "\n",
    "plt.show()\n",
    "plt.plot(rp[0], label = \"Squared MCMC\")\n",
    "plt.legend()\n",
    "\n",
    "plt.show()\n",
    "plt.plot(rt[0], label = \"Translated MCMC\")\n",
    "plt.legend()\n",
    "\n",
    "plt.show()\n",
    "plt.plot(rtp[0], label = \"Squared Translated MCMC\")\n",
    "plt.legend()\n",
    "\n",
    "plt.show()\n",
    "plt.plot(rg[0], label = \"Greedy MCMC\")\n",
    "plt.legend()\n",
    "plt.show()\n",
    "\n",
    "plt.show()\n",
    "plt.plot(rw_l[0], label = \"Random Walk\")\n",
    "plt.legend()\n",
    "plt.show()"
   ]
  },
  {
   "cell_type": "code",
   "execution_count": 18,
   "id": "c04d00fe",
   "metadata": {
    "colab": {
     "base_uri": "https://localhost:8080/",
     "height": 1000
    },
    "id": "c04d00fe",
    "outputId": "d205bb9d-c3e3-4f41-815f-1e0dde43f9ce"
   },
   "outputs": [
    {
     "data": {
      "image/png": "[encoded data removed]",
      "text/plain": [
       "<Figure size 432x288 with 1 Axes>"
      ]
     },
     "metadata": {
      "needs_background": "light"
     },
     "output_type": "display_data"
    },
    {
     "data": {
      "image/png": "[encoded data removed]",
      "text/plain": [
       "<Figure size 432x288 with 1 Axes>"
      ]
     },
     "metadata": {
      "needs_background": "light"
     },
     "output_type": "display_data"
    },
    {
     "data": {
      "image/png": "[encoded data removed]",
      "text/plain": [
       "<Figure size 432x288 with 1 Axes>"
      ]
     },
     "metadata": {
      "needs_background": "light"
     },
     "output_type": "display_data"
    },
    {
     "data": {
      "image/png": "[encoded data removed]",
      "text/plain": [
       "<Figure size 432x288 with 1 Axes>"
      ]
     },
     "metadata": {
      "needs_background": "light"
     },
     "output_type": "display_data"
    },
    {
     "data": {
      "image/png": "[encoded data removed]",
      "text/plain": [
       "<Figure size 432x288 with 1 Axes>"
      ]
     },
     "metadata": {
      "needs_background": "light"
     },
     "output_type": "display_data"
    },
    {
     "data": {
      "image/png": "[encoded data removed]",
      "text/plain": [
       "<Figure size 432x288 with 1 Axes>"
      ]
     },
     "metadata": {
      "needs_background": "light"
     },
     "output_type": "display_data"
    }
   ],
   "source": [
    "plt.xlabel(\"Iteration number\")\n",
    "plt.ylabel(\"Likelihood\")\n",
    "plt.plot(r[1], label = \"Normal MCMC\")\n",
    "plt.legend()\n",
    "\n",
    "plt.show()\n",
    "plt.plot(rp[1], label = \"Squared MCMC\")\n",
    "plt.legend()\n",
    "\n",
    "plt.show()\n",
    "plt.plot(rt[1], label = \"Translated MCMC\")\n",
    "plt.legend()\n",
    "\n",
    "plt.show()\n",
    "plt.plot(rtp[1], label = \"Squared Translated MCMC\")\n",
    "plt.legend()\n",
    "\n",
    "plt.show()\n",
    "plt.plot(rg[1], label = \"Greedy MCMC\")\n",
    "plt.legend()\n",
    "plt.show()\n",
    "\n",
    "plt.show()\n",
    "plt.plot(rw_l[1], label = \"Random Walk\")\n",
    "plt.legend()\n",
    "plt.show()"
   ]
  },
  {
   "cell_type": "code",
   "execution_count": 20,
   "id": "59eee496",
   "metadata": {
    "colab": {
     "base_uri": "https://localhost:8080/",
     "height": 432
    },
    "id": "59eee496",
    "outputId": "93618797-5e25-4eda-992f-8f8462f5c186"
   },
   "outputs": [
    {
     "name": "stderr",
     "output_type": "stream",
     "text": [
      "100%|█████████████████████████████████████████████████████████████████████████████| 120/120 [00:00<00:00, 11910.28it/s]\n"
     ]
    },
    {
     "data": {
      "text/plain": [
       "3"
      ]
     },
     "execution_count": 20,
     "metadata": {},
     "output_type": "execute_result"
    }
   ],
   "source": [
    "import itertools\n",
    "\n",
    "def get_permutations(W):\n",
    "    \"\"\"@params: Weighted Adjacency Matrix W as numpy array\"\"\"\n",
    "    # tracks the total number of permutations\n",
    "    total = 0\n",
    "    \n",
    "    # iterate over all permutations of the identity matrix\n",
    "    for perm in tqdm(itertools.permutations(np.identity(np.shape(W)[0])), total = np.math.factorial(p)):\n",
    "        # convert to numpy array\n",
    "        P = np.array(perm)\n",
    "        \n",
    "        # check if we have an upper triangular matrix\n",
    "        if np.allclose(P.T @ W @ P, np.triu(P.T @ W @ P)):\n",
    "            total += 1\n",
    "            \n",
    "    # return the number of suitable permutations\n",
    "    return total\n",
    "\n",
    "get_permutations(W_true)"
   ]
  },
  {
   "cell_type": "code",
   "execution_count": 21,
   "id": "3c8a0660",
   "metadata": {
    "colab": {
     "base_uri": "https://localhost:8080/"
    },
    "id": "3c8a0660",
    "outputId": "8f8b8325-7a65-482a-d660-432ddf189145"
   },
   "outputs": [
    {
     "name": "stdout",
     "output_type": "stream",
     "text": [
      "SEM based on a graph on 5 nodes and 5 edges, 100 samples.\n",
      "Original Adjacency Matrix:\n",
      "[[0. 0. 0. 0. 0.]\n",
      " [1. 0. 0. 1. 0.]\n",
      " [1. 0. 0. 0. 0.]\n",
      " [0. 0. 0. 0. 0.]\n",
      " [1. 0. 0. 1. 0.]].\n",
      "\n",
      "Original WAM:\n",
      "[[ 0.   0.   0.   0.   0. ]\n",
      " [-1.3  0.   0.  -1.9  0. ]\n",
      " [ 1.9  0.   0.   0.   0. ]\n",
      " [ 0.   0.   0.   0.   0. ]\n",
      " [ 1.2  0.   0.  -1.2  0. ]].\n",
      "\n",
      "0123456"
     ]
    },
    {
     "name": "stderr",
     "output_type": "stream",
     "text": [
      " 65%|████████████████████████████████████████████████████▏                           | 92/141 [00:00<00:00, 916.78it/s]"
     ]
    },
    {
     "name": "stdout",
     "output_type": "stream",
     "text": [
      "7Estimated WAM:\n",
      "[[ 0.   0.   0.   0.   0. ]\n",
      " [-1.7  0.   0.  -1.9  0. ]\n",
      " [ 1.7  0.   0.   0.   0. ]\n",
      " [ 0.   0.   0.   0.   0. ]\n",
      " [ 1.2  0.   0.  -1.2  0. ]].\n",
      "\n",
      "{'fdr': 0.0, 'tpr': 1.0, 'fpr': 0.0, 'shd': 0, 'nnz': 5}\n",
      "4.6925424620195555\n",
      "Elapsed time: 1.42.\n"
     ]
    },
    {
     "name": "stderr",
     "output_type": "stream",
     "text": [
      "\r",
      "100%|███████████████████████████████████████████████████████████████████████████████| 141/141 [00:00<00:00, 912.29it/s]"
     ]
    },
    {
     "name": "stdout",
     "output_type": "stream",
     "text": [
      "{'fdr': 0.0, 'tpr': 1.0, 'fpr': 0.0, 'shd': 0, 'nnz': 5}\n"
     ]
    },
    {
     "name": "stderr",
     "output_type": "stream",
     "text": [
      "\n"
     ]
    }
   ],
   "source": [
    "# notears versus MCMC greedy\n",
    "T, p, s0, graph_type, sem_type = 100, 5, 5, 'ER', 'gauss'\n",
    "print(f\"SEM based on a graph on {p} nodes and {s0} edges, {T} samples.\")\n",
    "\n",
    "B_true = simulate_dag(p, s0, graph_type)\n",
    "print(f\"Original Adjacency Matrix:\\n{B_true}.\\n\")\n",
    "\n",
    "W_true = simulate_parameter(B_true)\n",
    "print(f\"Original WAM:\\n{np.round(W_true, 1)}.\\n\")\n",
    "\n",
    "X = simulate_linear_sem(W_true, T, sem_type)\n",
    "Psi = np.dot(X.T, X)\n",
    "\n",
    "start = timer()\n",
    "W_est, h_val = notears_linear(X, lambda1=0.0, loss_type='l2', verbose = False)\n",
    "print(f\"Estimated WAM:\\n{np.round(W_est, 1)}.\\n\")\n",
    "\n",
    "acc = count_accuracy(B_true, W_est != 0)\n",
    "print(acc)\n",
    "print(loss(W_est, X))\n",
    "total_time = timer() - start\n",
    "print(f\"Elapsed time: {round(total_time, 2)}.\")\n",
    "order = is_dag(B_true)[1]\n",
    "P_true = np.zeros((p, p))\n",
    "for i in range(p):\n",
    "    P_true[order[-i]][i] = 1\n",
    "    \n",
    "np.random.seed(seed = 123)\n",
    "iters = int(100 * total_time)\n",
    "Prtg, rg = mcmc(iters, False, acc_prob = acc_prob_greed, P = np.identity(p))\n",
    "W_mcmc = ols_W(X, Prtg)\n",
    "W_mcmc[np.abs(W_mcmc) < 0.30] = 0\n",
    "acc = count_accuracy(B_true, W_mcmc != 0)\n",
    "print(acc)"
   ]
  },
  {
   "cell_type": "code",
   "execution_count": null,
   "id": "54ee8194",
   "metadata": {
    "colab": {
     "base_uri": "https://localhost:8080/"
    },
    "id": "54ee8194",
    "outputId": "9c32b50c-da8a-480f-e9dd-149892a34e52"
   },
   "outputs": [
    {
     "metadata": {
      "tags": null
     },
     "name": "stdout",
     "output_type": "stream",
     "text": [
      "p: 40.\n",
      "\n",
      "01234567Elapsed time 281.51 seconds.\n"
     ]
    },
    {
     "metadata": {
      "tags": null
     },
     "name": "stderr",
     "output_type": "stream",
     "text": [
      "  0%|          | 76824/10000000000 [04:41<10178:27:40, 272.91it/s]\n"
     ]
    },
    {
     "metadata": {
      "tags": null
     },
     "name": "stdout",
     "output_type": "stream",
     "text": [
      "01234567Elapsed time 209.99 seconds.\n"
     ]
    },
    {
     "metadata": {
      "tags": null
     },
     "name": "stderr",
     "output_type": "stream",
     "text": [
      "  0%|          | 56972/10000000000 [03:29<10238:00:31, 271.32it/s]\n"
     ]
    },
    {
     "metadata": {
      "tags": null
     },
     "name": "stdout",
     "output_type": "stream",
     "text": [
      "0123456789Elapsed time 155.04 seconds.\n"
     ]
    },
    {
     "metadata": {
      "tags": null
     },
     "name": "stderr",
     "output_type": "stream",
     "text": [
      "  0%|          | 42459/10000000000 [02:35<10142:53:02, 273.86it/s]\n"
     ]
    },
    {
     "metadata": {
      "tags": null
     },
     "name": "stdout",
     "output_type": "stream",
     "text": [
      "012345678Elapsed time 288.41 seconds.\n"
     ]
    },
    {
     "metadata": {
      "tags": null
     },
     "name": "stderr",
     "output_type": "stream",
     "text": [
      "  0%|          | 78214/10000000000 [04:48<10242:35:18, 271.20it/s]\n"
     ]
    },
    {
     "metadata": {
      "tags": null
     },
     "name": "stdout",
     "output_type": "stream",
     "text": [
      "01234567Elapsed time 195.22 seconds.\n"
     ]
    },
    {
     "metadata": {
      "tags": null
     },
     "name": "stderr",
     "output_type": "stream",
     "text": [
      "  0%|          | 53298/10000000000 [03:15<10174:13:35, 273.02it/s]\n"
     ]
    },
    {
     "metadata": {
      "tags": null
     },
     "name": "stdout",
     "output_type": "stream",
     "text": [
      "0123456789Elapsed time 430.24 seconds.\n"
     ]
    },
    {
     "metadata": {
      "tags": null
     },
     "name": "stderr",
     "output_type": "stream",
     "text": [
      "  0%|          | 115688/10000000000 [07:10<10330:17:32, 268.89it/s]\n"
     ]
    },
    {
     "metadata": {
      "tags": null
     },
     "name": "stdout",
     "output_type": "stream",
     "text": [
      "012345678Elapsed time 155.53 seconds.\n"
     ]
    },
    {
     "metadata": {
      "tags": null
     },
     "name": "stderr",
     "output_type": "stream",
     "text": [
      "  0%|          | 42499/10000000000 [02:35<10165:30:38, 273.25it/s]\n"
     ]
    },
    {
     "metadata": {
      "tags": null
     },
     "name": "stdout",
     "output_type": "stream",
     "text": [
      "012345678Elapsed time 191.02 seconds.\n"
     ]
    },
    {
     "metadata": {
      "tags": null
     },
     "name": "stderr",
     "output_type": "stream",
     "text": [
      "  0%|          | 50565/10000000000 [03:11<10493:11:40, 264.72it/s]\n"
     ]
    },
    {
     "metadata": {
      "tags": null
     },
     "name": "stdout",
     "output_type": "stream",
     "text": [
      "012345678Elapsed time 205.24 seconds.\n"
     ]
    },
    {
     "metadata": {
      "tags": null
     },
     "name": "stderr",
     "output_type": "stream",
     "text": [
      "  0%|          | 56110/10000000000 [03:25<10160:25:30, 273.39it/s]\n"
     ]
    },
    {
     "metadata": {
      "tags": null
     },
     "name": "stdout",
     "output_type": "stream",
     "text": [
      "012345678Elapsed time 79.26 seconds.\n"
     ]
    },
    {
     "metadata": {
      "tags": null
     },
     "name": "stderr",
     "output_type": "stream",
     "text": [
      "  0%|          | 21614/10000000000 [01:19<10185:26:27, 272.72it/s]\n"
     ]
    },
    {
     "metadata": {
      "tags": null
     },
     "name": "stdout",
     "output_type": "stream",
     "text": [
      "[[0.975, 0.9375, 0.9875, 0.9625, 1.0, 0.925, 1.0, 0.9625, 0.9625, 0.9875], [0.11363636363636363, 0.2647058823529412, 0.07058823529411765, 0.26666666666666666, 0.058823529411764705, 0.18681318681318682, 0.0, 0.04938271604938271, 0.09411764705882353, 0.05952380952380952], [10, 29, 6, 28, 5, 23, 0, 5, 9, 5], [0.014285714285714285, 0.03857142857142857, 0.008571428571428572, 0.04, 0.007142857142857143, 0.024285714285714285, 0.0, 0.005714285714285714, 0.011428571428571429, 0.007142857142857143], [42.08673495745681, 194.4982313449683, 41.11729679517961, 62.7120210267188, 65.17123431827527, 75.17514677143176, 41.26737773631817, 45.446429829315775, 41.94972338638117, 40.31983709278204], [42.2212404617269, 192.8809967280092, 41.47848900546211, 64.51756656535801, 66.45036965546129, 76.44339585345685, 41.425876610950496, 45.81449807942889, 41.99962870438455, 40.78019857579902]]\n",
      "[[1.0, 1.0, 1.0, 1.0, 1.0, 1.0, 1.0, 1.0, 1.0, 1.0], [0.0, 0.0, 0.0, 0.0, 0.012345679012345678, 0.012345679012345678, 0.0, 0.0, 0.0, 0.0], [0, 0, 0, 0, 1, 1, 0, 0, 0, 0], [0.0, 0.0, 0.0, 0.0, 0.0014285714285714286, 0.0014285714285714286, 0.0, 0.0, 0.0, 0.0], [42.229698588227706, 41.448144512359555, 41.12797923679283, 63.53390398174647, 43.797771138401465, 42.6080972468156, 41.251088245157256, 41.128958230367026, 41.27828013768112, 40.25783462518731], [42.404180624802606, 42.28844641879557, 41.429359570054004, 65.09701612159748, 44.115698779798194, 43.31174600880463, 41.476795329112534, 41.56425535302377, 41.296299148037704, 40.74344006575417]]\n",
      "[[0.9625, 0.95, 0.9625, 0.8625, 0.95, 0.8875, 0.9125, 0.8625, 0.875, 0.95], [0.07228915662650602, 0.13636363636363635, 0.1348314606741573, 0.28865979381443296, 0.19148936170212766, 0.3486238532110092, 0.23958333333333334, 0.26595744680851063, 0.2708333333333333, 0.12643678160919541], [7, 13, 13, 34, 20, 40, 25, 32, 30, 12], [0.008571428571428572, 0.017142857142857144, 0.017142857142857144, 0.04, 0.025714285714285714, 0.054285714285714284, 0.032857142857142856, 0.03571428571428571, 0.037142857142857144, 0.015714285714285715], [44.26538753447594, 44.15385417388525, 42.144988793222694, 162.05188927551683, 64.69489763024117, 66.58356882021417, 48.88877194934357, 55.25287906418443, 45.780543430066665, 41.05482313682391], [44.50771679769599, 45.06548734400188, 42.527321104811385, 168.40832392581177, 65.51509002472962, 68.12731941451013, 48.72810949880378, 56.14522899023094, 45.72848426413515, 41.50079094712027]]\n",
      "p: 50.\n",
      "\n",
      "0123456789Elapsed time 754.91 seconds.\n"
     ]
    },
    {
     "metadata": {
      "tags": null
     },
     "name": "stderr",
     "output_type": "stream",
     "text": [
      "  0%|          | 139482/10000000000 [12:34<15033:30:06, 184.77it/s]\n"
     ]
    },
    {
     "metadata": {
      "tags": null
     },
     "name": "stdout",
     "output_type": "stream",
     "text": [
      "0123456789Elapsed time 519.83 seconds.\n"
     ]
    },
    {
     "metadata": {
      "tags": null
     },
     "name": "stderr",
     "output_type": "stream",
     "text": [
      "  0%|          | 96506/10000000000 [08:39<14961:58:22, 185.65it/s]\n"
     ]
    },
    {
     "metadata": {
      "tags": null
     },
     "name": "stdout",
     "output_type": "stream",
     "text": [
      "012345678Elapsed time 525.03 seconds.\n"
     ]
    },
    {
     "metadata": {
      "tags": null
     },
     "name": "stderr",
     "output_type": "stream",
     "text": [
      "  0%|          | 98431/10000000000 [08:45<14816:15:02, 187.48it/s]\n"
     ]
    },
    {
     "metadata": {
      "tags": null
     },
     "name": "stdout",
     "output_type": "stream",
     "text": [
      "0123456789Elapsed time 412.82 seconds.\n"
     ]
    },
    {
     "metadata": {
      "tags": null
     },
     "name": "stderr",
     "output_type": "stream",
     "text": [
      "  0%|          | 76200/10000000000 [06:52<15048:30:23, 184.59it/s]\n"
     ]
    },
    {
     "metadata": {
      "tags": null
     },
     "name": "stdout",
     "output_type": "stream",
     "text": [
      "01234567Elapsed time 173.24 seconds.\n"
     ]
    },
    {
     "metadata": {
      "tags": null
     },
     "name": "stderr",
     "output_type": "stream",
     "text": [
      "  0%|          | 32222/10000000000 [02:53<14934:10:37, 186.00it/s]\n"
     ]
    },
    {
     "metadata": {
      "tags": null
     },
     "name": "stdout",
     "output_type": "stream",
     "text": [
      "012345678Elapsed time 409.69 seconds.\n"
     ]
    },
    {
     "metadata": {
      "tags": null
     },
     "name": "stderr",
     "output_type": "stream",
     "text": [
      "  0%|          | 75782/10000000000 [06:49<15016:48:02, 184.98it/s]\n"
     ]
    },
    {
     "metadata": {
      "tags": null
     },
     "name": "stdout",
     "output_type": "stream",
     "text": [
      "0123456789Elapsed time 696.23 seconds.\n"
     ]
    },
    {
     "metadata": {
      "tags": null
     },
     "name": "stderr",
     "output_type": "stream",
     "text": [
      "  0%|          | 128939/10000000000 [11:36<14998:49:17, 185.20it/s]\n"
     ]
    },
    {
     "metadata": {
      "tags": null
     },
     "name": "stdout",
     "output_type": "stream",
     "text": [
      "01234567Elapsed time 274.89 seconds.\n"
     ]
    },
    {
     "metadata": {
      "tags": null
     },
     "name": "stderr",
     "output_type": "stream",
     "text": [
      "  0%|          | 50958/10000000000 [04:34<14984:04:20, 185.38it/s]\n"
     ]
    },
    {
     "metadata": {
      "tags": null
     },
     "name": "stdout",
     "output_type": "stream",
     "text": [
      "0123456789Elapsed time 751.04 seconds.\n"
     ]
    },
    {
     "metadata": {
      "tags": null
     },
     "name": "stderr",
     "output_type": "stream",
     "text": [
      "  0%|          | 139337/10000000000 [12:31<14972:07:40, 185.53it/s]\n"
     ]
    },
    {
     "metadata": {
      "tags": null
     },
     "name": "stdout",
     "output_type": "stream",
     "text": [
      "012345678Elapsed time 465.4 seconds.\n"
     ]
    },
    {
     "metadata": {
      "tags": null
     },
     "name": "stderr",
     "output_type": "stream",
     "text": [
      "  0%|          | 85883/10000000000 [07:45<15052:28:34, 184.54it/s]\n"
     ]
    },
    {
     "metadata": {
      "tags": null
     },
     "name": "stdout",
     "output_type": "stream",
     "text": [
      "[[0.89, 0.93, 0.92, 0.96, 1.0, 0.92, 0.83, 0.97, 0.93, 0.96], [0.28225806451612906, 0.211864406779661, 0.12380952380952381, 0.1111111111111111, 0.009900990099009901, 0.10679611650485436, 0.39416058394160586, 0.0761904761904762, 0.19827586206896552, 0.04950495049504951], [43, 29, 18, 15, 1, 15, 68, 8, 30, 9], [0.03111111111111111, 0.022222222222222223, 0.011555555555555555, 0.010666666666666666, 0.0008888888888888889, 0.009777777777777778, 0.048, 0.0071111111111111115, 0.020444444444444446, 0.0044444444444444444], [295.19358052534903, 186.5235258397808, 249.33573118045803, 83.21068665946332, 51.971319915998144, 62.24639422087135, 191.30694451550457, 51.294049064412455, 169.80591252313957, 114.75577197522401], [284.6286129464129, 185.80682523793783, 238.9147614889769, 86.47187295707622, 52.43461289092847, 63.01672486765838, 191.71650641346326, 52.44426522697468, 168.01200435339723, 115.16074401135907]]\n",
      "[[1.0, 1.0, 1.0, 1.0, 1.0, 1.0, 1.0, 1.0, 1.0, 1.0], [0.0196078431372549, 0.0, 0.009900990099009901, 0.009900990099009901, 0.0, 0.0, 0.0196078431372549, 0.009900990099009901, 0.0, 0.009900990099009901], [2, 0, 1, 1, 0, 0, 2, 1, 0, 1], [0.0017777777777777779, 0.0, 0.0008888888888888889, 0.0008888888888888889, 0.0, 0.0, 0.0017777777777777779, 0.0008888888888888889, 0.0, 0.0008888888888888889], [68.17028133157143, 53.107609972901464, 56.751558661174684, 52.07665624177255, 52.7379273735079, 54.52565268034447, 52.59597211470489, 50.10245045330307, 56.086209403809505, 57.42608990084053], [67.79629866384003, 53.19427892425898, 56.75488400500085, 52.624081972180264, 53.215024319588046, 55.04842035946922, 53.24588463039964, 51.23621723467505, 56.075465065181334, 57.5258932149524]]\n",
      "[[0.77, 1.0, 0.85, 0.97, 0.96, 0.98, 0.86, 0.92, 0.97, 0.91], [0.48322147651006714, 0.0, 0.41379310344827586, 0.11818181818181818, 0.11926605504587157, 0.02, 0.36764705882352944, 0.3611111111111111, 0.11818181818181818, 0.21551724137931033], [88, 0, 68, 13, 13, 3, 55, 54, 15, 29], [0.064, 0.0, 0.05333333333333334, 0.011555555555555555, 0.011555555555555555, 0.0017777777777777779, 0.044444444444444446, 0.04622222222222222, 0.011555555555555555, 0.022222222222222223], [1089.013351098547, 54.307018915543345, 322.3131685167058, 52.78371256303693, 53.2415873317156, 54.43619489948849, 61.33139197093153, 59.13109807294405, 65.18140579719503, 67.66299650305174], [1050.624848330155, 54.36307752048149, 310.8361936583472, 53.16241811895959, 53.766546029706625, 54.987382859207294, 62.297765252049025, 60.84193269576662, 65.17774400558248, 67.43153262975132]]\n",
      "p: 75.\n",
      "\n",
      "012345678Elapsed time 1418.84 seconds.\n"
     ]
    },
    {
     "name": "stderr",
     "output_type": "stream",
     "text": [
      "  0%|          | 120295/10000000000 [23:38<32762:25:50, 84.78it/s]\n"
     ]
    },
    {
     "name": "stdout",
     "output_type": "stream",
     "text": [
      "01234567Elapsed time 739.2 seconds.\n"
     ]
    },
    {
     "name": "stderr",
     "output_type": "stream",
     "text": [
      "  0%|          | 62604/10000000000 [12:19<32798:33:36, 84.69it/s]\n"
     ]
    },
    {
     "name": "stdout",
     "output_type": "stream",
     "text": [
      "012345678Elapsed time 1084.54 seconds.\n"
     ]
    },
    {
     "name": "stderr",
     "output_type": "stream",
     "text": [
      "  0%|          | 92181/10000000000 [18:04<32681:10:52, 85.00it/s]\n"
     ]
    },
    {
     "name": "stdout",
     "output_type": "stream",
     "text": [
      "012345678Elapsed time 550.88 seconds.\n"
     ]
    },
    {
     "name": "stderr",
     "output_type": "stream",
     "text": [
      "  0%|          | 46818/10000000000 [09:10<32683:22:52, 84.99it/s]\n"
     ]
    },
    {
     "name": "stdout",
     "output_type": "stream",
     "text": [
      "0123456789Elapsed time 1330.34 seconds.\n"
     ]
    },
    {
     "name": "stderr",
     "output_type": "stream",
     "text": [
      "  0%|          | 112247/10000000000 [22:10<32921:24:29, 84.38it/s]\n"
     ]
    },
    {
     "name": "stdout",
     "output_type": "stream",
     "text": [
      "012345678Elapsed time 1074.26 seconds.\n"
     ]
    },
    {
     "name": "stderr",
     "output_type": "stream",
     "text": [
      "  0%|          | 91383/10000000000 [17:54<32653:43:54, 85.07it/s]\n"
     ]
    },
    {
     "name": "stdout",
     "output_type": "stream",
     "text": [
      "01234567Elapsed time 879.5 seconds.\n"
     ]
    },
    {
     "name": "stderr",
     "output_type": "stream",
     "text": [
      "  0%|          | 73560/10000000000 [14:39<33211:26:39, 83.64it/s]\n"
     ]
    },
    {
     "name": "stdout",
     "output_type": "stream",
     "text": [
      "0123456789Elapsed time 1213.05 seconds.\n"
     ]
    },
    {
     "name": "stderr",
     "output_type": "stream",
     "text": [
      "  0%|          | 102272/10000000000 [20:13<32946:48:59, 84.31it/s]\n"
     ]
    },
    {
     "name": "stdout",
     "output_type": "stream",
     "text": [
      "012345678Elapsed time 1402.05 seconds.\n"
     ]
    },
    {
     "name": "stderr",
     "output_type": "stream",
     "text": [
      "  0%|          | 118512/10000000000 [23:22<32861:37:33, 84.53it/s]\n"
     ]
    },
    {
     "name": "stdout",
     "output_type": "stream",
     "text": [
      "0123456789Elapsed time 1262.55 seconds.\n"
     ]
    },
    {
     "name": "stderr",
     "output_type": "stream",
     "text": [
      "  0%|          | 107410/10000000000 [21:02<32650:24:48, 85.08it/s]\n"
     ]
    },
    {
     "name": "stdout",
     "output_type": "stream",
     "text": [
      "[[0.9733333333333334, 0.96, 0.94, 0.9733333333333334, 0.9333333333333333, 0.96, 0.92, 0.9933333333333333, 0.9333333333333333, 0.96], [0.09316770186335403, 0.1377245508982036, 0.16568047337278108, 0.08176100628930817, 0.20454545454545456, 0.15294117647058825, 0.21142857142857144, 0.050955414012738856, 0.1566265060240964, 0.2], [16, 26, 35, 14, 41, 29, 44, 8, 31, 41], [0.005714285714285714, 0.008761904761904762, 0.010666666666666666, 0.004952380952380952, 0.013714285714285714, 0.009904761904761904, 0.014095238095238095, 0.0030476190476190477, 0.009904761904761904, 0.013714285714285714], [105.22319700205853, 95.8195377335409, 381.1297693147649, 84.36513737247438, 192.21041692258999, 124.382275014226, 204.77788840255485, 78.21735835220747, 132.96558824776298, 239.1455572569935], [104.8556598587322, 97.00079077588151, 393.2701936534739, 85.06638306902086, 189.53914574599747, 125.25474862299343, 205.3499852786359, 77.71714171923776, 135.29436311744828, 227.01778430692343]]\n",
      "[[1.0, 1.0, 1.0, 1.0, 1.0, 1.0, 1.0, 1.0, 1.0, 1.0], [0.006622516556291391, 0.013157894736842105, 0.006622516556291391, 0.0, 0.0, 0.006622516556291391, 0.0, 0.0, 0.0, 0.0], [1, 2, 1, 0, 0, 1, 0, 0, 0, 0], [0.00038095238095238096, 0.0007619047619047619, 0.00038095238095238096, 0.0, 0.0, 0.00038095238095238096, 0.0, 0.0, 0.0, 0.0], [80.1847849045075, 79.65945895581213, 84.48813379276476, 78.80061368110785, 81.40796852485275, 77.82455437624803, 79.09189916959456, 77.02787046615288, 80.2412183216382, 84.6634940131832], [80.59159488134416, 80.36062229314479, 84.31286117329276, 79.48391026551555, 81.95545101502914, 78.53490296106605, 79.2928248887951, 76.59884311728877, 80.53714104333191, 84.55105559076458]]\n",
      "[[0.9466666666666667, 0.9466666666666667, 0.96, 0.9533333333333334, 0.9066666666666666, 0.9066666666666666, 0.98, 0.9733333333333334, 0.9466666666666667, 0.9533333333333334], [0.18857142857142858, 0.30392156862745096, 0.13253012048192772, 0.08917197452229299, 0.31313131313131315, 0.30256410256410254, 0.08125, 0.12048192771084337, 0.1839080459770115, 0.1588235294117647], [37, 66, 22, 17, 70, 65, 14, 21, 34, 31], [0.012571428571428572, 0.02361904761904762, 0.008380952380952381, 0.005333333333333333, 0.02361904761904762, 0.022476190476190476, 0.004952380952380952, 0.007619047619047619, 0.01219047619047619, 0.010285714285714285], [85.29848850676484, 170.2839747001005, 92.37189205418753, 82.70710793982268, 203.98569809819037, 89.33168413796693, 81.56682203372657, 77.86389814913329, 89.43337602751083, 140.0355541659812], [85.86046894458147, 170.38346738207346, 92.99870181265149, 83.31457696253305, 199.51413959185618, 90.10079894922272, 81.80792142120296, 77.54197327781216, 90.69078051473062, 135.35796587106492]]\n",
      "p: 100.\n",
      "\n",
      "0123456789Elapsed time 2307.06 seconds.\n"
     ]
    },
    {
     "name": "stderr",
     "output_type": "stream",
     "text": [
      "  0%|          | 104733/10000000000 [38:27<61188:04:25, 45.40it/s]\n"
     ]
    },
    {
     "name": "stdout",
     "output_type": "stream",
     "text": [
      "012345678Elapsed time 2352.64 seconds.\n"
     ]
    },
    {
     "name": "stderr",
     "output_type": "stream",
     "text": [
      "  0%|          | 104794/10000000000 [39:12<62360:42:25, 44.54it/s]\n"
     ]
    },
    {
     "name": "stdout",
     "output_type": "stream",
     "text": [
      "0123456789Elapsed time 2078.83 seconds.\n"
     ]
    },
    {
     "name": "stderr",
     "output_type": "stream",
     "text": [
      "  0%|          | 92958/10000000000 [34:38<62118:40:35, 44.72it/s]\n"
     ]
    },
    {
     "name": "stdout",
     "output_type": "stream",
     "text": [
      "012345678Elapsed time 1740.05 seconds.\n"
     ]
    },
    {
     "name": "stderr",
     "output_type": "stream",
     "text": [
      "  0%|          | 77914/10000000000 [29:00<62035:08:33, 44.78it/s]\n"
     ]
    },
    {
     "name": "stdout",
     "output_type": "stream",
     "text": [
      "0123456789Elapsed time 2443.89 seconds.\n"
     ]
    },
    {
     "name": "stderr",
     "output_type": "stream",
     "text": [
      "  0%|          | 109551/10000000000 [40:43<61965:51:29, 44.83it/s]\n"
     ]
    },
    {
     "name": "stdout",
     "output_type": "stream",
     "text": [
      "012345678Elapsed time 1942.38 seconds.\n"
     ]
    },
    {
     "name": "stderr",
     "output_type": "stream",
     "text": [
      "  0%|          | 85107/10000000000 [32:22<63395:19:12, 43.82it/s]\n"
     ]
    },
    {
     "name": "stdout",
     "output_type": "stream",
     "text": [
      "0123456789Elapsed time 2144.96 seconds.\n"
     ]
    },
    {
     "name": "stderr",
     "output_type": "stream",
     "text": [
      "  0%|          | 95037/10000000000 [35:44<62692:48:33, 44.31it/s]\n"
     ]
    },
    {
     "name": "stdout",
     "output_type": "stream",
     "text": [
      "012345678Elapsed time 2153.93 seconds.\n"
     ]
    },
    {
     "name": "stderr",
     "output_type": "stream",
     "text": [
      "  0%|          | 95254/10000000000 [35:53<62811:31:37, 44.22it/s]\n"
     ]
    },
    {
     "name": "stdout",
     "output_type": "stream",
     "text": [
      "0123456789Elapsed time 2013.99 seconds.\n"
     ]
    },
    {
     "name": "stderr",
     "output_type": "stream",
     "text": [
      "  0%|          | 90243/10000000000 [33:33<61991:41:04, 44.81it/s]\n"
     ]
    },
    {
     "name": "stdout",
     "output_type": "stream",
     "text": [
      "0123456789Elapsed time 2390.88 seconds.\n"
     ]
    },
    {
     "name": "stderr",
     "output_type": "stream",
     "text": [
      "  0%|          | 105498/10000000000 [39:50<62951:30:55, 44.13it/s]\n"
     ]
    },
    {
     "name": "stdout",
     "output_type": "stream",
     "text": [
      "[[0.95, 0.93, 0.95, 0.97, 0.95, 0.96, 0.905, 0.92, 0.935, 0.92], [0.14798206278026907, 0.20512820512820512, 0.15178571428571427, 0.0673076923076923, 0.1703056768558952, 0.1759656652360515, 0.22317596566523606, 0.24279835390946503, 0.242914979757085, 0.2784313725490196], [40, 61, 42, 15, 47, 44, 64, 72, 68, 86], [0.006947368421052632, 0.010105263157894737, 0.007157894736842105, 0.0029473684210526317, 0.008210526315789474, 0.00863157894736842, 0.010947368421052631, 0.012421052631578947, 0.01263157894736842, 0.014947368421052631], [241.4965449932976, 430.2764010009957, 316.58359437244656, 112.87221625641202, 229.38235703535946, 222.49821408536164, 640.5380591713706, 246.634479505169, 271.39099499046097, 452.67945710133677], [240.0694029758289, 433.68564497876497, 320.242006016483, 114.17664851124141, 223.54370445208488, 225.86023348804534, 642.6789431990222, 253.21202603831014, 265.70721901158066, 459.76652950756085]]\n",
      "[[1.0, 1.0, 0.995, 1.0, 1.0, 1.0, 1.0, 1.0, 1.0, 1.0], [0.009900990099009901, 0.014778325123152709, 0.02926829268292683, 0.024390243902439025, 0.0430622009569378, 0.004975124378109453, 0.014778325123152709, 0.024390243902439025, 0.0, 0.024390243902439025], [2, 3, 7, 5, 9, 1, 3, 5, 0, 5], [0.0004210526315789474, 0.0006315789473684211, 0.0012631578947368421, 0.0010526315789473684, 0.001894736842105263, 0.0002105263157894737, 0.0006315789473684211, 0.0010526315789473684, 0.0, 0.0010526315789473684], [109.67799608875323, 106.3688703537428, 119.908084889568, 108.02699318125484, 108.92217154258553, 103.86624716968785, 116.4576699639139, 107.26219597899549, 106.17873730189447, 112.77946265343202], [110.03379803165035, 107.00267482765878, 121.53454643452923, 109.20795786749838, 108.71202069792048, 103.79680534719465, 116.82790289298956, 108.56833351601921, 106.63417327227233, 112.61895407283541]]\n",
      "[[0.99, 0.95, 0.955, 0.955, 0.96, 0.99, 0.965, 0.94, 0.97, 0.985], [0.07476635514018691, 0.20502092050209206, 0.1940928270042194, 0.13963963963963963, 0.12727272727272726, 0.05714285714285714, 0.18220338983050846, 0.2033898305084746, 0.13777777777777778, 0.1085972850678733], [16, 54, 49, 33, 32, 12, 44, 53, 32, 26], [0.003368421052631579, 0.01031578947368421, 0.00968421052631579, 0.006526315789473684, 0.005894736842105263, 0.0025263157894736842, 0.009052631578947368, 0.010105263157894737, 0.006526315789473684, 0.0050526315789473685], [120.27730059326655, 320.08406097235496, 120.76733523860803, 117.92340643952039, 115.19163577475626, 106.8710212171648, 130.5304182542605, 120.25330573190318, 113.38315000894653, 143.00612019423238], [121.0182856545704, 325.55751967317616, 122.33750226350087, 119.61907800956489, 115.58394996131545, 107.00763847771542, 130.87482058130834, 121.95800285603583, 114.19102200639287, 143.76453052465808]]\n"
     ]
    }
   ],
   "source": [
    "T, p, s0, graph_type, sem_type, iter_total = 1000, 5, 2, 'ER', 'gauss', 10\n",
    "\n",
    "Ps = [40, 50, 75, 100]\n",
    "results_notears = []\n",
    "results_mcmc = []\n",
    "results_omp = []\n",
    "\n",
    "for p in Ps:\n",
    "    print(f\"p: {p}.\\n\")\n",
    "\n",
    "    res_NT = [[] for i in range(6)]\n",
    "    res_MCMC = [[] for i in range(6)]\n",
    "    res_omp = [[] for i in range(6)]\n",
    "    \n",
    "    for _ in range(iter_total):\n",
    "        # generate X, Psi\n",
    "        B_true = simulate_dag(p, s0 * p, graph_type)\n",
    "        W_true = simulate_parameter(B_true)\n",
    "        X = simulate_linear_sem(W_true, T, sem_type)\n",
    "        Psi = np.dot(X.T, X)\n",
    "\n",
    "        # do NO TEARS\n",
    "        start = timer()\n",
    "        W_est, h_val = notears_linear(X, lambda1=0.0, loss_type='l2', verbose = False)\n",
    "        total_time = timer() - start\n",
    "        \n",
    "        # get score, save score\n",
    "        acc = count_accuracy(B_true, W_est != 0)\n",
    "        res_NT[0].append(acc['tpr'])\n",
    "        res_NT[1].append(acc['fdr'])\n",
    "        res_NT[2].append(acc['shd'])\n",
    "        res_NT[3].append(acc['fpr'])\n",
    "        res_NT[4].append(loss(W_est, X))\n",
    "        res_NT[5].append(true_loss(W_est, W_true))    \n",
    "        \n",
    "        print(f\"Elapsed time {round(total_time, 2)} seconds.\")\n",
    "\n",
    "        # do OMP\n",
    "        W_omp, r = _K_OMP(X, X, F = [i * (p + 1) for i in range(p)], normalize = True, tol = 1e-8)\n",
    "        W_omp[np.abs(W_omp) <= 0.3] = 0\n",
    "\n",
    "        # get score, save score\n",
    "        acc = count_accuracy(B_true, W_omp != 0)\n",
    "        res_omp[0].append(acc['tpr'])\n",
    "        res_omp[1].append(acc['fdr'])\n",
    "        res_omp[2].append(acc['shd'])\n",
    "        res_omp[3].append(acc['fpr'])\n",
    "        res_omp[4].append(loss(W_omp, X))    \n",
    "        res_omp[5].append(true_loss(W_omp, W_true))    \n",
    "    \n",
    "        # get a true permutation matrix\n",
    "        order = is_dag(B_true)[1]\n",
    "        P_true = np.zeros((p, p))\n",
    "        for i in range(p):\n",
    "            P_true[order[-i]][i] = 1\n",
    "\n",
    "        # do mcmc\n",
    "        Prtg, rg = mcmc(int(1e10), False, acc_prob = acc_prob_greed, P = np.identity(p), total_time = total_time)\n",
    "        W_mcmc = ols_W(X, Prtg)\n",
    "        W_mcmc[np.abs(W_mcmc) < 0.30] = 0\n",
    "        \n",
    "        # get results\n",
    "        acc = count_accuracy(B_true, W_mcmc != 0)\n",
    "        res_MCMC[0].append(acc['tpr'])\n",
    "        res_MCMC[1].append(acc['fdr'])\n",
    "        res_MCMC[2].append(acc['shd'])\n",
    "        res_MCMC[3].append(acc['fpr'])\n",
    "        res_MCMC[4].append(loss(W_mcmc, X))    \n",
    "        res_MCMC[5].append(true_loss(W_mcmc, W_true))    \n",
    "\n",
    "    print(res_NT); print(res_MCMC); print(res_omp);\n",
    "\n",
    "    results_notears.append(res_NT)\n",
    "    results_mcmc.append(res_MCMC)\n",
    "    results_omp.append(res_omp)"
   ]
  },
  {
   "cell_type": "code",
   "execution_count": null,
   "id": "fecc1944",
   "metadata": {
    "id": "fecc1944"
   },
   "outputs": [],
   "source": [
    "from scipy.stats import sem\n",
    "\n",
    "NT_means = [[] for i in range(6)]\n",
    "NT_sems = [[] for i in range(6)]\n",
    "for elem in results_notears:\n",
    "    for i in range(6):\n",
    "        NT_means[i].append(np.mean(elem[i]))\n",
    "        NT_sems[i].append(sem(elem[i]))\n",
    "        \n",
    "MCMC_means = [[] for i in range(6)]\n",
    "MCMC_sems = [[] for i in range(6)]\n",
    "for elem in results_mcmc:\n",
    "    for i in range(6):\n",
    "        MCMC_means[i].append(np.mean(elem[i]))\n",
    "        MCMC_sems[i].append(sem(elem[i]))\n",
    "\n",
    "OMP_means = [[] for i in range(6)]\n",
    "OMP_sems = [[] for i in range(6)]\n",
    "for elem in results_omp:\n",
    "    for i in range(6):\n",
    "        OMP_means[i].append(np.mean(elem[i]))\n",
    "        OMP_sems[i].append(sem(elem[i]))"
   ]
  },
  {
   "cell_type": "code",
   "execution_count": null,
   "id": "vAAfTDQRffM5",
   "metadata": {
    "colab": {
     "base_uri": "https://localhost:8080/"
    },
    "id": "vAAfTDQRffM5",
    "outputId": "80f78a05-cade-4857-a4a0-ab030df7a6d3"
   },
   "outputs": [
    {
     "name": "stdout",
     "output_type": "stream",
     "text": [
      "[[1.0, 0.9499999999999998, 0.9733333333333333, 0.9833333333333334], [0.0, 0.034210526315789476, 0.0392156862745098, 0.045001670763470246], [0.0, 1.0, 2.3333333333333335, 5.666666666666667], [0.0, 0.02666666666666667, 0.008, 0.004148148148148148], [4.958146791053883, 10.593758009387768, 29.431991510961435, 56.497179128610384], [5.010803988723051, 10.547909873015978, 29.583594175991532, 56.430338049192606]]\n",
      "[[0.0, 0.028867513459481284, 0.013333333333333346, 0.012018504251546642], [0.0, 0.01712212394380977, 0.0196078431372549, 0.01782603231061131], [0.0, 0.5773502691896258, 1.2018504251546633, 2.6034165586355518], [0.0, 0.013333333333333334, 0.004, 0.0016497079593570435], [0.08745420333512617, 0.17762738111007131, 3.509213831113948, 1.5278178774933289], [0.0030082723375154845, 0.20462805073984544, 3.547291319679747, 1.70671936741275]]\n",
      "[[1.0, 1.0, 1.0, 1.0], [0.0, 0.0, 0.006535947712418301, 0.0033003300330033004], [0.0, 0.0, 0.3333333333333333, 0.3333333333333333], [0.0, 0.0, 0.0013333333333333333, 0.0002962962962962963], [4.9580341257211655, 10.887262530200061, 30.36044426464547, 53.02774510742028], [5.011071991568868, 10.941836087311964, 30.448511492733434, 53.100768047807826]]\n",
      "[[0.0, 0.0, 0.0, 0.0], [0.0, 0.0, 0.006535947712418301, 0.003300330033003301], [0.0, 0.0, 0.33333333333333337, 0.33333333333333337], [0.0, 0.0, 0.0013333333333333335, 0.00029629629629629635], [0.08746038105396702, 0.7650278533085986, 4.575187725302767, 0.3237594658137467], [0.00294213374899709, 0.8696230989477518, 4.534853516588468, 0.47513052497657515]]\n",
      "[[0.9, 0.7333333333333333, 0.8733333333333334, 0.9433333333333334], [0.09999999999999999, 0.4243908265647396, 0.33534111607882094, 0.18640350877192982], [1.0, 14.0, 26.666666666666668, 23.0], [1.0, 0.43999999999999995, 0.09066666666666667, 0.019259259259259257], [5.251883261980024, 13.829141419778367, 58.9059236221617, 54.577600464720966], [5.321622485351464, 13.81618567012026, 60.40769480291029, 54.49838442756123]]\n",
      "[[0.10000000000000002, 0.06009252125773315, 0.048074017006186506, 0.012018504251546606], [0.1, 0.057167375218386135, 0.06661097736013231, 0.01492732299463607], [1.0, 2.6457513110645907, 7.623064417352849, 2.5166114784235836], [1.0, 0.08, 0.02219108930279099, 0.0018023000089772503], [0.221796386691809, 1.4367991214302736, 26.758567785592703, 0.5386013222962097], [0.3078440286065292, 1.560600450767352, 27.98901077496333, 0.5531297537792239]]\n"
     ]
    }
   ],
   "source": [
    "print(NT_means); print(NT_sems); print(MCMC_means); print(MCMC_sems); print(OMP_means); print(OMP_sems);"
   ]
  },
  {
   "cell_type": "code",
   "execution_count": null,
   "id": "00818411",
   "metadata": {
    "colab": {
     "base_uri": "https://localhost:8080/",
     "height": 1000
    },
    "id": "00818411",
    "outputId": "61d9b375-a666-40d2-dca0-8c95a90d2831"
   },
   "outputs": [
    {
     "name": "stdout",
     "output_type": "stream",
     "text": [
      "0 0\n",
      "1 0\n",
      "2 0\n",
      "0 1\n",
      "1 1\n",
      "2 1\n"
     ]
    },
    {
     "data": {
      "image/png": "[encoded data removed]",
      "text/plain": [
       "<Figure size 1440x1080 with 6 Axes>"
      ]
     },
     "metadata": {
      "needs_background": "light"
     },
     "output_type": "display_data"
    }
   ],
   "source": [
    "fig, axs = plt.subplots(3, 2, figsize = (20, 15))\n",
    "fig.suptitle(\"Overview of Four Metrics, Comparing G-MCMC and NOTEARS for Varying $p$ with fixed $T = 100$ and $s = 2p$ with standard errors.\")\n",
    "titles = ['True Positive Rate (higher is better)', 'False Prediction Rate (lower is better)', 'Structural Hamming Distance (lower is better)', 'False Detection Rate (lower is better)', 'MSE', 'TRUE MSE']\n",
    "# Ps = [7, 10, 15, 20, 25, 30, 50]\n",
    "\n",
    "for i in range(6):\n",
    "    print(i % 3, i // 3)\n",
    "    axs[i % 3, i // 3].plot(Ps, np.array(NT_means)[i, :], label = \"NO TEARS\")\n",
    "    axs[i % 3, i // 3].fill_between(Ps, np.array(NT_means)[i, :] - np.array(NT_sems)[i, :], np.array(NT_means)[i, :] + np.array(NT_sems)[i, :], alpha = 0.2)\n",
    "\n",
    "    axs[i % 3, i // 3].plot(Ps, np.array(OMP_means)[i, :], label = \"OMP\")\n",
    "    axs[i % 3, i // 3].fill_between(Ps, np.array(OMP_means)[i, :] - np.array(OMP_sems)[i, :], np.array(OMP_means)[i, :] + np.array(OMP_sems)[i, :], alpha = 0.2)\n",
    "\n",
    "    axs[i % 3, i // 3].plot(Ps, np.array(MCMC_means)[i, :], label = \"MCMC\")\n",
    "    axs[i % 3, i // 3].fill_between(Ps, np.array(MCMC_means)[i, :] - np.array(MCMC_sems)[i, :], np.array(MCMC_means)[i, :] + np.array(MCMC_sems)[i, :], alpha = 0.2)    \n",
    "    axs[i % 3, i // 3].set_title(titles[i])\n",
    "    \n",
    "    axs[i % 3, i // 3].legend()\n",
    "    \n",
    "for ax in axs.flat:\n",
    "    ax.set(xlabel='Number of variables $p$', ylabel='')"
   ]
  },
  {
   "cell_type": "code",
   "execution_count": null,
   "id": "591a6c94",
   "metadata": {
    "colab": {
     "base_uri": "https://localhost:8080/",
     "height": 282
    },
    "id": "591a6c94",
    "outputId": "e601d1ca-1801-48f7-d52e-b894da8ba628"
   },
   "outputs": [
    {
     "data": {
      "text/plain": [
       "<matplotlib.collections.PolyCollection at 0x7f48b6557b90>"
      ]
     },
     "execution_count": 97,
     "metadata": {},
     "output_type": "execute_result"
    },
    {
     "data": {
      "image/png": "[encoded data removed]",
      "text/plain": [
       "<Figure size 432x288 with 1 Axes>"
      ]
     },
     "metadata": {
      "needs_background": "light"
     },
     "output_type": "display_data"
    }
   ],
   "source": [
    "i = -1\n",
    "plt.plot(Ps, np.array(NT_means)[i, :] - Ps, label = \"NO TEARS\")\n",
    "plt.fill_between(Ps, np.array(NT_means)[i, :] - Ps - np.array(NT_sems)[i, :], np.array(NT_means)[i, :] - Ps + np.array(NT_sems)[i, :], alpha = 0.2)\n",
    "plt.plot(Ps, np.array(OMP_means)[i, :] - Ps, label = \"OMP\")\n",
    "plt.fill_between(Ps, np.array(OMP_means)[i, :] - Ps - np.array(OMP_sems)[i, :], np.array(OMP_means)[i, :] - Ps + np.array(OMP_sems)[i, :], alpha = 0.2)\n",
    "plt.plot(Ps, np.array(MCMC_means)[i, :] - Ps, label = \"MCMC\")\n",
    "plt.fill_between(Ps, np.array(MCMC_means)[i, :] - Ps - np.array(MCMC_sems)[i, :], np.array(MCMC_means)[i, :] - Ps + np.array(MCMC_sems)[i, :], alpha = 0.2)    "
   ]
  }
 ],
 "metadata": {
  "colab": {
   "collapsed_sections": [],
   "name": "MCMC-SEM-Copy1.ipynb",
   "provenance": []
  },
  "kernelspec": {
   "display_name": "Python 3.6.8 64-bit",
   "language": "python",
   "name": "python36864bit874e3a48d9b148faaa09714964fd179b"
  },
  "language_info": {
   "codemirror_mode": {
    "name": "ipython",
    "version": 3
   },
   "file_extension": ".py",
   "mimetype": "text/x-python",
   "name": "python",
   "nbconvert_exporter": "python",
   "pygments_lexer": "ipython3",
   "version": "3.6.8"
  }
 },
 "nbformat": 4,
 "nbformat_minor": 5
}
