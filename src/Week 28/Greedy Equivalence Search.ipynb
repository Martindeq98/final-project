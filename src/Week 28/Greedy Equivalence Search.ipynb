{
 "cells": [
  {
   "cell_type": "code",
   "execution_count": 2,
   "id": "4e9860a6",
   "metadata": {},
   "outputs": [
    {
     "name": "stderr",
     "output_type": "stream",
     "text": [
      "Detecting 1 CUDA device(s).\n"
     ]
    }
   ],
   "source": [
    "import cdt\n",
    "import networkx as nx\n",
    "import numpy as np\n",
    "import pandas as pd\n",
    "\n",
    "import sys\n",
    "sys.path.append(\"..\")\n",
    "\n",
    "from notears.notears.notears import utils\n",
    "from notears.notears.notears import linear\n",
    "from notears.notears.notears import nonlinear\n",
    "\n",
    "import helper.helper as h\n",
    "\n",
    "from cdt.metrics import SHD"
   ]
  },
  {
   "cell_type": "code",
   "execution_count": 96,
   "id": "c2705039",
   "metadata": {},
   "outputs": [],
   "source": [
    "T, p = 20, 10\n",
    "data = np.random.rand(T, p)\n",
    "df = pd.DataFrame(data)"
   ]
  },
  {
   "cell_type": "code",
   "execution_count": 3,
   "id": "925ba6ba",
   "metadata": {},
   "outputs": [
    {
     "name": "stdout",
     "output_type": "stream",
     "text": [
      "[[0 1 0 1 0 0 0 0 0 0 0]\n",
      " [0 0 0 0 1 1 0 1 1 0 0]\n",
      " [1 1 0 0 0 0 0 0 0 0 0]\n",
      " [0 0 1 0 0 0 0 0 0 0 1]\n",
      " [0 0 0 0 0 0 0 0 0 0 0]\n",
      " [0 0 0 0 0 0 0 0 0 0 0]\n",
      " [0 0 0 0 1 1 0 1 1 1 1]\n",
      " [0 0 0 0 0 0 0 0 1 0 0]\n",
      " [0 0 0 0 0 0 0 0 0 1 0]\n",
      " [0 0 0 0 0 0 0 0 0 0 0]\n",
      " [0 0 0 0 0 0 0 0 0 0 0]]\n",
      "[[0 1 0 0 0 0 0 1 0 0 0]\n",
      " [0 0 0 0 0 0 0 1 1 1 0]\n",
      " [1 1 0 1 0 0 0 1 0 1 0]\n",
      " [0 0 0 0 0 0 0 0 0 0 0]\n",
      " [0 1 1 1 0 0 1 0 0 0 0]\n",
      " [1 1 1 0 0 0 1 1 0 0 1]\n",
      " [1 1 1 0 1 1 0 1 0 1 1]\n",
      " [0 0 0 0 0 0 0 0 0 1 0]\n",
      " [0 0 0 1 0 0 0 0 0 1 0]\n",
      " [0 0 0 0 0 0 0 0 0 0 0]\n",
      " [0 1 1 0 0 1 1 1 1 1 0]]\n"
     ]
    },
    {
     "data": {
      "image/png": "[encoded data removed]",
      "text/plain": [
       "<Figure size 432x288 with 1 Axes>"
      ]
     },
     "metadata": {},
     "output_type": "display_data"
    }
   ],
   "source": [
    "data, graph = cdt.data.load_dataset('sachs')\n",
    "print(nx.adjacency_matrix(graph).todense())\n",
    "B_true = nx.adjacency_matrix(graph).todense()\n",
    "nx.draw(graph)\n",
    "model = cdt.causality.graph.GES()\n",
    "output_graph = model.predict(data)\n",
    "print(nx.adjacency_matrix(output_graph).todense())"
   ]
  },
  {
   "cell_type": "code",
   "execution_count": 98,
   "id": "185fbd9b",
   "metadata": {},
   "outputs": [
    {
     "name": "stdout",
     "output_type": "stream",
     "text": [
      "[[0 1 0 1 0 0 0 0 0 0 0]\n",
      " [0 0 0 0 1 1 0 1 1 0 0]\n",
      " [1 1 0 0 0 0 0 0 0 0 0]\n",
      " [0 0 1 0 0 0 0 0 0 0 1]\n",
      " [0 0 0 0 0 0 0 0 0 0 0]\n",
      " [0 0 0 0 0 0 0 0 0 0 0]\n",
      " [0 0 0 0 1 1 0 1 1 1 1]\n",
      " [0 0 0 0 0 0 0 0 1 0 0]\n",
      " [0 0 0 0 0 0 0 0 0 1 0]\n",
      " [0 0 0 0 0 0 0 0 0 0 0]\n",
      " [0 0 0 0 0 0 0 0 0 0 0]]\n"
     ]
    }
   ],
   "source": [
    "print(nx.adjacency_matrix(graph).todense())"
   ]
  },
  {
   "cell_type": "code",
   "execution_count": 99,
   "id": "86fdf939",
   "metadata": {},
   "outputs": [
    {
     "name": "stdout",
     "output_type": "stream",
     "text": [
      "False\n"
     ]
    }
   ],
   "source": [
    "print(h.is_dag(nx.adjacency_matrix(graph).todense()))"
   ]
  },
  {
   "cell_type": "code",
   "execution_count": 100,
   "id": "d343d2b4",
   "metadata": {},
   "outputs": [
    {
     "name": "stdout",
     "output_type": "stream",
     "text": [
      "44\n"
     ]
    }
   ],
   "source": [
    "from cdt.metrics import SHD\n",
    "scores = SHD(graph, output_graph)\n",
    "print(scores)"
   ]
  },
  {
   "cell_type": "code",
   "execution_count": 11,
   "id": "608fca64",
   "metadata": {},
   "outputs": [
    {
     "ename": "ValueError",
     "evalue": "B_est should be a DAG",
     "output_type": "error",
     "traceback": [
      "\u001b[1;31m---------------------------------------------------------------------------\u001b[0m",
      "\u001b[1;31mValueError\u001b[0m                                Traceback (most recent call last)",
      "\u001b[1;32m<ipython-input-11-352004830ff2>\u001b[0m in \u001b[0;36m<module>\u001b[1;34m\u001b[0m\n\u001b[1;32m----> 1\u001b[1;33m \u001b[0mutils\u001b[0m\u001b[1;33m.\u001b[0m\u001b[0mcount_accuracy\u001b[0m\u001b[1;33m(\u001b[0m\u001b[0mnx\u001b[0m\u001b[1;33m.\u001b[0m\u001b[0madjacency_matrix\u001b[0m\u001b[1;33m(\u001b[0m\u001b[0mgraph\u001b[0m\u001b[1;33m)\u001b[0m\u001b[1;33m.\u001b[0m\u001b[0mtodense\u001b[0m\u001b[1;33m(\u001b[0m\u001b[1;33m)\u001b[0m\u001b[1;33m,\u001b[0m \u001b[0mnx\u001b[0m\u001b[1;33m.\u001b[0m\u001b[0madjacency_matrix\u001b[0m\u001b[1;33m(\u001b[0m\u001b[0moutput_graph\u001b[0m\u001b[1;33m)\u001b[0m\u001b[1;33m.\u001b[0m\u001b[0mtodense\u001b[0m\u001b[1;33m(\u001b[0m\u001b[1;33m)\u001b[0m\u001b[1;33m)\u001b[0m\u001b[1;33m\u001b[0m\u001b[1;33m\u001b[0m\u001b[0m\n\u001b[0m",
      "\u001b[1;32m~\\OneDrive - TU Eindhoven\\QuinceyFinalProject\\final-project\\src\\notears\\notears\\notears\\utils.py\u001b[0m in \u001b[0;36mcount_accuracy\u001b[1;34m(B_true, B_est)\u001b[0m\n\u001b[0;32m    261\u001b[0m             \u001b[1;32mraise\u001b[0m \u001b[0mValueError\u001b[0m\u001b[1;33m(\u001b[0m\u001b[1;34m'B_est should take value in {0,1}'\u001b[0m\u001b[1;33m)\u001b[0m\u001b[1;33m\u001b[0m\u001b[1;33m\u001b[0m\u001b[0m\n\u001b[0;32m    262\u001b[0m         \u001b[1;32mif\u001b[0m \u001b[1;32mnot\u001b[0m \u001b[0mis_dag\u001b[0m\u001b[1;33m(\u001b[0m\u001b[0mB_est\u001b[0m\u001b[1;33m)\u001b[0m\u001b[1;33m:\u001b[0m\u001b[1;33m\u001b[0m\u001b[1;33m\u001b[0m\u001b[0m\n\u001b[1;32m--> 263\u001b[1;33m             \u001b[1;32mraise\u001b[0m \u001b[0mValueError\u001b[0m\u001b[1;33m(\u001b[0m\u001b[1;34m'B_est should be a DAG'\u001b[0m\u001b[1;33m)\u001b[0m\u001b[1;33m\u001b[0m\u001b[1;33m\u001b[0m\u001b[0m\n\u001b[0m\u001b[0;32m    264\u001b[0m     \u001b[0md\u001b[0m \u001b[1;33m=\u001b[0m \u001b[0mB_true\u001b[0m\u001b[1;33m.\u001b[0m\u001b[0mshape\u001b[0m\u001b[1;33m[\u001b[0m\u001b[1;36m0\u001b[0m\u001b[1;33m]\u001b[0m\u001b[1;33m\u001b[0m\u001b[1;33m\u001b[0m\u001b[0m\n\u001b[0;32m    265\u001b[0m     \u001b[1;31m# linear index of nonzeros\u001b[0m\u001b[1;33m\u001b[0m\u001b[1;33m\u001b[0m\u001b[1;33m\u001b[0m\u001b[0m\n",
      "\u001b[1;31mValueError\u001b[0m: B_est should be a DAG"
     ]
    }
   ],
   "source": [
    "utils.count_accuracy(nx.adjacency_matrix(graph).todense(), nx.adjacency_matrix(output_graph).todense())"
   ]
  },
  {
   "cell_type": "code",
   "execution_count": 4,
   "id": "b16ca890",
   "metadata": {},
   "outputs": [
    {
     "name": "stdout",
     "output_type": "stream",
     "text": [
      "h: 2.0239365738916604e-09.\n",
      "rho: 100000000000.0.\n",
      "loss: (5.0896404529428425, array([ 1.24954779e-02,  1.08583583e-02,  3.87923794e-02, -3.93321444e-04,\n",
      "       -1.10577864e-02, -2.58115638e-03,  4.61536126e-04, -4.47944347e-03,\n",
      "       -1.21437219e-03,  1.41760006e-02,  4.33232510e-04,  2.05824392e-02,\n",
      "        2.13788276e-02, -2.01831979e-03, -3.04762124e-03, -4.57649596e-03,\n",
      "       -7.84633581e-05, -4.80979705e-03, -4.37441602e-03,  2.55924236e-03,\n",
      "       -4.88729929e-04, -9.42890743e-04,  1.98369975e-02, -5.77791817e-04,\n",
      "       -8.42504639e-05, -3.27863408e-03,  1.32417903e-03, -2.78222235e-03,\n",
      "       -6.50896008e-04,  6.84966719e-04,  2.62573357e-02,  1.45650842e-01,\n",
      "        4.19700037e-01,  1.86365950e-02,  1.43950526e-01,  3.65828094e-02,\n",
      "       -1.99549272e-02,  7.77437450e-03, -4.67995928e-03, -1.03843953e-02,\n",
      "       -1.45298110e-03,  1.47335326e-02,  4.01222143e-02, -3.26643126e-03,\n",
      "        3.07962385e-02, -6.18444612e-03,  1.72417819e-03, -1.05682611e-02,\n",
      "       -7.35348360e-03, -6.78515784e-03,  5.56061038e-03, -3.75158169e-03,\n",
      "        5.00314246e-02, -3.48282778e-03,  4.15816329e-02,  1.31257037e-02,\n",
      "       -6.38881193e-04,  1.94011413e-02, -8.05703061e-03,  3.59892035e-03,\n",
      "        4.08924490e-02,  3.54191732e-02,  1.81025251e-01, -1.07296290e-02,\n",
      "        9.05434647e-02,  4.67142102e-02,  2.02478425e-02,  5.22736274e-02,\n",
      "        2.35236718e-02, -2.46832163e-02,  4.02240747e-02, -2.27607401e-02,\n",
      "       -3.39946187e-02,  1.79133819e-03, -5.89556924e-02,  6.50761470e-03,\n",
      "       -6.18549892e-05,  3.09490313e-02,  7.24594530e-03,  5.33395539e-02,\n",
      "       -7.12931865e-03,  7.59412363e-02,  2.35123446e-01, -1.46546080e-02,\n",
      "        1.60797535e-01,  4.16900925e-02, -1.62967820e-05, -2.42603140e-03,\n",
      "        1.99371240e-02, -9.17236602e-02, -6.80020366e-04, -1.94600957e-02,\n",
      "       -1.92088064e-02,  3.60465507e-03,  7.17735915e-03,  7.10050148e-03,\n",
      "       -5.12359690e-04,  8.96259821e-03,  7.51548203e-03,  2.06045506e-02,\n",
      "       -1.24954779e-02, -1.08583583e-02, -3.87923794e-02,  3.93321444e-04,\n",
      "        1.10577864e-02,  2.58115638e-03, -4.61536126e-04,  4.47944347e-03,\n",
      "        1.21437219e-03, -1.41760006e-02, -4.33232510e-04, -2.05824392e-02,\n",
      "       -2.13788276e-02,  2.01831979e-03,  3.04762124e-03,  4.57649596e-03,\n",
      "        7.84633581e-05,  4.80979705e-03,  4.37441602e-03, -2.55924236e-03,\n",
      "        4.88729929e-04,  9.42890743e-04, -1.98369975e-02,  5.77791817e-04,\n",
      "        8.42504639e-05,  3.27863408e-03, -1.32417903e-03,  2.78222235e-03,\n",
      "        6.50896008e-04, -6.84966719e-04, -2.62573357e-02, -1.45650842e-01,\n",
      "       -4.19700037e-01, -1.86365950e-02, -1.43950526e-01, -3.65828094e-02,\n",
      "        1.99549272e-02, -7.77437450e-03,  4.67995928e-03,  1.03843953e-02,\n",
      "        1.45298110e-03, -1.47335326e-02, -4.01222143e-02,  3.26643126e-03,\n",
      "       -3.07962385e-02,  6.18444612e-03, -1.72417819e-03,  1.05682611e-02,\n",
      "        7.35348360e-03,  6.78515784e-03, -5.56061038e-03,  3.75158169e-03,\n",
      "       -5.00314246e-02,  3.48282778e-03, -4.15816329e-02, -1.31257037e-02,\n",
      "        6.38881193e-04, -1.94011413e-02,  8.05703061e-03, -3.59892035e-03,\n",
      "       -4.08924490e-02, -3.54191732e-02, -1.81025251e-01,  1.07296290e-02,\n",
      "       -9.05434647e-02, -4.67142102e-02, -2.02478425e-02, -5.22736274e-02,\n",
      "       -2.35236718e-02,  2.46832163e-02, -4.02240747e-02,  2.27607401e-02,\n",
      "        3.39946187e-02, -1.79133819e-03,  5.89556924e-02, -6.50761470e-03,\n",
      "        6.18549892e-05, -3.09490313e-02, -7.24594530e-03, -5.33395539e-02,\n",
      "        7.12931865e-03, -7.59412363e-02, -2.35123446e-01,  1.46546080e-02,\n",
      "       -1.60797535e-01, -4.16900925e-02,  1.62967820e-05,  2.42603140e-03,\n",
      "       -1.99371240e-02,  9.17236602e-02,  6.80020366e-04,  1.94600957e-02,\n",
      "        1.92088064e-02, -3.60465507e-03, -7.17735915e-03, -7.10050148e-03,\n",
      "        5.12359690e-04, -8.96259821e-03, -7.51548203e-03, -2.06045506e-02])).\n"
     ]
    },
    {
     "data": {
      "text/plain": [
       "{'fdr': 0.046511627906976744,\n",
       " 'tpr': 0.9111111111111111,\n",
       " 'fpr': 2.0,\n",
       " 'shd': 4,\n",
       " 'nnz': 43}"
      ]
     },
     "execution_count": 4,
     "metadata": {},
     "output_type": "execute_result"
    }
   ],
   "source": [
    "p, num_edges = 10,  45\n",
    "\n",
    "# generate X, Psi\n",
    "B_true = utils.simulate_dag(p, num_edges, 'ER')\n",
    "W_true = utils.simulate_parameter(B_true)\n",
    "X = utils.simulate_linear_sem(W_true, 1000, 'gauss')\n",
    "\n",
    "W, h_val = linear.notears_linear(X, lambda1 = 0.0, loss_type = \"l2\")\n",
    "\n",
    "utils.count_accuracy(B_true, W != 0)"
   ]
  },
  {
   "cell_type": "code",
   "execution_count": 102,
   "id": "17d0e57f",
   "metadata": {},
   "outputs": [
    {
     "name": "stdout",
     "output_type": "stream",
     "text": [
      "[[0. 0. 0. 0. 1.]\n",
      " [1. 0. 0. 1. 1.]\n",
      " [1. 1. 0. 1. 1.]\n",
      " [1. 0. 0. 0. 1.]\n",
      " [0. 0. 0. 0. 0.]]\n",
      "[[0 1 0 1 1]\n",
      " [0 0 0 0 0]\n",
      " [0 1 0 1 1]\n",
      " [1 1 1 0 1]\n",
      " [1 1 1 1 0]]\n"
     ]
    },
    {
     "data": {
      "text/plain": [
       "{'fdr': 0.3333333333333333, 'tpr': 0.6, 'fpr': 3.0, 'shd': 4, 'nnz': 9}"
      ]
     },
     "execution_count": 102,
     "metadata": {},
     "output_type": "execute_result"
    }
   ],
   "source": [
    "print(B_true)\n",
    "\n",
    "model = cdt.causality.graph.GES()\n",
    "output_graph = model.predict(pd.DataFrame(X))\n",
    "print(nx.adjacency_matrix(output_graph).todense())\n",
    "utils.count_accuracy(B_true, transform_matrix(np.array(nx.adjacency_matrix(output_graph).todense()), B_true))"
   ]
  },
  {
   "cell_type": "code",
   "execution_count": 161,
   "id": "300c429b",
   "metadata": {},
   "outputs": [
    {
     "name": "stdout",
     "output_type": "stream",
     "text": [
      "[[0 1 0 0 0 0 0 1 0 0 0]\n",
      " [0 0 0 0 0 0 0 1 1 1 0]\n",
      " [1 1 0 1 0 0 0 1 0 1 0]\n",
      " [0 0 0 0 0 0 0 0 0 0 0]\n",
      " [0 1 1 1 0 0 1 0 0 0 0]\n",
      " [1 1 1 0 0 0 1 1 0 0 1]\n",
      " [1 1 1 0 1 1 0 1 0 1 1]\n",
      " [0 0 0 0 0 0 0 0 0 1 0]\n",
      " [0 0 0 1 0 0 0 0 0 1 0]\n",
      " [0 0 0 0 0 0 0 0 0 0 0]\n",
      " [0 1 1 0 0 1 1 1 1 1 0]]\n",
      "{'fdr': 0.6764705882352942, 'tpr': 0.6111111111111112, 'fpr': 0.6216216216216216, 'shd': 27, 'nnz': 34}\n",
      "{'fdr': 0.85, 'tpr': 0.16666666666666666, 'fpr': 0.4594594594594595, 'shd': 27, 'nnz': 20}\n"
     ]
    }
   ],
   "source": [
    "def GES(X, B_true):\n",
    "    model = cdt.causality.graph.GES()\n",
    "    output_graph = model.predict(pd.DataFrame(X))\n",
    "    print(np.array(nx.adjacency_matrix(output_graph).todense()))\n",
    "    return utils.count_accuracy(B_true, transform_matrix(np.array(nx.adjacency_matrix(output_graph).todense()), B_true))\n",
    "\n",
    "def NT(X, B_true):\n",
    "    W, h_val = linear.notears_linear(X.to_numpy(), lambda1 = 0.0, loss_type = \"l2\", verbose = False)\n",
    "    return utils.count_accuracy(B_true, W != 0)\n",
    "\n",
    "data, graph = cdt.data.load_dataset('sachs')\n",
    "B_true = np.array(nx.adjacency_matrix(graph).todense())\n",
    "print(GES(data, np.array(B_true)))\n",
    "print(NT(data, B_true.T))"
   ]
  },
  {
   "cell_type": "code",
   "execution_count": 66,
   "id": "a6884626",
   "metadata": {},
   "outputs": [
    {
     "name": "stdout",
     "output_type": "stream",
     "text": [
      "(7466, 11)\n"
     ]
    }
   ],
   "source": [
    "X = data.to_numpy()\n",
    "print(np.shape(X))"
   ]
  },
  {
   "cell_type": "code",
   "execution_count": 68,
   "id": "78b215ae",
   "metadata": {},
   "outputs": [],
   "source": [
    "def transform_matrix(B_est, B_true):\n",
    "    # transform B_est into a directed graph, favourably.\n",
    "    \n",
    "    # find all undirected edges\n",
    "    undirected_edges = np.where(B_est * B_est.T == 1)\n",
    "    for i, j in zip(undirected_edges[0], undirected_edges[1]):\n",
    "        # check only one triangle\n",
    "        if i > j:\n",
    "            # check if the true matrix has this edge\n",
    "            if B_true[i][j] == 1:\n",
    "                # keep this one, remove the other\n",
    "                B_est[j][i] = 0\n",
    "            elif B_true[j][i] == 1:\n",
    "                # keep the other, remove this one\n",
    "                B_est[i][j] = 0\n",
    "            else:\n",
    "                # does not matter, remove the LT one\n",
    "                B_est[j][i] = 0\n",
    "                \n",
    "    return B_est"
   ]
  },
  {
   "cell_type": "code",
   "execution_count": 91,
   "id": "0a23b143",
   "metadata": {},
   "outputs": [
    {
     "ename": "KeyboardInterrupt",
     "evalue": "",
     "output_type": "error",
     "traceback": [
      "\u001b[1;31m---------------------------------------------------------------------------\u001b[0m",
      "\u001b[1;31mKeyboardInterrupt\u001b[0m                         Traceback (most recent call last)",
      "\u001b[1;32m<ipython-input-91-6abf97083ef2>\u001b[0m in \u001b[0;36m<module>\u001b[1;34m\u001b[0m\n\u001b[0;32m      2\u001b[0m \u001b[0mtorch\u001b[0m\u001b[1;33m.\u001b[0m\u001b[0mset_default_dtype\u001b[0m\u001b[1;33m(\u001b[0m\u001b[0mtorch\u001b[0m\u001b[1;33m.\u001b[0m\u001b[0mdouble\u001b[0m\u001b[1;33m)\u001b[0m\u001b[1;33m\u001b[0m\u001b[1;33m\u001b[0m\u001b[0m\n\u001b[0;32m      3\u001b[0m \u001b[0mmodel\u001b[0m \u001b[1;33m=\u001b[0m \u001b[0mnonlinear\u001b[0m\u001b[1;33m.\u001b[0m\u001b[0mNotearsMLP\u001b[0m\u001b[1;33m(\u001b[0m\u001b[0mdims\u001b[0m\u001b[1;33m=\u001b[0m\u001b[1;33m[\u001b[0m\u001b[1;36m11\u001b[0m\u001b[1;33m,\u001b[0m \u001b[1;36m10\u001b[0m\u001b[1;33m,\u001b[0m \u001b[1;36m1\u001b[0m\u001b[1;33m]\u001b[0m\u001b[1;33m,\u001b[0m \u001b[0mbias\u001b[0m\u001b[1;33m=\u001b[0m\u001b[1;32mTrue\u001b[0m\u001b[1;33m)\u001b[0m\u001b[1;33m\u001b[0m\u001b[1;33m\u001b[0m\u001b[0m\n\u001b[1;32m----> 4\u001b[1;33m \u001b[0mW\u001b[0m\u001b[1;33m,\u001b[0m \u001b[0mh_val\u001b[0m \u001b[1;33m=\u001b[0m \u001b[0mnonlinear\u001b[0m\u001b[1;33m.\u001b[0m\u001b[0mnotears_nonlinear\u001b[0m\u001b[1;33m(\u001b[0m\u001b[0mmodel\u001b[0m\u001b[1;33m,\u001b[0m \u001b[0mX\u001b[0m\u001b[1;33m)\u001b[0m\u001b[1;33m\u001b[0m\u001b[1;33m\u001b[0m\u001b[0m\n\u001b[0m\u001b[0;32m      5\u001b[0m \u001b[0mutils\u001b[0m\u001b[1;33m.\u001b[0m\u001b[0mcount_accuracy\u001b[0m\u001b[1;33m(\u001b[0m\u001b[0mB_true\u001b[0m\u001b[1;33m,\u001b[0m \u001b[0mW\u001b[0m \u001b[1;33m!=\u001b[0m \u001b[1;36m0\u001b[0m\u001b[1;33m)\u001b[0m\u001b[1;33m\u001b[0m\u001b[1;33m\u001b[0m\u001b[0m\n",
      "\u001b[1;32m~\\OneDrive - TU Eindhoven\\QuinceyFinalProject\\final-project\\src\\notears\\notears\\notears\\nonlinear.py\u001b[0m in \u001b[0;36mnotears_nonlinear\u001b[1;34m(model, X, lambda1, lambda2, max_iter, h_tol, rho_max, w_threshold)\u001b[0m\n\u001b[0;32m    204\u001b[0m     \u001b[1;32mfor\u001b[0m \u001b[0m_\u001b[0m \u001b[1;32min\u001b[0m \u001b[0mrange\u001b[0m\u001b[1;33m(\u001b[0m\u001b[0mmax_iter\u001b[0m\u001b[1;33m)\u001b[0m\u001b[1;33m:\u001b[0m\u001b[1;33m\u001b[0m\u001b[1;33m\u001b[0m\u001b[0m\n\u001b[0;32m    205\u001b[0m         rho, alpha, h = dual_ascent_step(model, X, lambda1, lambda2,\n\u001b[1;32m--> 206\u001b[1;33m                                          rho, alpha, h, rho_max)\n\u001b[0m\u001b[0;32m    207\u001b[0m         \u001b[1;32mif\u001b[0m \u001b[0mh\u001b[0m \u001b[1;33m<=\u001b[0m \u001b[0mh_tol\u001b[0m \u001b[1;32mor\u001b[0m \u001b[0mrho\u001b[0m \u001b[1;33m>=\u001b[0m \u001b[0mrho_max\u001b[0m\u001b[1;33m:\u001b[0m\u001b[1;33m\u001b[0m\u001b[1;33m\u001b[0m\u001b[0m\n\u001b[0;32m    208\u001b[0m             \u001b[1;32mbreak\u001b[0m\u001b[1;33m\u001b[0m\u001b[1;33m\u001b[0m\u001b[0m\n",
      "\u001b[1;32m~\\OneDrive - TU Eindhoven\\QuinceyFinalProject\\final-project\\src\\notears\\notears\\notears\\nonlinear.py\u001b[0m in \u001b[0;36mdual_ascent_step\u001b[1;34m(model, X, lambda1, lambda2, rho, alpha, h, rho_max)\u001b[0m\n\u001b[0;32m    182\u001b[0m             \u001b[0mprimal_obj\u001b[0m\u001b[1;33m.\u001b[0m\u001b[0mbackward\u001b[0m\u001b[1;33m(\u001b[0m\u001b[1;33m)\u001b[0m\u001b[1;33m\u001b[0m\u001b[1;33m\u001b[0m\u001b[0m\n\u001b[0;32m    183\u001b[0m             \u001b[1;32mreturn\u001b[0m \u001b[0mprimal_obj\u001b[0m\u001b[1;33m\u001b[0m\u001b[1;33m\u001b[0m\u001b[0m\n\u001b[1;32m--> 184\u001b[1;33m         \u001b[0moptimizer\u001b[0m\u001b[1;33m.\u001b[0m\u001b[0mstep\u001b[0m\u001b[1;33m(\u001b[0m\u001b[0mclosure\u001b[0m\u001b[1;33m)\u001b[0m  \u001b[1;31m# NOTE: updates model in-place\u001b[0m\u001b[1;33m\u001b[0m\u001b[1;33m\u001b[0m\u001b[0m\n\u001b[0m\u001b[0;32m    185\u001b[0m         \u001b[1;32mwith\u001b[0m \u001b[0mtorch\u001b[0m\u001b[1;33m.\u001b[0m\u001b[0mno_grad\u001b[0m\u001b[1;33m(\u001b[0m\u001b[1;33m)\u001b[0m\u001b[1;33m:\u001b[0m\u001b[1;33m\u001b[0m\u001b[1;33m\u001b[0m\u001b[0m\n\u001b[0;32m    186\u001b[0m             \u001b[0mh_new\u001b[0m \u001b[1;33m=\u001b[0m \u001b[0mmodel\u001b[0m\u001b[1;33m.\u001b[0m\u001b[0mh_func\u001b[0m\u001b[1;33m(\u001b[0m\u001b[1;33m)\u001b[0m\u001b[1;33m.\u001b[0m\u001b[0mitem\u001b[0m\u001b[1;33m(\u001b[0m\u001b[1;33m)\u001b[0m\u001b[1;33m\u001b[0m\u001b[1;33m\u001b[0m\u001b[0m\n",
      "\u001b[1;32m~\\AppData\\Local\\Programs\\Python\\Python36\\lib\\site-packages\\torch\\optim\\optimizer.py\u001b[0m in \u001b[0;36mwrapper\u001b[1;34m(*args, **kwargs)\u001b[0m\n\u001b[0;32m     86\u001b[0m                 \u001b[0mprofile_name\u001b[0m \u001b[1;33m=\u001b[0m \u001b[1;34m\"Optimizer.step#{}.step\"\u001b[0m\u001b[1;33m.\u001b[0m\u001b[0mformat\u001b[0m\u001b[1;33m(\u001b[0m\u001b[0mobj\u001b[0m\u001b[1;33m.\u001b[0m\u001b[0m__class__\u001b[0m\u001b[1;33m.\u001b[0m\u001b[0m__name__\u001b[0m\u001b[1;33m)\u001b[0m\u001b[1;33m\u001b[0m\u001b[1;33m\u001b[0m\u001b[0m\n\u001b[0;32m     87\u001b[0m                 \u001b[1;32mwith\u001b[0m \u001b[0mtorch\u001b[0m\u001b[1;33m.\u001b[0m\u001b[0mautograd\u001b[0m\u001b[1;33m.\u001b[0m\u001b[0mprofiler\u001b[0m\u001b[1;33m.\u001b[0m\u001b[0mrecord_function\u001b[0m\u001b[1;33m(\u001b[0m\u001b[0mprofile_name\u001b[0m\u001b[1;33m)\u001b[0m\u001b[1;33m:\u001b[0m\u001b[1;33m\u001b[0m\u001b[1;33m\u001b[0m\u001b[0m\n\u001b[1;32m---> 88\u001b[1;33m                     \u001b[1;32mreturn\u001b[0m \u001b[0mfunc\u001b[0m\u001b[1;33m(\u001b[0m\u001b[1;33m*\u001b[0m\u001b[0margs\u001b[0m\u001b[1;33m,\u001b[0m \u001b[1;33m**\u001b[0m\u001b[0mkwargs\u001b[0m\u001b[1;33m)\u001b[0m\u001b[1;33m\u001b[0m\u001b[1;33m\u001b[0m\u001b[0m\n\u001b[0m\u001b[0;32m     89\u001b[0m             \u001b[1;32mreturn\u001b[0m \u001b[0mwrapper\u001b[0m\u001b[1;33m\u001b[0m\u001b[1;33m\u001b[0m\u001b[0m\n\u001b[0;32m     90\u001b[0m \u001b[1;33m\u001b[0m\u001b[0m\n",
      "\u001b[1;32m~\\OneDrive - TU Eindhoven\\QuinceyFinalProject\\final-project\\src\\notears\\notears\\notears\\lbfgsb_scipy.py\u001b[0m in \u001b[0;36mstep\u001b[1;34m(self, closure)\u001b[0m\n\u001b[0;32m     91\u001b[0m                             \u001b[0mmethod\u001b[0m\u001b[1;33m=\u001b[0m\u001b[1;34m'L-BFGS-B'\u001b[0m\u001b[1;33m,\u001b[0m\u001b[1;33m\u001b[0m\u001b[1;33m\u001b[0m\u001b[0m\n\u001b[0;32m     92\u001b[0m                             \u001b[0mjac\u001b[0m\u001b[1;33m=\u001b[0m\u001b[1;32mTrue\u001b[0m\u001b[1;33m,\u001b[0m\u001b[1;33m\u001b[0m\u001b[1;33m\u001b[0m\u001b[0m\n\u001b[1;32m---> 93\u001b[1;33m                             bounds=bounds)\n\u001b[0m\u001b[0;32m     94\u001b[0m \u001b[1;33m\u001b[0m\u001b[0m\n\u001b[0;32m     95\u001b[0m         \u001b[0mfinal_params\u001b[0m \u001b[1;33m=\u001b[0m \u001b[0mtorch\u001b[0m\u001b[1;33m.\u001b[0m\u001b[0mfrom_numpy\u001b[0m\u001b[1;33m(\u001b[0m\u001b[0msol\u001b[0m\u001b[1;33m.\u001b[0m\u001b[0mx\u001b[0m\u001b[1;33m)\u001b[0m\u001b[1;33m\u001b[0m\u001b[1;33m\u001b[0m\u001b[0m\n",
      "\u001b[1;32m~\\AppData\\Local\\Programs\\Python\\Python36\\lib\\site-packages\\scipy\\optimize\\_minimize.py\u001b[0m in \u001b[0;36mminimize\u001b[1;34m(fun, x0, args, method, jac, hess, hessp, bounds, constraints, tol, callback, options)\u001b[0m\n\u001b[0;32m    608\u001b[0m     \u001b[1;32melif\u001b[0m \u001b[0mmeth\u001b[0m \u001b[1;33m==\u001b[0m \u001b[1;34m'l-bfgs-b'\u001b[0m\u001b[1;33m:\u001b[0m\u001b[1;33m\u001b[0m\u001b[1;33m\u001b[0m\u001b[0m\n\u001b[0;32m    609\u001b[0m         return _minimize_lbfgsb(fun, x0, args, jac, bounds,\n\u001b[1;32m--> 610\u001b[1;33m                                 callback=callback, **options)\n\u001b[0m\u001b[0;32m    611\u001b[0m     \u001b[1;32melif\u001b[0m \u001b[0mmeth\u001b[0m \u001b[1;33m==\u001b[0m \u001b[1;34m'tnc'\u001b[0m\u001b[1;33m:\u001b[0m\u001b[1;33m\u001b[0m\u001b[1;33m\u001b[0m\u001b[0m\n\u001b[0;32m    612\u001b[0m         return _minimize_tnc(fun, x0, args, jac, bounds, callback=callback,\n",
      "\u001b[1;32m~\\AppData\\Local\\Programs\\Python\\Python36\\lib\\site-packages\\scipy\\optimize\\lbfgsb.py\u001b[0m in \u001b[0;36m_minimize_lbfgsb\u001b[1;34m(fun, x0, args, jac, bounds, disp, maxcor, ftol, gtol, eps, maxfun, maxiter, iprint, callback, maxls, **unknown_options)\u001b[0m\n\u001b[0;32m    343\u001b[0m             \u001b[1;31m# until the completion of the current minimization iteration.\u001b[0m\u001b[1;33m\u001b[0m\u001b[1;33m\u001b[0m\u001b[1;33m\u001b[0m\u001b[0m\n\u001b[0;32m    344\u001b[0m             \u001b[1;31m# Overwrite f and g:\u001b[0m\u001b[1;33m\u001b[0m\u001b[1;33m\u001b[0m\u001b[1;33m\u001b[0m\u001b[0m\n\u001b[1;32m--> 345\u001b[1;33m             \u001b[0mf\u001b[0m\u001b[1;33m,\u001b[0m \u001b[0mg\u001b[0m \u001b[1;33m=\u001b[0m \u001b[0mfunc_and_grad\u001b[0m\u001b[1;33m(\u001b[0m\u001b[0mx\u001b[0m\u001b[1;33m)\u001b[0m\u001b[1;33m\u001b[0m\u001b[1;33m\u001b[0m\u001b[0m\n\u001b[0m\u001b[0;32m    346\u001b[0m         \u001b[1;32melif\u001b[0m \u001b[0mtask_str\u001b[0m\u001b[1;33m.\u001b[0m\u001b[0mstartswith\u001b[0m\u001b[1;33m(\u001b[0m\u001b[1;34mb'NEW_X'\u001b[0m\u001b[1;33m)\u001b[0m\u001b[1;33m:\u001b[0m\u001b[1;33m\u001b[0m\u001b[1;33m\u001b[0m\u001b[0m\n\u001b[0;32m    347\u001b[0m             \u001b[1;31m# new iteration\u001b[0m\u001b[1;33m\u001b[0m\u001b[1;33m\u001b[0m\u001b[1;33m\u001b[0m\u001b[0m\n",
      "\u001b[1;32m~\\AppData\\Local\\Programs\\Python\\Python36\\lib\\site-packages\\scipy\\optimize\\lbfgsb.py\u001b[0m in \u001b[0;36mfunc_and_grad\u001b[1;34m(x)\u001b[0m\n\u001b[0;32m    293\u001b[0m     \u001b[1;32melse\u001b[0m\u001b[1;33m:\u001b[0m\u001b[1;33m\u001b[0m\u001b[1;33m\u001b[0m\u001b[0m\n\u001b[0;32m    294\u001b[0m         \u001b[1;32mdef\u001b[0m \u001b[0mfunc_and_grad\u001b[0m\u001b[1;33m(\u001b[0m\u001b[0mx\u001b[0m\u001b[1;33m)\u001b[0m\u001b[1;33m:\u001b[0m\u001b[1;33m\u001b[0m\u001b[1;33m\u001b[0m\u001b[0m\n\u001b[1;32m--> 295\u001b[1;33m             \u001b[0mf\u001b[0m \u001b[1;33m=\u001b[0m \u001b[0mfun\u001b[0m\u001b[1;33m(\u001b[0m\u001b[0mx\u001b[0m\u001b[1;33m,\u001b[0m \u001b[1;33m*\u001b[0m\u001b[0margs\u001b[0m\u001b[1;33m)\u001b[0m\u001b[1;33m\u001b[0m\u001b[1;33m\u001b[0m\u001b[0m\n\u001b[0m\u001b[0;32m    296\u001b[0m             \u001b[0mg\u001b[0m \u001b[1;33m=\u001b[0m \u001b[0mjac\u001b[0m\u001b[1;33m(\u001b[0m\u001b[0mx\u001b[0m\u001b[1;33m,\u001b[0m \u001b[1;33m*\u001b[0m\u001b[0margs\u001b[0m\u001b[1;33m)\u001b[0m\u001b[1;33m\u001b[0m\u001b[1;33m\u001b[0m\u001b[0m\n\u001b[0;32m    297\u001b[0m             \u001b[1;32mreturn\u001b[0m \u001b[0mf\u001b[0m\u001b[1;33m,\u001b[0m \u001b[0mg\u001b[0m\u001b[1;33m\u001b[0m\u001b[1;33m\u001b[0m\u001b[0m\n",
      "\u001b[1;32m~\\AppData\\Local\\Programs\\Python\\Python36\\lib\\site-packages\\scipy\\optimize\\optimize.py\u001b[0m in \u001b[0;36mfunction_wrapper\u001b[1;34m(*wrapper_args)\u001b[0m\n\u001b[0;32m    325\u001b[0m     \u001b[1;32mdef\u001b[0m \u001b[0mfunction_wrapper\u001b[0m\u001b[1;33m(\u001b[0m\u001b[1;33m*\u001b[0m\u001b[0mwrapper_args\u001b[0m\u001b[1;33m)\u001b[0m\u001b[1;33m:\u001b[0m\u001b[1;33m\u001b[0m\u001b[1;33m\u001b[0m\u001b[0m\n\u001b[0;32m    326\u001b[0m         \u001b[0mncalls\u001b[0m\u001b[1;33m[\u001b[0m\u001b[1;36m0\u001b[0m\u001b[1;33m]\u001b[0m \u001b[1;33m+=\u001b[0m \u001b[1;36m1\u001b[0m\u001b[1;33m\u001b[0m\u001b[1;33m\u001b[0m\u001b[0m\n\u001b[1;32m--> 327\u001b[1;33m         \u001b[1;32mreturn\u001b[0m \u001b[0mfunction\u001b[0m\u001b[1;33m(\u001b[0m\u001b[1;33m*\u001b[0m\u001b[1;33m(\u001b[0m\u001b[0mwrapper_args\u001b[0m \u001b[1;33m+\u001b[0m \u001b[0margs\u001b[0m\u001b[1;33m)\u001b[0m\u001b[1;33m)\u001b[0m\u001b[1;33m\u001b[0m\u001b[1;33m\u001b[0m\u001b[0m\n\u001b[0m\u001b[0;32m    328\u001b[0m \u001b[1;33m\u001b[0m\u001b[0m\n\u001b[0;32m    329\u001b[0m     \u001b[1;32mreturn\u001b[0m \u001b[0mncalls\u001b[0m\u001b[1;33m,\u001b[0m \u001b[0mfunction_wrapper\u001b[0m\u001b[1;33m\u001b[0m\u001b[1;33m\u001b[0m\u001b[0m\n",
      "\u001b[1;32m~\\AppData\\Local\\Programs\\Python\\Python36\\lib\\site-packages\\scipy\\optimize\\optimize.py\u001b[0m in \u001b[0;36m__call__\u001b[1;34m(self, x, *args)\u001b[0m\n\u001b[0;32m     63\u001b[0m     \u001b[1;32mdef\u001b[0m \u001b[0m__call__\u001b[0m\u001b[1;33m(\u001b[0m\u001b[0mself\u001b[0m\u001b[1;33m,\u001b[0m \u001b[0mx\u001b[0m\u001b[1;33m,\u001b[0m \u001b[1;33m*\u001b[0m\u001b[0margs\u001b[0m\u001b[1;33m)\u001b[0m\u001b[1;33m:\u001b[0m\u001b[1;33m\u001b[0m\u001b[1;33m\u001b[0m\u001b[0m\n\u001b[0;32m     64\u001b[0m         \u001b[0mself\u001b[0m\u001b[1;33m.\u001b[0m\u001b[0mx\u001b[0m \u001b[1;33m=\u001b[0m \u001b[0mnumpy\u001b[0m\u001b[1;33m.\u001b[0m\u001b[0masarray\u001b[0m\u001b[1;33m(\u001b[0m\u001b[0mx\u001b[0m\u001b[1;33m)\u001b[0m\u001b[1;33m.\u001b[0m\u001b[0mcopy\u001b[0m\u001b[1;33m(\u001b[0m\u001b[1;33m)\u001b[0m\u001b[1;33m\u001b[0m\u001b[1;33m\u001b[0m\u001b[0m\n\u001b[1;32m---> 65\u001b[1;33m         \u001b[0mfg\u001b[0m \u001b[1;33m=\u001b[0m \u001b[0mself\u001b[0m\u001b[1;33m.\u001b[0m\u001b[0mfun\u001b[0m\u001b[1;33m(\u001b[0m\u001b[0mx\u001b[0m\u001b[1;33m,\u001b[0m \u001b[1;33m*\u001b[0m\u001b[0margs\u001b[0m\u001b[1;33m)\u001b[0m\u001b[1;33m\u001b[0m\u001b[1;33m\u001b[0m\u001b[0m\n\u001b[0m\u001b[0;32m     66\u001b[0m         \u001b[0mself\u001b[0m\u001b[1;33m.\u001b[0m\u001b[0mjac\u001b[0m \u001b[1;33m=\u001b[0m \u001b[0mfg\u001b[0m\u001b[1;33m[\u001b[0m\u001b[1;36m1\u001b[0m\u001b[1;33m]\u001b[0m\u001b[1;33m\u001b[0m\u001b[1;33m\u001b[0m\u001b[0m\n\u001b[0;32m     67\u001b[0m         \u001b[1;32mreturn\u001b[0m \u001b[0mfg\u001b[0m\u001b[1;33m[\u001b[0m\u001b[1;36m0\u001b[0m\u001b[1;33m]\u001b[0m\u001b[1;33m\u001b[0m\u001b[1;33m\u001b[0m\u001b[0m\n",
      "\u001b[1;32m~\\OneDrive - TU Eindhoven\\QuinceyFinalProject\\final-project\\src\\notears\\notears\\notears\\lbfgsb_scipy.py\u001b[0m in \u001b[0;36mwrapped_closure\u001b[1;34m(flat_params)\u001b[0m\n\u001b[0;32m     76\u001b[0m             \u001b[0mflat_params\u001b[0m \u001b[1;33m=\u001b[0m \u001b[0mflat_params\u001b[0m\u001b[1;33m.\u001b[0m\u001b[0mto\u001b[0m\u001b[1;33m(\u001b[0m\u001b[0mtorch\u001b[0m\u001b[1;33m.\u001b[0m\u001b[0mget_default_dtype\u001b[0m\u001b[1;33m(\u001b[0m\u001b[1;33m)\u001b[0m\u001b[1;33m)\u001b[0m\u001b[1;33m\u001b[0m\u001b[1;33m\u001b[0m\u001b[0m\n\u001b[0;32m     77\u001b[0m             \u001b[0mself\u001b[0m\u001b[1;33m.\u001b[0m\u001b[0m_distribute_flat_params\u001b[0m\u001b[1;33m(\u001b[0m\u001b[0mflat_params\u001b[0m\u001b[1;33m)\u001b[0m\u001b[1;33m\u001b[0m\u001b[1;33m\u001b[0m\u001b[0m\n\u001b[1;32m---> 78\u001b[1;33m             \u001b[0mloss\u001b[0m \u001b[1;33m=\u001b[0m \u001b[0mclosure\u001b[0m\u001b[1;33m(\u001b[0m\u001b[1;33m)\u001b[0m\u001b[1;33m\u001b[0m\u001b[1;33m\u001b[0m\u001b[0m\n\u001b[0m\u001b[0;32m     79\u001b[0m             \u001b[0mloss\u001b[0m \u001b[1;33m=\u001b[0m \u001b[0mloss\u001b[0m\u001b[1;33m.\u001b[0m\u001b[0mitem\u001b[0m\u001b[1;33m(\u001b[0m\u001b[1;33m)\u001b[0m\u001b[1;33m\u001b[0m\u001b[1;33m\u001b[0m\u001b[0m\n\u001b[0;32m     80\u001b[0m             \u001b[0mflat_grad\u001b[0m \u001b[1;33m=\u001b[0m \u001b[0mself\u001b[0m\u001b[1;33m.\u001b[0m\u001b[0m_gather_flat_grad\u001b[0m\u001b[1;33m(\u001b[0m\u001b[1;33m)\u001b[0m\u001b[1;33m.\u001b[0m\u001b[0mcpu\u001b[0m\u001b[1;33m(\u001b[0m\u001b[1;33m)\u001b[0m\u001b[1;33m.\u001b[0m\u001b[0mdetach\u001b[0m\u001b[1;33m(\u001b[0m\u001b[1;33m)\u001b[0m\u001b[1;33m.\u001b[0m\u001b[0mnumpy\u001b[0m\u001b[1;33m(\u001b[0m\u001b[1;33m)\u001b[0m\u001b[1;33m\u001b[0m\u001b[1;33m\u001b[0m\u001b[0m\n",
      "\u001b[1;32m~\\OneDrive - TU Eindhoven\\QuinceyFinalProject\\final-project\\src\\notears\\notears\\notears\\nonlinear.py\u001b[0m in \u001b[0;36mclosure\u001b[1;34m()\u001b[0m\n\u001b[0;32m    173\u001b[0m         \u001b[1;32mdef\u001b[0m \u001b[0mclosure\u001b[0m\u001b[1;33m(\u001b[0m\u001b[1;33m)\u001b[0m\u001b[1;33m:\u001b[0m\u001b[1;33m\u001b[0m\u001b[1;33m\u001b[0m\u001b[0m\n\u001b[0;32m    174\u001b[0m             \u001b[0moptimizer\u001b[0m\u001b[1;33m.\u001b[0m\u001b[0mzero_grad\u001b[0m\u001b[1;33m(\u001b[0m\u001b[1;33m)\u001b[0m\u001b[1;33m\u001b[0m\u001b[1;33m\u001b[0m\u001b[0m\n\u001b[1;32m--> 175\u001b[1;33m             \u001b[0mX_hat\u001b[0m \u001b[1;33m=\u001b[0m \u001b[0mmodel\u001b[0m\u001b[1;33m(\u001b[0m\u001b[0mX_torch\u001b[0m\u001b[1;33m)\u001b[0m\u001b[1;33m\u001b[0m\u001b[1;33m\u001b[0m\u001b[0m\n\u001b[0m\u001b[0;32m    176\u001b[0m             \u001b[0mloss\u001b[0m \u001b[1;33m=\u001b[0m \u001b[0msquared_loss\u001b[0m\u001b[1;33m(\u001b[0m\u001b[0mX_hat\u001b[0m\u001b[1;33m,\u001b[0m \u001b[0mX_torch\u001b[0m\u001b[1;33m)\u001b[0m\u001b[1;33m\u001b[0m\u001b[1;33m\u001b[0m\u001b[0m\n\u001b[0;32m    177\u001b[0m             \u001b[0mh_val\u001b[0m \u001b[1;33m=\u001b[0m \u001b[0mmodel\u001b[0m\u001b[1;33m.\u001b[0m\u001b[0mh_func\u001b[0m\u001b[1;33m(\u001b[0m\u001b[1;33m)\u001b[0m\u001b[1;33m\u001b[0m\u001b[1;33m\u001b[0m\u001b[0m\n",
      "\u001b[1;32m~\\AppData\\Local\\Programs\\Python\\Python36\\lib\\site-packages\\torch\\nn\\modules\\module.py\u001b[0m in \u001b[0;36m_call_impl\u001b[1;34m(self, *input, **kwargs)\u001b[0m\n\u001b[0;32m   1100\u001b[0m         if not (self._backward_hooks or self._forward_hooks or self._forward_pre_hooks or _global_backward_hooks\n\u001b[0;32m   1101\u001b[0m                 or _global_forward_hooks or _global_forward_pre_hooks):\n\u001b[1;32m-> 1102\u001b[1;33m             \u001b[1;32mreturn\u001b[0m \u001b[0mforward_call\u001b[0m\u001b[1;33m(\u001b[0m\u001b[1;33m*\u001b[0m\u001b[0minput\u001b[0m\u001b[1;33m,\u001b[0m \u001b[1;33m**\u001b[0m\u001b[0mkwargs\u001b[0m\u001b[1;33m)\u001b[0m\u001b[1;33m\u001b[0m\u001b[1;33m\u001b[0m\u001b[0m\n\u001b[0m\u001b[0;32m   1103\u001b[0m         \u001b[1;31m# Do not call functions when jit is used\u001b[0m\u001b[1;33m\u001b[0m\u001b[1;33m\u001b[0m\u001b[1;33m\u001b[0m\u001b[0m\n\u001b[0;32m   1104\u001b[0m         \u001b[0mfull_backward_hooks\u001b[0m\u001b[1;33m,\u001b[0m \u001b[0mnon_full_backward_hooks\u001b[0m \u001b[1;33m=\u001b[0m \u001b[1;33m[\u001b[0m\u001b[1;33m]\u001b[0m\u001b[1;33m,\u001b[0m \u001b[1;33m[\u001b[0m\u001b[1;33m]\u001b[0m\u001b[1;33m\u001b[0m\u001b[1;33m\u001b[0m\u001b[0m\n",
      "\u001b[1;32m~\\OneDrive - TU Eindhoven\\QuinceyFinalProject\\final-project\\src\\notears\\notears\\notears\\nonlinear.py\u001b[0m in \u001b[0;36mforward\u001b[1;34m(self, x)\u001b[0m\n\u001b[0;32m     45\u001b[0m         \u001b[1;32mfor\u001b[0m \u001b[0mfc\u001b[0m \u001b[1;32min\u001b[0m \u001b[0mself\u001b[0m\u001b[1;33m.\u001b[0m\u001b[0mfc2\u001b[0m\u001b[1;33m:\u001b[0m\u001b[1;33m\u001b[0m\u001b[1;33m\u001b[0m\u001b[0m\n\u001b[0;32m     46\u001b[0m             \u001b[0mx\u001b[0m \u001b[1;33m=\u001b[0m \u001b[0mtorch\u001b[0m\u001b[1;33m.\u001b[0m\u001b[0msigmoid\u001b[0m\u001b[1;33m(\u001b[0m\u001b[0mx\u001b[0m\u001b[1;33m)\u001b[0m  \u001b[1;31m# [n, d, m1]\u001b[0m\u001b[1;33m\u001b[0m\u001b[1;33m\u001b[0m\u001b[0m\n\u001b[1;32m---> 47\u001b[1;33m             \u001b[0mx\u001b[0m \u001b[1;33m=\u001b[0m \u001b[0mfc\u001b[0m\u001b[1;33m(\u001b[0m\u001b[0mx\u001b[0m\u001b[1;33m)\u001b[0m  \u001b[1;31m# [n, d, m2]\u001b[0m\u001b[1;33m\u001b[0m\u001b[1;33m\u001b[0m\u001b[0m\n\u001b[0m\u001b[0;32m     48\u001b[0m         \u001b[0mx\u001b[0m \u001b[1;33m=\u001b[0m \u001b[0mx\u001b[0m\u001b[1;33m.\u001b[0m\u001b[0msqueeze\u001b[0m\u001b[1;33m(\u001b[0m\u001b[0mdim\u001b[0m\u001b[1;33m=\u001b[0m\u001b[1;36m2\u001b[0m\u001b[1;33m)\u001b[0m  \u001b[1;31m# [n, d]\u001b[0m\u001b[1;33m\u001b[0m\u001b[1;33m\u001b[0m\u001b[0m\n\u001b[0;32m     49\u001b[0m         \u001b[1;32mreturn\u001b[0m \u001b[0mx\u001b[0m\u001b[1;33m\u001b[0m\u001b[1;33m\u001b[0m\u001b[0m\n",
      "\u001b[1;32m~\\AppData\\Local\\Programs\\Python\\Python36\\lib\\site-packages\\torch\\nn\\modules\\module.py\u001b[0m in \u001b[0;36m_call_impl\u001b[1;34m(self, *input, **kwargs)\u001b[0m\n\u001b[0;32m   1100\u001b[0m         if not (self._backward_hooks or self._forward_hooks or self._forward_pre_hooks or _global_backward_hooks\n\u001b[0;32m   1101\u001b[0m                 or _global_forward_hooks or _global_forward_pre_hooks):\n\u001b[1;32m-> 1102\u001b[1;33m             \u001b[1;32mreturn\u001b[0m \u001b[0mforward_call\u001b[0m\u001b[1;33m(\u001b[0m\u001b[1;33m*\u001b[0m\u001b[0minput\u001b[0m\u001b[1;33m,\u001b[0m \u001b[1;33m**\u001b[0m\u001b[0mkwargs\u001b[0m\u001b[1;33m)\u001b[0m\u001b[1;33m\u001b[0m\u001b[1;33m\u001b[0m\u001b[0m\n\u001b[0m\u001b[0;32m   1103\u001b[0m         \u001b[1;31m# Do not call functions when jit is used\u001b[0m\u001b[1;33m\u001b[0m\u001b[1;33m\u001b[0m\u001b[1;33m\u001b[0m\u001b[0m\n\u001b[0;32m   1104\u001b[0m         \u001b[0mfull_backward_hooks\u001b[0m\u001b[1;33m,\u001b[0m \u001b[0mnon_full_backward_hooks\u001b[0m \u001b[1;33m=\u001b[0m \u001b[1;33m[\u001b[0m\u001b[1;33m]\u001b[0m\u001b[1;33m,\u001b[0m \u001b[1;33m[\u001b[0m\u001b[1;33m]\u001b[0m\u001b[1;33m\u001b[0m\u001b[1;33m\u001b[0m\u001b[0m\n",
      "\u001b[1;32m~\\OneDrive - TU Eindhoven\\QuinceyFinalProject\\final-project\\src\\notears\\notears\\notears\\locally_connected.py\u001b[0m in \u001b[0;36mforward\u001b[1;34m(self, input)\u001b[0m\n\u001b[0;32m     50\u001b[0m     \u001b[1;32mdef\u001b[0m \u001b[0mforward\u001b[0m\u001b[1;33m(\u001b[0m\u001b[0mself\u001b[0m\u001b[1;33m,\u001b[0m \u001b[0minput\u001b[0m\u001b[1;33m:\u001b[0m \u001b[0mtorch\u001b[0m\u001b[1;33m.\u001b[0m\u001b[0mTensor\u001b[0m\u001b[1;33m)\u001b[0m\u001b[1;33m:\u001b[0m\u001b[1;33m\u001b[0m\u001b[1;33m\u001b[0m\u001b[0m\n\u001b[0;32m     51\u001b[0m         \u001b[1;31m# [n, d, 1, m2] = [n, d, 1, m1] @ [1, d, m1, m2]\u001b[0m\u001b[1;33m\u001b[0m\u001b[1;33m\u001b[0m\u001b[1;33m\u001b[0m\u001b[0m\n\u001b[1;32m---> 52\u001b[1;33m         \u001b[0mout\u001b[0m \u001b[1;33m=\u001b[0m \u001b[0mtorch\u001b[0m\u001b[1;33m.\u001b[0m\u001b[0mmatmul\u001b[0m\u001b[1;33m(\u001b[0m\u001b[0minput\u001b[0m\u001b[1;33m.\u001b[0m\u001b[0munsqueeze\u001b[0m\u001b[1;33m(\u001b[0m\u001b[0mdim\u001b[0m\u001b[1;33m=\u001b[0m\u001b[1;36m2\u001b[0m\u001b[1;33m)\u001b[0m\u001b[1;33m,\u001b[0m \u001b[0mself\u001b[0m\u001b[1;33m.\u001b[0m\u001b[0mweight\u001b[0m\u001b[1;33m.\u001b[0m\u001b[0munsqueeze\u001b[0m\u001b[1;33m(\u001b[0m\u001b[0mdim\u001b[0m\u001b[1;33m=\u001b[0m\u001b[1;36m0\u001b[0m\u001b[1;33m)\u001b[0m\u001b[1;33m)\u001b[0m\u001b[1;33m\u001b[0m\u001b[1;33m\u001b[0m\u001b[0m\n\u001b[0m\u001b[0;32m     53\u001b[0m         \u001b[0mout\u001b[0m \u001b[1;33m=\u001b[0m \u001b[0mout\u001b[0m\u001b[1;33m.\u001b[0m\u001b[0msqueeze\u001b[0m\u001b[1;33m(\u001b[0m\u001b[0mdim\u001b[0m\u001b[1;33m=\u001b[0m\u001b[1;36m2\u001b[0m\u001b[1;33m)\u001b[0m\u001b[1;33m\u001b[0m\u001b[1;33m\u001b[0m\u001b[0m\n\u001b[0;32m     54\u001b[0m         \u001b[1;32mif\u001b[0m \u001b[0mself\u001b[0m\u001b[1;33m.\u001b[0m\u001b[0mbias\u001b[0m \u001b[1;32mis\u001b[0m \u001b[1;32mnot\u001b[0m \u001b[1;32mNone\u001b[0m\u001b[1;33m:\u001b[0m\u001b[1;33m\u001b[0m\u001b[1;33m\u001b[0m\u001b[0m\n",
      "\u001b[1;31mKeyboardInterrupt\u001b[0m: "
     ]
    }
   ],
   "source": [
    "import torch\n",
    "torch.set_default_dtype(torch.double)\n",
    "model = nonlinear.NotearsMLP(dims=[11, 10, 1], bias=True)\n",
    "W, h_val = nonlinear.notears_nonlinear(model, X)\n",
    "utils.count_accuracy(B_true, W != 0)"
   ]
  },
  {
   "cell_type": "code",
   "execution_count": 93,
   "id": "16709969",
   "metadata": {},
   "outputs": [
    {
     "name": "stdout",
     "output_type": "stream",
     "text": [
      "{'fdr': 0.0, 'tpr': 0.8888888888888888, 'fpr': 0.0, 'shd': 1, 'nnz': 8}\n"
     ]
    }
   ],
   "source": [
    "n, d, s0, graph_type, sem_type = 200, 5, 9, 'ER', 'mim'\n",
    "B_true = utils.simulate_dag(d, s0, graph_type)\n",
    "\n",
    "X = utils.simulate_nonlinear_sem(B_true, n, sem_type)\n",
    "\n",
    "model = nonlinear.NotearsMLP(dims=[d, 10, 1], bias=True)\n",
    "W_est = nonlinear.notears_nonlinear(model, X, lambda1=0.01, lambda2=0.01)\n",
    "\n",
    "acc = utils.count_accuracy(B_true, W_est != 0)\n",
    "print(acc)"
   ]
  },
  {
   "cell_type": "code",
   "execution_count": 105,
   "id": "bee59967",
   "metadata": {},
   "outputs": [],
   "source": [
    "import pycausal\n",
    "import pandas as pd\n",
    "import sys\n",
    "import pydot\n",
    "\n",
    "from pycausal.pycausal import pycausal as pc\n",
    "from pycausal import search as s\n",
    "\n",
    "from IPython.display import SVG"
   ]
  },
  {
   "cell_type": "code",
   "execution_count": 106,
   "id": "1b73f8a8",
   "metadata": {},
   "outputs": [],
   "source": [
    "pc = pc()\n",
    "pc.start_vm()\n",
    "tetrad = s.tetradrunner()"
   ]
  },
  {
   "cell_type": "code",
   "execution_count": 155,
   "id": "e2251457",
   "metadata": {},
   "outputs": [
    {
     "name": "stdout",
     "output_type": "stream",
     "text": [
      "faithfulnessAssumed: This is a parameter for FGES (“Fast GES”). If this is set to ‘Yes’, it will be assumed that if X _||_ Y, by an independence test, then X _||_ Y | Z for nonempty Z. If the model is faithful to the data, this will necessarily be the case. However, there are some non-faithful examples one can propose where this is not the case. If one is worried about this kind of unfaithfulness, one should set this parameter to ‘No’. If one is willing to tolerate this kind of unfaithfulness, then setting this parameter to ‘Yes’ leads to significantly faster searches. (java.lang.Boolean) [default:true]\n",
      "symmetricFirstStep: For discrete searches, and in some other situations, it may make a difference for an edge X—Y whether you score X->Y or X<-Y, even though theoretically they should have the same score. If this parameter is set to “Yes”, both scores will be calculated and the higher score used. (Recall we are calculating BIC as 2L – c k ln N, where c is the penalty discount.) (java.lang.Boolean) [default:false]\n",
      "maxDegree: It is possible for a random graph to have a single node with very high degree—i.e. number of adjacent edges. This parameter places an upper bound on the maximum such degree. If no limit is to be placed on the maximum degree, use the value -1. (java.lang.Integer) [default:100]\n",
      "verbose: If this parameter is set to ‘Yes’, extra (“verbose”) output will be printed if available giving some details about the step-by-step operation of the algorithm. (java.lang.Boolean) [default:true]\n"
     ]
    }
   ],
   "source": [
    "tetrad.getAlgorithmParameters(algoId = 'fges', scoreId = 'mvp-bic-score')"
   ]
  },
  {
   "cell_type": "code",
   "execution_count": 156,
   "id": "dcefdf56",
   "metadata": {},
   "outputs": [],
   "source": [
    "tetrad.run(algoId = 'fges', dfs = pd.DataFrame(data), maxDegree = -1, faithfulnessAssumed = True, verbose = True)"
   ]
  },
  {
   "cell_type": "code",
   "execution_count": 157,
   "id": "8262c65b",
   "metadata": {},
   "outputs": [],
   "source": [
    "dot_str = pc.tetradGraphToDot(tetrad.getTetradGraph())\n",
    "graphs = pydot.graph_from_dot_data(dot_str)"
   ]
  },
  {
   "cell_type": "code",
   "execution_count": 158,
   "id": "d57e6fcb",
   "metadata": {},
   "outputs": [
    {
     "name": "stdout",
     "output_type": "stream",
     "text": [
      "digraph g {\n",
      "\"PKC\" -> \"pakts473\"  [arrowhead=normal, arrowtail=none];\n",
      "\"PKA\" -> \"pakts473\"  [arrowhead=none, arrowtail=normal, dir=both];\n",
      "\"p44/42\" -> \"plcg\"  [arrowhead=normal, arrowtail=none];\n",
      "\"pakts473\" -> \"plcg\"  [arrowhead=normal, arrowtail=none];\n",
      "\"p44/42\" -> \"pakts473\"  [arrowhead=normal, arrowtail=none];\n",
      "\"pakts473\" -> \"pmek\"  [arrowhead=normal, arrowtail=none];\n",
      "\"P38\" -> \"pjnk\"  [arrowhead=none, arrowtail=normal, dir=both];\n",
      "\"PIP3\" -> \"praf\"  [arrowhead=normal, arrowtail=none];\n",
      "\"P38\" -> \"PKA\"  [arrowhead=none, arrowtail=normal, dir=both];\n",
      "\"pakts473\" -> \"praf\"  [arrowhead=normal, arrowtail=none];\n",
      "\"P38\" -> \"PKC\"  [arrowhead=none, arrowtail=normal, dir=both];\n",
      "\"P38\" -> \"plcg\"  [arrowhead=none, arrowtail=normal, dir=both];\n",
      "\"PIP3\" -> \"pakts473\"  [arrowhead=none, arrowtail=normal, dir=both];\n",
      "\"PIP2\" -> \"plcg\"  [arrowhead=none, arrowtail=normal, dir=both];\n",
      "\"pmek\" -> \"praf\"  [arrowhead=normal, arrowtail=none];\n",
      "\"P38\" -> \"pakts473\"  [arrowhead=none, arrowtail=normal, dir=both];\n",
      "\"PIP2\" -> \"PKC\"  [arrowhead=none, arrowtail=normal, dir=both];\n",
      "\"PIP3\" -> \"plcg\"  [arrowhead=normal, arrowtail=none];\n",
      "\"p44/42\" -> \"pmek\"  [arrowhead=normal, arrowtail=none];\n",
      "\"PKA\" -> \"pjnk\"  [arrowhead=none, arrowtail=normal, dir=both];\n",
      "\"PKC\" -> \"pjnk\"  [arrowhead=none, arrowtail=none];\n",
      "\"plcg\" -> \"pmek\"  [arrowhead=none, arrowtail=normal, dir=both];\n",
      "\"p44/42\" -> \"praf\"  [arrowhead=normal, arrowtail=none];\n",
      "\"pakts473\" -> \"pjnk\"  [arrowhead=none, arrowtail=normal, dir=both];\n",
      "\"P38\" -> \"pmek\"  [arrowhead=none, arrowtail=normal, dir=both];\n",
      "\"plcg\" -> \"praf\"  [arrowhead=normal, arrowtail=none];\n",
      "\"PKA\" -> \"plcg\"  [arrowhead=none, arrowtail=normal, dir=both];\n",
      "\"PKA\" -> \"p44/42\"  [arrowhead=none, arrowtail=normal, dir=both];\n",
      "\"pjnk\" -> \"praf\"  [arrowhead=normal, arrowtail=none];\n",
      "\"PKA\" -> \"praf\"  [arrowhead=normal, arrowtail=none];\n",
      "\"p44/42\" -> \"pjnk\"  [arrowhead=none, arrowtail=none];\n",
      "\"PKA\" -> \"pmek\"  [arrowhead=none, arrowtail=normal, dir=both];\n",
      "\"PIP2\" -> \"PIP3\"  [arrowhead=none, arrowtail=normal, dir=both];\n",
      "\"pjnk\" -> \"plcg\"  [arrowhead=normal, arrowtail=none];\n",
      "\"PKC\" -> \"pmek\"  [arrowhead=normal, arrowtail=none];\n",
      "}\n",
      "\n"
     ]
    }
   ],
   "source": [
    "print(str(graphs[0]))"
   ]
  },
  {
   "cell_type": "code",
   "execution_count": 148,
   "id": "2da6b6b0",
   "metadata": {},
   "outputs": [
    {
     "data": {
      "image/png": "[encoded data removed]",
      "text/plain": [
       "<Figure size 432x288 with 1 Axes>"
      ]
     },
     "metadata": {},
     "output_type": "display_data"
    }
   ],
   "source": [
    "g = nx.drawing.nx_pydot.from_pydot(graphs[0])\n",
    "nx.draw(g)"
   ]
  },
  {
   "cell_type": "code",
   "execution_count": 159,
   "id": "ef7715d9",
   "metadata": {},
   "outputs": [
    {
     "name": "stdout",
     "output_type": "stream",
     "text": [
      "[[0 1 0 0 0 1 0 1 0 0 0]\n",
      " [0 0 0 0 1 1 0 1 0 1 0]\n",
      " [0 1 0 1 1 1 0 1 0 1 0]\n",
      " [0 1 0 0 1 1 0 1 0 1 0]\n",
      " [0 0 0 0 0 1 0 0 0 1 0]\n",
      " [0 0 0 0 0 0 0 0 0 1 0]\n",
      " [1 1 1 0 1 1 0 1 0 0 0]\n",
      " [0 0 0 0 1 0 0 0 0 1 0]\n",
      " [0 1 0 0 1 0 0 0 0 1 0]\n",
      " [0 0 0 0 0 0 0 0 0 0 0]\n",
      " [1 0 0 0 1 0 0 0 1 0 0]]\n"
     ]
    },
    {
     "data": {
      "text/plain": [
       "{'fdr': 0.7428571428571429,\n",
       " 'tpr': 0.5,\n",
       " 'fpr': 0.7027027027027027,\n",
       " 'shd': 33,\n",
       " 'nnz': 35}"
      ]
     },
     "execution_count": 159,
     "metadata": {},
     "output_type": "execute_result"
    }
   ],
   "source": [
    "print(np.array(nx.adjacency_matrix(g).todense()))\n",
    "utils.count_accuracy(B_true, np.array(nx.adjacency_matrix(g).todense()))"
   ]
  }
 ],
 "metadata": {
  "kernelspec": {
   "display_name": "Python 3.6.8 64-bit",
   "language": "python",
   "name": "python36864bit874e3a48d9b148faaa09714964fd179b"
  },
  "language_info": {
   "codemirror_mode": {
    "name": "ipython",
    "version": 3
   },
   "file_extension": ".py",
   "mimetype": "text/x-python",
   "name": "python",
   "nbconvert_exporter": "python",
   "pygments_lexer": "ipython3",
   "version": "3.6.8"
  }
 },
 "nbformat": 4,
 "nbformat_minor": 5
}
