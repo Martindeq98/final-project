{
 "cells": [
  {
   "cell_type": "code",
   "execution_count": 1,
   "id": "0a26c299",
   "metadata": {},
   "outputs": [],
   "source": [
    "import numpy as np"
   ]
  },
  {
   "cell_type": "code",
   "execution_count": 3,
   "id": "ede09ef1",
   "metadata": {},
   "outputs": [],
   "source": [
    "P = np.array([\n",
    "    [0.02801232, 0.48486653, 0.48551027],\n",
    "    [0.02791889, 0.48802938, 0.47905437],\n",
    "    [0.93538434, 0.03047884, 0.03632637]\n",
    "])"
   ]
  },
  {
   "cell_type": "code",
   "execution_count": 5,
   "id": "f75624f2",
   "metadata": {},
   "outputs": [],
   "source": [
    "A = np.array([\n",
    "    [0.20462216, 0.        , 0.        ],\n",
    "    [0.14840792, 0.26752171, 0.        ],\n",
    "    [0.13487388, 0.23724791, 0.07014774]\n",
    "])"
   ]
  },
  {
   "cell_type": "code",
   "execution_count": 268,
   "id": "c289e135",
   "metadata": {},
   "outputs": [
    {
     "name": "stdout",
     "output_type": "stream",
     "text": [
      "0\n",
      "7.0\n",
      "128 64\n",
      "20\n",
      "20.0\n"
     ]
    }
   ],
   "source": [
    "def find_lambda_star(l_star, e = 0.0001):\n",
    "    l, r = 0, 1\n",
    "    total = 0\n",
    "    \n",
    "    # find upper bound\n",
    "    while r < l_star:\n",
    "        l = r\n",
    "        r *= 2\n",
    "        total += 0\n",
    "    \n",
    "    print(total)\n",
    "    print(max(np.ceil(np.log2(l_star)), 1))\n",
    "    \n",
    "    print(r, l)\n",
    "    # find width\n",
    "    while r - l > e:\n",
    "        total += 1\n",
    "        b = (l + r) / 2\n",
    "        \n",
    "        if b < l_star:\n",
    "            l = b\n",
    "        else:\n",
    "            r = b\n",
    "    \n",
    "    print(total)\n",
    "    r2 = 2 ** np.ceil(np.log2(l_star))\n",
    "    l2 = r2 / 2\n",
    "    \n",
    "    w = l2\n",
    "    \n",
    "    # t(np.ceil(np.log2(2 ** (np.ceil(np.log2(l_star / e)) - 1))))\n",
    "    print(np.ceil(np.log2(w / e)))\n",
    "    # print(r2, l2)\n",
    "    # print(np.ceil(np.log2((l2) / (2*e))) + np.ceil(np.log2(l_star)))\n",
    "    \n",
    "    \n",
    "    # print(l, r, l_star)\n",
    "\n",
    "find_lambda_star(np.random.uniform(10, 100))"
   ]
  }
 ],
 "metadata": {
  "kernelspec": {
   "display_name": "Python 3.6.8 64-bit",
   "language": "python",
   "name": "python36864bit874e3a48d9b148faaa09714964fd179b"
  },
  "language_info": {
   "codemirror_mode": {
    "name": "ipython",
    "version": 3
   },
   "file_extension": ".py",
   "mimetype": "text/x-python",
   "name": "python",
   "nbconvert_exporter": "python",
   "pygments_lexer": "ipython3",
   "version": "3.6.8"
  }
 },
 "nbformat": 4,
 "nbformat_minor": 5
}
