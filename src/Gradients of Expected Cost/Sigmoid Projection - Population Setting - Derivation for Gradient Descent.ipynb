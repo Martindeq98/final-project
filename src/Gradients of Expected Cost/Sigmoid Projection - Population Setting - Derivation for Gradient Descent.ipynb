{
 "cells": [
  {
   "cell_type": "code",
   "execution_count": 1,
   "id": "430d35e9",
   "metadata": {},
   "outputs": [],
   "source": [
    "import numpy as np"
   ]
  },
  {
   "cell_type": "markdown",
   "id": "a83c4315",
   "metadata": {},
   "source": [
    "# Expected Value of Cost function in population setting\n",
    "## Projecting $p$ entries as sigmoids \n",
    "We have \n",
    "\n",
    "$$C(A, P) = \\text{Tr}\\left((B^* - B)\\Sigma_X(B^* - B)\\right),$$\n",
    "\n",
    "where $$B = P^{-1}AP.$$\n",
    "\n",
    "Here, $A$ is lower triangular and $P$ is a doubly stochastic matrix, namely\n",
    "\n",
    "\\begin{align*}\n",
    "0 \\leq &p_{ij} &\\forall\\ i,j = 1, \\cdots, n\\\\\n",
    "\\sum_{j = 1}^n &p_{ij} = 1&\\forall\\ i = 1, \\cdots, n\\\\\n",
    "\\sum_{i=1}^n &p_{ij} = 1 &\\forall\\ j = 1, \\cdots, n\\\\\n",
    "\\end{align*}"
   ]
  },
  {
   "cell_type": "code",
   "execution_count": 1738,
   "id": "a4a674e8",
   "metadata": {},
   "outputs": [
    {
     "name": "stdout",
     "output_type": "stream",
     "text": [
      "A*:\n",
      "[[0.21 0.   0.   0.   0.  ]\n",
      " [0.87 0.06 0.   0.   0.  ]\n",
      " [0.39 0.42 0.95 0.   0.  ]\n",
      " [0.44 0.9  0.99 0.35 0.  ]\n",
      " [0.51 0.7  0.73 0.09 0.45]]\n",
      "\n",
      "P*:\n",
      "[[1. 0. 0. 0. 0.]\n",
      " [0. 1. 0. 0. 0.]\n",
      " [0. 0. 1. 0. 0.]\n",
      " [0. 0. 0. 1. 0.]\n",
      " [0. 0. 0. 0. 1.]]\n"
     ]
    }
   ],
   "source": [
    "# actual solution\n",
    "n = 5\n",
    "As = np.tril(np.random.rand(n, n))\n",
    "Ps = np.identity(n)\n",
    "Sigma = np.identity(n)\n",
    "\n",
    "print(f\"A*:\\n{np.round(As, 2)}\\n\\nP*:\\n{Ps}\")"
   ]
  },
  {
   "cell_type": "code",
   "execution_count": 1739,
   "id": "f71a10e0",
   "metadata": {},
   "outputs": [
    {
     "name": "stdout",
     "output_type": "stream",
     "text": [
      "Expected cost: 221.91943464693176.\n"
     ]
    }
   ],
   "source": [
    "def expected_cost(A, P, As = As, Ps = Ps):\n",
    "    # base on the distribution of X, no actual data needed.\n",
    "    # we need the covariance of X_t - X_{t-1}.\n",
    "    # Then, the expected cost is the trace of this covariance\n",
    "    P_inv = np.linalg.inv(P)\n",
    "    Ps_inv = np.linalg.inv(Ps)\n",
    "    \n",
    "    B = np.matmul(P_inv, np.matmul(A, P))\n",
    "    Bs = np.matmul(Ps_inv, np.matmul(As, Ps))\n",
    "    \n",
    "    covariance_X = np.matmul(np.linalg.inv(np.identity(n ** 2) - np.kron(Bs, Bs)), Sigma.reshape(n ** 2)).reshape((n, n))\n",
    "    \n",
    "    covariance_matrix = Sigma + np.matmul((Bs - B), np.matmul(covariance_X, (Bs - B).transpose()))\n",
    "    \n",
    "    return np.trace(covariance_matrix)\n",
    "\n",
    "A = np.random.rand(n, n)\n",
    "P = np.identity(n)\n",
    "print(f\"Expected cost: {expected_cost(np.random.rand(n,n), Ps)}.\")"
   ]
  },
  {
   "cell_type": "markdown",
   "id": "6c71f81c",
   "metadata": {},
   "source": [
    "## Dealing with the constraints\n",
    "### Non-negativity constraints\n",
    "To deal with the $n^2$ equality constraints, we use non-negative $\\textit{lagrange multipliers}$ $\\lambda_{ineq, i, j} \\geq 0$, $i, j = 1, \\cdots, n$. The dual function now becomes \n",
    "\n",
    "$$\\mathcal{L}(A, P_\\sigma, \\mathbf{\\lambda}) = C(A, P) - \\sum_{i=1}^n\\sum_{j=1}^n \\lambda_{ineq,i,j} \\left(-p_{ij}\\right).$$\n",
    "\n",
    "\n",
    "## Dealing with equality constraints\n",
    "To deal with the $2n$ equality constraints, we use $\\textit{lagrange multipliers}$ $\\lambda_{row, i}$, $i = 1, \\cdots, n$ and $\\lambda_{col, j}$, $j = 1, \\cdots, n$. The dual function now becomes \n",
    "\n",
    "$$\\mathcal{L}(A, P_\\sigma, \\mathbf{\\lambda}) = C(A, P) - \\sum_{i=1}^n\\sum_{j=1}^n \\lambda_{ineq,i,j} \\left(-p_{ij}\\right) - \\sum_{i=1}^n \\lambda_{row, i} \\left(\\sum_{j = 1}^n p_{ij} - 1\\right) - \\sum_{j = 1}^n \\lambda_{col, j} \\left(\\sum_{i = 1}^n p_{ij} - 1\\right).$$"
   ]
  },
  {
   "cell_type": "code",
   "execution_count": 1740,
   "id": "83c816ab",
   "metadata": {},
   "outputs": [
    {
     "name": "stdout",
     "output_type": "stream",
     "text": [
      "Expected lagrange cost: 113.25168812805727.\n"
     ]
    }
   ],
   "source": [
    "def expected_cost_lagrange(A, P, As = As, Ps = Ps):\n",
    "    exp_cost = expected_cost(A, P)\n",
    "    lambda_cost = 0\n",
    "    \n",
    "    for i in range(n):\n",
    "        lambda_cost += lambdas[0][i] * (sum(P[:, i]) - 1)\n",
    "        lambda_cost += lambdas[1][i] * (sum(P[i]) - 1)\n",
    "        \n",
    "    return exp_cost - lambda_cost - np.sum(lambdasineq * P)\n",
    "\n",
    "lambdas = np.zeros((2, n))\n",
    "lambdasineq = np.zeros((n, n))\n",
    "P = np.ones((n, n)) / n + np.random.rand(n, n) / n\n",
    "print(f\"Expected lagrange cost: {expected_cost(np.random.rand(n,n), Ps)}.\")"
   ]
  },
  {
   "cell_type": "markdown",
   "id": "8ea96ed7",
   "metadata": {},
   "source": [
    "## Optimizing $\\mathcal{L}(A, P_\\sigma, \\mathbf{\\lambda})$\n",
    "let $$q(\\mathbf{\\lambda}) = \\inf_{A, P} \\mathcal{L}(A, P, \\mathbf{\\lambda}).$$\n",
    "Then the $\\textit{dual problem}$ is $$\\max_{\\mathbf{\\lambda}} q(\\mathbf{\\lambda}).$$"
   ]
  },
  {
   "cell_type": "markdown",
   "id": "b5a160eb",
   "metadata": {},
   "source": [
    "## Deriving $q(\\mathbf{\\lambda})$\n",
    "To minimize $\\mathcal{L}(A, P_\\sigma, \\mathbf{\\lambda})$, we will use gradient descent.\n",
    "\n",
    "The partial derivative with respect to entries in $A$ is simple, \n",
    "\n",
    "$$\\frac{\\partial\\mathcal{L}(A, P, \\mathbf{\\lambda})}{\\partial a_{ij}} = \\frac{\\partial C(A, P)}{\\partial a_{ij}}$$\n",
    "\n",
    "Now, the partial derivative with respect to the entries in $p$ is more involved as it occurs also in exactly two equality constraints, namely in $\\lambda_{row, i}$ and in $\\lambda{col, j}$.\n",
    "\n",
    "$$\\frac{\\partial\\mathcal{L}(A, P_\\sigma, \\mathbf{\\lambda})}{\\partial p_{ij}} = \\frac{\\partial C(A, P)}{\\partial p_{ij}} - \\lambda_{ineq, i, j} - \\lambda_{row, i} - \\lambda_{col, j}.$$\n",
    "\n",
    "Now, as $C(A, P)$ is unfortunately yet inevitably non-convex, we cannot expect to find the infimum $q(\\mathbf{\\lambda})$. However, let us consider a local minimum $\\tilde{q}(\\mathbf{\\lambda})$, which we will find by gradient descent. \n",
    "\n",
    "For a sufficiently small step size, we will do this gradient descent until we have found a stationary point:\n",
    "$$(A_{t + 1}, P_{t + 1}) = (A_t, P_t) - \\eta\\ \\nabla \\mathcal{L}(A_t, P_t, \\mathbf{\\lambda})$$\n",
    "Note that this is an $\\textit{unconstrained}$ optimization problem now, which should make things more easy. \n",
    "\n",
    "Suppose that after a number of iterations, we have found this local minimum with parameters $\\tilde{A}$, $\\tilde{P}$. Then, we have that $$\\tilde{q}(\\mathbf{\\lambda}) = \\mathcal{L}(\\tilde{A}, \\tilde{P}, \\mathbf{\\lambda}).$$"
   ]
  },
  {
   "cell_type": "code",
   "execution_count": 1741,
   "id": "26ed7f3d",
   "metadata": {},
   "outputs": [],
   "source": [
    "# get gradient of our outcome\n",
    "def grad_a(A, P, i, j, As = As, Ps = Ps):\n",
    "    P_inv = np.linalg.inv(P)\n",
    "    Ps_inv = np.linalg.inv(Ps)\n",
    "    \n",
    "    B = np.matmul(P_inv, np.matmul(A, P))\n",
    "    Bs = np.matmul(Ps_inv, np.matmul(As, Ps))\n",
    "    \n",
    "    J = np.zeros((n, n))\n",
    "    J[i][j] = 1\n",
    "    \n",
    "    covariance_X = np.matmul(np.linalg.inv(np.identity(n ** 2) - np.kron(Bs, Bs)), Sigma.reshape(n ** 2)).reshape((n, n))\n",
    "\n",
    "    return -2 * np.trace(np.matmul(covariance_X, np.matmul((Bs - B).transpose(), np.matmul(P_inv, np.matmul(J, P)))))\n",
    "\n",
    "def grad_p(A, P, i, j, As = As, Ps = Ps):\n",
    "    P_inv = np.linalg.inv(P)\n",
    "    Ps_inv = np.linalg.inv(Ps)\n",
    "    \n",
    "    B = np.matmul(P_inv, np.matmul(A, P))\n",
    "    Bs = np.matmul(Ps_inv, np.matmul(As, Ps))\n",
    "    \n",
    "    J = np.zeros((n, n))\n",
    "    J[i][j] = 1\n",
    "    \n",
    "    covariance_X = np.matmul(np.linalg.inv(np.identity(n ** 2) - np.kron(Bs, Bs)), Sigma.reshape(n ** 2)).reshape((n, n))\n",
    "\n",
    "    B_grad = np.matmul(P_inv, np.matmul(A, J))\n",
    "    B_grad -= np.matmul(P_inv, np.matmul(J, np.matmul(P_inv, np.matmul(A, P))))\n",
    "    \n",
    "    return -2 * np.trace(np.matmul(covariance_X, np.matmul((Bs - B).transpose(), B_grad))) - lambdasineq[i][j] - lambdas[0][j] - lambdas[1][i]\n",
    "\n",
    "def get_gradient(A, P):\n",
    "    gradient = np.zeros(int(n * (n + 1) / 2 + n ** 2))\n",
    "    index = 0\n",
    "    \n",
    "    for i in range(n):\n",
    "        for j in range(i + 1):\n",
    "            gradient[index] = grad_a(A, P, i, j)\n",
    "            index += 1\n",
    "            \n",
    "    for i in range(n):\n",
    "        for j in range(n):\n",
    "            gradient[index] = grad_p(A, P, i, j)\n",
    "            index += 1\n",
    "            \n",
    "    return gradient"
   ]
  },
  {
   "cell_type": "markdown",
   "id": "d1d2697b",
   "metadata": {},
   "source": [
    "## Deriving the dual problem\n",
    "Now that we have $\\tilde{q}(\\mathbf{\\lambda})$, the solution to the dual problem is\n",
    "$$\\max_{\\lambda} \\tilde{q}(\\mathbf{\\lambda}),$$\n",
    "which is again an unconstrained optimization problem, which we can also optimize by maximizing $\\lambda$'s.\n",
    "\n",
    "## Final Algorithm\n",
    "To solve this problem, we simply iterate the following:\n",
    "- While $\\nabla \\mathcal{L}(A_t, P_t, \\mathbf{\\lambda}) \\geq 0$:\n",
    "    - $(A_{t + 1}, P_{t + 1}) = (A_t, P_t) - \\eta\\ \\nabla \\mathcal{L}(A_t, P_t, \\mathbf{\\lambda})$\n",
    "    - $\\lambda_{ineq, i, j} = max(0, p_{ij})\\ \\forall i, j = 1, \\cdots, n$\n",
    "    - $\\lambda_{row, i} = 1 - \\sum_{j=1}^n p_{ij} \\ \\forall i = 1, \\cdots, n$\n",
    "    - $\\lambda_{col, j} = 1 - \\sum_{i=1}^n p_{ij} \\ \\forall j = 1, \\cdots, n$\n",
    "    \n",
    "We will end up in a local optimum of $C(A, P)$ while also fullfilling the constraints."
   ]
  },
  {
   "cell_type": "code",
   "execution_count": 1899,
   "id": "5519f3e1",
   "metadata": {},
   "outputs": [],
   "source": [
    "# Initial values\n",
    "A = np.zeros((n, n))\n",
    "P = np.ones((n, n)) / n + np.random.rand(n, n) / n\n",
    "lambdas = np.zeros((2, n))\n",
    "lambdasineq = np.zeros((n, n))"
   ]
  },
  {
   "cell_type": "code",
   "execution_count": 1896,
   "id": "82cea186",
   "metadata": {},
   "outputs": [],
   "source": [
    "# step size\n",
    "eta = 1e-4"
   ]
  },
  {
   "cell_type": "code",
   "execution_count": null,
   "id": "ea1a4c05",
   "metadata": {},
   "outputs": [],
   "source": [
    "# the algorithm\n",
    "grad = get_gradient(A, P)\n",
    "\n",
    "# while gradient is larger than zero (or a value close)\n",
    "while np.sum(np.abs(grad)) > 0.00001:\n",
    "    \n",
    "    # get gradient\n",
    "    A_grad = np.zeros((n , n))\n",
    "    A_grad[np.tril_indices(n)] = grad[:int(n * (n + 1) / 2)]\n",
    "    P_grad = grad[int(n * (n + 1) / 2):].reshape((n , n))\n",
    "\n",
    "    # update A and B according to gradient\n",
    "    A -= eta * A_grad / 2\n",
    "    P -= eta * P_grad / 2\n",
    "    \n",
    "    # recompute gradient\n",
    "    grad = get_gradient(A, P)\n",
    "    \n",
    "    print(\"Gradient:\", np.sum(np.abs(grad)))\n",
    "    print(expected_cost_lagrange(A, P))    \n",
    "    \n",
    "    # update equality constraints\n",
    "    for row_or_col in range(2):\n",
    "        for i in range(n):\n",
    "            lagrange[row_or_col][i] = grad_lambda(A, P, i, row_or_col)\n",
    "\n",
    "    # update equality constraints\n",
    "    lambdas = lagrange\n",
    "    \n",
    "    # update inequality constraints\n",
    "    lambdasineq = np.maximum(np.zeros((n, n)), -P)"
   ]
  },
  {
   "cell_type": "markdown",
   "id": "d9ad9e1b",
   "metadata": {},
   "source": [
    "## Verification\n",
    "First of all, let us look at $A$ and $P$. These should adhere to the constraints. We indeed see this is the case. Furthermore, let us look at our lambdas, they should all be (closely) equal to zero. Furthermore, let us look at the gradients, all gradients, as well as with respect to lambda, should be close to zero. Lastly, the expected cost of the lagrangian and the regular expected cost should be close to the global optimum, which is the trace of $\\Sigma$."
   ]
  },
  {
   "cell_type": "code",
   "execution_count": 1873,
   "id": "0eb9afcb",
   "metadata": {},
   "outputs": [
    {
     "name": "stdout",
     "output_type": "stream",
     "text": [
      "A:\n",
      "[[ 0.9442672   0.          0.          0.          0.        ]\n",
      " [ 0.71139131 -0.19192319  0.          0.          0.        ]\n",
      " [ 1.75291726 -0.32849846  0.44185863  0.          0.        ]\n",
      " [ 0.63860386  0.44843064 -0.00387412  0.48694836  0.        ]\n",
      " [ 1.20204355  0.21413035 -0.02164681  0.65558752  0.26328157]]\n",
      "\n",
      "P:\n",
      "[[ 0.44708326  0.24508246  0.36591829  0.02864792 -0.01100267]\n",
      " [ 0.80601479 -0.07304353  0.20709414  0.06199506 -0.03471924]\n",
      " [-0.0460941   0.17048895  0.31141212  0.23315074  0.28066933]\n",
      " [-0.05656503  0.45570727  0.29985604  0.06918093  0.20110257]\n",
      " [-0.08487268  0.30086738 -0.15134379  0.45378829  0.48334898]]\n",
      "\n",
      "Equality constraints:\n",
      "[[-0.06556635 -0.09910235 -0.03293696  0.15323751  0.08060067]\n",
      " [-0.07572941  0.0326587   0.05037301  0.03071824 -0.00178802]]\n",
      "\n",
      "Inequality constraints:\n",
      "[[0.         0.         0.         0.         0.01100281]\n",
      " [0.         0.07304365 0.         0.         0.03471949]\n",
      " [0.04609428 0.         0.         0.         0.        ]\n",
      " [0.05656484 0.         0.         0.         0.        ]\n",
      " [0.08487283 0.         0.15134421 0.         0.        ]]\n",
      "\n",
      "Gradients:\n",
      "[ 2.09724992e-03  1.78629776e-03 -1.44964396e-02 -4.56819819e-02\n",
      "  2.24943494e-02  1.09179322e-02 -2.94407539e-02 -1.37825098e-02\n",
      "  5.30727324e-03  3.86446130e-02 -3.75581680e-02  2.98360745e-02\n",
      "  2.17034286e-02 -4.00125277e-02 -3.64103936e-02 -3.67065931e-03\n",
      "  9.51450550e-03 -8.04391511e-05  8.59630577e-03 -6.84434234e-03\n",
      "  1.62402820e-02 -5.85903149e-03 -1.45587859e-02  2.09423977e-02\n",
      " -1.22086942e-02 -8.89179202e-03 -2.16195504e-02  5.63739696e-02\n",
      " -1.07048144e-02 -1.68803939e-02  9.43176811e-03 -2.07670192e-02\n",
      " -1.22696808e-02 -4.34904256e-02  6.66299752e-02 -7.42006293e-03\n",
      "  2.94838249e-02 -2.12446983e-02  2.23223099e-03 -1.15825046e-02]\n",
      "\n",
      "Expected Cost: 5.038637846567396\n",
      "Lagrange expected cost: 5.136201369608667\n"
     ]
    }
   ],
   "source": [
    "print(f\"A:\\n{A}\\n\\nP:\\n{P}\\n\\nEquality constraints:\\n{lambdas}\\n\\nInequality constraints:\\n{lambdasineq}\\n\")\n",
    "print(f\"Gradients:\\n{get_gradient(A, P)}\\n\")\n",
    "print(f\"Expected Cost: {expected_cost(A, P)}\\nLagrange expected cost: {expected_cost_lagrange(A, P)}\")"
   ]
  },
  {
   "cell_type": "code",
   "execution_count": 1474,
   "id": "0d4e38fd",
   "metadata": {},
   "outputs": [
    {
     "name": "stdout",
     "output_type": "stream",
     "text": [
      "2.7213035548090403e-05\n",
      "[[0. 0. 0.]\n",
      " [0. 0. 0.]]\n"
     ]
    }
   ],
   "source": [
    "# optimize dual\n",
    "def grad_lambda(A, P, i, row_or_col):\n",
    "    if row_or_col:\n",
    "        return - np.sum(P[i]) + 1\n",
    "    else:\n",
    "        return - np.sum(P[:, i]) + 1\n",
    "\n",
    "lambdas = np.zeros((2, n))\n",
    "for row_or_col in range(2):\n",
    "    for i in range(n):\n",
    "        lagrange[row_or_col][i] = grad_lambda(A, P, i, row_or_col)\n",
    "\n",
    "print(np.sum(np.abs(lagrange)))\n",
    "# lambdas += lagrange\n",
    "print(lambdas)"
   ]
  },
  {
   "cell_type": "code",
   "execution_count": 1632,
   "id": "a266bdcf",
   "metadata": {},
   "outputs": [
    {
     "name": "stdout",
     "output_type": "stream",
     "text": [
      "[[ 0.78786133  0.03749397  0.17483012]\n",
      " [ 0.21388269  0.44774375  0.33790395]\n",
      " [-0.00108668  0.51584377  0.48563721]]\n",
      "1.0006573329784478\n",
      "1.0010814907678938\n",
      "0.9983712778229797\n",
      "1.0001854181168865\n",
      "0.9995303847401568\n",
      "1.000394298712278\n",
      "[[ 0.53651724  0.          0.        ]\n",
      " [ 0.55660099  0.16752795  0.        ]\n",
      " [ 0.60872731 -0.10241169  0.29617121]]\n"
     ]
    }
   ],
   "source": [
    "print(P)\n",
    "print(P[:,0].sum())\n",
    "print(P[:,1].sum())\n",
    "print(P[:,2].sum())\n",
    "print(P[0].sum())\n",
    "print(P[1].sum())\n",
    "print(P[2].sum())\n",
    "\n",
    "print(A)"
   ]
  },
  {
   "cell_type": "code",
   "execution_count": 1832,
   "id": "0136a531",
   "metadata": {},
   "outputs": [
    {
     "name": "stdout",
     "output_type": "stream",
     "text": [
      "[[ 0.17998707  0.08905369 -0.01265405 -0.02612188  0.02989728]\n",
      " [ 0.85167812  0.05597693 -0.04137906  0.03272593 -0.00625724]\n",
      " [ 0.34190774  0.44203072  0.92970935  0.06616251 -0.05281964]\n",
      " [ 0.45130809  0.85840495  0.99574185  0.32153006  0.02691043]\n",
      " [ 0.53068155  0.65829438  0.6948119   0.11089456  0.45839715]]\n"
     ]
    }
   ],
   "source": [
    "print(np.matmul(np.linalg.inv(P), np.matmul(A, P)))"
   ]
  },
  {
   "cell_type": "code",
   "execution_count": 1833,
   "id": "376b951c",
   "metadata": {},
   "outputs": [
    {
     "name": "stdout",
     "output_type": "stream",
     "text": [
      "[[0.21212736 0.         0.         0.         0.        ]\n",
      " [0.87177441 0.05978334 0.         0.         0.        ]\n",
      " [0.3881885  0.41522956 0.94850424 0.         0.        ]\n",
      " [0.4417668  0.90098613 0.99231299 0.35049124 0.        ]\n",
      " [0.51463189 0.69599484 0.73467549 0.09184872 0.45206036]]\n"
     ]
    }
   ],
   "source": [
    "print(np.matmul(np.linalg.inv(Ps), np.matmul(As, Ps)))"
   ]
  },
  {
   "cell_type": "code",
   "execution_count": 1718,
   "id": "7115cf90",
   "metadata": {},
   "outputs": [
    {
     "data": {
      "text/plain": [
       "[<matplotlib.lines.Line2D at 0x1dca36e4d68>]"
      ]
     },
     "execution_count": 1718,
     "metadata": {},
     "output_type": "execute_result"
    },
    {
     "data": {
      "image/png": "[encoded data removed]",
      "text/plain": [
       "<Figure size 432x288 with 1 Axes>"
      ]
     },
     "metadata": {
      "needs_background": "light"
     },
     "output_type": "display_data"
    }
   ],
   "source": [
    "# verify gradients\n",
    "a_list = np.linspace(-1, 1, 100)\n",
    "A2 = As.copy()\n",
    "\n",
    "i, j = 1, 1\n",
    "\n",
    "results = [[], []]\n",
    "\n",
    "for a in a_list:\n",
    "    A2[i][j] = a\n",
    "    results[0].append(expected_cost_lagrange(A2, P, As = As, Ps = Ps))\n",
    "    results[1].append(grad_a(A2, P, i, j))\n",
    "\n",
    "import matplotlib.pyplot as plt\n",
    "plt.plot(results[0])\n",
    "plt.plot(results[1])\n",
    "plt.plot([0, 100],[0, 0])"
   ]
  },
  {
   "cell_type": "code",
   "execution_count": 1871,
   "id": "b97919ff",
   "metadata": {},
   "outputs": [
    {
     "name": "stdout",
     "output_type": "stream",
     "text": [
      "-0.034870339745329826\n"
     ]
    },
    {
     "data": {
      "text/plain": [
       "[<matplotlib.lines.Line2D at 0x1dca3c38828>]"
      ]
     },
     "execution_count": 1871,
     "metadata": {},
     "output_type": "execute_result"
    },
    {
     "data": {
      "image/png": "[encoded data removed]",
      "text/plain": [
       "<Figure size 432x288 with 1 Axes>"
      ]
     },
     "metadata": {
      "needs_background": "light"
     },
     "output_type": "display_data"
    }
   ],
   "source": [
    "# verify gradients\n",
    "p_list = np.linspace(0, 1, 100)\n",
    "P2 = P.copy()\n",
    "\n",
    "lambdas = 0.1 * np.ones((2, n))\n",
    "i, j = 1, 4\n",
    "print(P[i][j])\n",
    "\n",
    "\n",
    "results = [[], []]\n",
    "\n",
    "for p in p_list:\n",
    "    P2[i][j] = p\n",
    "    results[0].append(expected_cost_lagrange(As, P2, As = As, Ps = Ps))\n",
    "    results[1].append(grad_p(As, P2, i, j))\n",
    "\n",
    "import matplotlib.pyplot as plt\n",
    "plt.plot(results[0])\n",
    "plt.plot(results[1])\n",
    "plt.plot([0, 100],[0, 0])"
   ]
  },
  {
   "cell_type": "code",
   "execution_count": 1723,
   "id": "a95f0fe5",
   "metadata": {},
   "outputs": [
    {
     "data": {
      "text/plain": [
       "[<matplotlib.lines.Line2D at 0x1dca37bb080>]"
      ]
     },
     "execution_count": 1723,
     "metadata": {},
     "output_type": "execute_result"
    },
    {
     "data": {
      "image/png": "[encoded data removed]",
      "text/plain": [
       "<Figure size 432x288 with 1 Axes>"
      ]
     },
     "metadata": {
      "needs_background": "light"
     },
     "output_type": "display_data"
    }
   ],
   "source": [
    "# verify gradients\n",
    "p_list = np.linspace(0, 1, 100)\n",
    "P2 = Ps.copy()\n",
    "\n",
    "lambdas = 0.1 * np.ones((2, n))\n",
    "lambdasineq = 0.5 * np.ones((n, n))\n",
    "\n",
    "i, j = 0, 1\n",
    "\n",
    "results = [[], []]\n",
    "\n",
    "for p in p_list:\n",
    "    P2[i][j] = p\n",
    "    results[0].append(expected_cost_lagrange(As, P2, As = As, Ps = Ps))\n",
    "    results[1].append(grad_p(As, P2, i, j))\n",
    "\n",
    "import matplotlib.pyplot as plt\n",
    "plt.plot(results[0])\n",
    "plt.plot(results[1])\n",
    "plt.plot([0, 100],[0, 0])"
   ]
  },
  {
   "cell_type": "markdown",
   "id": "11443c14",
   "metadata": {},
   "source": [
    "To deal with the constraints that $p$ must be non-negative, we project the entries by applying the sigmoid function of each entry. Note that the range of the sigmoid is $(0, 1)$, which is also what we require for our entries $p$ (we did not explicitly constrain $p$ to be smaller than 1, but the equality constraints combined with the non-negativity constraints make sure that is the case.\n",
    "To deal with the $2n$ equality constraints, we use $\\textit{lagrange multipliers}$ $\\lambda_{row, i}$, $i = 1, \\cdots, n$ and $\\lambda_{col, j}$, $j = 1, \\cdots, n$. The dual function now becomes \n",
    "\n",
    "$$\\mathcal{L}(A, P_\\sigma, \\mathbf{\\lambda}) = C(A, P) - \\sum_{i=1}^n \\lambda_{row, i} \\left(\\sum_{j = 1}^n p_{ij} - 1\\right) - \\sum_{j = 1}^n \\lambda_{col, j} \\left(\\sum_{i = 1}^n p_{ij} - 1\\right),$$\n",
    "where $P = \\sigma(P_\\sigma)$"
   ]
  }
 ],
 "metadata": {
  "kernelspec": {
   "display_name": "Python 3.6.8 64-bit",
   "language": "python",
   "name": "python36864bit874e3a48d9b148faaa09714964fd179b"
  },
  "language_info": {
   "codemirror_mode": {
    "name": "ipython",
    "version": 3
   },
   "file_extension": ".py",
   "mimetype": "text/x-python",
   "name": "python",
   "nbconvert_exporter": "python",
   "pygments_lexer": "ipython3",
   "version": "3.6.8"
  }
 },
 "nbformat": 4,
 "nbformat_minor": 5
}
