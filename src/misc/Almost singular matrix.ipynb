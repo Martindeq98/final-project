{
 "cells": [
  {
   "cell_type": "code",
   "execution_count": 19,
   "id": "764855e8",
   "metadata": {},
   "outputs": [],
   "source": [
    "import numpy as np"
   ]
  },
  {
   "cell_type": "code",
   "execution_count": 23,
   "id": "02e5b0cd",
   "metadata": {},
   "outputs": [
    {
     "name": "stdout",
     "output_type": "stream",
     "text": [
      "P:\n",
      "[[0.28333333 0.38333333 0.33333333]\n",
      " [0.38333333 0.28333333 0.33333333]\n",
      " [0.33333333 0.33333333 0.33333333]]\n",
      "\n",
      "Inv(P):\n",
      "[[ 4.50359963e+15  4.50359963e+15 -9.00719925e+15]\n",
      " [ 4.50359963e+15  4.50359963e+15 -9.00719925e+15]\n",
      " [-9.00719925e+15 -9.00719925e+15  1.80143985e+16]]\n"
     ]
    }
   ],
   "source": [
    "epsilon = 0.05\n",
    "P = np.ones((3, 3)) / 3\n",
    "\n",
    "P[0][0] -= epsilon\n",
    "P[1][1] -= epsilon\n",
    "P[0][1] += epsilon\n",
    "P[1][0] += epsilon\n",
    "\n",
    "print(f\"P:\\n{P}\\n\")\n",
    "print(f\"Inv(P):\\n{np.linalg.inv(P)}\")"
   ]
  }
 ],
 "metadata": {
  "kernelspec": {
   "display_name": "Python 3.6.8 64-bit",
   "language": "python",
   "name": "python36864bit874e3a48d9b148faaa09714964fd179b"
  },
  "language_info": {
   "codemirror_mode": {
    "name": "ipython",
    "version": 3
   },
   "file_extension": ".py",
   "mimetype": "text/x-python",
   "name": "python",
   "nbconvert_exporter": "python",
   "pygments_lexer": "ipython3",
   "version": "3.6.8"
  }
 },
 "nbformat": 4,
 "nbformat_minor": 5
}
