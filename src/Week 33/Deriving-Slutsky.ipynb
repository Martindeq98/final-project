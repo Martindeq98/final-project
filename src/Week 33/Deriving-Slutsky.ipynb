{
 "cells": [
  {
   "cell_type": "markdown",
   "id": "3ffbcc2d",
   "metadata": {},
   "source": [
    "$$H_0: a = 0 => CV(a = 0) \\sim \\chi^2_{T - 1}$$\n",
    "\n",
    "$$H_1: a = \\hat{a}$$"
   ]
  },
  {
   "cell_type": "code",
   "execution_count": 2,
   "id": "e0848288",
   "metadata": {},
   "outputs": [],
   "source": [
    "import matplotlib.pyplot as plt\n",
    "from scipy.stats import norm\n",
    "from scipy.stats import chi2\n",
    "from scipy.special import kv"
   ]
  },
  {
   "cell_type": "code",
   "execution_count": 3,
   "id": "f2c2f18a",
   "metadata": {},
   "outputs": [],
   "source": [
    "import numpy as np\n",
    "from tqdm import tqdm"
   ]
  },
  {
   "cell_type": "code",
   "execution_count": 4,
   "id": "26b54f5c",
   "metadata": {},
   "outputs": [],
   "source": [
    "a, b, T = 0, 0, 100"
   ]
  },
  {
   "cell_type": "code",
   "execution_count": 5,
   "id": "7a2281f1",
   "metadata": {},
   "outputs": [],
   "source": [
    "def gen_ar(a, T, s = 1):\n",
    "    X = np.zeros(T)\n",
    "    \n",
    "    noises = np.append(np.random.normal(0, np.sqrt(s / (1 - a ** 2))), np.random.normal(0, np.sqrt(s), T - 1))\n",
    "    \n",
    "    # generate AR(1)\n",
    "    X[0] = noises[0]\n",
    "    \n",
    "    for t in range(1, T):\n",
    "        X[t] = a * X[t - 1] + noises[t]\n",
    "        \n",
    "    return X, noises"
   ]
  },
  {
   "cell_type": "code",
   "execution_count": 6,
   "id": "439a9950",
   "metadata": {},
   "outputs": [],
   "source": [
    "def gen_ar_laplace(a, T, s = 1):\n",
    "    X = np.zeros(T)\n",
    "    \n",
    "    b = 10\n",
    "    noises = np.random.laplace(0, b, T)\n",
    "    noises[0] = np.random.laplace(0, b / np.sqrt(1 - a ** 2), 1)\n",
    "    \n",
    "    # generate AR(1)\n",
    "    X[0] = noises[0]\n",
    "    \n",
    "    for t in range(1, T):\n",
    "        X[t] = a * X[t - 1] + noises[t]\n",
    "        \n",
    "    return X, noises"
   ]
  },
  {
   "cell_type": "markdown",
   "id": "1deed31a",
   "metadata": {},
   "source": [
    "\\begin{align*}C_T^{\\text{approx}} &= \\sum_{t = 1}^{T-1}\\frac{X_t^2}{X_t^2 - \\sum_{k = 1}^{T-1}X_k^2}\\varepsilon_{t+1}^2\\\\\n",
    "&= \\sum_{t = 1}^{T-1}\\frac{\\frac{1}{T - 2}X_t^2}{\\frac{1}{T - 2}X_t^2 - \\frac{1}{T - 2}\\sum_{k = 1}^{T-1}X_k^2}\\varepsilon_{t+1}^2\\\\\n",
    "&\\approx \\frac{1 - a^2}{\\mathbb{V}\\left(\\varepsilon\\right)} \\frac{1}{T - 2}\\sum_{t=1}^{T-1}X_t^2\\varepsilon_{t+1}^2\\end{align*}\n",
    "\n",
    "As the denominator represented by the variable $$Y = -\\frac{1}{T - 2}\\sum_{k = 1, k \\neq t}^{T-1}X_k^2$$ converges in distribution to $$\\frac{\\mathbb{V}\\left(\\varepsilon\\right)}{1 - a^2}.$$ So, we only need to investigate $$\\frac{1}{T-2}\\sum_{t=1}^{T-1}X_t^2\\varepsilon_{t+1}^2.$$ \n",
    "\n",
    "Alternatively, we can say that $$Y' = \\frac{X_t^2}{X_t^2 - \\sum_{k = 1}^{T-1}X_k^2}$$ converges in distribution to $1 / T$."
   ]
  },
  {
   "cell_type": "code",
   "execution_count": 88,
   "id": "caf8e7d7",
   "metadata": {},
   "outputs": [
    {
     "name": "stdout",
     "output_type": "stream",
     "text": [
      "10.439348679138472\n"
     ]
    }
   ],
   "source": [
    "print((X[1:-1] ** 2).mean())"
   ]
  },
  {
   "cell_type": "code",
   "execution_count": 188,
   "id": "95873459",
   "metadata": {},
   "outputs": [
    {
     "name": "stdout",
     "output_type": "stream",
     "text": [
      "-21.525783719934758\n",
      "-5.263157894736843\n",
      "-4.017279347015994\n",
      "-4.107567749195775\n",
      "-4.005420052165455\n"
     ]
    }
   ],
   "source": [
    "a, T, s = 0.9, 100000, 4\n",
    "X, noises = gen_ar(a, T, s)\n",
    "\n",
    "## Variable Y, random variable and value\n",
    "print(1 / T * (np.array(X[1:-1] ** 2) - sum(X[1:-1] ** 2)).mean())\n",
    "print(- 1 / (1 - a ** 2))\n",
    "\n",
    "## Approxiamte C_T, as well as the decomposed value, seem close, but is the distribution the same?\n",
    "print(((X[1:-1] * noises[2:]) ** 2 / (X[1:-1] ** 2 - np.dot(X[:-1], X[:-1]))).sum())\n",
    "print(-(1 - a ** 2) / (s * (T - 2)) * sum((X[1:-1] * noises[2:]) ** 2))\n",
    "#print(- 1 / (s * (T - 2)) * sum((X[1:-1] * noises[2:]) ** 2))\n",
    "print(- 1 / (T - 2) * sum((noises[2:]) ** 2))\n"
   ]
  },
  {
   "cell_type": "code",
   "execution_count": 440,
   "id": "ba22d092",
   "metadata": {},
   "outputs": [
    {
     "name": "stdout",
     "output_type": "stream",
     "text": [
      "-1.064750028599026\n",
      "2037.1411750254765\n",
      "2051.282051282051\n",
      "2051.2820512820504\n"
     ]
    }
   ],
   "source": [
    "print(np.mean(X))\n",
    "print(np.cov(X))\n",
    "print(2 * 100 / (1 - a ** 2))\n",
    "print(2 * 100 * (1 / np.sqrt(1 - a ** 2)) ** 2)"
   ]
  },
  {
   "cell_type": "code",
   "execution_count": 214,
   "id": "d687bc83",
   "metadata": {},
   "outputs": [
    {
     "name": "stderr",
     "output_type": "stream",
     "text": [
      "100%|███████████████████████████████████████████████████████████████████████████| 25000/25000 [00:37<00:00, 673.79it/s]\n"
     ]
    }
   ],
   "source": [
    "cv_0 = []\n",
    "cv_MLE = []\n",
    "cv_LOOCV_one = []\n",
    "cv_LOOCV_two = []\n",
    "cv_MLE_LOOCV_diff = []\n",
    "\n",
    "cv_MLE_LOOCV_diff_1 = []\n",
    "cv_MLE_LOOCV_diff_2 = []\n",
    "\n",
    "a_MLE_list = np.array([])\n",
    "a_LOOCV_one_list = np.array([])\n",
    "a_LOOCV_two_list = np.array([])\n",
    "\n",
    "cv_diff = []\n",
    "cv_diff_2 = []\n",
    "\n",
    "h_list = []\n",
    "h_list_2 = []\n",
    "h_list_3 = []\n",
    "h_list_4 = []\n",
    "h_list_5 = []\n",
    "h_list_6 = []\n",
    "\n",
    "sum_lst = []\n",
    "iters = 25000\n",
    "a, T, s = 0.5, 1000, 2.0\n",
    "for _ in tqdm(range(iters)):\n",
    "    \n",
    "    ## Generate Data\n",
    "    X, noises = gen_ar(a, T, s = s)\n",
    "    # a_est = np.zeros(T)\n",
    "    \n",
    "    ## CV-0: Use the true value for a\n",
    "    cv_0 =  np.linalg.norm(X[2:] - a * X[1:-1], 2) ** 2\n",
    "    # cv_0.append(1 / (T - 2) * np.linalg.norm(X[2:] - a * X[1:-1], 2) ** 2)\n",
    "    \n",
    "#     ## CV-01: Use the MLE value for a\n",
    "    a_MLE = (np.dot(X[:-1], X[1:])) / (np.dot(X[:-1], X[:-1]))\n",
    "    cv_MLE = np.linalg.norm(X[2:] - a_MLE * X[1:-1], 2) ** 2\n",
    "    # cv_MLE.append(1 / (T - 2) * np.linalg.norm(X[2:] - a_MLE * X[1:-1], 2) ** 2)\n",
    "# #     a_MLE_list = np.append(a_MLE_list, a_MLE)\n",
    "    \n",
    "#     ## CV-1: Use the LOOCV-one for a\n",
    "    a_LOOCV_one = (np.dot(X[:-1], X[1:]) - X[1:-1] * X[2:]) / (np.dot(X[:-1], X[:-1]) - X[1:-1] * X[1:-1])\n",
    "    cv_1 = np.linalg.norm(X[2:] - a_LOOCV_one * X[1:-1], 2) ** 2\n",
    "#     a_LOOCV_one_list = np.append(a_LOOCV_one_list, np.mean(a_LOOCV_one))\n",
    "    # cv_LOOCV_one.append(1 / (T - 2) * np.linalg.norm(X[2:] - a_LOOCV_one * X[1:-1], 2) ** 2)\n",
    "        \n",
    "    ## Differences in cv.\n",
    "    cv_MLE_LOOCV_diff.append(1 / (T - 2) * np.linalg.norm(X[2:] - a_MLE * X[1:-1], 2) ** 2 - 1 / (T - 2) * np.linalg.norm(X[2:] - a_LOOCV_one * X[1:-1], 2) ** 2)\n",
    "    cv_diff.append(cv_0 - cv_1)     # should be chi squared distributed + CT\n",
    "    cv_diff_2.append(cv_0 - cv_MLE) # should be chi squared distribted\n",
    "    \n",
    "    ## Exact value for CT\n",
    "    cv_MLE_LOOCV_diff.append(cv_MLE -  cv_1) # value of CT\n",
    "    # cv_MLE_LOOCV_diff.append((-2 * a_MLE * X[1:-1] * X[2:] + 2 * a_LOOCV_one * X[1:-1] * X[2:]).sum())\n",
    "    # cv_MLE_LOOCV_diff.append((-2 * (a_MLE - a_LOOCV_one) * X[1:-1] * noises[2:]).sum())\n",
    "#     cv_MLE_LOOCV_diff_1.append((-2 * (a_MLE - a_LOOCV_one) * (a * noises[:-2] + noises[1:-1]) * noises[2:]).sum())\n",
    "#     # cv_MLE_LOOCV_diff_1.append((a_MLE * X[1:-1] * noises[2:]).sum())\n",
    "#     # cv_MLE_LOOCV_diff_2.append((a_LOOCV_one * X[1:-1] * noises[2:]).sum())\n",
    "    \n",
    "#     ## CV-2: Use the LOOCV-two for a\n",
    "#     a_LOOCV_two = (np.dot(X[:-1], X[1:]) - X[:-2] * X[1:-1] - X[1:-1] * X[2:]) / (np.dot(X[:-1], X[:-1]) - X[:-2] * X[:-2] - X[1:-1] * X[1:-1])\n",
    "# #     a_LOOCV_two_list = np.append(a_LOOCV_two_list, np.mean(a_LOOCV_two))\n",
    "# #     cv_LOOCV_two.append(1 / (T - 2) * np.linalg.norm(X[2:] - a_LOOCV_two * X[1:-1], 2) ** 2)\n",
    "    \n",
    "    # print(np.array(cv_MLE_LOOCV_diff))\n",
    "    # h_i = X[1:-1] ** 2 * 1 / (np.dot(X[:-1], X[:-1]))\n",
    "#     h_list.append(-1 / (1 - h_i) * 1 / (np.dot(X[:-1], X[:-1])) * X[1:-1] * (X[2:] - a_MLE * X[1:-1]))\n",
    "    # print((-2 / (1 - h_i) * 1 / (np.dot(X[:-1], X[:-1])) * X[1:-1] * (X[2:] - a_MLE * X[1:-1]) * X[1:-1] * noises[2:]).sum())\n",
    "#     h_list_2.append(- X[1:-1] / (X[1:-1] ** 2 - np.dot(X[:-1], X[:-1])) * (X[2:] - a_MLE * X[1:-1]))\n",
    "    # print((- X[1:-1] / (X[1:-1] ** 2 - np.dot(X[:-1], X[:-1])) * (X[2:] - a_MLE * X[1:-1])).sum())\n",
    "    # print(-2 * (- X[1:-1] / (X[1:-1] ** 2 - np.dot(X[:-1], X[:-1])) * ((a - a_MLE) * X[1:-1] + noises[2:]) * X[1:-1] * noises[2:]).sum())\n",
    "    \n",
    "#     print((- (X[1:-1] * noises[2:]) ** 2 / (X[1:-1] ** 2 - np.dot(X[:-1], X[:-1]))).sum())\n",
    "\n",
    "    ## Approximate value for CT\n",
    "    h_list_4.append(((X[1:-1] * noises[2:]) ** 2 / (X[1:-1] ** 2 - np.dot(X[:-1], X[:-1]))).sum())\n",
    "    \n",
    "    ## Decomposed value for CT\n",
    "    h_list_5.append(-(1 - a ** 2) / (s * (T - 2)) * sum((X[1:-1] * noises[2:]) ** 2))\n",
    "    h_list_6.append(-1 / (T - 2) * ((noises[2:]) ** 2).sum())\n",
    "    # h_list_3.append(((noises[2:]) ** 2 / (1 - np.dot(X[:-1], X[:-1]))))\n",
    "    # h_list_4.append(2 * ((noises[2:]) ** 2 / (1 - np.dot(X[:-1], X[:-1]) / X[1:-1] ** 2)).sum())\n",
    "    # h_list_4.append(noises[2:] ** 2)\n",
    "    # h_list_5.append((X[1:-1] ** 2 / (- np.dot(X[:-1], X[:-1]))))\n",
    "    \n",
    "    # sum_lst.append(-2 * (a_MLE - a_LOOCV_one) * (a * noises[:-2] + noises[1:-1]) * noises[2:])"
   ]
  },
  {
   "cell_type": "code",
   "execution_count": 647,
   "id": "2b0f93ed",
   "metadata": {},
   "outputs": [
    {
     "name": "stdout",
     "output_type": "stream",
     "text": [
      "-0.7506607993760638\n",
      "-1.000617423775907\n"
     ]
    }
   ],
   "source": [
    "print(h_list_3[0].sum())\n",
    "print(h_list_4[0].sum())"
   ]
  },
  {
   "cell_type": "code",
   "execution_count": 614,
   "id": "40d032c4",
   "metadata": {},
   "outputs": [
    {
     "name": "stdout",
     "output_type": "stream",
     "text": [
      "2.0192435361473394e-12\n"
     ]
    }
   ],
   "source": [
    "print(np.cov(h_list_5[0]))"
   ]
  },
  {
   "cell_type": "code",
   "execution_count": 665,
   "id": "7cf32bbf",
   "metadata": {},
   "outputs": [],
   "source": [
    "cov_m = np.cov(np.array(h_list_4).T)"
   ]
  },
  {
   "cell_type": "code",
   "execution_count": 675,
   "id": "75917561",
   "metadata": {},
   "outputs": [
    {
     "name": "stdout",
     "output_type": "stream",
     "text": [
      "0.010007904081415005\n"
     ]
    }
   ],
   "source": [
    "print(sum([np.diag(cov_m, i).sum() for i in range(-T // 1000, T // 1000)])) # incorrect covariance"
   ]
  },
  {
   "cell_type": "code",
   "execution_count": 671,
   "id": "91cd6c94",
   "metadata": {},
   "outputs": [
    {
     "name": "stdout",
     "output_type": "stream",
     "text": [
      "0.008014187044150373\n",
      "0.0019937170372646322\n",
      "-5.255197835503569e-06\n",
      "-0.006006453028851598\n"
     ]
    }
   ],
   "source": [
    "print(np.diag(cov_m).sum()) # incorrect covariance\n",
    "print(np.diag(cov_m, 1).sum()) # incorrect covariance\n",
    "# print(np.diag(cov_m, 2).sum()) # incorrect covariance\n",
    "# print(np.diag(cov_m, 3).sum()) # incorrect covariance\n",
    "# print(np.diag(cov_m, 4).sum()) # incorrect covariance\n",
    "# print(np.diag(cov_m, 5).sum()) # incorrect covariance\n",
    "# print(np.diag(cov_m, 7000).sum()) # incorrect covariance\n",
    "# print(np.diag(cov_m, 100).sum()) # incorrect covariance\n",
    "# print()\n",
    "# print(np.diag(cov_m).sum() + 2 * (np.diag(cov_m, 1).sum() + np.diag(cov_m, 2).sum() + np.diag(cov_m, 3).sum() + np.diag(cov_m, 4).sum()))\n",
    "# print(cov_m.sum())          # correct covariance\n",
    "\n",
    "print(cov_m.sum() - (np.diag(cov_m).sum() + 2 * np.diag(cov_m, 1).sum()))"
   ]
  },
  {
   "cell_type": "code",
   "execution_count": 521,
   "id": "0276cb73",
   "metadata": {},
   "outputs": [
    {
     "name": "stdout",
     "output_type": "stream",
     "text": [
      "-0.999887797858515\n",
      "-1.0\n",
      "\n",
      "0.005152789758855513\n",
      "0.006\n",
      "\n"
     ]
    }
   ],
   "source": [
    "print(np.mean(np.sum(h_list_3, axis = 1)))\n",
    "print(-1.)\n",
    "print()\n",
    "print(np.cov(np.sum(h_list_3, axis = 1)))\n",
    "print(6 / T)\n",
    "print()\n",
    "\n",
    "# print([T ** 2 / 8 * np.cov(h_list) for h_list in np.array(h_list_3)])\n",
    "# print(np.cov(h_list_3))\n",
    "# print(6 / T)"
   ]
  },
  {
   "cell_type": "code",
   "execution_count": 504,
   "id": "66bd2230",
   "metadata": {},
   "outputs": [
    {
     "name": "stdout",
     "output_type": "stream",
     "text": [
      "0.9958851721204163\n",
      "1.0\n",
      "\n",
      "2.9626116865008285\n",
      "3.0\n",
      "\n",
      "1.970863829304857\n",
      "2.0\n",
      "\n",
      "-2.0001327568170902e-05\n",
      "-2e-05\n",
      "\n",
      "1.1858073885650968e-09\n",
      "1.2e-09\n",
      "\n",
      "7.857700001044669e-10\n",
      "8e-10\n",
      "\n"
     ]
    }
   ],
   "source": [
    "print(np.mean(h_list_4[0]))\n",
    "print(1.)\n",
    "print()\n",
    "print(np.mean(h_list_4[0] ** 2))\n",
    "print(3.)\n",
    "print()\n",
    "print(np.cov(h_list_4[0]))\n",
    "print(2.)\n",
    "print()\n",
    "print(np.mean(h_list_5[0]))\n",
    "print(-1 / T)\n",
    "print()\n",
    "print(np.mean(h_list_5[0] ** 2))\n",
    "print(3 / T ** 2)\n",
    "print()\n",
    "print(np.cov(h_list_5[0]))\n",
    "print(2. / T ** 2)\n",
    "print()"
   ]
  },
  {
   "cell_type": "code",
   "execution_count": 505,
   "id": "e48951c7",
   "metadata": {},
   "outputs": [
    {
     "name": "stdout",
     "output_type": "stream",
     "text": [
      "-1.978413924878489e-05\n",
      "-1.9919025547864707e-05\n",
      "-2e-05\n",
      "\n",
      "3.026274632761782e-09\n",
      "3.026274632761782e-09\n",
      "3.1163192485254976e-09\n",
      "3.2e-09\n"
     ]
    }
   ],
   "source": [
    "print(np.mean(h_list_3[0]))\n",
    "print(np.mean(h_list_4[0]) * np.mean(h_list_5[0]))\n",
    "print(-1 / T)\n",
    "print()\n",
    "print(np.cov(h_list_3[0]))\n",
    "print(np.cov(h_list_4[0] * h_list_5[0]))\n",
    "print(np.mean(h_list_4[0] ** 2) * np.mean(h_list_5[0] ** 2) - (np.mean(h_list_4[0]) * np.mean(h_list_5[0])) ** 2)\n",
    "print(3.0 * 3.0 / T ** 2 - 1.0 * 1 / T ** 2)"
   ]
  },
  {
   "cell_type": "code",
   "execution_count": 310,
   "id": "a131f248",
   "metadata": {},
   "outputs": [
    {
     "name": "stdout",
     "output_type": "stream",
     "text": [
      "-1.036812215401381\n",
      "-1.9658049150514862\n"
     ]
    }
   ],
   "source": [
    "print(sum(h_list_3[0][h_list_3[0] < np.percentile(h_list_3[0], 5)]))\n",
    "print(sum((h_list_3[0][h_list_3[0] < np.percentile(h_list_3[0], 50)])))"
   ]
  },
  {
   "cell_type": "code",
   "execution_count": 266,
   "id": "189343a1",
   "metadata": {},
   "outputs": [
    {
     "name": "stdout",
     "output_type": "stream",
     "text": [
      "[array([-2.06645103e-08, -3.34626502e-06, -1.61180414e-06, ...,\n",
      "       -1.84837868e-05, -1.62952926e-06, -3.50236295e-07])]\n",
      "-220296.59638755827\n",
      "-1371380611562730.5\n",
      "[-1.04769880e+06 -4.85038106e+05 -2.04613829e+05 -1.62740683e+05\n",
      " -1.25552934e+05 -8.02481576e+05 -1.95671116e+05 -8.65545802e+04\n",
      " -5.70068805e+05 -5.84590149e+04 -2.03232177e+05 -4.61824840e+05\n",
      " -3.68018517e+08 -2.55581540e+04 -1.01558438e+05 -2.91238907e+04\n",
      " -2.49524098e+04 -1.83860229e+05 -1.21108195e+05 -1.31791180e+05\n",
      " -5.15001629e+04 -3.82622412e+05 -1.77323154e+06 -1.29211193e+04\n",
      " -1.51504818e+05 -1.13157030e+05 -1.61933415e+04 -4.43058709e+04\n",
      " -8.91760034e+05 -9.25442789e+04 -3.00657401e+05 -7.22169559e+06\n",
      " -3.37821060e+05 -1.27072127e+05 -1.26583900e+05 -6.33781118e+04\n",
      " -5.54639012e+04 -1.10064743e+06 -2.58537655e+05 -7.94840314e+04\n",
      " -3.02601719e+05 -1.12221341e+06 -6.45513380e+04 -6.04862197e+04\n",
      " -2.07850412e+05 -7.43358428e+04 -1.03257419e+05 -2.40490909e+04\n",
      " -5.80787667e+05 -1.34499927e+05 -1.19518231e+04 -3.86898481e+06\n",
      " -8.66095929e+04 -2.57030098e+06 -1.84777911e+05 -1.92224073e+04\n",
      " -7.82228539e+05 -5.34011632e+05 -4.85694189e+06 -5.61359328e+04\n",
      " -4.62418843e+04 -1.10103640e+04 -5.24708045e+04 -3.53805346e+04\n",
      " -5.88553112e+04 -1.66799009e+05 -1.37641070e+05 -7.50547955e+04\n",
      " -3.28305708e+04 -1.73484756e+05 -1.54296485e+05 -6.19397612e+04\n",
      " -1.67035024e+06 -4.54631127e+04 -1.86132668e+05 -1.25961552e+06\n",
      " -6.73472071e+04 -1.10762401e+06 -2.48656536e+09 -6.17946811e+08\n",
      " -3.27192237e+05 -1.79400986e+06 -6.39291850e+04 -1.68363432e+05\n",
      " -7.43337122e+07 -1.59111696e+06 -1.91116550e+05 -1.48373167e+04\n",
      " -2.54876938e+04 -3.29301523e+06 -1.43411861e+05 -3.94258716e+04\n",
      " -3.04594534e+04 -7.49171952e+04 -4.28636254e+05 -3.42350815e+06\n",
      " -1.74001810e+04 -1.02911558e+07 -2.89943628e+05 -4.16120198e+04]\n",
      "8.335935344397884e-10\n",
      "-1.010010940497423e-05\n",
      "6e-05\n"
     ]
    }
   ],
   "source": [
    "print(h_list_3)\n",
    "# print(h_list_4[0].sum())\n",
    "print(np.median(h_list_5[0]))\n",
    "print(min(h_list_5[0]))\n",
    "# print((h_list_4[0] / h_list_5[0]).sum())\n",
    "\n",
    "# h_list_5[0].sort()\n",
    "print(h_list_5[0][900:1000])\n",
    "print(np.cov(to_hist))\n",
    "print(np.mean(to_hist))\n",
    "print(6 / T)"
   ]
  },
  {
   "cell_type": "code",
   "execution_count": 768,
   "id": "f0fc6689",
   "metadata": {},
   "outputs": [],
   "source": [
    "import matplotlib\n",
    "\n",
    "matplotlib.use(\"pgf\")\n",
    "matplotlib.rcParams.update({\n",
    "    \"pgf.texsystem\": \"pdflatex\",\n",
    "    'font.family': 'serif',\n",
    "    'text.usetex': True,\n",
    "    'pgf.rcfonts': False,\n",
    "    'font.size': 8\n",
    "})\n",
    "matplotlib.rcParams['axes.unicode_minus'] = False"
   ]
  },
  {
   "cell_type": "code",
   "execution_count": 199,
   "id": "cc8d67d8",
   "metadata": {},
   "outputs": [
    {
     "name": "stdout",
     "output_type": "stream",
     "text": [
      "-1.000126391765701\n",
      "-1.000322575224834\n",
      "-1.0001159493919918\n",
      "0.006\n",
      "0.006005937874770502\n",
      "0.012\n",
      "0.013239592445245892\n",
      "0.002\n",
      "0.00197609855845741\n"
     ]
    }
   ],
   "source": [
    "print(np.mean(h_list_6))\n",
    "print(np.mean(h_list_5))\n",
    "print(np.mean(h_list_4))\n",
    "\n",
    "print(6 / T)\n",
    "print(np.cov(h_list_4))\n",
    "\n",
    "print(12 / T)\n",
    "print(np.cov(h_list_5))\n",
    "\n",
    "print(2 / T)\n",
    "print(np.cov(h_list_6))"
   ]
  },
  {
   "cell_type": "code",
   "execution_count": 215,
   "id": "1f5de75c",
   "metadata": {},
   "outputs": [
    {
     "data": {
      "text/plain": [
       "<matplotlib.legend.Legend at 0x1cd498ee128>"
      ]
     },
     "execution_count": 215,
     "metadata": {},
     "output_type": "execute_result"
    },
    {
     "data": {
      "image/png": "[encoded data removed]",
      "text/plain": [
       "<Figure size 396x216 with 1 Axes>"
      ]
     },
     "metadata": {
      "needs_background": "light"
     },
     "output_type": "display_data"
    }
   ],
   "source": [
    "nbins = 45\n",
    "plt.figure(figsize = (5.5, 3))\n",
    "plt.grid(True)\n",
    "# plt.hist(cv_MLE_LOOCV_diff, bins = nbins, density = True, alpha = 0.4, label = r\"exact $C_T$\");\n",
    "plt.hist(h_list_4, bins = nbins, density = True, alpha = 0.6, label = r\"approximate $C_T$\");\n",
    "plt.hist(h_list_5, bins = nbins, density = True, alpha = 0.4, label = r\"Slutsky's $C_T$ v1\");\n",
    "plt.hist(h_list_6, bins = nbins, density = True, alpha = 0.4, label = r\"Slutsky's $C_T$ v2\");\n",
    "# plt.hist((np.array(h_list_5) + 1) / 2 - 1, bins = nbins, density = True, alpha = 0.6, label = r\"approximate $C_T$\");\n",
    "plt.title(f\"Normality Verification for $a = {a}$, $N = {iters}$, $T = {T}$.\")\n",
    "plt.ylabel(\"Density\")\n",
    "plt.xlabel(\"Value\")\n",
    "x = np.arange(min(h_list_5), max(h_list_5), (max(h_list_5) - min(h_list_5)) / 1000)\n",
    "# plt.plot(x, norm.pdf(x, loc = np.mean(cv_MLE_LOOCV_diff), scale = np.std(cv_MLE_LOOCV_diff)), label = r\"$Norm$\")\n",
    "plt.plot(x, norm.pdf(x, loc = -s, scale = s * np.sqrt(6  / T)), label = r\"$\\mathcal{N}(-s, 6s^2 /\\ T)$\", color = 'blue')\n",
    "plt.plot(x, norm.pdf(x, loc = -s, scale = s * np.sqrt(12 / T)), label = r\"$\\mathcal{N}(-s, 12s^2 /\\ T)$\", color = 'orange')\n",
    "plt.plot(x, norm.pdf(x, loc = -s, scale = s * np.sqrt(2 / T)), label = r\"$\\mathcal{N}(-s, 2s^2 /\\ T)$\", color = 'green')\n",
    "#get handles and labels\n",
    "handles, labels = plt.gca().get_legend_handles_labels()\n",
    "\n",
    "#specify order of items in legend\n",
    "order = [3, 4, 5, 0, 1, 2]\n",
    "\n",
    "#add legend to plot\n",
    "plt.legend([handles[idx] for idx in order],[labels[idx] for idx in order], framealpha=1.0)\n",
    "# plt.savefig(\"normalhist.pgf\")\n",
    "# plt.legend(framealpha=1.0)"
   ]
  },
  {
   "cell_type": "code",
   "execution_count": 540,
   "id": "d9c59153",
   "metadata": {},
   "outputs": [
    {
     "name": "stdout",
     "output_type": "stream",
     "text": [
      "2694000.7864352977\n",
      "-399.8143306979905\n"
     ]
    }
   ],
   "source": [
    "print(T * np.cov(cv_MLE_LOOCV_diff))\n",
    "print(np.mean(cv_MLE_LOOCV_diff))"
   ]
  },
  {
   "cell_type": "code",
   "execution_count": 235,
   "id": "6886491e",
   "metadata": {},
   "outputs": [
    {
     "data": {
      "text/plain": [
       "<matplotlib.legend.Legend at 0x1cd53a0df60>"
      ]
     },
     "execution_count": 235,
     "metadata": {},
     "output_type": "execute_result"
    },
    {
     "data": {
      "image/png": "[encoded data removed]",
      "text/plain": [
       "<Figure size 396x216 with 1 Axes>"
      ]
     },
     "metadata": {
      "needs_background": "light"
     },
     "output_type": "display_data"
    }
   ],
   "source": [
    "f = plt.figure(figsize = (5.5, 3))\n",
    "ax = f.add_subplot(111)\n",
    "\n",
    "plt.title(f\"Histogram of $LL_0 - LL_1$.\")\n",
    "plt.xlabel(r\"Value of $LL_0 - LL_1$\")\n",
    "\n",
    "#x-axis ranges from 0 to 20 with .001 steps\n",
    "# to_hist = np.array(np.sum(h_list_3, axis = 1))\n",
    "# # to_hist = np.array(np.array(h_list_4[0]) / np.array(h_list_5[0]))\n",
    "# # to_hist = np.array(np.array(h_list_4[0][10000:])) # * np.array(h_list_5[0]))\n",
    "to_hist = np.array(cv_diff) / np.std(cv_diff)\n",
    "x = np.arange(min(to_hist), max(to_hist), (max(to_hist) - min(to_hist)) / 10000)\n",
    "\n",
    "# the histogram of the data\n",
    "n, bins, patches = ax.hist(to_hist, 1000, density=True, alpha=1.00, facecolor = 'g', label = f\"Fraction of Green: {sum(to_hist <= 0) / len(to_hist)}\")\n",
    "\n",
    "# for b, p in zip(bins, patches):\n",
    "#     if b > 0:\n",
    "#         p.set_facecolor(\"red\")\n",
    "\n",
    "max_height = max([r.get_height() for r in patches])\n",
    "max_bin = np.argmax([r.get_height() for r in patches])\n",
    "\n",
    "# plt.ylabel('Density')\n",
    "# plt.xlim(-0.1, 4)\n",
    "plt.grid(True)\n",
    "\n",
    "# plt.vlines(0, 0, max_height + 0.1, linestyle = '--', color = 'black', label = \"Critical Value\")\n",
    "# plt.plot(x, norm.pdf(x, loc = np.mean(to_hist), scale = np.std(to_hist)), label = r\"$Norm$\")\n",
    "# plt.plot(x, norm.pdf(x, loc = 2, scale = np.sqrt(24 / T)), label = r\"$Norm$\")\n",
    "plt.plot(x, chi2.pdf(x + 1.5, df = 1) , label = r\"$\\chi_1^2$\")\n",
    "\n",
    "plt.ylim(0, max_height * 1.1)\n",
    "plt.legend(framealpha = 1)\n",
    "# plt.savefig(\"arhistogram.pgf\")"
   ]
  },
  {
   "cell_type": "code",
   "execution_count": 528,
   "id": "b312028b",
   "metadata": {},
   "outputs": [
    {
     "name": "stdout",
     "output_type": "stream",
     "text": [
      "ModeResult(mode=array([-1.49650631]), count=array([1]))\n"
     ]
    }
   ],
   "source": [
    "import scipy\n",
    "print(scipy.stats.mode(cv_diff / np.std(cv_diff)))"
   ]
  },
  {
   "cell_type": "code",
   "execution_count": 491,
   "id": "128f444f",
   "metadata": {},
   "outputs": [
    {
     "data": {
      "text/plain": [
       "[<matplotlib.lines.Line2D at 0x127f164cb00>]"
      ]
     },
     "execution_count": 491,
     "metadata": {},
     "output_type": "execute_result"
    },
    {
     "data": {
      "image/png": "[encoded data removed]",
      "text/plain": [
       "<Figure size 432x288 with 1 Axes>"
      ]
     },
     "metadata": {
      "needs_background": "light"
     },
     "output_type": "display_data"
    }
   ],
   "source": [
    "plt.plot(chi2.pdf(np.linspace(0, 10, 100), df = 1))"
   ]
  },
  {
   "cell_type": "code",
   "execution_count": 21,
   "id": "20570d0c",
   "metadata": {},
   "outputs": [
    {
     "name": "stdout",
     "output_type": "stream",
     "text": [
      "2.425412259232998e-05\n",
      "-2.425412259232998e-05\n",
      "0.020992734369273156\n",
      "[array([-8.61264849e-05, -4.83454233e-04,  2.33453101e-04, ...,\n",
      "       -5.43042193e-05, -3.64535713e-05, -2.48715753e-07])]\n"
     ]
    }
   ],
   "source": [
    "print(h_list[0].sum())\n",
    "print(h_list_2[0].sum())\n",
    "print(h_list_3[0].sum())\n",
    "print(cv_MLE_LOOCV_diff)"
   ]
  },
  {
   "cell_type": "code",
   "execution_count": 207,
   "id": "fd0dba49",
   "metadata": {},
   "outputs": [
    {
     "name": "stderr",
     "output_type": "stream",
     "text": [
      "100%|█████████████████████████████████████████████████████████████████████████| 10000/10000 [00:00<00:00, 15967.27it/s]\n"
     ]
    },
    {
     "data": {
      "text/plain": [
       "0.8049"
      ]
     },
     "execution_count": 207,
     "metadata": {},
     "output_type": "execute_result"
    }
   ],
   "source": [
    "def RCH0(a, T, iters = 10000):\n",
    "    count = 0\n",
    "\n",
    "    for _ in tqdm(range(iters)):\n",
    "    \n",
    "        ## Generate Data\n",
    "        X, noises = gen_ar_laplace(a, T)\n",
    "        a_est = np.zeros(T)\n",
    "    \n",
    "        ## CV-0: Use the true value for a\n",
    "        cv_0 = np.linalg.norm(X[2:] - a * X[1:-1], 2) ** 2\n",
    "    \n",
    "        ## CV-1: Use the LOOCV-one for a\n",
    "        a_LOOCV_one = (np.dot(X[:-1], X[1:]) - X[1:-1] * X[2:]) / (np.dot(X[:-1], X[:-1]) - X[1:-1] * X[1:-1])\n",
    "        cv_1 = np.linalg.norm(X[2:] - a_LOOCV_one * X[1:-1], 2) ** 2\n",
    "    \n",
    "        count += (cv_0 < cv_1)\n",
    "    \n",
    "    return count / iters\n",
    "\n",
    "RCH0(0.9999, 11)"
   ]
  },
  {
   "cell_type": "code",
   "execution_count": 562,
   "id": "7880d5bb",
   "metadata": {},
   "outputs": [
    {
     "name": "stderr",
     "output_type": "stream",
     "text": [
      "  1%|▊                                                                        | 1194/100000 [00:00<00:08, 11926.22it/s]"
     ]
    },
    {
     "name": "stdout",
     "output_type": "stream",
     "text": [
      "a: 0.0\n"
     ]
    },
    {
     "name": "stderr",
     "output_type": "stream",
     "text": [
      "100%|███████████████████████████████████████████████████████████████████████| 100000/100000 [00:09<00:00, 10042.72it/s]\n",
      "  1%|▌                                                                          | 827/100000 [00:00<00:12, 8201.10it/s]"
     ]
    },
    {
     "name": "stdout",
     "output_type": "stream",
     "text": [
      "T: 0.82548\n"
     ]
    },
    {
     "name": "stderr",
     "output_type": "stream",
     "text": [
      "100%|████████████████████████████████████████████████████████████████████████| 100000/100000 [00:15<00:00, 6469.98it/s]\n",
      "  0%|▎                                                                          | 409/100000 [00:00<00:24, 4088.13it/s]"
     ]
    },
    {
     "name": "stdout",
     "output_type": "stream",
     "text": [
      "T: 0.82952\n"
     ]
    },
    {
     "name": "stderr",
     "output_type": "stream",
     "text": [
      "100%|████████████████████████████████████████████████████████████████████████| 100000/100000 [00:19<00:00, 5096.32it/s]\n",
      "  0%|▎                                                                          | 362/100000 [00:00<00:27, 3598.47it/s]"
     ]
    },
    {
     "name": "stdout",
     "output_type": "stream",
     "text": [
      "T: 0.83149\n"
     ]
    },
    {
     "name": "stderr",
     "output_type": "stream",
     "text": [
      "100%|████████████████████████████████████████████████████████████████████████| 100000/100000 [00:30<00:00, 3242.29it/s]\n",
      "  1%|▋                                                                          | 978/100000 [00:00<00:10, 9688.12it/s]"
     ]
    },
    {
     "name": "stdout",
     "output_type": "stream",
     "text": [
      "T: 0.83772\n",
      "a: 0.3\n"
     ]
    },
    {
     "name": "stderr",
     "output_type": "stream",
     "text": [
      "100%|████████████████████████████████████████████████████████████████████████| 100000/100000 [00:10<00:00, 9197.67it/s]\n",
      "  2%|█▏                                                                        | 1596/100000 [00:00<00:12, 8052.65it/s]"
     ]
    },
    {
     "name": "stdout",
     "output_type": "stream",
     "text": [
      "T: 0.82609\n"
     ]
    },
    {
     "name": "stderr",
     "output_type": "stream",
     "text": [
      "100%|████████████████████████████████████████████████████████████████████████| 100000/100000 [00:11<00:00, 8539.28it/s]\n",
      "  1%|▍                                                                          | 519/100000 [00:00<00:19, 5153.63it/s]"
     ]
    },
    {
     "name": "stdout",
     "output_type": "stream",
     "text": [
      "T: 0.83271\n"
     ]
    },
    {
     "name": "stderr",
     "output_type": "stream",
     "text": [
      "100%|████████████████████████████████████████████████████████████████████████| 100000/100000 [00:18<00:00, 5522.12it/s]\n",
      "  1%|▍                                                                          | 590/100000 [00:00<00:34, 2866.81it/s]"
     ]
    },
    {
     "name": "stdout",
     "output_type": "stream",
     "text": [
      "T: 0.83558\n"
     ]
    },
    {
     "name": "stderr",
     "output_type": "stream",
     "text": [
      "100%|████████████████████████████████████████████████████████████████████████| 100000/100000 [00:43<00:00, 2313.41it/s]\n",
      "  1%|▋                                                                          | 873/100000 [00:00<00:11, 8674.48it/s]"
     ]
    },
    {
     "name": "stdout",
     "output_type": "stream",
     "text": [
      "T: 0.83727\n",
      "a: 0.6\n"
     ]
    },
    {
     "name": "stderr",
     "output_type": "stream",
     "text": [
      "100%|███████████████████████████████████████████████████████████████████████| 100000/100000 [00:09<00:00, 10210.58it/s]\n",
      "  1%|█                                                                         | 1387/100000 [00:00<00:14, 6687.56it/s]"
     ]
    },
    {
     "name": "stdout",
     "output_type": "stream",
     "text": [
      "T: 0.82693\n"
     ]
    },
    {
     "name": "stderr",
     "output_type": "stream",
     "text": [
      "100%|████████████████████████████████████████████████████████████████████████| 100000/100000 [00:13<00:00, 7477.37it/s]\n",
      "  1%|▍                                                                          | 553/100000 [00:00<00:18, 5484.12it/s]"
     ]
    },
    {
     "name": "stdout",
     "output_type": "stream",
     "text": [
      "T: 0.83085\n"
     ]
    },
    {
     "name": "stderr",
     "output_type": "stream",
     "text": [
      "100%|████████████████████████████████████████████████████████████████████████| 100000/100000 [00:18<00:00, 5516.88it/s]\n",
      "  1%|▍                                                                          | 550/100000 [00:00<00:36, 2753.87it/s]"
     ]
    },
    {
     "name": "stdout",
     "output_type": "stream",
     "text": [
      "T: 0.8369\n"
     ]
    },
    {
     "name": "stderr",
     "output_type": "stream",
     "text": [
      "100%|████████████████████████████████████████████████████████████████████████| 100000/100000 [00:33<00:00, 3005.81it/s]\n",
      "  1%|▋                                                                          | 997/100000 [00:00<00:10, 9898.74it/s]"
     ]
    },
    {
     "name": "stdout",
     "output_type": "stream",
     "text": [
      "T: 0.83873\n",
      "a: 0.9\n"
     ]
    },
    {
     "name": "stderr",
     "output_type": "stream",
     "text": [
      "100%|████████████████████████████████████████████████████████████████████████| 100000/100000 [00:12<00:00, 8225.30it/s]\n",
      "  0%|▏                                                                          | 199/100000 [00:00<00:51, 1931.99it/s]"
     ]
    },
    {
     "name": "stdout",
     "output_type": "stream",
     "text": [
      "T: 0.82243\n"
     ]
    },
    {
     "name": "stderr",
     "output_type": "stream",
     "text": [
      "100%|████████████████████████████████████████████████████████████████████████| 100000/100000 [00:12<00:00, 8040.46it/s]\n",
      "  1%|▋                                                                          | 956/100000 [00:00<00:20, 4784.73it/s]"
     ]
    },
    {
     "name": "stdout",
     "output_type": "stream",
     "text": [
      "T: 0.8332\n"
     ]
    },
    {
     "name": "stderr",
     "output_type": "stream",
     "text": [
      "100%|████████████████████████████████████████████████████████████████████████| 100000/100000 [00:20<00:00, 4863.82it/s]\n",
      "  1%|▌                                                                          | 738/100000 [00:00<00:27, 3674.44it/s]"
     ]
    },
    {
     "name": "stdout",
     "output_type": "stream",
     "text": [
      "T: 0.83622\n"
     ]
    },
    {
     "name": "stderr",
     "output_type": "stream",
     "text": [
      "100%|████████████████████████████████████████████████████████████████████████| 100000/100000 [00:29<00:00, 3378.02it/s]"
     ]
    },
    {
     "name": "stdout",
     "output_type": "stream",
     "text": [
      "T: 0.83848\n"
     ]
    },
    {
     "name": "stderr",
     "output_type": "stream",
     "text": [
      "\n"
     ]
    }
   ],
   "source": [
    "a_range = [0.000, 0.300, 0.600, 0.900] # , 0.950, 0.970, 0.990, 0.995]\n",
    "T_range = [25, 50, 100, 250] # , 500, 1000]\n",
    "\n",
    "r = np.zeros((len(a_range), len(T_range)))\n",
    "\n",
    "iters = 100000\n",
    "for i, a in enumerate(a_range):\n",
    "    print(\"a:\", a)\n",
    "    for j, T in enumerate(T_range):\n",
    "        r[i][j] = RCH0(a, T, int(iters));\n",
    "        print(\"T:\", r[i][j])"
   ]
  },
  {
   "cell_type": "code",
   "execution_count": 565,
   "id": "b4ff3014",
   "metadata": {},
   "outputs": [
    {
     "data": {
      "image/png": "[encoded data removed]",
      "text/plain": [
       "<Figure size 396x216 with 1 Axes>"
      ]
     },
     "metadata": {
      "needs_background": "light"
     },
     "output_type": "display_data"
    }
   ],
   "source": [
    "f = plt.figure(figsize = (5.5, 3))\n",
    "\n",
    "for i, plot in enumerate(r):\n",
    "    # if i == 1 or i == 2 or i == 5: continue \n",
    "    plt.plot(T_range, plot, label = fr\"$a_0$ = {np.round(a_range[i], 3)}\")\n",
    "    se = np.sqrt(plot * (1 - plot) / iters)\n",
    "    plt.fill_between(T_range, plot - se, plot + se, alpha = 0.1)\n",
    "plt.legend()\n",
    "plt.xlabel(r\"Number of timesteps $T$\")\n",
    "plt.ylabel(r\"Ratio of correct acceptance of $H_0$\")\n",
    "plt.title(r\"Ratio of correct acceptance of $H_0$ as a function of $T$\")\n",
    "# plt.savefig(\"rcht.pgf\")\n",
    "plt.show()\n"
   ]
  },
  {
   "cell_type": "code",
   "execution_count": 566,
   "id": "86b10adf",
   "metadata": {},
   "outputs": [
    {
     "data": {
      "image/png": "[encoded data removed]",
      "text/plain": [
       "<Figure size 396x216 with 1 Axes>"
      ]
     },
     "metadata": {
      "needs_background": "light"
     },
     "output_type": "display_data"
    }
   ],
   "source": [
    "f = plt.figure(figsize = (5.5, 3))\n",
    "\n",
    "for i, plot in enumerate(r.T):\n",
    "    plt.plot(a_range, plot, label = f\"T = {T_range[i]}\")\n",
    "    se = np.sqrt(plot * (1 - plot) / iters)\n",
    "    plt.fill_between(a_range, plot - se, plot + se, alpha = 0.1)\n",
    "plt.ylabel(r\"Ratio of correct acceptance of $H_0$\")\n",
    "plt.xlabel(r\"AutoRegressive coefficient $a_0$\")\n",
    "plt.title(r\"Ratio of correct acceptance of $H_0$ as a function of $a_0$\")\n",
    "plt.legend(ncol = 2)\n",
    "# plt.savefig(\"rcha.pgf\")\n",
    "plt.show()"
   ]
  },
  {
   "cell_type": "code",
   "execution_count": 101,
   "id": "954bd970",
   "metadata": {},
   "outputs": [
    {
     "name": "stderr",
     "output_type": "stream",
     "text": [
      "100%|████████████████████████████████████████████████████████████████████████████| 50000/50000 [09:01<00:00, 92.31it/s]\n"
     ]
    }
   ],
   "source": [
    "def RCH0_hist(a, T, iters = 10000):\n",
    "    LL_diff = []\n",
    "\n",
    "    for _ in tqdm(range(iters)):\n",
    "    \n",
    "        ## Generate Data\n",
    "        X, noises = gen_ar(a, T)\n",
    "        a_est = np.zeros(T)\n",
    "    \n",
    "        ## CV-0: Use the true value for a\n",
    "        cv_0 = np.linalg.norm(X[2:] - a * X[1:-1], 2) ** 2\n",
    "    \n",
    "        ## CV-1: Use the LOOCV-one for a\n",
    "        a_LOOCV_one = (np.dot(X[:-1], X[1:]) - X[1:-1] * X[2:]) / (np.dot(X[:-1], X[:-1]) - X[1:-1] * X[1:-1])\n",
    "        cv_1 = np.linalg.norm(X[2:] - a_LOOCV_one * X[1:-1], 2) ** 2\n",
    "    \n",
    "        LL_diff.append(cv_0 - cv_1)\n",
    "    \n",
    "    return np.array(LL_diff)\n",
    "\n",
    "a, T, N = 0.5, 10000, 50000\n",
    "to_hist = RCH0_hist(a, T, N)"
   ]
  },
  {
   "cell_type": "code",
   "execution_count": 39,
   "id": "4da153c0",
   "metadata": {},
   "outputs": [],
   "source": [
    "import matplotlib\n",
    "\n",
    "matplotlib.use(\"pgf\")\n",
    "matplotlib.rcParams.update({\n",
    "    \"pgf.texsystem\": \"pdflatex\",\n",
    "    'font.family': 'serif',\n",
    "    'text.usetex': True,\n",
    "    'pgf.rcfonts': False,\n",
    "    'font.size': 8\n",
    "})\n",
    "matplotlib.rcParams['axes.unicode_minus'] = False"
   ]
  },
  {
   "cell_type": "code",
   "execution_count": 234,
   "id": "a129fb14",
   "metadata": {},
   "outputs": [
    {
     "data": {
      "text/plain": [
       "array([-1.40951292, -1.33456974, -1.38189928, ..., -1.45606098,\n",
       "       -1.39783005, -1.34818694])"
      ]
     },
     "execution_count": 234,
     "metadata": {},
     "output_type": "execute_result"
    }
   ],
   "source": [
    "def g(a):\n",
    "    return np.log(a ** 2)\n",
    "    return np.linalg.norm(X[1:] - a * X[:-1], 2) ** 2\n",
    "\n",
    "def der_g(a):\n",
    "    return 2 / a\n",
    "    return -np.dot(X[1:] - a * X[:-1], X[:-1])\n",
    "\n",
    "np.array([g(a) for a in a_list])"
   ]
  },
  {
   "cell_type": "code",
   "execution_count": 447,
   "id": "f9add968",
   "metadata": {},
   "outputs": [
    {
     "name": "stdout",
     "output_type": "stream",
     "text": [
      "0.0005027264276165679\n",
      "0.02241034808272623\n",
      "0.022360903385149802\n",
      "0.000500010000200004\n"
     ]
    }
   ],
   "source": [
    "print(np.cov(to_hist))\n",
    "print(np.std(to_hist))\n",
    "print(5 / (np.sqrt(T - 2)))\n",
    "print(25 / (T - 2))"
   ]
  },
  {
   "cell_type": "code",
   "execution_count": 45,
   "id": "065d00be",
   "metadata": {},
   "outputs": [
    {
     "name": "stdout",
     "output_type": "stream",
     "text": [
      "9.58933076069249\n"
     ]
    }
   ],
   "source": [
    "print(np.std(cv_diff) * 2 * np.sqrt(T))"
   ]
  },
  {
   "cell_type": "code",
   "execution_count": 87,
   "id": "f8a54921",
   "metadata": {},
   "outputs": [
    {
     "name": "stdout",
     "output_type": "stream",
     "text": [
      "6.283934545215489e-11\n",
      "1.5850291901699828e-07\n",
      "0.001599360255897641\n"
     ]
    }
   ],
   "source": [
    "print(np.cov(np.sqrt(T) * a_diff))\n",
    "print(np.std(a_diff))\n",
    "print(4 / ((T)))"
   ]
  },
  {
   "cell_type": "code",
   "execution_count": 221,
   "id": "422f5cbf",
   "metadata": {},
   "outputs": [
    {
     "name": "stdout",
     "output_type": "stream",
     "text": [
      "[-4.066328872969776, -3.6380569764821793, -4.133668794199916, -3.7788032460258525, -3.8189915630946762, -4.016831259445375, -3.8623128943576104, -4.595450631676914, -4.065095042879971, -4.1165798488726795]\n",
      "[-0.00408571 -0.00364833 -0.00414473 -0.00379518 -0.00382646 -0.00402641\n",
      " -0.00386946 -0.0046077  -0.00407474 -0.00412777]\n",
      "(15000,)\n"
     ]
    }
   ],
   "source": [
    "print(cv_MLE_LOOCV_diff[:10])\n",
    "print((np.array(cv_MLE) - np.array(cv_LOOCV_one))[:10])\n",
    "\n",
    "print(np.shape(cv_MLE_LOOCV_diff))"
   ]
  },
  {
   "cell_type": "code",
   "execution_count": 399,
   "id": "25a9bcc3",
   "metadata": {},
   "outputs": [
    {
     "name": "stdout",
     "output_type": "stream",
     "text": [
      "(4999,)\n"
     ]
    }
   ],
   "source": [
    "print(np.shape(np.array(sum_lst[0])))"
   ]
  },
  {
   "cell_type": "code",
   "execution_count": 463,
   "id": "ceeaf381",
   "metadata": {},
   "outputs": [
    {
     "name": "stdout",
     "output_type": "stream",
     "text": [
      "-1.8051875608237848\n"
     ]
    }
   ],
   "source": [
    "print(sum(sum_lst[0][T // 10:]))"
   ]
  },
  {
   "cell_type": "code",
   "execution_count": 480,
   "id": "a3d43487",
   "metadata": {},
   "outputs": [
    {
     "name": "stdout",
     "output_type": "stream",
     "text": [
      "-1.9990626942720595\n",
      "20000\n",
      "247118.73521890395\n"
     ]
    },
    {
     "data": {
      "text/plain": [
       "<matplotlib.legend.Legend at 0x290966d7e80>"
      ]
     },
     "execution_count": 480,
     "metadata": {},
     "output_type": "execute_result"
    },
    {
     "data": {
      "image/png": "[encoded data removed]",
      "text/plain": [
       "<Figure size 432x288 with 1 Axes>"
      ]
     },
     "metadata": {
      "needs_background": "light"
     },
     "output_type": "display_data"
    }
   ],
   "source": [
    "# cv_diff = (T - 2) * (np.array(cv_0) - np.array(cv_LOOCV_one))\n",
    "# cv_diff = np.array(cv_MLE_LOOCV_diff) # - np.array(cv_MLE_LOOCV_diff_2)\n",
    "# cv_diff = np.array(cv_MLE) - np.array(cv_LOOCV_one)\n",
    "cv_diff = np.array(cv_MLE_LOOCV_diff)\n",
    "\n",
    "a_diff = (np.array(a_MLE_list) - np.array(a_LOOCV_one_list))\n",
    "# print(len(cv_diff[cv_diff < 0]) / len(cv_diff))\n",
    "\n",
    "to_hist = cv_diff\n",
    "# to_hist = np.sqrt((T - 1)) * (g(a) - np.array([g(a) for a in a_list]))\n",
    "# to_hist = np.array(cv_diff)\n",
    "\n",
    "f = plt.figure()\n",
    "ax = f.add_subplot(111)\n",
    "\n",
    "plt.title(f\"(T - 1) * (CV_0 - CV_1) for a = {a} and T = {T}, {iters} samples.\")\n",
    "plt.xlabel(r\"Value of cv_diff\")\n",
    "\n",
    "# print(np.mean(to_hist))\n",
    "# print(np.cov(to_hist))\n",
    "# print(len(to_hist[to_hist > 0]) / len(to_hist))\n",
    "# plt.hist(n_list, bins = 100, density = True);\n",
    "\n",
    "#x-axis ranges from 0 to 20 with .001 steps\n",
    "x = np.arange(min(to_hist), max(to_hist), (max(to_hist) - min(to_hist)) / 1000)\n",
    "\n",
    "print(np.mean(to_hist))\n",
    "print(2 * (T - 1))\n",
    "print(np.cov(to_hist * (T - 1)))\n",
    "\n",
    "# the histogram of the data\n",
    "\n",
    "\n",
    "n, bins, patches = ax.hist(to_hist, 100, density=True, alpha=1.00, facecolor = 'g', label = f\"Fraction of Green: {sum(to_hist <= 0) / len(to_hist)}\")\n",
    "\n",
    "for b, p in zip(bins, patches):\n",
    "    if b > 0:\n",
    "        p.set_facecolor(\"red\")\n",
    "\n",
    "max_height = max([r.get_height() for r in patches])\n",
    "\n",
    "plt.ylim(0, max_height + 0.001)\n",
    "a_T = ((T - (a ** 2 * (1 - a ** (2 * T)) / (1 - a ** 2))) / (1 - a ** 2)) / (T)\n",
    "plt.ylabel('Density')\n",
    "t = plt.text(0.65, 0.65, f'Mean: {round(to_hist.mean(), 3)}. Var: {round(to_hist.var(), 3)}', ha='left', va='center', transform=ax.transAxes)\n",
    "t.set_bbox(dict(facecolor='white', alpha=1.0, edgecolor = 'grey'))\n",
    "plt.grid(True)\n",
    "plt.vlines(np.mean(to_hist), 0, max_height, linestyle = '--', color = 'black', label = \"Mean\")\n",
    "# plt.plot(x, norm.pdf(x, loc = 1, scale = np.sqrt(2 / (T - 1))), label = r\"$\\mathcal{N}(0, 2 / (T - 1))$\")\n",
    "# plt.plot(x, norm.pdf(x, loc = 2, scale = np.sqrt(1 / (2 * np.sqrt(T)))))\n",
    "# plt.plot(x, norm.pdf(x, loc = 0, scale = np.sqrt(4 / (T))))\n",
    "plt.plot(x, norm.pdf(x, loc = to_hist.mean(), scale = np.std(to_hist)))\n",
    "\n",
    "plt.plot(x, chi2.pdf((x + 2), df = 1), label = r\"$\\chi_1^2 - 2$\")\n",
    "# plt.plot(x, chi2.pdf(x, df = 1), label = r\"$\\chi_1^2 - 2$\")\n",
    "# plt.plot(x, chi2.pdf(x , df = 1), label = r\"$\\chi_1^2 - 2$\")\n",
    "# print(kv(0, x[x > 0] / max(x[x > 0])))\n",
    "# print(x[x > 0] / max(x[x > 0]))\n",
    "# plt.plot(x[x > 0],  kv(0, (x[x > 0] / (max(0.4 * x[x > 0])))) * 500, color = 'black')\n",
    "# plt.plot(-x,  kv(0, x) / 3.14)\n",
    "\n",
    "plt.legend()\n",
    "\n",
    "\n",
    "# plt.plot(x, norm.pdf(x, loc = 1, scale = np.sqrt(2 / (T - 1))))"
   ]
  },
  {
   "cell_type": "code",
   "execution_count": 251,
   "id": "a254861e",
   "metadata": {},
   "outputs": [
    {
     "data": {
      "text/plain": [
       "[<matplotlib.lines.Line2D at 0x290096aa588>]"
      ]
     },
     "execution_count": 251,
     "metadata": {},
     "output_type": "execute_result"
    },
    {
     "data": {
      "image/png": "[encoded data removed]",
      "text/plain": [
       "<Figure size 432x288 with 1 Axes>"
      ]
     },
     "metadata": {
      "needs_background": "light"
     },
     "output_type": "display_data"
    }
   ],
   "source": [
    "x = np.linspace(0, 5, 100)\n",
    "# plt.plot(x, norm.pdf(x, loc = 0, scale = 1), label = r\"$\\chi_1^2 - 2$\")\n",
    "plt.plot(x,  kv(0, x) / 3.14)\n",
    "plt.plot(-x,  kv(0, x) / 3.14)"
   ]
  },
  {
   "cell_type": "code",
   "execution_count": 70,
   "id": "ce837e4f",
   "metadata": {},
   "outputs": [
    {
     "name": "stdout",
     "output_type": "stream",
     "text": [
      "5.041002715356926\n",
      "5.263157894736843\n"
     ]
    }
   ],
   "source": [
    "a_T = ((T - (a ** 2 * (1 - a ** (2 * T)) / (1 - a ** 2))) / (1 - a ** 2)) / (T)\n",
    "print(a_T)\n",
    "print(1 / (1 - a ** 2))"
   ]
  },
  {
   "cell_type": "code",
   "execution_count": 44,
   "id": "907fffef",
   "metadata": {},
   "outputs": [
    {
     "name": "stdout",
     "output_type": "stream",
     "text": [
      "10580.288943268897\n",
      "2881.7794483176885\n",
      "5025.125628140696\n"
     ]
    }
   ],
   "source": [
    "a, T = 0.99, 101\n",
    "X, noises = gen_ar(a, T)\n",
    "\n",
    "print(sum(X[:-1] ** 2))\n",
    "print((T - 1 - (a ** 2 * (1 - a ** (2 * (T - 1))) / (1 - a ** 2))) / (1 - a ** 2))\n",
    "print((T - 1) / (1 - a ** 2))"
   ]
  },
  {
   "cell_type": "code",
   "execution_count": 719,
   "id": "c57fc3d1",
   "metadata": {},
   "outputs": [],
   "source": [
    "cv_0 = list(cv_0)\n",
    "cv_1 = list(cv_1)"
   ]
  },
  {
   "cell_type": "code",
   "execution_count": 667,
   "id": "bc3440e0",
   "metadata": {},
   "outputs": [
    {
     "name": "stdout",
     "output_type": "stream",
     "text": [
      "0.8373\n",
      "0.00039659406661403493\n",
      "[[1.         0.99989332]\n",
      " [0.99989332 1.        ]]\n"
     ]
    }
   ],
   "source": [
    "cv_diff = np.array(cv_0) - np.array(cv_1)\n",
    "print(len(cv_diff[cv_diff < 0]) / len(cv_diff))\n",
    "\n",
    "print(np.cov(np.array(cv_0)))\n",
    "print(np.corrcoef(cv_0, cv_1))"
   ]
  },
  {
   "cell_type": "code",
   "execution_count": 687,
   "id": "09969199",
   "metadata": {},
   "outputs": [
    {
     "name": "stdout",
     "output_type": "stream",
     "text": [
      "0.02\n"
     ]
    }
   ],
   "source": [
    "print(1 / (T - 1))"
   ]
  },
  {
   "cell_type": "code",
   "execution_count": 38,
   "id": "b5d52c93",
   "metadata": {},
   "outputs": [
    {
     "data": {
      "text/plain": [
       "[<matplotlib.lines.Line2D at 0x1ae5a90e2e8>]"
      ]
     },
     "execution_count": 38,
     "metadata": {},
     "output_type": "execute_result"
    },
    {
     "data": {
      "image/png": "[encoded data removed]",
      "text/plain": [
       "<Figure size 432x288 with 1 Axes>"
      ]
     },
     "metadata": {
      "needs_background": "light"
     },
     "output_type": "display_data"
    }
   ],
   "source": [
    "from scipy.stats import chi2\n",
    "\n",
    "#x-axis ranges from 0 to 20 with .001 steps\n",
    "x = np.arange(0, max(results), 0.001)\n",
    "\n",
    "#plot Chi-square distribution with 4 degrees of freedom\n",
    "plt.plot(x, chi2.pdf(x, df=T - 1))"
   ]
  },
  {
   "attachments": {
    "image.png": {
     "image/png": "[encoded data removed]"
    }
   },
   "cell_type": "markdown",
   "id": "49a67dd5",
   "metadata": {},
   "source": [
    "\\begin{align*}\n",
    " CV(a = \\hat{a}) \n",
    " &= \\sum_{k = 1}^{T - 1} \\left(X_{k+1} - \\hat{a}^{-k}X_k\\right)^2 \\\\\n",
    " &= \\sum_{k = 1}^{T - 1}\\left(X_{k+1} - \\frac{\\sum_{t = 1}^{T - 1} X_t X_{t + 1} - X_k X_{k + 1}}{\\sum_{t = 1}^{T - 1} X_t^2 - X_k^2} X_k\\right)^2 \\\\\n",
    " &= \\sum_{k = 1}^{T - 1}\\left(X_{k+1} - \\left(a + \\frac{\\sum_{t = 1}^{T - 1} X_t \\varepsilon_{t + 1} - X_k \\varepsilon_{k + 1}}{\\sum_{t = 1}^{T - 1} X_t^2 - X_k^2}\\right) X_k\\right)^2 \\\\\n",
    " &= \\sum_{k = 1}^{T - 1}\\left(\\varepsilon_{k+1} - \\frac{\\sum_{t = 1}^{T - 1} X_t \\varepsilon_{t + 1} - X_k \\varepsilon_{k + 1}}{\\sum_{t = 1}^{T - 1} X_t^2 - X_k^2} X_k\\right)^2\n",
    "\\end{align*}\n",
    "\n",
    "For $a = 0$, the bottom of fraction is chi squared distributed with $T - 2$ degrees of freedom.\n",
    "\n",
    "Unfortunately, the top of the fraction is a product of two iid standard normal random variables, which is equal to $\\pi$ times a Modified Bessel Function of the Second Kind distribution.\n",
    "\n",
    "![image.png](attachment:image.png)\n",
    "\n",
    "However, this is not correct as the sum of the squared standard normals are dependent."
   ]
  },
  {
   "cell_type": "code",
   "execution_count": 757,
   "id": "02294ec1",
   "metadata": {},
   "outputs": [
    {
     "name": "stdout",
     "output_type": "stream",
     "text": [
      "136.4286074299501\n",
      "136.42860742995006\n",
      "136.42860742995006\n",
      "136.42860742995006\n"
     ]
    }
   ],
   "source": [
    "a, T = 0.9, 100\n",
    "X, noises = gen_ar(a, T)\n",
    "a_est = (np.dot(X[:-1], X[1:]) - X[1:] * X[:-1]) / (np.dot(X[:-1], X[:-1]) - X[:-1] * X[:-1])\n",
    "a_est_2 = a + (np.dot(X[:-1], noises[1:]) - noises[1:] * X[:-1]) / (np.dot(X[:-1], X[:-1]) - X[:-1] * X[:-1])\n",
    "\n",
    "print(np.linalg.norm(X[1:] - a_est * X[:-1]) ** 2)\n",
    "print(np.linalg.norm(X[1:] - a_est_2 * X[:-1]) ** 2)\n",
    "print(np.linalg.norm(noises[1:] - (a_est - a) * X[:-1]) ** 2)\n",
    "print(np.linalg.norm(noises[1:] - (np.dot(X[:-1], noises[1:]) - noises[1:] * X[:-1]) / (np.dot(X[:-1], X[:-1]) - X[:-1] * X[:-1]) * X[:-1]) ** 2)"
   ]
  },
  {
   "cell_type": "markdown",
   "id": "1982b9d5",
   "metadata": {},
   "source": [
    "$$\\begin{align*} P(CV(a = 0) < CV(a = \\hat{a}) \n",
    "&= P\\left(\\sum_{t = 1}^{T - 1}\\varepsilon_{t + 1}^2 < \\sum_{t = 1}^{T - 1} \\left(\\varepsilon_{t + 1} - \\hat{a}^{-t} \\varepsilon_t\\right)^2\\right) \\\\\n",
    "&= P\\left(\\sum_{t = 1}^{T - 1}\\varepsilon_{t + 1}^2 < \\sum_{t = 1}^{T - 1} \\left(\\varepsilon_{t + 1}^2 - 2\\hat{a}^{-t} \\varepsilon_t \\varepsilon_{t + 1} + \\hat{a}^2 \\varepsilon_t^2\\right)\\right) \\\\\n",
    "&= P\\left(0 < \\sum_{t = 1}^{T - 1} \\left( - 2\\hat{a}^{-t} \\varepsilon_t \\varepsilon_{t + 1} + \\hat{a}^2 \\varepsilon_t^2\\right)\\right) \\\\\n",
    "&= P\\left(\\sum_{t = 1}^{T - 1}2\\hat{a}^{-t} \\varepsilon_t \\varepsilon_{t + 1} < \\sum_{t = 1}^{T - 1} \\hat{a}^2 \\varepsilon_t^2\\right) \\\\\n",
    "&= P\\left(\\sum_{t = 1}^{T - 1}2\\hat{a}^{-t} \\varepsilon_t \\varepsilon_{t + 1} - \\hat{a}^2 \\varepsilon_t^2< 0\\right) \\\\\n",
    "&= P\\left(\\sum_{t = 1}^{T - 1}\\hat{a}^{-t} \\varepsilon_t \\left(2\\varepsilon_{t + 1} - \\hat{a} \\varepsilon_t\\right)< 0\\right) \\\\\n",
    "\\end{align*}$$\n"
   ]
  },
  {
   "cell_type": "markdown",
   "id": "6e278eae",
   "metadata": {},
   "source": [
    "## What we Know\n",
    "\n",
    "$$\\sqrt{T - 1}\\left(\\hat{a}_{T-1} - a_0\\right) \\overset{D}{\\rightarrow} \\mathcal{N}\\left(0, \\frac{1}{I^*(a)}\\right),\\qquad \\text{where}\\ I^*(a) \\approx \\frac{1}{1 - a^2}$$\n",
    "\n",
    "\\begin{align*}CV(0) &\\sim \\chi^2_{T-1} \\overset{T \\rightarrow \\infty}{\\rightarrow} \\mathcal{N}\\left(T - 1, 2 \\left(T - 1\\right)\\right) \\\\\n",
    "CV(1) &\\overset{T \\rightarrow \\infty}{\\rightarrow} \\mathcal{N}\\left(T - 1, 2 \\left(T - 1\\right)\\right)\\end{align*}\n",
    "\n",
    "Now, the question is, what is their joint distribution?\n",
    "\n",
    "It seems that $$\\mathbf{E}\\left[CV(0) - CV(1)\\right] \\approx \\frac{1}{T - 1}.$$\n",
    "\n",
    "$$\\mathbf{V}\\left[(T - 1) (CV(0) - CV(1))\\right] \\approx 2.$$\n",
    "\n",
    "We have that\n",
    "\\begin{align*}\n",
    "-I^*(a) \n",
    "&= \\mathbb{E}_a\\left[\\frac{\\partial^2}{\\partial a^2} \\log f_a(X)\\right] \\\\\n",
    "&= \\mathbb{E}_a\\left[\\frac{\\partial^2}{\\partial a^2} \\sum_{t = 2}^T-\\frac{1}{2}\\left(X_t - aX_{t-1}\\right)^2\\right]\\\\\n",
    "&= \\mathbb{E}_a\\left[\\frac{\\partial}{\\partial a} \\sum_{t = 2}^T\\left(X_t - aX_{t-1}\\right)\\cdot X_{t-1}\\right] \\\\\n",
    "&= -\\mathbb{E}_a\\left[\\sum_{t = 2}^TX_{t-1}^2\\right] \\\\\n",
    "&= -\\mathbb{E}_a\\left[\\sum_{t = 1}^{T - 1}X_{t}^2\\right]\n",
    "\\end{align*}\n",
    "\n",
    "Therefore, \n",
    "$$I^*(a) = \\mathbb{E}_a\\left[\\sum_{t = 1}^{T - 1}X_{t}^2\\right]$$"
   ]
  },
  {
   "cell_type": "code",
   "execution_count": 745,
   "id": "64baa4bf",
   "metadata": {},
   "outputs": [
    {
     "name": "stdout",
     "output_type": "stream",
     "text": [
      "[1.0000031  1.00002294] [[3.99817995e-05 3.99807733e-05]\n",
      " [3.99807733e-05 3.99805517e-05]]\n",
      "0.7575\n"
     ]
    },
    {
     "data": {
      "text/plain": [
       "(array([2.000e+00, 0.000e+00, 0.000e+00, 0.000e+00, 0.000e+00, 2.000e+00,\n",
       "        3.000e+00, 5.000e+00, 6.000e+00, 5.000e+00, 1.000e+00, 1.200e+01,\n",
       "        9.000e+00, 1.100e+01, 3.100e+01, 2.500e+01, 3.900e+01, 3.400e+01,\n",
       "        6.700e+01, 5.900e+01, 8.800e+01, 8.700e+01, 1.120e+02, 1.480e+02,\n",
       "        1.580e+02, 2.050e+02, 2.490e+02, 2.840e+02, 3.090e+02, 3.580e+02,\n",
       "        4.100e+02, 4.610e+02, 5.710e+02, 6.210e+02, 6.980e+02, 7.860e+02,\n",
       "        8.630e+02, 9.430e+02, 9.910e+02, 1.070e+03, 1.146e+03, 1.259e+03,\n",
       "        1.297e+03, 1.366e+03, 1.420e+03, 1.494e+03, 1.519e+03, 1.599e+03,\n",
       "        1.563e+03, 1.624e+03, 1.629e+03, 1.668e+03, 1.589e+03, 1.615e+03,\n",
       "        1.490e+03, 1.451e+03, 1.465e+03, 1.439e+03, 1.306e+03, 1.188e+03,\n",
       "        1.156e+03, 1.064e+03, 1.036e+03, 9.580e+02, 8.940e+02, 8.330e+02,\n",
       "        6.820e+02, 6.380e+02, 5.770e+02, 4.850e+02, 4.170e+02, 4.140e+02,\n",
       "        3.250e+02, 2.840e+02, 2.510e+02, 1.930e+02, 1.840e+02, 1.470e+02,\n",
       "        1.180e+02, 8.800e+01, 9.700e+01, 5.900e+01, 5.900e+01, 3.300e+01,\n",
       "        3.600e+01, 2.000e+01, 2.600e+01, 2.400e+01, 5.000e+00, 1.300e+01,\n",
       "        7.000e+00, 6.000e+00, 6.000e+00, 8.000e+00, 3.000e+00, 1.000e+00,\n",
       "        1.000e+00, 0.000e+00, 0.000e+00, 2.000e+00]),\n",
       " array([-1.37370679e-04, -1.35048996e-04, -1.32727313e-04, -1.30405630e-04,\n",
       "        -1.28083947e-04, -1.25762264e-04, -1.23440581e-04, -1.21118898e-04,\n",
       "        -1.18797215e-04, -1.16475532e-04, -1.14153849e-04, -1.11832166e-04,\n",
       "        -1.09510483e-04, -1.07188800e-04, -1.04867117e-04, -1.02545434e-04,\n",
       "        -1.00223751e-04, -9.79020682e-05, -9.55803852e-05, -9.32587021e-05,\n",
       "        -9.09370191e-05, -8.86153361e-05, -8.62936531e-05, -8.39719701e-05,\n",
       "        -8.16502871e-05, -7.93286040e-05, -7.70069210e-05, -7.46852380e-05,\n",
       "        -7.23635550e-05, -7.00418720e-05, -6.77201890e-05, -6.53985059e-05,\n",
       "        -6.30768229e-05, -6.07551399e-05, -5.84334569e-05, -5.61117739e-05,\n",
       "        -5.37900909e-05, -5.14684078e-05, -4.91467248e-05, -4.68250418e-05,\n",
       "        -4.45033588e-05, -4.21816758e-05, -3.98599928e-05, -3.75383097e-05,\n",
       "        -3.52166267e-05, -3.28949437e-05, -3.05732607e-05, -2.82515777e-05,\n",
       "        -2.59298947e-05, -2.36082116e-05, -2.12865286e-05, -1.89648456e-05,\n",
       "        -1.66431626e-05, -1.43214796e-05, -1.19997966e-05, -9.67811354e-06,\n",
       "        -7.35643052e-06, -5.03474751e-06, -2.71306449e-06, -3.91381472e-07,\n",
       "         1.93030154e-06,  4.25198456e-06,  6.57366758e-06,  8.89535059e-06,\n",
       "         1.12170336e-05,  1.35387166e-05,  1.58603996e-05,  1.81820827e-05,\n",
       "         2.05037657e-05,  2.28254487e-05,  2.51471317e-05,  2.74688147e-05,\n",
       "         2.97904977e-05,  3.21121808e-05,  3.44338638e-05,  3.67555468e-05,\n",
       "         3.90772298e-05,  4.13989128e-05,  4.37205958e-05,  4.60422789e-05,\n",
       "         4.83639619e-05,  5.06856449e-05,  5.30073279e-05,  5.53290109e-05,\n",
       "         5.76506939e-05,  5.99723770e-05,  6.22940600e-05,  6.46157430e-05,\n",
       "         6.69374260e-05,  6.92591090e-05,  7.15807920e-05,  7.39024751e-05,\n",
       "         7.62241581e-05,  7.85458411e-05,  8.08675241e-05,  8.31892071e-05,\n",
       "         8.55108901e-05,  8.78325732e-05,  9.01542562e-05,  9.24759392e-05,\n",
       "         9.47976222e-05]),\n",
       " <BarContainer object of 100 artists>)"
      ]
     },
     "execution_count": 745,
     "metadata": {},
     "output_type": "execute_result"
    },
    {
     "data": {
      "image/png": "[encoded data removed]",
      "text/plain": [
       "<Figure size 432x288 with 1 Axes>"
      ]
     },
     "metadata": {
      "needs_background": "light"
     },
     "output_type": "display_data"
    }
   ],
   "source": [
    "cv_0, cv_1 = np.array(cv_0), np.array(cv_1)\n",
    "cor = np.corrcoef(cv_0, cv_1)[0][1]\n",
    "\n",
    "means = np.array([cv_0.mean(), cv_1.mean()])\n",
    "covs = np.cov(cv_0, cv_1)\n",
    "print(means, covs)\n",
    "\n",
    "cv_s = np.random.multivariate_normal(means, covs, 50000)\n",
    "cv_d = cv_s[:, 0] - cv_s[:, 1]\n",
    "print(sum(cv_d < 0) / len(cv_d))\n",
    "plt.hist(cv_s[:, 0] - cv_s[:, 1], bins = 100)"
   ]
  },
  {
   "cell_type": "code",
   "execution_count": 735,
   "id": "877d3768",
   "metadata": {},
   "outputs": [
    {
     "name": "stdout",
     "output_type": "stream",
     "text": [
      "-0.9999798716455567\n"
     ]
    }
   ],
   "source": [
    "print(np.linalg.det(covs))"
   ]
  }
 ],
 "metadata": {
  "kernelspec": {
   "display_name": "Python 3.6.8 64-bit",
   "language": "python",
   "name": "python36864bit874e3a48d9b148faaa09714964fd179b"
  },
  "language_info": {
   "codemirror_mode": {
    "name": "ipython",
    "version": 3
   },
   "file_extension": ".py",
   "mimetype": "text/x-python",
   "name": "python",
   "nbconvert_exporter": "python",
   "pygments_lexer": "ipython3",
   "version": "3.6.8"
  }
 },
 "nbformat": 4,
 "nbformat_minor": 5
}
