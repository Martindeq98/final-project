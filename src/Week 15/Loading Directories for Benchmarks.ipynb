{
 "cells": [
  {
   "cell_type": "code",
   "execution_count": 1,
   "id": "ee2e5f05",
   "metadata": {},
   "outputs": [],
   "source": [
    "# standard libraries\n",
    "import numpy as np\n",
    "import matplotlib.pyplot as plt\n",
    "\n",
    "import os\n",
    "import sys\n",
    "sys.path.append(\"..\")\n",
    "import helper.helper as h\n",
    "import helper.methods as m\n",
    "\n",
    "from importlib import reload  # Python 3.4+"
   ]
  },
  {
   "cell_type": "code",
   "execution_count": 18,
   "id": "b586b2bb",
   "metadata": {},
   "outputs": [],
   "source": [
    "# reload helper and methods for when things change\n",
    "reload(m);\n",
    "reload(h);"
   ]
  },
  {
   "cell_type": "code",
   "execution_count": 49,
   "id": "ecde59bb",
   "metadata": {},
   "outputs": [
    {
     "name": "stderr",
     "output_type": "stream",
     "text": [
      " 39%|███████████████████████████████▎                                                | 47/120 [00:00<00:00, 469.99it/s]"
     ]
    },
    {
     "name": "stdout",
     "output_type": "stream",
     "text": [
      "Loaded X_s10_n100_T5__0.npz.\n"
     ]
    },
    {
     "name": "stderr",
     "output_type": "stream",
     "text": [
      "100%|███████████████████████████████████████████████████████████████████████████████| 120/120 [00:00<00:00, 454.54it/s]\n",
      " 39%|███████████████████████████████▎                                                | 47/120 [00:00<00:00, 469.84it/s]"
     ]
    },
    {
     "name": "stdout",
     "output_type": "stream",
     "text": [
      "Loaded X_s10_n100_T5__1.npz.\n"
     ]
    },
    {
     "name": "stderr",
     "output_type": "stream",
     "text": [
      "100%|███████████████████████████████████████████████████████████████████████████████| 120/120 [00:00<00:00, 449.39it/s]\n",
      " 38%|██████████████████████████████                                                  | 45/120 [00:00<00:00, 441.17it/s]"
     ]
    },
    {
     "name": "stdout",
     "output_type": "stream",
     "text": [
      "Loaded X_s10_n100_T5__2.npz.\n"
     ]
    },
    {
     "name": "stderr",
     "output_type": "stream",
     "text": [
      "100%|███████████████████████████████████████████████████████████████████████████████| 120/120 [00:00<00:00, 434.78it/s]\n",
      " 37%|█████████████████████████████▎                                                  | 44/120 [00:00<00:00, 435.66it/s]"
     ]
    },
    {
     "name": "stdout",
     "output_type": "stream",
     "text": [
      "Loaded X_s10_n100_T5__3.npz.\n"
     ]
    },
    {
     "name": "stderr",
     "output_type": "stream",
     "text": [
      "100%|███████████████████████████████████████████████████████████████████████████████| 120/120 [00:00<00:00, 411.01it/s]\n",
      " 38%|██████████████████████████████▋                                                 | 46/120 [00:00<00:00, 451.13it/s]"
     ]
    },
    {
     "name": "stdout",
     "output_type": "stream",
     "text": [
      "Loaded X_s10_n100_T5__4.npz.\n"
     ]
    },
    {
     "name": "stderr",
     "output_type": "stream",
     "text": [
      "100%|███████████████████████████████████████████████████████████████████████████████| 120/120 [00:00<00:00, 446.10it/s]\n",
      " 39%|███████████████████████████████▎                                                | 47/120 [00:00<00:00, 465.22it/s]"
     ]
    },
    {
     "name": "stdout",
     "output_type": "stream",
     "text": [
      "Loaded X_s10_n100_T5__5.npz.\n"
     ]
    },
    {
     "name": "stderr",
     "output_type": "stream",
     "text": [
      "100%|███████████████████████████████████████████████████████████████████████████████| 120/120 [00:00<00:00, 416.66it/s]\n",
      " 38%|██████████████████████████████                                                  | 45/120 [00:00<00:00, 445.54it/s]"
     ]
    },
    {
     "name": "stdout",
     "output_type": "stream",
     "text": [
      "Loaded X_s10_n100_T5__6.npz.\n"
     ]
    },
    {
     "name": "stderr",
     "output_type": "stream",
     "text": [
      "100%|███████████████████████████████████████████████████████████████████████████████| 120/120 [00:00<00:00, 425.56it/s]\n",
      " 38%|██████████████████████████████▋                                                 | 46/120 [00:00<00:00, 455.33it/s]"
     ]
    },
    {
     "name": "stdout",
     "output_type": "stream",
     "text": [
      "Loaded X_s10_n100_T5__7.npz.\n"
     ]
    },
    {
     "name": "stderr",
     "output_type": "stream",
     "text": [
      "100%|███████████████████████████████████████████████████████████████████████████████| 120/120 [00:00<00:00, 446.11it/s]\n",
      " 38%|██████████████████████████████▋                                                 | 46/120 [00:00<00:00, 459.85it/s]"
     ]
    },
    {
     "name": "stdout",
     "output_type": "stream",
     "text": [
      "Loaded X_s10_n100_T5__8.npz.\n"
     ]
    },
    {
     "name": "stderr",
     "output_type": "stream",
     "text": [
      "100%|███████████████████████████████████████████████████████████████████████████████| 120/120 [00:00<00:00, 452.77it/s]\n",
      " 38%|██████████████████████████████                                                  | 45/120 [00:00<00:00, 450.00it/s]"
     ]
    },
    {
     "name": "stdout",
     "output_type": "stream",
     "text": [
      "Loaded X_s10_n100_T5__9.npz.\n"
     ]
    },
    {
     "name": "stderr",
     "output_type": "stream",
     "text": [
      "100%|███████████████████████████████████████████████████████████████████████████████| 120/120 [00:00<00:00, 441.18it/s]"
     ]
    },
    {
     "name": "stdout",
     "output_type": "stream",
     "text": [
      "\n",
      "Results:\n",
      "TPR: 1.0.\n",
      "TNR: 0.67.\n",
      "FPR: 0.33.\n",
      "Acc: 0.8.\n",
      "MSE: 4.85.\n",
      "R Sq.: 0.5.\n",
      "\n",
      "Results:\n",
      "TPR: 1.0.\n",
      "TNR: 0.67.\n",
      "FPR: 0.33.\n",
      "Acc: 0.8.\n",
      "MSE: 4.85.\n",
      "R Sq.: 0.5.\n"
     ]
    },
    {
     "name": "stderr",
     "output_type": "stream",
     "text": [
      "\n"
     ]
    }
   ],
   "source": [
    "# load directory of dataset for benchmarking\n",
    "directory = \"n5_s10_T100_N_10_\"\n",
    "path = f\"C:/Users/s165048/OneDrive - TU Eindhoven/QuinceyFinalProject/final-project/data/generated_data/{directory}/\"\n",
    "\n",
    "text_files = [f for f in os.listdir(path) if f.endswith('.npz')]\n",
    "\n",
    "scores_omp = []\n",
    "scores_exh = []\n",
    "\n",
    "for file in text_files:\n",
    "    W_true, X, expl = h.load_data(file, directory)\n",
    "    print(f\"Loaded {file}.\")\n",
    "    \n",
    "    # apply methods\n",
    "    W = m._OMP(X)\n",
    "    \n",
    "    # score methods\n",
    "    scores_omp.append(h.score(X, W, W_true, printing = False))\n",
    "    \n",
    "    W = m._Exh(X)\n",
    "    \n",
    "    # score methods\n",
    "    scores_exh.append(h.score(X, W, W_true, printing = False))    \n",
    "    \n",
    "averages = np.average(np.array(scores_omp), axis = 0)\n",
    "print(f\"\\nResults:\\nTPR: {round(averages[0], 2)}.\\nTNR: {round(averages[1], 2)}.\\nFPR: {round(averages[2], 2)}.\\nAcc: {round(averages[3], 2)}.\\nMSE: {round(averages[4], 2)}.\\nR Sq.: {round(averages[5], 2)}.\")\n",
    "\n",
    "averages = np.average(np.array(scores_exh), axis = 0)\n",
    "print(f\"\\nResults:\\nTPR: {round(averages[0], 2)}.\\nTNR: {round(averages[1], 2)}.\\nFPR: {round(averages[2], 2)}.\\nAcc: {round(averages[3], 2)}.\\nMSE: {round(averages[4], 2)}.\\nR Sq.: {round(averages[5], 2)}.\")"
   ]
  }
 ],
 "metadata": {
  "kernelspec": {
   "display_name": "Python 3.6.8 64-bit",
   "language": "python",
   "name": "python36864bit874e3a48d9b148faaa09714964fd179b"
  },
  "language_info": {
   "codemirror_mode": {
    "name": "ipython",
    "version": 3
   },
   "file_extension": ".py",
   "mimetype": "text/x-python",
   "name": "python",
   "nbconvert_exporter": "python",
   "pygments_lexer": "ipython3",
   "version": "3.6.8"
  }
 },
 "nbformat": 4,
 "nbformat_minor": 5
}
