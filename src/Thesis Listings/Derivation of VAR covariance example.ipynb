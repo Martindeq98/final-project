{
 "cells": [
  {
   "cell_type": "code",
   "execution_count": 1,
   "id": "cd56b97f",
   "metadata": {},
   "outputs": [],
   "source": [
    "import numpy as np"
   ]
  },
  {
   "cell_type": "code",
   "execution_count": 19,
   "id": "827a4776",
   "metadata": {},
   "outputs": [
    {
     "name": "stdout",
     "output_type": "stream",
     "text": [
      "A:\n",
      "[[0.5 0. ]\n",
      " [0.3 0.4]]\n",
      "\n",
      "Σ:\n",
      "[[1 0]\n",
      " [0 2]]\n",
      "\n",
      "I - A kron A:\n",
      "[[ 0.75  0.    0.    0.  ]\n",
      " [-0.15  0.8   0.    0.  ]\n",
      " [-0.15  0.    0.8   0.  ]\n",
      " [-0.09 -0.12 -0.12  0.84]]\n",
      "\n",
      "Σ_X:\n",
      "[[1.33333333 0.25      ]\n",
      " [0.25       2.5952381 ]].\n"
     ]
    }
   ],
   "source": [
    "# Example values\n",
    "A = np.array([[0.5, 0.0], [0.3, 0.4]])\n",
    "Sigma = np.array([[1, 0], [0, 2]])\n",
    "\n",
    "# Derivations\n",
    "IminAkronA = np.identity(4) - np.kron(A, A)\n",
    "vecSigmaZ = np.linalg.inv(IminAkronA) @ Sigma.reshape(4)\n",
    "SigmaZ = vecSigmaZ.reshape((2, 2))\n",
    "\n",
    "# Values to print\n",
    "print(f\"A:\\n{A}\\n\\nΣ:\\n{Sigma}\\n\\nI - A kron A:\\n{IminAkronA}\\n\\nΣ_X:\\n{SigmaZ}.\")"
   ]
  }
 ],
 "metadata": {
  "kernelspec": {
   "display_name": "Python 3.6.8 64-bit",
   "language": "python",
   "name": "python36864bit874e3a48d9b148faaa09714964fd179b"
  },
  "language_info": {
   "codemirror_mode": {
    "name": "ipython",
    "version": 3
   },
   "file_extension": ".py",
   "mimetype": "text/x-python",
   "name": "python",
   "nbconvert_exporter": "python",
   "pygments_lexer": "ipython3",
   "version": "3.6.8"
  }
 },
 "nbformat": 4,
 "nbformat_minor": 5
}
