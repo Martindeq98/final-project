{
 "cells": [
  {
   "cell_type": "code",
   "execution_count": 22,
   "id": "cd56b97f",
   "metadata": {},
   "outputs": [],
   "source": [
    "import numpy as np\n",
    "import matplotlib.pyplot as plt"
   ]
  },
  {
   "cell_type": "code",
   "execution_count": 2,
   "id": "88b28fe2",
   "metadata": {},
   "outputs": [],
   "source": [
    "def generate_data_nD(length):\n",
    "    # Initialize series\n",
    "    series = np.array(np.zeros((length)))\n",
    "    \n",
    "    # Generate series\n",
    "    for t in range(1, length):\n",
    "        # Generate VAR model\n",
    "        series[t] = np.matmul(A, series[t - 1]) + np.random.multivariate_normal(np.zeros(n), Sigma)\n",
    "    \n",
    "    return series"
   ]
  },
  {
   "cell_type": "code",
   "execution_count": 6,
   "id": "827a4776",
   "metadata": {},
   "outputs": [
    {
     "name": "stdout",
     "output_type": "stream",
     "text": [
      "A:\n",
      "[[0.5 0. ]\n",
      " [0.3 0.4]]\n",
      "\n",
      "Σ:\n",
      "[[1 0]\n",
      " [0 2]]\n",
      "\n",
      "I - A kron A:\n",
      "[[ 0.75  0.    0.    0.  ]\n",
      " [-0.15  0.8   0.    0.  ]\n",
      " [-0.15  0.    0.8   0.  ]\n",
      " [-0.09 -0.12 -0.12  0.84]]\n",
      "\n",
      "Σ_X:\n",
      "[[1.33333333 0.25      ]\n",
      " [0.25       2.5952381 ]].\n"
     ]
    }
   ],
   "source": [
    "# Example values\n",
    "A = np.array([[0.5, 0.0], [0.3, 0.4]])\n",
    "Sigma = np.array([[1, 0], [0, 2]])\n",
    "\n",
    "# Derivations\n",
    "IminAkronA = np.identity(4) - np.kron(A, A)\n",
    "vecSigmaZ = np.linalg.inv(IminAkronA) @ Sigma.reshape(4)\n",
    "SigmaZ = vecSigmaZ.reshape((2, 2))\n",
    "\n",
    "# Values to print\n",
    "print(f\"A:\\n{A}\\n\\nΣ:\\n{Sigma}\\n\\nI - A kron A:\\n{IminAkronA}\\n\\nΣ_X:\\n{SigmaZ}.\")"
   ]
  },
  {
   "cell_type": "code",
   "execution_count": 38,
   "id": "cb296e47",
   "metadata": {},
   "outputs": [
    {
     "name": "stdout",
     "output_type": "stream",
     "text": [
      "2.9155423137879373\n",
      "2.9390540227686928\n"
     ]
    },
    {
     "data": {
      "image/png": "[encoded data removed]",
      "text/plain": [
       "<Figure size 432x288 with 1 Axes>"
      ]
     },
     "metadata": {
      "needs_background": "light"
     },
     "output_type": "display_data"
    }
   ],
   "source": [
    "n = np.shape(A)[0]\n",
    "series = generate_data_nD(5000, n, A)\n",
    "print(np.linalg.norm(np.cov(series.transpose())))\n",
    "\n",
    "a = [np.linalg.norm(np.cov(series[:i].transpose())) for i in range(2, len(series))]\n",
    "\n",
    "plt.plot(a)\n",
    "plt.plot([0, 1000], [np.linalg.norm(covariance_X), np.linalg.norm(covariance_X)], linestyle = '--')\n",
    "covariance_X = np.matmul(np.linalg.inv(np.identity(n ** 2) - np.kron(A, A)), Sigma.reshape(n ** 2)).reshape((n, n))\n",
    "\n",
    "print(np.linalg.norm(covariance_X))"
   ]
  }
 ],
 "metadata": {
  "kernelspec": {
   "display_name": "Python 3.6.8 64-bit",
   "language": "python",
   "name": "python36864bit874e3a48d9b148faaa09714964fd179b"
  },
  "language_info": {
   "codemirror_mode": {
    "name": "ipython",
    "version": 3
   },
   "file_extension": ".py",
   "mimetype": "text/x-python",
   "name": "python",
   "nbconvert_exporter": "python",
   "pygments_lexer": "ipython3",
   "version": "3.6.8"
  }
 },
 "nbformat": 4,
 "nbformat_minor": 5
}
