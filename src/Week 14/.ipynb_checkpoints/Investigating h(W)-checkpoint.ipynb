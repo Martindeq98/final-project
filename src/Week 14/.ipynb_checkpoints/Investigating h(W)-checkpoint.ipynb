{
 "cells": [
  {
   "cell_type": "markdown",
   "id": "39ccfaba",
   "metadata": {},
   "source": [
    "# Investigating $h(W)$\n",
    "Recall the function $$h(W) = e^{W \\circ W} - d,$$\n",
    "where $\\circ$ is the Hadamard product. \n",
    "\n",
    "We know that this is a measure for $\\textit{acyclicness}$ of a weighted adjacency matrix $W$. In fact, we do know from Theorem 1 of the NOTEARS paper that\n",
    "$$h(W) = 0 \\iff \\text{$W$ \"is\" a DAG}.$$\n",
    "Now, a second question arises. Are there local minima that are not optimal? That is, does there exists a $\\hat{W}$ such that $h(\\hat{W}) \\neq 0$, but $\\nabla h(W) = 0?$"
   ]
  },
  {
   "cell_type": "code",
   "execution_count": 21,
   "id": "6be85ef5",
   "metadata": {},
   "outputs": [],
   "source": [
    "import numpy as np\n",
    "import scipy.linalg as slin\n",
    "import matplotlib.pyplot as plt"
   ]
  },
  {
   "cell_type": "code",
   "execution_count": 82,
   "id": "f4d5be67",
   "metadata": {},
   "outputs": [],
   "source": [
    "def h(W):\n",
    "    \"\"\"Evaluate value and gradient of acyclicity constraint.\"\"\"\n",
    "    \n",
    "    E = slin.expm(W * W)  # (Zheng et al. 2018)\n",
    "    h = np.trace(E) - np.shape(A)[0]\n",
    "    G_h = E.T * W * 2\n",
    "    \n",
    "    return h, G_h\n",
    "\n",
    "def h2(W):\n",
    "    \n",
    "    V = W - np.diag(np.diag(W))\n",
    "    E = slin.expm(V * V) \n",
    "    h = np.trace(E) - np.shape(A)[0]\n",
    "    G_h = E.T * V * 2\n",
    "    \n",
    "    return h, G_h\n",
    "\n",
    "def h_2D(w12, w21):\n",
    "    W = np.array([[0, w12], [w21, 0]])\n",
    "    E = slin.expm(W * W) \n",
    "    h = np.trace(E) - np.shape(A)[0]\n",
    "    G_h = E.T * W * 2\n",
    "    \n",
    "    return h, G_h"
   ]
  },
  {
   "cell_type": "code",
   "execution_count": 16,
   "id": "83252e0c",
   "metadata": {},
   "outputs": [
    {
     "name": "stdout",
     "output_type": "stream",
     "text": [
      "3.44 0.0 0.0\n"
     ]
    }
   ],
   "source": [
    "# Generate a matrix\n",
    "A = np.array([[1.0, 0.0], [0.0, 1.0]])\n",
    "print(round(h(A)[0], 2), round(h2(A)[0], 2), round(h_2D(0.1, 0.2)[0], 2))"
   ]
  },
  {
   "cell_type": "code",
   "execution_count": 49,
   "id": "fcb60a84",
   "metadata": {},
   "outputs": [
    {
     "data": {
      "image/png": "[encoded data removed]",
      "text/plain": [
       "<Figure size 432x288 with 1 Axes>"
      ]
     },
     "metadata": {
      "needs_background": "light"
     },
     "output_type": "display_data"
    }
   ],
   "source": [
    "num = 50\n",
    "\n",
    "w12, w21 = np.linspace(-1, 1, num), np.linspace(-1, 1, num)\n",
    "W12, W21 = np.meshgrid(w12, w21)\n",
    "\n",
    "Z = np.zeros((num, num))\n",
    "\n",
    "for i in range(num):\n",
    "    for j in range(num):\n",
    "        Z[i][j] = h_2D(w12[i], w21[j])[0]\n",
    "        \n",
    "fig, ax = plt.subplots(1)\n",
    "ax.contourf(W12, W21, Z, levels = 15)\n",
    "plt.show()"
   ]
  },
  {
   "cell_type": "markdown",
   "id": "9d956512",
   "metadata": {},
   "source": [
    "$\\textbf{Lemma 3}$. For $h(A)$ and $i \\neq j$, $(\\nabla h(A))_{ij} > 0$ if and only if there exists a\n",
    "directed walk from $j$ to $i$ in $G$."
   ]
  },
  {
   "cell_type": "code",
   "execution_count": 64,
   "id": "5bf47497",
   "metadata": {},
   "outputs": [
    {
     "name": "stdout",
     "output_type": "stream",
     "text": [
      "[[0.         1.01671632 0.        ]\n",
      " [0.         0.         1.01671632]\n",
      " [1.01671632 0.         0.        ]]\n"
     ]
    }
   ],
   "source": [
    "A = np.array([[0, 1, 0], [0, 0, 1], [1, 0, 0]])\n",
    "print(np.round(h(A)[1], 30)) # , round(h2(A)[0], 2))"
   ]
  },
  {
   "cell_type": "markdown",
   "id": "6e365d9d",
   "metadata": {},
   "source": [
    "Strange, this Lemma 3. Does not seem to hold. There are edges $(1, 2), (2, 3), (3, 1)$, thereby creating a cycle (this is also why $h(A) \\neq 0$). We can easily reach all nodes from every node, so there is a path from every $j$ to every $i$. Therefore, we would expect to e.g. $(\\nabla h(A))_{13}$ to be non-zero, as there is a directed path $(1, 2), (2, 3)$."
   ]
  },
  {
   "cell_type": "code",
   "execution_count": 69,
   "id": "da4520c8",
   "metadata": {},
   "outputs": [
    {
     "data": {
      "text/plain": [
       "array([[1, 1, 1],\n",
       "       [1, 1, 1],\n",
       "       [1, 1, 1]])"
      ]
     },
     "execution_count": 69,
     "metadata": {},
     "output_type": "execute_result"
    }
   ],
   "source": [
    "A + A @ A + A @ A @ A + A "
   ]
  },
  {
   "cell_type": "code",
   "execution_count": 63,
   "id": "853e6449",
   "metadata": {},
   "outputs": [
    {
     "name": "stdout",
     "output_type": "stream",
     "text": [
      "[[0.         0.08333884 0.         0.         0.        ]\n",
      " [0.         0.         0.08333884 0.         0.        ]\n",
      " [0.         0.         0.         0.08333884 0.        ]\n",
      " [0.         0.         0.         0.         0.08333884]\n",
      " [0.08333884 0.         0.         0.         0.        ]]\n"
     ]
    }
   ],
   "source": [
    "A = np.array([[0, 1, 0, 0, 0], [0, 0, 1, 0, 0], [0, 0, 0, 1, 0], [0, 0, 0, 0, 1], [1, 0, 0, 0, 0]])\n",
    "print(np.round(h(A)[1], 30)) # , round(h2(A)[0], 2))"
   ]
  },
  {
   "cell_type": "markdown",
   "id": "0c523bdd",
   "metadata": {},
   "source": [
    "$\\textbf{Lemma 4}$. A directed graph $G$ is acyclic if and only if the Hadamard product $A \\circ \\nabla h(A) = 0$.\n",
    "We are interested in a matrix $A$ s.t. $h(A) \\neq 0$, bur $\\nabla h(A) = 0$."
   ]
  },
  {
   "cell_type": "code",
   "execution_count": null,
   "id": "fda6e1f9",
   "metadata": {},
   "outputs": [],
   "source": []
  },
  {
   "cell_type": "markdown",
   "id": "506eed8d",
   "metadata": {},
   "source": [
    "Interesting quote from NOTEARS: \"Moreover, notice that $h(W) \\geq 0$ for all $W$ since each term in the series is nonnegative. This gives another interesting perspective of the space of DAGs as the set of global minima of $h(W)$. However, due to the nonconvexity, this is not equivalent to the first order stationary condition $\\nabla h(W) = 0.$\"\n",
    "\n",
    "This seems to imply that $h(W)$ is not a convex function, and furthermore, that there will exist stationary points that do not give rise to a DAG. Let's try to find those!"
   ]
  },
  {
   "cell_type": "code",
   "execution_count": 75,
   "id": "da065ba5",
   "metadata": {},
   "outputs": [],
   "source": [
    "def generate_random_matrix(n):\n",
    "    \"\"\"\n",
    "    Generate a random n times n matrix.\n",
    "    Each coefficient is random between -1 and 1\n",
    "    \"\"\"\n",
    "    \n",
    "    return np.random.uniform(low = -1, high = 1, size = n ** 2).reshape((n, n))"
   ]
  },
  {
   "cell_type": "code",
   "execution_count": null,
   "id": "a7313ee5",
   "metadata": {},
   "outputs": [],
   "source": [
    "eta, tol = 2e-1, 1e-5\n",
    "\n",
    "A = generate_random_matrix(10)\n",
    "\n",
    "h_value, G_h = h(A)\n",
    "\n",
    "print(h_value, G_h)\n",
    "\n",
    "while np.sum(np.abs(G_h)) >= tol:\n",
    "    A -= eta * G_h\n",
    "    h_value, G_h = h(A)\n",
    "    \n",
    "    print(h_value, np.sum(np.abs(G_h)))"
   ]
  }
 ],
 "metadata": {
  "kernelspec": {
   "display_name": "Python 3.6.8 64-bit",
   "language": "python",
   "name": "python36864bit874e3a48d9b148faaa09714964fd179b"
  },
  "language_info": {
   "codemirror_mode": {
    "name": "ipython",
    "version": 3
   },
   "file_extension": ".py",
   "mimetype": "text/x-python",
   "name": "python",
   "nbconvert_exporter": "python",
   "pygments_lexer": "ipython3",
   "version": "3.6.8"
  }
 },
 "nbformat": 4,
 "nbformat_minor": 5
}
