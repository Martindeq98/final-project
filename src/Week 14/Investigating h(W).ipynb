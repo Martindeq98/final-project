{
 "cells": [
  {
   "cell_type": "markdown",
   "id": "c7fd6576",
   "metadata": {},
   "source": [
    "# Investigating $h(W)$\n",
    "Recall the function $$h(W) = e^{W \\circ W} - d,$$\n",
    "where $\\circ$ is the Hadamard product. \n",
    "\n",
    "We know that this is a measure for $\\textit{acyclicness}$ of a weighted adjacency matrix $W$. In fact, we do know from Theorem 1 of the NOTEARS paper that\n",
    "$$h(W) = 0 \\iff \\text{$W$ \"is\" a DAG}.$$\n",
    "Now, a second question arises. Are there local minima that are not optimal? That is, does there exists a $\\hat{W}$ such that $h(\\hat{W}) \\neq 0$, but $\\nabla h(W) = 0?$"
   ]
  },
  {
   "cell_type": "code",
   "execution_count": 27,
   "id": "ffb8eaaf",
   "metadata": {},
   "outputs": [],
   "source": [
    "import numpy as np\n",
    "import scipy.linalg as slin\n",
    "import matplotlib.pyplot as plt\n",
    "\n",
    "import sys\n",
    "sys.path.append(\"..\")\n",
    "import helper.helper as helper"
   ]
  },
  {
   "cell_type": "code",
   "execution_count": 47,
   "id": "a6b2ef52",
   "metadata": {},
   "outputs": [],
   "source": [
    "def h(W):\n",
    "    \"\"\"Evaluate value and gradient of acyclicity constraint.\"\"\"\n",
    "    \n",
    "    E = slin.expm(W * W)  # (Zheng et al. 2018)\n",
    "    h = np.trace(E) - np.shape(A)[0]\n",
    "    G_h = E.T * W * 2\n",
    "    \n",
    "    return h, G_h\n",
    "\n",
    "def h2(W):\n",
    "    \n",
    "    V = W - np.diag(np.diag(W))\n",
    "    E = slin.expm(V * V) \n",
    "    h = np.trace(E) - np.shape(A)[0]\n",
    "    G_h = E.T * V * 2\n",
    "    \n",
    "    return h, G_h\n",
    "\n",
    "def h_2D(w12, w21):\n",
    "    W = np.array([[0, w12], [w21, 0]])\n",
    "    E = slin.expm(W * W) \n",
    "    h = np.trace(E) - np.shape(W)[0]\n",
    "    G_h = E.T * W * 2\n",
    "    \n",
    "    return h, G_h"
   ]
  },
  {
   "cell_type": "code",
   "execution_count": 3,
   "id": "2fb4289c",
   "metadata": {},
   "outputs": [
    {
     "name": "stdout",
     "output_type": "stream",
     "text": [
      "3.44 0.0 0.0\n"
     ]
    }
   ],
   "source": [
    "# Generate a matrix\n",
    "A = np.array([[1.0, 0.0], [0.0, 1.0]])\n",
    "print(round(h(A)[0], 2), round(h2(A)[0], 2), round(h_2D(0.1, 0.2)[0], 2))"
   ]
  },
  {
   "cell_type": "code",
   "execution_count": 48,
   "id": "bec34c6d",
   "metadata": {},
   "outputs": [
    {
     "data": {
      "image/png": "[encoded data removed]",
      "text/plain": [
       "<Figure size 432x288 with 2 Axes>"
      ]
     },
     "metadata": {
      "needs_background": "light"
     },
     "output_type": "display_data"
    }
   ],
   "source": [
    "num = 50\n",
    "\n",
    "w12, w21 = np.linspace(-1, 1, num), np.linspace(-1, 1, num)\n",
    "W12, W21 = np.meshgrid(w12, w21)\n",
    "\n",
    "Z = np.zeros((num, num))\n",
    "\n",
    "for i in range(num):\n",
    "    for j in range(num):\n",
    "        Z[i][j] = h_2D(w12[i], w21[j])[0]\n",
    "        \n",
    "fig, ax = plt.subplots(1)\n",
    "cs = ax.contourf(W12, W21, Z, levels = 15)\n",
    "fig.colorbar(cs, ax=ax, shrink=0.9)\n",
    "\n",
    "plt.xlabel(\"W12\")\n",
    "plt.ylabel(\"W21\")\n",
    "\n",
    "plt.show()"
   ]
  },
  {
   "cell_type": "markdown",
   "id": "025eaccd",
   "metadata": {},
   "source": [
    "$\\textbf{Lemma 3}$. For $h(A)$ and $i \\neq j$, $(\\nabla h(A))_{ij} > 0$ if and only if there exists a\n",
    "directed walk from $j$ to $i$ in $G$."
   ]
  },
  {
   "cell_type": "code",
   "execution_count": 5,
   "id": "423386e1",
   "metadata": {},
   "outputs": [
    {
     "name": "stdout",
     "output_type": "stream",
     "text": [
      "[[0.         1.01671632 0.        ]\n",
      " [0.         0.         1.01671632]\n",
      " [1.01671632 0.         0.        ]]\n"
     ]
    }
   ],
   "source": [
    "A = np.array([[0, 1, 0], [0, 0, 1], [1, 0, 0]])\n",
    "print(np.round(h(A)[1], 30)) # , round(h2(A)[0], 2))"
   ]
  },
  {
   "cell_type": "markdown",
   "id": "791d78e3",
   "metadata": {},
   "source": [
    "Strange, this Lemma 3. Does not seem to hold. There are edges $(1, 2), (2, 3), (3, 1)$, thereby creating a cycle (this is also why $h(A) \\neq 0$). We can easily reach all nodes from every node, so there is a path from every $j$ to every $i$. Therefore, we would expect to e.g. $(\\nabla h(A))_{13}$ to be non-zero, as there is a directed path $(1, 2), (2, 3)$."
   ]
  },
  {
   "cell_type": "code",
   "execution_count": 6,
   "id": "c257b636",
   "metadata": {},
   "outputs": [
    {
     "data": {
      "text/plain": [
       "array([[1, 2, 1],\n",
       "       [1, 1, 2],\n",
       "       [2, 1, 1]])"
      ]
     },
     "execution_count": 6,
     "metadata": {},
     "output_type": "execute_result"
    }
   ],
   "source": [
    "A + A @ A + A @ A @ A + A "
   ]
  },
  {
   "cell_type": "code",
   "execution_count": 7,
   "id": "bea1e590",
   "metadata": {},
   "outputs": [
    {
     "name": "stdout",
     "output_type": "stream",
     "text": [
      "[[0.         0.08333884 0.         0.         0.        ]\n",
      " [0.         0.         0.08333884 0.         0.        ]\n",
      " [0.         0.         0.         0.08333884 0.        ]\n",
      " [0.         0.         0.         0.         0.08333884]\n",
      " [0.08333884 0.         0.         0.         0.        ]]\n"
     ]
    }
   ],
   "source": [
    "A = np.array([[0, 1, 0, 0, 0], [0, 0, 1, 0, 0], [0, 0, 0, 1, 0], [0, 0, 0, 0, 1], [1, 0, 0, 0, 0]])\n",
    "print(np.round(h(A)[1], 30)) # , round(h2(A)[0], 2))"
   ]
  },
  {
   "cell_type": "markdown",
   "id": "75cf12cb",
   "metadata": {},
   "source": [
    "$\\textbf{Lemma 4}$. A directed graph $G$ is acyclic if and only if the Hadamard product $A \\circ \\nabla h(A) = 0$.\n",
    "We are interested in a matrix $A$ s.t. $h(A) \\neq 0$, bur $\\nabla h(A) = 0$."
   ]
  },
  {
   "cell_type": "code",
   "execution_count": null,
   "id": "709417d4",
   "metadata": {},
   "outputs": [],
   "source": []
  },
  {
   "cell_type": "markdown",
   "id": "d7f1ad16",
   "metadata": {},
   "source": [
    "Interesting quote from NOTEARS: \"Moreover, notice that $h(W) \\geq 0$ for all $W$ since each term in the series is nonnegative. This gives another interesting perspective of the space of DAGs as the set of global minima of $h(W)$. However, due to the nonconvexity, this is not equivalent to the first order stationary condition $\\nabla h(W) = 0.$\"\n",
    "\n",
    "This seems to imply that $h(W)$ is not a convex function, and furthermore, that there will exist stationary points that do not give rise to a DAG. Let's try to find those!"
   ]
  },
  {
   "cell_type": "code",
   "execution_count": 8,
   "id": "15a50335",
   "metadata": {},
   "outputs": [],
   "source": [
    "def generate_random_matrix(n):\n",
    "    \"\"\"\n",
    "    Generate a random n times n matrix.\n",
    "    Each coefficient is random between -1 and 1\n",
    "    \"\"\"\n",
    "    \n",
    "    return np.random.uniform(low = -1, high = 1, size = n ** 2).reshape((n, n))"
   ]
  },
  {
   "cell_type": "code",
   "execution_count": 40,
   "id": "672153df",
   "metadata": {},
   "outputs": [
    {
     "name": "stdout",
     "output_type": "stream",
     "text": [
      "[[-4.94065646e-324  1.72948986e-002 -6.37527055e-001 -7.98163777e-001\n",
      "   2.12329870e-001]\n",
      " [-1.53515545e-003  4.94065646e-324 -3.99509210e-001  1.59058377e-001\n",
      "   5.97600978e-001]\n",
      " [ 9.88131292e-324  3.45845952e-323 -4.94065646e-324 -1.97626258e-323\n",
      "  -3.45845952e-323]\n",
      " [-9.88131292e-324 -3.42479161e-138  5.59251763e-001  4.94065646e-324\n",
      "   6.73259369e-268]\n",
      " [ 8.66068545e-162 -1.97626258e-323  4.39188704e-001  2.73598918e-001\n",
      "  -4.94065646e-324]]\n",
      "7.049214545418181e-10 \n",
      " [[-9.88131292e-324  8.15178529e-008 -0.00000000e+000 -2.20630238e-281\n",
      "   1.46450753e-283]\n",
      " [-9.18371492e-007  9.88131292e-324 -0.00000000e+000  3.73125426e-276\n",
      "   5.24696724e-277]\n",
      " [ 9.88131292e-324  9.88131292e-324 -9.88131292e-324 -9.88131292e-324\n",
      "  -9.88131292e-324]\n",
      " [-9.88131292e-324 -2.64852367e-139  0.00000000e+000  9.88131292e-324\n",
      "   1.00795502e-268]\n",
      " [ 7.81841378e-163 -9.88131292e-324  0.00000000e+000  1.14605463e-276\n",
      "  -9.88131292e-324]] \n",
      "\n",
      "\n",
      "\n",
      " [[-0.     0.017 -0.638 -0.798  0.212]\n",
      " [-0.002  0.    -0.4    0.159  0.598]\n",
      " [ 0.     0.    -0.    -0.    -0.   ]\n",
      " [-0.    -0.     0.559  0.     0.   ]\n",
      " [ 0.    -0.     0.439  0.274 -0.   ]]\n",
      "False\n"
     ]
    }
   ],
   "source": [
    "eta, tol = 2e-1, 1e-6\n",
    "\n",
    "# A = generate_random_matrix(5)\n",
    "print(A)\n",
    "\n",
    "h_value, G_h = h(A)\n",
    "\n",
    "print(h_value, \"\\n\", G_h, \"\\n\")\n",
    "\n",
    "while np.sum(np.abs(G_h)) >= tol:\n",
    "    A -= eta * G_h\n",
    "    h_value, G_h = h(A)\n",
    "    \n",
    "    print(np.round(np.sum(np.abs(G_h)), 2), end = \", \")\n",
    "\n",
    "print(\"\\n\\n\", np.round(A, 3))\n",
    "\n",
    "print(helper.is_dag(np.around(A, 3)))"
   ]
  },
  {
   "cell_type": "markdown",
   "id": "54d84486",
   "metadata": {},
   "source": [
    "This [paper](https://arxiv.org/pdf/2011.11150.pdf) focuses on NOTEARS, and seems to have found the conclusion: \n",
    "\n",
    "$\\textbf{Assumption 1}$. The function $h(B) = 0$ if and only if its gradient $\\nabla h(B) = 0$.\n",
    "\n",
    "Both DAG constraint terms proposed by Zheng et al. (2018) and Yu et al. (2019) satisfy the assumption above, with a proof provided in Appendix B.\n",
    "\n",
    "$\\textbf{Proposition 1}$. The functions $h_{NOTEARS}(B)$ satisfies Assumption $1$.\n",
    "\n",
    "Proof seems okay, and that seems to have ended the problem. Note that this is for the NOTEARS DAGness, not for our DAGness (self-loops allowed). Nevertheless, the proof still holds (with minor modification)."
   ]
  }
 ],
 "metadata": {
  "kernelspec": {
   "display_name": "Python 3.6.8 64-bit",
   "language": "python",
   "name": "python36864bit874e3a48d9b148faaa09714964fd179b"
  },
  "language_info": {
   "codemirror_mode": {
    "name": "ipython",
    "version": 3
   },
   "file_extension": ".py",
   "mimetype": "text/x-python",
   "name": "python",
   "nbconvert_exporter": "python",
   "pygments_lexer": "ipython3",
   "version": "3.6.8"
  }
 },
 "nbformat": 4,
 "nbformat_minor": 5
}
