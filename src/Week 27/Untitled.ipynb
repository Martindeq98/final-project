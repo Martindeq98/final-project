{
 "cells": [
  {
   "cell_type": "code",
   "execution_count": 1,
   "id": "a9178b88",
   "metadata": {},
   "outputs": [],
   "source": [
    "import numpy as np"
   ]
  },
  {
   "cell_type": "code",
   "execution_count": 104,
   "id": "c1daf84b",
   "metadata": {},
   "outputs": [
    {
     "name": "stdout",
     "output_type": "stream",
     "text": [
      "411.64714285714285\n"
     ]
    }
   ],
   "source": [
    "def sample():\n",
    "    bools = np.full(360, False)\n",
    "\n",
    "    count = 0\n",
    "    n = 5\n",
    "    while sum(bools[:n]) < n:\n",
    "        bools[np.random.choice(360)] = True\n",
    "        bools[np.random.choice(360)] = True\n",
    "        count += 1\n",
    "    \n",
    "    return count\n",
    "\n",
    "# results = []\n",
    "\n",
    "for i in range(5000):\n",
    "    results.append(sample())\n",
    "print(np.mean(results))"
   ]
  },
  {
   "cell_type": "code",
   "execution_count": 103,
   "id": "c6302ef0",
   "metadata": {},
   "outputs": [
    {
     "data": {
      "image/png": "[encoded data removed]",
      "text/plain": [
       "<Figure size 432x288 with 1 Axes>"
      ]
     },
     "metadata": {
      "needs_background": "light"
     },
     "output_type": "display_data"
    }
   ],
   "source": [
    "import matplotlib.pyplot as plt\n",
    "\n",
    "plt.hist(results, bins = 100);"
   ]
  }
 ],
 "metadata": {
  "kernelspec": {
   "display_name": "Python 3.6.8 64-bit",
   "language": "python",
   "name": "python36864bit874e3a48d9b148faaa09714964fd179b"
  },
  "language_info": {
   "codemirror_mode": {
    "name": "ipython",
    "version": 3
   },
   "file_extension": ".py",
   "mimetype": "text/x-python",
   "name": "python",
   "nbconvert_exporter": "python",
   "pygments_lexer": "ipython3",
   "version": "3.6.8"
  }
 },
 "nbformat": 4,
 "nbformat_minor": 5
}
