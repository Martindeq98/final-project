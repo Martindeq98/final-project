{
 "cells": [
  {
   "cell_type": "code",
   "execution_count": 1,
   "id": "67f53e2a",
   "metadata": {},
   "outputs": [],
   "source": [
    "import numpy as np"
   ]
  },
  {
   "cell_type": "code",
   "execution_count": 29,
   "id": "11dbd2e3",
   "metadata": {},
   "outputs": [
    {
     "name": "stdout",
     "output_type": "stream",
     "text": [
      "W:\n",
      "[[1. 0. 0. 1.]\n",
      " [1. 1. 0. 1.]\n",
      " [1. 1. 1. 1.]\n",
      " [0. 0. 0. 1.]].\n",
      "W:\n",
      "[[1. 0. 0. 1.]\n",
      " [1. 1. 0. 1.]\n",
      " [1. 1. 1. 1.]\n",
      " [0. 0. 0. 1.]].\n"
     ]
    }
   ],
   "source": [
    "p = 4\n",
    "T = np.zeros((p, p))\n",
    "T[np.tril_indices(p)] = np.ones(int(p * (p + 1) / 2))\n",
    "\n",
    "P = np.array([\n",
    "    [0, 1, 0, 0],\n",
    "    [0, 0, 1, 0],\n",
    "    [0, 0, 0, 1],\n",
    "    [1, 0, 0, 0],\n",
    "])\n",
    "\n",
    "# print(P)\n",
    "print(f\"W:\\n{P @ T @ P.T}.\")\n",
    "\n",
    "print(f\"W:\\n{np.rot90(P) @ T.T @ np.rot90(P)}.\")"
   ]
  }
 ],
 "metadata": {
  "kernelspec": {
   "display_name": "Python 3.6.8 64-bit",
   "language": "python",
   "name": "python36864bit874e3a48d9b148faaa09714964fd179b"
  },
  "language_info": {
   "codemirror_mode": {
    "name": "ipython",
    "version": 3
   },
   "file_extension": ".py",
   "mimetype": "text/x-python",
   "name": "python",
   "nbconvert_exporter": "python",
   "pygments_lexer": "ipython3",
   "version": "3.6.8"
  }
 },
 "nbformat": 4,
 "nbformat_minor": 5
}
