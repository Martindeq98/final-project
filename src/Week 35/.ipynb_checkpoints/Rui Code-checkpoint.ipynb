{
 "cells": [
  {
   "cell_type": "code",
   "execution_count": 1,
   "id": "f14735d3",
   "metadata": {},
   "outputs": [],
   "source": [
    "import numpy as np\n",
    "import matplotlib.pyplot as plt\n",
    "from tqdm import tqdm\n",
    "from scipy.stats import sem"
   ]
  },
  {
   "cell_type": "markdown",
   "id": "3008d433",
   "metadata": {},
   "source": [
    "AR(1) model\n",
    "\n",
    "$$X_{t} - b = a (X_{t - 1} - b) + \\varepsilon_t, \\qquad X_1 \\sim \\mathcal{N}\\left(0, \\frac{1}{1 - a^2}\\right).$$\n",
    "\n",
    "$$H_0: a_\\text{true} = a, b \\in \\mathbb{R}, \\qquad H_1: a_\\text{true} \\neq a, b \\in \\mathbb{R}.$$\n",
    "### Remove no elements\n",
    "$$\\hat{a} = \\frac{\\sum_{t = 1}^{T - 1}\\left(X_t - \\hat{b}\\right)\\left(X_{t + 1} - \\hat{b}\\right)}{\\sum_{t = 1}^{T - 1}\\left(X_t - \\hat{b}\\right)^2}$$\n",
    "\n",
    "$$\\hat{b} = \\frac{\\left(\\sum X - X_1\\right) - a\\left(\\sum X - X_T\\right)}{(T - 1)(1 - a)} = \\frac{\\sum X}{T-1} - \\frac{(X_1 - aX_T)}{(T - 1)(1 - a)}.$$\n",
    "\n",
    "### Rui's Implementation, slight modification to python, different $\\hat{a}$ estimation."
   ]
  },
  {
   "cell_type": "code",
   "execution_count": 2,
   "id": "22b925ee",
   "metadata": {},
   "outputs": [
    {
     "name": "stderr",
     "output_type": "stream",
     "text": [
      "100%|██████████████████████████████████████████████████████████████████████████████████| 50/50 [00:00<00:00, 98.04it/s]"
     ]
    },
    {
     "name": "stdout",
     "output_type": "stream",
     "text": [
      "P(CV(a = a0 = 0.8) < CV(a = hat(a)) = 0.52.\n"
     ]
    },
    {
     "name": "stderr",
     "output_type": "stream",
     "text": [
      "\n"
     ]
    }
   ],
   "source": [
    "def rui(a0, b, T, iters = 100):\n",
    "    \n",
    "    count = 0\n",
    "    \n",
    "    for _ in tqdm(range(iters)):\n",
    "\n",
    "        # generate AR(1)\n",
    "        X = np.zeros(T)\n",
    "        X[0] = np.random.normal(b, np.sqrt(1 / (1 - a0 ** 2)))\n",
    "    \n",
    "        noises = np.random.normal(0, 1, T - 1)\n",
    "        for t in range(1, T):\n",
    "            X[t] = b + a0 * (X[t - 1] - b) + noises[t - 1]\n",
    "    \n",
    "        # LOOCV parameter estimates\n",
    "        \n",
    "        # approximation estimate for b\n",
    "        hat_b = (sum(X) - X) / T\n",
    "    \n",
    "        hat_a = np.zeros(T)\n",
    "    \n",
    "        CV_0 = np.zeros(T)\n",
    "        CV_1 = np.zeros(T)\n",
    "    \n",
    "        for t in range(2, T - 1):\n",
    "            # approximation estimate for a\n",
    "            nominator = (X[1:] - hat_b[t]) @ (X[:-1] - hat_b[t]).T - (X[t] - hat_b[t]) * (X[t - 1] + X[t + 1] - 2 * hat_b[t])\n",
    "            denominator = (sum((X[1:] - hat_b[t]) ** 2) - (X[t] - hat_b[t]) ** 2 - (X[t + 1] - hat_b[t]) ** 2)\n",
    "            \n",
    "            hat_a[t] = nominator / denominator\n",
    "        \n",
    "            # cross validation scores\n",
    "            CV_0[t] = (X[t]- hat_b[t] - a0       * (X[t - 1] - hat_b[t])) ** 2\n",
    "            CV_1[t] = (X[t]- hat_b[t] - hat_a[t] * (X[t - 1] - hat_b[t])) ** 2\n",
    "        \n",
    "        count += (sum(CV_0[1:-1]) < sum(CV_1[1:-1]))\n",
    "        \n",
    "    return count\n",
    "\n",
    "a0, b, T, iters = 0.80, 1.0, 100, 50\n",
    "count = rui(a0, b, T, iters)\n",
    "print(f\"P(CV(a = a0 = {a0}) < CV(a = hat(a)) = {round(count / iters, 3)}.\")"
   ]
  },
  {
   "cell_type": "code",
   "execution_count": 3,
   "id": "ada21d3d",
   "metadata": {},
   "outputs": [
    {
     "name": "stderr",
     "output_type": "stream",
     "text": [
      "100%|█████████████████████████████████████████████████████████████████████████████████| 50/50 [00:00<00:00, 112.61it/s]"
     ]
    },
    {
     "name": "stdout",
     "output_type": "stream",
     "text": [
      "P(CV(a = a0 = 0.0) < CV(a = hat(a)) = 0.82.\n"
     ]
    },
    {
     "name": "stderr",
     "output_type": "stream",
     "text": [
      "\n"
     ]
    }
   ],
   "source": [
    "def rui_2(a0, b, T, iters = 100):\n",
    "    \n",
    "    count = 0\n",
    "    \n",
    "    for _ in tqdm(range(iters)):\n",
    "\n",
    "        # generate AR(1)\n",
    "        X = np.zeros(T)\n",
    "        X[0] = np.random.normal(b, np.sqrt(1 / (1 - a0 ** 2)))\n",
    "    \n",
    "        noises = np.random.normal(0, 1, T - 1)\n",
    "        for t in range(1, T):\n",
    "            X[t] = b + a0 * (X[t - 1] - b) + noises[t - 1]\n",
    "    \n",
    "        # LOOCV parameter estimates\n",
    "        \n",
    "        # approximation estimate for b\n",
    "        hat_b = (sum(X) - X) / (T - 1)\n",
    "    \n",
    "        hat_a = np.zeros(T)\n",
    "    \n",
    "        CV_0 = np.zeros(T)\n",
    "        CV_1 = np.zeros(T)\n",
    "    \n",
    "        for t in range(1, T - 1):\n",
    "            # approximation estimate for a\n",
    "            nominator = (X[1:] - hat_b[t]) @ (X[:-1] - hat_b[t]).T - (X[t] - hat_b[t]) * (X[t - 1] + X[t + 1] - 2 * hat_b[t])\n",
    "            denominator = (sum((X[:-1] - hat_b[t]) ** 2) - (X[t] - hat_b[t]) ** 2 - (X[t + 1] - hat_b[t]) ** 2)\n",
    "            \n",
    "            hat_a[t] = nominator / denominator\n",
    "        \n",
    "            # cross validation scores\n",
    "            CV_0[t] = (X[t]- hat_b[t] - a0       * (X[t - 1] - hat_b[t])) ** 2\n",
    "            CV_1[t] = (X[t]- hat_b[t] - hat_a[t] * (X[t - 1] - hat_b[t])) ** 2\n",
    "        \n",
    "        count += (sum(CV_0[1:-1]) < sum(CV_1[1:-1]))\n",
    "        \n",
    "    return count\n",
    "\n",
    "a0, b, T, iters = 0.00, 1.0, 100, 50\n",
    "count = rui_2(a0, b, T, iters)\n",
    "print(f\"P(CV(a = a0 = {a0}) < CV(a = hat(a)) = {round(count / iters, 3)}.\")"
   ]
  },
  {
   "cell_type": "markdown",
   "id": "a4d94ebf",
   "metadata": {},
   "source": [
    "### Martin's $\\hat{a}$ implementation.\n",
    "We can regard the data as $T - 1$ pairs $(x, y)$ of the form $\\{(X_t, X_{t+1})\\}_{t = 1}^{T - 1}$. Then, LOOCV would remove the $k$th sample, so the $k$th pair $(X_k, X_{k+1})$. The corresponding estimate would then be. Using this $(X, Y)$ pair combination, we can see estimate \n",
    "\n",
    "$$\\hat{b} = \\frac{\\left(\\sum X - X_1\\right) - a\\left(\\sum X - X_T\\right)}{(T - 1)(1 - a)} = \\frac{\\sum X}{T-1} - \\frac{(X_1 - aX_T)}{(T - 1)(1 - a)} \\approx \\frac{\\sum X}{T}.$$ Leaving out, the $k$th pair $(X_k, X_{k+1})$, we would get \n",
    "\n",
    "$$\\hat{b}^{-k} = \\frac{\\left(\\sum X - X_1 - X_{k + 1}\\right) - a\\left(\\sum X - X_T - X_{k}\\right)}{(T - 2)(1 - a)} \\approx \\frac{\\sum X - X_{k}}{T - 1}$$\n",
    "\n",
    "$$\\hat{a}^{-k} = \\frac{\\sum_{t = 1}^{T - 1}\\left(X_t - \\hat{b}^{-k}\\right)\\left(X_{t + 1} - \\hat{b}^{-k}\\right) - \\left(X_k - \\hat{b}^{-k}\\right)\\left(X_{k+1} - \\hat{b}^{-k}\\right)}{\\sum_{t = 1}^{T - 1}\\left(X_t - \\hat{b}^{-k}\\right)^2 - \\left(X_k - \\hat{b}^{-k}\\right)^2}$$"
   ]
  },
  {
   "cell_type": "code",
   "execution_count": 4,
   "id": "5e05238d",
   "metadata": {},
   "outputs": [
    {
     "name": "stderr",
     "output_type": "stream",
     "text": [
      "100%|████████████████████████████████████████████████████████████████████████████| 5000/5000 [00:02<00:00, 2287.28it/s]"
     ]
    },
    {
     "name": "stdout",
     "output_type": "stream",
     "text": [
      "P(CV(a = a0 = 0.8) < CV(a = hat(a)) = 0.675.\n"
     ]
    },
    {
     "name": "stderr",
     "output_type": "stream",
     "text": [
      "\n"
     ]
    }
   ],
   "source": [
    "a0, b, T = 0.8, 1.0, 10\n",
    "count, iters = 0, 5000\n",
    "\n",
    "for _ in tqdm(range(iters)):\n",
    "\n",
    "    X = np.zeros(T)\n",
    "    \n",
    "    # generate AR(1)\n",
    "    X[0] = np.random.normal(b, np.sqrt(1 / (1 - a0 ** 2)))\n",
    "    \n",
    "    noises = np.random.normal(0, 1, T - 1)\n",
    "    for t in range(1, T):\n",
    "        X[t] = b + a0 * (X[t - 1] - b) + noises[t - 1]\n",
    "    \n",
    "    # LOOCV parameter estimates approximation\n",
    "    hat_b = (sum(X) - X) / (T - 1)\n",
    "    \n",
    "    hat_a = np.zeros(T)\n",
    "    \n",
    "    CV_0 = np.zeros(T)\n",
    "    CV_1 = np.zeros(T)\n",
    "    \n",
    "    for t in range(T - 1):\n",
    "        nomin = np.dot(X[:-1] - hat_b[t], X[1:]  - hat_b[t]) - (X[t] - hat_b[t]) * (X[t + 1] - hat_b[t])\n",
    "        denom = np.dot(X[:-1] - hat_b[t], X[:-1] - hat_b[t]) - (X[t] - hat_b[t]) * (X[t]     - hat_b[t])\n",
    "        \n",
    "        hat_a[t] = nomin / denom\n",
    "                   \n",
    "        CV_0[t] = (X[t + 1]- hat_b[t] - a0       * (X[t] - hat_b[t])) ** 2\n",
    "        CV_1[t] = (X[t + 1]- hat_b[t] - hat_a[t] * (X[t] - hat_b[t])) ** 2\n",
    "        \n",
    "    count += (sum(CV_0[:-1]) < sum(CV_1[:-1]))\n",
    "\n",
    "print(f\"P(CV(a = a0 = {a0}) < CV(a = hat(a)) = {round(count / iters, 3)}.\")"
   ]
  },
  {
   "cell_type": "markdown",
   "id": "581255a5",
   "metadata": {},
   "source": [
    "### Remove all information of $(x, y)$ pair $(X_k, X_{k+1})$."
   ]
  },
  {
   "cell_type": "code",
   "execution_count": 5,
   "id": "d0438d94",
   "metadata": {},
   "outputs": [
    {
     "name": "stderr",
     "output_type": "stream",
     "text": [
      "100%|█████████████████████████████████████████████████████████████████████████████| 1000/1000 [00:03<00:00, 250.75it/s]"
     ]
    },
    {
     "name": "stdout",
     "output_type": "stream",
     "text": [
      "P(CV(a = a0 = 0.999) < CV(a = hat(a)) = 0.189.\n"
     ]
    },
    {
     "name": "stderr",
     "output_type": "stream",
     "text": [
      "\n"
     ]
    }
   ],
   "source": [
    "def martin_remove_x_k_pair(a0, b, T, iters = 100):\n",
    "    \n",
    "    count = 0\n",
    "    \n",
    "    for _ in tqdm(range(iters)):\n",
    "\n",
    "        X = np.zeros(T)\n",
    "\n",
    "        # generate AR(1)\n",
    "        X[0] = np.random.normal(b, np.sqrt(1 / (1 - a0 ** 2)))\n",
    "\n",
    "        noises = np.random.normal(0, 1, T - 1)\n",
    "        for t in range(1, T):\n",
    "            X[t] = b + a0 * (X[t - 1] - b) + noises[t - 1]\n",
    "\n",
    "        sum_X = sum(X)\n",
    "\n",
    "        # LOOCV parameter estimates\n",
    "        hat_b = np.zeros(T)\n",
    "        hat_b[:-1] = ((sum_X - X[0] - X[1:]) - a0 * (sum_X - X[-1] - X[:-1])) / ((T - 2) * (1 - a0))\n",
    "\n",
    "        hat_a = np.zeros(T)\n",
    "\n",
    "        CV_0 = np.zeros(T - 1)\n",
    "        CV_1 = np.zeros(T - 1)\n",
    "\n",
    "        for t in range(T - 1):            \n",
    "            nomin = np.dot(X[:-1] - hat_b[t], X[1:]  - hat_b[t]) - (X[t] - hat_b[t]) * (X[t + 1] - hat_b[t])\n",
    "            denom = np.dot(X[:-1] - hat_b[t], X[:-1] - hat_b[t]) - (X[t] - hat_b[t]) * (X[t]     - hat_b[t])\n",
    "\n",
    "            hat_a[t] = nomin / denom\n",
    "\n",
    "            CV_0[t] = (X[t + 1] - hat_b[t] - a0       * (X[t] - hat_b[t])) ** 2\n",
    "            CV_1[t] = (X[t + 1] - hat_b[t] - hat_a[t] * (X[t] - hat_b[t])) ** 2\n",
    "\n",
    "        count += (sum(CV_0) < sum(CV_1))\n",
    "    \n",
    "    return count\n",
    "\n",
    "a0, b, T, iters = 0.999, 0, 100, 1000\n",
    "count = martin_remove_x_k_pair(a0, b, T, iters)\n",
    "print(f\"P(CV(a = a0 = {a0}) < CV(a = hat(a)) = {round(count / iters, 3)}.\")"
   ]
  },
  {
   "cell_type": "markdown",
   "id": "0f193cec",
   "metadata": {},
   "source": [
    "### Remove all information of $X_k$\n",
    "\n",
    "We can regard the data as $T - 1$ pairs $(x, y)$ of the form $\\{(X_t, X_{t+1})\\}_{t = 1}^{T - 1}$. Then, LOOCV would remove the two samples pairs $(X_{k - 1}, X_{k})$, $(X_k, X_{k+1})$. Leaving out, the 2 pairs $(X_{k - 1}, X_{k})$, $(X_k, X_{k+1})$, we would get \n",
    "\n",
    "$$\\hat{b}^{-k} = \\frac{\\left(\\sum X - X_1 - X_{k + 1} - X_k\\right) - a\\left(\\sum X - X_T - X_{k} - X_{k - 1}\\right)}{(T - 3)(1 - a)} \\approx \\frac{\\sum X - X_k}{T - 1}$$\n",
    "\n",
    "$$\\hat{a}^{-k} = \\frac{\\sum_{t = 1}^{T - 1}\\left(X_t - \\hat{b}^{-k}\\right)\\left(X_{t + 1} - \\hat{b}^{-k}\\right) - \\left(X_{k - 1} - \\hat{b}^{-k}\\right)\\left(X_{k} - \\hat{b}^{-k}\\right) - \\left(X_k - \\hat{b}^{-k}\\right)\\left(X_{k+1} - \\hat{b}^{-k}\\right)}{\\sum_{t = 1}^{T - 1}\\left(X_t - \\hat{b}^{-k}\\right)^2 - \\left(X_k - \\hat{b}^{-k}\\right)^2  - \\left(X_{k - 1} - \\hat{b}^{-k}\\right)^2}$$"
   ]
  },
  {
   "cell_type": "code",
   "execution_count": 6,
   "id": "24d4c86c",
   "metadata": {},
   "outputs": [
    {
     "name": "stderr",
     "output_type": "stream",
     "text": [
      "100%|███████████████████████████████████████████████████████████████████████████████| 100/100 [00:00<00:00, 196.08it/s]"
     ]
    },
    {
     "name": "stdout",
     "output_type": "stream",
     "text": [
      "P(CV(a = a0 = 0.65) < CV(a = hat(a)) = 0.91.\n"
     ]
    },
    {
     "name": "stderr",
     "output_type": "stream",
     "text": [
      "\n"
     ]
    }
   ],
   "source": [
    "def martin_remove_x_k_both(a0, b, T, iters):\n",
    "    \n",
    "    count = 0\n",
    "    \n",
    "    np.random.seed(seed = 123)\n",
    "    \n",
    "    for _ in tqdm(range(iters)):\n",
    "\n",
    "        X = np.zeros(T)\n",
    "\n",
    "        # generate AR(1)\n",
    "        X[0] = np.random.normal(b, np.sqrt(1 / (1 - a0 ** 2)))\n",
    "\n",
    "        noises = np.random.normal(0, 1, T - 1)\n",
    "        for t in range(1, T):\n",
    "            X[t] = b + a0 * (X[t - 1] - b) + noises[t - 1]\n",
    "\n",
    "        sum_X = sum(X)\n",
    "\n",
    "        # LOOCV parameter estimates\n",
    "        hat_b = np.zeros(T)\n",
    "        hat_b[1:-1] = ((sum_X - X[0] - X[1:-1] - X[2:]) - a0 * (sum_X - X[-1] - X[1:-1] - X[:-2])) / ((T - 3) * (1 - a0))\n",
    "        # hat_b[1:-1] = (sum(X[1:] - a0 * X[:-1]) - (1 - a0) * X[1:-1] - X[2:] + a0 * X[:-2]) / ((T - 3) * (1 - a0))\n",
    "        \n",
    "        # approx\n",
    "        # hat_b = (sum_X - X) / (T - 1)\n",
    "\n",
    "        hat_a = np.zeros(T)\n",
    "\n",
    "        CV_0 = np.zeros(T - 1)\n",
    "        CV_1 = np.zeros(T - 1)\n",
    "\n",
    "        for t in range(1, T - 1):\n",
    "            hat_b_2 = ((sum_X - X[0] - X[t] - X[t + 1]) - a0 * (sum_X - X[-1] - X[t] - X[t - 1])) / ((T - 3) * (1 - a0))\n",
    "\n",
    "            nomin = np.dot(X[:-1] - hat_b[t], X[1:]  - hat_b[t]) - (X[t - 1] - hat_b[t]) * (X[t]     - hat_b[t]) - (X[t] - hat_b[t]) * (X[t + 1] - hat_b[t]) \n",
    "            denom = np.dot(X[:-1] - hat_b[t], X[:-1] - hat_b[t]) - (X[t - 1] - hat_b[t]) * (X[t - 1] - hat_b[t]) - (X[t] - hat_b[t]) * (X[t]     - hat_b[t])\n",
    "\n",
    "            hat_a[t] = nomin / denom\n",
    "            \n",
    "            CV_0[t] = (X[t + 1] - hat_b[t] - a0       * (X[t] - hat_b[t])) ** 2\n",
    "            CV_1[t] = (X[t + 1] - hat_b[t] - hat_a[t] * (X[t] - hat_b[t])) ** 2\n",
    "        \n",
    "        #print(round(sum(CV_0)), round(sum(CV_1)))\n",
    "        count += (sum(CV_0) < sum(CV_1))\n",
    "        \n",
    "    return count\n",
    "\n",
    "a0, b, T, iters = 0.65, 0, 51, 100\n",
    "count = martin_remove_x_k_both(a0, b, T, iters)\n",
    "print(f\"P(CV(a = a0 = {a0}) < CV(a = hat(a)) = {round(count / iters, 3)}.\")"
   ]
  },
  {
   "cell_type": "markdown",
   "id": "358f1c8b",
   "metadata": {},
   "source": [
    "### 3D Grid Search"
   ]
  },
  {
   "cell_type": "code",
   "execution_count": 1021,
   "id": "93172ccb",
   "metadata": {},
   "outputs": [
    {
     "name": "stderr",
     "output_type": "stream",
     "text": [
      "  5%|███▉                                                                           | 50/1000 [00:00<00:03, 246.60it/s]"
     ]
    },
    {
     "name": "stdout",
     "output_type": "stream",
     "text": [
      "a 0.0\n"
     ]
    },
    {
     "name": "stderr",
     "output_type": "stream",
     "text": [
      "100%|█████████████████████████████████████████████████████████████████████████████| 1000/1000 [00:04<00:00, 238.36it/s]\n",
      "  1%|▋                                                                                | 8/1000 [00:00<00:13, 72.73it/s]"
     ]
    },
    {
     "name": "stdout",
     "output_type": "stream",
     "text": [
      "0.824\n"
     ]
    },
    {
     "name": "stderr",
     "output_type": "stream",
     "text": [
      "100%|██████████████████████████████████████████████████████████████████████████████| 1000/1000 [00:13<00:00, 75.04it/s]\n",
      "  2%|█▋                                                                             | 22/1000 [00:00<00:04, 220.00it/s]"
     ]
    },
    {
     "name": "stdout",
     "output_type": "stream",
     "text": [
      "0.828\n",
      "a 0.25\n"
     ]
    },
    {
     "name": "stderr",
     "output_type": "stream",
     "text": [
      "100%|█████████████████████████████████████████████████████████████████████████████| 1000/1000 [00:05<00:00, 174.67it/s]\n",
      "  1%|▌                                                                                | 7/1000 [00:00<00:14, 67.97it/s]"
     ]
    },
    {
     "name": "stdout",
     "output_type": "stream",
     "text": [
      "0.833\n"
     ]
    },
    {
     "name": "stderr",
     "output_type": "stream",
     "text": [
      "100%|██████████████████████████████████████████████████████████████████████████████| 1000/1000 [00:21<00:00, 47.49it/s]\n",
      "  1%|▋                                                                                | 8/1000 [00:00<00:14, 70.80it/s]"
     ]
    },
    {
     "name": "stdout",
     "output_type": "stream",
     "text": [
      "0.835\n",
      "a 0.6\n"
     ]
    },
    {
     "name": "stderr",
     "output_type": "stream",
     "text": [
      "100%|█████████████████████████████████████████████████████████████████████████████| 1000/1000 [00:07<00:00, 141.68it/s]\n",
      "  1%|▋                                                                                | 9/1000 [00:00<00:11, 83.31it/s]"
     ]
    },
    {
     "name": "stdout",
     "output_type": "stream",
     "text": [
      "0.822\n"
     ]
    },
    {
     "name": "stderr",
     "output_type": "stream",
     "text": [
      "100%|██████████████████████████████████████████████████████████████████████████████| 1000/1000 [00:14<00:00, 68.71it/s]\n",
      "  1%|█                                                                              | 14/1000 [00:00<00:07, 134.61it/s]"
     ]
    },
    {
     "name": "stdout",
     "output_type": "stream",
     "text": [
      "0.823\n",
      "a 0.8\n"
     ]
    },
    {
     "name": "stderr",
     "output_type": "stream",
     "text": [
      "100%|█████████████████████████████████████████████████████████████████████████████| 1000/1000 [00:05<00:00, 173.31it/s]\n",
      "  1%|▋                                                                                | 9/1000 [00:00<00:12, 80.33it/s]"
     ]
    },
    {
     "name": "stdout",
     "output_type": "stream",
     "text": [
      "0.792\n"
     ]
    },
    {
     "name": "stderr",
     "output_type": "stream",
     "text": [
      "100%|██████████████████████████████████████████████████████████████████████████████| 1000/1000 [00:12<00:00, 78.20it/s]\n",
      "  2%|█▍                                                                             | 18/1000 [00:00<00:05, 179.95it/s]"
     ]
    },
    {
     "name": "stdout",
     "output_type": "stream",
     "text": [
      "0.814\n",
      "a 0.9\n"
     ]
    },
    {
     "name": "stderr",
     "output_type": "stream",
     "text": [
      "100%|█████████████████████████████████████████████████████████████████████████████| 1000/1000 [00:05<00:00, 192.75it/s]\n",
      "  1%|▊                                                                               | 10/1000 [00:00<00:10, 90.07it/s]"
     ]
    },
    {
     "name": "stdout",
     "output_type": "stream",
     "text": [
      "0.729\n"
     ]
    },
    {
     "name": "stderr",
     "output_type": "stream",
     "text": [
      "100%|██████████████████████████████████████████████████████████████████████████████| 1000/1000 [00:12<00:00, 79.88it/s]\n",
      "  2%|█▌                                                                             | 19/1000 [00:00<00:05, 180.96it/s]"
     ]
    },
    {
     "name": "stdout",
     "output_type": "stream",
     "text": [
      "0.792\n",
      "a 0.99\n"
     ]
    },
    {
     "name": "stderr",
     "output_type": "stream",
     "text": [
      " 46%|███████████████████████████████████▋                                          | 458/1000 [00:02<00:03, 177.62it/s]"
     ]
    },
    {
     "name": "stdout",
     "output_type": "stream",
     "text": [
      "1 -1.0126299798685068e-10 PROBLEM\n"
     ]
    },
    {
     "name": "stderr",
     "output_type": "stream",
     "text": [
      "100%|█████████████████████████████████████████████████████████████████████████████| 1000/1000 [00:05<00:00, 181.33it/s]\n",
      "  2%|█▏                                                                              | 15/1000 [00:00<00:13, 71.12it/s]"
     ]
    },
    {
     "name": "stdout",
     "output_type": "stream",
     "text": [
      "0.5\n"
     ]
    },
    {
     "name": "stderr",
     "output_type": "stream",
     "text": [
      "100%|██████████████████████████████████████████████████████████████████████████████| 1000/1000 [00:13<00:00, 72.55it/s]\n",
      "  2%|█▎                                                                             | 16/1000 [00:00<00:06, 158.41it/s]"
     ]
    },
    {
     "name": "stdout",
     "output_type": "stream",
     "text": [
      "0.569\n",
      "a 0.999\n"
     ]
    },
    {
     "name": "stderr",
     "output_type": "stream",
     "text": [
      "100%|█████████████████████████████████████████████████████████████████████████████| 1000/1000 [00:08<00:00, 122.98it/s]\n",
      "  1%|▌                                                                                | 7/1000 [00:00<00:15, 66.02it/s]"
     ]
    },
    {
     "name": "stdout",
     "output_type": "stream",
     "text": [
      "0.477\n"
     ]
    },
    {
     "name": "stderr",
     "output_type": "stream",
     "text": [
      "100%|██████████████████████████████████████████████████████████████████████████████| 1000/1000 [00:19<00:00, 50.45it/s]"
     ]
    },
    {
     "name": "stdout",
     "output_type": "stream",
     "text": [
      "0.442\n"
     ]
    },
    {
     "name": "stderr",
     "output_type": "stream",
     "text": [
      "\n"
     ]
    }
   ],
   "source": [
    "a_range = [0.0, 0.25, 0.6, 0.8, 0.9, 0.99, 0.999]\n",
    "b_range = [0.0] # np.linspace(-15, 15, 3)\n",
    "T_range = [51, 101]\n",
    "iters = 10\n",
    "iters2 = 100\n",
    "\n",
    "num_methods = 4\n",
    "\n",
    "results = np.zeros((num_methods, len(a_range), len(b_range), len(T_range)))\n",
    "\n",
    "for i, a in enumerate(a_range):\n",
    "    print(\"a\", a)\n",
    "    for j, b in enumerate(b_range):\n",
    "        for k, T in enumerate(T_range):\n",
    "#             results[0][i][j][k] = ar_loocv_2(a, b, T, iters, approx_b = True, one_pair = True, iter_estimate = False, iters2 = iters2) / iters\n",
    "#             results[1][i][j][k] = ar_loocv_2(a, b, T, iters, approx_b = True, one_pair = False, iter_estimate = False, iters2 = iters2) / iters\n",
    "            results[2][i][j][k] = ar_loocv_2(a, b, T, iters, approx_b = True, one_pair = False, iter_estimate = True, iters2 = iters2) / iters\n",
    "            print(results[2][i][j][k])\n",
    "#             results[3][i][j][k] = ar_loocv_2(a, b, T, iters, approx_b = True, one_pair = True, iter_estimate = True, iters2 = iters2) / iters"
   ]
  },
  {
   "cell_type": "markdown",
   "id": "0c3188ad",
   "metadata": {},
   "source": [
    "### Plot for a given $b$"
   ]
  },
  {
   "cell_type": "code",
   "execution_count": 7,
   "id": "146001af",
   "metadata": {},
   "outputs": [
    {
     "ename": "NameError",
     "evalue": "name 'b_range' is not defined",
     "output_type": "error",
     "traceback": [
      "\u001b[1;31m---------------------------------------------------------------------------\u001b[0m",
      "\u001b[1;31mNameError\u001b[0m                                 Traceback (most recent call last)",
      "\u001b[1;32m<ipython-input-7-1044fcc583ff>\u001b[0m in \u001b[0;36m<module>\u001b[1;34m\u001b[0m\n\u001b[0;32m      7\u001b[0m \u001b[0mmethods\u001b[0m \u001b[1;33m=\u001b[0m \u001b[1;33m[\u001b[0m\u001b[1;34m\"removing (Xk, Xk+1)\"\u001b[0m\u001b[1;33m,\u001b[0m \u001b[1;34m\"removing (Xk, Xk+1) and (Xk-1, Xk)\"\u001b[0m\u001b[1;33m,\u001b[0m \u001b[1;34m\"removing (Xk, Xk+1) and (Xk-1, Xk), iterative MLE estimation\"\u001b[0m\u001b[1;33m,\u001b[0m \u001b[1;34m\"removing (Xk, Xk+1), iterative MLE estimation\"\u001b[0m\u001b[1;33m]\u001b[0m\u001b[1;33m\u001b[0m\u001b[1;33m\u001b[0m\u001b[0m\n\u001b[0;32m      8\u001b[0m \u001b[0mplt\u001b[0m\u001b[1;33m.\u001b[0m\u001b[0mfigure\u001b[0m\u001b[1;33m(\u001b[0m\u001b[0mfigsize\u001b[0m \u001b[1;33m=\u001b[0m \u001b[1;33m(\u001b[0m\u001b[1;36m10\u001b[0m\u001b[1;33m,\u001b[0m \u001b[1;36m4\u001b[0m\u001b[1;33m)\u001b[0m\u001b[1;33m)\u001b[0m\u001b[1;33m\u001b[0m\u001b[1;33m\u001b[0m\u001b[0m\n\u001b[1;32m----> 9\u001b[1;33m \u001b[0mplt\u001b[0m\u001b[1;33m.\u001b[0m\u001b[0mtitle\u001b[0m\u001b[1;33m(\u001b[0m\u001b[1;34mf\"P(CV success for b = {b_range[b_index]}), {methods[n_method]}.\"\u001b[0m\u001b[1;33m)\u001b[0m\u001b[1;33m\u001b[0m\u001b[1;33m\u001b[0m\u001b[0m\n\u001b[0m\u001b[0;32m     10\u001b[0m \u001b[0mplt\u001b[0m\u001b[1;33m.\u001b[0m\u001b[0mxlabel\u001b[0m\u001b[1;33m(\u001b[0m\u001b[1;34mr\"Value of $a$.\"\u001b[0m\u001b[1;33m)\u001b[0m\u001b[1;33m\u001b[0m\u001b[1;33m\u001b[0m\u001b[0m\n\u001b[0;32m     11\u001b[0m \u001b[1;33m\u001b[0m\u001b[0m\n",
      "\u001b[1;31mNameError\u001b[0m: name 'b_range' is not defined"
     ]
    },
    {
     "data": {
      "text/plain": [
       "<Figure size 720x288 with 0 Axes>"
      ]
     },
     "metadata": {},
     "output_type": "display_data"
    }
   ],
   "source": [
    "b_index = -1\n",
    "n_method = 2\n",
    "a_index = 0\n",
    "t_index = -1\n",
    "# T_range = [51, 101, 251, 501]\n",
    "\n",
    "methods = [\"removing (Xk, Xk+1)\", \"removing (Xk, Xk+1) and (Xk-1, Xk)\", \"removing (Xk, Xk+1) and (Xk-1, Xk), iterative MLE estimation\", \"removing (Xk, Xk+1), iterative MLE estimation\"]\n",
    "plt.figure(figsize = (10, 4))\n",
    "plt.title(f\"P(CV success for b = {b_range[b_index]}), {methods[n_method]}.\")\n",
    "plt.xlabel(r\"Value of $a$.\")\n",
    "\n",
    "for i, plot in enumerate(results[n_method, :, b_index, :].T):\n",
    "    plt.plot(np.append(0, a_range), np.append(plot[0], plot), label = f\"T = {T_range[i]}\")\n",
    "    plt.fill_between(a_range, plot - np.sqrt(plot * (1 - plot) / iters), plot + np.sqrt(plot * (1 - plot) / iters), alpha = 0.1)\n",
    "    \n",
    "plt.legend(loc='upper right', bbox_to_anchor=(1.15, 1),\n",
    "          ncol=1, fancybox=True, shadow=True)\n",
    "plt.show()\n",
    "\n",
    "plt.figure(figsize = (10, 4))\n",
    "plt.xlabel(r\"Value of $T$.\")\n",
    "plt.title(f\"P(CV success for b = {b_range[b_index]}), {methods[n_method]}.\")\n",
    "for i, plot in enumerate(results[n_method, :, b_index, :]):\n",
    "    plt.plot(T_range, plot, label = f\"a = {a_range[i]}\")\n",
    "    plt.fill_between(T_range, plot - np.sqrt(plot * (1 - plot) / iters), plot + np.sqrt(plot * (1 - plot) / iters), alpha = 0.1)\n",
    "    \n",
    "plt.legend(loc='upper right', bbox_to_anchor=(1.17, 1),\n",
    "          ncol=1, fancybox=True, shadow=True)\n",
    "\n",
    "plt.show()\n",
    "\n",
    "plt.figure(figsize = (10, 4))\n",
    "plt.xlabel(r\"Value of $T$.\")\n",
    "plt.title(f\"P(CV success for b = {b_range[b_index]}), a = {a_range[a_index]}.\")\n",
    "for i, plot in enumerate(results[:, a_index, b_index, :]):\n",
    "    plt.plot(T_range, plot, label = f\"{methods[i]}\")\n",
    "    plt.fill_between(T_range, plot - np.sqrt(plot * (1 - plot) / iters), plot + np.sqrt(plot * (1 - plot) / iters), alpha = 0.1)\n",
    "    \n",
    "plt.legend(loc='lower center', bbox_to_anchor=(0.5, -0.4),\n",
    "          ncol=2, fancybox=True, shadow=True)\n",
    "\n",
    "plt.show()\n",
    "\n",
    "plt.figure(figsize = (10, 4))\n",
    "plt.xlabel(r\"Value of $a$.\")\n",
    "plt.title(f\"P(CV success for b = {b_range[b_index]}), T = {T_range[t_index]}.\")\n",
    "for i, plot in enumerate(results[:, :, b_index, t_index]):\n",
    "    plt.plot(a_range, plot, label = f\"{methods[i]}\")\n",
    "    plt.fill_between(a_range, plot - np.sqrt(plot * (1 - plot) / iters), plot + np.sqrt(plot * (1 - plot) / iters), alpha = 0.1)\n",
    "    \n",
    "plt.legend(loc='lower center', bbox_to_anchor=(0.5, -0.4),\n",
    "          ncol=2, fancybox=True, shadow=True)\n",
    "\n",
    "plt.show()"
   ]
  },
  {
   "cell_type": "code",
   "execution_count": null,
   "id": "d9fa05a9",
   "metadata": {},
   "outputs": [],
   "source": [
    "print(results)"
   ]
  },
  {
   "cell_type": "code",
   "execution_count": null,
   "id": "4b208e1d",
   "metadata": {},
   "outputs": [],
   "source": [
    "# print(np.shape(results))\n",
    "# print(np.shape(bckp))\n",
    "\n",
    "# # results_2 = np.append(bckp, results, axis = -1)\n",
    "# print(results_2)"
   ]
  },
  {
   "cell_type": "code",
   "execution_count": null,
   "id": "ffc74141",
   "metadata": {
    "scrolled": true
   },
   "outputs": [],
   "source": [
    "# bckp = results.copy()\n",
    "# print(results)"
   ]
  },
  {
   "cell_type": "markdown",
   "id": "07faf1ca",
   "metadata": {},
   "source": [
    "### Plot $a$ and $b$ for given $T$"
   ]
  },
  {
   "cell_type": "code",
   "execution_count": null,
   "id": "4fc58508",
   "metadata": {},
   "outputs": [],
   "source": [
    "plt.figure(figsize = (10, 4))\n",
    "t_index = 0\n",
    "n_method = 0\n",
    "\n",
    "plt.title(f\"P(CV success for T = {T_range[t_index]}).\")\n",
    "plt.xlabel(r\"Value of $a$.\")\n",
    "\n",
    "for i, plot in enumerate(results[n_method, :, :, t_index].T):\n",
    "    plt.plot(a_range, plot, label = f\"b = {b_range[i]}\")\n",
    "    plt.fill_between(a_range, plot - np.sqrt(plot * (1 - plot) / iters), plot + np.sqrt(plot * (1 - plot) / iters), alpha = 0.1)\n",
    "    \n",
    "plt.legend(loc='upper right', bbox_to_anchor=(1.3, 1),\n",
    "          ncol=1, fancybox=True, shadow=True)\n",
    "plt.show()\n",
    "\n",
    "plt.figure(figsize = (10, 4))\n",
    "plt.title(f\"P(CV success for T = {T_range[t_index]}).\")\n",
    "plt.xlabel(r\"Value of $b$.\")\n",
    "\n",
    "for i, plot in enumerate(results[n_method, :, :, t_index]):\n",
    "    plt.plot(b_range, plot, label = f\"a = {a_range[i]}\")\n",
    "    plt.fill_between(b_range, plot - np.sqrt(plot * (1 - plot) / iters), plot + np.sqrt(plot * (1 - plot) / iters), alpha = 0.1)\n",
    "    \n",
    "plt.legend(loc='upper right', bbox_to_anchor=(1.2, 1),\n",
    "          ncol=1, fancybox=True, shadow=True)\n",
    "\n",
    "plt.show()"
   ]
  },
  {
   "cell_type": "markdown",
   "id": "d808d796",
   "metadata": {},
   "source": [
    "### Plot for given $a$"
   ]
  },
  {
   "cell_type": "code",
   "execution_count": null,
   "id": "f77c6170",
   "metadata": {},
   "outputs": [],
   "source": [
    "a_index = 3\n",
    "n_method = 0\n",
    "\n",
    "plt.title(f\"P(CV success for a = {a_range[a_index]}).\")\n",
    "plt.xlabel(r\"Value of $b$.\")\n",
    "\n",
    "for i, plot in enumerate(results[n_method, a_index, :, :].T):\n",
    "    plt.plot(b_range, plot, label = f\"T = {T_range[i]}\")\n",
    "    plt.fill_between(b_range, plot - np.sqrt(plot * (1 - plot) / iters), plot + np.sqrt(plot * (1 - plot) / iters), alpha = 0.1)\n",
    "    \n",
    "plt.legend(loc='upper right', bbox_to_anchor=(1.3, 1),\n",
    "          ncol=1, fancybox=True, shadow=True)\n",
    "plt.show()\n",
    "\n",
    "plt.title(f\"P(CV success for a = {a_range[a_index]}).\")\n",
    "plt.xlabel(r\"Value of $T$.\")\n",
    "\n",
    "for i, plot in enumerate(results[n_method, a_index, :, :]):\n",
    "    plt.plot(T_range, plot, label = f\"b = {b_range[i]}\")\n",
    "    plt.fill_between(T_range, plot - np.sqrt(plot * (1 - plot) / iters), plot + np.sqrt(plot * (1 - plot) / iters), alpha = 0.1)\n",
    "    \n",
    "plt.legend(loc='upper right', bbox_to_anchor=(1.3, 1),\n",
    "          ncol=1, fancybox=True, shadow=True)\n",
    "\n",
    "plt.show()"
   ]
  },
  {
   "cell_type": "code",
   "execution_count": null,
   "id": "b858fdd5",
   "metadata": {},
   "outputs": [],
   "source": [
    "b_index = -1\n",
    "n_method = 1\n",
    "\n",
    "plt.figure(figsize = (10, 4))\n",
    "plt.title(f\"P(CV success for b = {b_range[b_index]}) removing $k$th pair.\")\n",
    "plt.xlabel(r\"Value of $a$.\")\n",
    "\n",
    "for i, plot in enumerate(results[n_method, :, b_index, :].T):\n",
    "    plt.plot(a_range, plot, label = f\"T = {T_range[i]}\")\n",
    "    plt.fill_between(a_range, plot - np.sqrt(plot * (1 - plot) / iters), plot + np.sqrt(plot * (1 - plot) / iters), alpha = 0.1)\n",
    "    \n",
    "plt.legend(ncol=1, fancybox=True, shadow=True)\n",
    "plt.show()\n",
    "\n",
    "plt.figure(figsize = (10, 4))\n",
    "plt.xlabel(r\"Value of $T$.\")\n",
    "plt.title(f\"P(CV success for b = {b_range[b_index]}) removing $k$th pair.\")\n",
    "for i, plot in enumerate(results[n_method, :, b_index, :]):\n",
    "    plt.plot(T_range, plot, label = f\"a = {a_range[i]}\")\n",
    "    plt.fill_between(T_range, plot - np.sqrt(plot * (1 - plot) / iters), plot + np.sqrt(plot * (1 - plot) / iters), alpha = 0.1)\n",
    "    \n",
    "plt.legend(ncol=1, fancybox=True, shadow=True)\n",
    "\n",
    "plt.show()"
   ]
  },
  {
   "cell_type": "code",
   "execution_count": null,
   "id": "f47bc913",
   "metadata": {},
   "outputs": [],
   "source": [
    "# bckp_2 = results.copy()\n",
    "# bckp = results.copy()"
   ]
  },
  {
   "cell_type": "code",
   "execution_count": null,
   "id": "58d165a9",
   "metadata": {},
   "outputs": [],
   "source": [
    "bckp_3 = results.copy()"
   ]
  },
  {
   "cell_type": "code",
   "execution_count": 8,
   "id": "196c1134",
   "metadata": {},
   "outputs": [
    {
     "ename": "NameError",
     "evalue": "name 'martin_remove_x_k_pair_2' is not defined",
     "output_type": "error",
     "traceback": [
      "\u001b[1;31m---------------------------------------------------------------------------\u001b[0m",
      "\u001b[1;31mNameError\u001b[0m                                 Traceback (most recent call last)",
      "\u001b[1;32m<ipython-input-8-b6714e43151a>\u001b[0m in \u001b[0;36m<module>\u001b[1;34m\u001b[0m\n\u001b[0;32m     42\u001b[0m \u001b[1;33m\u001b[0m\u001b[0m\n\u001b[0;32m     43\u001b[0m \u001b[0ma0\u001b[0m\u001b[1;33m,\u001b[0m \u001b[0mb\u001b[0m\u001b[1;33m,\u001b[0m \u001b[0mT\u001b[0m\u001b[1;33m,\u001b[0m \u001b[0miters\u001b[0m\u001b[1;33m,\u001b[0m \u001b[0miters2\u001b[0m \u001b[1;33m=\u001b[0m \u001b[1;36m0.5\u001b[0m\u001b[1;33m,\u001b[0m \u001b[1;36m0\u001b[0m\u001b[1;33m,\u001b[0m \u001b[1;36m51\u001b[0m\u001b[1;33m,\u001b[0m \u001b[1;36m1\u001b[0m\u001b[1;33m,\u001b[0m \u001b[1;36m10\u001b[0m\u001b[1;33m\u001b[0m\u001b[1;33m\u001b[0m\u001b[0m\n\u001b[1;32m---> 44\u001b[1;33m \u001b[0mcount\u001b[0m \u001b[1;33m=\u001b[0m \u001b[0mmartin_remove_x_k_pair_2\u001b[0m\u001b[1;33m(\u001b[0m\u001b[0ma0\u001b[0m\u001b[1;33m,\u001b[0m \u001b[0mb\u001b[0m\u001b[1;33m,\u001b[0m \u001b[0mT\u001b[0m\u001b[1;33m,\u001b[0m \u001b[0miters\u001b[0m\u001b[1;33m,\u001b[0m \u001b[0miters2\u001b[0m\u001b[1;33m)\u001b[0m\u001b[1;33m\u001b[0m\u001b[1;33m\u001b[0m\u001b[0m\n\u001b[0m\u001b[0;32m     45\u001b[0m \u001b[0mprint\u001b[0m\u001b[1;33m(\u001b[0m\u001b[1;34mf\"P(CV(a = a0 = {a0}) < CV(a = hat(a)) = {round(count / iters, 3)}.\"\u001b[0m\u001b[1;33m)\u001b[0m\u001b[1;33m\u001b[0m\u001b[1;33m\u001b[0m\u001b[0m\n",
      "\u001b[1;31mNameError\u001b[0m: name 'martin_remove_x_k_pair_2' is not defined"
     ]
    }
   ],
   "source": [
    "def martin_remove_x_k_both_2(a, b, T, iters, iters2):\n",
    "    \n",
    "    count = 0\n",
    "    \n",
    "    for _ in tqdm(range(iters)):\n",
    "\n",
    "        X = np.zeros(T)\n",
    "\n",
    "        # generate AR(1)\n",
    "        X[0] = np.random.normal(b, np.sqrt(1 / (1 - a0 ** 2)))\n",
    "\n",
    "        noises = np.random.normal(0, 1, T - 1)\n",
    "        for t in range(1, T):\n",
    "            X[t] = b + a0 * (X[t - 1] - b) + noises[t - 1]\n",
    "\n",
    "        sum_X = sum(X)\n",
    "\n",
    "        # LOOCV parameter estimates\n",
    "        hat_b = np.zeros(T)\n",
    "        hat_b[1:-1] = ((sum_X - X[0] - X[1:-1] - X[2:]) - a0 * (sum_X - X[-1] - X[1:-1] - X[:-2])) / ((T - 3) * (1 - a0))\n",
    "\n",
    "        hat_a = np.zeros(T)\n",
    "\n",
    "        CV_0 = np.zeros(T - 1)\n",
    "        CV_1 = np.zeros(T - 1)\n",
    "\n",
    "        for t in range(T - 2, T - 1):\n",
    "            nomin = np.dot(X[:-1] - hat_b[t], X[1:]  - hat_b[t]) - (X[t - 1] - hat_b[t]) * (X[t]     - hat_b[t]) - (X[t] - hat_b[t]) * (X[t + 1] - hat_b[t]) \n",
    "            denom = np.dot(X[:-1] - hat_b[t], X[:-1] - hat_b[t]) - (X[t - 1] - hat_b[t]) * (X[t - 1] - hat_b[t]) - (X[t] - hat_b[t]) * (X[t]     - hat_b[t])\n",
    "\n",
    "            hat_a[t] = nomin / denom\n",
    "            \n",
    "            a_est, b_est = loocv_two_pair(hat_a[t], hat_b[t], X, t, sum_X, T, iters = iters2)\n",
    "            \n",
    "            CV_0[t] = (X[t + 1] - b_est - a0    * (X[t] - b_est)) ** 2\n",
    "            CV_1[t] = (X[t + 1] - b_est - a_est * (X[t] - b_est)) ** 2\n",
    "\n",
    "        #print(round(sum(CV_0)), round(sum(CV_1)))\n",
    "        count += (sum(CV_0) < sum(CV_1))\n",
    "        \n",
    "    return count\n",
    "\n",
    "a0, b, T, iters, iters2 = 0.5, 0, 51, 1, 10\n",
    "count = martin_remove_x_k_pair_2(a0, b, T, iters, iters2)\n",
    "print(f\"P(CV(a = a0 = {a0}) < CV(a = hat(a)) = {round(count / iters, 3)}.\")"
   ]
  },
  {
   "cell_type": "code",
   "execution_count": 9,
   "id": "557154b7",
   "metadata": {},
   "outputs": [
    {
     "name": "stderr",
     "output_type": "stream",
     "text": [
      "  0%|                                                                                           | 0/10 [00:00<?, ?it/s]\n"
     ]
    },
    {
     "ename": "NameError",
     "evalue": "name 'loocv_one_pair' is not defined",
     "output_type": "error",
     "traceback": [
      "\u001b[1;31m---------------------------------------------------------------------------\u001b[0m",
      "\u001b[1;31mNameError\u001b[0m                                 Traceback (most recent call last)",
      "\u001b[1;32m<ipython-input-9-4a7afa08bab8>\u001b[0m in \u001b[0;36m<module>\u001b[1;34m\u001b[0m\n\u001b[0;32m     40\u001b[0m \u001b[1;33m\u001b[0m\u001b[0m\n\u001b[0;32m     41\u001b[0m \u001b[0ma0\u001b[0m\u001b[1;33m,\u001b[0m \u001b[0mb\u001b[0m\u001b[1;33m,\u001b[0m \u001b[0mT\u001b[0m\u001b[1;33m,\u001b[0m \u001b[0miters\u001b[0m\u001b[1;33m,\u001b[0m \u001b[0miters2\u001b[0m \u001b[1;33m=\u001b[0m \u001b[1;36m0.5\u001b[0m\u001b[1;33m,\u001b[0m \u001b[1;36m0\u001b[0m\u001b[1;33m,\u001b[0m \u001b[1;36m101\u001b[0m\u001b[1;33m,\u001b[0m \u001b[1;36m10\u001b[0m\u001b[1;33m,\u001b[0m \u001b[1;36m1000\u001b[0m\u001b[1;33m\u001b[0m\u001b[1;33m\u001b[0m\u001b[0m\n\u001b[1;32m---> 42\u001b[1;33m \u001b[0mcount\u001b[0m \u001b[1;33m=\u001b[0m \u001b[0mmartin_remove_x_k_pair_2\u001b[0m\u001b[1;33m(\u001b[0m\u001b[0ma0\u001b[0m\u001b[1;33m,\u001b[0m \u001b[0mb\u001b[0m\u001b[1;33m,\u001b[0m \u001b[0mT\u001b[0m\u001b[1;33m,\u001b[0m \u001b[0miters\u001b[0m\u001b[1;33m,\u001b[0m \u001b[0miters2\u001b[0m\u001b[1;33m)\u001b[0m\u001b[1;33m\u001b[0m\u001b[1;33m\u001b[0m\u001b[0m\n\u001b[0m\u001b[0;32m     43\u001b[0m \u001b[0mprint\u001b[0m\u001b[1;33m(\u001b[0m\u001b[1;34mf\"P(CV(a = a0 = {a0}) < CV(a = hat(a)) = {round(count / iters, 3)}.\"\u001b[0m\u001b[1;33m)\u001b[0m\u001b[1;33m\u001b[0m\u001b[1;33m\u001b[0m\u001b[0m\n",
      "\u001b[1;32m<ipython-input-9-4a7afa08bab8>\u001b[0m in \u001b[0;36mmartin_remove_x_k_pair_2\u001b[1;34m(a, b, T, iters, iters2)\u001b[0m\n\u001b[0;32m     31\u001b[0m             \u001b[0mhat_a\u001b[0m\u001b[1;33m[\u001b[0m\u001b[0mt\u001b[0m\u001b[1;33m]\u001b[0m \u001b[1;33m=\u001b[0m \u001b[0mnomin\u001b[0m \u001b[1;33m/\u001b[0m \u001b[0mdenom\u001b[0m\u001b[1;33m\u001b[0m\u001b[1;33m\u001b[0m\u001b[0m\n\u001b[0;32m     32\u001b[0m \u001b[1;33m\u001b[0m\u001b[0m\n\u001b[1;32m---> 33\u001b[1;33m             \u001b[0ma_est\u001b[0m\u001b[1;33m,\u001b[0m \u001b[0mb_est\u001b[0m \u001b[1;33m=\u001b[0m \u001b[0mloocv_one_pair\u001b[0m\u001b[1;33m(\u001b[0m\u001b[0mhat_a\u001b[0m\u001b[1;33m[\u001b[0m\u001b[0mt\u001b[0m\u001b[1;33m]\u001b[0m\u001b[1;33m,\u001b[0m \u001b[0mhat_b\u001b[0m\u001b[1;33m[\u001b[0m\u001b[0mt\u001b[0m\u001b[1;33m]\u001b[0m\u001b[1;33m,\u001b[0m \u001b[0mX\u001b[0m\u001b[1;33m,\u001b[0m \u001b[0mt\u001b[0m\u001b[1;33m,\u001b[0m \u001b[0msum_X\u001b[0m\u001b[1;33m,\u001b[0m \u001b[0mT\u001b[0m\u001b[1;33m,\u001b[0m \u001b[0miters\u001b[0m \u001b[1;33m=\u001b[0m \u001b[0miters2\u001b[0m\u001b[1;33m)\u001b[0m\u001b[1;33m\u001b[0m\u001b[1;33m\u001b[0m\u001b[0m\n\u001b[0m\u001b[0;32m     34\u001b[0m             \u001b[0mCV_0\u001b[0m\u001b[1;33m[\u001b[0m\u001b[0mt\u001b[0m\u001b[1;33m]\u001b[0m \u001b[1;33m=\u001b[0m \u001b[1;33m(\u001b[0m\u001b[0mX\u001b[0m\u001b[1;33m[\u001b[0m\u001b[0mt\u001b[0m \u001b[1;33m+\u001b[0m \u001b[1;36m1\u001b[0m\u001b[1;33m]\u001b[0m \u001b[1;33m-\u001b[0m \u001b[0mb_est\u001b[0m \u001b[1;33m-\u001b[0m \u001b[0ma\u001b[0m     \u001b[1;33m*\u001b[0m \u001b[1;33m(\u001b[0m\u001b[0mX\u001b[0m\u001b[1;33m[\u001b[0m\u001b[0mt\u001b[0m\u001b[1;33m]\u001b[0m \u001b[1;33m-\u001b[0m \u001b[0mb_est\u001b[0m\u001b[1;33m)\u001b[0m\u001b[1;33m)\u001b[0m \u001b[1;33m**\u001b[0m \u001b[1;36m2\u001b[0m\u001b[1;33m\u001b[0m\u001b[1;33m\u001b[0m\u001b[0m\n\u001b[0;32m     35\u001b[0m             \u001b[0mCV_1\u001b[0m\u001b[1;33m[\u001b[0m\u001b[0mt\u001b[0m\u001b[1;33m]\u001b[0m \u001b[1;33m=\u001b[0m \u001b[1;33m(\u001b[0m\u001b[0mX\u001b[0m\u001b[1;33m[\u001b[0m\u001b[0mt\u001b[0m \u001b[1;33m+\u001b[0m \u001b[1;36m1\u001b[0m\u001b[1;33m]\u001b[0m \u001b[1;33m-\u001b[0m \u001b[0mb_est\u001b[0m \u001b[1;33m-\u001b[0m \u001b[0ma_est\u001b[0m \u001b[1;33m*\u001b[0m \u001b[1;33m(\u001b[0m\u001b[0mX\u001b[0m\u001b[1;33m[\u001b[0m\u001b[0mt\u001b[0m\u001b[1;33m]\u001b[0m \u001b[1;33m-\u001b[0m \u001b[0mb_est\u001b[0m\u001b[1;33m)\u001b[0m\u001b[1;33m)\u001b[0m \u001b[1;33m**\u001b[0m \u001b[1;36m2\u001b[0m\u001b[1;33m\u001b[0m\u001b[1;33m\u001b[0m\u001b[0m\n",
      "\u001b[1;31mNameError\u001b[0m: name 'loocv_one_pair' is not defined"
     ]
    }
   ],
   "source": [
    "def martin_remove_x_k_pair_2(a, b, T, iters = 100, iters2 = 5):\n",
    "    \n",
    "    count = 0\n",
    "    \n",
    "    for _ in tqdm(range(iters)):\n",
    "\n",
    "        X = np.zeros(T)\n",
    "\n",
    "        # generate AR(1)\n",
    "        X[0] = np.random.normal(b, np.sqrt(1 / (1 - a ** 2)))\n",
    "\n",
    "        noises = np.random.normal(0, 1, T - 1)\n",
    "        for t in range(1, T):\n",
    "            X[t] = b + a * (X[t - 1] - b) + noises[t - 1]\n",
    "\n",
    "        sum_X = sum(X)\n",
    "\n",
    "        # LOOCV parameter estimates\n",
    "        hat_b = np.zeros(T)\n",
    "        hat_b[:-1] = ((sum_X - X[0] - X[1:]) - a * (sum_X - X[-1] - X[:-1])) / ((T - 2) * (1 - a))\n",
    "\n",
    "        hat_a = np.zeros(T)\n",
    "\n",
    "        CV_0 = np.zeros(T - 1)\n",
    "        CV_1 = np.zeros(T - 1)\n",
    "\n",
    "        for t in range(1, T - 1):             \n",
    "            nomin = np.dot(X[:-1] - hat_b[t], X[1:]  - hat_b[t]) - (X[t] - hat_b[t]) * (X[t + 1] - hat_b[t])\n",
    "            denom = np.dot(X[:-1] - hat_b[t], X[:-1] - hat_b[t]) - (X[t] - hat_b[t]) * (X[t]     - hat_b[t])\n",
    "\n",
    "            hat_a[t] = nomin / denom\n",
    "            \n",
    "            a_est, b_est = loocv_one_pair(hat_a[t], hat_b[t], X, t, sum_X, T, iters = iters2)\n",
    "            CV_0[t] = (X[t + 1] - b_est - a     * (X[t] - b_est)) ** 2\n",
    "            CV_1[t] = (X[t + 1] - b_est - a_est * (X[t] - b_est)) ** 2\n",
    "\n",
    "        count += (sum(CV_0) < sum(CV_1))\n",
    "    \n",
    "    return count\n",
    "\n",
    "a0, b, T, iters, iters2 = 0.5, 0, 101, 10, 1000\n",
    "count = martin_remove_x_k_pair_2(a0, b, T, iters, iters2)\n",
    "print(f\"P(CV(a = a0 = {a0}) < CV(a = hat(a)) = {round(count / iters, 3)}.\")"
   ]
  },
  {
   "cell_type": "code",
   "execution_count": 10,
   "id": "c13c7731",
   "metadata": {},
   "outputs": [
    {
     "name": "stderr",
     "output_type": "stream",
     "text": [
      "  0%|                                                                                           | 0/10 [00:00<?, ?it/s]\n"
     ]
    },
    {
     "ename": "NameError",
     "evalue": "name 'loocv_one_pair' is not defined",
     "output_type": "error",
     "traceback": [
      "\u001b[1;31m---------------------------------------------------------------------------\u001b[0m",
      "\u001b[1;31mNameError\u001b[0m                                 Traceback (most recent call last)",
      "\u001b[1;32m<ipython-input-10-002b001e52d4>\u001b[0m in \u001b[0;36m<module>\u001b[1;34m\u001b[0m\n\u001b[0;32m     52\u001b[0m \u001b[1;33m\u001b[0m\u001b[0m\n\u001b[0;32m     53\u001b[0m \u001b[0ma0\u001b[0m\u001b[1;33m,\u001b[0m \u001b[0mb\u001b[0m\u001b[1;33m,\u001b[0m \u001b[0mT\u001b[0m\u001b[1;33m,\u001b[0m \u001b[0miters\u001b[0m\u001b[1;33m,\u001b[0m \u001b[0miters2\u001b[0m \u001b[1;33m=\u001b[0m \u001b[1;36m0.99\u001b[0m\u001b[1;33m,\u001b[0m \u001b[1;36m0\u001b[0m\u001b[1;33m,\u001b[0m \u001b[1;36m101\u001b[0m\u001b[1;33m,\u001b[0m \u001b[1;36m10\u001b[0m\u001b[1;33m,\u001b[0m \u001b[1;36m1000\u001b[0m\u001b[1;33m\u001b[0m\u001b[1;33m\u001b[0m\u001b[0m\n\u001b[1;32m---> 54\u001b[1;33m \u001b[0mcount\u001b[0m \u001b[1;33m=\u001b[0m \u001b[0mmartin_remove_x_k_pair_2\u001b[0m\u001b[1;33m(\u001b[0m\u001b[0ma0\u001b[0m\u001b[1;33m,\u001b[0m \u001b[0mb\u001b[0m\u001b[1;33m,\u001b[0m \u001b[0mT\u001b[0m\u001b[1;33m,\u001b[0m \u001b[0miters\u001b[0m\u001b[1;33m,\u001b[0m \u001b[0miters2\u001b[0m\u001b[1;33m)\u001b[0m\u001b[1;33m\u001b[0m\u001b[1;33m\u001b[0m\u001b[0m\n\u001b[0m\u001b[0;32m     55\u001b[0m \u001b[0mprint\u001b[0m\u001b[1;33m(\u001b[0m\u001b[1;34mf\"P(CV(a = a0 = {a0}) < CV(a = hat(a)) = {round(count / iters, 3)}.\"\u001b[0m\u001b[1;33m)\u001b[0m\u001b[1;33m\u001b[0m\u001b[1;33m\u001b[0m\u001b[0m\n",
      "\u001b[1;32m<ipython-input-9-4a7afa08bab8>\u001b[0m in \u001b[0;36mmartin_remove_x_k_pair_2\u001b[1;34m(a, b, T, iters, iters2)\u001b[0m\n\u001b[0;32m     31\u001b[0m             \u001b[0mhat_a\u001b[0m\u001b[1;33m[\u001b[0m\u001b[0mt\u001b[0m\u001b[1;33m]\u001b[0m \u001b[1;33m=\u001b[0m \u001b[0mnomin\u001b[0m \u001b[1;33m/\u001b[0m \u001b[0mdenom\u001b[0m\u001b[1;33m\u001b[0m\u001b[1;33m\u001b[0m\u001b[0m\n\u001b[0;32m     32\u001b[0m \u001b[1;33m\u001b[0m\u001b[0m\n\u001b[1;32m---> 33\u001b[1;33m             \u001b[0ma_est\u001b[0m\u001b[1;33m,\u001b[0m \u001b[0mb_est\u001b[0m \u001b[1;33m=\u001b[0m \u001b[0mloocv_one_pair\u001b[0m\u001b[1;33m(\u001b[0m\u001b[0mhat_a\u001b[0m\u001b[1;33m[\u001b[0m\u001b[0mt\u001b[0m\u001b[1;33m]\u001b[0m\u001b[1;33m,\u001b[0m \u001b[0mhat_b\u001b[0m\u001b[1;33m[\u001b[0m\u001b[0mt\u001b[0m\u001b[1;33m]\u001b[0m\u001b[1;33m,\u001b[0m \u001b[0mX\u001b[0m\u001b[1;33m,\u001b[0m \u001b[0mt\u001b[0m\u001b[1;33m,\u001b[0m \u001b[0msum_X\u001b[0m\u001b[1;33m,\u001b[0m \u001b[0mT\u001b[0m\u001b[1;33m,\u001b[0m \u001b[0miters\u001b[0m \u001b[1;33m=\u001b[0m \u001b[0miters2\u001b[0m\u001b[1;33m)\u001b[0m\u001b[1;33m\u001b[0m\u001b[1;33m\u001b[0m\u001b[0m\n\u001b[0m\u001b[0;32m     34\u001b[0m             \u001b[0mCV_0\u001b[0m\u001b[1;33m[\u001b[0m\u001b[0mt\u001b[0m\u001b[1;33m]\u001b[0m \u001b[1;33m=\u001b[0m \u001b[1;33m(\u001b[0m\u001b[0mX\u001b[0m\u001b[1;33m[\u001b[0m\u001b[0mt\u001b[0m \u001b[1;33m+\u001b[0m \u001b[1;36m1\u001b[0m\u001b[1;33m]\u001b[0m \u001b[1;33m-\u001b[0m \u001b[0mb_est\u001b[0m \u001b[1;33m-\u001b[0m \u001b[0ma\u001b[0m     \u001b[1;33m*\u001b[0m \u001b[1;33m(\u001b[0m\u001b[0mX\u001b[0m\u001b[1;33m[\u001b[0m\u001b[0mt\u001b[0m\u001b[1;33m]\u001b[0m \u001b[1;33m-\u001b[0m \u001b[0mb_est\u001b[0m\u001b[1;33m)\u001b[0m\u001b[1;33m)\u001b[0m \u001b[1;33m**\u001b[0m \u001b[1;36m2\u001b[0m\u001b[1;33m\u001b[0m\u001b[1;33m\u001b[0m\u001b[0m\n\u001b[0;32m     35\u001b[0m             \u001b[0mCV_1\u001b[0m\u001b[1;33m[\u001b[0m\u001b[0mt\u001b[0m\u001b[1;33m]\u001b[0m \u001b[1;33m=\u001b[0m \u001b[1;33m(\u001b[0m\u001b[0mX\u001b[0m\u001b[1;33m[\u001b[0m\u001b[0mt\u001b[0m \u001b[1;33m+\u001b[0m \u001b[1;36m1\u001b[0m\u001b[1;33m]\u001b[0m \u001b[1;33m-\u001b[0m \u001b[0mb_est\u001b[0m \u001b[1;33m-\u001b[0m \u001b[0ma_est\u001b[0m \u001b[1;33m*\u001b[0m \u001b[1;33m(\u001b[0m\u001b[0mX\u001b[0m\u001b[1;33m[\u001b[0m\u001b[0mt\u001b[0m\u001b[1;33m]\u001b[0m \u001b[1;33m-\u001b[0m \u001b[0mb_est\u001b[0m\u001b[1;33m)\u001b[0m\u001b[1;33m)\u001b[0m \u001b[1;33m**\u001b[0m \u001b[1;36m2\u001b[0m\u001b[1;33m\u001b[0m\u001b[1;33m\u001b[0m\u001b[0m\n",
      "\u001b[1;31mNameError\u001b[0m: name 'loocv_one_pair' is not defined"
     ]
    }
   ],
   "source": [
    "def martin_remove_x_k_pair_3(a, b, T, iters = 100, iters2 = 5):\n",
    "    \n",
    "    count = 0\n",
    "    \n",
    "    for _ in tqdm(range(iters)):\n",
    "\n",
    "        X = np.zeros(T)\n",
    "\n",
    "        # generate AR(1)\n",
    "        X[0] = np.random.normal(b, np.sqrt(1 / (1 - a ** 2)))\n",
    "\n",
    "        noises = np.random.normal(0, 1, T - 1)\n",
    "        for t in range(1, T):\n",
    "            X[t] = b + a * (X[t - 1] - b) + noises[t - 1]\n",
    "\n",
    "        sum_X = sum(X)\n",
    "\n",
    "        # LOOCV parameter estimates\n",
    "        hat_b = np.zeros(T)\n",
    "        hat_b[:-1] = ((sum_X - X[0] - X[1:]) - a * (sum_X - X[-1] - X[:-1])) / ((T - 2) * (1 - a))\n",
    "        \n",
    "        hat_b_2 = np.zeros(T)\n",
    "        hat_b_2[:-1] = (sum_X - X[:-1]) / (T - 1)\n",
    "\n",
    "        hat_a = np.zeros(T)\n",
    "        hat_a_2 = np.zeros(T)\n",
    "\n",
    "        CV_0 = np.zeros(T - 1)\n",
    "        CV_1 = np.zeros(T - 1)\n",
    "\n",
    "        for t in range(1, T - 1):             \n",
    "            nomin = np.dot(X[:-1] - hat_b[t], X[1:]  - hat_b[t]) - (X[t] - hat_b[t]) * (X[t + 1] - hat_b[t])\n",
    "            denom = np.dot(X[:-1] - hat_b[t], X[:-1] - hat_b[t]) - (X[t] - hat_b[t]) * (X[t]     - hat_b[t])\n",
    "\n",
    "            hat_a[t] = nomin / denom\n",
    "            \n",
    "            nomin = np.dot(X[:-1] - hat_b_2[t], X[1:]  - hat_b_2[t]) - (X[t] - hat_b_2[t]) * (X[t + 1] - hat_b_2[t])\n",
    "            denom = np.dot(X[:-1] - hat_b_2[t], X[:-1] - hat_b_2[t]) - (X[t] - hat_b_2[t]) * (X[t]     - hat_b_2[t])\n",
    "\n",
    "            hat_a_2[t] = nomin / denom\n",
    "            \n",
    "            a_est, b_est = loocv_one_pair(hat_a[t], hat_b[t], X, t, sum_X, T, iters = iters2)\n",
    "            \n",
    "            a_est_2, b_est_2 = loocv_one_pair(hat_a_2[t], hat_b_2[t], X, t, sum_X, T, iters = iters2)\n",
    "\n",
    "            CV_0[t] = (X[t + 1] - b_est - a     * (X[t] - b_est)) ** 2\n",
    "            CV_1[t] = (X[t + 1] - b_est - a_est * (X[t] - b_est)) ** 2\n",
    "\n",
    "        count += (sum(CV_0) < sum(CV_1))\n",
    "    \n",
    "    return count\n",
    "\n",
    "a0, b, T, iters, iters2 = 0.99, 0, 101, 10, 1000\n",
    "count = martin_remove_x_k_pair_2(a0, b, T, iters, iters2)\n",
    "print(f\"P(CV(a = a0 = {a0}) < CV(a = hat(a)) = {round(count / iters, 3)}.\")"
   ]
  },
  {
   "cell_type": "code",
   "execution_count": 11,
   "id": "d56026e9",
   "metadata": {},
   "outputs": [
    {
     "name": "stderr",
     "output_type": "stream",
     "text": [
      "  0%|                                                                                           | 0/50 [00:00<?, ?it/s]\n"
     ]
    },
    {
     "ename": "NameError",
     "evalue": "name 'loocv_one_pair' is not defined",
     "output_type": "error",
     "traceback": [
      "\u001b[1;31m---------------------------------------------------------------------------\u001b[0m",
      "\u001b[1;31mNameError\u001b[0m                                 Traceback (most recent call last)",
      "\u001b[1;32m<ipython-input-11-df13771a942d>\u001b[0m in \u001b[0;36m<module>\u001b[1;34m\u001b[0m\n\u001b[0;32m     52\u001b[0m \u001b[1;33m\u001b[0m\u001b[0m\n\u001b[0;32m     53\u001b[0m \u001b[0ma0\u001b[0m\u001b[1;33m,\u001b[0m \u001b[0mb\u001b[0m\u001b[1;33m,\u001b[0m \u001b[0mT\u001b[0m\u001b[1;33m,\u001b[0m \u001b[0miters\u001b[0m\u001b[1;33m,\u001b[0m \u001b[0miters2\u001b[0m \u001b[1;33m=\u001b[0m \u001b[1;36m0.0\u001b[0m\u001b[1;33m,\u001b[0m \u001b[1;36m100\u001b[0m\u001b[1;33m,\u001b[0m \u001b[1;36m501\u001b[0m\u001b[1;33m,\u001b[0m \u001b[1;36m50\u001b[0m\u001b[1;33m,\u001b[0m \u001b[1;36m1000\u001b[0m\u001b[1;33m\u001b[0m\u001b[1;33m\u001b[0m\u001b[0m\n\u001b[1;32m---> 54\u001b[1;33m \u001b[0mcount\u001b[0m \u001b[1;33m=\u001b[0m \u001b[0mmartin_remove_x_k_pair_4\u001b[0m\u001b[1;33m(\u001b[0m\u001b[0ma0\u001b[0m\u001b[1;33m,\u001b[0m \u001b[0mb\u001b[0m\u001b[1;33m,\u001b[0m \u001b[0mT\u001b[0m\u001b[1;33m,\u001b[0m \u001b[0miters\u001b[0m\u001b[1;33m,\u001b[0m \u001b[0miters2\u001b[0m\u001b[1;33m)\u001b[0m\u001b[1;33m\u001b[0m\u001b[1;33m\u001b[0m\u001b[0m\n\u001b[0m\u001b[0;32m     55\u001b[0m \u001b[0mprint\u001b[0m\u001b[1;33m(\u001b[0m\u001b[1;34mf\"P(CV(a = a0 = {a0}) < CV(a = hat(a)) = {round(count / iters, 3)}.\"\u001b[0m\u001b[1;33m)\u001b[0m\u001b[1;33m\u001b[0m\u001b[1;33m\u001b[0m\u001b[0m\n",
      "\u001b[1;32m<ipython-input-11-df13771a942d>\u001b[0m in \u001b[0;36mmartin_remove_x_k_pair_4\u001b[1;34m(a, b, T, iters, iters2)\u001b[0m\n\u001b[0;32m     41\u001b[0m \u001b[1;33m\u001b[0m\u001b[0m\n\u001b[0;32m     42\u001b[0m             \u001b[1;31m# iteratively estimate a and b until maximum\u001b[0m\u001b[1;33m\u001b[0m\u001b[1;33m\u001b[0m\u001b[1;33m\u001b[0m\u001b[0m\n\u001b[1;32m---> 43\u001b[1;33m             \u001b[0ma_est\u001b[0m\u001b[1;33m,\u001b[0m \u001b[0mb_est\u001b[0m \u001b[1;33m=\u001b[0m \u001b[0mloocv_one_pair\u001b[0m\u001b[1;33m(\u001b[0m\u001b[0mhat_a\u001b[0m\u001b[1;33m[\u001b[0m\u001b[0mt\u001b[0m\u001b[1;33m]\u001b[0m\u001b[1;33m,\u001b[0m \u001b[0mhat_b\u001b[0m\u001b[1;33m[\u001b[0m\u001b[0mt\u001b[0m\u001b[1;33m]\u001b[0m\u001b[1;33m,\u001b[0m \u001b[0mX\u001b[0m\u001b[1;33m,\u001b[0m \u001b[0mt\u001b[0m\u001b[1;33m,\u001b[0m \u001b[0msum_X\u001b[0m\u001b[1;33m,\u001b[0m \u001b[0mT\u001b[0m\u001b[1;33m,\u001b[0m \u001b[0miters\u001b[0m \u001b[1;33m=\u001b[0m \u001b[0miters2\u001b[0m\u001b[1;33m)\u001b[0m\u001b[1;33m\u001b[0m\u001b[1;33m\u001b[0m\u001b[0m\n\u001b[0m\u001b[0;32m     44\u001b[0m \u001b[1;33m\u001b[0m\u001b[0m\n\u001b[0;32m     45\u001b[0m             \u001b[1;31m# compare a_est and b_est\u001b[0m\u001b[1;33m\u001b[0m\u001b[1;33m\u001b[0m\u001b[1;33m\u001b[0m\u001b[0m\n",
      "\u001b[1;31mNameError\u001b[0m: name 'loocv_one_pair' is not defined"
     ]
    }
   ],
   "source": [
    "# remove X_k_pair.\n",
    "# Use estimate for b without a\n",
    "# Iteratively estimate a and b to find the true MLEs\n",
    "\n",
    "def martin_remove_x_k_pair_4(a, b, T, iters = 100, iters2 = 5):\n",
    "    \n",
    "    count = 0\n",
    "    \n",
    "    for _ in tqdm(range(iters)):\n",
    "\n",
    "        X = np.zeros(T)\n",
    "\n",
    "        # generate AR(1)\n",
    "        X[0] = np.random.normal(b, np.sqrt(1 / (1 - a ** 2)))\n",
    "\n",
    "        noises = np.random.normal(0, 1, T - 1)\n",
    "        for t in range(1, T):\n",
    "            X[t] = b + a * (X[t - 1] - b) + noises[t - 1]\n",
    "\n",
    "        sum_X = sum(X)\n",
    "\n",
    "        # LOOCV parameter estimates\n",
    "        hat_b = np.zeros(T)\n",
    "        \n",
    "        # exact, but we do not have a\n",
    "        # hat_b[:-1] = ((sum_X - X[0] - X[1:]) - a * (sum_X - X[-1] - X[:-1])) / ((T - 2) * (1 - a))\n",
    "        # approximate, use for iterative procedure\n",
    "        hat_b[:-1] = (sum_X - X[:-1]) / (T - 1)\n",
    "\n",
    "        hat_a = np.zeros(T)\n",
    "\n",
    "        CV_0 = np.zeros(T - 1)\n",
    "        CV_1 = np.zeros(T - 1)\n",
    "\n",
    "        for t in range(1, T - 1):             \n",
    "            nomin = np.dot(X[:-1] - hat_b[t], X[1:]  - hat_b[t]) - (X[t] - hat_b[t]) * (X[t + 1] - hat_b[t])\n",
    "            denom = np.dot(X[:-1] - hat_b[t], X[:-1] - hat_b[t]) - (X[t] - hat_b[t]) * (X[t]     - hat_b[t])\n",
    "\n",
    "            # initial estimate for a\n",
    "            hat_a[t] = nomin / denom\n",
    "            \n",
    "            # iteratively estimate a and b until maximum\n",
    "            a_est, b_est = loocv_one_pair(hat_a[t], hat_b[t], X, t, sum_X, T, iters = iters2)\n",
    "\n",
    "            # compare a_est and b_est\n",
    "            CV_0[t] = (X[t + 1] - b_est - a     * (X[t] - b_est)) ** 2\n",
    "            CV_1[t] = (X[t + 1] - b_est - a_est * (X[t] - b_est)) ** 2\n",
    "\n",
    "        count += (sum(CV_0) < sum(CV_1))\n",
    "    \n",
    "    return count\n",
    "\n",
    "a0, b, T, iters, iters2 = 0.0, 100, 501, 50, 1000\n",
    "count = martin_remove_x_k_pair_4(a0, b, T, iters, iters2)\n",
    "print(f\"P(CV(a = a0 = {a0}) < CV(a = hat(a)) = {round(count / iters, 3)}.\")"
   ]
  },
  {
   "cell_type": "code",
   "execution_count": 12,
   "id": "32b40bba",
   "metadata": {},
   "outputs": [],
   "source": [
    "def loocv_one_pair(a, b, X, t, sum_X, T, iters = 3, tol = 1e-3):\n",
    "    \n",
    "    old_ll = ll_p(X, a, b, t)\n",
    "    for i in range(iters):\n",
    "        a = (np.dot(X[:-1] - b, X[1:]  - b) - (X[t] - b) * (X[t + 1] - b)) / (np.dot(X[:-1] - b, X[:-1] - b) - (X[t] - b) * (X[t] - b))\n",
    "        b = ((sum_X - X[0] - X[t + 1]) - a * (sum_X - X[-1] - X[t])) / ((T - 2) * (1 - a))\n",
    "        \n",
    "        new_ll = ll_p(X, a, b, t)\n",
    "        \n",
    "        # maximize, so new should be larger than old, so new - old should be > 0\n",
    "        if new_ll - old_ll < -1e10:\n",
    "            print(i, new_ll - old_ll, \"PROBLEM\")\n",
    "        if new_ll - old_ll < tol:\n",
    "            old_ll = new_ll\n",
    "            break\n",
    "            \n",
    "        old_ll = new_ll\n",
    "    return a, b\n",
    "\n",
    "def ll_p(X, a, b, t):\n",
    "    ll_temp = (X[1:] - b - a * (X[:-1] - b))\n",
    "    ll = -0.5 * sum(ll_temp ** 2) + 0.5 * (X[t + 1] - b - a * (X[t] - b)) ** 2 \n",
    "    return ll\n",
    "\n",
    "def ll_b(X, a, b, t):\n",
    "    ll_temp = (X[1:] - b - a * (X[:-1] - b))\n",
    "    ll = -0.5 * sum(ll_temp ** 2) + 0.5 * (X[t + 1] - b - a * (X[t] - b)) ** 2 + 0.5 * (X[t] - b - a * (X[t - 1] - b)) ** 2\n",
    "    return ll"
   ]
  },
  {
   "cell_type": "code",
   "execution_count": 13,
   "id": "5a2a2793",
   "metadata": {},
   "outputs": [],
   "source": [
    "def opt_a_b(a, b, X, sum_X, T, iters = 3, tol = 1e-3):\n",
    "    \n",
    "    old_a, old_b = a, b\n",
    "    \n",
    "    print(ll_n(X, a, b))\n",
    "    for i in range(iters):\n",
    "        \n",
    "        old_a, old_b = a, b\n",
    "        \n",
    "        # update a using estimate of b\n",
    "        a = (np.dot(X[:-1] - b, X[1:]  - b)) / (np.dot(X[:-1] - b, X[:-1] - b))\n",
    "        # update b using estimate of a\n",
    "        b = ((sum_X - X[0]) - a * (sum_X - X[-1])) / ((T - 1) * (1 - a))\n",
    "        \n",
    "        print(ll_n(X, a, b))\n",
    "             \n",
    "    return a, b\n",
    "\n",
    "def ll_n(X, a, b):\n",
    "    ll = -0.5 * sum((X[1:] - b - a * (X[:-1] - b)) ** 2)\n",
    "    return ll"
   ]
  },
  {
   "cell_type": "code",
   "execution_count": 14,
   "id": "74c5c2f4",
   "metadata": {},
   "outputs": [],
   "source": [
    "def loocv_two_pair(a, b, X, t, sum_X, T, iters = 3, tol = 1e-1):\n",
    "    \n",
    "    old_ll = ll_b(X, a, b, t)\n",
    "    for i in range(iters):\n",
    "        # update a using estimate of b\n",
    "        a = (np.dot(X[:-1] - b, X[1:]  - b) - (X[t] - b) * (X[t + 1] - b) - (X[t - 1] - b) * (X[t] - b)) / (np.dot(X[:-1] - b, X[:-1] - b) - (X[t] - b) * (X[t]  - b) - (X[t - 1] - b) * (X[t - 1]  - b))\n",
    "        # update b using estimate of a\n",
    "        b = ((sum_X - X[0] - X[t] - X[t + 1]) - a * (sum_X - X[-1] - X[t] - X[t - 1])) / ((T - 3) * (1 - a))\n",
    "\n",
    "        new_ll = ll_b(X, a, b, t)\n",
    "        \n",
    "        # maximize, so new should be larger than old, so new - old should be > 0\n",
    "        if new_ll - old_ll < -1e-10:\n",
    "            print(i, new_ll - old_ll, \"PROBLEM\")\n",
    "        if new_ll - old_ll < tol:\n",
    "            old_ll = new_ll\n",
    "            break\n",
    "            \n",
    "        old_ll = new_ll\n",
    "    return a, b"
   ]
  },
  {
   "cell_type": "code",
   "execution_count": 15,
   "id": "cc318676",
   "metadata": {},
   "outputs": [
    {
     "name": "stderr",
     "output_type": "stream",
     "text": [
      "  0%|                                                                                            | 0/1 [00:00<?, ?it/s]\n"
     ]
    },
    {
     "ename": "NameError",
     "evalue": "name 'get_a_hat_both' is not defined",
     "output_type": "error",
     "traceback": [
      "\u001b[1;31m---------------------------------------------------------------------------\u001b[0m",
      "\u001b[1;31mNameError\u001b[0m                                 Traceback (most recent call last)",
      "\u001b[1;32m<ipython-input-15-7cc5b690e8b1>\u001b[0m in \u001b[0;36m<module>\u001b[1;34m\u001b[0m\n\u001b[0;32m     73\u001b[0m \u001b[1;33m\u001b[0m\u001b[0m\n\u001b[0;32m     74\u001b[0m \u001b[0ma0\u001b[0m\u001b[1;33m,\u001b[0m \u001b[0mb\u001b[0m\u001b[1;33m,\u001b[0m \u001b[0mT\u001b[0m\u001b[1;33m,\u001b[0m \u001b[0miters\u001b[0m\u001b[1;33m,\u001b[0m \u001b[0miters2\u001b[0m \u001b[1;33m=\u001b[0m \u001b[1;36m0.999\u001b[0m\u001b[1;33m,\u001b[0m \u001b[1;36m100\u001b[0m\u001b[1;33m,\u001b[0m \u001b[1;36m51\u001b[0m\u001b[1;33m,\u001b[0m \u001b[1;36m1\u001b[0m\u001b[1;33m,\u001b[0m \u001b[1;36m0\u001b[0m\u001b[1;33m\u001b[0m\u001b[1;33m\u001b[0m\u001b[0m\n\u001b[1;32m---> 75\u001b[1;33m \u001b[0mcount\u001b[0m \u001b[1;33m=\u001b[0m \u001b[0mar_loocv\u001b[0m\u001b[1;33m(\u001b[0m\u001b[0ma0\u001b[0m\u001b[1;33m,\u001b[0m \u001b[0mb\u001b[0m\u001b[1;33m,\u001b[0m \u001b[0mT\u001b[0m\u001b[1;33m,\u001b[0m \u001b[0miters\u001b[0m\u001b[1;33m,\u001b[0m \u001b[0mapprox_b\u001b[0m \u001b[1;33m=\u001b[0m \u001b[1;32mTrue\u001b[0m\u001b[1;33m,\u001b[0m \u001b[0mone_pair\u001b[0m \u001b[1;33m=\u001b[0m \u001b[1;32mFalse\u001b[0m\u001b[1;33m,\u001b[0m \u001b[0miter_estimate\u001b[0m \u001b[1;33m=\u001b[0m \u001b[1;32mFalse\u001b[0m\u001b[1;33m,\u001b[0m \u001b[0miters2\u001b[0m \u001b[1;33m=\u001b[0m \u001b[0miters2\u001b[0m\u001b[1;33m)\u001b[0m\u001b[1;33m\u001b[0m\u001b[1;33m\u001b[0m\u001b[0m\n\u001b[0m\u001b[0;32m     76\u001b[0m \u001b[0mprint\u001b[0m\u001b[1;33m(\u001b[0m\u001b[1;34mf\"P(CV(a = a0 = {a0}) < CV(a = hat(a)) = {round(count / iters, 3)}.\"\u001b[0m\u001b[1;33m)\u001b[0m\u001b[1;33m\u001b[0m\u001b[1;33m\u001b[0m\u001b[0m\n",
      "\u001b[1;32m<ipython-input-15-7cc5b690e8b1>\u001b[0m in \u001b[0;36mar_loocv\u001b[1;34m(a, b, T, iters, approx_b, iter_estimate, one_pair, iters2)\u001b[0m\n\u001b[0;32m     38\u001b[0m             \u001b[0mhat_a\u001b[0m\u001b[1;33m[\u001b[0m\u001b[1;36m1\u001b[0m\u001b[1;33m:\u001b[0m\u001b[1;33m-\u001b[0m\u001b[1;36m1\u001b[0m\u001b[1;33m]\u001b[0m \u001b[1;33m=\u001b[0m \u001b[0mget_a_hat_pair\u001b[0m\u001b[1;33m(\u001b[0m\u001b[0mX\u001b[0m\u001b[1;33m,\u001b[0m \u001b[0mhat_b\u001b[0m\u001b[1;33m)\u001b[0m\u001b[1;33m\u001b[0m\u001b[1;33m\u001b[0m\u001b[0m\n\u001b[0;32m     39\u001b[0m         \u001b[1;32melse\u001b[0m\u001b[1;33m:\u001b[0m\u001b[1;33m\u001b[0m\u001b[1;33m\u001b[0m\u001b[0m\n\u001b[1;32m---> 40\u001b[1;33m             \u001b[0mhat_a\u001b[0m\u001b[1;33m[\u001b[0m\u001b[1;36m1\u001b[0m\u001b[1;33m:\u001b[0m\u001b[1;33m-\u001b[0m\u001b[1;36m1\u001b[0m\u001b[1;33m]\u001b[0m \u001b[1;33m=\u001b[0m \u001b[0mget_a_hat_both\u001b[0m\u001b[1;33m(\u001b[0m\u001b[0mX\u001b[0m\u001b[1;33m,\u001b[0m \u001b[0mhat_b\u001b[0m\u001b[1;33m)\u001b[0m\u001b[1;33m\u001b[0m\u001b[1;33m\u001b[0m\u001b[0m\n\u001b[0m\u001b[0;32m     41\u001b[0m \u001b[1;33m\u001b[0m\u001b[0m\n\u001b[0;32m     42\u001b[0m         \u001b[0mprint\u001b[0m\u001b[1;33m(\u001b[0m\u001b[0mhat_a\u001b[0m\u001b[1;33m[\u001b[0m\u001b[1;36m1\u001b[0m\u001b[1;33m:\u001b[0m\u001b[1;33m-\u001b[0m\u001b[1;36m1\u001b[0m\u001b[1;33m]\u001b[0m\u001b[1;33m)\u001b[0m\u001b[1;33m\u001b[0m\u001b[1;33m\u001b[0m\u001b[0m\n",
      "\u001b[1;31mNameError\u001b[0m: name 'get_a_hat_both' is not defined"
     ]
    }
   ],
   "source": [
    "# remove X_k_pair.\n",
    "# Use estimate for b without a\n",
    "# Iteratively estimate a and b to find the true MLEs\n",
    "\n",
    "def ar_loocv(a, b, T, iters = 100, approx_b = True, iter_estimate = False, one_pair = True, iters2 = 5):\n",
    "    \n",
    "    count = 0\n",
    "    \n",
    "    for _ in tqdm(range(iters)):\n",
    "\n",
    "        X = np.zeros(T)\n",
    "\n",
    "        # generate AR(1)\n",
    "        X[0] = np.random.normal(b, np.sqrt(1 / (1 - a ** 2)))\n",
    "\n",
    "        noises = np.random.normal(0, 1, T - 1)\n",
    "        for t in range(1, T):\n",
    "            X[t] = b + a * (X[t - 1] - b) + noises[t - 1]\n",
    "\n",
    "        sum_X = sum(X)\n",
    "\n",
    "        # LOOCV parameter estimates\n",
    "        hat_b = np.zeros(T)\n",
    "        \n",
    "        if not approx_b:\n",
    "            # exact, but we do not have a\n",
    "            hat_b[:-1] = ((sum_X - X[0] - X[1:]) - a * (sum_X - X[-1] - X[:-1])) / ((T - 2) * (1 - a))\n",
    "        else:\n",
    "            # approximate, use for iterative procedure\n",
    "            hat_b[:-1] = (sum_X - X[:-1]) / (T - 1)\n",
    "\n",
    "        hat_a = np.zeros(T)\n",
    "\n",
    "        CV_0 = np.zeros(T - 1)\n",
    "        CV_1 = np.zeros(T - 1)\n",
    "\n",
    "        if one_pair:\n",
    "            hat_a[1:-1] = get_a_hat_pair(X, hat_b)\n",
    "        else:\n",
    "            hat_a[1:-1] = get_a_hat_both(X, hat_b)\n",
    "        \n",
    "        print(hat_a[1:-1])\n",
    "        for t in range(1, T - 1):      \n",
    "            if one_pair:\n",
    "                nomin = np.dot(X[:-1] - hat_b[t], X[1:]  - hat_b[t]) - (X[t] - hat_b[t]) * (X[t + 1] - hat_b[t])\n",
    "                denom = np.dot(X[:-1] - hat_b[t], X[:-1] - hat_b[t]) - (X[t] - hat_b[t]) * (X[t]     - hat_b[t])\n",
    "                \n",
    "                # initial estimate for a\n",
    "                hat_a[t] = nomin / denom\n",
    "                \n",
    "                if iter_estimate:\n",
    "                    hat_a[t], hat_b[t] = loocv_two_pair(hat_a[t], hat_b[t], X, t, sum_X, T, iters = iters2)\n",
    "                    \n",
    "            else:\n",
    "                nomin = np.dot(X[:-1] - hat_b[t], X[1:]  - hat_b[t]) - (X[t] - hat_b[t]) * (X[t + 1] - hat_b[t]) - (X[t - 1] - hat_b[t]) * (X[t] - hat_b[t])\n",
    "                denom = np.dot(X[:-1] - hat_b[t], X[:-1] - hat_b[t]) - (X[t] - hat_b[t]) * (X[t]     - hat_b[t]) - (X[t - 1] - hat_b[t]) * (X[t - 1]     - hat_b[t])\n",
    "                \n",
    "                # initial estimate for a\n",
    "                hat_a[t] = nomin / denom\n",
    "                \n",
    "                # iteratively estimate a and b until maximum\n",
    "                if iter_estimate:\n",
    "                    hat_a[t], hat_b[t] = loocv_two_pair(hat_a[t], hat_b[t], X, t, sum_X, T, iters = iters2)\n",
    "\n",
    "            # compare a_est and b_est\n",
    "            CV_0[t] = (X[t + 1] - hat_b[t] - a        * (X[t] - hat_b[t])) ** 2\n",
    "            CV_1[t] = (X[t + 1] - hat_b[t] - hat_a[t] * (X[t] - hat_b[t])) ** 2\n",
    "\n",
    "        print(hat_a[1:-1])\n",
    "        count += (sum(CV_0) < sum(CV_1))\n",
    "    \n",
    "    return count\n",
    "\n",
    "a0, b, T, iters, iters2 = 0.999, 100, 51, 1, 0\n",
    "count = ar_loocv(a0, b, T, iters, approx_b = True, one_pair = False, iter_estimate = False, iters2 = iters2)\n",
    "print(f\"P(CV(a = a0 = {a0}) < CV(a = hat(a)) = {round(count / iters, 3)}.\")"
   ]
  },
  {
   "cell_type": "code",
   "execution_count": 16,
   "id": "0d245a42",
   "metadata": {},
   "outputs": [
    {
     "name": "stdout",
     "output_type": "stream",
     "text": [
      "(498,)\n",
      "0.008995771408081055\n",
      "(498,)\n",
      "0.023996591567993164\n"
     ]
    }
   ],
   "source": [
    "X = np.linspace(0, 1, 10001)\n",
    "b_range = np.linspace(1, 2, 10001)\n",
    "\n",
    "def get_a_hat_pair(X, b):\n",
    "    A = (X[:-1] - np.expand_dims(b[1:-1], axis = 1))\n",
    "    B = (X[1:] - np.expand_dims(b[1:-1], axis = 1))\n",
    "    nomin = (A * B).sum(-1) - (X[1:-1] - b[1:-1]) * (X[2:] - b[1:-1])\n",
    "    denom = (A * A).sum(-1) - (X[1:-1] - b[1:-1]) ** 2\n",
    "    \n",
    "    return nomin / denom\n",
    "\n",
    "def get_a_hat_both(X, b):\n",
    "    A = (X[:-1] - np.expand_dims(b[1:-1], axis = 1))\n",
    "    B = (X[1:] - np.expand_dims(b[1:-1], axis = 1))\n",
    "    nomin = (A * B).sum(-1) - (X[1:-1] - b[1:-1]) * (X[2:] - b[1:-1]) - (X[:-2] - b[1:-1]) * (X[1:-1] - b[1:-1])\n",
    "    denom = (A * A).sum(-1) - (X[1:-1] - b[1:-1]) ** 2 - (X[:-2] - b[1:-1]) ** 2\n",
    "    \n",
    "    return nomin / denom\n",
    "\n",
    "def get_a_hat_both_v2(X, b):\n",
    "    \n",
    "    hat_a = np.zeros(T - 2)\n",
    "    \n",
    "    for t in range(1, T - 1):        \n",
    "        nomin = np.dot(X[:-1] - b[t], X[1:]  - b[t]) - (X[t] - b[t]) * (X[t + 1] - b[t]) - (X[t - 1] - b[t]) * (X[t] - b[t])\n",
    "        denom = np.dot(X[:-1] - b[t], X[:-1] - b[t]) - (X[t] - b[t]) * (X[t]     - b[t]) - (X[t - 1] - b[t]) * (X[t - 1] - b[t])\n",
    "\n",
    "        hat_a[t - 1] = nomin / denom\n",
    "        \n",
    "    return hat_a\n",
    "\n",
    "a, b, T = 0.5, 10, 500\n",
    "\n",
    "## generate AR(1) model\n",
    "X = np.zeros(T)\n",
    "X[0] = np.random.normal(b, np.sqrt(1 / (1 - a ** 2)))\n",
    "\n",
    "# generate noise\n",
    "noises = np.random.normal(0, 1, T - 1)\n",
    "\n",
    "# iteratively get value of X\n",
    "for t in range(1, T):\n",
    "    X[t] = b + a * (X[t - 1] - b) + noises[t - 1]\n",
    "            \n",
    "hat_b = (sum(X) - X[:-1]) / (T - 1)\n",
    "\n",
    "import time\n",
    "start = time.time()\n",
    "print(np.shape(get_a_hat_both(X, np.append(hat_b, 0))))\n",
    "end = time.time()\n",
    "print(end - start)\n",
    "print(np.shape(get_a_hat_both_v2(X, np.append(hat_b, 0))))\n",
    "print(time.time() - end)"
   ]
  },
  {
   "cell_type": "code",
   "execution_count": 49,
   "id": "2dea4905",
   "metadata": {},
   "outputs": [
    {
     "name": "stderr",
     "output_type": "stream",
     "text": [
      "100%|███████████████████████████████████████████████████████████████████████████████| 100/100 [00:00<00:00, 156.74it/s]"
     ]
    },
    {
     "name": "stdout",
     "output_type": "stream",
     "text": [
      "P(CV(a = a0 = 0.0) < CV(a = hat(a)) = 0.8.\n"
     ]
    },
    {
     "name": "stderr",
     "output_type": "stream",
     "text": [
      "\n"
     ]
    }
   ],
   "source": [
    "# remove X_k_pair.\n",
    "# Use estimate for b without a\n",
    "# Iteratively estimate a and b to find the true MLEs\n",
    "\n",
    "def ar_loocv_2(a, b, T, iters = 100, approx_b = True, iter_estimate = False, one_pair = True, iters2 = 5):\n",
    "    \n",
    "    count = 0\n",
    "    \n",
    "    for _ in tqdm(range(iters)):\n",
    "\n",
    "        ## generate AR(1) model\n",
    "        X = np.zeros(T)\n",
    "        X[0] = np.random.normal(b, np.sqrt(1 / (1 - a ** 2)))\n",
    "        \n",
    "        # generate noise\n",
    "        noises = np.random.normal(0, 1, T - 1)\n",
    "        \n",
    "        # iteratively get value of X\n",
    "        for t in range(1, T):\n",
    "            X[t] = b + a * (X[t - 1] - b) + noises[t - 1]\n",
    "\n",
    "        # get sum\n",
    "        sum_X = sum(X)\n",
    "\n",
    "        # LOOCV parameter estimates, CV scores\n",
    "        CV_0 = np.zeros(T - 1)\n",
    "        CV_1 = np.zeros(T - 1)\n",
    "        hat_a = np.zeros(T)\n",
    "        hat_b = np.zeros(T)\n",
    "        \n",
    "        b_est = ((sum_X - X[0]) - a * (sum_X - X[-1])) / ((T - 1) * (1 - a))\n",
    "        \n",
    "        hat_b_one = np.zeros(T)\n",
    "        \n",
    "        if one_pair:\n",
    "            hat_b_one[:-1] = ((sum_X - X[0] - X[1:]) - a * (sum_X - X[-1] - X[:-1])) / ((T - 2) * (1 - a))\n",
    "        else: \n",
    "            hat_b_one[1:-1] = ((sum_X - X[0] - X[1:-1] - X[2:]) - a * (sum_X - X[-1] - X[1:-1] - X[:-2])) / ((T - 3) * (1 - a))\n",
    "            \n",
    "        # estimate b, either exact or approximate\n",
    "        if not approx_b:\n",
    "            if one_pair:\n",
    "                hat_b[:-1] = ((sum_X - X[0] - X[1:]) - a * (sum_X - X[-1] - X[:-1])) / ((T - 2) * (1 - a))\n",
    "            else:\n",
    "                hat_b[1:-1] = ((sum_X - X[0] - X[1:-1] - X[2:]) - a * (sum_X - X[-1] - X[1:-1] - X[:-2])) / ((T - 3) * (1 - a))\n",
    "        else:\n",
    "            hat_b[:-1] = (sum_X - X[:-1]) / (T - 1)\n",
    "        \n",
    "        # estimate a, either remove pair (X_k, X_k+1) or also (X_k-1, X_k)\n",
    "        if one_pair:\n",
    "            hat_a[1:-1] = get_a_hat_pair(X, hat_b)\n",
    "        else:\n",
    "            hat_a[1:-1] = get_a_hat_both_v2(X, hat_b)\n",
    "        \n",
    "        # compute LOOCV score for each sample excluding boundary\n",
    "        for t in range(1, T - 1):      \n",
    "            # iteratively estimate to get optimal MLE estimates\n",
    "            if iter_estimate and one_pair:\n",
    "                hat_a[t], hat_b[t] = loocv_one_pair(hat_a[t], hat_b[t], X, t, sum_X, T, iters = iters2)                \n",
    "            elif iter_estimate and not one_pair:\n",
    "                hat_a[t], hat_b[t] = loocv_two_pair(hat_a[t], hat_b[t], X, t, sum_X, T, iters = iters2)\n",
    "\n",
    "            # compare a_est and b_est\n",
    "            CV_0[t] = (X[t + 1] - hat_b_one[t]    - a        * (X[t] - hat_b_one[t]))    ** 2\n",
    "            CV_1[t] = (X[t + 1] - hat_b[t] - hat_a[t] * (X[t] - hat_b[t])) ** 2\n",
    "            \n",
    "#             # compare a_est and b_est\n",
    "#             CV_0[t] = (X[t + 1] - a        * X[t])    ** 2\n",
    "#             CV_1[t] = (X[t + 1] - hat_a[t] * X[t]) ** 2\n",
    "\n",
    "#         # get count   \n",
    "#         print(\"b:\", round(np.mean(b_est), 4), \"\\t\", round(np.mean(hat_b[1:-1]), 4))\n",
    "#         print(\"a:\", np.mean(a), \"\\t\", np.mean(hat_a[1:-1]))\n",
    "#         print()\n",
    "#         print(\"average empirical risk:\\t\", round(1 / (T - 1) * np.mean(np.array([np.linalg.norm((X[2:] - b) - a * (X[1:-1] - b), 2) ** 2 for b in hat_b_one[1:-1]])), 4), \"\\t\", round(1 / (T - 1) * np.mean(np.array([np.linalg.norm((X[2:] - b) - a * (X[1:-1] - b), 2) ** 2 for a, b in zip(hat_a[1:-1], hat_b[1:-1])])), 4))\n",
    "#         print(\"true risk:\\t\\t\", np.round(np.array(expected_cost_ar(a, a, b, b_est)), 4), \"\\t\", round(np.mean(np.array([expected_cost_ar(a, a_hat, b, b_hat) for a_hat, b_hat in zip(hat_a[1:-1], hat_b[1:-1])])), 4))\n",
    "#         print(\"cross-validation score:\\t\", round(1 / (T - 1) * sum(CV_0), 4), \"\\t\", round(1 / (T - 1) * sum(CV_1), 4))\n",
    "#         print()\n",
    "#         print(count)\n",
    "        \n",
    "#         print(expected_cost_ar(a, a, b, b_est) / np.mean(np.array([expected_cost_ar(a, a_hat, b, b_hat) for a_hat, b_hat in zip(hat_a[1:-1], hat_b[1:-1])])))\n",
    "        count += (sum(CV_0) < sum(CV_1))\n",
    "        \n",
    "    \n",
    "    return count\n",
    "\n",
    "a0, b, T, iters, iters2 = 0.0, 0, 51, 100, 10000\n",
    "count = ar_loocv_2(a0, b, T, iters, approx_b = True, one_pair = True, iter_estimate = True, iters2 = iters2)\n",
    "print(f\"P(CV(a = a0 = {a0}) < CV(a = hat(a)) = {round(count / iters, 3)}.\")\n",
    "\n",
    "# count = martin_remove_x_k_both(a0, b, T, iters)\n",
    "# print(f\"P(CV(a = a0 = {a0}) < CV(a = hat(a)) = {round(count / iters, 3)}.\")"
   ]
  },
  {
   "cell_type": "code",
   "execution_count": 52,
   "id": "92847f88",
   "metadata": {},
   "outputs": [
    {
     "name": "stderr",
     "output_type": "stream",
     "text": [
      "  8%|██████▏                                                                        | 79/1000 [00:00<00:02, 384.83it/s]"
     ]
    },
    {
     "name": "stdout",
     "output_type": "stream",
     "text": [
      "a 0.0\n"
     ]
    },
    {
     "name": "stderr",
     "output_type": "stream",
     "text": [
      "100%|█████████████████████████████████████████████████████████████████████████████| 1000/1000 [00:02<00:00, 370.36it/s]\n",
      "  3%|██▍                                                                            | 31/1000 [00:00<00:06, 151.69it/s]"
     ]
    },
    {
     "name": "stdout",
     "output_type": "stream",
     "text": [
      "0.0\n"
     ]
    },
    {
     "name": "stderr",
     "output_type": "stream",
     "text": [
      "100%|█████████████████████████████████████████████████████████████████████████████| 1000/1000 [00:07<00:00, 139.89it/s]\n",
      "  1%|▌                                                                                | 7/1000 [00:00<00:15, 63.62it/s]"
     ]
    },
    {
     "name": "stdout",
     "output_type": "stream",
     "text": [
      "0.0\n"
     ]
    },
    {
     "name": "stderr",
     "output_type": "stream",
     "text": [
      "100%|██████████████████████████████████████████████████████████████████████████████| 1000/1000 [00:16<00:00, 59.99it/s]\n",
      "  0%|▏                                                                                | 2/1000 [00:00<01:03, 15.63it/s]"
     ]
    },
    {
     "name": "stdout",
     "output_type": "stream",
     "text": [
      "0.0\n"
     ]
    },
    {
     "name": "stderr",
     "output_type": "stream",
     "text": [
      "100%|██████████████████████████████████████████████████████████████████████████████| 1000/1000 [01:06<00:00, 14.99it/s]\n",
      "  0%|                                                                                 | 1/1000 [00:00<03:14,  5.13it/s]"
     ]
    },
    {
     "name": "stdout",
     "output_type": "stream",
     "text": [
      "0.0\n"
     ]
    },
    {
     "name": "stderr",
     "output_type": "stream",
     "text": [
      "100%|██████████████████████████████████████████████████████████████████████████████| 1000/1000 [03:37<00:00,  4.60it/s]\n",
      "  0%|                                                                                         | 0/1000 [00:00<?, ?it/s]"
     ]
    },
    {
     "name": "stdout",
     "output_type": "stream",
     "text": [
      "0.0\n"
     ]
    },
    {
     "name": "stderr",
     "output_type": "stream",
     "text": [
      "100%|██████████████████████████████████████████████████████████████████████████████| 1000/1000 [11:17<00:00,  1.48it/s]\n",
      "  4%|███▌                                                                           | 45/1000 [00:00<00:02, 449.81it/s]"
     ]
    },
    {
     "name": "stdout",
     "output_type": "stream",
     "text": [
      "0.0\n",
      "a 0.25\n"
     ]
    },
    {
     "name": "stderr",
     "output_type": "stream",
     "text": [
      "100%|█████████████████████████████████████████████████████████████████████████████| 1000/1000 [00:02<00:00, 467.07it/s]\n",
      "  2%|█▋                                                                             | 21/1000 [00:00<00:04, 205.90it/s]"
     ]
    },
    {
     "name": "stdout",
     "output_type": "stream",
     "text": [
      "0.0\n"
     ]
    },
    {
     "name": "stderr",
     "output_type": "stream",
     "text": [
      "100%|█████████████████████████████████████████████████████████████████████████████| 1000/1000 [00:04<00:00, 203.04it/s]\n",
      "  1%|▋                                                                                | 9/1000 [00:00<00:12, 81.79it/s]"
     ]
    },
    {
     "name": "stdout",
     "output_type": "stream",
     "text": [
      "0.0\n"
     ]
    },
    {
     "name": "stderr",
     "output_type": "stream",
     "text": [
      "100%|██████████████████████████████████████████████████████████████████████████████| 1000/1000 [00:12<00:00, 80.52it/s]\n",
      "  0%|▏                                                                                | 3/1000 [00:00<00:49, 20.14it/s]"
     ]
    },
    {
     "name": "stdout",
     "output_type": "stream",
     "text": [
      "0.0\n"
     ]
    },
    {
     "name": "stderr",
     "output_type": "stream",
     "text": [
      "100%|██████████████████████████████████████████████████████████████████████████████| 1000/1000 [00:59<00:00, 16.67it/s]\n",
      "  0%|                                                                                 | 1/1000 [00:00<03:05,  5.38it/s]"
     ]
    },
    {
     "name": "stdout",
     "output_type": "stream",
     "text": [
      "0.0\n"
     ]
    },
    {
     "name": "stderr",
     "output_type": "stream",
     "text": [
      "100%|██████████████████████████████████████████████████████████████████████████████| 1000/1000 [02:57<00:00,  5.65it/s]\n",
      "  0%|                                                                                         | 0/1000 [00:00<?, ?it/s]"
     ]
    },
    {
     "name": "stdout",
     "output_type": "stream",
     "text": [
      "0.0\n"
     ]
    },
    {
     "name": "stderr",
     "output_type": "stream",
     "text": [
      "100%|██████████████████████████████████████████████████████████████████████████████| 1000/1000 [10:10<00:00,  1.64it/s]\n",
      "  9%|███████                                                                        | 89/1000 [00:00<00:02, 438.93it/s]"
     ]
    },
    {
     "name": "stdout",
     "output_type": "stream",
     "text": [
      "0.0\n",
      "a 0.6\n"
     ]
    },
    {
     "name": "stderr",
     "output_type": "stream",
     "text": [
      "100%|█████████████████████████████████████████████████████████████████████████████| 1000/1000 [00:02<00:00, 461.66it/s]\n",
      "  2%|█▌                                                                             | 20/1000 [00:00<00:04, 200.00it/s]"
     ]
    },
    {
     "name": "stdout",
     "output_type": "stream",
     "text": [
      "0.0\n"
     ]
    },
    {
     "name": "stderr",
     "output_type": "stream",
     "text": [
      "100%|█████████████████████████████████████████████████████████████████████████████| 1000/1000 [00:04<00:00, 201.40it/s]\n",
      "  2%|█▎                                                                              | 17/1000 [00:00<00:12, 80.91it/s]"
     ]
    },
    {
     "name": "stdout",
     "output_type": "stream",
     "text": [
      "0.0\n"
     ]
    },
    {
     "name": "stderr",
     "output_type": "stream",
     "text": [
      "100%|██████████████████████████████████████████████████████████████████████████████| 1000/1000 [00:12<00:00, 79.69it/s]\n",
      "  0%|▏                                                                                | 3/1000 [00:00<00:46, 21.28it/s]"
     ]
    },
    {
     "name": "stdout",
     "output_type": "stream",
     "text": [
      "0.0\n"
     ]
    },
    {
     "name": "stderr",
     "output_type": "stream",
     "text": [
      "100%|██████████████████████████████████████████████████████████████████████████████| 1000/1000 [00:54<00:00, 18.34it/s]\n",
      "  0%|                                                                                         | 0/1000 [00:00<?, ?it/s]"
     ]
    },
    {
     "name": "stdout",
     "output_type": "stream",
     "text": [
      "0.0\n"
     ]
    },
    {
     "name": "stderr",
     "output_type": "stream",
     "text": [
      "100%|██████████████████████████████████████████████████████████████████████████████| 1000/1000 [02:56<00:00,  5.68it/s]\n",
      "  0%|                                                                                         | 0/1000 [00:00<?, ?it/s]"
     ]
    },
    {
     "name": "stdout",
     "output_type": "stream",
     "text": [
      "0.0\n"
     ]
    },
    {
     "name": "stderr",
     "output_type": "stream",
     "text": [
      "100%|██████████████████████████████████████████████████████████████████████████████| 1000/1000 [10:05<00:00,  1.65it/s]\n",
      "  8%|██████▋                                                                        | 85/1000 [00:00<00:02, 419.17it/s]"
     ]
    },
    {
     "name": "stdout",
     "output_type": "stream",
     "text": [
      "0.0\n",
      "a 0.9\n"
     ]
    },
    {
     "name": "stderr",
     "output_type": "stream",
     "text": [
      "100%|█████████████████████████████████████████████████████████████████████████████| 1000/1000 [00:02<00:00, 428.25it/s]\n",
      "  2%|█▌                                                                             | 20/1000 [00:00<00:05, 192.31it/s]"
     ]
    },
    {
     "name": "stdout",
     "output_type": "stream",
     "text": [
      "0.0\n"
     ]
    },
    {
     "name": "stderr",
     "output_type": "stream",
     "text": [
      "100%|█████████████████████████████████████████████████████████████████████████████| 1000/1000 [00:05<00:00, 198.29it/s]\n",
      "  1%|▋                                                                                | 9/1000 [00:00<00:12, 79.65it/s]"
     ]
    },
    {
     "name": "stdout",
     "output_type": "stream",
     "text": [
      "0.0\n"
     ]
    },
    {
     "name": "stderr",
     "output_type": "stream",
     "text": [
      "100%|██████████████████████████████████████████████████████████████████████████████| 1000/1000 [00:13<00:00, 76.84it/s]\n",
      "  0%|▏                                                                                | 2/1000 [00:00<00:54, 18.18it/s]"
     ]
    },
    {
     "name": "stdout",
     "output_type": "stream",
     "text": [
      "0.0\n"
     ]
    },
    {
     "name": "stderr",
     "output_type": "stream",
     "text": [
      "100%|██████████████████████████████████████████████████████████████████████████████| 1000/1000 [00:58<00:00, 17.18it/s]\n",
      "  0%|                                                                                         | 0/1000 [00:00<?, ?it/s]"
     ]
    },
    {
     "name": "stdout",
     "output_type": "stream",
     "text": [
      "0.0\n"
     ]
    },
    {
     "name": "stderr",
     "output_type": "stream",
     "text": [
      "100%|██████████████████████████████████████████████████████████████████████████████| 1000/1000 [03:02<00:00,  5.48it/s]\n",
      "  0%|                                                                                         | 0/1000 [00:00<?, ?it/s]"
     ]
    },
    {
     "name": "stdout",
     "output_type": "stream",
     "text": [
      "0.0\n"
     ]
    },
    {
     "name": "stderr",
     "output_type": "stream",
     "text": [
      "100%|██████████████████████████████████████████████████████████████████████████████| 1000/1000 [11:30<00:00,  1.45it/s]\n",
      "  3%|██▌                                                                            | 33/1000 [00:00<00:02, 323.54it/s]"
     ]
    },
    {
     "name": "stdout",
     "output_type": "stream",
     "text": [
      "0.0\n",
      "a 0.95\n"
     ]
    },
    {
     "name": "stderr",
     "output_type": "stream",
     "text": [
      "100%|█████████████████████████████████████████████████████████████████████████████| 1000/1000 [00:02<00:00, 388.95it/s]\n",
      "  2%|█▌                                                                             | 20/1000 [00:00<00:05, 194.18it/s]"
     ]
    },
    {
     "name": "stdout",
     "output_type": "stream",
     "text": [
      "0.0\n"
     ]
    },
    {
     "name": "stderr",
     "output_type": "stream",
     "text": [
      "100%|█████████████████████████████████████████████████████████████████████████████| 1000/1000 [00:04<00:00, 204.48it/s]\n",
      "  2%|█▎                                                                              | 16/1000 [00:00<00:12, 78.40it/s]"
     ]
    },
    {
     "name": "stdout",
     "output_type": "stream",
     "text": [
      "0.0\n"
     ]
    },
    {
     "name": "stderr",
     "output_type": "stream",
     "text": [
      "100%|██████████████████████████████████████████████████████████████████████████████| 1000/1000 [00:12<00:00, 78.05it/s]\n",
      "  0%|▏                                                                                | 2/1000 [00:00<00:55, 18.01it/s]"
     ]
    },
    {
     "name": "stdout",
     "output_type": "stream",
     "text": [
      "0.0\n"
     ]
    },
    {
     "name": "stderr",
     "output_type": "stream",
     "text": [
      "100%|██████████████████████████████████████████████████████████████████████████████| 1000/1000 [00:56<00:00, 17.76it/s]\n",
      "  0%|                                                                                         | 0/1000 [00:00<?, ?it/s]"
     ]
    },
    {
     "name": "stdout",
     "output_type": "stream",
     "text": [
      "0.0\n"
     ]
    },
    {
     "name": "stderr",
     "output_type": "stream",
     "text": [
      "100%|██████████████████████████████████████████████████████████████████████████████| 1000/1000 [03:11<00:00,  5.21it/s]\n",
      "  0%|                                                                                         | 0/1000 [00:00<?, ?it/s]"
     ]
    },
    {
     "name": "stdout",
     "output_type": "stream",
     "text": [
      "0.0\n"
     ]
    },
    {
     "name": "stderr",
     "output_type": "stream",
     "text": [
      "100%|██████████████████████████████████████████████████████████████████████████████| 1000/1000 [10:32<00:00,  1.58it/s]\n",
      "  4%|███▍                                                                           | 44/1000 [00:00<00:02, 439.90it/s]"
     ]
    },
    {
     "name": "stdout",
     "output_type": "stream",
     "text": [
      "0.0\n",
      "a 0.99\n"
     ]
    },
    {
     "name": "stderr",
     "output_type": "stream",
     "text": [
      "100%|█████████████████████████████████████████████████████████████████████████████| 1000/1000 [00:02<00:00, 457.57it/s]\n",
      "  2%|█▋                                                                             | 22/1000 [00:00<00:04, 217.75it/s]"
     ]
    },
    {
     "name": "stdout",
     "output_type": "stream",
     "text": [
      "0.0\n"
     ]
    },
    {
     "name": "stderr",
     "output_type": "stream",
     "text": [
      "100%|█████████████████████████████████████████████████████████████████████████████| 1000/1000 [00:04<00:00, 219.12it/s]\n",
      "  2%|█▍                                                                              | 18/1000 [00:00<00:11, 88.53it/s]"
     ]
    },
    {
     "name": "stdout",
     "output_type": "stream",
     "text": [
      "0.0\n"
     ]
    },
    {
     "name": "stderr",
     "output_type": "stream",
     "text": [
      "100%|██████████████████████████████████████████████████████████████████████████████| 1000/1000 [00:11<00:00, 84.11it/s]\n",
      "  0%|▎                                                                                | 4/1000 [00:00<00:52, 18.93it/s]"
     ]
    },
    {
     "name": "stdout",
     "output_type": "stream",
     "text": [
      "0.0\n"
     ]
    },
    {
     "name": "stderr",
     "output_type": "stream",
     "text": [
      "100%|██████████████████████████████████████████████████████████████████████████████| 1000/1000 [00:50<00:00, 19.67it/s]\n",
      "  0%|                                                                                 | 1/1000 [00:00<02:57,  5.62it/s]"
     ]
    },
    {
     "name": "stdout",
     "output_type": "stream",
     "text": [
      "0.0\n"
     ]
    },
    {
     "name": "stderr",
     "output_type": "stream",
     "text": [
      "100%|██████████████████████████████████████████████████████████████████████████████| 1000/1000 [02:52<00:00,  5.79it/s]\n",
      "  0%|                                                                                         | 0/1000 [00:00<?, ?it/s]"
     ]
    },
    {
     "name": "stdout",
     "output_type": "stream",
     "text": [
      "0.0\n"
     ]
    },
    {
     "name": "stderr",
     "output_type": "stream",
     "text": [
      "100%|██████████████████████████████████████████████████████████████████████████████| 1000/1000 [10:46<00:00,  1.55it/s]\n",
      "  5%|███▊                                                                           | 49/1000 [00:00<00:01, 484.99it/s]"
     ]
    },
    {
     "name": "stdout",
     "output_type": "stream",
     "text": [
      "0.0\n",
      "a 0.995\n"
     ]
    },
    {
     "name": "stderr",
     "output_type": "stream",
     "text": [
      "100%|█████████████████████████████████████████████████████████████████████████████| 1000/1000 [00:02<00:00, 447.21it/s]\n",
      "  2%|█▋                                                                             | 22/1000 [00:00<00:04, 219.96it/s]"
     ]
    },
    {
     "name": "stdout",
     "output_type": "stream",
     "text": [
      "0.0\n"
     ]
    },
    {
     "name": "stderr",
     "output_type": "stream",
     "text": [
      "100%|█████████████████████████████████████████████████████████████████████████████| 1000/1000 [00:04<00:00, 220.85it/s]\n",
      "  1%|▋                                                                                | 9/1000 [00:00<00:11, 89.08it/s]"
     ]
    },
    {
     "name": "stdout",
     "output_type": "stream",
     "text": [
      "0.0\n"
     ]
    },
    {
     "name": "stderr",
     "output_type": "stream",
     "text": [
      "100%|██████████████████████████████████████████████████████████████████████████████| 1000/1000 [00:11<00:00, 85.55it/s]\n",
      "  0%|▏                                                                                | 2/1000 [00:00<00:49, 19.99it/s]"
     ]
    },
    {
     "name": "stdout",
     "output_type": "stream",
     "text": [
      "0.0\n"
     ]
    },
    {
     "name": "stderr",
     "output_type": "stream",
     "text": [
      "100%|██████████████████████████████████████████████████████████████████████████████| 1000/1000 [00:50<00:00, 19.94it/s]\n",
      "  0%|                                                                                 | 1/1000 [00:00<02:49,  5.88it/s]"
     ]
    },
    {
     "name": "stdout",
     "output_type": "stream",
     "text": [
      "0.0\n"
     ]
    },
    {
     "name": "stderr",
     "output_type": "stream",
     "text": [
      "100%|██████████████████████████████████████████████████████████████████████████████| 1000/1000 [02:49<00:00,  5.90it/s]\n",
      "  0%|                                                                                         | 0/1000 [00:00<?, ?it/s]"
     ]
    },
    {
     "name": "stdout",
     "output_type": "stream",
     "text": [
      "0.0\n"
     ]
    },
    {
     "name": "stderr",
     "output_type": "stream",
     "text": [
      "100%|██████████████████████████████████████████████████████████████████████████████| 1000/1000 [10:33<00:00,  1.58it/s]"
     ]
    },
    {
     "name": "stdout",
     "output_type": "stream",
     "text": [
      "0.0\n"
     ]
    },
    {
     "name": "stderr",
     "output_type": "stream",
     "text": [
      "\n"
     ]
    }
   ],
   "source": [
    "a_range = [0.0, 0.25, 0.6, 0.9, 0.95, 0.99, 0.995]\n",
    "b_range = [0.0] # np.linspace(-15, 15, 3)\n",
    "T_range = [25, 50, 100, 250, 500, 1000]\n",
    "iters = 1000\n",
    "iters2 = 1000\n",
    "\n",
    "num_methods = 4\n",
    "\n",
    "results = np.zeros((num_methods, len(a_range), len(b_range), len(T_range)))\n",
    "\n",
    "for i, a in enumerate(a_range):\n",
    "    print(\"a\", a)\n",
    "    for j, b in enumerate(b_range):\n",
    "        for k, T in enumerate(T_range):\n",
    "            results[0][i][j][k] = ar_loocv_2(a, b, T, iters, approx_b = True, one_pair = True, iter_estimate = True, iters2 = iters2) / iters\n",
    "#             results[1][i][j][k] = ar_loocv_2(a, b, T, iters, approx_b = True, one_pair = False, iter_estimate = False, iters2 = iters2) / iters\n",
    "            # results[2][i][j][k] = ar_loocv_2(a, b, T, iters, approx_b = True, one_pair = False, iter_estimate = True, iters2 = iters2) / iters\n",
    "            print(results[2][i][j][k])\n",
    "#             results[3][i][j][k] = ar_loocv_2(a, b, T, iters, approx_b = True, one_pair = True, iter_estimate = True, iters2 = iters2) / iters"
   ]
  },
  {
   "cell_type": "code",
   "execution_count": 53,
   "id": "e6a95ca1",
   "metadata": {},
   "outputs": [
    {
     "data": {
      "image/png": "[encoded data removed]",
      "text/plain": [
       "<Figure size 720x288 with 1 Axes>"
      ]
     },
     "metadata": {
      "needs_background": "light"
     },
     "output_type": "display_data"
    },
    {
     "data": {
      "image/png": "[encoded data removed]",
      "text/plain": [
       "<Figure size 720x288 with 1 Axes>"
      ]
     },
     "metadata": {
      "needs_background": "light"
     },
     "output_type": "display_data"
    },
    {
     "data": {
      "image/png": "[encoded data removed]",
      "text/plain": [
       "<Figure size 720x288 with 1 Axes>"
      ]
     },
     "metadata": {
      "needs_background": "light"
     },
     "output_type": "display_data"
    },
    {
     "data": {
      "image/png": "[encoded data removed]",
      "text/plain": [
       "<Figure size 720x288 with 1 Axes>"
      ]
     },
     "metadata": {
      "needs_background": "light"
     },
     "output_type": "display_data"
    }
   ],
   "source": [
    "b_index = -1\n",
    "n_method = 2\n",
    "a_index = 0\n",
    "t_index = -1\n",
    "# T_range = [51, 101, 251, 501]\n",
    "\n",
    "methods = [\"removing (Xk, Xk+1)\", \"removing (Xk, Xk+1) and (Xk-1, Xk)\", \"removing (Xk, Xk+1) and (Xk-1, Xk), iterative MLE estimation\", \"removing (Xk, Xk+1), iterative MLE estimation\"]\n",
    "plt.figure(figsize = (10, 4))\n",
    "plt.title(f\"P(CV success for b = {b_range[b_index]}), {methods[n_method]}.\")\n",
    "plt.xlabel(r\"Value of $a$.\")\n",
    "\n",
    "for i, plot in enumerate(results[n_method, :, b_index, :].T):\n",
    "    plt.plot(np.append(0, a_range), np.append(plot[0], plot), label = f\"T = {T_range[i]}\")\n",
    "    plt.fill_between(a_range, plot - np.sqrt(plot * (1 - plot) / iters), plot + np.sqrt(plot * (1 - plot) / iters), alpha = 0.1)\n",
    "    \n",
    "plt.legend(loc='upper right', bbox_to_anchor=(1.15, 1),\n",
    "          ncol=1, fancybox=True, shadow=True)\n",
    "plt.show()\n",
    "\n",
    "plt.figure(figsize = (10, 4))\n",
    "plt.xlabel(r\"Value of $T$.\")\n",
    "plt.title(f\"P(CV success for b = {b_range[b_index]}), {methods[n_method]}.\")\n",
    "for i, plot in enumerate(results[n_method, :, b_index, :]):\n",
    "    plt.plot(T_range, plot, label = f\"a = {a_range[i]}\")\n",
    "    plt.fill_between(T_range, plot - np.sqrt(plot * (1 - plot) / iters), plot + np.sqrt(plot * (1 - plot) / iters), alpha = 0.1)\n",
    "    \n",
    "plt.legend(loc='upper right', bbox_to_anchor=(1.17, 1),\n",
    "          ncol=1, fancybox=True, shadow=True)\n",
    "\n",
    "plt.show()\n",
    "\n",
    "plt.figure(figsize = (10, 4))\n",
    "plt.xlabel(r\"Value of $T$.\")\n",
    "plt.title(f\"P(CV success for b = {b_range[b_index]}), a = {a_range[a_index]}.\")\n",
    "for i, plot in enumerate(results[:, a_index, b_index, :]):\n",
    "    plt.plot(T_range, plot, label = f\"{methods[i]}\")\n",
    "    plt.fill_between(T_range, plot - np.sqrt(plot * (1 - plot) / iters), plot + np.sqrt(plot * (1 - plot) / iters), alpha = 0.1)\n",
    "    \n",
    "plt.legend(loc='lower center', bbox_to_anchor=(0.5, -0.4),\n",
    "          ncol=2, fancybox=True, shadow=True)\n",
    "\n",
    "plt.show()\n",
    "\n",
    "plt.figure(figsize = (10, 4))\n",
    "plt.xlabel(r\"Value of $a$.\")\n",
    "plt.title(f\"P(CV success for b = {b_range[b_index]}), T = {T_range[t_index]}.\")\n",
    "for i, plot in enumerate(results[:, :, b_index, t_index]):\n",
    "    plt.plot(a_range, plot, label = f\"{methods[i]}\")\n",
    "    plt.fill_between(a_range, plot - np.sqrt(plot * (1 - plot) / iters), plot + np.sqrt(plot * (1 - plot) / iters), alpha = 0.1)\n",
    "    \n",
    "plt.legend(loc='lower center', bbox_to_anchor=(0.5, -0.4),\n",
    "          ncol=2, fancybox=True, shadow=True)\n",
    "\n",
    "plt.show()"
   ]
  },
  {
   "cell_type": "code",
   "execution_count": 63,
   "id": "840269dc",
   "metadata": {},
   "outputs": [
    {
     "name": "stdout",
     "output_type": "stream",
     "text": [
      "[[0.817 0.822 0.825 0.871 0.831 0.832]\n",
      " [0.798 0.813 0.814 0.822 0.866 0.861]\n",
      " [0.776 0.787 0.826 0.834 0.852 0.859]\n",
      " [0.611 0.731 0.774 0.823 0.84  0.828]\n",
      " [0.54  0.639 0.698 0.787 0.807 0.82 ]\n",
      " [0.457 0.471 0.523 0.625 0.708 0.761]\n",
      " [0.432 0.432 0.467 0.576 0.678 0.703]]\n"
     ]
    }
   ],
   "source": [
    "# b_c = results[0][:, 0].copy()\n",
    "print(r_m)"
   ]
  },
  {
   "cell_type": "code",
   "execution_count": 72,
   "id": "33fdbe6d",
   "metadata": {},
   "outputs": [],
   "source": [
    "r_m[1][0] = 0.812"
   ]
  },
  {
   "cell_type": "code",
   "execution_count": 73,
   "id": "ba5fa73d",
   "metadata": {},
   "outputs": [
    {
     "data": {
      "image/png": "[encoded data removed]",
      "text/plain": [
       "<Figure size 720x288 with 1 Axes>"
      ]
     },
     "metadata": {
      "needs_background": "light"
     },
     "output_type": "display_data"
    },
    {
     "data": {
      "image/png": "[encoded data removed]",
      "text/plain": [
       "<Figure size 720x288 with 1 Axes>"
      ]
     },
     "metadata": {
      "needs_background": "light"
     },
     "output_type": "display_data"
    }
   ],
   "source": [
    "plt.figure(figsize = (10, 4))\n",
    "plt.title(f\"Relative regret: Ratio of Expected Risk using $a = a_0$, b estimated, vs. the LOOCV estimates\")\n",
    "plt.xlabel(r\"Value of $a$.\")\n",
    "\n",
    "for i, plot in enumerate(r_m.T):\n",
    "    plt.plot(a_range, plot, label = f\"T = {T_range[i]}\")\n",
    "    # plt.fill_between(a_range, plot - avg_regrets_sem[:, i], plot + avg_regrets_sem[:, i], alpha = 0.1)\n",
    "    \n",
    "plt.legend(ncol=1, fancybox=True, shadow=True)\n",
    "plt.show()\n",
    "\n",
    "plt.figure(figsize = (10, 4))\n",
    "plt.title(f\"Relative regret: Ratio of Expected Risk using $a = a_0$, b estimated, vs. the LOOCV estimates\")\n",
    "plt.xlabel(r\"Value of $a$.\")\n",
    "\n",
    "for i, plot in enumerate(r_m):\n",
    "    plt.plot(T_range, plot, label = f\"a = {a_range[i]}\")\n",
    "    # plt.fill_between(T_range, plot - avg_regrets_sem[i], plot + avg_regrets_sem[i], alpha = 0.1)\n",
    "    \n",
    "plt.legend(ncol=1, fancybox=True, shadow=True)\n",
    "plt.show()"
   ]
  },
  {
   "cell_type": "code",
   "execution_count": 18,
   "id": "7b12d291",
   "metadata": {},
   "outputs": [
    {
     "name": "stdout",
     "output_type": "stream",
     "text": [
      "0.36 0.38 9.57 36.14\n",
      "a:\t0.356, b:\t9.572.\n",
      "CV_0 score: 1.002.\n",
      "CV_1 score: 1.002.\n",
      "1.0029956612985558\n",
      "1.00068497500686\n"
     ]
    }
   ],
   "source": [
    "def expected_cost_ar(a_true, a_est, b_true = 0, b_est = 0):\n",
    "    \n",
    "    # base on the distribution of X, no actual data needed.    \n",
    "    covariance_X = 1 / (1 - a_true ** 2) + b_true ** 2\n",
    "    \n",
    "    # components\n",
    "    noise = 1\n",
    "    b_diff = (b_true - b_est) * ((b_true - b_est) + (a_true - a_est) * b_true - a_true * b_true + a_est * b_est)\n",
    "    mean_X = (a_true - a_est) * b_true * ((b_true - b_est) - a_true * b_true + a_est * b_est)\n",
    "    cov_x = (a_true - a_est) ** 2 * covariance_X\n",
    "    ab = - 1 * a_true * b_true * ((b_true - b_est) + (a_true - a_est) * b_true - a_true * b_true + a_est * b_est)\n",
    "    ab_est = a_est * b_est * ((b_true - b_est) + (a_true - a_est) * b_true - a_true * b_true + a_est * b_est)\n",
    "\n",
    "    # return expected MSE\n",
    "    return noise + b_diff + mean_X + ab + ab_est + cov_x\n",
    "\n",
    "## generate AR(1) model\n",
    "a = np.random.random()\n",
    "a_est = np.random.random()\n",
    "b = 1e3 * np.random.random()\n",
    "b_est = 1e3 * np.random.random()\n",
    "print(round(a, 2), round(a_est, 2), round(b, 2), round(b_est, 2))\n",
    "T = 50000\n",
    "\n",
    "X = np.zeros(T)\n",
    "X[0] = np.random.normal(b, np.sqrt(1 / (1 - a ** 2)))\n",
    "\n",
    "# generate noise\n",
    "noises = np.random.normal(0, 1, T - 1)\n",
    "\n",
    "# iteratively get value of X\n",
    "for t in range(1, T):\n",
    "    X[t] = b + a * (X[t - 1] - b) + noises[t - 1]\n",
    "\n",
    "print(f\"a:\\t{round(a, 3)}, b:\\t{round(b, 3)}.\")\n",
    "b_est = ((sum(X) - X[0]) - a * (sum(X) - X[-1])) / ((T - 1) * (1 - a))\n",
    "print(f\"CV_0 score: {round(1 / (T - 1) * np.linalg.norm((X[1:] - b_est) - a * (X[:-1] - b_est), 2) ** 2, 3)}.\")\n",
    "print(f\"CV_1 score: {round(1 / (T - 1) * np.linalg.norm((X[1:] - b_est) - a * (X[:-1] - b_est), 2) ** 2, 3)}.\")\n",
    "print(1 / (T - 1) * np.linalg.norm((X[1:] - b_est) - a_est * (X[:-1] - b_est), 2) ** 2)\n",
    "print(expected_cost_ar(a, a_est, b, b_est))"
   ]
  },
  {
   "cell_type": "code",
   "execution_count": null,
   "id": "05438462",
   "metadata": {},
   "outputs": [],
   "source": []
  },
  {
   "cell_type": "code",
   "execution_count": 19,
   "id": "6ad5321e",
   "metadata": {},
   "outputs": [
    {
     "name": "stderr",
     "output_type": "stream",
     "text": [
      "\r",
      "  0%|                                                                                          | 0/100 [00:00<?, ?it/s]"
     ]
    },
    {
     "name": "stdout",
     "output_type": "stream",
     "text": [
      "b: -1.5943 \t -1.6275\n",
      "a: 0.99 \t 0.9872586997027327\n",
      "\n"
     ]
    },
    {
     "name": "stderr",
     "output_type": "stream",
     "text": [
      "\r",
      "  1%|▊                                                                                 | 1/100 [00:18<31:01, 18.81s/it]"
     ]
    },
    {
     "name": "stdout",
     "output_type": "stream",
     "text": [
      "average empirical risk:\t 0.9705 \t 0.9702\n",
      "true risk:\t\t 1.0003 \t 1.0008\n",
      "cross-validation score:\t 0.9707 \t 0.971\n",
      "\n",
      "0\n",
      "0.9994467861155485\n",
      "b: -0.6193 \t -0.5871\n",
      "a: 0.99 \t 0.9840013326762757\n",
      "\n"
     ]
    },
    {
     "name": "stderr",
     "output_type": "stream",
     "text": [
      "\r",
      "  2%|█▋                                                                                | 2/100 [00:44<36:53, 22.59s/it]"
     ]
    },
    {
     "name": "stdout",
     "output_type": "stream",
     "text": [
      "average empirical risk:\t 0.9919 \t 0.9908\n",
      "true risk:\t\t 1.0 \t 1.0019\n",
      "cross-validation score:\t 0.992 \t 0.9913\n",
      "\n",
      "1\n",
      "0.99814518779124\n",
      "b: 1.2409 \t 1.2364\n",
      "a: 0.99 \t 0.99053096360846\n",
      "\n"
     ]
    },
    {
     "name": "stderr",
     "output_type": "stream",
     "text": [
      "\r",
      "  2%|█▋                                                                                | 2/100 [01:06<54:38, 33.45s/it]"
     ]
    },
    {
     "name": "stdout",
     "output_type": "stream",
     "text": [
      "average empirical risk:\t 1.0411 \t 1.0411\n"
     ]
    },
    {
     "name": "stderr",
     "output_type": "stream",
     "text": [
      "\n"
     ]
    },
    {
     "ename": "KeyboardInterrupt",
     "evalue": "",
     "output_type": "error",
     "traceback": [
      "\u001b[1;31m---------------------------------------------------------------------------\u001b[0m",
      "\u001b[1;31mKeyboardInterrupt\u001b[0m                         Traceback (most recent call last)",
      "\u001b[1;32m<ipython-input-19-2068f99217aa>\u001b[0m in \u001b[0;36m<module>\u001b[1;34m\u001b[0m\n\u001b[0;32m      1\u001b[0m \u001b[0ma0\u001b[0m\u001b[1;33m,\u001b[0m \u001b[0mb\u001b[0m\u001b[1;33m,\u001b[0m \u001b[0mT\u001b[0m\u001b[1;33m,\u001b[0m \u001b[0miters\u001b[0m\u001b[1;33m,\u001b[0m \u001b[0miters2\u001b[0m \u001b[1;33m=\u001b[0m \u001b[1;36m0.99\u001b[0m\u001b[1;33m,\u001b[0m \u001b[1;36m0\u001b[0m\u001b[1;33m,\u001b[0m \u001b[1;36m5001\u001b[0m\u001b[1;33m,\u001b[0m \u001b[1;36m100\u001b[0m\u001b[1;33m,\u001b[0m \u001b[1;36m100\u001b[0m\u001b[1;33m\u001b[0m\u001b[1;33m\u001b[0m\u001b[0m\n\u001b[1;32m----> 2\u001b[1;33m \u001b[0mcount\u001b[0m \u001b[1;33m=\u001b[0m \u001b[0mar_loocv_2\u001b[0m\u001b[1;33m(\u001b[0m\u001b[0ma0\u001b[0m\u001b[1;33m,\u001b[0m \u001b[0mb\u001b[0m\u001b[1;33m,\u001b[0m \u001b[0mT\u001b[0m\u001b[1;33m,\u001b[0m \u001b[0miters\u001b[0m\u001b[1;33m,\u001b[0m \u001b[0mapprox_b\u001b[0m \u001b[1;33m=\u001b[0m \u001b[1;32mTrue\u001b[0m\u001b[1;33m,\u001b[0m \u001b[0mone_pair\u001b[0m \u001b[1;33m=\u001b[0m \u001b[1;32mFalse\u001b[0m\u001b[1;33m,\u001b[0m \u001b[0miter_estimate\u001b[0m \u001b[1;33m=\u001b[0m \u001b[1;32mTrue\u001b[0m\u001b[1;33m,\u001b[0m \u001b[0miters2\u001b[0m \u001b[1;33m=\u001b[0m \u001b[0miters2\u001b[0m\u001b[1;33m)\u001b[0m\u001b[1;33m\u001b[0m\u001b[1;33m\u001b[0m\u001b[0m\n\u001b[0m\u001b[0;32m      3\u001b[0m \u001b[0mprint\u001b[0m\u001b[1;33m(\u001b[0m\u001b[0mcount\u001b[0m \u001b[1;33m/\u001b[0m \u001b[0miters\u001b[0m\u001b[1;33m)\u001b[0m\u001b[1;33m\u001b[0m\u001b[1;33m\u001b[0m\u001b[0m\n\u001b[0;32m      4\u001b[0m \u001b[1;33m\u001b[0m\u001b[0m\n\u001b[0;32m      5\u001b[0m \u001b[0ma0\u001b[0m\u001b[1;33m,\u001b[0m \u001b[0mb\u001b[0m\u001b[1;33m,\u001b[0m \u001b[0mT\u001b[0m\u001b[1;33m,\u001b[0m \u001b[0miters\u001b[0m\u001b[1;33m,\u001b[0m \u001b[0miters2\u001b[0m \u001b[1;33m=\u001b[0m \u001b[1;36m0.999\u001b[0m\u001b[1;33m,\u001b[0m \u001b[1;36m0\u001b[0m\u001b[1;33m,\u001b[0m \u001b[1;36m5001\u001b[0m\u001b[1;33m,\u001b[0m \u001b[1;36m100\u001b[0m\u001b[1;33m,\u001b[0m \u001b[1;36m100\u001b[0m\u001b[1;33m\u001b[0m\u001b[1;33m\u001b[0m\u001b[0m\n",
      "\u001b[1;32m<ipython-input-17-385c72cdaa01>\u001b[0m in \u001b[0;36mar_loocv_2\u001b[1;34m(a, b, T, iters, approx_b, iter_estimate, one_pair, iters2)\u001b[0m\n\u001b[0;32m     74\u001b[0m         \u001b[0mprint\u001b[0m\u001b[1;33m(\u001b[0m\u001b[1;33m)\u001b[0m\u001b[1;33m\u001b[0m\u001b[1;33m\u001b[0m\u001b[0m\n\u001b[0;32m     75\u001b[0m         \u001b[0mprint\u001b[0m\u001b[1;33m(\u001b[0m\u001b[1;34m\"average empirical risk:\\t\"\u001b[0m\u001b[1;33m,\u001b[0m \u001b[0mround\u001b[0m\u001b[1;33m(\u001b[0m\u001b[1;36m1\u001b[0m \u001b[1;33m/\u001b[0m \u001b[1;33m(\u001b[0m\u001b[0mT\u001b[0m \u001b[1;33m-\u001b[0m \u001b[1;36m1\u001b[0m\u001b[1;33m)\u001b[0m \u001b[1;33m*\u001b[0m \u001b[0mnp\u001b[0m\u001b[1;33m.\u001b[0m\u001b[0mmean\u001b[0m\u001b[1;33m(\u001b[0m\u001b[0mnp\u001b[0m\u001b[1;33m.\u001b[0m\u001b[0marray\u001b[0m\u001b[1;33m(\u001b[0m\u001b[1;33m[\u001b[0m\u001b[0mnp\u001b[0m\u001b[1;33m.\u001b[0m\u001b[0mlinalg\u001b[0m\u001b[1;33m.\u001b[0m\u001b[0mnorm\u001b[0m\u001b[1;33m(\u001b[0m\u001b[1;33m(\u001b[0m\u001b[0mX\u001b[0m\u001b[1;33m[\u001b[0m\u001b[1;36m2\u001b[0m\u001b[1;33m:\u001b[0m\u001b[1;33m]\u001b[0m \u001b[1;33m-\u001b[0m \u001b[0mb\u001b[0m\u001b[1;33m)\u001b[0m \u001b[1;33m-\u001b[0m \u001b[0ma\u001b[0m \u001b[1;33m*\u001b[0m \u001b[1;33m(\u001b[0m\u001b[0mX\u001b[0m\u001b[1;33m[\u001b[0m\u001b[1;36m1\u001b[0m\u001b[1;33m:\u001b[0m\u001b[1;33m-\u001b[0m\u001b[1;36m1\u001b[0m\u001b[1;33m]\u001b[0m \u001b[1;33m-\u001b[0m \u001b[0mb\u001b[0m\u001b[1;33m)\u001b[0m\u001b[1;33m,\u001b[0m \u001b[1;36m2\u001b[0m\u001b[1;33m)\u001b[0m \u001b[1;33m**\u001b[0m \u001b[1;36m2\u001b[0m \u001b[1;32mfor\u001b[0m \u001b[0mb\u001b[0m \u001b[1;32min\u001b[0m \u001b[0mhat_b_one\u001b[0m\u001b[1;33m[\u001b[0m\u001b[1;36m1\u001b[0m\u001b[1;33m:\u001b[0m\u001b[1;33m-\u001b[0m\u001b[1;36m1\u001b[0m\u001b[1;33m]\u001b[0m\u001b[1;33m]\u001b[0m\u001b[1;33m)\u001b[0m\u001b[1;33m)\u001b[0m\u001b[1;33m,\u001b[0m \u001b[1;36m4\u001b[0m\u001b[1;33m)\u001b[0m\u001b[1;33m,\u001b[0m \u001b[1;34m\"\\t\"\u001b[0m\u001b[1;33m,\u001b[0m \u001b[0mround\u001b[0m\u001b[1;33m(\u001b[0m\u001b[1;36m1\u001b[0m \u001b[1;33m/\u001b[0m \u001b[1;33m(\u001b[0m\u001b[0mT\u001b[0m \u001b[1;33m-\u001b[0m \u001b[1;36m1\u001b[0m\u001b[1;33m)\u001b[0m \u001b[1;33m*\u001b[0m \u001b[0mnp\u001b[0m\u001b[1;33m.\u001b[0m\u001b[0mmean\u001b[0m\u001b[1;33m(\u001b[0m\u001b[0mnp\u001b[0m\u001b[1;33m.\u001b[0m\u001b[0marray\u001b[0m\u001b[1;33m(\u001b[0m\u001b[1;33m[\u001b[0m\u001b[0mnp\u001b[0m\u001b[1;33m.\u001b[0m\u001b[0mlinalg\u001b[0m\u001b[1;33m.\u001b[0m\u001b[0mnorm\u001b[0m\u001b[1;33m(\u001b[0m\u001b[1;33m(\u001b[0m\u001b[0mX\u001b[0m\u001b[1;33m[\u001b[0m\u001b[1;36m2\u001b[0m\u001b[1;33m:\u001b[0m\u001b[1;33m]\u001b[0m \u001b[1;33m-\u001b[0m \u001b[0mb\u001b[0m\u001b[1;33m)\u001b[0m \u001b[1;33m-\u001b[0m \u001b[0ma\u001b[0m \u001b[1;33m*\u001b[0m \u001b[1;33m(\u001b[0m\u001b[0mX\u001b[0m\u001b[1;33m[\u001b[0m\u001b[1;36m1\u001b[0m\u001b[1;33m:\u001b[0m\u001b[1;33m-\u001b[0m\u001b[1;36m1\u001b[0m\u001b[1;33m]\u001b[0m \u001b[1;33m-\u001b[0m \u001b[0mb\u001b[0m\u001b[1;33m)\u001b[0m\u001b[1;33m,\u001b[0m \u001b[1;36m2\u001b[0m\u001b[1;33m)\u001b[0m \u001b[1;33m**\u001b[0m \u001b[1;36m2\u001b[0m \u001b[1;32mfor\u001b[0m \u001b[0ma\u001b[0m\u001b[1;33m,\u001b[0m \u001b[0mb\u001b[0m \u001b[1;32min\u001b[0m \u001b[0mzip\u001b[0m\u001b[1;33m(\u001b[0m\u001b[0mhat_a\u001b[0m\u001b[1;33m[\u001b[0m\u001b[1;36m1\u001b[0m\u001b[1;33m:\u001b[0m\u001b[1;33m-\u001b[0m\u001b[1;36m1\u001b[0m\u001b[1;33m]\u001b[0m\u001b[1;33m,\u001b[0m \u001b[0mhat_b\u001b[0m\u001b[1;33m[\u001b[0m\u001b[1;36m1\u001b[0m\u001b[1;33m:\u001b[0m\u001b[1;33m-\u001b[0m\u001b[1;36m1\u001b[0m\u001b[1;33m]\u001b[0m\u001b[1;33m)\u001b[0m\u001b[1;33m]\u001b[0m\u001b[1;33m)\u001b[0m\u001b[1;33m)\u001b[0m\u001b[1;33m,\u001b[0m \u001b[1;36m4\u001b[0m\u001b[1;33m)\u001b[0m\u001b[1;33m)\u001b[0m\u001b[1;33m\u001b[0m\u001b[1;33m\u001b[0m\u001b[0m\n\u001b[1;32m---> 76\u001b[1;33m         \u001b[0mprint\u001b[0m\u001b[1;33m(\u001b[0m\u001b[1;34m\"true risk:\\t\\t\"\u001b[0m\u001b[1;33m,\u001b[0m \u001b[0mnp\u001b[0m\u001b[1;33m.\u001b[0m\u001b[0mround\u001b[0m\u001b[1;33m(\u001b[0m\u001b[0mnp\u001b[0m\u001b[1;33m.\u001b[0m\u001b[0marray\u001b[0m\u001b[1;33m(\u001b[0m\u001b[0mexpected_cost_ar\u001b[0m\u001b[1;33m(\u001b[0m\u001b[0ma\u001b[0m\u001b[1;33m,\u001b[0m \u001b[0ma\u001b[0m\u001b[1;33m,\u001b[0m \u001b[0mb\u001b[0m\u001b[1;33m,\u001b[0m \u001b[0mb_est\u001b[0m\u001b[1;33m)\u001b[0m\u001b[1;33m)\u001b[0m\u001b[1;33m,\u001b[0m \u001b[1;36m4\u001b[0m\u001b[1;33m)\u001b[0m\u001b[1;33m,\u001b[0m \u001b[1;34m\"\\t\"\u001b[0m\u001b[1;33m,\u001b[0m \u001b[0mround\u001b[0m\u001b[1;33m(\u001b[0m\u001b[0mnp\u001b[0m\u001b[1;33m.\u001b[0m\u001b[0mmean\u001b[0m\u001b[1;33m(\u001b[0m\u001b[0mnp\u001b[0m\u001b[1;33m.\u001b[0m\u001b[0marray\u001b[0m\u001b[1;33m(\u001b[0m\u001b[1;33m[\u001b[0m\u001b[0mexpected_cost_ar\u001b[0m\u001b[1;33m(\u001b[0m\u001b[0ma\u001b[0m\u001b[1;33m,\u001b[0m \u001b[0ma_hat\u001b[0m\u001b[1;33m,\u001b[0m \u001b[0mb\u001b[0m\u001b[1;33m,\u001b[0m \u001b[0mb_hat\u001b[0m\u001b[1;33m)\u001b[0m \u001b[1;32mfor\u001b[0m \u001b[0ma_hat\u001b[0m\u001b[1;33m,\u001b[0m \u001b[0mb_hat\u001b[0m \u001b[1;32min\u001b[0m \u001b[0mzip\u001b[0m\u001b[1;33m(\u001b[0m\u001b[0mhat_a\u001b[0m\u001b[1;33m[\u001b[0m\u001b[1;36m1\u001b[0m\u001b[1;33m:\u001b[0m\u001b[1;33m-\u001b[0m\u001b[1;36m1\u001b[0m\u001b[1;33m]\u001b[0m\u001b[1;33m,\u001b[0m \u001b[0mhat_b\u001b[0m\u001b[1;33m[\u001b[0m\u001b[1;36m1\u001b[0m\u001b[1;33m:\u001b[0m\u001b[1;33m-\u001b[0m\u001b[1;36m1\u001b[0m\u001b[1;33m]\u001b[0m\u001b[1;33m)\u001b[0m\u001b[1;33m]\u001b[0m\u001b[1;33m)\u001b[0m\u001b[1;33m)\u001b[0m\u001b[1;33m,\u001b[0m \u001b[1;36m4\u001b[0m\u001b[1;33m)\u001b[0m\u001b[1;33m)\u001b[0m\u001b[1;33m\u001b[0m\u001b[1;33m\u001b[0m\u001b[0m\n\u001b[0m\u001b[0;32m     77\u001b[0m         \u001b[0mprint\u001b[0m\u001b[1;33m(\u001b[0m\u001b[1;34m\"cross-validation score:\\t\"\u001b[0m\u001b[1;33m,\u001b[0m \u001b[0mround\u001b[0m\u001b[1;33m(\u001b[0m\u001b[1;36m1\u001b[0m \u001b[1;33m/\u001b[0m \u001b[1;33m(\u001b[0m\u001b[0mT\u001b[0m \u001b[1;33m-\u001b[0m \u001b[1;36m1\u001b[0m\u001b[1;33m)\u001b[0m \u001b[1;33m*\u001b[0m \u001b[0msum\u001b[0m\u001b[1;33m(\u001b[0m\u001b[0mCV_0\u001b[0m\u001b[1;33m)\u001b[0m\u001b[1;33m,\u001b[0m \u001b[1;36m4\u001b[0m\u001b[1;33m)\u001b[0m\u001b[1;33m,\u001b[0m \u001b[1;34m\"\\t\"\u001b[0m\u001b[1;33m,\u001b[0m \u001b[0mround\u001b[0m\u001b[1;33m(\u001b[0m\u001b[1;36m1\u001b[0m \u001b[1;33m/\u001b[0m \u001b[1;33m(\u001b[0m\u001b[0mT\u001b[0m \u001b[1;33m-\u001b[0m \u001b[1;36m1\u001b[0m\u001b[1;33m)\u001b[0m \u001b[1;33m*\u001b[0m \u001b[0msum\u001b[0m\u001b[1;33m(\u001b[0m\u001b[0mCV_1\u001b[0m\u001b[1;33m)\u001b[0m\u001b[1;33m,\u001b[0m \u001b[1;36m4\u001b[0m\u001b[1;33m)\u001b[0m\u001b[1;33m)\u001b[0m\u001b[1;33m\u001b[0m\u001b[1;33m\u001b[0m\u001b[0m\n\u001b[0;32m     78\u001b[0m         \u001b[0mprint\u001b[0m\u001b[1;33m(\u001b[0m\u001b[1;33m)\u001b[0m\u001b[1;33m\u001b[0m\u001b[1;33m\u001b[0m\u001b[0m\n",
      "\u001b[1;32m<ipython-input-17-385c72cdaa01>\u001b[0m in \u001b[0;36m<listcomp>\u001b[1;34m(.0)\u001b[0m\n\u001b[0;32m     74\u001b[0m         \u001b[0mprint\u001b[0m\u001b[1;33m(\u001b[0m\u001b[1;33m)\u001b[0m\u001b[1;33m\u001b[0m\u001b[1;33m\u001b[0m\u001b[0m\n\u001b[0;32m     75\u001b[0m         \u001b[0mprint\u001b[0m\u001b[1;33m(\u001b[0m\u001b[1;34m\"average empirical risk:\\t\"\u001b[0m\u001b[1;33m,\u001b[0m \u001b[0mround\u001b[0m\u001b[1;33m(\u001b[0m\u001b[1;36m1\u001b[0m \u001b[1;33m/\u001b[0m \u001b[1;33m(\u001b[0m\u001b[0mT\u001b[0m \u001b[1;33m-\u001b[0m \u001b[1;36m1\u001b[0m\u001b[1;33m)\u001b[0m \u001b[1;33m*\u001b[0m \u001b[0mnp\u001b[0m\u001b[1;33m.\u001b[0m\u001b[0mmean\u001b[0m\u001b[1;33m(\u001b[0m\u001b[0mnp\u001b[0m\u001b[1;33m.\u001b[0m\u001b[0marray\u001b[0m\u001b[1;33m(\u001b[0m\u001b[1;33m[\u001b[0m\u001b[0mnp\u001b[0m\u001b[1;33m.\u001b[0m\u001b[0mlinalg\u001b[0m\u001b[1;33m.\u001b[0m\u001b[0mnorm\u001b[0m\u001b[1;33m(\u001b[0m\u001b[1;33m(\u001b[0m\u001b[0mX\u001b[0m\u001b[1;33m[\u001b[0m\u001b[1;36m2\u001b[0m\u001b[1;33m:\u001b[0m\u001b[1;33m]\u001b[0m \u001b[1;33m-\u001b[0m \u001b[0mb\u001b[0m\u001b[1;33m)\u001b[0m \u001b[1;33m-\u001b[0m \u001b[0ma\u001b[0m \u001b[1;33m*\u001b[0m \u001b[1;33m(\u001b[0m\u001b[0mX\u001b[0m\u001b[1;33m[\u001b[0m\u001b[1;36m1\u001b[0m\u001b[1;33m:\u001b[0m\u001b[1;33m-\u001b[0m\u001b[1;36m1\u001b[0m\u001b[1;33m]\u001b[0m \u001b[1;33m-\u001b[0m \u001b[0mb\u001b[0m\u001b[1;33m)\u001b[0m\u001b[1;33m,\u001b[0m \u001b[1;36m2\u001b[0m\u001b[1;33m)\u001b[0m \u001b[1;33m**\u001b[0m \u001b[1;36m2\u001b[0m \u001b[1;32mfor\u001b[0m \u001b[0mb\u001b[0m \u001b[1;32min\u001b[0m \u001b[0mhat_b_one\u001b[0m\u001b[1;33m[\u001b[0m\u001b[1;36m1\u001b[0m\u001b[1;33m:\u001b[0m\u001b[1;33m-\u001b[0m\u001b[1;36m1\u001b[0m\u001b[1;33m]\u001b[0m\u001b[1;33m]\u001b[0m\u001b[1;33m)\u001b[0m\u001b[1;33m)\u001b[0m\u001b[1;33m,\u001b[0m \u001b[1;36m4\u001b[0m\u001b[1;33m)\u001b[0m\u001b[1;33m,\u001b[0m \u001b[1;34m\"\\t\"\u001b[0m\u001b[1;33m,\u001b[0m \u001b[0mround\u001b[0m\u001b[1;33m(\u001b[0m\u001b[1;36m1\u001b[0m \u001b[1;33m/\u001b[0m \u001b[1;33m(\u001b[0m\u001b[0mT\u001b[0m \u001b[1;33m-\u001b[0m \u001b[1;36m1\u001b[0m\u001b[1;33m)\u001b[0m \u001b[1;33m*\u001b[0m \u001b[0mnp\u001b[0m\u001b[1;33m.\u001b[0m\u001b[0mmean\u001b[0m\u001b[1;33m(\u001b[0m\u001b[0mnp\u001b[0m\u001b[1;33m.\u001b[0m\u001b[0marray\u001b[0m\u001b[1;33m(\u001b[0m\u001b[1;33m[\u001b[0m\u001b[0mnp\u001b[0m\u001b[1;33m.\u001b[0m\u001b[0mlinalg\u001b[0m\u001b[1;33m.\u001b[0m\u001b[0mnorm\u001b[0m\u001b[1;33m(\u001b[0m\u001b[1;33m(\u001b[0m\u001b[0mX\u001b[0m\u001b[1;33m[\u001b[0m\u001b[1;36m2\u001b[0m\u001b[1;33m:\u001b[0m\u001b[1;33m]\u001b[0m \u001b[1;33m-\u001b[0m \u001b[0mb\u001b[0m\u001b[1;33m)\u001b[0m \u001b[1;33m-\u001b[0m \u001b[0ma\u001b[0m \u001b[1;33m*\u001b[0m \u001b[1;33m(\u001b[0m\u001b[0mX\u001b[0m\u001b[1;33m[\u001b[0m\u001b[1;36m1\u001b[0m\u001b[1;33m:\u001b[0m\u001b[1;33m-\u001b[0m\u001b[1;36m1\u001b[0m\u001b[1;33m]\u001b[0m \u001b[1;33m-\u001b[0m \u001b[0mb\u001b[0m\u001b[1;33m)\u001b[0m\u001b[1;33m,\u001b[0m \u001b[1;36m2\u001b[0m\u001b[1;33m)\u001b[0m \u001b[1;33m**\u001b[0m \u001b[1;36m2\u001b[0m \u001b[1;32mfor\u001b[0m \u001b[0ma\u001b[0m\u001b[1;33m,\u001b[0m \u001b[0mb\u001b[0m \u001b[1;32min\u001b[0m \u001b[0mzip\u001b[0m\u001b[1;33m(\u001b[0m\u001b[0mhat_a\u001b[0m\u001b[1;33m[\u001b[0m\u001b[1;36m1\u001b[0m\u001b[1;33m:\u001b[0m\u001b[1;33m-\u001b[0m\u001b[1;36m1\u001b[0m\u001b[1;33m]\u001b[0m\u001b[1;33m,\u001b[0m \u001b[0mhat_b\u001b[0m\u001b[1;33m[\u001b[0m\u001b[1;36m1\u001b[0m\u001b[1;33m:\u001b[0m\u001b[1;33m-\u001b[0m\u001b[1;36m1\u001b[0m\u001b[1;33m]\u001b[0m\u001b[1;33m)\u001b[0m\u001b[1;33m]\u001b[0m\u001b[1;33m)\u001b[0m\u001b[1;33m)\u001b[0m\u001b[1;33m,\u001b[0m \u001b[1;36m4\u001b[0m\u001b[1;33m)\u001b[0m\u001b[1;33m)\u001b[0m\u001b[1;33m\u001b[0m\u001b[1;33m\u001b[0m\u001b[0m\n\u001b[1;32m---> 76\u001b[1;33m         \u001b[0mprint\u001b[0m\u001b[1;33m(\u001b[0m\u001b[1;34m\"true risk:\\t\\t\"\u001b[0m\u001b[1;33m,\u001b[0m \u001b[0mnp\u001b[0m\u001b[1;33m.\u001b[0m\u001b[0mround\u001b[0m\u001b[1;33m(\u001b[0m\u001b[0mnp\u001b[0m\u001b[1;33m.\u001b[0m\u001b[0marray\u001b[0m\u001b[1;33m(\u001b[0m\u001b[0mexpected_cost_ar\u001b[0m\u001b[1;33m(\u001b[0m\u001b[0ma\u001b[0m\u001b[1;33m,\u001b[0m \u001b[0ma\u001b[0m\u001b[1;33m,\u001b[0m \u001b[0mb\u001b[0m\u001b[1;33m,\u001b[0m \u001b[0mb_est\u001b[0m\u001b[1;33m)\u001b[0m\u001b[1;33m)\u001b[0m\u001b[1;33m,\u001b[0m \u001b[1;36m4\u001b[0m\u001b[1;33m)\u001b[0m\u001b[1;33m,\u001b[0m \u001b[1;34m\"\\t\"\u001b[0m\u001b[1;33m,\u001b[0m \u001b[0mround\u001b[0m\u001b[1;33m(\u001b[0m\u001b[0mnp\u001b[0m\u001b[1;33m.\u001b[0m\u001b[0mmean\u001b[0m\u001b[1;33m(\u001b[0m\u001b[0mnp\u001b[0m\u001b[1;33m.\u001b[0m\u001b[0marray\u001b[0m\u001b[1;33m(\u001b[0m\u001b[1;33m[\u001b[0m\u001b[0mexpected_cost_ar\u001b[0m\u001b[1;33m(\u001b[0m\u001b[0ma\u001b[0m\u001b[1;33m,\u001b[0m \u001b[0ma_hat\u001b[0m\u001b[1;33m,\u001b[0m \u001b[0mb\u001b[0m\u001b[1;33m,\u001b[0m \u001b[0mb_hat\u001b[0m\u001b[1;33m)\u001b[0m \u001b[1;32mfor\u001b[0m \u001b[0ma_hat\u001b[0m\u001b[1;33m,\u001b[0m \u001b[0mb_hat\u001b[0m \u001b[1;32min\u001b[0m \u001b[0mzip\u001b[0m\u001b[1;33m(\u001b[0m\u001b[0mhat_a\u001b[0m\u001b[1;33m[\u001b[0m\u001b[1;36m1\u001b[0m\u001b[1;33m:\u001b[0m\u001b[1;33m-\u001b[0m\u001b[1;36m1\u001b[0m\u001b[1;33m]\u001b[0m\u001b[1;33m,\u001b[0m \u001b[0mhat_b\u001b[0m\u001b[1;33m[\u001b[0m\u001b[1;36m1\u001b[0m\u001b[1;33m:\u001b[0m\u001b[1;33m-\u001b[0m\u001b[1;36m1\u001b[0m\u001b[1;33m]\u001b[0m\u001b[1;33m)\u001b[0m\u001b[1;33m]\u001b[0m\u001b[1;33m)\u001b[0m\u001b[1;33m)\u001b[0m\u001b[1;33m,\u001b[0m \u001b[1;36m4\u001b[0m\u001b[1;33m)\u001b[0m\u001b[1;33m)\u001b[0m\u001b[1;33m\u001b[0m\u001b[1;33m\u001b[0m\u001b[0m\n\u001b[0m\u001b[0;32m     77\u001b[0m         \u001b[0mprint\u001b[0m\u001b[1;33m(\u001b[0m\u001b[1;34m\"cross-validation score:\\t\"\u001b[0m\u001b[1;33m,\u001b[0m \u001b[0mround\u001b[0m\u001b[1;33m(\u001b[0m\u001b[1;36m1\u001b[0m \u001b[1;33m/\u001b[0m \u001b[1;33m(\u001b[0m\u001b[0mT\u001b[0m \u001b[1;33m-\u001b[0m \u001b[1;36m1\u001b[0m\u001b[1;33m)\u001b[0m \u001b[1;33m*\u001b[0m \u001b[0msum\u001b[0m\u001b[1;33m(\u001b[0m\u001b[0mCV_0\u001b[0m\u001b[1;33m)\u001b[0m\u001b[1;33m,\u001b[0m \u001b[1;36m4\u001b[0m\u001b[1;33m)\u001b[0m\u001b[1;33m,\u001b[0m \u001b[1;34m\"\\t\"\u001b[0m\u001b[1;33m,\u001b[0m \u001b[0mround\u001b[0m\u001b[1;33m(\u001b[0m\u001b[1;36m1\u001b[0m \u001b[1;33m/\u001b[0m \u001b[1;33m(\u001b[0m\u001b[0mT\u001b[0m \u001b[1;33m-\u001b[0m \u001b[1;36m1\u001b[0m\u001b[1;33m)\u001b[0m \u001b[1;33m*\u001b[0m \u001b[0msum\u001b[0m\u001b[1;33m(\u001b[0m\u001b[0mCV_1\u001b[0m\u001b[1;33m)\u001b[0m\u001b[1;33m,\u001b[0m \u001b[1;36m4\u001b[0m\u001b[1;33m)\u001b[0m\u001b[1;33m)\u001b[0m\u001b[1;33m\u001b[0m\u001b[1;33m\u001b[0m\u001b[0m\n\u001b[0;32m     78\u001b[0m         \u001b[0mprint\u001b[0m\u001b[1;33m(\u001b[0m\u001b[1;33m)\u001b[0m\u001b[1;33m\u001b[0m\u001b[1;33m\u001b[0m\u001b[0m\n",
      "\u001b[1;32m<ipython-input-18-a6c81a432a3b>\u001b[0m in \u001b[0;36mexpected_cost_ar\u001b[1;34m(a_true, a_est, b_true, b_est)\u001b[0m\n\u001b[0;32m      6\u001b[0m     \u001b[1;31m# components\u001b[0m\u001b[1;33m\u001b[0m\u001b[1;33m\u001b[0m\u001b[1;33m\u001b[0m\u001b[0m\n\u001b[0;32m      7\u001b[0m     \u001b[0mnoise\u001b[0m \u001b[1;33m=\u001b[0m \u001b[1;36m1\u001b[0m\u001b[1;33m\u001b[0m\u001b[1;33m\u001b[0m\u001b[0m\n\u001b[1;32m----> 8\u001b[1;33m     \u001b[0mb_diff\u001b[0m \u001b[1;33m=\u001b[0m \u001b[1;33m(\u001b[0m\u001b[0mb_true\u001b[0m \u001b[1;33m-\u001b[0m \u001b[0mb_est\u001b[0m\u001b[1;33m)\u001b[0m \u001b[1;33m*\u001b[0m \u001b[1;33m(\u001b[0m\u001b[1;33m(\u001b[0m\u001b[0mb_true\u001b[0m \u001b[1;33m-\u001b[0m \u001b[0mb_est\u001b[0m\u001b[1;33m)\u001b[0m \u001b[1;33m+\u001b[0m \u001b[1;33m(\u001b[0m\u001b[0ma_true\u001b[0m \u001b[1;33m-\u001b[0m \u001b[0ma_est\u001b[0m\u001b[1;33m)\u001b[0m \u001b[1;33m*\u001b[0m \u001b[0mb_true\u001b[0m \u001b[1;33m-\u001b[0m \u001b[0ma_true\u001b[0m \u001b[1;33m*\u001b[0m \u001b[0mb_true\u001b[0m \u001b[1;33m+\u001b[0m \u001b[0ma_est\u001b[0m \u001b[1;33m*\u001b[0m \u001b[0mb_est\u001b[0m\u001b[1;33m)\u001b[0m\u001b[1;33m\u001b[0m\u001b[1;33m\u001b[0m\u001b[0m\n\u001b[0m\u001b[0;32m      9\u001b[0m     \u001b[0mmean_X\u001b[0m \u001b[1;33m=\u001b[0m \u001b[1;33m(\u001b[0m\u001b[0ma_true\u001b[0m \u001b[1;33m-\u001b[0m \u001b[0ma_est\u001b[0m\u001b[1;33m)\u001b[0m \u001b[1;33m*\u001b[0m \u001b[0mb_true\u001b[0m \u001b[1;33m*\u001b[0m \u001b[1;33m(\u001b[0m\u001b[1;33m(\u001b[0m\u001b[0mb_true\u001b[0m \u001b[1;33m-\u001b[0m \u001b[0mb_est\u001b[0m\u001b[1;33m)\u001b[0m \u001b[1;33m-\u001b[0m \u001b[0ma_true\u001b[0m \u001b[1;33m*\u001b[0m \u001b[0mb_true\u001b[0m \u001b[1;33m+\u001b[0m \u001b[0ma_est\u001b[0m \u001b[1;33m*\u001b[0m \u001b[0mb_est\u001b[0m\u001b[1;33m)\u001b[0m\u001b[1;33m\u001b[0m\u001b[1;33m\u001b[0m\u001b[0m\n\u001b[0;32m     10\u001b[0m     \u001b[0mcov_x\u001b[0m \u001b[1;33m=\u001b[0m \u001b[1;33m(\u001b[0m\u001b[0ma_true\u001b[0m \u001b[1;33m-\u001b[0m \u001b[0ma_est\u001b[0m\u001b[1;33m)\u001b[0m \u001b[1;33m**\u001b[0m \u001b[1;36m2\u001b[0m \u001b[1;33m*\u001b[0m \u001b[0mcovariance_X\u001b[0m\u001b[1;33m\u001b[0m\u001b[1;33m\u001b[0m\u001b[0m\n",
      "\u001b[1;31mKeyboardInterrupt\u001b[0m: "
     ]
    }
   ],
   "source": [
    "a0, b, T, iters, iters2 = 0.99, 0, 5001, 100, 100\n",
    "count = ar_loocv_2(a0, b, T, iters, approx_b = True, one_pair = False, iter_estimate = True, iters2 = iters2)\n",
    "print(count / iters)\n",
    "\n",
    "a0, b, T, iters, iters2 = 0.999, 0, 5001, 100, 100\n",
    "count = ar_loocv_2(a0, b, T, iters, approx_b = True, one_pair = False, iter_estimate = True, iters2 = iters2)\n",
    "print(count / iters)\n",
    "\n",
    "a0, b, T, iters, iters2 = 0.9999, 0, 5001, 100, 100\n",
    "count = ar_loocv_2(a0, b, T, iters, approx_b = True, one_pair = False, iter_estimate = True, iters2 = iters2)\n",
    "print(count / iters)"
   ]
  },
  {
   "cell_type": "code",
   "execution_count": 67,
   "id": "970f7b88",
   "metadata": {},
   "outputs": [
    {
     "name": "stderr",
     "output_type": "stream",
     "text": [
      "  0%|                                                                                           | 0/25 [00:32<?, ?it/s]\n"
     ]
    },
    {
     "ename": "IndexError",
     "evalue": "index 49999 is out of bounds for axis 0 with size 49999",
     "output_type": "error",
     "traceback": [
      "\u001b[1;31m---------------------------------------------------------------------------\u001b[0m",
      "\u001b[1;31mIndexError\u001b[0m                                Traceback (most recent call last)",
      "\u001b[1;32m<ipython-input-67-3ef3073ec86b>\u001b[0m in \u001b[0;36m<module>\u001b[1;34m\u001b[0m\n\u001b[0;32m      8\u001b[0m \u001b[1;33m\u001b[0m\u001b[0m\n\u001b[0;32m      9\u001b[0m \u001b[0ma0\u001b[0m\u001b[1;33m,\u001b[0m \u001b[0mb\u001b[0m\u001b[1;33m,\u001b[0m \u001b[0mT\u001b[0m\u001b[1;33m,\u001b[0m \u001b[0miters\u001b[0m\u001b[1;33m,\u001b[0m \u001b[0miters2\u001b[0m \u001b[1;33m=\u001b[0m \u001b[1;36m0.9999\u001b[0m\u001b[1;33m,\u001b[0m \u001b[1;36m0\u001b[0m\u001b[1;33m,\u001b[0m \u001b[1;36m50001\u001b[0m\u001b[1;33m,\u001b[0m \u001b[1;36m25\u001b[0m\u001b[1;33m,\u001b[0m \u001b[1;36m100\u001b[0m\u001b[1;33m\u001b[0m\u001b[1;33m\u001b[0m\u001b[0m\n\u001b[1;32m---> 10\u001b[1;33m \u001b[0mcount\u001b[0m \u001b[1;33m=\u001b[0m \u001b[0mar_loocv_2\u001b[0m\u001b[1;33m(\u001b[0m\u001b[0ma0\u001b[0m\u001b[1;33m,\u001b[0m \u001b[0mb\u001b[0m\u001b[1;33m,\u001b[0m \u001b[0mT\u001b[0m\u001b[1;33m,\u001b[0m \u001b[0miters\u001b[0m\u001b[1;33m,\u001b[0m \u001b[0mapprox_b\u001b[0m \u001b[1;33m=\u001b[0m \u001b[1;32mTrue\u001b[0m\u001b[1;33m,\u001b[0m \u001b[0mone_pair\u001b[0m \u001b[1;33m=\u001b[0m \u001b[1;32mFalse\u001b[0m\u001b[1;33m,\u001b[0m \u001b[0miter_estimate\u001b[0m \u001b[1;33m=\u001b[0m \u001b[1;32mTrue\u001b[0m\u001b[1;33m,\u001b[0m \u001b[0miters2\u001b[0m \u001b[1;33m=\u001b[0m \u001b[0miters2\u001b[0m\u001b[1;33m)\u001b[0m\u001b[1;33m\u001b[0m\u001b[1;33m\u001b[0m\u001b[0m\n\u001b[0m\u001b[0;32m     11\u001b[0m \u001b[0mprint\u001b[0m\u001b[1;33m(\u001b[0m\u001b[0mcount\u001b[0m \u001b[1;33m/\u001b[0m \u001b[0miters\u001b[0m\u001b[1;33m)\u001b[0m\u001b[1;33m\u001b[0m\u001b[1;33m\u001b[0m\u001b[0m\n",
      "\u001b[1;32m<ipython-input-66-5a2fd8fd0960>\u001b[0m in \u001b[0;36mar_loocv_2\u001b[1;34m(a, b, T, iters, approx_b, iter_estimate, one_pair, iters2)\u001b[0m\n\u001b[0;32m     48\u001b[0m             \u001b[0mhat_a\u001b[0m\u001b[1;33m[\u001b[0m\u001b[1;36m1\u001b[0m\u001b[1;33m:\u001b[0m\u001b[1;33m-\u001b[0m\u001b[1;36m1\u001b[0m\u001b[1;33m]\u001b[0m \u001b[1;33m=\u001b[0m \u001b[0mget_a_hat_pair\u001b[0m\u001b[1;33m(\u001b[0m\u001b[0mX\u001b[0m\u001b[1;33m,\u001b[0m \u001b[0mhat_b\u001b[0m\u001b[1;33m)\u001b[0m\u001b[1;33m\u001b[0m\u001b[1;33m\u001b[0m\u001b[0m\n\u001b[0;32m     49\u001b[0m         \u001b[1;32melse\u001b[0m\u001b[1;33m:\u001b[0m\u001b[1;33m\u001b[0m\u001b[1;33m\u001b[0m\u001b[0m\n\u001b[1;32m---> 50\u001b[1;33m             \u001b[0mhat_a\u001b[0m\u001b[1;33m[\u001b[0m\u001b[1;36m1\u001b[0m\u001b[1;33m:\u001b[0m\u001b[1;33m-\u001b[0m\u001b[1;36m1\u001b[0m\u001b[1;33m]\u001b[0m \u001b[1;33m=\u001b[0m \u001b[0mget_a_hat_both_v2\u001b[0m\u001b[1;33m(\u001b[0m\u001b[0mX\u001b[0m\u001b[1;33m,\u001b[0m \u001b[0mhat_b\u001b[0m\u001b[1;33m)\u001b[0m\u001b[1;33m\u001b[0m\u001b[1;33m\u001b[0m\u001b[0m\n\u001b[0m\u001b[0;32m     51\u001b[0m \u001b[1;33m\u001b[0m\u001b[0m\n\u001b[0;32m     52\u001b[0m         \u001b[1;31m# compute LOOCV score for each sample excluding boundary\u001b[0m\u001b[1;33m\u001b[0m\u001b[1;33m\u001b[0m\u001b[1;33m\u001b[0m\u001b[0m\n",
      "\u001b[1;32m<ipython-input-65-11d146c83cda>\u001b[0m in \u001b[0;36mget_a_hat_both_v2\u001b[1;34m(X, b)\u001b[0m\n\u001b[0;32m     23\u001b[0m \u001b[1;33m\u001b[0m\u001b[0m\n\u001b[0;32m     24\u001b[0m     \u001b[1;32mfor\u001b[0m \u001b[0mt\u001b[0m \u001b[1;32min\u001b[0m \u001b[0mrange\u001b[0m\u001b[1;33m(\u001b[0m\u001b[1;36m1\u001b[0m\u001b[1;33m,\u001b[0m \u001b[0mT\u001b[0m \u001b[1;33m-\u001b[0m \u001b[1;36m1\u001b[0m\u001b[1;33m)\u001b[0m\u001b[1;33m:\u001b[0m\u001b[1;33m\u001b[0m\u001b[1;33m\u001b[0m\u001b[0m\n\u001b[1;32m---> 25\u001b[1;33m         \u001b[0mnomin\u001b[0m \u001b[1;33m=\u001b[0m \u001b[0mnp\u001b[0m\u001b[1;33m.\u001b[0m\u001b[0mdot\u001b[0m\u001b[1;33m(\u001b[0m\u001b[0mX\u001b[0m\u001b[1;33m[\u001b[0m\u001b[1;33m:\u001b[0m\u001b[1;33m-\u001b[0m\u001b[1;36m1\u001b[0m\u001b[1;33m]\u001b[0m \u001b[1;33m-\u001b[0m \u001b[0mhat_b\u001b[0m\u001b[1;33m[\u001b[0m\u001b[0mt\u001b[0m\u001b[1;33m]\u001b[0m\u001b[1;33m,\u001b[0m \u001b[0mX\u001b[0m\u001b[1;33m[\u001b[0m\u001b[1;36m1\u001b[0m\u001b[1;33m:\u001b[0m\u001b[1;33m]\u001b[0m  \u001b[1;33m-\u001b[0m \u001b[0mhat_b\u001b[0m\u001b[1;33m[\u001b[0m\u001b[0mt\u001b[0m\u001b[1;33m]\u001b[0m\u001b[1;33m)\u001b[0m \u001b[1;33m-\u001b[0m \u001b[1;33m(\u001b[0m\u001b[0mX\u001b[0m\u001b[1;33m[\u001b[0m\u001b[0mt\u001b[0m\u001b[1;33m]\u001b[0m \u001b[1;33m-\u001b[0m \u001b[0mhat_b\u001b[0m\u001b[1;33m[\u001b[0m\u001b[0mt\u001b[0m\u001b[1;33m]\u001b[0m\u001b[1;33m)\u001b[0m \u001b[1;33m*\u001b[0m \u001b[1;33m(\u001b[0m\u001b[0mX\u001b[0m\u001b[1;33m[\u001b[0m\u001b[0mt\u001b[0m \u001b[1;33m+\u001b[0m \u001b[1;36m1\u001b[0m\u001b[1;33m]\u001b[0m \u001b[1;33m-\u001b[0m \u001b[0mhat_b\u001b[0m\u001b[1;33m[\u001b[0m\u001b[0mt\u001b[0m\u001b[1;33m]\u001b[0m\u001b[1;33m)\u001b[0m \u001b[1;33m-\u001b[0m \u001b[1;33m(\u001b[0m\u001b[0mX\u001b[0m\u001b[1;33m[\u001b[0m\u001b[0mt\u001b[0m \u001b[1;33m-\u001b[0m \u001b[1;36m1\u001b[0m\u001b[1;33m]\u001b[0m \u001b[1;33m-\u001b[0m \u001b[0mhat_b\u001b[0m\u001b[1;33m[\u001b[0m\u001b[0mt\u001b[0m\u001b[1;33m]\u001b[0m\u001b[1;33m)\u001b[0m \u001b[1;33m*\u001b[0m \u001b[1;33m(\u001b[0m\u001b[0mX\u001b[0m\u001b[1;33m[\u001b[0m\u001b[0mt\u001b[0m\u001b[1;33m]\u001b[0m \u001b[1;33m-\u001b[0m \u001b[0mhat_b\u001b[0m\u001b[1;33m[\u001b[0m\u001b[0mt\u001b[0m\u001b[1;33m]\u001b[0m\u001b[1;33m)\u001b[0m\u001b[1;33m\u001b[0m\u001b[1;33m\u001b[0m\u001b[0m\n\u001b[0m\u001b[0;32m     26\u001b[0m         \u001b[0mdenom\u001b[0m \u001b[1;33m=\u001b[0m \u001b[0mnp\u001b[0m\u001b[1;33m.\u001b[0m\u001b[0mdot\u001b[0m\u001b[1;33m(\u001b[0m\u001b[0mX\u001b[0m\u001b[1;33m[\u001b[0m\u001b[1;33m:\u001b[0m\u001b[1;33m-\u001b[0m\u001b[1;36m1\u001b[0m\u001b[1;33m]\u001b[0m \u001b[1;33m-\u001b[0m \u001b[0mhat_b\u001b[0m\u001b[1;33m[\u001b[0m\u001b[0mt\u001b[0m\u001b[1;33m]\u001b[0m\u001b[1;33m,\u001b[0m \u001b[0mX\u001b[0m\u001b[1;33m[\u001b[0m\u001b[1;33m:\u001b[0m\u001b[1;33m-\u001b[0m\u001b[1;36m1\u001b[0m\u001b[1;33m]\u001b[0m \u001b[1;33m-\u001b[0m \u001b[0mhat_b\u001b[0m\u001b[1;33m[\u001b[0m\u001b[0mt\u001b[0m\u001b[1;33m]\u001b[0m\u001b[1;33m)\u001b[0m \u001b[1;33m-\u001b[0m \u001b[1;33m(\u001b[0m\u001b[0mX\u001b[0m\u001b[1;33m[\u001b[0m\u001b[0mt\u001b[0m\u001b[1;33m]\u001b[0m \u001b[1;33m-\u001b[0m \u001b[0mhat_b\u001b[0m\u001b[1;33m[\u001b[0m\u001b[0mt\u001b[0m\u001b[1;33m]\u001b[0m\u001b[1;33m)\u001b[0m \u001b[1;33m*\u001b[0m \u001b[1;33m(\u001b[0m\u001b[0mX\u001b[0m\u001b[1;33m[\u001b[0m\u001b[0mt\u001b[0m\u001b[1;33m]\u001b[0m     \u001b[1;33m-\u001b[0m \u001b[0mhat_b\u001b[0m\u001b[1;33m[\u001b[0m\u001b[0mt\u001b[0m\u001b[1;33m]\u001b[0m\u001b[1;33m)\u001b[0m \u001b[1;33m-\u001b[0m \u001b[1;33m(\u001b[0m\u001b[0mX\u001b[0m\u001b[1;33m[\u001b[0m\u001b[0mt\u001b[0m \u001b[1;33m-\u001b[0m \u001b[1;36m1\u001b[0m\u001b[1;33m]\u001b[0m \u001b[1;33m-\u001b[0m \u001b[0mhat_b\u001b[0m\u001b[1;33m[\u001b[0m\u001b[0mt\u001b[0m\u001b[1;33m]\u001b[0m\u001b[1;33m)\u001b[0m \u001b[1;33m*\u001b[0m \u001b[1;33m(\u001b[0m\u001b[0mX\u001b[0m\u001b[1;33m[\u001b[0m\u001b[0mt\u001b[0m \u001b[1;33m-\u001b[0m \u001b[1;36m1\u001b[0m\u001b[1;33m]\u001b[0m     \u001b[1;33m-\u001b[0m \u001b[0mhat_b\u001b[0m\u001b[1;33m[\u001b[0m\u001b[0mt\u001b[0m\u001b[1;33m]\u001b[0m\u001b[1;33m)\u001b[0m\u001b[1;33m\u001b[0m\u001b[1;33m\u001b[0m\u001b[0m\n\u001b[0;32m     27\u001b[0m \u001b[1;33m\u001b[0m\u001b[0m\n",
      "\u001b[1;31mIndexError\u001b[0m: index 49999 is out of bounds for axis 0 with size 49999"
     ]
    }
   ],
   "source": [
    "# a0, b, T, iters, iters2 = 0.99, 0, 10001, 25, 100\n",
    "# count = ar_loocv_2(a0, b, T, iters, approx_b = True, one_pair = False, iter_estimate = True, iters2 = iters2)\n",
    "# print(count / iters)\n",
    "\n",
    "# a0, b, T, iters, iters2 = 0.999, 0, 10001, 25, 100\n",
    "# count = ar_loocv_2(a0, b, T, iters, approx_b = True, one_pair = False, iter_estimate = True, iters2 = iters2)\n",
    "# print(count / iters)\n",
    "\n",
    "a0, b, T, iters, iters2 = 0.9999, 0, 50001, 25, 100\n",
    "count = ar_loocv_2(a0, b, T, iters, approx_b = True, one_pair = False, iter_estimate = True, iters2 = iters2)\n",
    "print(count / iters)"
   ]
  },
  {
   "cell_type": "code",
   "execution_count": null,
   "id": "376c6679",
   "metadata": {},
   "outputs": [],
   "source": [
    "# a \\ T | 5001    10001\n",
    "# 0.9900| 0.75   0.80\n",
    "# 0.9990| 0.70   0.88\n",
    "# 0.9999| 0.42   0.56\n",
    "#a = 0.999, T = 5001, 100 iters => 0.76\n",
    "#a = 0.990, T = 5001, 10 iters => 1.00"
   ]
  },
  {
   "cell_type": "code",
   "execution_count": null,
   "id": "8b0bb950",
   "metadata": {
    "scrolled": true
   },
   "outputs": [],
   "source": [
    "# remove X_k_pair.\n",
    "# Use estimate for b without a\n",
    "# Iteratively estimate a and b to find the true MLEs\n",
    "\n",
    "def regret(a, b, T, iters = 100, approx_b = True, iter_estimate = False, one_pair = True, iters2 = 5):\n",
    "    \n",
    "    count = 0\n",
    "    regrets = np.array([])\n",
    "    \n",
    "    for _ in tqdm(range(iters)):\n",
    "\n",
    "        ## generate AR(1) model\n",
    "        X = np.zeros(T)\n",
    "        X[0] = np.random.normal(b, np.sqrt(1 / (1 - a ** 2)))\n",
    "        \n",
    "        # generate noise\n",
    "        noises = np.random.normal(0, 1, T - 1)\n",
    "        \n",
    "        # iteratively get value of X\n",
    "        for t in range(1, T):\n",
    "            X[t] = b + a * (X[t - 1] - b) + noises[t - 1]\n",
    "\n",
    "        # get sum\n",
    "        sum_X = sum(X)\n",
    "\n",
    "        # LOOCV parameter estimates, CV scores\n",
    "        CV_0 = np.zeros(T - 1)\n",
    "        CV_1 = np.zeros(T - 1)\n",
    "        hat_a = np.zeros(T)\n",
    "        hat_b = np.zeros(T)\n",
    "        \n",
    "        b_est = ((sum_X - X[0]) - a * (sum_X - X[-1])) / ((T - 1) * (1 - a))\n",
    "        \n",
    "        hat_b_one = np.zeros(T)\n",
    "        \n",
    "        if one_pair:\n",
    "            hat_b_one[:-1] = ((sum_X - X[0] - X[1:]) - a * (sum_X - X[-1] - X[:-1])) / ((T - 2) * (1 - a))\n",
    "        else: \n",
    "            hat_b_one[1:-1] = ((sum_X - X[0] - X[1:-1] - X[2:]) - a * (sum_X - X[-1] - X[1:-1] - X[:-2])) / ((T - 3) * (1 - a))\n",
    "            \n",
    "        # estimate b, either exact or approximate\n",
    "        if not approx_b:\n",
    "            if one_pair:\n",
    "                hat_b[:-1] = ((sum_X - X[0] - X[1:]) - a * (sum_X - X[-1] - X[:-1])) / ((T - 2) * (1 - a))\n",
    "            else:\n",
    "                hat_b[1:-1] = ((sum_X - X[0] - X[1:-1] - X[2:]) - a * (sum_X - X[-1] - X[1:-1] - X[:-2])) / ((T - 3) * (1 - a))\n",
    "        else:\n",
    "            hat_b[:-1] = (sum_X - X[:-1]) / (T - 1)\n",
    "        \n",
    "        # estimate a, either remove pair (X_k, X_k+1) or also (X_k-1, X_k)\n",
    "        if one_pair:\n",
    "            hat_a[1:-1] = get_a_hat_pair(X, hat_b)\n",
    "        else:\n",
    "            hat_a[1:-1] = get_a_hat_both_v2(X, hat_b)\n",
    "        \n",
    "        # compute LOOCV score for each sample excluding boundary\n",
    "        for t in range(1, T - 1):      \n",
    "            # iteratively estimate to get optimal MLE estimates\n",
    "            if iter_estimate and one_pair:\n",
    "                hat_a[t], hat_b[t] = loocv_one_pair(hat_a[t], hat_b[t], X, t, sum_X, T, iters = iters2)                \n",
    "            elif iter_estimate and not one_pair:\n",
    "                hat_a[t], hat_b[t] = loocv_two_pair(hat_a[t], hat_b[t], X, t, sum_X, T, iters = iters2)\n",
    "\n",
    "            # compare a_est and b_est\n",
    "            CV_0[t] = (X[t + 1] - hat_b_one[t]    - a        * (X[t] - hat_b_one[t]))    ** 2\n",
    "            CV_1[t] = (X[t + 1] - hat_b[t] - hat_a[t] * (X[t] - hat_b[t])) ** 2\n",
    "            \n",
    "            # compare a_est and b_est\n",
    "#             CV_0[t] = (X[t + 1] - a        * X[t])    ** 2\n",
    "#             CV_1[t] = (X[t + 1] - hat_a[t] * X[t]) ** 2\n",
    "\n",
    "#         # get count   \n",
    "#         print(\"b:\", round(np.mean(b_est), 4), \"\\t\", round(np.mean(hat_b[1:-1]), 4))\n",
    "#         print(\"a:\", np.mean(a), \"\\t\", np.mean(hat_a[1:-1]))\n",
    "#         print()\n",
    "#         print(\"average empirical risk:\\t\", round(1 / (T - 1) * np.mean(np.array([np.linalg.norm((X[2:] - b) - a * (X[1:-1] - b), 2) ** 2 for b in hat_b_one[1:-1]])), 4), \"\\t\", round(1 / (T - 1) * np.mean(np.array([np.linalg.norm((X[2:] - b) - a * (X[1:-1] - b), 2) ** 2 for a, b in zip(hat_a[1:-1], hat_b[1:-1])])), 4))\n",
    "#         print(\"true risk:\\t\\t\", np.round(np.array(expected_cost_ar(a, a, b, b_est)), 4), \"\\t\", round(np.mean(np.array([expected_cost_ar(a, a_hat, b, b_hat) for a_hat, b_hat in zip(hat_a[1:-1], hat_b[1:-1])])), 4))\n",
    "#         print(\"cross-validation score:\\t\", round(1 / (T - 1) * sum(CV_0), 4), \"\\t\", round(1 / (T - 1) * sum(CV_1), 4))\n",
    "#         print()\n",
    "#         print(count)\n",
    "        \n",
    "        regret_v = np.mean(np.array([expected_cost_ar(a, a_hat, b, b_hat) for a_hat, b_hat in zip(hat_a[1:-1], hat_b[1:-1])])) / np.mean([expected_cost_ar(a, a, b, b_) for b_ in hat_b_one[1:-1]])\n",
    "        \n",
    "        regrets = np.append(regrets, 1 / regret_v)\n",
    "        count += (sum(CV_0) < sum(CV_1))\n",
    "        \n",
    "    \n",
    "    return count # np.mean(regrets), sem(regrets)\n",
    "\n",
    "a0, b, T, iters, iters2 = 0.9999, 0, 251, 500, 100\n",
    "\n",
    "avg_regrets = np.zeros((len(a_range), len(T_range)))\n",
    "avg_regrets_sem = np.zeros((len(a_range), len(T_range)))\n",
    "\n",
    "regret(a0, b, T, iters, approx_b = True, one_pair = True, iter_estimate = True, iters2 = iters2)\n",
    "\n",
    "# a_range = [0.0, 0.3, 0.6, 0.9, 0.99, 0.999]\n",
    "# T_range = [25, 50, 100, 150, 250, 501]\n",
    "# for i, a0 in enumerate(a_range):\n",
    "#     for j, T in enumerate(T_range):\n",
    "#         print(a0, T)\n",
    "#         print(regret(a0, b, T, iters, approx_b = True, one_pair = True, iter_estimate = True, iters2 = iters2))\n",
    "#         mean, se = regret(a0, b, T, iters, approx_b = True, one_pair = True, iter_estimate = True, iters2 = iters2)\n",
    "#         avg_regrets[i][j] = mean\n",
    "#         avg_regrets_sem[i][j] = se\n",
    "# print(f\"P(CV(a = a0 = {a0}) < CV(a = hat(a)) = {round(count / iters, 3)}.\")\n",
    "\n",
    "# count = martin_remove_x_k_both(a0, b, T, iters)\n",
    "# print(f\"P(CV(a = a0 = {a0}) < CV(a = hat(a)) = {round(count / iters, 3)}.\")"
   ]
  },
  {
   "cell_type": "code",
   "execution_count": 106,
   "id": "cb99938c",
   "metadata": {},
   "outputs": [
    {
     "name": "stdout",
     "output_type": "stream",
     "text": [
      "[[ 1.0480642   1.02091442  1.00909894  1.00655672  1.00350364  1.00212826]\n",
      " [ 1.04456183  1.01995044  1.00986059  1.00812533  1.00426459  1.0019606 ]\n",
      " [ 1.10638306  1.04098145  1.01568941  1.00797115  1.00403032  1.00209884]\n",
      " [ 1.3648935   1.12467009  1.04283281  1.01968675  1.00672374  1.00332585]\n",
      " [ 8.14916141  2.41329295  1.31661255  1.15386279  1.0401742   1.01415146]\n",
      " [64.60194287 26.71515464  5.08912391  2.53759801  1.66246127  1.21133113]]\n",
      "[[6.05165077e-03 2.33176999e-03 1.28872081e-03 8.90667920e-04\n",
      "  5.15079604e-04 3.05707397e-04]\n",
      " [7.44945150e-03 3.44995811e-03 1.51534387e-03 1.20620705e-03\n",
      "  5.53255913e-04 3.34951344e-04]\n",
      " [1.53300544e-02 7.04153209e-03 3.72524732e-03 1.71292499e-03\n",
      "  8.34972057e-04 2.87217264e-04]\n",
      " [6.36705270e-02 1.88556224e-02 9.73379121e-03 3.12286550e-03\n",
      "  9.97561317e-04 5.48009258e-04]\n",
      " [1.38880285e+00 2.56252308e-01 5.22266473e-02 3.50725557e-02\n",
      "  6.40099424e-03 2.00341633e-03]\n",
      " [1.14465131e+01 9.51095375e+00 8.97160272e-01 2.46872674e-01\n",
      "  1.12098243e-01 5.13804216e-02]]\n"
     ]
    }
   ],
   "source": [
    "print(avg_regrets)\n",
    "print(avg_regrets_sem)"
   ]
  },
  {
   "cell_type": "code",
   "execution_count": 114,
   "id": "1d0221d6",
   "metadata": {},
   "outputs": [
    {
     "data": {
      "image/png": "[encoded data removed]",
      "text/plain": [
       "<Figure size 720x288 with 1 Axes>"
      ]
     },
     "metadata": {
      "needs_background": "light"
     },
     "output_type": "display_data"
    },
    {
     "data": {
      "image/png": "[encoded data removed]",
      "text/plain": [
       "<Figure size 720x288 with 1 Axes>"
      ]
     },
     "metadata": {
      "needs_background": "light"
     },
     "output_type": "display_data"
    }
   ],
   "source": [
    "plt.figure(figsize = (10, 4))\n",
    "plt.title(f\"Relative regret: Ratio of Expected Risk using $a = a_0$, b estimated, vs. the LOOCV estimates\")\n",
    "plt.xlabel(r\"Value of $a$.\")\n",
    "\n",
    "for i, plot in enumerate(avg_regrets.T):\n",
    "    plt.plot(a_range, plot, label = f\"T = {T_range[i]}\")\n",
    "    # plt.fill_between(a_range, plot - avg_regrets_sem[:, i], plot + avg_regrets_sem[:, i], alpha = 0.1)\n",
    "    \n",
    "plt.legend(ncol=1, fancybox=True, shadow=True)\n",
    "plt.show()\n",
    "\n",
    "plt.figure(figsize = (10, 4))\n",
    "plt.title(f\"Relative regret: Ratio of Expected Risk using $a = a_0$, b estimated, vs. the LOOCV estimates\")\n",
    "plt.xlabel(r\"Value of $a$.\")\n",
    "\n",
    "for i, plot in enumerate(avg_regrets):\n",
    "    plt.plot(T_range, plot, label = f\"a = {a_range[i]}\")\n",
    "    plt.fill_between(T_range, plot - avg_regrets_sem[i], plot + avg_regrets_sem[i], alpha = 0.1)\n",
    "    \n",
    "plt.legend(ncol=1, fancybox=True, shadow=True)\n",
    "plt.show()"
   ]
  }
 ],
 "metadata": {
  "kernelspec": {
   "display_name": "Python 3.6.8 64-bit",
   "language": "python",
   "name": "python36864bit874e3a48d9b148faaa09714964fd179b"
  },
  "language_info": {
   "codemirror_mode": {
    "name": "ipython",
    "version": 3
   },
   "file_extension": ".py",
   "mimetype": "text/x-python",
   "name": "python",
   "nbconvert_exporter": "python",
   "pygments_lexer": "ipython3",
   "version": "3.6.8"
  }
 },
 "nbformat": 4,
 "nbformat_minor": 5
}
